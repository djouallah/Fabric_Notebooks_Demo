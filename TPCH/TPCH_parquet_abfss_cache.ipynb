{
 "cells": [
  {
   "cell_type": "code",
   "execution_count": 2,
   "id": "1d27b876-5875-4517-a44b-a33eefa38367",
   "metadata": {
    "microsoft": {
     "language": "python",
     "language_group": "jupyter_python"
    }
   },
   "outputs": [
    {
     "data": {
      "application/vnd.jupyter.statement-meta+json": {
       "execution_finish_time": "2025-05-14T10:05:36.9724191Z",
       "execution_start_time": "2025-05-14T10:04:50.128104Z",
       "normalized_state": "finished",
       "parent_msg_id": "abc1f53c-8b6b-493e-913b-334460add099",
       "queued_time": "2025-05-14T10:04:50.1270766Z",
       "session_id": "12dd0466-4f0d-41bb-af95-b6994306a7b6",
       "session_start_time": null
      }
     },
     "metadata": {},
     "output_type": "display_data"
    },
    {
     "name": "stdout",
     "output_type": "stream",
     "text": [
      "Requirement already satisfied: duckdb in /home/trusted-service-user/jupyter-env/python3.11/lib/python3.11/site-packages (1.2.0)\n",
      "Collecting duckdb\n",
      "  Downloading duckdb-1.3.0.dev3365-cp311-cp311-manylinux_2_27_x86_64.manylinux_2_28_x86_64.whl.metadata (7.0 kB)\n",
      "Downloading duckdb-1.3.0.dev3365-cp311-cp311-manylinux_2_27_x86_64.manylinux_2_28_x86_64.whl (21.0 MB)\n",
      "\u001b[2K   \u001b[90m━━━━━━━━━━━━━━━━━━━━━━━━━━━━━━━━━━━━━━━━\u001b[0m \u001b[32m21.0/21.0 MB\u001b[0m \u001b[31m92.5 MB/s\u001b[0m eta \u001b[36m0:00:00\u001b[0m:00:01\u001b[0m00:01\u001b[0m\n",
      "\u001b[?25hInstalling collected packages: duckdb\n",
      "  Attempting uninstall: duckdb\n",
      "    Found existing installation: duckdb 1.2.0\n",
      "    Uninstalling duckdb-1.2.0:\n",
      "      Successfully uninstalled duckdb-1.2.0\n",
      "sys.exit called with value 0. The interpreter will be restarted.\n",
      "Successfully installed duckdb-1.3.0.dev3365\n"
     ]
    }
   ],
   "source": [
    "!pip install duckdb  --pre --upgrade\n",
    "import sys\n",
    "sys.exit(0)"
   ]
  },
  {
   "cell_type": "code",
   "execution_count": null,
   "id": "f2a05261-81ee-4356-b046-40bb4445ed6d",
   "metadata": {
    "jupyter": {
     "outputs_hidden": false,
     "source_hidden": false
    },
    "microsoft": {
     "language": "python",
     "language_group": "jupyter_python"
    },
    "nteract": {
     "transient": {
      "deleting": false
     }
    },
    "tags": [
     "parameters"
    ]
   },
   "outputs": [
    {
     "data": {
      "application/vnd.jupyter.statement-meta+json": {
       "execution_finish_time": "2025-05-14T10:05:39.096631Z",
       "execution_start_time": "2025-05-14T10:05:36.9736737Z",
       "normalized_state": "finished",
       "parent_msg_id": "a7d76303-6a05-4d48-bc61-4dac19759728",
       "queued_time": "2025-05-14T10:04:50.1602485Z",
       "session_id": "12dd0466-4f0d-41bb-af95-b6994306a7b6",
       "session_start_time": null
      }
     },
     "metadata": {},
     "output_type": "display_data"
    }
   ],
   "source": [
    "SF = 10"
   ]
  },
  {
   "cell_type": "markdown",
   "id": "61c10ce0-921d-4efd-84d2-c12f79689b03",
   "metadata": {
    "microsoft": {
     "language": "python",
     "language_group": "jupyter_python"
    },
    "nteract": {
     "transient": {
      "deleting": false
     }
    }
   },
   "source": [
    "**<mark><u>Import</u></mark>**"
   ]
  },
  {
   "cell_type": "code",
   "execution_count": 4,
   "id": "73cbb7d3-7f21-4a9d-962d-c6962336de34",
   "metadata": {
    "jupyter": {
     "outputs_hidden": false,
     "source_hidden": false
    },
    "microsoft": {
     "language": "python",
     "language_group": "jupyter_python"
    },
    "nteract": {
     "transient": {
      "deleting": false
     }
    }
   },
   "outputs": [
    {
     "data": {
      "application/vnd.jupyter.statement-meta+json": {
       "execution_finish_time": "2025-05-14T10:05:53.0778222Z",
       "execution_start_time": "2025-05-14T10:05:39.0978918Z",
       "normalized_state": "finished",
       "parent_msg_id": "68def040-a88a-47d8-8a01-38a45b7272cd",
       "queued_time": "2025-05-14T10:04:50.2505098Z",
       "session_id": "12dd0466-4f0d-41bb-af95-b6994306a7b6",
       "session_start_time": null
      }
     },
     "metadata": {},
     "output_type": "display_data"
    }
   ],
   "source": [
    "import pandas           as pd\n",
    "from   deltalake        import DeltaTable ,convert_to_deltalake\n",
    "from   deltalake.writer import try_get_deltatable , write_deltalake\n",
    "from   datetime         import datetime\n",
    "from   psutil           import *\n",
    "import duckdb\n",
    "import pathlib\n",
    "import time"
   ]
  },
  {
   "cell_type": "code",
   "execution_count": 5,
   "id": "f797125a-0eb4-4857-87fc-014039315e07",
   "metadata": {
    "microsoft": {
     "language": "python",
     "language_group": "jupyter_python"
    }
   },
   "outputs": [
    {
     "data": {
      "application/vnd.jupyter.statement-meta+json": {
       "execution_finish_time": "2025-05-14T10:05:53.5312061Z",
       "execution_start_time": "2025-05-14T10:05:53.0788287Z",
       "normalized_state": "finished",
       "parent_msg_id": "f3f55763-2194-40ad-a796-4db5bb08cc12",
       "queued_time": "2025-05-14T10:04:50.3332129Z",
       "session_id": "12dd0466-4f0d-41bb-af95-b6994306a7b6",
       "session_start_time": null
      }
     },
     "metadata": {},
     "output_type": "display_data"
    }
   ],
   "source": [
    "lakehouse_abfss = 'abfss://disccache@onelake.dfs.fabric.microsoft.com/data.Lakehouse/Tables'\n",
    "result_path     = lakehouse_abfss + '/dbo/results'"
   ]
  },
  {
   "cell_type": "code",
   "execution_count": 6,
   "id": "8c90b2f9-7414-48c1-85ea-cc8778471865",
   "metadata": {
    "colab": {
     "base_uri": "https://localhost:8080/"
    },
    "id": "EBaTzprPfUC-",
    "microsoft": {
     "language": "python",
     "language_group": "jupyter_python"
    },
    "outputId": "f72721db-9b1e-4c70-d2c5-9c60ce022940"
   },
   "outputs": [
    {
     "data": {
      "application/vnd.jupyter.statement-meta+json": {
       "execution_finish_time": "2025-05-14T10:05:53.9730837Z",
       "execution_start_time": "2025-05-14T10:05:53.5323704Z",
       "normalized_state": "finished",
       "parent_msg_id": "304cc077-25ec-436c-b549-5f667ca5b037",
       "queued_time": "2025-05-14T10:04:50.4303367Z",
       "session_id": "12dd0466-4f0d-41bb-af95-b6994306a7b6",
       "session_start_time": null
      }
     },
     "metadata": {},
     "output_type": "display_data"
    },
    {
     "data": {
      "text/plain": [
       "2"
      ]
     },
     "execution_count": 5,
     "metadata": {},
     "output_type": "execute_result"
    }
   ],
   "source": [
    "core=cpu_count()\n",
    "core"
   ]
  },
  {
   "cell_type": "code",
   "execution_count": 7,
   "id": "9e31b2e1-eb49-4b7f-a8ab-7fb3909ddfc4",
   "metadata": {
    "microsoft": {
     "language": "python",
     "language_group": "jupyter_python"
    }
   },
   "outputs": [
    {
     "data": {
      "application/vnd.jupyter.statement-meta+json": {
       "execution_finish_time": "2025-05-14T10:05:54.4726978Z",
       "execution_start_time": "2025-05-14T10:05:53.9740866Z",
       "normalized_state": "finished",
       "parent_msg_id": "b30a42e8-b612-4a98-8bc6-25b41f8bc759",
       "queued_time": "2025-05-14T10:04:50.6188747Z",
       "session_id": "12dd0466-4f0d-41bb-af95-b6994306a7b6",
       "session_start_time": null
      }
     },
     "metadata": {},
     "output_type": "display_data"
    }
   ],
   "source": [
    "aadToken = notebookutils.credentials.getToken('storage')\n",
    "storage_options={\"bearer_token\": aadToken, \"use_fabric_endpoint\": \"true\"}"
   ]
  },
  {
   "cell_type": "code",
   "execution_count": 8,
   "id": "3d1af595-dddf-498e-8b88-df75dbe74289",
   "metadata": {
    "microsoft": {
     "language": "python",
     "language_group": "jupyter_python"
    }
   },
   "outputs": [
    {
     "data": {
      "application/vnd.jupyter.statement-meta+json": {
       "execution_finish_time": "2025-05-14T10:06:00.6170694Z",
       "execution_start_time": "2025-05-14T10:05:54.4739352Z",
       "normalized_state": "finished",
       "parent_msg_id": "f04bf878-5149-444c-bbb0-5fe9ca2f49b6",
       "queued_time": "2025-05-14T10:04:50.7916261Z",
       "session_id": "12dd0466-4f0d-41bb-af95-b6994306a7b6",
       "session_start_time": null
      }
     },
     "metadata": {},
     "output_type": "display_data"
    },
    {
     "name": "stdout",
     "output_type": "stream",
     "text": [
      "Already Generated\n",
      "CPU times: user 33.5 ms, sys: 8.23 ms, total: 41.7 ms\n",
      "Wall time: 5.53 s\n"
     ]
    }
   ],
   "source": [
    "%%time\n",
    "if not try_get_deltatable(f'{lakehouse_abfss}/CH{SF:02d}/part',storage_options=storage_options):\n",
    "    con=duckdb.connect()\n",
    "    con.sql(f\"\"\" ATTACH 'tpch_{SF:02d}.duckdb' AS db (STORAGE_VERSION 'v1.3.0') \"\"\")\n",
    "    con.sql(f\" use db\")\n",
    "    con.sql(f\"CALL dbgen(sf={SF})\")\n",
    "    for tbl in ['nation','region','customer','supplier','lineitem','orders','partsupp','part']:\n",
    "        print(tbl)\n",
    "        con.sql(f\"\"\"  COPY (FROM {tbl}) TO '/tmp/{tbl}'(FORMAT PARQUET,PARQUET_VERSION V2,PER_THREAD_OUTPUT TRUE,ROW_GROUP_SIZE 2_000_000 , overwrite) \"\"\")\n",
    "        ### copy the data from the local storage to onelake\n",
    "        notebookutils.fs.mv(f'/tmp/{tbl}', f'{lakehouse_abfss}/CH{SF:02d}', True, True)\n",
    "        convert_to_deltalake(f'{lakehouse_abfss}/CH{SF:02d}/{tbl}',storage_options=storage_options)\n",
    "    con.close()\n",
    "else:\n",
    "  print(\"Already Generated\")"
   ]
  },
  {
   "cell_type": "markdown",
   "id": "10f430f8-0620-46d7-8ca8-dc11014e93c9",
   "metadata": {
    "id": "gEz-IPJH2ZKR"
   },
   "source": [
    "# SQL Query"
   ]
  },
  {
   "cell_type": "code",
   "execution_count": 9,
   "id": "8b834fc6-6c23-464d-b053-f293071f3c12",
   "metadata": {
    "cellView": "form",
    "id": "AswfEpprgoJm",
    "jupyter": {
     "source_hidden": true
    },
    "microsoft": {
     "language": "python",
     "language_group": "jupyter_python"
    }
   },
   "outputs": [
    {
     "data": {
      "application/vnd.jupyter.statement-meta+json": {
       "execution_finish_time": "2025-05-14T10:06:01.0490355Z",
       "execution_start_time": "2025-05-14T10:06:00.6184275Z",
       "normalized_state": "finished",
       "parent_msg_id": "ca593f51-728e-499b-92b7-a40228d82cba",
       "queued_time": "2025-05-14T10:04:50.913029Z",
       "session_id": "12dd0466-4f0d-41bb-af95-b6994306a7b6",
       "session_start_time": null
      }
     },
     "metadata": {},
     "output_type": "display_data"
    }
   ],
   "source": [
    "# @title\n",
    "sql=(f'''\n",
    "SELECT\n",
    "    --Query01\n",
    "    l_returnflag,\n",
    "    l_linestatus,\n",
    "    SUM(l_quantity) AS sum_qty,\n",
    "    SUM(l_extendedprice) AS sum_base_price,\n",
    "    SUM(l_extendedprice * (1 - l_discount)) AS sum_disc_price,\n",
    "    SUM(l_extendedprice * (1 - l_discount) * (1 + l_tax)) AS sum_charge,\n",
    "    AVG(l_quantity) AS avg_qty,\n",
    "    AVG(l_extendedprice) AS avg_price,\n",
    "    AVG(l_discount) AS avg_disc,\n",
    "    COUNT(*) AS count_order\n",
    "FROM\n",
    "    lineitem\n",
    "WHERE\n",
    "    l_shipdate <= CAST('1998-09-02' AS date)\n",
    "GROUP BY\n",
    "    l_returnflag,\n",
    "    l_linestatus\n",
    "ORDER BY\n",
    "    l_returnflag,\n",
    "    l_linestatus;\n",
    "\n",
    "\n",
    "\n",
    "WITH cheapest_part AS (\n",
    "    SELECT\n",
    "        MIN(ps.ps_supplycost) AS cp_lowest,\n",
    "        p.p_partkey AS cp_partkey\n",
    "    FROM part p\n",
    "    JOIN partsupp ps ON p.p_partkey = ps.ps_partkey\n",
    "    JOIN supplier s ON s.s_suppkey = ps.ps_suppkey\n",
    "    JOIN nation n ON s.s_nationkey = n.n_nationkey\n",
    "    JOIN region r ON n.n_regionkey = r.r_regionkey\n",
    "    WHERE r.r_name = 'EUROPE'\n",
    "    GROUP BY p.p_partkey\n",
    ")\n",
    "SELECT\n",
    "    s.s_acctbal,\n",
    "    s.s_name,\n",
    "    n.n_name,\n",
    "    p.p_partkey,\n",
    "    p.p_mfgr,\n",
    "    s.s_address,\n",
    "    s.s_phone,\n",
    "    s.s_comment\n",
    "FROM part p\n",
    "JOIN partsupp ps ON p.p_partkey = ps.ps_partkey\n",
    "JOIN supplier s ON s.s_suppkey = ps.ps_suppkey\n",
    "JOIN nation n ON s.s_nationkey = n.n_nationkey\n",
    "JOIN region r ON n.n_regionkey = r.r_regionkey\n",
    "JOIN cheapest_part cp ON ps.ps_supplycost = cp.cp_lowest AND cp.cp_partkey = p.p_partkey\n",
    "WHERE p.p_size = 15\n",
    "  AND p.p_type LIKE '%BRASS'\n",
    "  AND r.r_name = 'EUROPE'\n",
    "ORDER BY s.s_acctbal DESC,\n",
    "         n.n_name,\n",
    "         s.s_name,\n",
    "         p.p_partkey\n",
    "LIMIT 10;\n",
    "\n",
    "\n",
    "\n",
    "\n",
    "\n",
    "\n",
    "\n",
    "\n",
    "\n",
    "SELECT\n",
    "    l.l_orderkey,\n",
    "    SUM(l.l_extendedprice * (1 - l.l_discount)) AS revenue,\n",
    "    o.o_orderdate,\n",
    "    o.o_shippriority\n",
    "FROM\n",
    "    customer c\n",
    "JOIN orders o ON c.c_custkey = o.o_custkey\n",
    "JOIN lineitem l ON l.l_orderkey = o.o_orderkey\n",
    "WHERE\n",
    "    c.c_mktsegment = 'BUILDING'\n",
    "    AND o.o_orderdate < CAST('1995-03-15' AS DATE)\n",
    "    AND l.l_shipdate > CAST('1995-03-15' AS DATE)\n",
    "GROUP BY\n",
    "    l.l_orderkey,\n",
    "    o.o_orderdate,\n",
    "    o.o_shippriority\n",
    "ORDER BY\n",
    "    revenue DESC,\n",
    "    o.o_orderdate\n",
    "LIMIT 10;\n",
    "\n",
    "\n",
    "\n",
    "\n",
    "\n",
    "\n",
    "\n",
    "\n",
    "\n",
    "select\n",
    "--Query04\n",
    "\to_orderpriority,\n",
    "\tcount(*) as order_count\n",
    "from\n",
    "\torders\n",
    "where\n",
    "\to_orderdate >= cast('1993-07-01' as date)\n",
    "\tand o_orderdate < cast('1993-10-01' as date)\n",
    "\tand o_orderkey in (\n",
    "\t\tselect\n",
    "\t\t\tl_orderkey\n",
    "\t\tfrom\n",
    "\t\t\tlineitem\n",
    "\t\twhere\n",
    "\t\t\tl_commitdate < l_receiptdate\n",
    "\t)\n",
    "group by\n",
    "\to_orderpriority\n",
    "order by\n",
    "\to_orderpriority;\n",
    "\n",
    "\n",
    "\n",
    "\n",
    "SELECT\n",
    "    --Query05\n",
    "    n_name,\n",
    "    SUM(l_extendedprice * (1 - l_discount)) AS revenue\n",
    "FROM lineitem\n",
    "inner join (select * from orders where o_orderdate >= '1994-01-01' AND o_orderdate < '1995-01-01') as x\n",
    "on l_orderkey = x.o_orderkey\n",
    "left join supplier\n",
    "on l_suppkey = s_suppkey\n",
    "left join customer\n",
    "on o_custkey = c_custkey and\n",
    "c_nationkey = s_nationkey\n",
    "left join nation\n",
    "on s_nationkey = n_nationkey\n",
    "inner join ( select * from region where r_name = 'ASIA') as xx\n",
    "on n_regionkey = xx.r_regionkey\n",
    "\n",
    "GROUP BY\n",
    "    n_name\n",
    "ORDER BY\n",
    "    revenue DESC;\n",
    "\n",
    "\n",
    "SELECT\n",
    "    --Query06\n",
    "    SUM(l_extendedprice * l_discount) AS revenue\n",
    "FROM\n",
    "    lineitem\n",
    "WHERE\n",
    "    l_shipdate >= CAST('1994-01-01' AS date)\n",
    "    AND l_shipdate < CAST('1995-01-01' AS date)\n",
    "    AND l_discount BETWEEN 0.05\n",
    "    AND 0.07\n",
    "    AND l_quantity < 24;\n",
    "\n",
    "\n",
    "\n",
    "\n",
    "\n",
    "\n",
    "\n",
    "SELECT\n",
    "    --Query07\n",
    "    supp_nation,\n",
    "    cust_nation,\n",
    "    l_year,\n",
    "    SUM(volume) AS revenue\n",
    "FROM (\n",
    "    SELECT\n",
    "        n1.n_name AS supp_nation,\n",
    "        n2.n_name AS cust_nation,\n",
    "        EXTRACT(YEAR FROM l.l_shipdate) AS l_year,\n",
    "        l.l_extendedprice * (1 - l.l_discount) AS volume\n",
    "    FROM\n",
    "        supplier s\n",
    "    JOIN lineitem l ON s.s_suppkey = l.l_suppkey\n",
    "    JOIN orders o ON o.o_orderkey = l.l_orderkey\n",
    "    JOIN customer c ON c.c_custkey = o.o_custkey\n",
    "    JOIN nation n1 ON s.s_nationkey = n1.n_nationkey\n",
    "    JOIN nation n2 ON c.c_nationkey = n2.n_nationkey\n",
    "    WHERE\n",
    "        (n1.n_name = 'FRANCE' AND n2.n_name = 'GERMANY')\n",
    "        OR (n1.n_name = 'GERMANY' AND n2.n_name = 'FRANCE')\n",
    "        AND l.l_shipdate BETWEEN CAST('1995-01-01' AS DATE) AND CAST('1996-12-31' AS DATE)\n",
    ") AS shipping\n",
    "GROUP BY\n",
    "    supp_nation,\n",
    "    cust_nation,\n",
    "    l_year\n",
    "ORDER BY\n",
    "    supp_nation,\n",
    "    cust_nation,\n",
    "    l_year;\n",
    "\n",
    "\n",
    "\n",
    "\n",
    "\n",
    "\n",
    "\n",
    "\n",
    "SELECT\n",
    "    --Query08\n",
    "        EXTRACT( year  FROM  o_orderdate ) AS o_year,\n",
    "        SUM(  CASE  WHEN n2.n_name = 'BRAZIL' THEN l_extendedprice * (1 - l_discount) ELSE 0  END ) / SUM(l_extendedprice * (1 - l_discount)) AS mkt_share\n",
    "        FROM  lineitem\n",
    "        inner join   (select o_custkey,o_orderdate, o_orderkey from  orders WHERE  o_orderdate BETWEEN CAST('1995-01-01' AS date) AND CAST('1996-12-31' AS date) ) xxx\n",
    "        on l_orderkey = xxx.o_orderkey\n",
    "        inner join  (select p_partkey from  part  where p_type = 'ECONOMY ANODIZED STEEL' ) z\n",
    "        on  l_partkey = z.p_partkey\n",
    "        left join    supplier\n",
    "        on  l_suppkey = s_suppkey\n",
    "        left join   customer\n",
    "        on o_custkey = c_custkey\n",
    "        left join   nation n1\n",
    "        on c_nationkey = n1.n_nationkey\n",
    "        left join   nation n2\n",
    "        on s_nationkey = n2.n_nationkey\n",
    "        inner join  (select * from region where r_name = 'AMERICA') cc\n",
    "        on  n1.n_regionkey = cc.r_regionkey\n",
    "\n",
    "\n",
    "\n",
    "\n",
    "GROUP BY\n",
    "    o_year\n",
    "ORDER BY\n",
    "    o_year;\n",
    "\n",
    "\n",
    "\n",
    "\n",
    "\n",
    "\n",
    "\n",
    "\n",
    "\n",
    "\n",
    "SELECT\n",
    "    --Query09\n",
    "    n_name AS nation,\n",
    "    EXTRACT( year  FROM o_orderdate ) AS o_year,\n",
    "    sum(l_extendedprice * (1 - l_discount) - ps_supplycost * l_quantity) AS sum_profit\n",
    "        FROM lineitem\n",
    "        inner join ( select p_partkey from part where  p_name LIKE '%green%') xx\n",
    "        on  l_partkey = xx.p_partkey\n",
    "        left join orders\n",
    "        on  l_orderkey =o_orderkey\n",
    "        left join  partsupp\n",
    "        on  l_suppkey =ps_suppkey  AND  l_partkey = ps_partkey\n",
    "        left join  supplier\n",
    "        on    l_suppkey =s_suppkey\n",
    "        left join nation\n",
    "        on  n_nationkey = s_nationkey\n",
    "\n",
    "\n",
    "GROUP BY\n",
    "    n_name,\n",
    "    o_year\n",
    "ORDER BY\n",
    "    n_name,\n",
    "    o_year DESC;\n",
    "\n",
    "\n",
    "\n",
    "SELECT\n",
    "    --Query10\n",
    "    c_custkey,\n",
    "    c_name,\n",
    "    SUM(l_extendedprice * (1 - l_discount)) AS revenue,\n",
    "    c_acctbal,\n",
    "    n_name,\n",
    "    c_address,\n",
    "    c_phone,\n",
    "    c_comment\n",
    "FROM  lineitem\n",
    "inner join ( select * from orders where o_orderdate >= '1993-10-01' AND o_orderdate < '1994-01-01') as xx\n",
    "on l_orderkey = xx.o_orderkey\n",
    "left join customer\n",
    "on xx.o_custkey = c_custkey\n",
    "left join nation\n",
    "on c_nationkey = n_nationkey\n",
    "WHERE  l_returnflag = 'R'\n",
    "\n",
    "GROUP BY\n",
    "    c_custkey,\n",
    "    c_name,\n",
    "    c_acctbal,\n",
    "    c_phone,\n",
    "    n_name,\n",
    "    c_address,\n",
    "    c_comment\n",
    "ORDER BY\n",
    "    revenue DESC\n",
    "LIMIT\n",
    "    20;\n",
    "\n",
    "\n",
    "\n",
    "\n",
    "\n",
    "\n",
    "\n",
    "SELECT\n",
    "    ps.ps_partkey,\n",
    "    SUM(ps.ps_supplycost * ps.ps_availqty) AS value\n",
    "FROM\n",
    "    partsupp ps\n",
    "JOIN supplier s ON ps.ps_suppkey = s.s_suppkey\n",
    "JOIN nation n ON s.s_nationkey = n.n_nationkey\n",
    "WHERE\n",
    "    n.n_name = 'GERMANY'\n",
    "GROUP BY\n",
    "    ps.ps_partkey\n",
    "HAVING\n",
    "    SUM(ps.ps_supplycost * ps.ps_availqty) > (\n",
    "        SELECT\n",
    "            SUM(ps_inner.ps_supplycost * ps_inner.ps_availqty) * (0.0001 / {SF})\n",
    "        FROM\n",
    "            partsupp ps_inner\n",
    "        JOIN supplier s_inner ON ps_inner.ps_suppkey = s_inner.s_suppkey\n",
    "        JOIN nation n_inner ON s_inner.s_nationkey = n_inner.n_nationkey\n",
    "        WHERE\n",
    "            n_inner.n_name = 'GERMANY'\n",
    "    )\n",
    "ORDER BY\n",
    "    value DESC;\n",
    "\n",
    "\n",
    "\n",
    "\n",
    "\n",
    "\n",
    "\n",
    "\n",
    "\n",
    "SELECT\n",
    "    --Query12\n",
    "    l_shipmode,\n",
    "    SUM(\n",
    "        CASE\n",
    "            WHEN o_orderpriority = '1-URGENT'\n",
    "            OR o_orderpriority = '2-HIGH' THEN 1\n",
    "            ELSE 0\n",
    "        END\n",
    "    ) AS high_line_count,\n",
    "    SUM(\n",
    "        CASE\n",
    "            WHEN o_orderpriority <> '1-URGENT'\n",
    "            AND o_orderpriority <> '2-HIGH' THEN 1\n",
    "            ELSE 0\n",
    "        END\n",
    "    ) AS low_line_count\n",
    "FROM lineitem\n",
    "left join  orders\n",
    "on o_orderkey = l_orderkey\n",
    "\n",
    "WHERE  l_shipmode IN ('MAIL', 'SHIP')\n",
    "       AND l_commitdate < l_receiptdate\n",
    "       AND l_shipdate < l_commitdate\n",
    "       AND l_receiptdate >=  '1994-01-01'  AND l_receiptdate < '1995-01-01'\n",
    "GROUP BY\n",
    "    l_shipmode\n",
    "ORDER BY\n",
    "    l_shipmode;\n",
    "\n",
    "\n",
    "\n",
    "\n",
    "\n",
    "\n",
    "\n",
    "\n",
    "SELECT\n",
    "    --Query13\n",
    "    c_count,\n",
    "    COUNT(*) AS custdist\n",
    "FROM\n",
    "    (\n",
    "        SELECT\n",
    "            c_custkey,\n",
    "            COUNT(o_orderkey) AS c_count\n",
    "        FROM\n",
    "            customer\n",
    "            LEFT OUTER JOIN orders ON c_custkey = o_custkey\n",
    "            AND o_comment NOT LIKE '%special%requests%'\n",
    "        GROUP BY\n",
    "            c_custkey\n",
    "    ) AS c_orders\n",
    "GROUP BY\n",
    "    c_count\n",
    "ORDER BY\n",
    "    custdist DESC,\n",
    "    c_count DESC;\n",
    "\n",
    "\n",
    "\n",
    "\n",
    "\n",
    "\n",
    "\n",
    "\n",
    "SELECT\n",
    "    --Query14\n",
    "    100.00 * SUM(\n",
    "        CASE\n",
    "            WHEN p_type LIKE 'PROMO%' THEN l_extendedprice * (1 - l_discount)\n",
    "            ELSE 0\n",
    "        END\n",
    "    ) / SUM(l_extendedprice * (1 - l_discount)) AS promo_revenue\n",
    "FROM  lineitem\n",
    "left join part\n",
    "on l_partkey = p_partkey\n",
    "WHERE l_shipdate >= cast('1995-09-01' as date) AND l_shipdate < cast('1995-10-01' as date);\n",
    "\n",
    "\n",
    "\n",
    "\n",
    "\n",
    "\n",
    "\n",
    "\n",
    "SELECT\n",
    "    --Query15\n",
    "    s_suppkey,\n",
    "    s_name,\n",
    "    s_address,\n",
    "    s_phone,\n",
    "    total_revenue\n",
    "FROM\n",
    "    supplier,\n",
    "    (\n",
    "        SELECT\n",
    "            l_suppkey AS supplier_no,\n",
    "            SUM(l_extendedprice * (1 - l_discount)) AS total_revenue\n",
    "        FROM\n",
    "            lineitem\n",
    "        WHERE\n",
    "            l_shipdate >= CAST('1996-01-01' AS date)\n",
    "            AND l_shipdate < CAST('1996-04-01' AS date)\n",
    "        GROUP BY\n",
    "            l_suppkey\n",
    "    ) revenue0\n",
    "WHERE\n",
    "    s_suppkey = supplier_no\n",
    "    AND total_revenue = (\n",
    "        SELECT\n",
    "            MAX(total_revenue)\n",
    "        FROM\n",
    "            (\n",
    "                SELECT\n",
    "                    l_suppkey AS supplier_no,\n",
    "                    SUM(l_extendedprice * (1 - l_discount)) AS total_revenue\n",
    "                FROM\n",
    "                    lineitem\n",
    "                WHERE\n",
    "                    l_shipdate >= CAST('1996-01-01' AS date)\n",
    "                    AND l_shipdate < CAST('1996-04-01' AS date)\n",
    "                GROUP BY\n",
    "                    l_suppkey\n",
    "            ) revenue1\n",
    "    )\n",
    "ORDER BY\n",
    "    s_suppkey;\n",
    "\n",
    "\n",
    "\n",
    "\n",
    "\n",
    "\n",
    "\n",
    "\n",
    "SELECT\n",
    "    --Query16\n",
    "    p.p_brand,\n",
    "    p.p_type,\n",
    "    p.p_size,\n",
    "    COUNT(DISTINCT ps.ps_suppkey) AS supplier_cnt\n",
    "FROM\n",
    "    partsupp ps\n",
    "JOIN part p ON p.p_partkey = ps.ps_partkey\n",
    "WHERE\n",
    "    p.p_brand <> 'Brand#45'\n",
    "    AND p.p_type NOT LIKE 'MEDIUM POLISHED%'\n",
    "    AND p.p_size IN (49, 14, 23, 45, 19, 3, 36, 9)\n",
    "    AND ps.ps_suppkey NOT IN (\n",
    "        SELECT\n",
    "            s.s_suppkey\n",
    "        FROM\n",
    "            supplier s\n",
    "        WHERE\n",
    "            s.s_comment LIKE '%Customer%Complaints%'\n",
    "    )\n",
    "GROUP BY\n",
    "    p.p_brand,\n",
    "    p.p_type,\n",
    "    p.p_size\n",
    "ORDER BY\n",
    "    supplier_cnt DESC,\n",
    "    p.p_brand,\n",
    "    p.p_type,\n",
    "    p.p_size;\n",
    "\n",
    "\n",
    "\n",
    "\n",
    "\n",
    "\n",
    "\n",
    "\n",
    "\n",
    "WITH part_avg AS (\n",
    "    -- Query17\n",
    "    SELECT\n",
    "        (0.2 * AVG(l.l_quantity)) AS limit_qty,\n",
    "        l.l_partkey AS lpk\n",
    "    FROM lineitem l\n",
    "    GROUP BY l.l_partkey\n",
    ")\n",
    "SELECT\n",
    "    SUM(l.l_extendedprice) / 7.0 AS avg_yearly\n",
    "FROM\n",
    "    lineitem l\n",
    "JOIN part p ON p.p_partkey = l.l_partkey\n",
    "JOIN part_avg pa ON p.p_partkey = pa.lpk\n",
    "WHERE\n",
    "    p.p_brand = 'Brand#23'\n",
    "    AND p.p_container = 'MED BOX'\n",
    "    AND l.l_quantity < pa.limit_qty;\n",
    "\n",
    "\n",
    "\n",
    "\n",
    "\n",
    "\n",
    "\n",
    "SELECT\n",
    "    --Query18\n",
    "    c.c_name,\n",
    "    c.c_custkey,\n",
    "    o.o_orderkey,\n",
    "    o.o_orderdate,\n",
    "    o.o_totalprice,\n",
    "    SUM(l.l_quantity)\n",
    "FROM\n",
    "    customer c\n",
    "JOIN orders o ON c.c_custkey = o.o_custkey\n",
    "JOIN lineitem l ON o.o_orderkey = l.l_orderkey\n",
    "WHERE\n",
    "    o.o_orderkey IN (\n",
    "        SELECT\n",
    "            l_orderkey\n",
    "        FROM\n",
    "            lineitem\n",
    "        GROUP BY\n",
    "            l_orderkey\n",
    "        HAVING\n",
    "            SUM(l_quantity) > 300\n",
    "    )\n",
    "GROUP BY\n",
    "    c.c_name,\n",
    "    c.c_custkey,\n",
    "    o.o_orderkey,\n",
    "    o.o_orderdate,\n",
    "    o.o_totalprice\n",
    "ORDER BY\n",
    "    o.o_totalprice DESC,\n",
    "    o.o_orderdate\n",
    "LIMIT\n",
    "    100;\n",
    "\n",
    "\n",
    "\n",
    "\n",
    "\n",
    "\n",
    "select\n",
    "--Query19\n",
    "sum(l_extendedprice* (1 - l_discount)) as revenue\n",
    "\n",
    "from lineitem\n",
    "join  part\n",
    "ON p_partkey = l_partkey\n",
    "where (\n",
    "\t\tp_brand = 'Brand#12'\n",
    "\t\tand p_container in ('SM CASE', 'SM BOX', 'SM PACK', 'SM PKG')\n",
    "\t\tand l_quantity >= 1 and l_quantity <= 1 + 10\n",
    "\t\tand p_size between 1 and 5\n",
    "\t\tand l_shipmode in ('AIR', 'AIR REG')\n",
    "\t\tand l_shipinstruct = 'DELIVER IN PERSON'\n",
    "\t) or ( p_partkey = l_partkey\n",
    "\t\tand p_brand = 'Brand#23'\n",
    "\t\tand p_container in ('MED BAG', 'MED BOX', 'MED PKG', 'MED PACK')\n",
    "\t\tand l_quantity >= 10 and l_quantity <= 10 + 10\n",
    "\t\tand p_size between 1 and 10\n",
    "\t\tand l_shipmode in ('AIR', 'AIR REG')\n",
    "\t\tand l_shipinstruct = 'DELIVER IN PERSON'\n",
    "\t) or ( p_partkey = l_partkey\n",
    "\t\tand p_brand = 'Brand#34'\n",
    "\t\tand p_container in ('LG CASE', 'LG BOX', 'LG PACK', 'LG PKG')\n",
    "\t\tand l_quantity >= 20 and l_quantity <= 20 + 10\n",
    "\t\tand p_size between 1 and 15\n",
    "\t\tand l_shipmode in ('AIR', 'AIR REG')\n",
    "\t\tand l_shipinstruct = 'DELIVER IN PERSON'\n",
    "\t);\n",
    "\n",
    "\n",
    "\n",
    "\n",
    "\n",
    "--Query20\n",
    "with availability_part_supp as(\n",
    "\t    select 0.5 * sum(l_quantity) as ps_halfqty, l_partkey as pkey, l_suppkey as skey\n",
    "\t    from lineitem\n",
    "\t    where l_shipdate >= cast('1994-01-01' as date)\n",
    "\t    and l_shipdate < cast('1995-01-01' as date)\n",
    "\t    group by pkey, skey\n",
    ")\n",
    "select s_name, s_address\n",
    "from supplier, nation\n",
    "where s_suppkey in (\n",
    "\t    select ps_suppkey\n",
    "\t    from partsupp, availability_part_supp\n",
    "\t    where ps_partkey in (\n",
    "\t\t        select p_partkey\n",
    "\t\t\t        from part\n",
    "\t\t\t\t        where p_name like 'forest%'\n",
    "\t\t\t\t\t    )\n",
    "\t\t\t\t\t    and ps_partkey = pkey\n",
    "\t\t\t\t\t    and ps_suppkey = skey\n",
    "\t\t\t\t\t    and ps_availqty > ps_halfqty\n",
    "\t\t\t\t)\n",
    "\t\t\t\tand s_nationkey = n_nationkey\n",
    "\t\t\t\tand n_name = 'CANADA'\n",
    "\t\t\t\torder by s_name;\n",
    "\n",
    "\n",
    "\n",
    "\n",
    "\n",
    "\n",
    "SELECT\n",
    "    --Query21\n",
    "    s.s_name,\n",
    "    COUNT(*) AS numwait\n",
    "FROM\n",
    "    supplier s\n",
    "JOIN lineitem l1 ON s.s_suppkey = l1.l_suppkey\n",
    "JOIN orders o ON o.o_orderkey = l1.l_orderkey\n",
    "JOIN nation n ON s.s_nationkey = n.n_nationkey\n",
    "WHERE\n",
    "    o.o_orderstatus = 'F'\n",
    "    AND l1.l_receiptdate > l1.l_commitdate\n",
    "    AND l1.l_orderkey IN (\n",
    "        SELECT l_orderkey\n",
    "        FROM lineitem\n",
    "        GROUP BY l_orderkey\n",
    "        HAVING COUNT(l_suppkey) > 1\n",
    "    )\n",
    "    AND l1.l_orderkey NOT IN (\n",
    "        SELECT l_orderkey\n",
    "        FROM lineitem\n",
    "        WHERE l_receiptdate > l_commitdate\n",
    "        GROUP BY l_orderkey\n",
    "        HAVING COUNT(l_suppkey) > 1\n",
    "    )\n",
    "    AND n.n_name = 'SAUDI ARABIA'\n",
    "GROUP BY s.s_name\n",
    "ORDER BY numwait DESC, s.s_name\n",
    "LIMIT 100;\n",
    "\n",
    "\n",
    "\n",
    "\n",
    "\n",
    "select\n",
    "--Query22\n",
    "cntrycode,\n",
    "\tcount(*) as numcust,\n",
    "\tsum(c_acctbal) as totacctbal\n",
    "from ( select\n",
    "\t\t\tsubstring(c_phone from 1 for 2) as cntrycode,\n",
    "\t\t\tc_acctbal\n",
    "\t\tfrom customer\n",
    "\t\twhere substring(c_phone from 1 for 2) in\n",
    "\t\t\t\t('13', '31', '23', '29', '30', '18', '17')\n",
    "\t\t\tand c_acctbal > (\n",
    "\t\t\t\tselect avg(c_acctbal)\n",
    "\t\t\t\tfrom customer\n",
    "\t\t\t\twhere c_acctbal > 0\n",
    "\t\t\t\t\tand substring(c_phone from 1 for 2) in\n",
    "\t\t\t\t\t\t('13', '31', '23', '29', '30', '18', '17')\n",
    "\t\t\t)\n",
    "\t\t\tand c_custkey not in (\n",
    "\t\t\t\tselect o_custkey\n",
    "\t\t\t\tfrom orders\n",
    "\t\t\t)\n",
    "\t) as custsale\n",
    "group by cntrycode\n",
    "order by cntrycode;\n",
    "\n",
    "''')"
   ]
  },
  {
   "cell_type": "markdown",
   "id": "a9b7c482-3aca-445b-9236-7c8ba99f8fbf",
   "metadata": {
    "id": "3Ox-J17oJLur"
   },
   "source": [
    "# Utility Function"
   ]
  },
  {
   "cell_type": "code",
   "execution_count": 10,
   "id": "86758c63-1fc5-4ece-8737-629b0cfdc8c1",
   "metadata": {
    "id": "sDAqMES0IgKR",
    "jupyter": {
     "source_hidden": true
    },
    "microsoft": {
     "language": "python",
     "language_group": "jupyter_python"
    }
   },
   "outputs": [
    {
     "data": {
      "application/vnd.jupyter.statement-meta+json": {
       "execution_finish_time": "2025-05-14T10:06:01.5461093Z",
       "execution_start_time": "2025-05-14T10:06:01.0501774Z",
       "normalized_state": "finished",
       "parent_msg_id": "47ff13fb-8739-4229-97e8-a1ef029ef156",
       "queued_time": "2025-05-14T10:04:51.0321689Z",
       "session_id": "12dd0466-4f0d-41bb-af95-b6994306a7b6",
       "session_start_time": null
      }
     },
     "metadata": {},
     "output_type": "display_data"
    }
   ],
   "source": [
    "def execute_query(engine, sql_script):\n",
    "    df = pd.DataFrame(columns=['dur','query'])\n",
    "    sql_arr = sql_script.split(\";\")\n",
    "    for index, value in enumerate(sql_arr,start=1):\n",
    "        if len(value.strip()) > 0:\n",
    "            start = time.time()\n",
    "            print('Query' + str(index))\n",
    "            try :\n",
    "             engine.sql(value).show()\n",
    "             stop = time.time()\n",
    "             duration = stop-start\n",
    "            except  Exception as er:\n",
    "              print(er)\n",
    "              duration = float('nan')\n",
    "            print(duration)\n",
    "            row = {'dur': duration,'query':index}\n",
    "            df = pd.concat([df,pd.DataFrame(row, index=[index])], axis=0, ignore_index=True)\n",
    "    return df"
   ]
  },
  {
   "cell_type": "markdown",
   "id": "f5f0d28e-16d7-4c62-9fb4-495217ba6170",
   "metadata": {
    "microsoft": {
     "language": "python",
     "language_group": "jupyter_python"
    },
    "nteract": {
     "transient": {
      "deleting": false
     }
    }
   },
   "source": [
    "# Run Tests"
   ]
  },
  {
   "cell_type": "code",
   "execution_count": 11,
   "id": "304641f2-3c3e-4faf-925e-a5da9b9d0da2",
   "metadata": {
    "microsoft": {
     "language": "python",
     "language_group": "jupyter_python"
    }
   },
   "outputs": [
    {
     "data": {
      "application/vnd.jupyter.statement-meta+json": {
       "execution_finish_time": "2025-05-14T10:06:02.5039917Z",
       "execution_start_time": "2025-05-14T10:06:01.5472832Z",
       "normalized_state": "finished",
       "parent_msg_id": "e5d78176-1d50-4cdd-be24-8d7ddd39ce16",
       "queued_time": "2025-05-14T10:04:51.1133115Z",
       "session_id": "12dd0466-4f0d-41bb-af95-b6994306a7b6",
       "session_start_time": null
      }
     },
     "metadata": {},
     "output_type": "display_data"
    },
    {
     "name": "stdout",
     "output_type": "stream",
     "text": [
      "2025-05-14 10:06:02\n"
     ]
    }
   ],
   "source": [
    "now = datetime.now().strftime('%Y-%m-%d %H:%M:%S')\n",
    "print(now)"
   ]
  },
  {
   "cell_type": "code",
   "execution_count": 12,
   "id": "64f5b3a7-6a5a-4b43-8a07-7e1ce8872abf",
   "metadata": {
    "microsoft": {
     "language": "python",
     "language_group": "jupyter_python"
    }
   },
   "outputs": [
    {
     "data": {
      "application/vnd.jupyter.statement-meta+json": {
       "execution_finish_time": "2025-05-14T10:07:32.1720121Z",
       "execution_start_time": "2025-05-14T10:06:02.5054875Z",
       "normalized_state": "finished",
       "parent_msg_id": "2577d323-8f5b-4bc5-b12a-a93c919d529d",
       "queued_time": "2025-05-14T10:04:51.2208485Z",
       "session_id": "12dd0466-4f0d-41bb-af95-b6994306a7b6",
       "session_start_time": null
      }
     },
     "metadata": {},
     "output_type": "display_data"
    },
    {
     "name": "stdout",
     "output_type": "stream",
     "text": [
      "create Views in duckdb: 1.129765510559082\n",
      "Query1\n"
     ]
    },
    {
     "data": {
      "application/vnd.jupyter.widget-view+json": {
       "model_id": "2405a7c20bf9401da7d7fc035da8e767",
       "version_major": 2,
       "version_minor": 0
      },
      "text/plain": [
       "FloatProgress(value=0.0, layout=Layout(width='auto'), style=ProgressStyle(bar_color='black'))"
      ]
     },
     "metadata": {},
     "output_type": "display_data"
    },
    {
     "name": "stderr",
     "output_type": "stream",
     "text": [
      "/tmp/ipykernel_361/2701879410.py:17: FutureWarning: The behavior of DataFrame concatenation with empty or all-NA entries is deprecated. In a future version, this will no longer exclude empty or all-NA columns when determining the result dtypes. To retain the old behavior, exclude the relevant entries before the concat operation.\n",
      "  df = pd.concat([df,pd.DataFrame(row, index=[index])], axis=0, ignore_index=True)\n"
     ]
    },
    {
     "name": "stdout",
     "output_type": "stream",
     "text": [
      "┌───────────────┬────────────────────┬─────────┬───────────┬────────────────┬───────────────────────────────────┬─────────────────┬──────────────────────────────────────────────────────────────────────────────────────────┐\n",
      "│   s_acctbal   │       s_name       │ n_name  │ p_partkey │     p_mfgr     │             s_address             │     s_phone     │                                        s_comment                                         │\n",
      "│ decimal(15,2) │      varchar       │ varchar │   int64   │    varchar     │              varchar              │     varchar     │                                         varchar                                          │\n",
      "├───────────────┼────────────────────┼─────────┼───────────┼────────────────┼───────────────────────────────────┼─────────────────┼──────────────────────────────────────────────────────────────────────────────────────────┤\n",
      "│       9994.37 │ Supplier#000030084 │ GERMANY │    380077 │ Manufacturer#5 │ Lpmw8Ht4rC,xjMQ0p50CkyG7764       │ 17-519-171-6883 │ thely express instructions. regular hockey players was furiously. quickly pendi          │\n",
      "│       9992.54 │ Supplier#000099650 │ RUSSIA  │    824625 │ Manufacturer#3 │ u8irlfFJRKkGmndVKa4LY             │ 32-971-481-2533 │ ironic ideas. special, ironic requests nag blithely. ironic deposits use furiously       │\n",
      "│       9987.51 │ Supplier#000020657 │ ROMANIA │    395653 │ Manufacturer#5 │ XBf0Sq7X2xE0ZTakAq Rsq01lutxjWg   │ 29-167-460-7830 │  unusual requests cajole across the fluffily final requests.                             │\n",
      "│       9986.40 │ Supplier#000082995 │ RUSSIA  │   1782994 │ Manufacturer#5 │ p3Ipd2Un6pIK2                     │ 32-510-919-3096 │ e packages. slyly unusual ideas use slyly. blithely ironic requests integrate furi       │\n",
      "│       9984.69 │ Supplier#000008875 │ ROMANIA │    633856 │ Manufacturer#4 │ K9NcAhAt60 jA                     │ 29-132-904-4395 │  carefully. furiously ironic requests about the care                                     │\n",
      "│       9984.30 │ Supplier#000081977 │ RUSSIA  │   1356963 │ Manufacturer#5 │ LMEM2XU7iYiU1qySKHCxvp            │ 32-569-570-6149 │ , pending instructions unwind among                                                      │\n",
      "│       9983.76 │ Supplier#000024757 │ RUSSIA  │    599751 │ Manufacturer#4 │ xhP0Gm9AvzxXWjV3Ukz9rmh3s06o1     │ 32-868-781-9721 │ regular accounts sleep furiously furiously close notornis. carefully silent foxes arou   │\n",
      "│       9980.25 │ Supplier#000067392 │ RUSSIA  │    192388 │ Manufacturer#2 │ Dmaw gIXZU1,iT1                   │ 32-872-236-1034 │ to the slyly quick deposits. blithely special accounts boost furi                        │\n",
      "│       9974.93 │ Supplier#000072260 │ ROMANIA │    397250 │ Manufacturer#3 │ JH BmpisKGh0AISYAHgyM,AJe4WcXI,TI │ 29-745-482-4154 │ play furiously according to the slyly unusual packages? slyly express instructions x-ray │\n",
      "│       9971.99 │ Supplier#000016715 │ FRANCE  │    691708 │ Manufacturer#2 │ qHmxVVnEedvr5j1                   │ 16-401-454-3384 │ . furiously brave dependencies m                                                         │\n",
      "├───────────────┴────────────────────┴─────────┴───────────┴────────────────┴───────────────────────────────────┴─────────────────┴──────────────────────────────────────────────────────────────────────────────────────────┤\n",
      "│ 10 rows                                                                                                                                                                                                          8 columns │\n",
      "└────────────────────────────────────────────────────────────────────────────────────────────────────────────────────────────────────────────────────────────────────────────────────────────────────────────────────────────┘\n",
      "\n",
      "2.347360134124756\n",
      "Query3\n"
     ]
    },
    {
     "data": {
      "application/vnd.jupyter.widget-view+json": {
       "model_id": "98d1b3c1264d47879cd09ca0a970a933",
       "version_major": 2,
       "version_minor": 0
      },
      "text/plain": [
       "FloatProgress(value=0.0, layout=Layout(width='auto'), style=ProgressStyle(bar_color='black'))"
      ]
     },
     "metadata": {},
     "output_type": "display_data"
    },
    {
     "name": "stdout",
     "output_type": "stream",
     "text": [
      "┌────────────┬───────────────┬─────────────┬────────────────┐\n",
      "│ l_orderkey │    revenue    │ o_orderdate │ o_shippriority │\n",
      "│   int64    │ decimal(38,4) │    date     │     int32      │\n",
      "├────────────┼───────────────┼─────────────┼────────────────┤\n",
      "│    4791171 │   440715.2185 │ 1995-02-23  │              0 │\n",
      "│   46678469 │   439855.3250 │ 1995-01-27  │              0 │\n",
      "│   23906758 │   432728.5737 │ 1995-03-14  │              0 │\n",
      "│   23861382 │   428739.1368 │ 1995-03-09  │              0 │\n",
      "│   59393639 │   426036.0662 │ 1995-02-12  │              0 │\n",
      "│    3355202 │   425100.6657 │ 1995-03-04  │              0 │\n",
      "│    9806272 │   425088.0568 │ 1995-03-13  │              0 │\n",
      "│   22810436 │   423231.9690 │ 1995-01-02  │              0 │\n",
      "│   16384100 │   421478.7294 │ 1995-03-02  │              0 │\n",
      "│   52974151 │   415367.1195 │ 1995-02-05  │              0 │\n",
      "├────────────┴───────────────┴─────────────┴────────────────┤\n",
      "│ 10 rows                                         4 columns │\n",
      "└───────────────────────────────────────────────────────────┘\n",
      "\n",
      "3.7202372550964355\n",
      "Query4\n"
     ]
    },
    {
     "data": {
      "application/vnd.jupyter.widget-view+json": {
       "model_id": "6cb30583be4d4891928934fe08105ce0",
       "version_major": 2,
       "version_minor": 0
      },
      "text/plain": [
       "FloatProgress(value=0.0, layout=Layout(width='auto'), style=ProgressStyle(bar_color='black'))"
      ]
     },
     "metadata": {},
     "output_type": "display_data"
    },
    {
     "name": "stdout",
     "output_type": "stream",
     "text": [
      "┌─────────────────┬─────────────┐\n",
      "│ o_orderpriority │ order_count │\n",
      "│     varchar     │    int64    │\n",
      "├─────────────────┼─────────────┤\n",
      "│ 1-URGENT        │      105214 │\n",
      "│ 2-HIGH          │      104821 │\n",
      "│ 3-MEDIUM        │      105227 │\n",
      "│ 4-NOT SPECIFIED │      105422 │\n",
      "│ 5-LOW           │      105356 │\n",
      "└─────────────────┴─────────────┘\n",
      "\n",
      "3.7051217555999756\n",
      "Query5\n"
     ]
    },
    {
     "data": {
      "application/vnd.jupyter.widget-view+json": {
       "model_id": "ce38deb5fdb84460abc3064c75f6bff5",
       "version_major": 2,
       "version_minor": 0
      },
      "text/plain": [
       "FloatProgress(value=0.0, layout=Layout(width='auto'), style=ProgressStyle(bar_color='black'))"
      ]
     },
     "metadata": {},
     "output_type": "display_data"
    },
    {
     "name": "stdout",
     "output_type": "stream",
     "text": [
      "┌───────────┬──────────────────┐\n",
      "│  n_name   │     revenue      │\n",
      "│  varchar  │  decimal(38,4)   │\n",
      "├───────────┼──────────────────┤\n",
      "│ INDIA     │ 13463205541.8657 │\n",
      "│ VIETNAM   │ 13214757774.7194 │\n",
      "│ JAPAN     │ 13213152837.6414 │\n",
      "│ CHINA     │ 13209117920.7012 │\n",
      "│ INDONESIA │ 13133375012.1835 │\n",
      "└───────────┴──────────────────┘\n",
      "\n",
      "5.366429805755615\n",
      "Query6\n",
      "┌─────────────────┐\n",
      "│     revenue     │\n",
      "│  decimal(38,4)  │\n",
      "├─────────────────┤\n",
      "│ 1230113636.0101 │\n",
      "└─────────────────┘\n",
      "\n",
      "0.69508957862854\n",
      "Query7\n"
     ]
    },
    {
     "data": {
      "application/vnd.jupyter.widget-view+json": {
       "model_id": "4a53b6d9e9ba471eaedf04a7a4d56205",
       "version_major": 2,
       "version_minor": 0
      },
      "text/plain": [
       "FloatProgress(value=0.0, layout=Layout(width='auto'), style=ProgressStyle(bar_color='black'))"
      ]
     },
     "metadata": {},
     "output_type": "display_data"
    },
    {
     "name": "stdout",
     "output_type": "stream",
     "text": [
      "┌─────────────┬─────────────┬────────┬────────────────┐\n",
      "│ supp_nation │ cust_nation │ l_year │    revenue     │\n",
      "│   varchar   │   varchar   │ int64  │ decimal(38,4)  │\n",
      "├─────────────┼─────────────┼────────┼────────────────┤\n",
      "│ FRANCE      │ GERMANY     │   1992 │ 444143482.5332 │\n",
      "│ FRANCE      │ GERMANY     │   1993 │ 520373495.5419 │\n",
      "│ FRANCE      │ GERMANY     │   1994 │ 527796618.1738 │\n",
      "│ FRANCE      │ GERMANY     │   1995 │ 521960141.7003 │\n",
      "│ FRANCE      │ GERMANY     │   1996 │ 524796110.3842 │\n",
      "│ FRANCE      │ GERMANY     │   1997 │ 523657416.0175 │\n",
      "│ FRANCE      │ GERMANY     │   1998 │ 395488618.5426 │\n",
      "│ GERMANY     │ FRANCE      │   1995 │ 542199700.0546 │\n",
      "│ GERMANY     │ FRANCE      │   1996 │ 533640926.2614 │\n",
      "└─────────────┴─────────────┴────────┴────────────────┘\n",
      "\n",
      "2.510885000228882\n",
      "Query8\n"
     ]
    },
    {
     "data": {
      "application/vnd.jupyter.widget-view+json": {
       "model_id": "b6c9bf46ae6f4edb92aed63495e613cc",
       "version_major": 2,
       "version_minor": 0
      },
      "text/plain": [
       "FloatProgress(value=0.0, layout=Layout(width='auto'), style=ProgressStyle(bar_color='black'))"
      ]
     },
     "metadata": {},
     "output_type": "display_data"
    },
    {
     "name": "stdout",
     "output_type": "stream",
     "text": [
      "┌────────┬─────────────────────┐\n",
      "│ o_year │      mkt_share      │\n",
      "│ int64  │       double        │\n",
      "├────────┼─────────────────────┤\n",
      "│   1995 │  0.0388201425143322 │\n",
      "│   1996 │ 0.03948968749183992 │\n",
      "└────────┴─────────────────────┘\n",
      "\n",
      "4.938194513320923\n",
      "Query9\n"
     ]
    },
    {
     "data": {
      "application/vnd.jupyter.widget-view+json": {
       "model_id": "770af53affc74ebd998197d6b9b3bcde",
       "version_major": 2,
       "version_minor": 0
      },
      "text/plain": [
       "FloatProgress(value=0.0, layout=Layout(width='auto'), style=ProgressStyle(bar_color='black'))"
      ]
     },
     "metadata": {},
     "output_type": "display_data"
    },
    {
     "name": "stdout",
     "output_type": "stream",
     "text": [
      "┌───────────────┬────────┬────────────────┐\n",
      "│    nation     │ o_year │   sum_profit   │\n",
      "│    varchar    │ int64  │ decimal(38,4)  │\n",
      "├───────────────┼────────┼────────────────┤\n",
      "│ ALGERIA       │   1998 │ 271504046.5508 │\n",
      "│ ALGERIA       │   1997 │ 457035986.9555 │\n",
      "│ ALGERIA       │   1996 │ 457125199.0414 │\n",
      "│ ALGERIA       │   1995 │ 460972497.0491 │\n",
      "│ ALGERIA       │   1994 │ 456444975.7127 │\n",
      "│ ALGERIA       │   1993 │ 456449926.4138 │\n",
      "│ ALGERIA       │   1992 │ 459548354.7680 │\n",
      "│ ARGENTINA     │   1998 │ 277792984.9141 │\n",
      "│ ARGENTINA     │   1997 │ 467555914.5594 │\n",
      "│ ARGENTINA     │   1996 │ 473886192.7453 │\n",
      "│     ·         │     ·  │        ·       │\n",
      "│     ·         │     ·  │        ·       │\n",
      "│     ·         │     ·  │        ·       │\n",
      "│ UNITED STATES │   1994 │ 476447816.2560 │\n",
      "│ UNITED STATES │   1993 │ 460120427.2978 │\n",
      "│ UNITED STATES │   1992 │ 468157792.3023 │\n",
      "│ VIETNAM       │   1998 │ 272979518.3274 │\n",
      "│ VIETNAM       │   1997 │ 473777590.7684 │\n",
      "│ VIETNAM       │   1996 │ 466048777.1537 │\n",
      "│ VIETNAM       │   1995 │ 468658193.1331 │\n",
      "│ VIETNAM       │   1994 │ 478019622.5095 │\n",
      "│ VIETNAM       │   1993 │ 469271925.6739 │\n",
      "│ VIETNAM       │   1992 │ 463962943.8714 │\n",
      "├───────────────┴────────┴────────────────┤\n",
      "│ 175 rows (20 shown)           3 columns │\n",
      "└─────────────────────────────────────────┘\n",
      "\n",
      "4.954021453857422\n",
      "Query10\n"
     ]
    },
    {
     "data": {
      "application/vnd.jupyter.widget-view+json": {
       "model_id": "fa4e0da19a9a44ea945fc4104d28ea35",
       "version_major": 2,
       "version_minor": 0
      },
      "text/plain": [
       "FloatProgress(value=0.0, layout=Layout(width='auto'), style=ProgressStyle(bar_color='black'))"
      ]
     },
     "metadata": {},
     "output_type": "display_data"
    },
    {
     "name": "stdout",
     "output_type": "stream",
     "text": [
      "┌───────────┬────────────────────┬───────────────┬───────────────┬───────────────┬───────────────────────────────────────┬─────────────────┬─────────────────────────────────────────────────────────────────────────────────────────────────────────────────────┐\n",
      "│ c_custkey │       c_name       │    revenue    │   c_acctbal   │    n_name     │               c_address               │     c_phone     │                                                      c_comment                                                      │\n",
      "│   int64   │      varchar       │ decimal(38,4) │ decimal(15,2) │    varchar    │                varchar                │     varchar     │                                                       varchar                                                       │\n",
      "├───────────┼────────────────────┼───────────────┼───────────────┼───────────────┼───────────────────────────────────────┼─────────────────┼─────────────────────────────────────────────────────────────────────────────────────────────────────────────────────┤\n",
      "│   1237537 │ Customer#001237537 │   884989.6657 │       7840.17 │ RUSSIA        │ mdkU4LpZECCtt20RHa76sA6b4WC           │ 32-367-120-4327 │ yly regular accounts boost. requests need to nag evenly                                                             │\n",
      "│   1116802 │ Customer#001116802 │   830214.1117 │        772.17 │ JORDAN        │ iBka7YijCCLApX1f 8 sKp 5ldP           │ 23-199-655-3770 │ y carefully regular deposits. packages nod ironic packages                                                          │\n",
      "│    508954 │ Customer#000508954 │   826167.5138 │       3072.07 │ ETHIOPIA      │ tKQLmGq3MOqXiTmNZQRp                  │ 15-880-510-9487 │ t the quickly pending deposits. carefully express dependencies detect. blithely regular                             │\n",
      "│   1487503 │ Customer#001487503 │   825996.5903 │       5398.11 │ IRAN          │ D tOJIC0rcVO                          │ 20-271-234-4401 │ ithely quiet deposits about the slyly final dolphins hinder carefully about the slyly ironic accounts. carefully ir │\n",
      "│   1461247 │ Customer#001461247 │   775992.0820 │       3205.93 │ SAUDI ARABIA  │ Ia1gHwdAyyFo,pCKhCkqX6                │ 30-137-949-5375 │ beans. furiously ironic realms after the slyly ironic sentiments are requests. courts was carefully about t         │\n",
      "│   1316338 │ Customer#001316338 │   765063.7003 │       8682.95 │ INDIA         │ QLsXlkrrAQ7fz5TDIoDUVsUMsH1pBOG       │ 18-793-610-3832 │ olites sleep furiously ironic instructions. final, final ideas wake carefully after the slyly iron                  │\n",
      "│    817849 │ Customer#000817849 │   737664.7232 │       -380.30 │ MOROCCO       │ UKsTjQdC5d9PwYXz u                    │ 25-111-847-3201 │ ts after the slyly regular excuses wake pending accounts. deposits wake? carefully ironic foxes wa                  │\n",
      "│   1335394 │ Customer#001335394 │   731259.8675 │       3978.53 │ VIETNAM       │ FNdEi9tP 5eQib8C                      │ 31-760-271-2302 │ ly ironic, final foxes. slyly bold instructions                                                                     │\n",
      "│    102358 │ Customer#000102358 │   715001.8825 │       3564.90 │ BRAZIL        │ 3BnBw0 bZWmVue6bPGn513kOeitBl5VHj     │ 12-941-212-8350 │  furiously furiously dogged deposits. regular accounts are furiously furiously pending instructions. carefu         │\n",
      "│   1432624 │ Customer#001432624 │   713512.6431 │        205.08 │ FRANCE        │ e7o5TBwh,bLO6flPI05Nrp0,1Q8m19ODDs0   │ 16-550-232-2774 │ y ironic packages. slyly silent instructions cajole about the a                                                     │\n",
      "│    160528 │ Customer#000160528 │   710673.3317 │       3425.52 │ INDONESIA     │ VrYJ,qyK75m PkPLTQT7KocfwMwPYQTlcEYBz │ 19-670-600-6340 │ blithely even deposits sleep until the even accounts                                                                │\n",
      "│   1345237 │ Customer#001345237 │   707735.5745 │       6905.22 │ FRANCE        │ QJxZWEukcxoDYlFOgUGIOuGay             │ 16-133-279-4001 │ symptotes integrate according to the sl                                                                             │\n",
      "│    839816 │ Customer#000839816 │   705643.2854 │       2110.25 │ UNITED STATES │ r9c CDy,MgOouA                        │ 34-453-282-7925 │ sly sly pinto beans wake quickly slyly final packages. express deposit                                              │\n",
      "│   1136716 │ Customer#001136716 │   695043.5606 │       5886.01 │ CHINA         │ yqiALHYT6gaiip1g6wgnM6ctJ             │ 28-729-762-5783 │ out the fluffily pending requests. furiously ironic forges integrate. quickly bold theod                            │\n",
      "│   1439413 │ Customer#001439413 │   690161.9783 │       8808.65 │ ETHIOPIA      │ 5vMec8OoAWrStjng                      │ 15-432-961-8772 │ boost across the regular, ironic packages. final instructions                                                       │\n",
      "│   1392475 │ Customer#001392475 │   685464.4086 │        593.26 │ SAUDI ARABIA  │ sbjxdO1xOzy1wBIhAOzp6b2,9sHMj8q1f     │ 30-640-220-2095 │ c accounts. always final instructions boost according to the final                                                  │\n",
      "│    616909 │ Customer#000616909 │   684978.1044 │       2660.84 │ EGYPT         │ Jg9FiC98BUWmlBb3WTN                   │ 14-185-768-2185 │ s about the busy ideas affix f                                                                                      │\n",
      "│    314272 │ Customer#000314272 │   682212.6365 │       5127.92 │ UNITED STATES │  LKR3R5VStcAlT4D,qGBJLWYkmJU          │ 34-674-752-5199 │ ng to the slyly express instructions sleep fluffily even foxes. special id                                          │\n",
      "│   1472980 │ Customer#001472980 │   677765.9180 │       6003.36 │ IRAQ          │ JIMreXGvswrve5rkBww                   │ 21-506-776-4657 │ e. packages according to the instructions are among the even, regular th                                            │\n",
      "│   1486201 │ Customer#001486201 │   674878.4539 │       -276.92 │ JORDAN        │ 8hJKgyMlv Ay3fyNDJFvszoYd             │ 23-611-797-4750 │ es nag. silent accounts are blithely daring packages.                                                               │\n",
      "├───────────┴────────────────────┴───────────────┴───────────────┴───────────────┴───────────────────────────────────────┴─────────────────┴─────────────────────────────────────────────────────────────────────────────────────────────────────────────────────┤\n",
      "│ 20 rows                                                                                                                                                                                                                                              8 columns │\n",
      "└────────────────────────────────────────────────────────────────────────────────────────────────────────────────────────────────────────────────────────────────────────────────────────────────────────────────────────────────────────────────────────────────┘\n",
      "\n",
      "3.235931634902954\n",
      "Query11\n",
      "┌────────────┬───────────────┐\n",
      "│ ps_partkey │     value     │\n",
      "│   int64    │ decimal(38,2) │\n",
      "├────────────┼───────────────┤\n",
      "│     393251 │   20382773.62 │\n",
      "│     534271 │   19554795.32 │\n",
      "│     828067 │   19354244.05 │\n",
      "│    1878002 │   19163817.20 │\n",
      "│      28091 │   19108633.28 │\n",
      "│    1598052 │   18718989.58 │\n",
      "│    1106308 │   18685549.06 │\n",
      "│     930028 │   18634219.75 │\n",
      "│    1682288 │   18284365.73 │\n",
      "│     562641 │   18259785.46 │\n",
      "│        ·   │         ·     │\n",
      "│        ·   │         ·     │\n",
      "│        ·   │         ·     │\n",
      "│    1426043 │    8104739.49 │\n",
      "│    1558544 │    8104706.76 │\n",
      "│     348477 │    8104648.32 │\n",
      "│     112689 │    8104635.81 │\n",
      "│    1413930 │    8104587.72 │\n",
      "│     330525 │    8104337.64 │\n",
      "│     679793 │    8104269.50 │\n",
      "│    1392635 │    8103741.46 │\n",
      "│     984847 │    8103432.30 │\n",
      "│     416296 │    8102924.38 │\n",
      "├────────────┴───────────────┤\n",
      "│    8685 rows (20 shown)    │\n",
      "└────────────────────────────┘\n",
      "\n",
      "1.0698306560516357\n",
      "Query12\n",
      "┌────────────┬─────────────────┬────────────────┐\n",
      "│ l_shipmode │ high_line_count │ low_line_count │\n",
      "│  varchar   │     int128      │     int128     │\n",
      "├────────────┼─────────────────┼────────────────┤\n",
      "│ MAIL       │           62071 │          93045 │\n",
      "│ SHIP       │           62426 │          93261 │\n",
      "└────────────┴─────────────────┴────────────────┘\n",
      "\n",
      "2.162282943725586\n",
      "Query13\n"
     ]
    },
    {
     "data": {
      "application/vnd.jupyter.widget-view+json": {
       "model_id": "e3799410a0ba495f8c77d68065358e78",
       "version_major": 2,
       "version_minor": 0
      },
      "text/plain": [
       "FloatProgress(value=0.0, layout=Layout(width='auto'), style=ProgressStyle(bar_color='black'))"
      ]
     },
     "metadata": {},
     "output_type": "display_data"
    },
    {
     "name": "stdout",
     "output_type": "stream",
     "text": [
      "┌─────────┬──────────┐\n",
      "│ c_count │ custdist │\n",
      "│  int64  │  int64   │\n",
      "├─────────┼──────────┤\n",
      "│       0 │   500019 │\n",
      "│      10 │    66125 │\n",
      "│       9 │    65012 │\n",
      "│      11 │    62192 │\n",
      "│       8 │    58445 │\n",
      "│      12 │    55784 │\n",
      "│      13 │    49943 │\n",
      "│      19 │    46595 │\n",
      "│       7 │    46529 │\n",
      "│      18 │    46036 │\n",
      "│       · │       ·  │\n",
      "│       · │       ·  │\n",
      "│       · │       ·  │\n",
      "│       1 │      232 │\n",
      "│      36 │      144 │\n",
      "│      37 │       83 │\n",
      "│      38 │       47 │\n",
      "│      39 │       16 │\n",
      "│      40 │        9 │\n",
      "│      41 │        7 │\n",
      "│      42 │        4 │\n",
      "│      43 │        3 │\n",
      "│      46 │        1 │\n",
      "├─────────┴──────────┤\n",
      "│ 45 rows (20 shown) │\n",
      "└────────────────────┘\n",
      "\n",
      "4.554952621459961\n",
      "Query14\n",
      "┌────────────────────┐\n",
      "│   promo_revenue    │\n",
      "│       double       │\n",
      "├────────────────────┤\n",
      "│ 16.647594941615097 │\n",
      "└────────────────────┘\n",
      "\n",
      "0.9754493236541748\n",
      "Query15\n",
      "┌───────────┬────────────────────┬──────────────────────────────────────────┬─────────────────┬───────────────┐\n",
      "│ s_suppkey │       s_name       │                s_address                 │     s_phone     │ total_revenue │\n",
      "│   int64   │      varchar       │                 varchar                  │     varchar     │ decimal(38,4) │\n",
      "├───────────┼────────────────────┼──────────────────────────────────────────┼─────────────────┼───────────────┤\n",
      "│     69998 │ Supplier#000069998 │ 117W54YtKASNfzkZRS8P32856BMj0HKf895vdukw │ 16-386-278-9829 │  2194132.8166 │\n",
      "└───────────┴────────────────────┴──────────────────────────────────────────┴─────────────────┴───────────────┘\n",
      "\n",
      "1.816861629486084\n",
      "Query16\n",
      "┌──────────┬───────────────────────────┬────────┬──────────────┐\n",
      "│ p_brand  │          p_type           │ p_size │ supplier_cnt │\n",
      "│ varchar  │          varchar          │ int32  │    int64     │\n",
      "├──────────┼───────────────────────────┼────────┼──────────────┤\n",
      "│ Brand#44 │ STANDARD PLATED TIN       │      9 │          120 │\n",
      "│ Brand#12 │ STANDARD POLISHED COPPER  │     14 │          100 │\n",
      "│ Brand#11 │ LARGE BRUSHED STEEL       │     36 │           96 │\n",
      "│ Brand#23 │ PROMO BURNISHED STEEL     │     14 │           96 │\n",
      "│ Brand#34 │ MEDIUM BRUSHED STEEL      │     23 │           96 │\n",
      "│ Brand#53 │ PROMO BURNISHED BRASS     │     36 │           96 │\n",
      "│ Brand#54 │ STANDARD BRUSHED COPPER   │     19 │           96 │\n",
      "│ Brand#32 │ LARGE POLISHED COPPER     │     14 │           95 │\n",
      "│ Brand#43 │ LARGE PLATED COPPER       │     19 │           95 │\n",
      "│ Brand#11 │ SMALL BRUSHED STEEL       │      9 │           92 │\n",
      "│    ·     │          ·                │      · │            · │\n",
      "│    ·     │          ·                │      · │            · │\n",
      "│    ·     │          ·                │      · │            · │\n",
      "│ Brand#52 │ STANDARD BRUSHED BRASS    │     19 │           48 │\n",
      "│ Brand#52 │ STANDARD BRUSHED BRASS    │     49 │           48 │\n",
      "│ Brand#52 │ STANDARD BRUSHED COPPER   │      9 │           48 │\n",
      "│ Brand#52 │ STANDARD BRUSHED NICKEL   │     19 │           48 │\n",
      "│ Brand#52 │ STANDARD BRUSHED STEEL    │      3 │           48 │\n",
      "│ Brand#52 │ STANDARD BRUSHED STEEL    │     19 │           48 │\n",
      "│ Brand#52 │ STANDARD BRUSHED TIN      │     49 │           48 │\n",
      "│ Brand#52 │ STANDARD BURNISHED NICKEL │      9 │           48 │\n",
      "│ Brand#52 │ STANDARD BURNISHED STEEL  │     19 │           48 │\n",
      "│ Brand#52 │ STANDARD BURNISHED TIN    │     19 │           48 │\n",
      "├──────────┴───────────────────────────┴────────┴──────────────┤\n",
      "│ ? rows (>9999 rows, 20 shown)                      4 columns │\n",
      "└──────────────────────────────────────────────────────────────┘\n",
      "\n",
      "0.8372118473052979\n",
      "Query17\n"
     ]
    },
    {
     "data": {
      "application/vnd.jupyter.widget-view+json": {
       "model_id": "3c98b57481744036b3dc7d7dea37f8d0",
       "version_major": 2,
       "version_minor": 0
      },
      "text/plain": [
       "FloatProgress(value=0.0, layout=Layout(width='auto'), style=ProgressStyle(bar_color='black'))"
      ]
     },
     "metadata": {},
     "output_type": "display_data"
    },
    {
     "name": "stdout",
     "output_type": "stream",
     "text": [
      "┌───────────────────┐\n",
      "│    avg_yearly     │\n",
      "│      double       │\n",
      "├───────────────────┤\n",
      "│ 3295493.512857143 │\n",
      "└───────────────────┘\n",
      "\n",
      "4.7979724407196045\n",
      "Query18\n"
     ]
    },
    {
     "data": {
      "application/vnd.jupyter.widget-view+json": {
       "model_id": "cbc03149eb5a461286cca77fb7d7b1da",
       "version_major": 2,
       "version_minor": 0
      },
      "text/plain": [
       "FloatProgress(value=0.0, layout=Layout(width='auto'), style=ProgressStyle(bar_color='black'))"
      ]
     },
     "metadata": {},
     "output_type": "display_data"
    },
    {
     "name": "stdout",
     "output_type": "stream",
     "text": [
      "┌────────────────────┬───────────┬────────────┬─────────────┬───────────────┬───────────────────┐\n",
      "│       c_name       │ c_custkey │ o_orderkey │ o_orderdate │ o_totalprice  │ sum(l.l_quantity) │\n",
      "│      varchar       │   int64   │   int64    │    date     │ decimal(15,2) │   decimal(38,2)   │\n",
      "├────────────────────┼───────────┼────────────┼─────────────┼───────────────┼───────────────────┤\n",
      "│ Customer#001287812 │   1287812 │   42290181 │ 1997-11-26  │     558289.17 │            318.00 │\n",
      "│ Customer#000644812 │    644812 │    2745894 │ 1996-07-04  │     557664.53 │            304.00 │\n",
      "│ Customer#001172513 │   1172513 │   36667107 │ 1997-06-06  │     550142.18 │            322.00 │\n",
      "│ Customer#000399481 │    399481 │   43906817 │ 1995-04-06  │     549431.65 │            312.00 │\n",
      "│ Customer#000571654 │    571654 │   21213895 │ 1992-01-03  │     549380.08 │            327.00 │\n",
      "│ Customer#000667882 │    667882 │    2199712 │ 1996-09-30  │     542154.01 │            327.00 │\n",
      "│ Customer#001492954 │   1492954 │   30332516 │ 1996-03-10  │     541181.80 │            310.00 │\n",
      "│ Customer#001471966 │   1471966 │    1263015 │ 1997-02-02  │     540476.80 │            320.00 │\n",
      "│ Customer#001082018 │   1082018 │   31018979 │ 1995-12-06  │     537993.05 │            304.00 │\n",
      "│ Customer#001114039 │   1114039 │   30417318 │ 1995-10-31  │     536420.39 │            305.00 │\n",
      "│         ·          │       ·   │       ·    │     ·       │         ·     │               ·   │\n",
      "│         ·          │       ·   │       ·    │     ·       │         ·     │               ·   │\n",
      "│         ·          │       ·   │       ·    │     ·       │         ·     │               ·   │\n",
      "│ Customer#000166589 │    166589 │   46685344 │ 1993-12-14  │     496075.11 │            327.00 │\n",
      "│ Customer#001265035 │   1265035 │   12845285 │ 1993-05-25  │     495963.43 │            304.00 │\n",
      "│ Customer#000385288 │    385288 │   51929955 │ 1993-04-19  │     495841.65 │            304.00 │\n",
      "│ Customer#000903416 │    903416 │   22789733 │ 1997-06-18  │     494910.15 │            303.00 │\n",
      "│ Customer#000961012 │    961012 │    5984582 │ 1992-03-16  │     494315.92 │            312.00 │\n",
      "│ Customer#000608233 │    608233 │   28092902 │ 1997-03-23  │     494174.42 │            306.00 │\n",
      "│ Customer#001000373 │   1000373 │   18200676 │ 1994-06-22  │     494028.41 │            307.00 │\n",
      "│ Customer#000414544 │    414544 │   33162084 │ 1994-02-15  │     493935.58 │            304.00 │\n",
      "│ Customer#000149107 │    149107 │   52357185 │ 1993-04-06  │     493715.64 │            307.00 │\n",
      "│ Customer#000895330 │    895330 │   21312615 │ 1995-12-08  │     493501.75 │            303.00 │\n",
      "├────────────────────┴───────────┴────────────┴─────────────┴───────────────┴───────────────────┤\n",
      "│ 100 rows (20 shown)                                                                 6 columns │\n",
      "└───────────────────────────────────────────────────────────────────────────────────────────────┘\n",
      "\n",
      "4.981289863586426\n",
      "Query19\n"
     ]
    },
    {
     "data": {
      "application/vnd.jupyter.widget-view+json": {
       "model_id": "56da60145e364a3fa0d0d899afaa5c07",
       "version_major": 2,
       "version_minor": 0
      },
      "text/plain": [
       "FloatProgress(value=0.0, layout=Layout(width='auto'), style=ProgressStyle(bar_color='black'))"
      ]
     },
     "metadata": {},
     "output_type": "display_data"
    },
    {
     "name": "stdout",
     "output_type": "stream",
     "text": [
      "┌───────────────┐\n",
      "│    revenue    │\n",
      "│ decimal(38,4) │\n",
      "├───────────────┤\n",
      "│ 30104438.0911 │\n",
      "└───────────────┘\n",
      "\n",
      "2.624777317047119\n",
      "Query20\n"
     ]
    },
    {
     "data": {
      "application/vnd.jupyter.widget-view+json": {
       "model_id": "00454e681e7e457db20b7c7502817575",
       "version_major": 2,
       "version_minor": 0
      },
      "text/plain": [
       "FloatProgress(value=0.0, layout=Layout(width='auto'), style=ProgressStyle(bar_color='black'))"
      ]
     },
     "metadata": {},
     "output_type": "display_data"
    },
    {
     "name": "stdout",
     "output_type": "stream",
     "text": [
      "┌────────────────────┬────────────────────────────────────┐\n",
      "│       s_name       │             s_address              │\n",
      "│      varchar       │              varchar               │\n",
      "├────────────────────┼────────────────────────────────────┤\n",
      "│ Supplier#000000020 │ JtPqm19E7tF 152Rl1wQZ8j0H          │\n",
      "│ Supplier#000000285 │ q TMZEDyZtv vUiFKBhT3NJlnIxpL      │\n",
      "│ Supplier#000000358 │ 6XtuJkJj83BcCOV7bwV7wG5nkhazk      │\n",
      "│ Supplier#000000361 │ MSi62aEN53KaoRAiaH4GEo3EsKMXSwpPGU │\n",
      "│ Supplier#000000402 │ JR8vWoCteJtJg3okRpt0r28KEo         │\n",
      "│ Supplier#000000555 │ 8Lp0QWPLFXrJrX1sTWkAEdzUsh5ke      │\n",
      "│ Supplier#000000688 │ orLvVDOBBE2B2ppjbiTZTJoIJgn1VgKg3  │\n",
      "│ Supplier#000000729 │ CAOGYCBtTVT7aB1p6qHbxF6VVhXaHLgTpI │\n",
      "│ Supplier#000000744 │ WdgxvW4WEloeapP7H6cWHrGLCHkStwrM   │\n",
      "│ Supplier#000000752 │ GrOjezmDCNvHXl5                    │\n",
      "│         ·          │        ·                           │\n",
      "│         ·          │        ·                           │\n",
      "│         ·          │        ·                           │\n",
      "│ Supplier#000099851 │ mN2eREuPYxFBrwMt88MWBQCeyo         │\n",
      "│ Supplier#000099853 │ toZ71iI9flyYiZYSFuANjUap           │\n",
      "│ Supplier#000099869 │ 2nBkLFPIAMlCw CZcUL wX,YzB4        │\n",
      "│ Supplier#000099877 │ OXV4aL9PkiR1IboxY,tEcVP75          │\n",
      "│ Supplier#000099879 │ 35C4xGqvN1b                        │\n",
      "│ Supplier#000099892 │ QxSbm7mnz60pM7M5SvWKo VG           │\n",
      "│ Supplier#000099942 │ ghhs5Vb9W2EQnEUgo9Ov               │\n",
      "│ Supplier#000099955 │ ,bZnsB7Zbrf7,A d,5xOVrsGS          │\n",
      "│ Supplier#000099980 │ rzSiQNPTVI,nLw3BDF,eVMalMRuW       │\n",
      "│ Supplier#000099985 │ TdnOFf80mmicQWG6AIdIJFGXGcLwKcLXg2 │\n",
      "├────────────────────┴────────────────────────────────────┤\n",
      "│ 1804 rows (20 shown)                          2 columns │\n",
      "└─────────────────────────────────────────────────────────┘\n",
      "\n",
      "2.744102716445923\n",
      "Query21\n"
     ]
    },
    {
     "data": {
      "application/vnd.jupyter.widget-view+json": {
       "model_id": "aac34e9f10e94f96a9d80ab2b358ba4f",
       "version_major": 2,
       "version_minor": 0
      },
      "text/plain": [
       "FloatProgress(value=0.0, layout=Layout(width='auto'), style=ProgressStyle(bar_color='black'))"
      ]
     },
     "metadata": {},
     "output_type": "display_data"
    },
    {
     "name": "stdout",
     "output_type": "stream",
     "text": [
      "┌────────────────────┬─────────┐\n",
      "│       s_name       │ numwait │\n",
      "│      varchar       │  int64  │\n",
      "├────────────────────┼─────────┤\n",
      "│ Supplier#000062538 │      24 │\n",
      "│ Supplier#000032858 │      22 │\n",
      "│ Supplier#000063723 │      21 │\n",
      "│ Supplier#000089484 │      21 │\n",
      "│ Supplier#000007061 │      20 │\n",
      "│ Supplier#000034162 │      20 │\n",
      "│ Supplier#000086690 │      20 │\n",
      "│ Supplier#000097808 │      20 │\n",
      "│ Supplier#000004163 │      19 │\n",
      "│ Supplier#000016074 │      19 │\n",
      "│         ·          │       · │\n",
      "│         ·          │       · │\n",
      "│         ·          │       · │\n",
      "│ Supplier#000099320 │      17 │\n",
      "│ Supplier#000099325 │      17 │\n",
      "│ Supplier#000000114 │      16 │\n",
      "│ Supplier#000000821 │      16 │\n",
      "│ Supplier#000004199 │      16 │\n",
      "│ Supplier#000006757 │      16 │\n",
      "│ Supplier#000006795 │      16 │\n",
      "│ Supplier#000006824 │      16 │\n",
      "│ Supplier#000007491 │      16 │\n",
      "│ Supplier#000008301 │      16 │\n",
      "├────────────────────┴─────────┤\n",
      "│     100 rows (20 shown)      │\n",
      "└──────────────────────────────┘\n",
      "\n",
      "10.063299655914307\n",
      "Query22\n",
      "┌───────────┬─────────┬───────────────┐\n",
      "│ cntrycode │ numcust │  totacctbal   │\n",
      "│  varchar  │  int64  │ decimal(38,2) │\n",
      "├───────────┼─────────┼───────────────┤\n",
      "│ 13        │    9025 │   67592468.28 │\n",
      "│ 17        │    9067 │   68084663.34 │\n",
      "│ 18        │    9210 │   69312783.61 │\n",
      "│ 23        │    8984 │   67607771.32 │\n",
      "│ 29        │    9199 │   69015438.26 │\n",
      "│ 30        │    9343 │   70118838.04 │\n",
      "│ 31        │    9086 │   68144525.38 │\n",
      "└───────────┴─────────┴───────────────┘\n",
      "\n",
      "1.0563135147094727\n",
      "CPU times: user 1min 31s, sys: 4.42 s, total: 1min 35s\n",
      "Wall time: 1min 26s\n"
     ]
    }
   ],
   "source": [
    "%%time\n",
    "start = time.time()\n",
    "for tbl in ['nation','region','customer','supplier','lineitem','orders','partsupp','part'] :\n",
    "       duckdb.sql(f\"\"\" from parquet_scan('{lakehouse_abfss}/CH{SF:02d}/{tbl}/*.parquet') \"\"\").to_view(tbl)\n",
    "stop = time.time()\n",
    "external_table_duration = stop-start\n",
    "print('create Views in duckdb: ' + str(external_table_duration))\n",
    "df              = execute_query(duckdb, sql)\n",
    "df.at[0,'dur']  = df.at[0, 'dur'] + external_table_duration\n",
    "df['Engine']    = 'cold'\n",
    "df['time']      = now\n",
    "df['sf']        = SF\n",
    "df['cpu']       = core\n",
    "df['test']      = 'tpch'\n",
    "write_deltalake(result_path,df,mode=\"append\") "
   ]
  },
  {
   "cell_type": "code",
   "execution_count": 13,
   "id": "821881fe-83ba-45e8-a92a-33be73d8c0f8",
   "metadata": {
    "microsoft": {
     "language": "python",
     "language_group": "jupyter_python"
    }
   },
   "outputs": [
    {
     "data": {
      "application/vnd.jupyter.statement-meta+json": {
       "execution_finish_time": "2025-05-14T10:08:37.6025523Z",
       "execution_start_time": "2025-05-14T10:07:32.1731686Z",
       "normalized_state": "finished",
       "parent_msg_id": "fb448d48-502b-4803-8744-6a97517b145f",
       "queued_time": "2025-05-14T10:04:51.3305278Z",
       "session_id": "12dd0466-4f0d-41bb-af95-b6994306a7b6",
       "session_start_time": null
      }
     },
     "metadata": {},
     "output_type": "display_data"
    },
    {
     "name": "stdout",
     "output_type": "stream",
     "text": [
      "Query1\n"
     ]
    },
    {
     "data": {
      "application/vnd.jupyter.widget-view+json": {
       "model_id": "70ecb2fef989488ebf7f09a687690ea2",
       "version_major": 2,
       "version_minor": 0
      },
      "text/plain": [
       "FloatProgress(value=0.0, layout=Layout(width='auto'), style=ProgressStyle(bar_color='black'))"
      ]
     },
     "metadata": {},
     "output_type": "display_data"
    },
    {
     "name": "stderr",
     "output_type": "stream",
     "text": [
      "/tmp/ipykernel_361/2701879410.py:17: FutureWarning: The behavior of DataFrame concatenation with empty or all-NA entries is deprecated. In a future version, this will no longer exclude empty or all-NA columns when determining the result dtypes. To retain the old behavior, exclude the relevant entries before the concat operation.\n",
      "  df = pd.concat([df,pd.DataFrame(row, index=[index])], axis=0, ignore_index=True)\n"
     ]
    },
    {
     "name": "stdout",
     "output_type": "stream",
     "text": [
      "┌───────────────┬────────────────────┬─────────┬───────────┬────────────────┬───────────────────────────────────┬─────────────────┬──────────────────────────────────────────────────────────────────────────────────────────┐\n",
      "│   s_acctbal   │       s_name       │ n_name  │ p_partkey │     p_mfgr     │             s_address             │     s_phone     │                                        s_comment                                         │\n",
      "│ decimal(15,2) │      varchar       │ varchar │   int64   │    varchar     │              varchar              │     varchar     │                                         varchar                                          │\n",
      "├───────────────┼────────────────────┼─────────┼───────────┼────────────────┼───────────────────────────────────┼─────────────────┼──────────────────────────────────────────────────────────────────────────────────────────┤\n",
      "│       9994.37 │ Supplier#000030084 │ GERMANY │    380077 │ Manufacturer#5 │ Lpmw8Ht4rC,xjMQ0p50CkyG7764       │ 17-519-171-6883 │ thely express instructions. regular hockey players was furiously. quickly pendi          │\n",
      "│       9992.54 │ Supplier#000099650 │ RUSSIA  │    824625 │ Manufacturer#3 │ u8irlfFJRKkGmndVKa4LY             │ 32-971-481-2533 │ ironic ideas. special, ironic requests nag blithely. ironic deposits use furiously       │\n",
      "│       9987.51 │ Supplier#000020657 │ ROMANIA │    395653 │ Manufacturer#5 │ XBf0Sq7X2xE0ZTakAq Rsq01lutxjWg   │ 29-167-460-7830 │  unusual requests cajole across the fluffily final requests.                             │\n",
      "│       9986.40 │ Supplier#000082995 │ RUSSIA  │   1782994 │ Manufacturer#5 │ p3Ipd2Un6pIK2                     │ 32-510-919-3096 │ e packages. slyly unusual ideas use slyly. blithely ironic requests integrate furi       │\n",
      "│       9984.69 │ Supplier#000008875 │ ROMANIA │    633856 │ Manufacturer#4 │ K9NcAhAt60 jA                     │ 29-132-904-4395 │  carefully. furiously ironic requests about the care                                     │\n",
      "│       9984.30 │ Supplier#000081977 │ RUSSIA  │   1356963 │ Manufacturer#5 │ LMEM2XU7iYiU1qySKHCxvp            │ 32-569-570-6149 │ , pending instructions unwind among                                                      │\n",
      "│       9983.76 │ Supplier#000024757 │ RUSSIA  │    599751 │ Manufacturer#4 │ xhP0Gm9AvzxXWjV3Ukz9rmh3s06o1     │ 32-868-781-9721 │ regular accounts sleep furiously furiously close notornis. carefully silent foxes arou   │\n",
      "│       9980.25 │ Supplier#000067392 │ RUSSIA  │    192388 │ Manufacturer#2 │ Dmaw gIXZU1,iT1                   │ 32-872-236-1034 │ to the slyly quick deposits. blithely special accounts boost furi                        │\n",
      "│       9974.93 │ Supplier#000072260 │ ROMANIA │    397250 │ Manufacturer#3 │ JH BmpisKGh0AISYAHgyM,AJe4WcXI,TI │ 29-745-482-4154 │ play furiously according to the slyly unusual packages? slyly express instructions x-ray │\n",
      "│       9971.99 │ Supplier#000016715 │ FRANCE  │    691708 │ Manufacturer#2 │ qHmxVVnEedvr5j1                   │ 16-401-454-3384 │ . furiously brave dependencies m                                                         │\n",
      "├───────────────┴────────────────────┴─────────┴───────────┴────────────────┴───────────────────────────────────┴─────────────────┴──────────────────────────────────────────────────────────────────────────────────────────┤\n",
      "│ 10 rows                                                                                                                                                                                                          8 columns │\n",
      "└────────────────────────────────────────────────────────────────────────────────────────────────────────────────────────────────────────────────────────────────────────────────────────────────────────────────────────────┘\n",
      "\n",
      "1.5177137851715088\n",
      "Query3\n",
      "┌────────────┬───────────────┬─────────────┬────────────────┐\n",
      "│ l_orderkey │    revenue    │ o_orderdate │ o_shippriority │\n",
      "│   int64    │ decimal(38,4) │    date     │     int32      │\n",
      "├────────────┼───────────────┼─────────────┼────────────────┤\n",
      "│    4791171 │   440715.2185 │ 1995-02-23  │              0 │\n",
      "│   46678469 │   439855.3250 │ 1995-01-27  │              0 │\n",
      "│   23906758 │   432728.5737 │ 1995-03-14  │              0 │\n",
      "│   23861382 │   428739.1368 │ 1995-03-09  │              0 │\n",
      "│   59393639 │   426036.0662 │ 1995-02-12  │              0 │\n",
      "│    3355202 │   425100.6657 │ 1995-03-04  │              0 │\n",
      "│    9806272 │   425088.0568 │ 1995-03-13  │              0 │\n",
      "│   22810436 │   423231.9690 │ 1995-01-02  │              0 │\n",
      "│   16384100 │   421478.7294 │ 1995-03-02  │              0 │\n",
      "│   52974151 │   415367.1195 │ 1995-02-05  │              0 │\n",
      "├────────────┴───────────────┴─────────────┴────────────────┤\n",
      "│ 10 rows                                         4 columns │\n",
      "└───────────────────────────────────────────────────────────┘\n",
      "\n",
      "1.7964451313018799\n",
      "Query4\n",
      "┌─────────────────┬─────────────┐\n",
      "│ o_orderpriority │ order_count │\n",
      "│     varchar     │    int64    │\n",
      "├─────────────────┼─────────────┤\n",
      "│ 1-URGENT        │      105214 │\n",
      "│ 2-HIGH          │      104821 │\n",
      "│ 3-MEDIUM        │      105227 │\n",
      "│ 4-NOT SPECIFIED │      105422 │\n",
      "│ 5-LOW           │      105356 │\n",
      "└─────────────────┴─────────────┘\n",
      "\n",
      "1.4197089672088623\n",
      "Query5\n"
     ]
    },
    {
     "data": {
      "application/vnd.jupyter.widget-view+json": {
       "model_id": "3f385110aca14cf1aac7652353a0a23f",
       "version_major": 2,
       "version_minor": 0
      },
      "text/plain": [
       "FloatProgress(value=0.0, layout=Layout(width='auto'), style=ProgressStyle(bar_color='black'))"
      ]
     },
     "metadata": {},
     "output_type": "display_data"
    },
    {
     "name": "stdout",
     "output_type": "stream",
     "text": [
      "┌───────────┬──────────────────┐\n",
      "│  n_name   │     revenue      │\n",
      "│  varchar  │  decimal(38,4)   │\n",
      "├───────────┼──────────────────┤\n",
      "│ INDIA     │ 13463205541.8657 │\n",
      "│ VIETNAM   │ 13214757774.7194 │\n",
      "│ JAPAN     │ 13213152837.6414 │\n",
      "│ CHINA     │ 13209117920.7012 │\n",
      "│ INDONESIA │ 13133375012.1835 │\n",
      "└───────────┴──────────────────┘\n",
      "\n",
      "3.3320767879486084\n",
      "Query6\n",
      "┌─────────────────┐\n",
      "│     revenue     │\n",
      "│  decimal(38,4)  │\n",
      "├─────────────────┤\n",
      "│ 1230113636.0101 │\n",
      "└─────────────────┘\n",
      "\n",
      "0.7242848873138428\n",
      "Query7\n"
     ]
    },
    {
     "data": {
      "application/vnd.jupyter.widget-view+json": {
       "model_id": "767fa8d986bc451ab2fa56c740b79e5e",
       "version_major": 2,
       "version_minor": 0
      },
      "text/plain": [
       "FloatProgress(value=0.0, layout=Layout(width='auto'), style=ProgressStyle(bar_color='black'))"
      ]
     },
     "metadata": {},
     "output_type": "display_data"
    },
    {
     "name": "stdout",
     "output_type": "stream",
     "text": [
      "┌─────────────┬─────────────┬────────┬────────────────┐\n",
      "│ supp_nation │ cust_nation │ l_year │    revenue     │\n",
      "│   varchar   │   varchar   │ int64  │ decimal(38,4)  │\n",
      "├─────────────┼─────────────┼────────┼────────────────┤\n",
      "│ FRANCE      │ GERMANY     │   1992 │ 444143482.5332 │\n",
      "│ FRANCE      │ GERMANY     │   1993 │ 520373495.5419 │\n",
      "│ FRANCE      │ GERMANY     │   1994 │ 527796618.1738 │\n",
      "│ FRANCE      │ GERMANY     │   1995 │ 521960141.7003 │\n",
      "│ FRANCE      │ GERMANY     │   1996 │ 524796110.3842 │\n",
      "│ FRANCE      │ GERMANY     │   1997 │ 523657416.0175 │\n",
      "│ FRANCE      │ GERMANY     │   1998 │ 395488618.5426 │\n",
      "│ GERMANY     │ FRANCE      │   1995 │ 542199700.0546 │\n",
      "│ GERMANY     │ FRANCE      │   1996 │ 533640926.2614 │\n",
      "└─────────────┴─────────────┴────────┴────────────────┘\n",
      "\n",
      "2.7600202560424805\n",
      "Query8\n"
     ]
    },
    {
     "data": {
      "application/vnd.jupyter.widget-view+json": {
       "model_id": "26d5959476e8446ba4991374aee9f0a7",
       "version_major": 2,
       "version_minor": 0
      },
      "text/plain": [
       "FloatProgress(value=0.0, layout=Layout(width='auto'), style=ProgressStyle(bar_color='black'))"
      ]
     },
     "metadata": {},
     "output_type": "display_data"
    },
    {
     "name": "stdout",
     "output_type": "stream",
     "text": [
      "┌────────┬─────────────────────┐\n",
      "│ o_year │      mkt_share      │\n",
      "│ int64  │       double        │\n",
      "├────────┼─────────────────────┤\n",
      "│   1995 │  0.0388201425143322 │\n",
      "│   1996 │ 0.03948968749183992 │\n",
      "└────────┴─────────────────────┘\n",
      "\n",
      "3.2520134449005127\n",
      "Query9\n"
     ]
    },
    {
     "data": {
      "application/vnd.jupyter.widget-view+json": {
       "model_id": "8d7d65791db841a98f9fd8fc480677c6",
       "version_major": 2,
       "version_minor": 0
      },
      "text/plain": [
       "FloatProgress(value=0.0, layout=Layout(width='auto'), style=ProgressStyle(bar_color='black'))"
      ]
     },
     "metadata": {},
     "output_type": "display_data"
    },
    {
     "name": "stdout",
     "output_type": "stream",
     "text": [
      "┌───────────────┬────────┬────────────────┐\n",
      "│    nation     │ o_year │   sum_profit   │\n",
      "│    varchar    │ int64  │ decimal(38,4)  │\n",
      "├───────────────┼────────┼────────────────┤\n",
      "│ ALGERIA       │   1998 │ 271504046.5508 │\n",
      "│ ALGERIA       │   1997 │ 457035986.9555 │\n",
      "│ ALGERIA       │   1996 │ 457125199.0414 │\n",
      "│ ALGERIA       │   1995 │ 460972497.0491 │\n",
      "│ ALGERIA       │   1994 │ 456444975.7127 │\n",
      "│ ALGERIA       │   1993 │ 456449926.4138 │\n",
      "│ ALGERIA       │   1992 │ 459548354.7680 │\n",
      "│ ARGENTINA     │   1998 │ 277792984.9141 │\n",
      "│ ARGENTINA     │   1997 │ 467555914.5594 │\n",
      "│ ARGENTINA     │   1996 │ 473886192.7453 │\n",
      "│     ·         │     ·  │        ·       │\n",
      "│     ·         │     ·  │        ·       │\n",
      "│     ·         │     ·  │        ·       │\n",
      "│ UNITED STATES │   1994 │ 476447816.2560 │\n",
      "│ UNITED STATES │   1993 │ 460120427.2978 │\n",
      "│ UNITED STATES │   1992 │ 468157792.3023 │\n",
      "│ VIETNAM       │   1998 │ 272979518.3274 │\n",
      "│ VIETNAM       │   1997 │ 473777590.7684 │\n",
      "│ VIETNAM       │   1996 │ 466048777.1537 │\n",
      "│ VIETNAM       │   1995 │ 468658193.1331 │\n",
      "│ VIETNAM       │   1994 │ 478019622.5095 │\n",
      "│ VIETNAM       │   1993 │ 469271925.6739 │\n",
      "│ VIETNAM       │   1992 │ 463962943.8714 │\n",
      "├───────────────┴────────┴────────────────┤\n",
      "│ 175 rows (20 shown)           3 columns │\n",
      "└─────────────────────────────────────────┘\n",
      "\n",
      "4.904187440872192\n",
      "Query10\n",
      "┌───────────┬────────────────────┬───────────────┬───────────────┬───────────────┬───────────────────────────────────────┬─────────────────┬─────────────────────────────────────────────────────────────────────────────────────────────────────────────────────┐\n",
      "│ c_custkey │       c_name       │    revenue    │   c_acctbal   │    n_name     │               c_address               │     c_phone     │                                                      c_comment                                                      │\n",
      "│   int64   │      varchar       │ decimal(38,4) │ decimal(15,2) │    varchar    │                varchar                │     varchar     │                                                       varchar                                                       │\n",
      "├───────────┼────────────────────┼───────────────┼───────────────┼───────────────┼───────────────────────────────────────┼─────────────────┼─────────────────────────────────────────────────────────────────────────────────────────────────────────────────────┤\n",
      "│   1237537 │ Customer#001237537 │   884989.6657 │       7840.17 │ RUSSIA        │ mdkU4LpZECCtt20RHa76sA6b4WC           │ 32-367-120-4327 │ yly regular accounts boost. requests need to nag evenly                                                             │\n",
      "│   1116802 │ Customer#001116802 │   830214.1117 │        772.17 │ JORDAN        │ iBka7YijCCLApX1f 8 sKp 5ldP           │ 23-199-655-3770 │ y carefully regular deposits. packages nod ironic packages                                                          │\n",
      "│    508954 │ Customer#000508954 │   826167.5138 │       3072.07 │ ETHIOPIA      │ tKQLmGq3MOqXiTmNZQRp                  │ 15-880-510-9487 │ t the quickly pending deposits. carefully express dependencies detect. blithely regular                             │\n",
      "│   1487503 │ Customer#001487503 │   825996.5903 │       5398.11 │ IRAN          │ D tOJIC0rcVO                          │ 20-271-234-4401 │ ithely quiet deposits about the slyly final dolphins hinder carefully about the slyly ironic accounts. carefully ir │\n",
      "│   1461247 │ Customer#001461247 │   775992.0820 │       3205.93 │ SAUDI ARABIA  │ Ia1gHwdAyyFo,pCKhCkqX6                │ 30-137-949-5375 │ beans. furiously ironic realms after the slyly ironic sentiments are requests. courts was carefully about t         │\n",
      "│   1316338 │ Customer#001316338 │   765063.7003 │       8682.95 │ INDIA         │ QLsXlkrrAQ7fz5TDIoDUVsUMsH1pBOG       │ 18-793-610-3832 │ olites sleep furiously ironic instructions. final, final ideas wake carefully after the slyly iron                  │\n",
      "│    817849 │ Customer#000817849 │   737664.7232 │       -380.30 │ MOROCCO       │ UKsTjQdC5d9PwYXz u                    │ 25-111-847-3201 │ ts after the slyly regular excuses wake pending accounts. deposits wake? carefully ironic foxes wa                  │\n",
      "│   1335394 │ Customer#001335394 │   731259.8675 │       3978.53 │ VIETNAM       │ FNdEi9tP 5eQib8C                      │ 31-760-271-2302 │ ly ironic, final foxes. slyly bold instructions                                                                     │\n",
      "│    102358 │ Customer#000102358 │   715001.8825 │       3564.90 │ BRAZIL        │ 3BnBw0 bZWmVue6bPGn513kOeitBl5VHj     │ 12-941-212-8350 │  furiously furiously dogged deposits. regular accounts are furiously furiously pending instructions. carefu         │\n",
      "│   1432624 │ Customer#001432624 │   713512.6431 │        205.08 │ FRANCE        │ e7o5TBwh,bLO6flPI05Nrp0,1Q8m19ODDs0   │ 16-550-232-2774 │ y ironic packages. slyly silent instructions cajole about the a                                                     │\n",
      "│    160528 │ Customer#000160528 │   710673.3317 │       3425.52 │ INDONESIA     │ VrYJ,qyK75m PkPLTQT7KocfwMwPYQTlcEYBz │ 19-670-600-6340 │ blithely even deposits sleep until the even accounts                                                                │\n",
      "│   1345237 │ Customer#001345237 │   707735.5745 │       6905.22 │ FRANCE        │ QJxZWEukcxoDYlFOgUGIOuGay             │ 16-133-279-4001 │ symptotes integrate according to the sl                                                                             │\n",
      "│    839816 │ Customer#000839816 │   705643.2854 │       2110.25 │ UNITED STATES │ r9c CDy,MgOouA                        │ 34-453-282-7925 │ sly sly pinto beans wake quickly slyly final packages. express deposit                                              │\n",
      "│   1136716 │ Customer#001136716 │   695043.5606 │       5886.01 │ CHINA         │ yqiALHYT6gaiip1g6wgnM6ctJ             │ 28-729-762-5783 │ out the fluffily pending requests. furiously ironic forges integrate. quickly bold theod                            │\n",
      "│   1439413 │ Customer#001439413 │   690161.9783 │       8808.65 │ ETHIOPIA      │ 5vMec8OoAWrStjng                      │ 15-432-961-8772 │ boost across the regular, ironic packages. final instructions                                                       │\n",
      "│   1392475 │ Customer#001392475 │   685464.4086 │        593.26 │ SAUDI ARABIA  │ sbjxdO1xOzy1wBIhAOzp6b2,9sHMj8q1f     │ 30-640-220-2095 │ c accounts. always final instructions boost according to the final                                                  │\n",
      "│    616909 │ Customer#000616909 │   684978.1044 │       2660.84 │ EGYPT         │ Jg9FiC98BUWmlBb3WTN                   │ 14-185-768-2185 │ s about the busy ideas affix f                                                                                      │\n",
      "│    314272 │ Customer#000314272 │   682212.6365 │       5127.92 │ UNITED STATES │  LKR3R5VStcAlT4D,qGBJLWYkmJU          │ 34-674-752-5199 │ ng to the slyly express instructions sleep fluffily even foxes. special id                                          │\n",
      "│   1472980 │ Customer#001472980 │   677765.9180 │       6003.36 │ IRAQ          │ JIMreXGvswrve5rkBww                   │ 21-506-776-4657 │ e. packages according to the instructions are among the even, regular th                                            │\n",
      "│   1486201 │ Customer#001486201 │   674878.4539 │       -276.92 │ JORDAN        │ 8hJKgyMlv Ay3fyNDJFvszoYd             │ 23-611-797-4750 │ es nag. silent accounts are blithely daring packages.                                                               │\n",
      "├───────────┴────────────────────┴───────────────┴───────────────┴───────────────┴───────────────────────────────────────┴─────────────────┴─────────────────────────────────────────────────────────────────────────────────────────────────────────────────────┤\n",
      "│ 20 rows                                                                                                                                                                                                                                              8 columns │\n",
      "└────────────────────────────────────────────────────────────────────────────────────────────────────────────────────────────────────────────────────────────────────────────────────────────────────────────────────────────────────────────────────────────────┘\n",
      "\n",
      "1.9867043495178223\n",
      "Query11\n",
      "┌────────────┬───────────────┐\n",
      "│ ps_partkey │     value     │\n",
      "│   int64    │ decimal(38,2) │\n",
      "├────────────┼───────────────┤\n",
      "│     393251 │   20382773.62 │\n",
      "│     534271 │   19554795.32 │\n",
      "│     828067 │   19354244.05 │\n",
      "│    1878002 │   19163817.20 │\n",
      "│      28091 │   19108633.28 │\n",
      "│    1598052 │   18718989.58 │\n",
      "│    1106308 │   18685549.06 │\n",
      "│     930028 │   18634219.75 │\n",
      "│    1682288 │   18284365.73 │\n",
      "│     562641 │   18259785.46 │\n",
      "│        ·   │         ·     │\n",
      "│        ·   │         ·     │\n",
      "│        ·   │         ·     │\n",
      "│    1426043 │    8104739.49 │\n",
      "│    1558544 │    8104706.76 │\n",
      "│     348477 │    8104648.32 │\n",
      "│     112689 │    8104635.81 │\n",
      "│    1413930 │    8104587.72 │\n",
      "│     330525 │    8104337.64 │\n",
      "│     679793 │    8104269.50 │\n",
      "│    1392635 │    8103741.46 │\n",
      "│     984847 │    8103432.30 │\n",
      "│     416296 │    8102924.38 │\n",
      "├────────────┴───────────────┤\n",
      "│    8685 rows (20 shown)    │\n",
      "└────────────────────────────┘\n",
      "\n",
      "1.6454551219940186\n",
      "Query12\n",
      "┌────────────┬─────────────────┬────────────────┐\n",
      "│ l_shipmode │ high_line_count │ low_line_count │\n",
      "│  varchar   │     int128      │     int128     │\n",
      "├────────────┼─────────────────┼────────────────┤\n",
      "│ MAIL       │           62071 │          93045 │\n",
      "│ SHIP       │           62426 │          93261 │\n",
      "└────────────┴─────────────────┴────────────────┘\n",
      "\n",
      "1.4529056549072266\n",
      "Query13\n"
     ]
    },
    {
     "data": {
      "application/vnd.jupyter.widget-view+json": {
       "model_id": "8898fe148b894a73a15924f1d21ce139",
       "version_major": 2,
       "version_minor": 0
      },
      "text/plain": [
       "FloatProgress(value=0.0, layout=Layout(width='auto'), style=ProgressStyle(bar_color='black'))"
      ]
     },
     "metadata": {},
     "output_type": "display_data"
    },
    {
     "name": "stdout",
     "output_type": "stream",
     "text": [
      "┌─────────┬──────────┐\n",
      "│ c_count │ custdist │\n",
      "│  int64  │  int64   │\n",
      "├─────────┼──────────┤\n",
      "│       0 │   500019 │\n",
      "│      10 │    66125 │\n",
      "│       9 │    65012 │\n",
      "│      11 │    62192 │\n",
      "│       8 │    58445 │\n",
      "│      12 │    55784 │\n",
      "│      13 │    49943 │\n",
      "│      19 │    46595 │\n",
      "│       7 │    46529 │\n",
      "│      18 │    46036 │\n",
      "│       · │       ·  │\n",
      "│       · │       ·  │\n",
      "│       · │       ·  │\n",
      "│       1 │      232 │\n",
      "│      36 │      144 │\n",
      "│      37 │       83 │\n",
      "│      38 │       47 │\n",
      "│      39 │       16 │\n",
      "│      40 │        9 │\n",
      "│      41 │        7 │\n",
      "│      42 │        4 │\n",
      "│      43 │        3 │\n",
      "│      46 │        1 │\n",
      "├─────────┴──────────┤\n",
      "│ 45 rows (20 shown) │\n",
      "└────────────────────┘\n",
      "\n",
      "2.895189046859741\n",
      "Query14\n",
      "┌────────────────────┐\n",
      "│   promo_revenue    │\n",
      "│       double       │\n",
      "├────────────────────┤\n",
      "│ 16.647594941615097 │\n",
      "└────────────────────┘\n",
      "\n",
      "0.9922280311584473\n",
      "Query15\n",
      "┌───────────┬────────────────────┬──────────────────────────────────────────┬─────────────────┬───────────────┐\n",
      "│ s_suppkey │       s_name       │                s_address                 │     s_phone     │ total_revenue │\n",
      "│   int64   │      varchar       │                 varchar                  │     varchar     │ decimal(38,4) │\n",
      "├───────────┼────────────────────┼──────────────────────────────────────────┼─────────────────┼───────────────┤\n",
      "│     69998 │ Supplier#000069998 │ 117W54YtKASNfzkZRS8P32856BMj0HKf895vdukw │ 16-386-278-9829 │  2194132.8166 │\n",
      "└───────────┴────────────────────┴──────────────────────────────────────────┴─────────────────┴───────────────┘\n",
      "\n",
      "1.6592826843261719\n",
      "Query16\n",
      "┌──────────┬───────────────────────────┬────────┬──────────────┐\n",
      "│ p_brand  │          p_type           │ p_size │ supplier_cnt │\n",
      "│ varchar  │          varchar          │ int32  │    int64     │\n",
      "├──────────┼───────────────────────────┼────────┼──────────────┤\n",
      "│ Brand#44 │ STANDARD PLATED TIN       │      9 │          120 │\n",
      "│ Brand#12 │ STANDARD POLISHED COPPER  │     14 │          100 │\n",
      "│ Brand#11 │ LARGE BRUSHED STEEL       │     36 │           96 │\n",
      "│ Brand#23 │ PROMO BURNISHED STEEL     │     14 │           96 │\n",
      "│ Brand#34 │ MEDIUM BRUSHED STEEL      │     23 │           96 │\n",
      "│ Brand#53 │ PROMO BURNISHED BRASS     │     36 │           96 │\n",
      "│ Brand#54 │ STANDARD BRUSHED COPPER   │     19 │           96 │\n",
      "│ Brand#32 │ LARGE POLISHED COPPER     │     14 │           95 │\n",
      "│ Brand#43 │ LARGE PLATED COPPER       │     19 │           95 │\n",
      "│ Brand#11 │ SMALL BRUSHED STEEL       │      9 │           92 │\n",
      "│    ·     │          ·                │      · │            · │\n",
      "│    ·     │          ·                │      · │            · │\n",
      "│    ·     │          ·                │      · │            · │\n",
      "│ Brand#52 │ STANDARD BRUSHED BRASS    │     19 │           48 │\n",
      "│ Brand#52 │ STANDARD BRUSHED BRASS    │     49 │           48 │\n",
      "│ Brand#52 │ STANDARD BRUSHED COPPER   │      9 │           48 │\n",
      "│ Brand#52 │ STANDARD BRUSHED NICKEL   │     19 │           48 │\n",
      "│ Brand#52 │ STANDARD BRUSHED STEEL    │      3 │           48 │\n",
      "│ Brand#52 │ STANDARD BRUSHED STEEL    │     19 │           48 │\n",
      "│ Brand#52 │ STANDARD BRUSHED TIN      │     49 │           48 │\n",
      "│ Brand#52 │ STANDARD BURNISHED NICKEL │      9 │           48 │\n",
      "│ Brand#52 │ STANDARD BURNISHED STEEL  │     19 │           48 │\n",
      "│ Brand#52 │ STANDARD BURNISHED TIN    │     19 │           48 │\n",
      "├──────────┴───────────────────────────┴────────┴──────────────┤\n",
      "│ ? rows (>9999 rows, 20 shown)                      4 columns │\n",
      "└──────────────────────────────────────────────────────────────┘\n",
      "\n",
      "0.8969485759735107\n",
      "Query17\n"
     ]
    },
    {
     "data": {
      "application/vnd.jupyter.widget-view+json": {
       "model_id": "ae663cffd3de449890a01684bc5f2025",
       "version_major": 2,
       "version_minor": 0
      },
      "text/plain": [
       "FloatProgress(value=0.0, layout=Layout(width='auto'), style=ProgressStyle(bar_color='black'))"
      ]
     },
     "metadata": {},
     "output_type": "display_data"
    },
    {
     "name": "stdout",
     "output_type": "stream",
     "text": [
      "┌───────────────────┐\n",
      "│    avg_yearly     │\n",
      "│      double       │\n",
      "├───────────────────┤\n",
      "│ 3295493.512857143 │\n",
      "└───────────────────┘\n",
      "\n",
      "5.556429624557495\n",
      "Query18\n"
     ]
    },
    {
     "data": {
      "application/vnd.jupyter.widget-view+json": {
       "model_id": "2a3928b83cb449719808dfdcf12b753d",
       "version_major": 2,
       "version_minor": 0
      },
      "text/plain": [
       "FloatProgress(value=0.0, layout=Layout(width='auto'), style=ProgressStyle(bar_color='black'))"
      ]
     },
     "metadata": {},
     "output_type": "display_data"
    },
    {
     "name": "stdout",
     "output_type": "stream",
     "text": [
      "┌────────────────────┬───────────┬────────────┬─────────────┬───────────────┬───────────────────┐\n",
      "│       c_name       │ c_custkey │ o_orderkey │ o_orderdate │ o_totalprice  │ sum(l.l_quantity) │\n",
      "│      varchar       │   int64   │   int64    │    date     │ decimal(15,2) │   decimal(38,2)   │\n",
      "├────────────────────┼───────────┼────────────┼─────────────┼───────────────┼───────────────────┤\n",
      "│ Customer#001287812 │   1287812 │   42290181 │ 1997-11-26  │     558289.17 │            318.00 │\n",
      "│ Customer#000644812 │    644812 │    2745894 │ 1996-07-04  │     557664.53 │            304.00 │\n",
      "│ Customer#001172513 │   1172513 │   36667107 │ 1997-06-06  │     550142.18 │            322.00 │\n",
      "│ Customer#000399481 │    399481 │   43906817 │ 1995-04-06  │     549431.65 │            312.00 │\n",
      "│ Customer#000571654 │    571654 │   21213895 │ 1992-01-03  │     549380.08 │            327.00 │\n",
      "│ Customer#000667882 │    667882 │    2199712 │ 1996-09-30  │     542154.01 │            327.00 │\n",
      "│ Customer#001492954 │   1492954 │   30332516 │ 1996-03-10  │     541181.80 │            310.00 │\n",
      "│ Customer#001471966 │   1471966 │    1263015 │ 1997-02-02  │     540476.80 │            320.00 │\n",
      "│ Customer#001082018 │   1082018 │   31018979 │ 1995-12-06  │     537993.05 │            304.00 │\n",
      "│ Customer#001114039 │   1114039 │   30417318 │ 1995-10-31  │     536420.39 │            305.00 │\n",
      "│         ·          │       ·   │       ·    │     ·       │         ·     │               ·   │\n",
      "│         ·          │       ·   │       ·    │     ·       │         ·     │               ·   │\n",
      "│         ·          │       ·   │       ·    │     ·       │         ·     │               ·   │\n",
      "│ Customer#000166589 │    166589 │   46685344 │ 1993-12-14  │     496075.11 │            327.00 │\n",
      "│ Customer#001265035 │   1265035 │   12845285 │ 1993-05-25  │     495963.43 │            304.00 │\n",
      "│ Customer#000385288 │    385288 │   51929955 │ 1993-04-19  │     495841.65 │            304.00 │\n",
      "│ Customer#000903416 │    903416 │   22789733 │ 1997-06-18  │     494910.15 │            303.00 │\n",
      "│ Customer#000961012 │    961012 │    5984582 │ 1992-03-16  │     494315.92 │            312.00 │\n",
      "│ Customer#000608233 │    608233 │   28092902 │ 1997-03-23  │     494174.42 │            306.00 │\n",
      "│ Customer#001000373 │   1000373 │   18200676 │ 1994-06-22  │     494028.41 │            307.00 │\n",
      "│ Customer#000414544 │    414544 │   33162084 │ 1994-02-15  │     493935.58 │            304.00 │\n",
      "│ Customer#000149107 │    149107 │   52357185 │ 1993-04-06  │     493715.64 │            307.00 │\n",
      "│ Customer#000895330 │    895330 │   21312615 │ 1995-12-08  │     493501.75 │            303.00 │\n",
      "├────────────────────┴───────────┴────────────┴─────────────┴───────────────┴───────────────────┤\n",
      "│ 100 rows (20 shown)                                                                 6 columns │\n",
      "└───────────────────────────────────────────────────────────────────────────────────────────────┘\n",
      "\n",
      "4.448465347290039\n",
      "Query19\n",
      "┌───────────────┐\n",
      "│    revenue    │\n",
      "│ decimal(38,4) │\n",
      "├───────────────┤\n",
      "│ 30104438.0911 │\n",
      "└───────────────┘\n",
      "\n",
      "1.8064289093017578\n",
      "Query20\n"
     ]
    },
    {
     "data": {
      "application/vnd.jupyter.widget-view+json": {
       "model_id": "39f3e1b25d834b9599666623d4e85451",
       "version_major": 2,
       "version_minor": 0
      },
      "text/plain": [
       "FloatProgress(value=0.0, layout=Layout(width='auto'), style=ProgressStyle(bar_color='black'))"
      ]
     },
     "metadata": {},
     "output_type": "display_data"
    },
    {
     "name": "stdout",
     "output_type": "stream",
     "text": [
      "┌────────────────────┬────────────────────────────────────┐\n",
      "│       s_name       │             s_address              │\n",
      "│      varchar       │              varchar               │\n",
      "├────────────────────┼────────────────────────────────────┤\n",
      "│ Supplier#000000020 │ JtPqm19E7tF 152Rl1wQZ8j0H          │\n",
      "│ Supplier#000000285 │ q TMZEDyZtv vUiFKBhT3NJlnIxpL      │\n",
      "│ Supplier#000000358 │ 6XtuJkJj83BcCOV7bwV7wG5nkhazk      │\n",
      "│ Supplier#000000361 │ MSi62aEN53KaoRAiaH4GEo3EsKMXSwpPGU │\n",
      "│ Supplier#000000402 │ JR8vWoCteJtJg3okRpt0r28KEo         │\n",
      "│ Supplier#000000555 │ 8Lp0QWPLFXrJrX1sTWkAEdzUsh5ke      │\n",
      "│ Supplier#000000688 │ orLvVDOBBE2B2ppjbiTZTJoIJgn1VgKg3  │\n",
      "│ Supplier#000000729 │ CAOGYCBtTVT7aB1p6qHbxF6VVhXaHLgTpI │\n",
      "│ Supplier#000000744 │ WdgxvW4WEloeapP7H6cWHrGLCHkStwrM   │\n",
      "│ Supplier#000000752 │ GrOjezmDCNvHXl5                    │\n",
      "│         ·          │        ·                           │\n",
      "│         ·          │        ·                           │\n",
      "│         ·          │        ·                           │\n",
      "│ Supplier#000099851 │ mN2eREuPYxFBrwMt88MWBQCeyo         │\n",
      "│ Supplier#000099853 │ toZ71iI9flyYiZYSFuANjUap           │\n",
      "│ Supplier#000099869 │ 2nBkLFPIAMlCw CZcUL wX,YzB4        │\n",
      "│ Supplier#000099877 │ OXV4aL9PkiR1IboxY,tEcVP75          │\n",
      "│ Supplier#000099879 │ 35C4xGqvN1b                        │\n",
      "│ Supplier#000099892 │ QxSbm7mnz60pM7M5SvWKo VG           │\n",
      "│ Supplier#000099942 │ ghhs5Vb9W2EQnEUgo9Ov               │\n",
      "│ Supplier#000099955 │ ,bZnsB7Zbrf7,A d,5xOVrsGS          │\n",
      "│ Supplier#000099980 │ rzSiQNPTVI,nLw3BDF,eVMalMRuW       │\n",
      "│ Supplier#000099985 │ TdnOFf80mmicQWG6AIdIJFGXGcLwKcLXg2 │\n",
      "├────────────────────┴────────────────────────────────────┤\n",
      "│ 1804 rows (20 shown)                          2 columns │\n",
      "└─────────────────────────────────────────────────────────┘\n",
      "\n",
      "2.777519702911377\n",
      "Query21\n"
     ]
    },
    {
     "data": {
      "application/vnd.jupyter.widget-view+json": {
       "model_id": "d1de242d136843948a36eec33372b800",
       "version_major": 2,
       "version_minor": 0
      },
      "text/plain": [
       "FloatProgress(value=0.0, layout=Layout(width='auto'), style=ProgressStyle(bar_color='black'))"
      ]
     },
     "metadata": {},
     "output_type": "display_data"
    },
    {
     "name": "stdout",
     "output_type": "stream",
     "text": [
      "┌────────────────────┬─────────┐\n",
      "│       s_name       │ numwait │\n",
      "│      varchar       │  int64  │\n",
      "├────────────────────┼─────────┤\n",
      "│ Supplier#000062538 │      24 │\n",
      "│ Supplier#000032858 │      22 │\n",
      "│ Supplier#000063723 │      21 │\n",
      "│ Supplier#000089484 │      21 │\n",
      "│ Supplier#000007061 │      20 │\n",
      "│ Supplier#000034162 │      20 │\n",
      "│ Supplier#000086690 │      20 │\n",
      "│ Supplier#000097808 │      20 │\n",
      "│ Supplier#000004163 │      19 │\n",
      "│ Supplier#000016074 │      19 │\n",
      "│         ·          │       · │\n",
      "│         ·          │       · │\n",
      "│         ·          │       · │\n",
      "│ Supplier#000099320 │      17 │\n",
      "│ Supplier#000099325 │      17 │\n",
      "│ Supplier#000000114 │      16 │\n",
      "│ Supplier#000000821 │      16 │\n",
      "│ Supplier#000004199 │      16 │\n",
      "│ Supplier#000006757 │      16 │\n",
      "│ Supplier#000006795 │      16 │\n",
      "│ Supplier#000006824 │      16 │\n",
      "│ Supplier#000007491 │      16 │\n",
      "│ Supplier#000008301 │      16 │\n",
      "├────────────────────┴─────────┤\n",
      "│     100 rows (20 shown)      │\n",
      "└──────────────────────────────┘\n",
      "\n",
      "10.643506526947021\n",
      "Query22\n",
      "┌───────────┬─────────┬───────────────┐\n",
      "│ cntrycode │ numcust │  totacctbal   │\n",
      "│  varchar  │  int64  │ decimal(38,2) │\n",
      "├───────────┼─────────┼───────────────┤\n",
      "│ 13        │    9025 │   67592468.28 │\n",
      "│ 17        │    9067 │   68084663.34 │\n",
      "│ 18        │    9210 │   69312783.61 │\n",
      "│ 23        │    8984 │   67607771.32 │\n",
      "│ 29        │    9199 │   69015438.26 │\n",
      "│ 30        │    9343 │   70118838.04 │\n",
      "│ 31        │    9086 │   68144525.38 │\n",
      "└───────────┴─────────┴───────────────┘\n",
      "\n",
      "1.0553278923034668\n",
      "CPU times: user 1min 37s, sys: 3.46 s, total: 1min 41s\n",
      "Wall time: 1min 3s\n"
     ]
    }
   ],
   "source": [
    "%%time\n",
    "df=execute_query(duckdb, sql)\n",
    "df['Engine'] = 'warm'\n",
    "df['time']   = now\n",
    "df['sf']     = SF\n",
    "df['cpu']    = core\n",
    "df['test']   = 'tpch'\n",
    "write_deltalake(result_path,df,mode=\"append\") "
   ]
  },
  {
   "cell_type": "code",
   "execution_count": 16,
   "id": "ae4b1b55-9e4b-4586-a94d-ebda53ba996b",
   "metadata": {
    "jupyter": {
     "source_hidden": false
    },
    "jupyterDisplayViewState": {
     "chartOptions": {
      "aggregationType": "sum",
      "binsNumber": 10,
      "categoryFieldKeys": [
       "2"
      ],
      "chartType": "bar",
      "isStacked": false,
      "seriesFieldKeys": [
       "1"
      ],
      "wordFrequency": "-1"
     },
     "tableOptions": {},
     "viewOptionsGroup": [
      {
       "tabItems": [
        {
         "key": "0",
         "name": "Table",
         "options": {},
         "type": "table"
        },
        {
         "key": "2-f38m",
         "name": "Chart 2",
         "options": {
          "aggregationType": "avg",
          "binsNumber": 10,
          "categoryFieldKeys": [
           "0"
          ],
          "chartType": "column",
          "isStacked": false,
          "seriesFieldKeys": [
           "3",
           "4"
          ],
          "showDataLabels": true,
          "wordFrequency": "-1",
          "xAxisStyle": {
           "scale": "category"
          }
         },
         "type": "chart"
        }
       ]
      }
     ]
    },
    "microsoft": {
     "language": "python",
     "language_group": "jupyter_python"
    }
   },
   "outputs": [
    {
     "data": {
      "application/vnd.jupyter.statement-meta+json": {
       "execution_finish_time": "2025-05-14T10:09:42.4871821Z",
       "execution_start_time": "2025-05-14T10:09:41.5530645Z",
       "normalized_state": "finished",
       "parent_msg_id": "41082a0f-8b8b-426b-953c-9384984c16ec",
       "queued_time": "2025-05-14T10:09:41.5521999Z",
       "session_id": "12dd0466-4f0d-41bb-af95-b6994306a7b6",
       "session_start_time": null
      }
     },
     "metadata": {},
     "output_type": "display_data"
    },
    {
     "name": "stdout",
     "output_type": "stream",
     "text": [
      "┌─────────┬───────┬───────┬────────┬────────┐\n",
      "│  query  │  cpu  │  sf   │  cold  │  warm  │\n",
      "│ varchar │ int64 │ int64 │ double │ double │\n",
      "├─────────┼───────┼───────┼────────┼────────┤\n",
      "│ 01      │     2 │    10 │   12.7 │    4.2 │\n",
      "│ 02      │     2 │    10 │    2.4 │    1.5 │\n",
      "│ 03      │     2 │    10 │    3.6 │    2.0 │\n",
      "│ 04      │     2 │    10 │    3.7 │    1.4 │\n",
      "│ 05      │     2 │    10 │    5.2 │    3.3 │\n",
      "│ 06      │     2 │    10 │    0.7 │    0.7 │\n",
      "│ 07      │     2 │    10 │    2.6 │    2.7 │\n",
      "│ 08      │     2 │    10 │    5.0 │    3.2 │\n",
      "│ 09      │     2 │    10 │    5.2 │    4.9 │\n",
      "│ 10      │     2 │    10 │    3.3 │    2.0 │\n",
      "│ 11      │     2 │    10 │    1.2 │    1.2 │\n",
      "│ 12      │     2 │    10 │    2.1 │    1.5 │\n",
      "│ 13      │     2 │    10 │    4.6 │    2.9 │\n",
      "│ 14      │     2 │    10 │    1.0 │    1.0 │\n",
      "│ 15      │     2 │    10 │    1.7 │    1.7 │\n",
      "│ 16      │     2 │    10 │    0.8 │    0.8 │\n",
      "│ 17      │     2 │    10 │    4.8 │    5.6 │\n",
      "│ 18      │     2 │    10 │    5.1 │    4.7 │\n",
      "│ 19      │     2 │    10 │    2.7 │    1.8 │\n",
      "│ 20      │     2 │    10 │    3.0 │    2.8 │\n",
      "│ 21      │     2 │    10 │   10.4 │   10.8 │\n",
      "│ 22      │     2 │    10 │    1.0 │    1.0 │\n",
      "├─────────┴───────┴───────┴────────┴────────┤\n",
      "│ 22 rows                         5 columns │\n",
      "└───────────────────────────────────────────┘\n",
      "\n"
     ]
    }
   ],
   "source": [
    "result = DeltaTable(result_path).to_pyarrow_dataset()\n",
    "pv = duckdb.sql(f\"\"\"\n",
    "                        PIVOT (\n",
    "                              select Engine,cpu, dur,sf, query from result \n",
    "                              where cpu = {core} and test  ='tpch'  and sf = {SF}\n",
    "                              )\n",
    "                        ON Engine   using avg(dur) order by query\"\"\")\n",
    "xx = duckdb.sql(\"\"\" select FORMAT('{:02d}', query) as query,cpu,sf, round(sum(COLUMNS(*exclude(query,cpu,sf))),1) from pv  group by all order by query asc  \"\"\")\n",
    "xx.show()"
   ]
  },
  {
   "cell_type": "code",
   "execution_count": 17,
   "id": "fd1273c1-14b1-4641-8615-d1eeff444fc4",
   "metadata": {
    "jupyterDisplayViewState": {
     "chartOptions": {
      "aggregationType": "sum",
      "binsNumber": 10,
      "categoryFieldKeys": [],
      "chartType": "bar",
      "isStacked": false,
      "seriesFieldKeys": [
       "2"
      ],
      "wordFrequency": "-1"
     },
     "tableOptions": {},
     "viewOptionsGroup": [
      {
       "tabItems": [
        {
         "key": "0",
         "name": "Table",
         "options": {},
         "type": "table"
        },
        {
         "key": "2-u1ai",
         "name": "Chart 2",
         "options": {
          "aggregationType": "sum",
          "binsNumber": 10,
          "categoryFieldKeys": [
           "1"
          ],
          "chartType": "column",
          "isStacked": false,
          "legend": "top",
          "seriesFieldKeys": [
           "4",
           "5",
           "6"
          ],
          "showDataLabels": true,
          "theme": "colorBlindSafe",
          "title": "tpch_10, Fabric Notebbok 2 cores",
          "wordFrequency": "-1",
          "xAxisStyle": {
           "label": ""
          },
          "yAxisStyle": {
           "label": "lower is better (second)"
          }
         },
         "type": "chart"
        }
       ]
      }
     ]
    },
    "microsoft": {
     "language": "python",
     "language_group": "jupyter_python"
    }
   },
   "outputs": [
    {
     "data": {
      "application/vnd.jupyter.statement-meta+json": {
       "execution_finish_time": "2025-05-14T10:09:54.1731051Z",
       "execution_start_time": "2025-05-14T10:09:53.7544831Z",
       "normalized_state": "finished",
       "parent_msg_id": "880d1ca8-6707-4af3-a684-24431a3cc752",
       "queued_time": "2025-05-14T10:09:53.7535725Z",
       "session_id": "12dd0466-4f0d-41bb-af95-b6994306a7b6",
       "session_start_time": null
      }
     },
     "metadata": {},
     "output_type": "display_data"
    },
    {
     "name": "stdout",
     "output_type": "stream",
     "text": [
      "┌───────┬───────┬────────┬────────┐\n",
      "│  cpu  │  sf   │  cold  │  warm  │\n",
      "│ int64 │ int64 │ double │ double │\n",
      "├───────┼───────┼────────┼────────┤\n",
      "│     2 │    10 │   82.8 │   61.7 │\n",
      "└───────┴───────┴────────┴────────┘\n",
      "\n"
     ]
    }
   ],
   "source": [
    "duckdb.sql(\" select cpu ,sf, round(sum(COLUMNS(*exclude(query,cpu,sf))),1) from xx group by all\").show()"
   ]
  },
  {
   "cell_type": "code",
   "execution_count": 18,
   "id": "9b4e25c0-d783-437f-bada-7186744c6866",
   "metadata": {
    "microsoft": {
     "language": "python",
     "language_group": "jupyter_python"
    }
   },
   "outputs": [
    {
     "data": {
      "application/vnd.jupyter.statement-meta+json": {
       "execution_finish_time": "2025-05-14T10:09:54.6019149Z",
       "execution_start_time": "2025-05-14T10:09:54.1742919Z",
       "normalized_state": "finished",
       "parent_msg_id": "428c32c9-e483-4085-92c7-a67f0dfbc46b",
       "queued_time": "2025-05-14T10:09:53.8491409Z",
       "session_id": "12dd0466-4f0d-41bb-af95-b6994306a7b6",
       "session_start_time": null
      }
     },
     "metadata": {},
     "output_type": "display_data"
    },
    {
     "data": {
      "text/plain": [
       "┌────────────────────┬───────────────┐\n",
       "│ in_memory_cache_mb │ disk_cache_mb │\n",
       "│       double       │    double     │\n",
       "├────────────────────┼───────────────┤\n",
       "│             1481.0 │           0.0 │\n",
       "└────────────────────┴───────────────┘"
      ]
     },
     "execution_count": 17,
     "metadata": {},
     "output_type": "execute_result"
    }
   ],
   "source": [
    "duckdb.sql(\"select round(memory_usage_bytes/1048576,0) in_memory_cache_mb , round(temporary_storage_bytes/1048576,0) as disk_cache_mb from duckdb_memory() where tag = 'EXTERNAL_FILE_CACHE'; \")"
   ]
  }
 ],
 "metadata": {
  "a365ComputeOptions": null,
  "colab": {
   "collapsed_sections": [
    "wq5HHFy_fbze"
   ],
   "provenance": [],
   "toc_visible": true
  },
  "dependencies": {
   "lakehouse": {}
  },
  "kernel_info": {
   "jupyter_kernel_name": "python3.11",
   "name": "jupyter"
  },
  "kernelspec": {
   "display_name": "Jupyter",
   "language": "Jupyter",
   "name": "jupyter"
  },
  "language_info": {
   "name": "python"
  },
  "microsoft": {
   "language": "python",
   "language_group": "jupyter_python",
   "ms_spell_check": {
    "ms_spell_check_language": "en"
   }
  },
  "nteract": {
   "version": "nteract-front-end@1.0.0"
  },
  "sessionKeepAliveTimeout": 0,
  "spark_compute": {
   "compute_id": "/trident/default",
   "session_options": {
    "conf": {
     "spark.synapse.nbs.session.timeout": "1200000"
    }
   }
  },
  "synapse_widget": {
   "state": {},
   "version": "0.1"
  },
  "vscode": {
   "interpreter": {
    "hash": "a00db2a08d8e812a7e35133a98e8cfd4141d13fcbd55f5b6e55385387fe8d2b4"
   }
  },
  "widgets": {
   "application/vnd.jupyter.widget-state+json": {
    "state": {
     "00454e681e7e457db20b7c7502817575": {
      "model_module": "@jupyter-widgets/controls",
      "model_module_version": "2.0.0",
      "model_name": "FloatProgressModel",
      "state": {
       "layout": "IPY_MODEL_456326fa561e437ea0635c0757dffcb2",
       "style": "IPY_MODEL_418859e29ed64d79b2bd5fd049a1b1a0",
       "value": 100
      }
     },
     "006e78b18120405c93236d996c8be62d": {
      "model_module": "@jupyter-widgets/base",
      "model_module_version": "2.0.0",
      "model_name": "LayoutModel",
      "state": {
       "width": "auto"
      }
     },
     "009b8addb4fa428da03bd6b5a2bcf3eb": {
      "model_module": "@jupyter-widgets/controls",
      "model_module_version": "2.0.0",
      "model_name": "ProgressStyleModel",
      "state": {
       "bar_color": "black",
       "description_width": ""
      }
     },
     "010c150e44c84610ba4f0a230a26061a": {
      "model_module": "@jupyter-widgets/base",
      "model_module_version": "2.0.0",
      "model_name": "LayoutModel",
      "state": {
       "width": "auto"
      }
     },
     "01c7d3763f3f46a784b4d8e4b507d628": {
      "model_module": "@jupyter-widgets/controls",
      "model_module_version": "2.0.0",
      "model_name": "ProgressStyleModel",
      "state": {
       "bar_color": "black",
       "description_width": ""
      }
     },
     "02b8037dd10e40b6843288b15bef4cdf": {
      "model_module": "@jupyter-widgets/controls",
      "model_module_version": "2.0.0",
      "model_name": "ProgressStyleModel",
      "state": {
       "bar_color": "black",
       "description_width": ""
      }
     },
     "0645d0b405f340a18cff05d1434f3ad6": {
      "model_module": "@jupyter-widgets/controls",
      "model_module_version": "2.0.0",
      "model_name": "FloatProgressModel",
      "state": {
       "layout": "IPY_MODEL_54da33c7f4bf4c45abccf7283123b6fa",
       "style": "IPY_MODEL_cd8a17a553374ad6bd2a3cdd76dbe920",
       "value": 100
      }
     },
     "069f1457efd94578b36f7d5775059d4a": {
      "model_module": "@jupyter-widgets/base",
      "model_module_version": "2.0.0",
      "model_name": "LayoutModel",
      "state": {
       "width": "auto"
      }
     },
     "09a6459e90e14d48be57e401b609e065": {
      "model_module": "@jupyter-widgets/base",
      "model_module_version": "2.0.0",
      "model_name": "LayoutModel",
      "state": {
       "width": "auto"
      }
     },
     "0c5254eb1e164f19b4af9af451ad938c": {
      "model_module": "@jupyter-widgets/base",
      "model_module_version": "2.0.0",
      "model_name": "LayoutModel",
      "state": {
       "width": "auto"
      }
     },
     "0c7d574fb0f949c8b3e1b7dc44efed0f": {
      "model_module": "@jupyter-widgets/base",
      "model_module_version": "2.0.0",
      "model_name": "LayoutModel",
      "state": {
       "width": "auto"
      }
     },
     "110335c915cc433cae36566a49bca5a6": {
      "model_module": "@jupyter-widgets/base",
      "model_module_version": "2.0.0",
      "model_name": "LayoutModel",
      "state": {
       "width": "auto"
      }
     },
     "11db2f712b77441b920094fe99efd4e1": {
      "model_module": "@jupyter-widgets/controls",
      "model_module_version": "2.0.0",
      "model_name": "ProgressStyleModel",
      "state": {
       "bar_color": "black",
       "description_width": ""
      }
     },
     "12e98273a6e04890b4a9959101b8cd3f": {
      "model_module": "@jupyter-widgets/controls",
      "model_module_version": "2.0.0",
      "model_name": "ProgressStyleModel",
      "state": {
       "bar_color": "black",
       "description_width": ""
      }
     },
     "17acc0c3e8d24528b958e9156496dc9f": {
      "model_module": "@jupyter-widgets/controls",
      "model_module_version": "2.0.0",
      "model_name": "ProgressStyleModel",
      "state": {
       "bar_color": "black",
       "description_width": ""
      }
     },
     "1814a9249772443b9417eeb3cd5828d2": {
      "model_module": "@jupyter-widgets/controls",
      "model_module_version": "2.0.0",
      "model_name": "FloatProgressModel",
      "state": {
       "layout": "IPY_MODEL_37b89c76bf2b481480393a87e1621d21",
       "style": "IPY_MODEL_bcb614d3c6ef4095b173e67e93acceee",
       "value": 56
      }
     },
     "183c681799414cce8c4097287522114e": {
      "model_module": "@jupyter-widgets/base",
      "model_module_version": "2.0.0",
      "model_name": "LayoutModel",
      "state": {
       "width": "auto"
      }
     },
     "1857f957deb4493a9ae115ef0d9a6ba3": {
      "model_module": "@jupyter-widgets/base",
      "model_module_version": "2.0.0",
      "model_name": "LayoutModel",
      "state": {
       "width": "auto"
      }
     },
     "1bd70996fac24950a2c1f91822eabfc6": {
      "model_module": "@jupyter-widgets/controls",
      "model_module_version": "2.0.0",
      "model_name": "ProgressStyleModel",
      "state": {
       "bar_color": "black",
       "description_width": ""
      }
     },
     "1ccdbe7db30c480590753c0703b11af5": {
      "model_module": "@jupyter-widgets/controls",
      "model_module_version": "2.0.0",
      "model_name": "FloatProgressModel",
      "state": {
       "layout": "IPY_MODEL_90d5d6aef4dc46d9903cfd4202bf8097",
       "style": "IPY_MODEL_8dd8a2fe0d1042359fc9136ae0739102",
       "value": 100
      }
     },
     "1d0fcefae10b431c80c5ad67e2c1ea1d": {
      "model_module": "@jupyter-widgets/controls",
      "model_module_version": "2.0.0",
      "model_name": "FloatProgressModel",
      "state": {
       "layout": "IPY_MODEL_3a5a83a5b351454a906105024c646f75",
       "style": "IPY_MODEL_12e98273a6e04890b4a9959101b8cd3f",
       "value": 29
      }
     },
     "1d79d151f121474f96ae6efa9648ca20": {
      "model_module": "@jupyter-widgets/base",
      "model_module_version": "2.0.0",
      "model_name": "LayoutModel",
      "state": {
       "width": "auto"
      }
     },
     "1e5202bc76b940f79e9640817fd3e725": {
      "model_module": "@jupyter-widgets/base",
      "model_module_version": "2.0.0",
      "model_name": "LayoutModel",
      "state": {
       "width": "auto"
      }
     },
     "2038298067704ea9944c0378a84fd60f": {
      "model_module": "@jupyter-widgets/controls",
      "model_module_version": "2.0.0",
      "model_name": "FloatProgressModel",
      "state": {
       "layout": "IPY_MODEL_069f1457efd94578b36f7d5775059d4a",
       "style": "IPY_MODEL_63b440a797b6409ea418b8bd9bbbdec8",
       "value": 100
      }
     },
     "2134389245dc419eb1f7c484e9ef4b80": {
      "model_module": "@jupyter-widgets/base",
      "model_module_version": "2.0.0",
      "model_name": "LayoutModel",
      "state": {
       "width": "auto"
      }
     },
     "218222d877644ef2afdfd7fee16e2ee2": {
      "model_module": "@jupyter-widgets/controls",
      "model_module_version": "2.0.0",
      "model_name": "ProgressStyleModel",
      "state": {
       "bar_color": "black",
       "description_width": ""
      }
     },
     "22c5874ade904b2cab4e8a85f845d2ca": {
      "model_module": "@jupyter-widgets/controls",
      "model_module_version": "2.0.0",
      "model_name": "ProgressStyleModel",
      "state": {
       "bar_color": "black",
       "description_width": ""
      }
     },
     "2399cb90b0a34796987591ab36dda11a": {
      "model_module": "@jupyter-widgets/controls",
      "model_module_version": "2.0.0",
      "model_name": "ProgressStyleModel",
      "state": {
       "bar_color": "black",
       "description_width": ""
      }
     },
     "2405a7c20bf9401da7d7fc035da8e767": {
      "model_module": "@jupyter-widgets/controls",
      "model_module_version": "2.0.0",
      "model_name": "FloatProgressModel",
      "state": {
       "layout": "IPY_MODEL_2c93a4556dbb4c76b25f2126c4bf4efb",
       "style": "IPY_MODEL_47afe129a0cd413b81c329413bdb8268",
       "value": 9
      }
     },
     "251f5d3489814745bad37328ca08b109": {
      "model_module": "@jupyter-widgets/controls",
      "model_module_version": "2.0.0",
      "model_name": "ProgressStyleModel",
      "state": {
       "bar_color": "black",
       "description_width": ""
      }
     },
     "26d5959476e8446ba4991374aee9f0a7": {
      "model_module": "@jupyter-widgets/controls",
      "model_module_version": "2.0.0",
      "model_name": "FloatProgressModel",
      "state": {
       "layout": "IPY_MODEL_66aaf3a417b64690aeeb9c4418c359c0",
       "style": "IPY_MODEL_4ba852b1fd3545f7be2e0a389bd74dd7",
       "value": 100
      }
     },
     "27001958945d4043a84303873df3ccc3": {
      "model_module": "@jupyter-widgets/controls",
      "model_module_version": "2.0.0",
      "model_name": "FloatProgressModel",
      "state": {
       "layout": "IPY_MODEL_0c7d574fb0f949c8b3e1b7dc44efed0f",
       "style": "IPY_MODEL_84e45f20d8d2400ba3dd5e732cc02306",
       "value": 33
      }
     },
     "2a3928b83cb449719808dfdcf12b753d": {
      "model_module": "@jupyter-widgets/controls",
      "model_module_version": "2.0.0",
      "model_name": "FloatProgressModel",
      "state": {
       "layout": "IPY_MODEL_92c4a456053447bd8dd47d4eb48c3cb9",
       "style": "IPY_MODEL_76a9dc140ce9426a90280a2bf1eee1b8",
       "value": 27
      }
     },
     "2a61f528c76a43c9b7045a36cf5588a7": {
      "model_module": "@jupyter-widgets/base",
      "model_module_version": "2.0.0",
      "model_name": "LayoutModel",
      "state": {
       "width": "auto"
      }
     },
     "2b05884d5e134bc181ef37302eedebc8": {
      "model_module": "@jupyter-widgets/controls",
      "model_module_version": "2.0.0",
      "model_name": "FloatProgressModel",
      "state": {
       "layout": "IPY_MODEL_8d8956434c134426ad2c97db6800cd57",
       "style": "IPY_MODEL_009b8addb4fa428da03bd6b5a2bcf3eb",
       "value": 16
      }
     },
     "2c93a4556dbb4c76b25f2126c4bf4efb": {
      "model_module": "@jupyter-widgets/base",
      "model_module_version": "2.0.0",
      "model_name": "LayoutModel",
      "state": {
       "width": "auto"
      }
     },
     "2e06370c6bfb42f1aa76e3d6a5f6d319": {
      "model_module": "@jupyter-widgets/controls",
      "model_module_version": "2.0.0",
      "model_name": "FloatProgressModel",
      "state": {
       "layout": "IPY_MODEL_36ce4dde8e8646f4b594282b971edb48",
       "style": "IPY_MODEL_3f4b49112e54483dbdf58efe0ea80ce9",
       "value": 76
      }
     },
     "2f5fddc69e214614940b9906b1c723bc": {
      "model_module": "@jupyter-widgets/base",
      "model_module_version": "2.0.0",
      "model_name": "LayoutModel",
      "state": {
       "width": "auto"
      }
     },
     "2f73ad8f5681470f971d37da11371a08": {
      "model_module": "@jupyter-widgets/controls",
      "model_module_version": "2.0.0",
      "model_name": "FloatProgressModel",
      "state": {
       "layout": "IPY_MODEL_ee72d80b0e5d4f74acc574e9a9fd58ce",
       "style": "IPY_MODEL_d7ff71f149054d0995449d8a46004010",
       "value": 100
      }
     },
     "35c63681c19f443eaf277c2066d12197": {
      "model_module": "@jupyter-widgets/controls",
      "model_module_version": "2.0.0",
      "model_name": "ProgressStyleModel",
      "state": {
       "bar_color": "black",
       "description_width": ""
      }
     },
     "36ce4dde8e8646f4b594282b971edb48": {
      "model_module": "@jupyter-widgets/base",
      "model_module_version": "2.0.0",
      "model_name": "LayoutModel",
      "state": {
       "width": "auto"
      }
     },
     "37b89c76bf2b481480393a87e1621d21": {
      "model_module": "@jupyter-widgets/base",
      "model_module_version": "2.0.0",
      "model_name": "LayoutModel",
      "state": {
       "width": "auto"
      }
     },
     "38bb9a36f4d04ce681b71b9746749b3f": {
      "model_module": "@jupyter-widgets/controls",
      "model_module_version": "2.0.0",
      "model_name": "ProgressStyleModel",
      "state": {
       "bar_color": "black",
       "description_width": ""
      }
     },
     "39260a76f87d41a4ab15b2b4d8a4d245": {
      "model_module": "@jupyter-widgets/controls",
      "model_module_version": "2.0.0",
      "model_name": "FloatProgressModel",
      "state": {
       "layout": "IPY_MODEL_520935da0ac647139dbb0741d9a506cb",
       "style": "IPY_MODEL_9e5d37df6d8b4417a98ee5dfd64ee4a4",
       "value": 49
      }
     },
     "39f3e1b25d834b9599666623d4e85451": {
      "model_module": "@jupyter-widgets/controls",
      "model_module_version": "2.0.0",
      "model_name": "FloatProgressModel",
      "state": {
       "layout": "IPY_MODEL_f961abb27c054b529ec161aaa08b08a4",
       "style": "IPY_MODEL_941fac41b6a1466c9146440cde54b679",
       "value": 5
      }
     },
     "3a5a83a5b351454a906105024c646f75": {
      "model_module": "@jupyter-widgets/base",
      "model_module_version": "2.0.0",
      "model_name": "LayoutModel",
      "state": {
       "width": "auto"
      }
     },
     "3bb0f301a0294d8596125377e755537e": {
      "model_module": "@jupyter-widgets/base",
      "model_module_version": "2.0.0",
      "model_name": "LayoutModel",
      "state": {
       "width": "auto"
      }
     },
     "3c98b57481744036b3dc7d7dea37f8d0": {
      "model_module": "@jupyter-widgets/controls",
      "model_module_version": "2.0.0",
      "model_name": "FloatProgressModel",
      "state": {
       "layout": "IPY_MODEL_2f5fddc69e214614940b9906b1c723bc",
       "style": "IPY_MODEL_11db2f712b77441b920094fe99efd4e1",
       "value": 4
      }
     },
     "3d03520b906d49b190b10ea1bddbc57a": {
      "model_module": "@jupyter-widgets/base",
      "model_module_version": "2.0.0",
      "model_name": "LayoutModel",
      "state": {
       "width": "auto"
      }
     },
     "3f385110aca14cf1aac7652353a0a23f": {
      "model_module": "@jupyter-widgets/controls",
      "model_module_version": "2.0.0",
      "model_name": "FloatProgressModel",
      "state": {
       "layout": "IPY_MODEL_ac4ba7dbf97d44b4860a5839052e26d7",
       "style": "IPY_MODEL_8fecd25e266e4de4ab75eb9efdb97944",
       "value": 100
      }
     },
     "3f4b49112e54483dbdf58efe0ea80ce9": {
      "model_module": "@jupyter-widgets/controls",
      "model_module_version": "2.0.0",
      "model_name": "ProgressStyleModel",
      "state": {
       "bar_color": "black",
       "description_width": ""
      }
     },
     "4093493c332a4522b7966aa6c9f71e10": {
      "model_module": "@jupyter-widgets/base",
      "model_module_version": "2.0.0",
      "model_name": "LayoutModel",
      "state": {
       "width": "auto"
      }
     },
     "418859e29ed64d79b2bd5fd049a1b1a0": {
      "model_module": "@jupyter-widgets/controls",
      "model_module_version": "2.0.0",
      "model_name": "ProgressStyleModel",
      "state": {
       "bar_color": "black",
       "description_width": ""
      }
     },
     "41a3dc51f55e41929a67ce729feab010": {
      "model_module": "@jupyter-widgets/base",
      "model_module_version": "2.0.0",
      "model_name": "LayoutModel",
      "state": {
       "width": "auto"
      }
     },
     "4312c3bbf8114bdbbbd6031848c6af8c": {
      "model_module": "@jupyter-widgets/base",
      "model_module_version": "2.0.0",
      "model_name": "LayoutModel",
      "state": {
       "width": "auto"
      }
     },
     "44818f3742c64c10bf4870100919bdff": {
      "model_module": "@jupyter-widgets/controls",
      "model_module_version": "2.0.0",
      "model_name": "ProgressStyleModel",
      "state": {
       "bar_color": "black",
       "description_width": ""
      }
     },
     "456326fa561e437ea0635c0757dffcb2": {
      "model_module": "@jupyter-widgets/base",
      "model_module_version": "2.0.0",
      "model_name": "LayoutModel",
      "state": {
       "width": "auto"
      }
     },
     "478ad82dcb4f4669b4d772756491a894": {
      "model_module": "@jupyter-widgets/base",
      "model_module_version": "2.0.0",
      "model_name": "LayoutModel",
      "state": {
       "width": "auto"
      }
     },
     "47afe129a0cd413b81c329413bdb8268": {
      "model_module": "@jupyter-widgets/controls",
      "model_module_version": "2.0.0",
      "model_name": "ProgressStyleModel",
      "state": {
       "bar_color": "black",
       "description_width": ""
      }
     },
     "4a53b6d9e9ba471eaedf04a7a4d56205": {
      "model_module": "@jupyter-widgets/controls",
      "model_module_version": "2.0.0",
      "model_name": "FloatProgressModel",
      "state": {
       "layout": "IPY_MODEL_ff54be9bd14d41cba71078ee56891301",
       "style": "IPY_MODEL_d2898a819ab04738a4a9d47a2d1d099b",
       "value": 100
      }
     },
     "4ba852b1fd3545f7be2e0a389bd74dd7": {
      "model_module": "@jupyter-widgets/controls",
      "model_module_version": "2.0.0",
      "model_name": "ProgressStyleModel",
      "state": {
       "bar_color": "black",
       "description_width": ""
      }
     },
     "4c21e47373c443ccbbb69776c996a258": {
      "model_module": "@jupyter-widgets/controls",
      "model_module_version": "2.0.0",
      "model_name": "FloatProgressModel",
      "state": {
       "layout": "IPY_MODEL_1d79d151f121474f96ae6efa9648ca20",
       "style": "IPY_MODEL_4c25bb38f63b4f7a818b809d940757e7",
       "value": 100
      }
     },
     "4c25bb38f63b4f7a818b809d940757e7": {
      "model_module": "@jupyter-widgets/controls",
      "model_module_version": "2.0.0",
      "model_name": "ProgressStyleModel",
      "state": {
       "bar_color": "black",
       "description_width": ""
      }
     },
     "520935da0ac647139dbb0741d9a506cb": {
      "model_module": "@jupyter-widgets/base",
      "model_module_version": "2.0.0",
      "model_name": "LayoutModel",
      "state": {
       "width": "auto"
      }
     },
     "53a393ca45234f639fd9fc4c5443cc70": {
      "model_module": "@jupyter-widgets/controls",
      "model_module_version": "2.0.0",
      "model_name": "FloatProgressModel",
      "state": {
       "layout": "IPY_MODEL_41a3dc51f55e41929a67ce729feab010",
       "style": "IPY_MODEL_724df79066874c328aee14fffb334c49",
       "value": 1
      }
     },
     "53fb1487103644869e04077e0e4ead70": {
      "model_module": "@jupyter-widgets/base",
      "model_module_version": "2.0.0",
      "model_name": "LayoutModel",
      "state": {
       "width": "auto"
      }
     },
     "54c6997843424e7c95910c4f336dde56": {
      "model_module": "@jupyter-widgets/controls",
      "model_module_version": "2.0.0",
      "model_name": "FloatProgressModel",
      "state": {
       "layout": "IPY_MODEL_a7474717bab748fdb6572842ef1fd624",
       "style": "IPY_MODEL_6a87b3822af34530acfe6fd5d3b69c2e",
       "value": 100
      }
     },
     "54da33c7f4bf4c45abccf7283123b6fa": {
      "model_module": "@jupyter-widgets/base",
      "model_module_version": "2.0.0",
      "model_name": "LayoutModel",
      "state": {
       "width": "auto"
      }
     },
     "56da60145e364a3fa0d0d899afaa5c07": {
      "model_module": "@jupyter-widgets/controls",
      "model_module_version": "2.0.0",
      "model_name": "FloatProgressModel",
      "state": {
       "layout": "IPY_MODEL_110335c915cc433cae36566a49bca5a6",
       "style": "IPY_MODEL_662e2f1f828a411d90db92b766045aa2",
       "value": 73
      }
     },
     "595876448b0542018aee4d874d354e06": {
      "model_module": "@jupyter-widgets/controls",
      "model_module_version": "2.0.0",
      "model_name": "ProgressStyleModel",
      "state": {
       "bar_color": "black",
       "description_width": ""
      }
     },
     "5caeb1cc610e4fafab9fbbf9da40a1c2": {
      "model_module": "@jupyter-widgets/controls",
      "model_module_version": "2.0.0",
      "model_name": "FloatProgressModel",
      "state": {
       "layout": "IPY_MODEL_fbbcc8c52ab64a04992fa8a8a75a6fc1",
       "style": "IPY_MODEL_65455bffa51149c4a16f60b6ae1e3e63",
       "value": 100
      }
     },
     "5d33dfe33c4a40c7bce435d291846517": {
      "model_module": "@jupyter-widgets/controls",
      "model_module_version": "2.0.0",
      "model_name": "FloatProgressModel",
      "state": {
       "layout": "IPY_MODEL_d5b667ae5d5a40bc9eb8e0ef4c0e264d",
       "style": "IPY_MODEL_44818f3742c64c10bf4870100919bdff",
       "value": 100
      }
     },
     "5e1a72c4212f405286e2c863e38dc6ef": {
      "model_module": "@jupyter-widgets/controls",
      "model_module_version": "2.0.0",
      "model_name": "FloatProgressModel",
      "state": {
       "layout": "IPY_MODEL_66fb8aa76a8148f1ae81a334456f68f6",
       "style": "IPY_MODEL_9656dd5bb0a04d58a1c914c5a0ee5f19",
       "value": 97
      }
     },
     "601abb788d1c48689912fb6d96fdff06": {
      "model_module": "@jupyter-widgets/controls",
      "model_module_version": "2.0.0",
      "model_name": "FloatProgressModel",
      "state": {
       "layout": "IPY_MODEL_2a61f528c76a43c9b7045a36cf5588a7",
       "style": "IPY_MODEL_633de21a5a494dce9dda9f28a24fa98b",
       "value": 100
      }
     },
     "6029ed0d39ff445cb424b46e260afb59": {
      "model_module": "@jupyter-widgets/controls",
      "model_module_version": "2.0.0",
      "model_name": "ProgressStyleModel",
      "state": {
       "bar_color": "black",
       "description_width": ""
      }
     },
     "631769336d52404ab9174b9dfd037c9e": {
      "model_module": "@jupyter-widgets/controls",
      "model_module_version": "2.0.0",
      "model_name": "FloatProgressModel",
      "state": {
       "layout": "IPY_MODEL_3d03520b906d49b190b10ea1bddbc57a",
       "style": "IPY_MODEL_35c63681c19f443eaf277c2066d12197",
       "value": 24
      }
     },
     "633de21a5a494dce9dda9f28a24fa98b": {
      "model_module": "@jupyter-widgets/controls",
      "model_module_version": "2.0.0",
      "model_name": "ProgressStyleModel",
      "state": {
       "bar_color": "black",
       "description_width": ""
      }
     },
     "63b440a797b6409ea418b8bd9bbbdec8": {
      "model_module": "@jupyter-widgets/controls",
      "model_module_version": "2.0.0",
      "model_name": "ProgressStyleModel",
      "state": {
       "bar_color": "black",
       "description_width": ""
      }
     },
     "65455bffa51149c4a16f60b6ae1e3e63": {
      "model_module": "@jupyter-widgets/controls",
      "model_module_version": "2.0.0",
      "model_name": "ProgressStyleModel",
      "state": {
       "bar_color": "black",
       "description_width": ""
      }
     },
     "662e2f1f828a411d90db92b766045aa2": {
      "model_module": "@jupyter-widgets/controls",
      "model_module_version": "2.0.0",
      "model_name": "ProgressStyleModel",
      "state": {
       "bar_color": "black",
       "description_width": ""
      }
     },
     "66aaf3a417b64690aeeb9c4418c359c0": {
      "model_module": "@jupyter-widgets/base",
      "model_module_version": "2.0.0",
      "model_name": "LayoutModel",
      "state": {
       "width": "auto"
      }
     },
     "66f390df1cac4f30bfd56bcd0e6c75e3": {
      "model_module": "@jupyter-widgets/controls",
      "model_module_version": "2.0.0",
      "model_name": "ProgressStyleModel",
      "state": {
       "bar_color": "black",
       "description_width": ""
      }
     },
     "66fb8aa76a8148f1ae81a334456f68f6": {
      "model_module": "@jupyter-widgets/base",
      "model_module_version": "2.0.0",
      "model_name": "LayoutModel",
      "state": {
       "width": "auto"
      }
     },
     "686ee9170d5349ae867babd42de493cd": {
      "model_module": "@jupyter-widgets/controls",
      "model_module_version": "2.0.0",
      "model_name": "ProgressStyleModel",
      "state": {
       "bar_color": "black",
       "description_width": ""
      }
     },
     "6a58abf3899f4e5c8152ecaa80bca95d": {
      "model_module": "@jupyter-widgets/controls",
      "model_module_version": "2.0.0",
      "model_name": "ProgressStyleModel",
      "state": {
       "bar_color": "black",
       "description_width": ""
      }
     },
     "6a5c0c4cc2c34b61b0c1a4ad336b7549": {
      "model_module": "@jupyter-widgets/controls",
      "model_module_version": "2.0.0",
      "model_name": "FloatProgressModel",
      "state": {
       "layout": "IPY_MODEL_da9e2f16a07845ffa6fd6b6500df6ffa",
       "style": "IPY_MODEL_22c5874ade904b2cab4e8a85f845d2ca",
       "value": 100
      }
     },
     "6a87b3822af34530acfe6fd5d3b69c2e": {
      "model_module": "@jupyter-widgets/controls",
      "model_module_version": "2.0.0",
      "model_name": "ProgressStyleModel",
      "state": {
       "bar_color": "black",
       "description_width": ""
      }
     },
     "6cb30583be4d4891928934fe08105ce0": {
      "model_module": "@jupyter-widgets/controls",
      "model_module_version": "2.0.0",
      "model_name": "FloatProgressModel",
      "state": {
       "layout": "IPY_MODEL_1e5202bc76b940f79e9640817fd3e725",
       "style": "IPY_MODEL_cad70f4b9dda4ee2b9280fb9000ed46c",
       "value": 86
      }
     },
     "707a8da5ad0442ff85e02fe9e96ac02f": {
      "model_module": "@jupyter-widgets/controls",
      "model_module_version": "2.0.0",
      "model_name": "ProgressStyleModel",
      "state": {
       "bar_color": "black",
       "description_width": ""
      }
     },
     "70ecb2fef989488ebf7f09a687690ea2": {
      "model_module": "@jupyter-widgets/controls",
      "model_module_version": "2.0.0",
      "model_name": "FloatProgressModel",
      "state": {
       "layout": "IPY_MODEL_742d8088d0304f989e4c2cc9929e9404",
       "style": "IPY_MODEL_686ee9170d5349ae867babd42de493cd",
       "value": 49
      }
     },
     "724df79066874c328aee14fffb334c49": {
      "model_module": "@jupyter-widgets/controls",
      "model_module_version": "2.0.0",
      "model_name": "ProgressStyleModel",
      "state": {
       "bar_color": "black",
       "description_width": ""
      }
     },
     "742d8088d0304f989e4c2cc9929e9404": {
      "model_module": "@jupyter-widgets/base",
      "model_module_version": "2.0.0",
      "model_name": "LayoutModel",
      "state": {
       "width": "auto"
      }
     },
     "767fa8d986bc451ab2fa56c740b79e5e": {
      "model_module": "@jupyter-widgets/controls",
      "model_module_version": "2.0.0",
      "model_name": "FloatProgressModel",
      "state": {
       "layout": "IPY_MODEL_006e78b18120405c93236d996c8be62d",
       "style": "IPY_MODEL_f5df8d2c5eea4ee080e2267e26a1f1d7",
       "value": 100
      }
     },
     "76a9dc140ce9426a90280a2bf1eee1b8": {
      "model_module": "@jupyter-widgets/controls",
      "model_module_version": "2.0.0",
      "model_name": "ProgressStyleModel",
      "state": {
       "bar_color": "black",
       "description_width": ""
      }
     },
     "76c515d863424595a849a02b24215104": {
      "model_module": "@jupyter-widgets/controls",
      "model_module_version": "2.0.0",
      "model_name": "FloatProgressModel",
      "state": {
       "layout": "IPY_MODEL_c92ad5087b1a4cf38ccfaf49da8f3e65",
       "style": "IPY_MODEL_01c7d3763f3f46a784b4d8e4b507d628",
       "value": 100
      }
     },
     "770af53affc74ebd998197d6b9b3bcde": {
      "model_module": "@jupyter-widgets/controls",
      "model_module_version": "2.0.0",
      "model_name": "FloatProgressModel",
      "state": {
       "layout": "IPY_MODEL_cd948f5335ae4deeae091e78ac2d575e",
       "style": "IPY_MODEL_7a04bb0728824f28be562de29df2db0f",
       "value": 100
      }
     },
     "7a04bb0728824f28be562de29df2db0f": {
      "model_module": "@jupyter-widgets/controls",
      "model_module_version": "2.0.0",
      "model_name": "ProgressStyleModel",
      "state": {
       "bar_color": "black",
       "description_width": ""
      }
     },
     "7c4b9498e66b49b39852c847a1e792ce": {
      "model_module": "@jupyter-widgets/base",
      "model_module_version": "2.0.0",
      "model_name": "LayoutModel",
      "state": {
       "width": "auto"
      }
     },
     "7cb8bf337d0a446aa1a951f54211df78": {
      "model_module": "@jupyter-widgets/controls",
      "model_module_version": "2.0.0",
      "model_name": "FloatProgressModel",
      "state": {
       "layout": "IPY_MODEL_d06374ac713b463f83bd7b177e7afcbc",
       "style": "IPY_MODEL_a232d340fe494b76b6c1f37d43b98d7b",
       "value": 2
      }
     },
     "7cec1a286eaa4652a8045b9c9b38f2c2": {
      "model_module": "@jupyter-widgets/controls",
      "model_module_version": "2.0.0",
      "model_name": "ProgressStyleModel",
      "state": {
       "bar_color": "black",
       "description_width": ""
      }
     },
     "7dff0e95b20d45529b59b5591db98f9c": {
      "model_module": "@jupyter-widgets/controls",
      "model_module_version": "2.0.0",
      "model_name": "ProgressStyleModel",
      "state": {
       "bar_color": "black",
       "description_width": ""
      }
     },
     "818ab62d79eb4e598c3abce46bd31771": {
      "model_module": "@jupyter-widgets/controls",
      "model_module_version": "2.0.0",
      "model_name": "FloatProgressModel",
      "state": {
       "layout": "IPY_MODEL_4093493c332a4522b7966aa6c9f71e10",
       "style": "IPY_MODEL_a5c84b733a50425f937316ae16836458",
       "value": 24
      }
     },
     "82ec926dd00f46f49c637925bc034657": {
      "model_module": "@jupyter-widgets/controls",
      "model_module_version": "2.0.0",
      "model_name": "ProgressStyleModel",
      "state": {
       "bar_color": "black",
       "description_width": ""
      }
     },
     "84e45f20d8d2400ba3dd5e732cc02306": {
      "model_module": "@jupyter-widgets/controls",
      "model_module_version": "2.0.0",
      "model_name": "ProgressStyleModel",
      "state": {
       "bar_color": "black",
       "description_width": ""
      }
     },
     "865090cb649349b48f55fe6ff1d0ba36": {
      "model_module": "@jupyter-widgets/controls",
      "model_module_version": "2.0.0",
      "model_name": "ProgressStyleModel",
      "state": {
       "bar_color": "black",
       "description_width": ""
      }
     },
     "872f555d956a4d27bc02491dd8685c68": {
      "model_module": "@jupyter-widgets/controls",
      "model_module_version": "2.0.0",
      "model_name": "FloatProgressModel",
      "state": {
       "layout": "IPY_MODEL_09a6459e90e14d48be57e401b609e065",
       "style": "IPY_MODEL_7dff0e95b20d45529b59b5591db98f9c",
       "value": 100
      }
     },
     "8898fe148b894a73a15924f1d21ce139": {
      "model_module": "@jupyter-widgets/controls",
      "model_module_version": "2.0.0",
      "model_name": "FloatProgressModel",
      "state": {
       "layout": "IPY_MODEL_a41f0ca712734597a9952a902f24bc07",
       "style": "IPY_MODEL_9155c99f49e74643a928e7cedcf05397",
       "value": 100
      }
     },
     "89e2736a545b49029888c4a8a84eacc9": {
      "model_module": "@jupyter-widgets/base",
      "model_module_version": "2.0.0",
      "model_name": "LayoutModel",
      "state": {
       "width": "auto"
      }
     },
     "8c34f8dfe4664ca99b0e0b9ee284bb42": {
      "model_module": "@jupyter-widgets/controls",
      "model_module_version": "2.0.0",
      "model_name": "ProgressStyleModel",
      "state": {
       "bar_color": "black",
       "description_width": ""
      }
     },
     "8d7d65791db841a98f9fd8fc480677c6": {
      "model_module": "@jupyter-widgets/controls",
      "model_module_version": "2.0.0",
      "model_name": "FloatProgressModel",
      "state": {
       "layout": "IPY_MODEL_2134389245dc419eb1f7c484e9ef4b80",
       "style": "IPY_MODEL_707a8da5ad0442ff85e02fe9e96ac02f",
       "value": 25
      }
     },
     "8d8956434c134426ad2c97db6800cd57": {
      "model_module": "@jupyter-widgets/base",
      "model_module_version": "2.0.0",
      "model_name": "LayoutModel",
      "state": {
       "width": "auto"
      }
     },
     "8dd8a2fe0d1042359fc9136ae0739102": {
      "model_module": "@jupyter-widgets/controls",
      "model_module_version": "2.0.0",
      "model_name": "ProgressStyleModel",
      "state": {
       "bar_color": "black",
       "description_width": ""
      }
     },
     "8fecd25e266e4de4ab75eb9efdb97944": {
      "model_module": "@jupyter-widgets/controls",
      "model_module_version": "2.0.0",
      "model_name": "ProgressStyleModel",
      "state": {
       "bar_color": "black",
       "description_width": ""
      }
     },
     "907238aafaf0437097c291e1cfc4a1c4": {
      "model_module": "@jupyter-widgets/controls",
      "model_module_version": "2.0.0",
      "model_name": "ProgressStyleModel",
      "state": {
       "bar_color": "black",
       "description_width": ""
      }
     },
     "90d5d6aef4dc46d9903cfd4202bf8097": {
      "model_module": "@jupyter-widgets/base",
      "model_module_version": "2.0.0",
      "model_name": "LayoutModel",
      "state": {
       "width": "auto"
      }
     },
     "9155c99f49e74643a928e7cedcf05397": {
      "model_module": "@jupyter-widgets/controls",
      "model_module_version": "2.0.0",
      "model_name": "ProgressStyleModel",
      "state": {
       "bar_color": "black",
       "description_width": ""
      }
     },
     "926ca10b3cf34a0d9fdd57f881971a61": {
      "model_module": "@jupyter-widgets/controls",
      "model_module_version": "2.0.0",
      "model_name": "ProgressStyleModel",
      "state": {
       "bar_color": "black",
       "description_width": ""
      }
     },
     "92b70026829c4599ac1336ecb828d260": {
      "model_module": "@jupyter-widgets/controls",
      "model_module_version": "2.0.0",
      "model_name": "FloatProgressModel",
      "state": {
       "layout": "IPY_MODEL_7c4b9498e66b49b39852c847a1e792ce",
       "style": "IPY_MODEL_2399cb90b0a34796987591ab36dda11a",
       "value": 35
      }
     },
     "92c4a456053447bd8dd47d4eb48c3cb9": {
      "model_module": "@jupyter-widgets/base",
      "model_module_version": "2.0.0",
      "model_name": "LayoutModel",
      "state": {
       "width": "auto"
      }
     },
     "941fac41b6a1466c9146440cde54b679": {
      "model_module": "@jupyter-widgets/controls",
      "model_module_version": "2.0.0",
      "model_name": "ProgressStyleModel",
      "state": {
       "bar_color": "black",
       "description_width": ""
      }
     },
     "9656dd5bb0a04d58a1c914c5a0ee5f19": {
      "model_module": "@jupyter-widgets/controls",
      "model_module_version": "2.0.0",
      "model_name": "ProgressStyleModel",
      "state": {
       "bar_color": "black",
       "description_width": ""
      }
     },
     "9846e795b215451697569b0ac8c85550": {
      "model_module": "@jupyter-widgets/controls",
      "model_module_version": "2.0.0",
      "model_name": "FloatProgressModel",
      "state": {
       "layout": "IPY_MODEL_89e2736a545b49029888c4a8a84eacc9",
       "style": "IPY_MODEL_66f390df1cac4f30bfd56bcd0e6c75e3",
       "value": 53
      }
     },
     "98d1b3c1264d47879cd09ca0a970a933": {
      "model_module": "@jupyter-widgets/controls",
      "model_module_version": "2.0.0",
      "model_name": "FloatProgressModel",
      "state": {
       "layout": "IPY_MODEL_0c5254eb1e164f19b4af9af451ad938c",
       "style": "IPY_MODEL_17acc0c3e8d24528b958e9156496dc9f",
       "value": 100
      }
     },
     "9b9283068557479996f1bb1f4c2007dd": {
      "model_module": "@jupyter-widgets/controls",
      "model_module_version": "2.0.0",
      "model_name": "ProgressStyleModel",
      "state": {
       "bar_color": "black",
       "description_width": ""
      }
     },
     "9e5d37df6d8b4417a98ee5dfd64ee4a4": {
      "model_module": "@jupyter-widgets/controls",
      "model_module_version": "2.0.0",
      "model_name": "ProgressStyleModel",
      "state": {
       "bar_color": "black",
       "description_width": ""
      }
     },
     "a232d340fe494b76b6c1f37d43b98d7b": {
      "model_module": "@jupyter-widgets/controls",
      "model_module_version": "2.0.0",
      "model_name": "ProgressStyleModel",
      "state": {
       "bar_color": "black",
       "description_width": ""
      }
     },
     "a41f0ca712734597a9952a902f24bc07": {
      "model_module": "@jupyter-widgets/base",
      "model_module_version": "2.0.0",
      "model_name": "LayoutModel",
      "state": {
       "width": "auto"
      }
     },
     "a5c84b733a50425f937316ae16836458": {
      "model_module": "@jupyter-widgets/controls",
      "model_module_version": "2.0.0",
      "model_name": "ProgressStyleModel",
      "state": {
       "bar_color": "black",
       "description_width": ""
      }
     },
     "a7474717bab748fdb6572842ef1fd624": {
      "model_module": "@jupyter-widgets/base",
      "model_module_version": "2.0.0",
      "model_name": "LayoutModel",
      "state": {
       "width": "auto"
      }
     },
     "aac34e9f10e94f96a9d80ab2b358ba4f": {
      "model_module": "@jupyter-widgets/controls",
      "model_module_version": "2.0.0",
      "model_name": "FloatProgressModel",
      "state": {
       "layout": "IPY_MODEL_b090c1a37157459dae56d7b4c72c83f8",
       "style": "IPY_MODEL_6029ed0d39ff445cb424b46e260afb59",
       "value": 25
      }
     },
     "ac4ba7dbf97d44b4860a5839052e26d7": {
      "model_module": "@jupyter-widgets/base",
      "model_module_version": "2.0.0",
      "model_name": "LayoutModel",
      "state": {
       "width": "auto"
      }
     },
     "ad337d20aa0647ec9c9357194479704b": {
      "model_module": "@jupyter-widgets/controls",
      "model_module_version": "2.0.0",
      "model_name": "FloatProgressModel",
      "state": {
       "layout": "IPY_MODEL_53fb1487103644869e04077e0e4ead70",
       "style": "IPY_MODEL_926ca10b3cf34a0d9fdd57f881971a61",
       "value": 54
      }
     },
     "ae663cffd3de449890a01684bc5f2025": {
      "model_module": "@jupyter-widgets/controls",
      "model_module_version": "2.0.0",
      "model_name": "FloatProgressModel",
      "state": {
       "layout": "IPY_MODEL_4312c3bbf8114bdbbbd6031848c6af8c",
       "style": "IPY_MODEL_907238aafaf0437097c291e1cfc4a1c4",
       "value": 1
      }
     },
     "b090c1a37157459dae56d7b4c72c83f8": {
      "model_module": "@jupyter-widgets/base",
      "model_module_version": "2.0.0",
      "model_name": "LayoutModel",
      "state": {
       "width": "auto"
      }
     },
     "b227613c5e154aa68245c95df058672b": {
      "model_module": "@jupyter-widgets/controls",
      "model_module_version": "2.0.0",
      "model_name": "FloatProgressModel",
      "state": {
       "layout": "IPY_MODEL_ed0bd8ee3bcb47e4a974aed87cca75e1",
       "style": "IPY_MODEL_38bb9a36f4d04ce681b71b9746749b3f",
       "value": 100
      }
     },
     "b302bf18a1fb45a4907128ffce394328": {
      "model_module": "@jupyter-widgets/base",
      "model_module_version": "2.0.0",
      "model_name": "LayoutModel",
      "state": {
       "width": "auto"
      }
     },
     "b53f0544650e4d77a965983f32c62c7b": {
      "model_module": "@jupyter-widgets/controls",
      "model_module_version": "2.0.0",
      "model_name": "ProgressStyleModel",
      "state": {
       "bar_color": "black",
       "description_width": ""
      }
     },
     "b6c9bf46ae6f4edb92aed63495e613cc": {
      "model_module": "@jupyter-widgets/controls",
      "model_module_version": "2.0.0",
      "model_name": "FloatProgressModel",
      "state": {
       "layout": "IPY_MODEL_b302bf18a1fb45a4907128ffce394328",
       "style": "IPY_MODEL_1bd70996fac24950a2c1f91822eabfc6",
       "value": 72
      }
     },
     "bcb614d3c6ef4095b173e67e93acceee": {
      "model_module": "@jupyter-widgets/controls",
      "model_module_version": "2.0.0",
      "model_name": "ProgressStyleModel",
      "state": {
       "bar_color": "black",
       "description_width": ""
      }
     },
     "c4a7a04d52684ba9a8e06be0c35b0e48": {
      "model_module": "@jupyter-widgets/base",
      "model_module_version": "2.0.0",
      "model_name": "LayoutModel",
      "state": {
       "width": "auto"
      }
     },
     "c5dbd7b1b30242e59cee95d65fd70ea9": {
      "model_module": "@jupyter-widgets/controls",
      "model_module_version": "2.0.0",
      "model_name": "FloatProgressModel",
      "state": {
       "layout": "IPY_MODEL_f7bd3d34d83748eb8f65f75f494f0996",
       "style": "IPY_MODEL_865090cb649349b48f55fe6ff1d0ba36",
       "value": 100
      }
     },
     "c92ad5087b1a4cf38ccfaf49da8f3e65": {
      "model_module": "@jupyter-widgets/base",
      "model_module_version": "2.0.0",
      "model_name": "LayoutModel",
      "state": {
       "width": "auto"
      }
     },
     "cad70f4b9dda4ee2b9280fb9000ed46c": {
      "model_module": "@jupyter-widgets/controls",
      "model_module_version": "2.0.0",
      "model_name": "ProgressStyleModel",
      "state": {
       "bar_color": "black",
       "description_width": ""
      }
     },
     "cbc03149eb5a461286cca77fb7d7b1da": {
      "model_module": "@jupyter-widgets/controls",
      "model_module_version": "2.0.0",
      "model_name": "FloatProgressModel",
      "state": {
       "layout": "IPY_MODEL_3bb0f301a0294d8596125377e755537e",
       "style": "IPY_MODEL_6a58abf3899f4e5c8152ecaa80bca95d",
       "value": 30
      }
     },
     "cbdfa94ba611419596e9366e06b17b25": {
      "model_module": "@jupyter-widgets/base",
      "model_module_version": "2.0.0",
      "model_name": "LayoutModel",
      "state": {
       "width": "auto"
      }
     },
     "cd8a17a553374ad6bd2a3cdd76dbe920": {
      "model_module": "@jupyter-widgets/controls",
      "model_module_version": "2.0.0",
      "model_name": "ProgressStyleModel",
      "state": {
       "bar_color": "black",
       "description_width": ""
      }
     },
     "cd948f5335ae4deeae091e78ac2d575e": {
      "model_module": "@jupyter-widgets/base",
      "model_module_version": "2.0.0",
      "model_name": "LayoutModel",
      "state": {
       "width": "auto"
      }
     },
     "ce38deb5fdb84460abc3064c75f6bff5": {
      "model_module": "@jupyter-widgets/controls",
      "model_module_version": "2.0.0",
      "model_name": "FloatProgressModel",
      "state": {
       "layout": "IPY_MODEL_cbdfa94ba611419596e9366e06b17b25",
       "style": "IPY_MODEL_82ec926dd00f46f49c637925bc034657",
       "value": 36
      }
     },
     "d06374ac713b463f83bd7b177e7afcbc": {
      "model_module": "@jupyter-widgets/base",
      "model_module_version": "2.0.0",
      "model_name": "LayoutModel",
      "state": {
       "width": "auto"
      }
     },
     "d1de242d136843948a36eec33372b800": {
      "model_module": "@jupyter-widgets/controls",
      "model_module_version": "2.0.0",
      "model_name": "FloatProgressModel",
      "state": {
       "layout": "IPY_MODEL_010c150e44c84610ba4f0a230a26061a",
       "style": "IPY_MODEL_218222d877644ef2afdfd7fee16e2ee2",
       "value": 31
      }
     },
     "d2898a819ab04738a4a9d47a2d1d099b": {
      "model_module": "@jupyter-widgets/controls",
      "model_module_version": "2.0.0",
      "model_name": "ProgressStyleModel",
      "state": {
       "bar_color": "black",
       "description_width": ""
      }
     },
     "d2d4fa6f02ed4d30a323e8536ff63baf": {
      "model_module": "@jupyter-widgets/controls",
      "model_module_version": "2.0.0",
      "model_name": "FloatProgressModel",
      "state": {
       "layout": "IPY_MODEL_1857f957deb4493a9ae115ef0d9a6ba3",
       "style": "IPY_MODEL_8c34f8dfe4664ca99b0e0b9ee284bb42",
       "value": 100
      }
     },
     "d379212e2bff4b4ab726d99d1f1f4a2d": {
      "model_module": "@jupyter-widgets/controls",
      "model_module_version": "2.0.0",
      "model_name": "FloatProgressModel",
      "state": {
       "layout": "IPY_MODEL_e432e23eaaf54e6a8753af5a0bbff78b",
       "style": "IPY_MODEL_251f5d3489814745bad37328ca08b109",
       "value": 5
      }
     },
     "d5b667ae5d5a40bc9eb8e0ef4c0e264d": {
      "model_module": "@jupyter-widgets/base",
      "model_module_version": "2.0.0",
      "model_name": "LayoutModel",
      "state": {
       "width": "auto"
      }
     },
     "d7ff71f149054d0995449d8a46004010": {
      "model_module": "@jupyter-widgets/controls",
      "model_module_version": "2.0.0",
      "model_name": "ProgressStyleModel",
      "state": {
       "bar_color": "black",
       "description_width": ""
      }
     },
     "d93bd7cc18614bceb7f363f9a8e51477": {
      "model_module": "@jupyter-widgets/base",
      "model_module_version": "2.0.0",
      "model_name": "LayoutModel",
      "state": {
       "width": "auto"
      }
     },
     "da9e2f16a07845ffa6fd6b6500df6ffa": {
      "model_module": "@jupyter-widgets/base",
      "model_module_version": "2.0.0",
      "model_name": "LayoutModel",
      "state": {
       "width": "auto"
      }
     },
     "df887fd2d5164e5ca3dab94a2d47508a": {
      "model_module": "@jupyter-widgets/controls",
      "model_module_version": "2.0.0",
      "model_name": "FloatProgressModel",
      "state": {
       "layout": "IPY_MODEL_f3f76267580d44adb33a77cd4574259d",
       "style": "IPY_MODEL_9b9283068557479996f1bb1f4c2007dd",
       "value": 37
      }
     },
     "e3799410a0ba495f8c77d68065358e78": {
      "model_module": "@jupyter-widgets/controls",
      "model_module_version": "2.0.0",
      "model_name": "FloatProgressModel",
      "state": {
       "layout": "IPY_MODEL_d93bd7cc18614bceb7f363f9a8e51477",
       "style": "IPY_MODEL_02b8037dd10e40b6843288b15bef4cdf",
       "value": 42
      }
     },
     "e432e23eaaf54e6a8753af5a0bbff78b": {
      "model_module": "@jupyter-widgets/base",
      "model_module_version": "2.0.0",
      "model_name": "LayoutModel",
      "state": {
       "width": "auto"
      }
     },
     "e6ece1e3e76d43d1b0dbbc726ab873fb": {
      "model_module": "@jupyter-widgets/controls",
      "model_module_version": "2.0.0",
      "model_name": "FloatProgressModel",
      "state": {
       "layout": "IPY_MODEL_183c681799414cce8c4097287522114e",
       "style": "IPY_MODEL_7cec1a286eaa4652a8045b9c9b38f2c2",
       "value": 44
      }
     },
     "ed0bd8ee3bcb47e4a974aed87cca75e1": {
      "model_module": "@jupyter-widgets/base",
      "model_module_version": "2.0.0",
      "model_name": "LayoutModel",
      "state": {
       "width": "auto"
      }
     },
     "ee72d80b0e5d4f74acc574e9a9fd58ce": {
      "model_module": "@jupyter-widgets/base",
      "model_module_version": "2.0.0",
      "model_name": "LayoutModel",
      "state": {
       "width": "auto"
      }
     },
     "f3f76267580d44adb33a77cd4574259d": {
      "model_module": "@jupyter-widgets/base",
      "model_module_version": "2.0.0",
      "model_name": "LayoutModel",
      "state": {
       "width": "auto"
      }
     },
     "f5df8d2c5eea4ee080e2267e26a1f1d7": {
      "model_module": "@jupyter-widgets/controls",
      "model_module_version": "2.0.0",
      "model_name": "ProgressStyleModel",
      "state": {
       "bar_color": "black",
       "description_width": ""
      }
     },
     "f7bd3d34d83748eb8f65f75f494f0996": {
      "model_module": "@jupyter-widgets/base",
      "model_module_version": "2.0.0",
      "model_name": "LayoutModel",
      "state": {
       "width": "auto"
      }
     },
     "f961abb27c054b529ec161aaa08b08a4": {
      "model_module": "@jupyter-widgets/base",
      "model_module_version": "2.0.0",
      "model_name": "LayoutModel",
      "state": {
       "width": "auto"
      }
     },
     "fa4e0da19a9a44ea945fc4104d28ea35": {
      "model_module": "@jupyter-widgets/controls",
      "model_module_version": "2.0.0",
      "model_name": "FloatProgressModel",
      "state": {
       "layout": "IPY_MODEL_c4a7a04d52684ba9a8e06be0c35b0e48",
       "style": "IPY_MODEL_595876448b0542018aee4d874d354e06",
       "value": 100
      }
     },
     "fb10a5ddffe94816a2cd772f1eb0d59f": {
      "model_module": "@jupyter-widgets/controls",
      "model_module_version": "2.0.0",
      "model_name": "FloatProgressModel",
      "state": {
       "layout": "IPY_MODEL_478ad82dcb4f4669b4d772756491a894",
       "style": "IPY_MODEL_b53f0544650e4d77a965983f32c62c7b",
       "value": 52
      }
     },
     "fbbcc8c52ab64a04992fa8a8a75a6fc1": {
      "model_module": "@jupyter-widgets/base",
      "model_module_version": "2.0.0",
      "model_name": "LayoutModel",
      "state": {
       "width": "auto"
      }
     },
     "ff54be9bd14d41cba71078ee56891301": {
      "model_module": "@jupyter-widgets/base",
      "model_module_version": "2.0.0",
      "model_name": "LayoutModel",
      "state": {
       "width": "auto"
      }
     }
    },
    "version_major": 2,
    "version_minor": 0
   }
  }
 },
 "nbformat": 4,
 "nbformat_minor": 5
}
