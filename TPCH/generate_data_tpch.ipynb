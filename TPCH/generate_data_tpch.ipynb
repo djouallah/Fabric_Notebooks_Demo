{
 "cells": [
  {
   "cell_type": "code",
   "execution_count": null,
   "id": "4b60a268-face-443f-a28b-2fee701a1cfd",
   "metadata": {
    "microsoft": {
     "language": "python",
     "language_group": "jupyter_python"
    }
   },
   "outputs": [],
   "source": [
    "%%configure\n",
    "{\"vCores\": 8}"
   ]
  },
  {
   "cell_type": "code",
   "execution_count": null,
   "id": "2921102c-1801-4204-a05c-11a829cb0b65",
   "metadata": {
    "microsoft": {
     "language": "python",
     "language_group": "jupyter_python"
    }
   },
   "outputs": [],
   "source": [
    "!pip install -q tpchgen-cli\n",
    "!pip install -q daft"
   ]
  },
  {
   "cell_type": "code",
   "execution_count": null,
   "id": "2917bd37-b818-412e-af66-8a0555f95ca9",
   "metadata": {
    "microsoft": {
     "language": "python",
     "language_group": "jupyter_python"
    }
   },
   "outputs": [],
   "source": [
    "sf = 1000\n",
    "lh = 'data'\n",
    "ws = 'disccache'\n",
    "BASE_OUTPUT_DIR=f\"/lakehouse/default/Files/CH{sf}\""
   ]
  },
  {
   "cell_type": "markdown",
   "id": "07227d39-313f-4bb1-a309-6f375158fde7",
   "metadata": {
    "microsoft": {
     "language": "python",
     "language_group": "jupyter_python"
    },
    "nteract": {
     "transient": {
      "deleting": false
     }
    }
   },
   "source": [
    "**<mark>Generate Data</mark>**"
   ]
  },
  {
   "cell_type": "code",
   "execution_count": null,
   "id": "e67875ad-f5a3-4f9d-939b-5709261ab3c8",
   "metadata": {
    "jupyter": {
     "source_hidden": false
    },
    "microsoft": {
     "language": "python",
     "language_group": "jupyter_python"
    }
   },
   "outputs": [],
   "source": [
    "%%time\n",
    "shell_script = f\"\"\"\n",
    "SCALE_FACTOR={sf}\n",
    "TABLES=(\"customer\" \"lineitem\" \"nation\" \"orders\" \"part\" \"partsupp\" \"region\" \"supplier\")\n",
    "FORMAT=\"parquet\"\n",
    "BASE_OUTPUT_DIR=\"{BASE_OUTPUT_DIR}\"\n",
    "echo \"Using SCALE_FACTOR=${{SCALE_FACTOR}}\"\n",
    "echo \"Output base directory: ${{BASE_OUTPUT_DIR}}\"\n",
    "echo \"Format: ${{FORMAT}}\"\n",
    "echo \"Generating tables: ${{TABLES[@]}}\"\n",
    "for table in \"${{TABLES[@]}}\"; do\n",
    "    OUTPUT_DIR=\"${{BASE_OUTPUT_DIR}}/${{table}}\"\n",
    "    echo \"Generating data for table: ${{table}} into ${{OUTPUT_DIR}}\"\n",
    "    tpchgen-cli --tables \"${{table}}\" --scale-factor \"${{SCALE_FACTOR}}\" --output-dir \"${{OUTPUT_DIR}}\" --format \"${{FORMAT}}\"\n",
    "done\n",
    "\"\"\"\n",
    "if not os.path.isdir(BASE_OUTPUT_DIR):\n",
    "    get_ipython().system(shell_script)\n",
    "else:\n",
    "    print(\" folder exists\")"
   ]
  },
  {
   "cell_type": "markdown",
   "id": "82036c97-2bfb-4c7a-a46a-188227b7ae01",
   "metadata": {
    "microsoft": {
     "language": "python",
     "language_group": "jupyter_python"
    },
    "nteract": {
     "transient": {
      "deleting": false
     }
    }
   },
   "source": [
    "**<mark>split the big parquet file</mark>**"
   ]
  },
  {
   "cell_type": "code",
   "execution_count": null,
   "id": "bc00b043-684d-4463-a7a7-e18a65fee330",
   "metadata": {
    "microsoft": {
     "language": "python",
     "language_group": "jupyter_python"
    }
   },
   "outputs": [],
   "source": [
    "%%time\n",
    "import daft\n",
    "for tbl in ['region','nation','lineitem','orders','partsupp','part','customer','supplier']:\n",
    " print(tbl)\n",
    " path =f'/lakehouse/default'\n",
    " daft.read_parquet(path +f'/Files/CH{sf}/{tbl}/*.parquet').write_parquet(path +f'/Tables/CH{sf}/{tbl}',write_mode=\"overwrite\")"
   ]
  },
  {
   "cell_type": "markdown",
   "id": "cb911989-535b-431a-a89c-f11482f9892c",
   "metadata": {
    "microsoft": {
     "language": "python",
     "language_group": "jupyter_python"
    },
    "nteract": {
     "transient": {
      "deleting": false
     }
    }
   },
   "source": [
    "**<mark>convert to Delta</mark>**"
   ]
  },
  {
   "cell_type": "code",
   "execution_count": null,
   "id": "c1194f1f-d249-4684-9055-e96677780915",
   "metadata": {
    "microsoft": {
     "language": "python",
     "language_group": "jupyter_python"
    }
   },
   "outputs": [],
   "source": [
    "%%time\n",
    "from   deltalake   import DeltaTable ,convert_to_deltalake\n",
    "for tbl in ['region','nation','lineitem','orders','partsupp','part','customer','supplier']: \n",
    " print(tbl)\n",
    " convert_to_deltalake(\n",
    "     f'abfss://{ws}@onelake.dfs.fabric.microsoft.com/{lh}.Lakehouse/Tables/CH{sf}/{tbl}',\n",
    "     storage_options={\"bearer_token\": notebookutils.credentials.getToken('storage'), \"use_fabric_endpoint\": \"true\"}\n",
    " )"
   ]
  }
 ],
 "metadata": {
  "dependencies": {
   "lakehouse": {
    "default_lakehouse": "28e6e363-a4a1-4f20-923f-5a163179cae6",
    "default_lakehouse_name": "data",
    "default_lakehouse_workspace_id": "3f126eac-8cd2-4e3e-bccd-27c7b6560ec1",
    "known_lakehouses": [
     {
      "id": "28e6e363-a4a1-4f20-923f-5a163179cae6"
     }
    ]
   }
  },
  "kernel_info": {
   "jupyter_kernel_name": "python3.11",
   "name": "jupyter"
  },
  "kernelspec": {
   "display_name": "Jupyter",
   "language": "Jupyter",
   "name": "jupyter"
  },
  "language_info": {
   "name": "python"
  },
  "microsoft": {
   "language": "python",
   "language_group": "jupyter_python",
   "ms_spell_check": {
    "ms_spell_check_language": "en"
   }
  },
  "nteract": {
   "version": "nteract-front-end@1.0.0"
  },
  "spark_compute": {
   "compute_id": "/trident/default",
   "session_options": {
    "conf": {
     "spark.synapse.nbs.session.timeout": "1200000"
    }
   }
  },
  "widgets": {}
 },
 "nbformat": 4,
 "nbformat_minor": 5
}
