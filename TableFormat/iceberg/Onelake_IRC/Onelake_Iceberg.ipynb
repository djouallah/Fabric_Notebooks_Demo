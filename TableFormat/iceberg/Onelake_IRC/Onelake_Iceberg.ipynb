{
 "cells": [
  {
   "cell_type": "code",
   "execution_count": 1,
   "id": "bc9533ee-c8ea-4c64-8307-74f5264136f3",
   "metadata": {
    "microsoft": {
     "language": "python",
     "language_group": "jupyter_python"
    }
   },
   "outputs": [],
   "source": [
    "#!pip install pyiceberg[adlfs]  --upgrade\n",
    "#!pip install duckdb            --upgrade"
   ]
  },
  {
   "cell_type": "code",
   "execution_count": null,
   "id": "c86c10e9",
   "metadata": {},
   "outputs": [],
   "source": [
    "ws               =  \"mimtest\"\n",
    "lh               =  \"test\"\n",
    "schema           =  \"demo\"  \n",
    "tbl              =  'newdata'\n",
    "onelake          =  \"onelake\" # in production use onelake only\n",
    "onelake_endpoint = f\"https://{onelake}.table.fabric.microsoft.com/iceberg\""
   ]
  },
  {
   "cell_type": "code",
   "execution_count": 3,
   "id": "46a95f33-6bb0-4e9e-8c6d-5e241ed7ccad",
   "metadata": {
    "microsoft": {
     "language": "python",
     "language_group": "jupyter_python"
    }
   },
   "outputs": [
    {
     "data": {
      "text/plain": [
       "┌────────────────┬──────────────┬─────────────────────┬──────────────────┬─────────────────┐\n",
       "│ extension_name │  repository  │    update_result    │ previous_version │ current_version │\n",
       "│    varchar     │   varchar    │       varchar       │     varchar      │     varchar     │\n",
       "├────────────────┼──────────────┼─────────────────────┼──────────────────┼─────────────────┤\n",
       "│ autocomplete   │ core         │ NO_UPDATE_AVAILABLE │ v1.4.0           │ v1.4.0          │\n",
       "│ avro           │ core         │ NO_UPDATE_AVAILABLE │ 0c97a61          │ 0c97a61         │\n",
       "│ azure          │ core         │ NO_UPDATE_AVAILABLE │ 5e458fc          │ 5e458fc         │\n",
       "│ delta          │ core_nightly │ NO_UPDATE_AVAILABLE │ 03aaf0f          │ 03aaf0f         │\n",
       "│ ducklake       │ core_nightly │ NO_UPDATE_AVAILABLE │ 51a67d2          │ 51a67d2         │\n",
       "│ httpfs         │ core_nightly │ NO_UPDATE_AVAILABLE │ 08d99ff          │ 08d99ff         │\n",
       "│ iceberg        │ core_nightly │ NO_UPDATE_AVAILABLE │ c6757bd9         │ c6757bd9        │\n",
       "│ icu            │ core         │ NO_UPDATE_AVAILABLE │ v1.4.0           │ v1.4.0          │\n",
       "│ json           │ core         │ NO_UPDATE_AVAILABLE │ v1.4.0           │ v1.4.0          │\n",
       "│ ui             │ core         │ NO_UPDATE_AVAILABLE │ ded075b          │ ded075b         │\n",
       "├────────────────┴──────────────┴─────────────────────┴──────────────────┴─────────────────┤\n",
       "│ 10 rows                                                                        5 columns │\n",
       "└──────────────────────────────────────────────────────────────────────────────────────────┘"
      ]
     },
     "execution_count": 3,
     "metadata": {},
     "output_type": "execute_result"
    }
   ],
   "source": [
    "import duckdb\n",
    "import os\n",
    "duckdb.sql(f\"\"\" update extensions ;\"\"\")"
   ]
  },
  {
   "cell_type": "code",
   "execution_count": 4,
   "id": "2a49c2bd",
   "metadata": {},
   "outputs": [
    {
     "data": {
      "text/plain": [
       "'done'"
      ]
     },
     "execution_count": 4,
     "metadata": {},
     "output_type": "execute_result"
    }
   ],
   "source": [
    "def get_token():\n",
    "    token_env = os.environ.get(\"AZURE_STORAGE_TOKEN\")\n",
    "    if token_env:\n",
    "        return \"done\"\n",
    "    from azure.identity import InteractiveBrowserCredential, ChainedTokenCredential\n",
    "    credential = ChainedTokenCredential(InteractiveBrowserCredential())\n",
    "    token = credential.get_token(\"https://storage.azure.com/.default\")\n",
    "    os.environ[\"AZURE_STORAGE_TOKEN\"] = token.token\n",
    "    return \"done\"\n",
    "get_token()"
   ]
  },
  {
   "cell_type": "code",
   "execution_count": 5,
   "id": "e21b9494",
   "metadata": {},
   "outputs": [],
   "source": [
    "df=duckdb.sql(\"\"\" \n",
    "                        SELECT cast(unnest(generate_series(cast ('2018-04-01' as date), cast('2024-12-31' as date), interval 1 day)) as date) as date,\n",
    "                        EXTRACT(year from date) as year,\n",
    "                        EXTRACT(month from date) as month\n",
    "\"\"\").to_arrow_table()"
   ]
  },
  {
   "cell_type": "markdown",
   "id": "97930c92",
   "metadata": {},
   "source": [
    "Write iceberg"
   ]
  },
  {
   "cell_type": "code",
   "execution_count": 6,
   "id": "6e206cfb",
   "metadata": {},
   "outputs": [],
   "source": [
    "warhouse_path    = f'abfss://{ws}@{onelake}.dfs.fabric.microsoft.com/{lh}.Lakehouse/Tables'"
   ]
  },
  {
   "cell_type": "code",
   "execution_count": 7,
   "id": "607c68d4-37e3-4528-8031-e64c1c9ae9f6",
   "metadata": {
    "microsoft": {
     "language": "python",
     "language_group": "jupyter_python"
    }
   },
   "outputs": [
    {
     "name": "stderr",
     "output_type": "stream",
     "text": [
      "C:\\Users\\mdjouallah\\AppData\\Local\\Packages\\PythonSoftwareFoundation.Python.3.11_qbz5n2kfra8p0\\LocalCache\\local-packages\\Python311\\site-packages\\pyiceberg\\table\\__init__.py:715: UserWarning: Delete operation did not match any records\n",
      "  warnings.warn(\"Delete operation did not match any records\")\n"
     ]
    }
   ],
   "source": [
    "from   pyiceberg.catalog.sql import SqlCatalog\n",
    "catalog = SqlCatalog(\n",
    "      \"default\",\n",
    "      **{\n",
    "          \"uri\"                       : f\"sqlite:///{onelake}_pyiceberg.db\",\n",
    "          \"adls.account-name\"         : onelake ,\n",
    "          \"adls.account-host\"         : f\"{onelake}.blob.fabric.microsoft.com\" ,\n",
    "          \"adls.token\"                :  os.environ.get('AZURE_STORAGE_TOKEN') ,\n",
    "          \"warehouse\"                 :  warhouse_path \n",
    "      },\n",
    "                        )\n",
    "catalog.create_namespace_if_not_exists(schema)\n",
    "catalog.list_tables(schema)\n",
    "if not catalog.table_exists(f\"{schema}.{tbl}_iceberg\"):\n",
    "    table = catalog.create_table_if_not_exists(f\"{schema}.{tbl}_iceberg\",schema=df.schema )\n",
    "    table.overwrite(df)\n",
    "else:\n",
    "    print(f\"Table {schema}.{tbl}_iceberg already exists\")\n",
    "catalog.close()"
   ]
  },
  {
   "cell_type": "markdown",
   "id": "0992f868",
   "metadata": {},
   "source": [
    "Write Delta"
   ]
  },
  {
   "cell_type": "code",
   "execution_count": 8,
   "id": "d9b483cc",
   "metadata": {},
   "outputs": [],
   "source": [
    "from deltalake.writer import write_deltalake\n",
    "storage_options={\"bearer_token\": os.environ.get(\"AZURE_STORAGE_TOKEN\"), \"use_fabric_endpoint\": \"true\" }\n",
    "write_deltalake(f\"{warhouse_path}/{schema}/{tbl}_delta\", df,mode='ignore' ,storage_options=storage_options)"
   ]
  },
  {
   "cell_type": "markdown",
   "id": "d058dba6",
   "metadata": {},
   "source": [
    "Read"
   ]
  },
  {
   "cell_type": "code",
   "execution_count": 9,
   "id": "72a0802d-d664-4f80-b392-e7efdae1d074",
   "metadata": {
    "microsoft": {
     "language": "python",
     "language_group": "jupyter_python"
    }
   },
   "outputs": [
    {
     "data": {
      "application/vnd.jupyter.widget-view+json": {
       "model_id": "c0263440147d488e82a6d71562761faa",
       "version_major": 2,
       "version_minor": 0
      },
      "text/plain": [
       "FloatProgress(value=0.0, layout=Layout(width='auto'), style=ProgressStyle(bar_color='black'))"
      ]
     },
     "metadata": {},
     "output_type": "display_data"
    },
    {
     "data": {
      "application/vnd.jupyter.widget-view+json": {
       "model_id": "14ff209cb78d4034a0da9190a33b729d",
       "version_major": 2,
       "version_minor": 0
      },
      "text/plain": [
       "FloatProgress(value=0.0, layout=Layout(width='auto'), style=ProgressStyle(bar_color='black'))"
      ]
     },
     "metadata": {},
     "output_type": "display_data"
    },
    {
     "data": {
      "text/plain": [
       "┌──────────┬────────────────────┬───────────────────────┬──────────────┬──────────────┬───────────┐\n",
       "│ database │       schema       │         name          │ column_names │ column_types │ temporary │\n",
       "│ varchar  │      varchar       │        varchar        │  varchar[]   │  varchar[]   │  boolean  │\n",
       "├──────────┼────────────────────┼───────────────────────┼──────────────┼──────────────┼───────────┤\n",
       "│ onelake  │ demo               │ calendar_delta        │ [__]         │ [UNKNOWN]    │ false     │\n",
       "│ onelake  │ demo               │ calendar_iceberg      │ [__]         │ [UNKNOWN]    │ false     │\n",
       "│ onelake  │ demo               │ calendardelta         │ [__]         │ [UNKNOWN]    │ false     │\n",
       "│ onelake  │ demo               │ calendariceberg       │ [__]         │ [UNKNOWN]    │ false     │\n",
       "│ onelake  │ demo               │ newdata_delta         │ [__]         │ [UNKNOWN]    │ false     │\n",
       "│ onelake  │ demo               │ newdata_iceberg       │ [__]         │ [UNKNOWN]    │ false     │\n",
       "│ onelake  │ iceberg_schema     │ iceberg_tableest      │ [__]         │ [UNKNOWN]    │ false     │\n",
       "│ onelake  │ last               │ new_iceberg_tabletest │ [__]         │ [UNKNOWN]    │ false     │\n",
       "│ onelake  │ new_iceberg_schema │ new_iceberg_tabletest │ [__]         │ [UNKNOWN]    │ false     │\n",
       "│ onelake  │ test               │ calendar_delta        │ [__]         │ [UNKNOWN]    │ false     │\n",
       "│ onelake  │ test               │ calendar_iceberg      │ [__]         │ [UNKNOWN]    │ false     │\n",
       "├──────────┴────────────────────┴───────────────────────┴──────────────┴──────────────┴───────────┤\n",
       "│ 11 rows                                                                               6 columns │\n",
       "└─────────────────────────────────────────────────────────────────────────────────────────────────┘"
      ]
     },
     "execution_count": 9,
     "metadata": {},
     "output_type": "execute_result"
    }
   ],
   "source": [
    "duckdb.sql(f\"\"\" \n",
    "  CREATE or replace SECRET onelake ( TYPE AZURE, PROVIDER ACCESS_TOKEN, ACCESS_TOKEN '{os.environ.get('AZURE_STORAGE_TOKEN')}')   ;\n",
    "  load httpfs ;\n",
    "  ATTACH or replace '{ws}/{lh}.lakehouse' AS onelake (TYPE ICEBERG, ENDPOINT '{onelake_endpoint}', TOKEN '{os.environ.get(\"AZURE_STORAGE_TOKEN\")}');\n",
    "  show all tables;\n",
    "        \"\"\")"
   ]
  },
  {
   "cell_type": "markdown",
   "id": "bdacfb20",
   "metadata": {},
   "source": [
    "Read Iceberg using Iceberg Reader"
   ]
  },
  {
   "cell_type": "code",
   "execution_count": 10,
   "id": "96d518f6",
   "metadata": {},
   "outputs": [],
   "source": [
    "duckdb.sql(f\"\"\" use onelake.{schema};\"\"\")"
   ]
  },
  {
   "cell_type": "code",
   "execution_count": 11,
   "id": "c8914277",
   "metadata": {},
   "outputs": [
    {
     "data": {
      "text/plain": [
       "┌────────────┬───────┬───────┐\n",
       "│    date    │ year  │ month │\n",
       "│    date    │ int64 │ int64 │\n",
       "├────────────┼───────┼───────┤\n",
       "│ 2018-04-01 │  2018 │     4 │\n",
       "│ 2018-04-02 │  2018 │     4 │\n",
       "│ 2018-04-03 │  2018 │     4 │\n",
       "└────────────┴───────┴───────┘"
      ]
     },
     "execution_count": 11,
     "metadata": {},
     "output_type": "execute_result"
    }
   ],
   "source": [
    "duckdb.sql(f\"\"\"  from {tbl}_iceberg limit 3 \"\"\")"
   ]
  },
  {
   "cell_type": "markdown",
   "id": "04fcff38",
   "metadata": {},
   "source": [
    "Read Delta using Iceberg Reader"
   ]
  },
  {
   "cell_type": "code",
   "execution_count": 12,
   "id": "167471c5",
   "metadata": {},
   "outputs": [
    {
     "data": {
      "text/plain": [
       "┌────────────┬───────┬───────┐\n",
       "│    date    │ year  │ month │\n",
       "│    date    │ int64 │ int64 │\n",
       "├────────────┼───────┼───────┤\n",
       "│ 2018-04-01 │  2018 │     4 │\n",
       "│ 2018-04-02 │  2018 │     4 │\n",
       "│ 2018-04-03 │  2018 │     4 │\n",
       "└────────────┴───────┴───────┘"
      ]
     },
     "execution_count": 12,
     "metadata": {},
     "output_type": "execute_result"
    }
   ],
   "source": [
    "duckdb.sql(f\"\"\"  from {tbl}_delta limit 3 \"\"\")"
   ]
  },
  {
   "cell_type": "markdown",
   "id": "b12c2e96",
   "metadata": {},
   "source": [
    "Read Iceberg using Delta Reader"
   ]
  },
  {
   "cell_type": "code",
   "execution_count": 13,
   "id": "fdcb474a",
   "metadata": {},
   "outputs": [
    {
     "data": {
      "text/plain": [
       "┌────────────┬───────┬───────┐\n",
       "│    date    │ year  │ month │\n",
       "│    date    │ int64 │ int64 │\n",
       "├────────────┼───────┼───────┤\n",
       "│ 2018-04-01 │  2018 │     4 │\n",
       "│ 2018-04-02 │  2018 │     4 │\n",
       "│ 2018-04-03 │  2018 │     4 │\n",
       "│ 2018-04-04 │  2018 │     4 │\n",
       "│ 2018-04-05 │  2018 │     4 │\n",
       "│ 2018-04-06 │  2018 │     4 │\n",
       "│ 2018-04-07 │  2018 │     4 │\n",
       "│ 2018-04-08 │  2018 │     4 │\n",
       "│ 2018-04-09 │  2018 │     4 │\n",
       "│ 2018-04-10 │  2018 │     4 │\n",
       "│     ·      │    ·  │     · │\n",
       "│     ·      │    ·  │     · │\n",
       "│     ·      │    ·  │     · │\n",
       "│ 2024-12-22 │  2024 │    12 │\n",
       "│ 2024-12-23 │  2024 │    12 │\n",
       "│ 2024-12-24 │  2024 │    12 │\n",
       "│ 2024-12-25 │  2024 │    12 │\n",
       "│ 2024-12-26 │  2024 │    12 │\n",
       "│ 2024-12-27 │  2024 │    12 │\n",
       "│ 2024-12-28 │  2024 │    12 │\n",
       "│ 2024-12-29 │  2024 │    12 │\n",
       "│ 2024-12-30 │  2024 │    12 │\n",
       "│ 2024-12-31 │  2024 │    12 │\n",
       "├────────────┴───────┴───────┤\n",
       "│ 2467 rows        3 columns │\n",
       "│ (20 shown)                 │\n",
       "└────────────────────────────┘"
      ]
     },
     "execution_count": 13,
     "metadata": {},
     "output_type": "execute_result"
    }
   ],
   "source": [
    "duckdb.sql(f\" FROM delta_scan('{warhouse_path}/{schema}/{tbl}_iceberg') \")"
   ]
  },
  {
   "cell_type": "markdown",
   "id": "d487330f",
   "metadata": {},
   "source": [
    "pyiceberg"
   ]
  },
  {
   "cell_type": "code",
   "execution_count": 14,
   "id": "4ec6c6c9",
   "metadata": {},
   "outputs": [
    {
     "data": {
      "text/plain": [
       "[('demo', 'calendar_delta'),\n",
       " ('demo', 'calendar_iceberg'),\n",
       " ('demo', 'calendardelta'),\n",
       " ('demo', 'calendariceberg'),\n",
       " ('demo', 'newdata_delta'),\n",
       " ('demo', 'newdata_iceberg')]"
      ]
     },
     "execution_count": 14,
     "metadata": {},
     "output_type": "execute_result"
    }
   ],
   "source": [
    "from   pyiceberg.catalog import load_catalog\n",
    "catalog = load_catalog(\"onelake\", **{\n",
    "    \"uri\"                       :                   onelake_endpoint, \n",
    "    \"token\"                     :                   os.environ.get('AZURE_STORAGE_TOKEN'), \n",
    "    \"warehouse\"                 :                   f\"{ws}/{lh}.lakehouse\",\n",
    "    \"adls.account-name\"         :                   onelake ,\n",
    "    \"adls.account-host\"         :                   f\"{onelake}.blob.fabric.microsoft.com\" ,\n",
    "    \"adls.token\"                :                   os.environ.get('AZURE_STORAGE_TOKEN') ,\n",
    "})\n",
    "catalog.list_tables(schema)"
   ]
  },
  {
   "cell_type": "code",
   "execution_count": 15,
   "id": "01b9f078",
   "metadata": {},
   "outputs": [
    {
     "data": {
      "text/html": [
       "<div>\n",
       "<style scoped>\n",
       "    .dataframe tbody tr th:only-of-type {\n",
       "        vertical-align: middle;\n",
       "    }\n",
       "\n",
       "    .dataframe tbody tr th {\n",
       "        vertical-align: top;\n",
       "    }\n",
       "\n",
       "    .dataframe thead th {\n",
       "        text-align: right;\n",
       "    }\n",
       "</style>\n",
       "<table border=\"1\" class=\"dataframe\">\n",
       "  <thead>\n",
       "    <tr style=\"text-align: right;\">\n",
       "      <th></th>\n",
       "      <th>date</th>\n",
       "      <th>year</th>\n",
       "      <th>month</th>\n",
       "    </tr>\n",
       "  </thead>\n",
       "  <tbody>\n",
       "    <tr>\n",
       "      <th>0</th>\n",
       "      <td>2018-04-01</td>\n",
       "      <td>2018</td>\n",
       "      <td>4</td>\n",
       "    </tr>\n",
       "    <tr>\n",
       "      <th>1</th>\n",
       "      <td>2018-04-02</td>\n",
       "      <td>2018</td>\n",
       "      <td>4</td>\n",
       "    </tr>\n",
       "    <tr>\n",
       "      <th>2</th>\n",
       "      <td>2018-04-03</td>\n",
       "      <td>2018</td>\n",
       "      <td>4</td>\n",
       "    </tr>\n",
       "  </tbody>\n",
       "</table>\n",
       "</div>"
      ],
      "text/plain": [
       "         date  year  month\n",
       "0  2018-04-01  2018      4\n",
       "1  2018-04-02  2018      4\n",
       "2  2018-04-03  2018      4"
      ]
     },
     "execution_count": 15,
     "metadata": {},
     "output_type": "execute_result"
    }
   ],
   "source": [
    "table = catalog.load_table(f\"{schema}.{tbl}_delta\")\n",
    "scan  = table.scan( limit=3,).to_pandas()\n",
    "scan"
   ]
  }
 ],
 "metadata": {
  "colab": {
   "provenance": []
  },
  "dependencies": {
   "lakehouse": {
    "default_lakehouse": "a069df31-1a6b-443b-ad06-dce5a2f3e9bd",
    "default_lakehouse_name": "data",
    "default_lakehouse_workspace_id": "fbef40a2-dc7c-4f01-918a-fdbd6d72fc0e",
    "known_lakehouses": [
     {
      "id": "a069df31-1a6b-443b-ad06-dce5a2f3e9bd"
     }
    ]
   }
  },
  "kernel_info": {
   "jupyter_kernel_name": "python3.11",
   "name": "jupyter"
  },
  "kernelspec": {
   "display_name": "Python 3",
   "language": "python",
   "name": "python3"
  },
  "language_info": {
   "codemirror_mode": {
    "name": "ipython",
    "version": 3
   },
   "file_extension": ".py",
   "mimetype": "text/x-python",
   "name": "python",
   "nbconvert_exporter": "python",
   "pygments_lexer": "ipython3",
   "version": "3.11.9"
  },
  "microsoft": {
   "language": "python",
   "language_group": "jupyter_python",
   "ms_spell_check": {
    "ms_spell_check_language": "en"
   }
  },
  "nteract": {
   "version": "nteract-front-end@1.0.0"
  },
  "spark_compute": {
   "compute_id": "/trident/default",
   "session_options": {
    "conf": {
     "spark.synapse.nbs.session.timeout": "1200000"
    }
   }
  },
  "widgets": {}
 },
 "nbformat": 4,
 "nbformat_minor": 5
}
