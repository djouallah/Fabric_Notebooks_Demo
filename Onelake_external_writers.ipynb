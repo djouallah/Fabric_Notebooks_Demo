{
  "cells": [
    {
      "cell_type": "markdown",
      "source": [
        "# Parameters"
      ],
      "metadata": {
        "id": "ohQWv4wXGC2z"
      },
      "id": "ohQWv4wXGC2z"
    },
    {
      "cell_type": "code",
      "source": [
        "total_files = 1\n",
        "temporary_storage='/content/temporary'\n",
        "storage = 'onelake'"
      ],
      "metadata": {
        "id": "Usg0HTcf4wvw"
      },
      "id": "Usg0HTcf4wvw",
      "execution_count": 1,
      "outputs": []
    },
    {
      "cell_type": "markdown",
      "source": [
        " **OneLake Configuration**\n",
        "it is a one off operation to get Onelake credential, Fivetran has an excellent setup guide\n",
        "https://fivetran.com/docs/destinations/onelake/setup-guide"
      ],
      "metadata": {
        "id": "AnsKHIomQdVR"
      },
      "id": "AnsKHIomQdVR"
    },
    {
      "cell_type": "code",
      "execution_count": 2,
      "id": "4-1KeHjGNmtX",
      "metadata": {
        "id": "4-1KeHjGNmtX",
        "colab": {
          "base_uri": "https://localhost:8080/"
        },
        "outputId": "cded262c-d01d-4977-d38a-721628c46556"
      },
      "outputs": [
        {
          "output_type": "stream",
          "name": "stdout",
          "text": [
            "\u001b[2K     \u001b[90m━━━━━━━━━━━━━━━━━━━━━━━━━━━━━━━━━━━━━━━━\u001b[0m \u001b[32m173.2/173.2 kB\u001b[0m \u001b[31m2.3 MB/s\u001b[0m eta \u001b[36m0:00:00\u001b[0m\n",
            "\u001b[2K     \u001b[90m━━━━━━━━━━━━━━━━━━━━━━━━━━━━━━━━━━━━━━━━\u001b[0m \u001b[32m194.3/194.3 kB\u001b[0m \u001b[31m12.5 MB/s\u001b[0m eta \u001b[36m0:00:00\u001b[0m\n",
            "\u001b[2K     \u001b[90m━━━━━━━━━━━━━━━━━━━━━━━━━━━━━━━━━━━━━━━━\u001b[0m \u001b[32m110.9/110.9 kB\u001b[0m \u001b[31m11.1 MB/s\u001b[0m eta \u001b[36m0:00:00\u001b[0m\n",
            "\u001b[?25h"
          ]
        }
      ],
      "source": [
        "match storage:\n",
        " case 'local':\n",
        "  storage_options={\"allow_unsafe_rename\":\"true\"}\n",
        "  lakehouse =     '/lakehouse/default/Tables/'\n",
        " case 'onelake':\n",
        "  !pip install -q azure-identity\n",
        "  from azure.identity import ClientSecretCredential, AuthenticationRequiredError\n",
        "  from google.colab import userdata\n",
        "  credential = ClientSecretCredential(\n",
        "                client_id=userdata.get(\"appId\"),\n",
        "                client_secret=userdata.get(\"secret\"),\n",
        "                tenant_id=userdata.get (\"tenantId\")\n",
        "                )\n",
        "  access_token =       credential.get_token(\"https://storage.azure.com/.default\").token\n",
        "  storage_options=     {\"bearer_token\": access_token, \"use_fabric_endpoint\": \"true\"}\n",
        "  ### lakehouse path is something like this : \"abfss://workspace@onelake.dfs.fabric.microsoft.com/Lakehousename.Lakehouse/Tables/\"\n",
        "  lakehouse =           userdata.get(\"table_path_onelake\")"
      ]
    },
    {
      "cell_type": "markdown",
      "id": "20orabBAtGFU",
      "metadata": {
        "id": "20orabBAtGFU"
      },
      "source": [
        "***Install Package***"
      ]
    },
    {
      "cell_type": "code",
      "execution_count": null,
      "id": "4fa98002-f7c6-4d4d-9664-3f492997b93f",
      "metadata": {
        "id": "4fa98002-f7c6-4d4d-9664-3f492997b93f"
      },
      "outputs": [],
      "source": [
        "!pip install   -q duckdb  --upgrade\n",
        "!pip install   -q pyarrow --upgrade\n",
        "!pip install   -q polars  --pre --upgrade\n",
        "!pip install   -q 'ibis-framework' --upgrade\n",
        "!pip install   -q deltalake\n",
        "!pip install   -q getdaft"
      ]
    },
    {
      "cell_type": "code",
      "execution_count": 4,
      "id": "815f881e-4109-431e-90cd-dab1a806132f",
      "metadata": {
        "colab": {
          "base_uri": "https://localhost:8080/"
        },
        "id": "815f881e-4109-431e-90cd-dab1a806132f",
        "outputId": "4a7d40c9-fa42-47c3-9c26-700d2690bf58"
      },
      "outputs": [
        {
          "output_type": "stream",
          "name": "stdout",
          "text": [
            "2 vCPU Memory:13.0\n"
          ]
        }
      ],
      "source": [
        "# @title\n",
        "from psutil import *\n",
        "core = cpu_count()\n",
        "vCPU = str(core) + \" vCPU\"\n",
        "mem=round(virtual_memory().total/(1024 * 1024 * 1024),0)\n",
        "print(vCPU +' Memory:'+ str(mem))"
      ]
    },
    {
      "cell_type": "markdown",
      "id": "ee4d52d4-761a-4e7b-993b-0889fda74a94",
      "metadata": {
        "id": "ee4d52d4-761a-4e7b-993b-0889fda74a94"
      },
      "source": [
        "# Download Data"
      ]
    },
    {
      "cell_type": "code",
      "execution_count": 5,
      "id": "28416977-0f39-41ca-aa84-9a5d42a6e519",
      "metadata": {
        "id": "28416977-0f39-41ca-aa84-9a5d42a6e519"
      },
      "outputs": [],
      "source": [
        "# @title\n",
        "import re ,os\n",
        "import requests\n",
        "from urllib.request import urlopen\n",
        "def download(url,Path):\n",
        "    if not os.path.exists(Path):\n",
        "      os.makedirs(Path, exist_ok=True)\n",
        "    result = urlopen(url).read().decode('utf-8')\n",
        "    pattern = re.compile(r'[\\w.]*.zip')\n",
        "    filelist1 = pattern.findall(result)\n",
        "    filelist_unique = list(set(filelist1))[:total_files]\n",
        "    print(str(len(filelist_unique)) + ' New File Loaded')\n",
        "    if len(filelist_unique) != 0 :\n",
        "      for x in filelist_unique:\n",
        "           with requests.get(url+x, stream=True) as resp:\n",
        "            if resp.ok:\n",
        "              with open(f\"{Path}/{x}\", \"wb\") as f:\n",
        "               for chunk in resp.iter_content(chunk_size=4096):\n",
        "                f.write(chunk)\n",
        "    return \"done\""
      ]
    },
    {
      "cell_type": "code",
      "execution_count": 6,
      "id": "3b5f3047-8010-41ba-8e30-396e26de0e81",
      "metadata": {
        "id": "3b5f3047-8010-41ba-8e30-396e26de0e81"
      },
      "outputs": [],
      "source": [
        "# @title\n",
        "from shutil import unpack_archive\n",
        "import os , glob\n",
        "def unzip(Source, Destination):\n",
        "    filelist=[os.path.basename(x) for x in glob.glob(Source+'*.zip')]\n",
        "    for x in filelist:\n",
        "          try:\n",
        "            unpack_archive(str(Source+x), str(Destination), 'zip')\n",
        "          except:\n",
        "            pass\n",
        "    return \"done\""
      ]
    },
    {
      "cell_type": "code",
      "execution_count": 7,
      "id": "f6536736-55ec-4af9-a603-17a4e779af7a",
      "metadata": {
        "id": "f6536736-55ec-4af9-a603-17a4e779af7a",
        "colab": {
          "base_uri": "https://localhost:8080/",
          "height": 0
        },
        "outputId": "473183af-9abe-41f3-94c0-fbce8c98d31f"
      },
      "outputs": [
        {
          "output_type": "stream",
          "name": "stdout",
          "text": [
            "1 New File Loaded\n"
          ]
        },
        {
          "output_type": "execute_result",
          "data": {
            "text/plain": [
              "'done'"
            ],
            "application/vnd.google.colaboratory.intrinsic+json": {
              "type": "string"
            }
          },
          "metadata": {},
          "execution_count": 7
        }
      ],
      "source": [
        "download(\"https://nemweb.com.au/Reports/Current/Daily_Reports/\",temporary_storage+\"/zip/\")\n",
        "unzip(temporary_storage+\"/zip/\",temporary_storage+\"/csv/\")"
      ]
    },
    {
      "cell_type": "markdown",
      "source": [
        "#-----"
      ],
      "metadata": {
        "id": "qK2572KpRtcC"
      },
      "id": "qK2572KpRtcC"
    },
    {
      "cell_type": "markdown",
      "id": "8LbA_eCFM-Zl",
      "metadata": {
        "id": "8LbA_eCFM-Zl"
      },
      "source": [
        "# DuckDB"
      ]
    },
    {
      "cell_type": "code",
      "execution_count": 8,
      "id": "21256ca2-634e-4d44-ae45-4e1850258ad1",
      "metadata": {
        "id": "21256ca2-634e-4d44-ae45-4e1850258ad1"
      },
      "outputs": [],
      "source": [
        "# @title\n",
        "import duckdb\n",
        "def duckdb_clean_csv(x):\n",
        "\traw =duckdb.sql(F\"\"\"from read_csv({x},\n",
        "\tSkip=1,header =0,all_varchar=1,\n",
        "\tcolumns={{\n",
        "\t'I': 'VARCHAR','UNIT': 'VARCHAR','XX': 'VARCHAR','VERSION': 'VARCHAR','SETTLEMENTDATE': 'VARCHAR','RUNNO': 'VARCHAR',\n",
        "\t'DUID': 'VARCHAR','INTERVENTION': 'VARCHAR','DISPATCHMODE': 'VARCHAR','AGCSTATUS': 'VARCHAR','INITIALMW': 'VARCHAR',\n",
        "\t'TOTALCLEARED': 'VARCHAR','RAMPDOWNRATE': 'VARCHAR','RAMPUPRATE': 'VARCHAR','LOWER5MIN': 'VARCHAR',\n",
        "\t'LOWER60SEC': 'VARCHAR','LOWER6SEC': 'VARCHAR','RAISE5MIN': 'VARCHAR','RAISE60SEC': 'VARCHAR',\n",
        "\t'RAISE6SEC': 'VARCHAR','MARGINAL5MINVALUE': 'VARCHAR','MARGINAL60SECVALUE': 'VARCHAR',\n",
        "\t'MARGINAL6SECVALUE': 'VARCHAR','MARGINALVALUE': 'VARCHAR','VIOLATION5MINDEGREE': 'VARCHAR',\n",
        "\t'VIOLATION60SECDEGREE': 'VARCHAR','VIOLATION6SECDEGREE': 'VARCHAR','VIOLATIONDEGREE': 'VARCHAR',\n",
        "\t'LOWERREG': 'VARCHAR','RAISEREG': 'VARCHAR','AVAILABILITY': 'VARCHAR','RAISE6SECFLAGS': 'VARCHAR',\n",
        "\t'RAISE60SECFLAGS': 'VARCHAR','RAISE5MINFLAGS': 'VARCHAR','RAISEREGFLAGS': 'VARCHAR',\n",
        "\t'LOWER6SECFLAGS': 'VARCHAR','LOWER60SECFLAGS': 'VARCHAR','LOWER5MINFLAGS': 'VARCHAR',\n",
        "\t'LOWERREGFLAGS': 'VARCHAR','RAISEREGAVAILABILITY': 'VARCHAR','RAISEREGENABLEMENTMAX': 'VARCHAR',\n",
        "\t'RAISEREGENABLEMENTMIN': 'VARCHAR','LOWERREGAVAILABILITY': 'VARCHAR','LOWERREGENABLEMENTMAX': 'VARCHAR',\n",
        "\t'LOWERREGENABLEMENTMIN': 'VARCHAR','RAISE6SECACTUALAVAILABILITY': 'VARCHAR',\n",
        "\t'RAISE60SECACTUALAVAILABILITY': 'VARCHAR','RAISE5MINACTUALAVAILABILITY': 'VARCHAR',\n",
        "\t'RAISEREGACTUALAVAILABILITY': 'VARCHAR','LOWER6SECACTUALAVAILABILITY': 'VARCHAR',\n",
        "\t'LOWER60SECACTUALAVAILABILITY': 'VARCHAR','LOWER5MINACTUALAVAILABILITY': 'VARCHAR','LOWERREGACTUALAVAILABILITY': 'VARCHAR'\n",
        "\t}},\n",
        "\tfilename =1,null_padding = true,ignore_errors=1,auto_detect=false)\n",
        "\twhere I='D' and UNIT ='DUNIT' AND VERSION = 3                  \"\"\")\n",
        "\tcolumns = list(set(raw.columns) - {'SETTLEMENTDATE','DUID','I','filename','UNIT'})\n",
        "\texprs = [\n",
        "\t\tduckdb.ColumnExpression(x).cast(duckdb.typing.DOUBLE).alias(x)\n",
        "\t\tfor x in columns\n",
        "\t         ]\n",
        "\trel2 = raw.select('SETTLEMENTDATE','DUID','I','filename','UNIT',*exprs)\n",
        "\n",
        "\tscada=duckdb.sql(\"\"\" select *exclude(SETTLEMENTDATE,I,XX,filename),cast (SETTLEMENTDATE as TIMESTAMPTZ) as SETTLEMENTDATE,\n",
        "\tisoyear (cast (SETTLEMENTDATE as timestamp)) as YEAR  from rel2  \"\"\")\n",
        "\treturn scada.arrow()\n"
      ]
    },
    {
      "cell_type": "markdown",
      "id": "sBkDAT9PhxIx",
      "metadata": {
        "id": "sBkDAT9PhxIx"
      },
      "source": [
        "# Polars"
      ]
    },
    {
      "cell_type": "code",
      "execution_count": 9,
      "id": "ca89eb3a-a145-468f-8490-1a6ba970a25a",
      "metadata": {
        "id": "ca89eb3a-a145-468f-8490-1a6ba970a25a"
      },
      "outputs": [],
      "source": [
        "# @title\n",
        "import polars as pl\n",
        "def polars_clean_csv(x):\n",
        "  schema ={'I': pl.String,'UNIT': pl.String,'XX': pl.String,'VERSION': pl.String,'SETTLEMENTDATE': pl.String,'RUNNO': pl.String,\n",
        "    'DUID': pl.String,'INTERVENTION': pl.String,'DISPATCHMODE': pl.String,'AGCSTATUS': pl.String,'INITIALMW': pl.String,\n",
        "    'TOTALCLEARED': pl.String,'RAMPDOWNRATE': pl.String,'RAMPUPRATE': pl.String,'LOWER5MIN': pl.String,\n",
        "    'LOWER60SEC': pl.String,'LOWER6SEC': pl.String,'RAISE5MIN': pl.String,'RAISE60SEC': pl.String,\n",
        "    'RAISE6SEC': pl.String,'MARGINAL5MINVALUE': pl.String,'MARGINAL60SECVALUE': pl.String,\n",
        "    'MARGINAL6SECVALUE': pl.String,'MARGINALVALUE': pl.String,'VIOLATION5MINDEGREE': pl.String,\n",
        "    'VIOLATION60SECDEGREE': pl.String,'VIOLATION6SECDEGREE': pl.String,'VIOLATIONDEGREE': pl.String,\n",
        "    'LOWERREG': pl.String,'RAISEREG': pl.String,'AVAILABILITY': pl.String,'RAISE6SECFLAGS': pl.String,\n",
        "    'RAISE60SECFLAGS': pl.String,'RAISE5MINFLAGS': pl.String,'RAISEREGFLAGS': pl.String,\n",
        "    'LOWER6SECFLAGS': pl.String,'LOWER60SECFLAGS': pl.String,'LOWER5MINFLAGS': pl.String,\n",
        "    'LOWERREGFLAGS': pl.String,'RAISEREGAVAILABILITY': pl.String,'RAISEREGENABLEMENTMAX': pl.String,\n",
        "    'RAISEREGENABLEMENTMIN': pl.String,'LOWERREGAVAILABILITY': pl.String,'LOWERREGENABLEMENTMAX': pl.String,\n",
        "    'LOWERREGENABLEMENTMIN': pl.String,'RAISE6SECACTUALAVAILABILITY': pl.String,\n",
        "    'RAISE60SECACTUALAVAILABILITY': pl.String,'RAISE5MINACTUALAVAILABILITY': pl.String,\n",
        "    'RAISEREGACTUALAVAILABILITY': pl.String,'LOWER6SECACTUALAVAILABILITY': pl.String,\n",
        "    'LOWER60SECACTUALAVAILABILITY': pl.String,'LOWER5MINACTUALAVAILABILITY': pl.String,'LOWERREGACTUALAVAILABILITY': pl.String}\n",
        "  raw = pl.scan_csv(x,\n",
        "                    skip_rows=1,\n",
        "                    schema=schema,\n",
        "                    has_header=False,\n",
        "                    truncate_ragged_lines=True)\n",
        "  transform =(\n",
        "      raw\n",
        "      .filter(pl.col(\"I\")=='D')\n",
        "      .filter(pl.col(\"UNIT\")=='DUNIT')\n",
        "      .filter(pl.col(\"VERSION\")=='3')\n",
        "      .drop(\"XX\")\n",
        "      .drop(\"I\")\n",
        "  )\n",
        "  z = transform.with_columns(pl.col(\"SETTLEMENTDATE\").str.to_datetime())\n",
        "  columns = list(set(transform.collect_schema().names()) - {'SETTLEMENTDATE','DUID','UNIT'})\n",
        "  final=z.with_columns(pl.col(columns).cast(pl.Float64),YEAR=pl.col(\"SETTLEMENTDATE\").dt.iso_year()).collect()\n",
        "  return final.to_arrow()"
      ]
    },
    {
      "cell_type": "markdown",
      "id": "qpFll5xw3Mvq",
      "metadata": {
        "id": "qpFll5xw3Mvq"
      },
      "source": [
        "# Pandas"
      ]
    },
    {
      "cell_type": "code",
      "execution_count": 10,
      "id": "7USg9dd-1ivc",
      "metadata": {
        "id": "7USg9dd-1ivc"
      },
      "outputs": [],
      "source": [
        "import pandas as pd\n",
        "\n",
        "def Pandas_clean_csv(chunk):\n",
        "    appended_data = []\n",
        "    for filename in chunk:\n",
        "        # Read only necessary columns\n",
        "        df = pd.read_csv(filename, skiprows=1,dtype=str, names=range(131), keep_default_na=False,  index_col=False)\n",
        "        df = df.iloc[:, :53]\n",
        "        df = df.rename(columns={1: 'DISPATCH', 3: 'VERSION'}).query('DISPATCH==\"DUNIT\" and VERSION==\"3\"')\n",
        "        df.columns = df.iloc[0]\n",
        "        df = df[1:]\n",
        "        df = df.rename(columns={'3': 'version', 'DUNIT': 'UNIT'})\n",
        "        df = df.drop(columns=['I'])\n",
        "        df.drop([\"\"], axis=1, inplace=True)\n",
        "        df['SETTLEMENTDATE'] = pd.to_datetime(df['SETTLEMENTDATE'])\n",
        "        columns = list(set(df.columns) - {'SETTLEMENTDATE', 'DUID', 'UNIT'})\n",
        "        df[columns] = df[columns].apply(pd.to_numeric, errors='coerce', dtype_backend='pyarrow')\n",
        "        df['YEAR'] = df['SETTLEMENTDATE'].dt.year\n",
        "        appended_data.append(df)\n",
        "    appended_data = pd.concat(appended_data, ignore_index=True)\n",
        "    return appended_data"
      ]
    },
    {
      "cell_type": "markdown",
      "id": "SF7CWQywYcnY",
      "metadata": {
        "id": "SF7CWQywYcnY"
      },
      "source": [
        "# Ibis"
      ]
    },
    {
      "cell_type": "code",
      "execution_count": 11,
      "id": "bzrsEGnWYVLC",
      "metadata": {
        "id": "bzrsEGnWYVLC"
      },
      "outputs": [],
      "source": [
        "# @title\n",
        "import ibis\n",
        "def ibis_clean_csv(files_to_upload_full_Path):\n",
        " schema={\n",
        "\t\t\t'I': 'VARCHAR','UNIT': 'VARCHAR','XX': 'VARCHAR','VERSION': 'VARCHAR','SETTLEMENTDATE': 'VARCHAR','RUNNO': 'VARCHAR',\n",
        "\t\t\t'DUID': 'VARCHAR','INTERVENTION': 'VARCHAR','DISPATCHMODE': 'VARCHAR','AGCSTATUS': 'VARCHAR','INITIALMW': 'VARCHAR',\n",
        "\t\t\t'TOTALCLEARED': 'VARCHAR','RAMPDOWNRATE': 'VARCHAR','RAMPUPRATE': 'VARCHAR','LOWER5MIN': 'VARCHAR',\n",
        "\t\t\t'LOWER60SEC': 'VARCHAR','LOWER6SEC': 'VARCHAR','RAISE5MIN': 'VARCHAR','RAISE60SEC': 'VARCHAR',\n",
        "\t\t\t'RAISE6SEC': 'VARCHAR','MARGINAL5MINVALUE': 'VARCHAR','MARGINAL60SECVALUE': 'VARCHAR',\n",
        "\t\t\t'MARGINAL6SECVALUE': 'VARCHAR','MARGINALVALUE': 'VARCHAR','VIOLATION5MINDEGREE': 'VARCHAR',\n",
        "\t\t\t'VIOLATION60SECDEGREE': 'VARCHAR','VIOLATION6SECDEGREE': 'VARCHAR','VIOLATIONDEGREE': 'VARCHAR',\n",
        "\t\t\t'LOWERREG': 'VARCHAR','RAISEREG': 'VARCHAR','AVAILABILITY': 'VARCHAR','RAISE6SECFLAGS': 'VARCHAR',\n",
        "\t\t\t'RAISE60SECFLAGS': 'VARCHAR','RAISE5MINFLAGS': 'VARCHAR','RAISEREGFLAGS': 'VARCHAR',\n",
        "\t\t\t'LOWER6SECFLAGS': 'VARCHAR','LOWER60SECFLAGS': 'VARCHAR','LOWER5MINFLAGS': 'VARCHAR',\n",
        "\t\t\t'LOWERREGFLAGS': 'VARCHAR','RAISEREGAVAILABILITY': 'VARCHAR','RAISEREGENABLEMENTMAX': 'VARCHAR',\n",
        "\t\t\t'RAISEREGENABLEMENTMIN': 'VARCHAR','LOWERREGAVAILABILITY': 'VARCHAR','LOWERREGENABLEMENTMAX': 'VARCHAR',\n",
        "\t\t\t'LOWERREGENABLEMENTMIN': 'VARCHAR','RAISE6SECACTUALAVAILABILITY': 'VARCHAR',\n",
        "\t\t\t'RAISE60SECACTUALAVAILABILITY': 'VARCHAR','RAISE5MINACTUALAVAILABILITY': 'VARCHAR',\n",
        "\t\t\t'RAISEREGACTUALAVAILABILITY': 'VARCHAR','LOWER6SECACTUALAVAILABILITY': 'VARCHAR',\n",
        "\t\t\t'LOWER60SECACTUALAVAILABILITY': 'VARCHAR','LOWER5MINACTUALAVAILABILITY': 'VARCHAR','LOWERREGACTUALAVAILABILITY': 'VARCHAR'}\n",
        " raw = ibis.read_csv(files_to_upload_full_Path,Skip=1,header =0,all_varchar=1,columns =schema,filename =1,null_padding = 1,ignore_errors=1,auto_detect=0)\n",
        " DUNIT = raw.filter((raw.UNIT == \"DUNIT\") & (raw.VERSION  == '3') & (raw.I  == 'D')).drop(\"XX\",\"I\")\n",
        " DUNIT = DUNIT.cast({\"SETTLEMENTDATE\": \"timestamp\"})\n",
        " DUNIT = DUNIT.mutate(\n",
        "      date=DUNIT.SETTLEMENTDATE.cast(\"date\"),\n",
        "      year=DUNIT.SETTLEMENTDATE.year(),\n",
        "  )\n",
        " df_cols = list(set(DUNIT.columns) - {'SETTLEMENTDATE','DUID','filename','UNIT','date','year'})\n",
        " for col_name in df_cols:\n",
        "      DUNIT = DUNIT.cast({col_name: \"double\"})\n",
        " return DUNIT.to_pyarrow()"
      ]
    },
    {
      "cell_type": "markdown",
      "id": "hEjpkeuATHiD",
      "metadata": {
        "id": "hEjpkeuATHiD"
      },
      "source": [
        "# Pyarrow"
      ]
    },
    {
      "cell_type": "code",
      "execution_count": 12,
      "id": "3epZDhdzTKv6",
      "metadata": {
        "id": "3epZDhdzTKv6"
      },
      "outputs": [],
      "source": [
        "# work in Progress\n",
        "from pyarrow import csv\n",
        "import pyarrow.compute as pc\n",
        "import pyarrow as pa\n",
        "import pyarrow.dataset as ds\n",
        "def pyarrow_clean_csv(files_to_upload_full_Path):\n",
        "  new_schema = pa.schema([\n",
        "  ('I', pa.string()),  ('UNIT', pa.string()),  ('XX', pa.string()),  ('VERSION', pa.float64()),  ('SETTLEMENTDATE', pa.string()),  ('RUNNO', pa.float64()),  ('DUID', pa.string()),  ('INTERVENTION', pa.float64()),\n",
        "  ('DISPATCHMODE', pa.float64()),  ('AGCSTATUS', pa.float64()),  ('INITIALMW', pa.float64()),  ('TOTALCLEARED', pa.float64()),  ('RAMPDOWNRATE', pa.float64()),  ('RAMPUPRATE', pa.float64()),  ('LOWER5MIN', pa.float64()),\n",
        "  ('LOWER60SEC', pa.float64()),  ('LOWER6SEC', pa.float64()),  ('RAISE5MIN', pa.float64()),  ('RAISE60SEC', pa.float64()),  ('RAISE6SEC', pa.float64()),  ('MARGINAL5MINVALUE', pa.float64()),  ('MARGINAL60SECVALUE', pa.float64()),\n",
        "  ('MARGINAL6SECVALUE', pa.float64()),  ('MARGINALVALUE', pa.float64()),  ('VIOLATION5MINDEGREE', pa.float64()),  ('VIOLATION60SECDEGREE', pa.float64()),  ('VIOLATION6SECDEGREE', pa.float64()),  ('VIOLATIONDEGREE', pa.float64()),\n",
        "  ('LOWERREG', pa.float64()),  ('RAISEREG', pa.float64()),  ('AVAILABILITY', pa.float64()),  ('RAISE6SECFLAGS', pa.float64()),  ('RAISE60SECFLAGS', pa.float64()),  ('RAISE5MINFLAGS', pa.float64()),\n",
        "  ('RAISEREGFLAGS', pa.float64()),  ('LOWER6SECFLAGS', pa.float64()),  ('LOWER60SECFLAGS', pa.float64()),  ('LOWER5MINFLAGS', pa.float64()),  ('LOWERREGFLAGS', pa.float64()),  ('RAISEREGAVAILABILITY', pa.float64()),\n",
        "  ('RAISEREGENABLEMENTMAX', pa.float64()),  ('RAISEREGENABLEMENTMIN', pa.float64()),  ('LOWERREGAVAILABILITY', pa.float64()),  ('LOWERREGENABLEMENTMAX', pa.float64()),  ('LOWERREGENABLEMENTMIN', pa.float64()),\n",
        "  ('RAISE6SECACTUALAVAILABILITY', pa.float64()),  ('RAISE60SECACTUALAVAILABILITY', pa.float64()),  ('RAISE5MINACTUALAVAILABILITY', pa.float64()),  ('RAISEREGACTUALAVAILABILITY', pa.float64()),  ('LOWER6SECACTUALAVAILABILITY', pa.float64()),\n",
        "  ('LOWER60SECACTUALAVAILABILITY', pa.float64()),  ('LOWER5MINACTUALAVAILABILITY', pa.float64()),  ('LOWERREGACTUALAVAILABILITY', pa.float64()),\n",
        "    ])\n",
        "  ReadOptions = csv.ReadOptions(column_names=new_schema.names,skip_rows=1)\n",
        "  ParseOptions  = csv.ParseOptions(invalid_row_handler=lambda i: \"skip\")\n",
        "  ConvertOptions = csv.ConvertOptions(strings_can_be_null=True)\n",
        "  format = ds.CsvFileFormat(parse_options = ParseOptions ,convert_options = ConvertOptions ,read_options = ReadOptions  )\n",
        "  raw = ds.dataset(files_to_upload_full_Path, format =format)\n",
        "  df= raw.filter((pc.field('I') == 'D') & (pc.field('UNIT') == 'DUNIT') & (pc.field('VERSION') == 3)).to_table().cast(new_schema)\n",
        "  df= df.drop_columns(['I','XX'])\n",
        "  df = df.set_column(df.schema.get_field_index(\"SETTLEMENTDATE\"), \"SETTLEMENTDATE\",pc.strptime(df['SETTLEMENTDATE'], format=\"%Y/%m/%d %H:%M:%S\", unit='s').cast(pa.timestamp(\"s\")))\n",
        "  df = df.add_column(0,\"YEAR\", pc.year(df['SETTLEMENTDATE']))\n",
        "  return df"
      ]
    },
    {
      "cell_type": "markdown",
      "source": [
        "# Daft"
      ],
      "metadata": {
        "id": "GHXhmrC28Zt_"
      },
      "id": "GHXhmrC28Zt_"
    },
    {
      "cell_type": "code",
      "source": [
        "import daft\n",
        "from daft import DataType, col\n",
        "def daft_clean_csv(files_to_upload_full_Path):\n",
        "\tschema={\n",
        "\t\t\t\t'I': DataType.string(),'UNIT': DataType.string(),'XX': DataType.string(),'VERSION': DataType.string(),'SETTLEMENTDATE': DataType.string(),'RUNNO': DataType.string(),\n",
        "\t\t\t\t'DUID': DataType.string(),'INTERVENTION': DataType.string(),'DISPATCHMODE': DataType.string(),'AGCSTATUS': DataType.string(),'INITIALMW': DataType.string(),\n",
        "\t\t\t\t'TOTALCLEARED': DataType.string(),'RAMPDOWNRATE': DataType.string(),'RAMPUPRATE': DataType.string(),'LOWER5MIN': DataType.string(),\n",
        "\t\t\t\t'LOWER60SEC': DataType.string(),'LOWER6SEC': DataType.string(),'RAISE5MIN': DataType.string(),'RAISE60SEC': DataType.string(),\n",
        "\t\t\t\t'RAISE6SEC': DataType.string(),'MARGINAL5MINVALUE': DataType.string(),'MARGINAL60SECVALUE': DataType.string(),\n",
        "\t\t\t\t'MARGINAL6SECVALUE': DataType.string(),'MARGINALVALUE': DataType.string(),'VIOLATION5MINDEGREE': DataType.string(),\n",
        "\t\t\t\t'VIOLATION60SECDEGREE': DataType.string(),'VIOLATION6SECDEGREE': DataType.string(),'VIOLATIONDEGREE': DataType.string(),\n",
        "\t\t\t\t'LOWERREG': DataType.string(),'RAISEREG': DataType.string(),'AVAILABILITY': DataType.string(),'RAISE6SECFLAGS': DataType.string(),\n",
        "\t\t\t\t'RAISE60SECFLAGS': DataType.string(),'RAISE5MINFLAGS': DataType.string(),'RAISEREGFLAGS': DataType.string(),\n",
        "\t\t\t\t'LOWER6SECFLAGS': DataType.string(),'LOWER60SECFLAGS': DataType.string(),'LOWER5MINFLAGS': DataType.string(),\n",
        "\t\t\t\t'LOWERREGFLAGS': DataType.string(),'RAISEREGAVAILABILITY': DataType.string(),'RAISEREGENABLEMENTMAX': DataType.string(),\n",
        "\t\t\t\t'RAISEREGENABLEMENTMIN': DataType.string(),'LOWERREGAVAILABILITY': DataType.string(),'LOWERREGENABLEMENTMAX': DataType.string(),\n",
        "\t\t\t\t'LOWERREGENABLEMENTMIN': DataType.string(),'RAISE6SECACTUALAVAILABILITY': DataType.string(),\n",
        "\t\t\t\t'RAISE60SECACTUALAVAILABILITY': DataType.string(),'RAISE5MINACTUALAVAILABILITY': DataType.string(),\n",
        "\t\t\t\t'RAISEREGACTUALAVAILABILITY': DataType.string(),'LOWER6SECACTUALAVAILABILITY': DataType.string(),\n",
        "\t\t\t\t'LOWER60SECACTUALAVAILABILITY': DataType.string(),'LOWER5MINACTUALAVAILABILITY': DataType.string(),'LOWERREGACTUALAVAILABILITY': DataType.string()}\n",
        "\tdf = daft.read_csv(files_to_upload_full_Path,schema=schema, infer_schema=False, has_headers=False, allow_variable_columns=True)\n",
        "\tdf = df.where((df[\"UNIT\"] == 'DUNIT' ) & (df[\"VERSION\"] == '3') & (df[\"I\"] == 'D'))\n",
        "\tdf = df.exclude('I','XX')\n",
        "\tdf_cols = list(set(df.column_names) - {'SETTLEMENTDATE','DUID','file','UNIT','transactionId','PRIORITY'})\n",
        "\tfor col_name in df_cols:\n",
        "\t\t\tdf = df.with_column(col_name, col(col_name).cast(DataType.float64()))\n",
        "\tdf = df.with_column(\"SETTLEMENTDATE\", df[\"SETTLEMENTDATE\"].str.to_datetime(\"%Y/%m/%d %H:%M:%S\"))\n",
        "\tdf = df.with_column('DATE', col('SETTLEMENTDATE').cast(DataType.date()))\n",
        "\tdf = df.with_column('YEAR', col('SETTLEMENTDATE').dt.year())\n",
        "\treturn df.to_arrow()"
      ],
      "metadata": {
        "id": "WuEAZPc0pPOr"
      },
      "id": "WuEAZPc0pPOr",
      "execution_count": 13,
      "outputs": []
    },
    {
      "cell_type": "markdown",
      "id": "QjvU3_McjZaj",
      "metadata": {
        "id": "QjvU3_McjZaj"
      },
      "source": [
        "# Run Test"
      ]
    },
    {
      "cell_type": "code",
      "execution_count": 14,
      "id": "XbFAUqD5viGT",
      "metadata": {
        "id": "XbFAUqD5viGT"
      },
      "outputs": [],
      "source": [
        "# @title\n",
        "import glob,os\n",
        "Source = temporary_storage+\"/csv/\"\n",
        "list_files=[os.path.basename(x) for x in glob.glob(Source+'*.CSV')]\n",
        "files_to_upload_full_Path = [Source + i for i in list_files][:total_files]"
      ]
    },
    {
      "cell_type": "code",
      "execution_count": 15,
      "id": "fvIrc1Qs3idS",
      "metadata": {
        "id": "fvIrc1Qs3idS"
      },
      "outputs": [],
      "source": [
        "# maximum nbr pf files is 60, you can customize how many files to process at one time, RAM is the bottlneck\n",
        "import time\n",
        "import pandas as pd\n",
        "results = pd.DataFrame(columns=['Engine','step','duration'])"
      ]
    },
    {
      "cell_type": "code",
      "execution_count": 16,
      "id": "X6Hza1er5CBg",
      "metadata": {
        "id": "X6Hza1er5CBg",
        "colab": {
          "base_uri": "https://localhost:8080/"
        },
        "outputId": "0a96c33f-4de2-44bc-f7d1-150ef8b5b0e6"
      },
      "outputs": [
        {
          "output_type": "stream",
          "name": "stdout",
          "text": [
            "Pyarrow read CSV:2.6175270080566406\n",
            "Pyarrow total:4.239688158035278\n",
            "CPU times: user 2.24 s, sys: 355 ms, total: 2.6 s\n",
            "Wall time: 4.3 s\n"
          ]
        }
      ],
      "source": [
        "%%time\n",
        "from deltalake.writer import write_deltalake\n",
        "chunk_len = total_files\n",
        "if len(files_to_upload_full_Path) >0 :\n",
        "  for i in range(0, len(files_to_upload_full_Path), chunk_len):\n",
        "    chunk = files_to_upload_full_Path[i:i + chunk_len]\n",
        "    ##########################\n",
        "    start = time.time()\n",
        "    df= pyarrow_clean_csv(chunk)\n",
        "    print('Pyarrow read CSV:' + str(time.time()-start))\n",
        "    write_deltalake(lakehouse+\"scada_Pyarrow\",df, mode=\"append\",partition_by=['YEAR'], storage_options=storage_options)\n",
        "    print('Pyarrow total:' + str(time.time()-start))\n",
        "    results = pd.concat([pd.DataFrame([['Pyarrow',i,time.time()-start]], columns=results.columns), results])"
      ]
    },
    {
      "cell_type": "code",
      "source": [
        "%%time\n",
        "from deltalake.writer import write_deltalake\n",
        "chunk_len = 60\n",
        "if len(files_to_upload_full_Path) >0 :\n",
        "  for i in range(0, len(files_to_upload_full_Path), chunk_len):\n",
        "    chunk = files_to_upload_full_Path[i:i + chunk_len]\n",
        "    ##########################\n",
        "    start = time.time()\n",
        "    df= daft_clean_csv(chunk)\n",
        "    print('Daft read CSV:' + str(time.time()-start))\n",
        "    write_deltalake(lakehouse+\"scada_Daft\",df, mode=\"append\",partition_by=['YEAR'], storage_options=storage_options)\n",
        "    print('Daft total:' + str(time.time()-start))\n",
        "    results = pd.concat([pd.DataFrame([['Daft',i,time.time()-start]], columns=results.columns), results])"
      ],
      "metadata": {
        "id": "HZl-zR2SbbjS",
        "colab": {
          "base_uri": "https://localhost:8080/",
          "height": 86,
          "referenced_widgets": [
            "cab858509d544ca59804e63948e5ed7b",
            "5b0ce72bd92b47dabd1f3df65bb6374e",
            "03770d54a79f4d658d6edb5d31b66ca9",
            "641ec698cc3d4cbb8b7952cae3593a2f",
            "360af5e0113a4fb490c7b0259156951d",
            "10fdefa9144b48f3a2b9d8f998745579",
            "97aafed03aa64661a7a4ba31b10375f8",
            "38189a06dab44dc79e85b4a0ce944ce5",
            "7db15c1795904d4d8a75eefc4cd0d869",
            "ff36b56f7e7741f6a46832bfa7e91024",
            "35ce3727012f49aab3149f061e00f26f"
          ]
        },
        "outputId": "5a02464f-f8be-4876-f7ec-5aecc0de25de"
      },
      "id": "HZl-zR2SbbjS",
      "execution_count": 17,
      "outputs": [
        {
          "output_type": "display_data",
          "data": {
            "text/plain": [
              "ScanWithTask-Project-Project [Stage:1]:   0%|          | 0/1 [00:00<?, ?it/s]"
            ],
            "application/vnd.jupyter.widget-view+json": {
              "version_major": 2,
              "version_minor": 0,
              "model_id": "cab858509d544ca59804e63948e5ed7b"
            }
          },
          "metadata": {}
        },
        {
          "output_type": "stream",
          "name": "stdout",
          "text": [
            "Daft read CSV:7.148796796798706\n",
            "Daft total:8.545904636383057\n",
            "CPU times: user 4.54 s, sys: 1.25 s, total: 5.79 s\n",
            "Wall time: 8.55 s\n"
          ]
        }
      ]
    },
    {
      "cell_type": "code",
      "execution_count": 18,
      "id": "GyqrdnPIZDdh",
      "metadata": {
        "id": "GyqrdnPIZDdh",
        "colab": {
          "base_uri": "https://localhost:8080/"
        },
        "outputId": "ed0d0bf5-d506-4d23-c055-0d82d2487f5c"
      },
      "outputs": [
        {
          "output_type": "stream",
          "name": "stdout",
          "text": [
            "ibis read CSV:5.940378189086914\n",
            "Ibis total:10.009677648544312\n",
            "CPU times: user 5.25 s, sys: 419 ms, total: 5.67 s\n",
            "Wall time: 10 s\n"
          ]
        }
      ],
      "source": [
        "%%time\n",
        "chunk_len = total_files\n",
        "if len(files_to_upload_full_Path) >0 :\n",
        "  for i in range(0, len(files_to_upload_full_Path), chunk_len):\n",
        "    chunk = files_to_upload_full_Path[i:i + chunk_len]\n",
        "    ##########################\n",
        "    start = time.time()\n",
        "    df = ibis_clean_csv(chunk)\n",
        "    print('ibis read CSV:' + str(time.time()-start))\n",
        "    write_deltalake(lakehouse+\"scada_ibis\",df, mode=\"append\", partition_by=['year'],storage_options= storage_options)\n",
        "    del df\n",
        "    print('Ibis total:' + str(time.time()-start))\n",
        "    results = pd.concat([pd.DataFrame([['Ibis',i,time.time()-start]], columns=results.columns), results])"
      ]
    },
    {
      "cell_type": "code",
      "execution_count": 19,
      "id": "oaaUEQw32X9C",
      "metadata": {
        "id": "oaaUEQw32X9C",
        "colab": {
          "base_uri": "https://localhost:8080/",
          "height": 118,
          "referenced_widgets": [
            "ac2304ac24924e40bd4b1f7c84904aff",
            "63e6fc7ceb7c42b5b14fb27b59fb1086",
            "a3ae4329689749d4af947e0003016ec1"
          ]
        },
        "outputId": "4322824c-8f1f-4c30-aac4-45692056596a"
      },
      "outputs": [
        {
          "output_type": "display_data",
          "data": {
            "text/plain": [
              "FloatProgress(value=0.0, layout=Layout(width='auto'), style=ProgressStyle(bar_color='black'))"
            ],
            "application/vnd.jupyter.widget-view+json": {
              "version_major": 2,
              "version_minor": 0,
              "model_id": "ac2304ac24924e40bd4b1f7c84904aff"
            }
          },
          "metadata": {}
        },
        {
          "output_type": "stream",
          "name": "stdout",
          "text": [
            "duckdb read CSV:2.7912325859069824\n",
            "DuckDB total:4.04668116569519\n",
            "CPU times: user 2.25 s, sys: 258 ms, total: 2.51 s\n",
            "Wall time: 4.05 s\n"
          ]
        }
      ],
      "source": [
        "%%time\n",
        "from deltalake.writer import write_deltalake\n",
        "chunk_len = total_files\n",
        "if len(files_to_upload_full_Path) >0 :\n",
        "  for i in range(0, len(files_to_upload_full_Path), chunk_len):\n",
        "    chunk = files_to_upload_full_Path[i:i + chunk_len]\n",
        "    ##########################\n",
        "    start = time.time()\n",
        "    df= duckdb_clean_csv(chunk)\n",
        "    print('duckdb read CSV:' + str(time.time()-start))\n",
        "    write_deltalake(lakehouse+\"scada_DuckDB\",df, mode=\"append\", partition_by=['YEAR'],storage_options= storage_options)\n",
        "    del df\n",
        "    print('DuckDB total:' + str(time.time()-start))\n",
        "    results = pd.concat([pd.DataFrame([['DuckDB',i,time.time()-start]], columns=results.columns), results])"
      ]
    },
    {
      "cell_type": "code",
      "execution_count": 20,
      "id": "VLZgXqLk2vhw",
      "metadata": {
        "id": "VLZgXqLk2vhw",
        "colab": {
          "base_uri": "https://localhost:8080/"
        },
        "outputId": "88bffd77-5c73-4873-d438-10d99b115f86"
      },
      "outputs": [
        {
          "output_type": "stream",
          "name": "stdout",
          "text": [
            "polars read CSV:6.691959381103516\n",
            "Polars total:10.18039846420288\n",
            "CPU times: user 5.67 s, sys: 977 ms, total: 6.65 s\n",
            "Wall time: 10.2 s\n"
          ]
        }
      ],
      "source": [
        "%%time\n",
        "if mem > 13:\n",
        " chunk_len = total_files\n",
        "else:\n",
        "  chunk_len = 20\n",
        "if len(files_to_upload_full_Path) >0 :\n",
        "  for i in range(0, len(files_to_upload_full_Path), chunk_len):\n",
        "    chunk = files_to_upload_full_Path[i:i + chunk_len]\n",
        "    ##########################\n",
        "    start = time.time()\n",
        "    df= polars_clean_csv(chunk)\n",
        "    print('polars read CSV:' + str(time.time()-start))\n",
        "    write_deltalake(lakehouse+\"scada_Polars\",df, mode=\"append\", partition_by=['YEAR'],storage_options=storage_options)\n",
        "    del df\n",
        "    print('Polars total:' + str(time.time()-start))\n",
        "    results = pd.concat([pd.DataFrame([['Polars',i,time.time()-start]], columns=results.columns), results])"
      ]
    },
    {
      "cell_type": "code",
      "execution_count": 21,
      "id": "XLJQKgDW3P9J",
      "metadata": {
        "id": "XLJQKgDW3P9J",
        "colab": {
          "base_uri": "https://localhost:8080/"
        },
        "outputId": "b5a817a2-45d7-46b9-f180-357bc2173787"
      },
      "outputs": [
        {
          "output_type": "stream",
          "name": "stdout",
          "text": [
            "Pandas read CSV:11.303492784500122\n",
            "Pandas total:12.654213190078735\n",
            "CPU times: user 9.4 s, sys: 1.68 s, total: 11.1 s\n",
            "Wall time: 12.7 s\n"
          ]
        }
      ],
      "source": [
        "%%time\n",
        "import pyarrow as pa\n",
        "if mem > 13:\n",
        " chunk_len = total_files\n",
        "else:\n",
        "  chunk_len = 20\n",
        "if len(files_to_upload_full_Path) <10 :\n",
        "  for i in range(0, len(files_to_upload_full_Path), chunk_len):\n",
        "    chunk = files_to_upload_full_Path[i:i + chunk_len]\n",
        "    ########################## make sure to ignore index\n",
        "    start = time.time()\n",
        "    df= Pandas_clean_csv(chunk)\n",
        "    xx= pa.Table.from_pandas(df,preserve_index=False)\n",
        "    print('Pandas read CSV:' + str(time.time()-start))\n",
        "    write_deltalake(lakehouse+\"scada_Pandas\",xx, mode=\"append\", partition_by=['YEAR'],storage_options=storage_options)\n",
        "    del xx\n",
        "    print('Pandas total:' + str(time.time()-start))\n",
        "    results = pd.concat([pd.DataFrame([['Pandas',i,time.time()-start]], columns=results.columns), results])"
      ]
    },
    {
      "cell_type": "markdown",
      "id": "V0s5s7RRpXJn",
      "metadata": {
        "id": "V0s5s7RRpXJn"
      },
      "source": [
        "# Results"
      ]
    },
    {
      "cell_type": "code",
      "execution_count": 24,
      "id": "vgZE7ckvlDf8",
      "metadata": {
        "id": "vgZE7ckvlDf8",
        "colab": {
          "base_uri": "https://localhost:8080/",
          "height": 564
        },
        "outputId": "5af11282-cb7e-4a7d-c483-a02f1d8e1e18"
      },
      "outputs": [
        {
          "output_type": "display_data",
          "data": {
            "text/plain": [
              "<Figure size 1200x600 with 1 Axes>"
            ],
            "image/png": "[encoded data removed]"
          },
          "metadata": {}
        }
      ],
      "source": [
        "# @title\n",
        "result = results.groupby(['Engine'])['duration'].sum().reset_index()\n",
        "result = result.sort_values(by = ['duration'], ascending=[True])\n",
        "from psutil import *\n",
        "vCPU = str(cpu_count()) + \" vCPU\"\n",
        "mem=round(virtual_memory().total/(1024 * 1024 * 1024),0)\n",
        "runtime = vCPU+' '+str(mem)+'GB'+ ', Transform '+ str(total_files)+f' CSV files outside Fabric and ingest it as Delta Table in {storage},Run date: '+ str(time.strftime(\"%Y-%m-%d\"))\n",
        "ax = result.plot.bar(rot=0,x='Engine',title=runtime,ylabel='Duration in Second, Lower is Better',figsize=(12,6))\n",
        "for c in ax.containers:\n",
        "    ax.bar_label(c, label_type='edge')"
      ]
    }
  ],
  "metadata": {
    "colab": {
      "collapsed_sections": [
        "ee4d52d4-761a-4e7b-993b-0889fda74a94",
        "sBkDAT9PhxIx"
      ],
      "provenance": [],
      "toc_visible": true
    },
    "kernel_info": {
      "name": "synapse_pyspark"
    },
    "kernelspec": {
      "display_name": "Python 3",
      "language": "python",
      "name": "python3"
    },
    "language_info": {
      "codemirror_mode": {
        "name": "ipython",
        "version": 3
      },
      "file_extension": ".py",
      "mimetype": "text/x-python",
      "name": "python",
      "nbconvert_exporter": "python",
      "pygments_lexer": "ipython3",
      "version": "3.11.8"
    },
    "microsoft": {
      "language": "python",
      "ms_spell_check": {
        "ms_spell_check_language": "en"
      }
    },
    "notebook_environment": {},
    "nteract": {
      "version": "nteract-front-end@1.0.0"
    },
    "save_output": true,
    "spark_compute": {
      "compute_id": "/trident/default",
      "session_options": {
        "conf": {},
        "enableDebugMode": false
      }
    },
    "synapse_widget": {
      "state": {},
      "version": "0.1"
    },
    "trident": {
      "environment": {},
      "lakehouse": {
        "default_lakehouse": "24cb43a5-14e6-4971-80fd-1a42c0dcff1e",
        "default_lakehouse_name": "xxxx",
        "default_lakehouse_workspace_id": "16a10841-ac8e-49da-912e-bb1a4f38e274"
      }
    },
    "widgets": {
      "application/vnd.jupyter.widget-state+json": {
        "cab858509d544ca59804e63948e5ed7b": {
          "model_module": "@jupyter-widgets/controls",
          "model_name": "HBoxModel",
          "model_module_version": "1.5.0",
          "state": {
            "_dom_classes": [],
            "_model_module": "@jupyter-widgets/controls",
            "_model_module_version": "1.5.0",
            "_model_name": "HBoxModel",
            "_view_count": null,
            "_view_module": "@jupyter-widgets/controls",
            "_view_module_version": "1.5.0",
            "_view_name": "HBoxView",
            "box_style": "",
            "children": [
              "IPY_MODEL_5b0ce72bd92b47dabd1f3df65bb6374e",
              "IPY_MODEL_03770d54a79f4d658d6edb5d31b66ca9",
              "IPY_MODEL_641ec698cc3d4cbb8b7952cae3593a2f"
            ],
            "layout": "IPY_MODEL_360af5e0113a4fb490c7b0259156951d"
          }
        },
        "5b0ce72bd92b47dabd1f3df65bb6374e": {
          "model_module": "@jupyter-widgets/controls",
          "model_name": "HTMLModel",
          "model_module_version": "1.5.0",
          "state": {
            "_dom_classes": [],
            "_model_module": "@jupyter-widgets/controls",
            "_model_module_version": "1.5.0",
            "_model_name": "HTMLModel",
            "_view_count": null,
            "_view_module": "@jupyter-widgets/controls",
            "_view_module_version": "1.5.0",
            "_view_name": "HTMLView",
            "description": "",
            "description_tooltip": null,
            "layout": "IPY_MODEL_10fdefa9144b48f3a2b9d8f998745579",
            "placeholder": "​",
            "style": "IPY_MODEL_97aafed03aa64661a7a4ba31b10375f8",
            "value": "ScanWithTask-Project-Project [Stage:1]: 100%"
          }
        },
        "03770d54a79f4d658d6edb5d31b66ca9": {
          "model_module": "@jupyter-widgets/controls",
          "model_name": "FloatProgressModel",
          "model_module_version": "1.5.0",
          "state": {
            "_dom_classes": [],
            "_model_module": "@jupyter-widgets/controls",
            "_model_module_version": "1.5.0",
            "_model_name": "FloatProgressModel",
            "_view_count": null,
            "_view_module": "@jupyter-widgets/controls",
            "_view_module_version": "1.5.0",
            "_view_name": "ProgressView",
            "bar_style": "",
            "description": "",
            "description_tooltip": null,
            "layout": "IPY_MODEL_38189a06dab44dc79e85b4a0ce944ce5",
            "max": 1,
            "min": 0,
            "orientation": "horizontal",
            "style": "IPY_MODEL_7db15c1795904d4d8a75eefc4cd0d869",
            "value": 1
          }
        },
        "641ec698cc3d4cbb8b7952cae3593a2f": {
          "model_module": "@jupyter-widgets/controls",
          "model_name": "HTMLModel",
          "model_module_version": "1.5.0",
          "state": {
            "_dom_classes": [],
            "_model_module": "@jupyter-widgets/controls",
            "_model_module_version": "1.5.0",
            "_model_name": "HTMLModel",
            "_view_count": null,
            "_view_module": "@jupyter-widgets/controls",
            "_view_module_version": "1.5.0",
            "_view_name": "HTMLView",
            "description": "",
            "description_tooltip": null,
            "layout": "IPY_MODEL_ff36b56f7e7741f6a46832bfa7e91024",
            "placeholder": "​",
            "style": "IPY_MODEL_35ce3727012f49aab3149f061e00f26f",
            "value": " 1/1 [00:06&lt;00:00,  6.53s/it]"
          }
        },
        "360af5e0113a4fb490c7b0259156951d": {
          "model_module": "@jupyter-widgets/base",
          "model_name": "LayoutModel",
          "model_module_version": "1.2.0",
          "state": {
            "_model_module": "@jupyter-widgets/base",
            "_model_module_version": "1.2.0",
            "_model_name": "LayoutModel",
            "_view_count": null,
            "_view_module": "@jupyter-widgets/base",
            "_view_module_version": "1.2.0",
            "_view_name": "LayoutView",
            "align_content": null,
            "align_items": null,
            "align_self": null,
            "border": null,
            "bottom": null,
            "display": null,
            "flex": null,
            "flex_flow": null,
            "grid_area": null,
            "grid_auto_columns": null,
            "grid_auto_flow": null,
            "grid_auto_rows": null,
            "grid_column": null,
            "grid_gap": null,
            "grid_row": null,
            "grid_template_areas": null,
            "grid_template_columns": null,
            "grid_template_rows": null,
            "height": null,
            "justify_content": null,
            "justify_items": null,
            "left": null,
            "margin": null,
            "max_height": null,
            "max_width": null,
            "min_height": null,
            "min_width": null,
            "object_fit": null,
            "object_position": null,
            "order": null,
            "overflow": null,
            "overflow_x": null,
            "overflow_y": null,
            "padding": null,
            "right": null,
            "top": null,
            "visibility": "hidden",
            "width": null
          }
        },
        "10fdefa9144b48f3a2b9d8f998745579": {
          "model_module": "@jupyter-widgets/base",
          "model_name": "LayoutModel",
          "model_module_version": "1.2.0",
          "state": {
            "_model_module": "@jupyter-widgets/base",
            "_model_module_version": "1.2.0",
            "_model_name": "LayoutModel",
            "_view_count": null,
            "_view_module": "@jupyter-widgets/base",
            "_view_module_version": "1.2.0",
            "_view_name": "LayoutView",
            "align_content": null,
            "align_items": null,
            "align_self": null,
            "border": null,
            "bottom": null,
            "display": null,
            "flex": null,
            "flex_flow": null,
            "grid_area": null,
            "grid_auto_columns": null,
            "grid_auto_flow": null,
            "grid_auto_rows": null,
            "grid_column": null,
            "grid_gap": null,
            "grid_row": null,
            "grid_template_areas": null,
            "grid_template_columns": null,
            "grid_template_rows": null,
            "height": null,
            "justify_content": null,
            "justify_items": null,
            "left": null,
            "margin": null,
            "max_height": null,
            "max_width": null,
            "min_height": null,
            "min_width": null,
            "object_fit": null,
            "object_position": null,
            "order": null,
            "overflow": null,
            "overflow_x": null,
            "overflow_y": null,
            "padding": null,
            "right": null,
            "top": null,
            "visibility": null,
            "width": null
          }
        },
        "97aafed03aa64661a7a4ba31b10375f8": {
          "model_module": "@jupyter-widgets/controls",
          "model_name": "DescriptionStyleModel",
          "model_module_version": "1.5.0",
          "state": {
            "_model_module": "@jupyter-widgets/controls",
            "_model_module_version": "1.5.0",
            "_model_name": "DescriptionStyleModel",
            "_view_count": null,
            "_view_module": "@jupyter-widgets/base",
            "_view_module_version": "1.2.0",
            "_view_name": "StyleView",
            "description_width": ""
          }
        },
        "38189a06dab44dc79e85b4a0ce944ce5": {
          "model_module": "@jupyter-widgets/base",
          "model_name": "LayoutModel",
          "model_module_version": "1.2.0",
          "state": {
            "_model_module": "@jupyter-widgets/base",
            "_model_module_version": "1.2.0",
            "_model_name": "LayoutModel",
            "_view_count": null,
            "_view_module": "@jupyter-widgets/base",
            "_view_module_version": "1.2.0",
            "_view_name": "LayoutView",
            "align_content": null,
            "align_items": null,
            "align_self": null,
            "border": null,
            "bottom": null,
            "display": null,
            "flex": null,
            "flex_flow": null,
            "grid_area": null,
            "grid_auto_columns": null,
            "grid_auto_flow": null,
            "grid_auto_rows": null,
            "grid_column": null,
            "grid_gap": null,
            "grid_row": null,
            "grid_template_areas": null,
            "grid_template_columns": null,
            "grid_template_rows": null,
            "height": null,
            "justify_content": null,
            "justify_items": null,
            "left": null,
            "margin": null,
            "max_height": null,
            "max_width": null,
            "min_height": null,
            "min_width": null,
            "object_fit": null,
            "object_position": null,
            "order": null,
            "overflow": null,
            "overflow_x": null,
            "overflow_y": null,
            "padding": null,
            "right": null,
            "top": null,
            "visibility": null,
            "width": null
          }
        },
        "7db15c1795904d4d8a75eefc4cd0d869": {
          "model_module": "@jupyter-widgets/controls",
          "model_name": "ProgressStyleModel",
          "model_module_version": "1.5.0",
          "state": {
            "_model_module": "@jupyter-widgets/controls",
            "_model_module_version": "1.5.0",
            "_model_name": "ProgressStyleModel",
            "_view_count": null,
            "_view_module": "@jupyter-widgets/base",
            "_view_module_version": "1.2.0",
            "_view_name": "StyleView",
            "bar_color": null,
            "description_width": ""
          }
        },
        "ff36b56f7e7741f6a46832bfa7e91024": {
          "model_module": "@jupyter-widgets/base",
          "model_name": "LayoutModel",
          "model_module_version": "1.2.0",
          "state": {
            "_model_module": "@jupyter-widgets/base",
            "_model_module_version": "1.2.0",
            "_model_name": "LayoutModel",
            "_view_count": null,
            "_view_module": "@jupyter-widgets/base",
            "_view_module_version": "1.2.0",
            "_view_name": "LayoutView",
            "align_content": null,
            "align_items": null,
            "align_self": null,
            "border": null,
            "bottom": null,
            "display": null,
            "flex": null,
            "flex_flow": null,
            "grid_area": null,
            "grid_auto_columns": null,
            "grid_auto_flow": null,
            "grid_auto_rows": null,
            "grid_column": null,
            "grid_gap": null,
            "grid_row": null,
            "grid_template_areas": null,
            "grid_template_columns": null,
            "grid_template_rows": null,
            "height": null,
            "justify_content": null,
            "justify_items": null,
            "left": null,
            "margin": null,
            "max_height": null,
            "max_width": null,
            "min_height": null,
            "min_width": null,
            "object_fit": null,
            "object_position": null,
            "order": null,
            "overflow": null,
            "overflow_x": null,
            "overflow_y": null,
            "padding": null,
            "right": null,
            "top": null,
            "visibility": null,
            "width": null
          }
        },
        "35ce3727012f49aab3149f061e00f26f": {
          "model_module": "@jupyter-widgets/controls",
          "model_name": "DescriptionStyleModel",
          "model_module_version": "1.5.0",
          "state": {
            "_model_module": "@jupyter-widgets/controls",
            "_model_module_version": "1.5.0",
            "_model_name": "DescriptionStyleModel",
            "_view_count": null,
            "_view_module": "@jupyter-widgets/base",
            "_view_module_version": "1.2.0",
            "_view_name": "StyleView",
            "description_width": ""
          }
        },
        "ac2304ac24924e40bd4b1f7c84904aff": {
          "model_module": "@jupyter-widgets/controls",
          "model_name": "FloatProgressModel",
          "model_module_version": "1.5.0",
          "state": {
            "_dom_classes": [],
            "_model_module": "@jupyter-widgets/controls",
            "_model_module_version": "1.5.0",
            "_model_name": "FloatProgressModel",
            "_view_count": null,
            "_view_module": "@jupyter-widgets/controls",
            "_view_module_version": "1.5.0",
            "_view_name": "ProgressView",
            "bar_style": "",
            "description": "",
            "description_tooltip": null,
            "layout": "IPY_MODEL_63e6fc7ceb7c42b5b14fb27b59fb1086",
            "max": 100,
            "min": 0,
            "orientation": "horizontal",
            "style": "IPY_MODEL_a3ae4329689749d4af947e0003016ec1",
            "value": 100
          }
        },
        "63e6fc7ceb7c42b5b14fb27b59fb1086": {
          "model_module": "@jupyter-widgets/base",
          "model_name": "LayoutModel",
          "model_module_version": "1.2.0",
          "state": {
            "_model_module": "@jupyter-widgets/base",
            "_model_module_version": "1.2.0",
            "_model_name": "LayoutModel",
            "_view_count": null,
            "_view_module": "@jupyter-widgets/base",
            "_view_module_version": "1.2.0",
            "_view_name": "LayoutView",
            "align_content": null,
            "align_items": null,
            "align_self": null,
            "border": null,
            "bottom": null,
            "display": null,
            "flex": null,
            "flex_flow": null,
            "grid_area": null,
            "grid_auto_columns": null,
            "grid_auto_flow": null,
            "grid_auto_rows": null,
            "grid_column": null,
            "grid_gap": null,
            "grid_row": null,
            "grid_template_areas": null,
            "grid_template_columns": null,
            "grid_template_rows": null,
            "height": null,
            "justify_content": null,
            "justify_items": null,
            "left": null,
            "margin": null,
            "max_height": null,
            "max_width": null,
            "min_height": null,
            "min_width": null,
            "object_fit": null,
            "object_position": null,
            "order": null,
            "overflow": null,
            "overflow_x": null,
            "overflow_y": null,
            "padding": null,
            "right": null,
            "top": null,
            "visibility": null,
            "width": "auto"
          }
        },
        "a3ae4329689749d4af947e0003016ec1": {
          "model_module": "@jupyter-widgets/controls",
          "model_name": "ProgressStyleModel",
          "model_module_version": "1.5.0",
          "state": {
            "_model_module": "@jupyter-widgets/controls",
            "_model_module_version": "1.5.0",
            "_model_name": "ProgressStyleModel",
            "_view_count": null,
            "_view_module": "@jupyter-widgets/base",
            "_view_module_version": "1.2.0",
            "_view_name": "StyleView",
            "bar_color": "black",
            "description_width": ""
          }
        }
      }
    }
  },
  "nbformat": 4,
  "nbformat_minor": 5
}