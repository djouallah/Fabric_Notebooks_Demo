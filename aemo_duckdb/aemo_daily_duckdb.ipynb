{
  "cells": [
    {
      "cell_type": "code",
      "source": [
        "!pip install duckdb    --upgrade\n",
        "!pip install deltalake\n",
        "!pip install -q boto3"
      ],
      "outputs": [
        {
          "output_type": "stream",
          "name": "stdout",
          "text": [
            "Requirement already satisfied: duckdb in /usr/local/lib/python3.10/dist-packages (1.1.2)\n",
            "Collecting duckdb\n",
            "  Downloading duckdb-1.1.3-cp310-cp310-manylinux_2_17_x86_64.manylinux2014_x86_64.whl.metadata (762 bytes)\n",
            "Downloading duckdb-1.1.3-cp310-cp310-manylinux_2_17_x86_64.manylinux2014_x86_64.whl (20.1 MB)\n",
            "\u001b[2K   \u001b[90m━━━━━━━━━━━━━━━━━━━━━━━━━━━━━━━━━━━━━━━━\u001b[0m \u001b[32m20.1/20.1 MB\u001b[0m \u001b[31m28.6 MB/s\u001b[0m eta \u001b[36m0:00:00\u001b[0m\n",
            "\u001b[?25hInstalling collected packages: duckdb\n",
            "  Attempting uninstall: duckdb\n",
            "    Found existing installation: duckdb 1.1.2\n",
            "    Uninstalling duckdb-1.1.2:\n",
            "      Successfully uninstalled duckdb-1.1.2\n",
            "Successfully installed duckdb-1.1.3\n",
            "Collecting deltalake\n",
            "  Downloading deltalake-0.21.0-cp38-abi3-manylinux_2_17_x86_64.manylinux2014_x86_64.whl.metadata (5.0 kB)\n",
            "Requirement already satisfied: pyarrow>=16 in /usr/local/lib/python3.10/dist-packages (from deltalake) (17.0.0)\n",
            "Requirement already satisfied: numpy>=1.16.6 in /usr/local/lib/python3.10/dist-packages (from pyarrow>=16->deltalake) (1.26.4)\n",
            "Downloading deltalake-0.21.0-cp38-abi3-manylinux_2_17_x86_64.manylinux2014_x86_64.whl (36.3 MB)\n",
            "\u001b[2K   \u001b[90m━━━━━━━━━━━━━━━━━━━━━━━━━━━━━━━━━━━━━━━━\u001b[0m \u001b[32m36.3/36.3 MB\u001b[0m \u001b[31m15.6 MB/s\u001b[0m eta \u001b[36m0:00:00\u001b[0m\n",
            "\u001b[?25hInstalling collected packages: deltalake\n",
            "Successfully installed deltalake-0.21.0\n",
            "\u001b[2K   \u001b[90m━━━━━━━━━━━━━━━━━━━━━━━━━━━━━━━━━━━━━━━━\u001b[0m \u001b[32m139.2/139.2 kB\u001b[0m \u001b[31m2.7 MB/s\u001b[0m eta \u001b[36m0:00:00\u001b[0m\n",
            "\u001b[2K   \u001b[90m━━━━━━━━━━━━━━━━━━━━━━━━━━━━━━━━━━━━━━━━\u001b[0m \u001b[32m12.7/12.7 MB\u001b[0m \u001b[31m81.3 MB/s\u001b[0m eta \u001b[36m0:00:00\u001b[0m\n",
            "\u001b[2K   \u001b[90m━━━━━━━━━━━━━━━━━━━━━━━━━━━━━━━━━━━━━━━━\u001b[0m \u001b[32m82.6/82.6 kB\u001b[0m \u001b[31m4.6 MB/s\u001b[0m eta \u001b[36m0:00:00\u001b[0m\n",
            "\u001b[?25h"
          ]
        }
      ],
      "execution_count": 1,
      "metadata": {
        "jupyter": {
          "source_hidden": false,
          "outputs_hidden": false
        },
        "nteract": {
          "transient": {
            "deleting": false
          }
        },
        "microsoft": {
          "language": "python",
          "language_group": "jupyter_python"
        },
        "colab": {
          "base_uri": "https://localhost:8080/"
        },
        "id": "97f99f17-cb3f-47ad-8535-7fe58200018c",
        "outputId": "b43bb16f-5d3e-40bc-89f8-70dca6ec04bb"
      },
      "id": "97f99f17-cb3f-47ad-8535-7fe58200018c"
    },
    {
      "cell_type": "code",
      "source": [
        "Nbr_Files_to_Download = 10"
      ],
      "outputs": [],
      "execution_count": 2,
      "metadata": {
        "id": "Vr8LFoAeo2ql",
        "microsoft": {
          "language": "python",
          "language_group": "jupyter_python"
        }
      },
      "id": "Vr8LFoAeo2ql"
    },
    {
      "cell_type": "code",
      "source": [
        "from   deltalake.writer import try_get_deltatable , write_deltalake\n",
        "from   deltalake import DeltaTable\n",
        "import boto3\n",
        "import glob\n",
        "import duckdb\n",
        "from   datetime import datetime\n",
        "import time\n",
        "import os\n",
        "from   psutil import *\n",
        "import re\n",
        "import requests\n",
        "from   shutil import unpack_archive\n",
        "from   urllib.request import urlopen\n",
        "import multiprocessing"
      ],
      "outputs": [],
      "execution_count": 3,
      "metadata": {
        "jupyter": {
          "source_hidden": false,
          "outputs_hidden": false
        },
        "nteract": {
          "transient": {
            "deleting": false
          }
        },
        "microsoft": {
          "language": "python",
          "language_group": "jupyter_python"
        },
        "id": "c35ff42e-5172-46ce-9206-4eb305ab1230"
      },
      "id": "c35ff42e-5172-46ce-9206-4eb305ab1230"
    },
    {
      "cell_type": "code",
      "source": [
        "storage_options = {\"allow_unsafe_rename\":\"true\"}\n",
        "table_path      = '/lakehouse/default/Tables/aemo/'"
      ],
      "outputs": [],
      "execution_count": 4,
      "metadata": {
        "id": "e55k9UxKwOVs",
        "microsoft": {
          "language": "python",
          "language_group": "jupyter_python"
        },
        "jupyter": {
          "source_hidden": false
        }
      },
      "id": "e55k9UxKwOVs"
    },
    {
      "cell_type": "code",
      "source": [
        "vCPU = str(cpu_count()) + \" vCPU\"\n",
        "mem=round(virtual_memory().total/(1024 * 1024 * 1024),0)\n",
        "runtime = vCPU+' '+str(mem)+'GB'\n",
        "runtime"
      ],
      "outputs": [
        {
          "output_type": "execute_result",
          "data": {
            "text/plain": [
              "'2 vCPU 13.0GB'"
            ],
            "application/vnd.google.colaboratory.intrinsic+json": {
              "type": "string"
            }
          },
          "metadata": {},
          "execution_count": 5
        }
      ],
      "execution_count": 5,
      "metadata": {
        "colab": {
          "base_uri": "https://localhost:8080/",
          "height": 36
        },
        "id": "oajpjd0o7oe6",
        "outputId": "0597e8c5-bbd6-4a19-ebab-a5a3a14d769d",
        "microsoft": {
          "language": "python",
          "language_group": "jupyter_python"
        },
        "jupyter": {
          "source_hidden": false
        }
      },
      "id": "oajpjd0o7oe6"
    },
    {
      "cell_type": "code",
      "source": [
        "def get_s3_bucket_session():\n",
        "    #### use azure key vault, otherwise store data in myworkspace and don't share it with anyone\n",
        "    # input the abfss path of ini file, does not require a mounted path\n",
        "    duckdb.sql(f\"\"\" CREATE or replace SECRET onelake (TYPE AZURE, PROVIDER ACCESS_TOKEN, ACCESS_TOKEN '{notebookutils.credentials.getToken('storage')}') \"\"\")\n",
        "    kv =duckdb.sql(\"\"\" select trim(split_part(\"[myvars]\",' : ', 1) ) as var, trim(split_part(\"[myvars]\",' : ', 2)) as values from\n",
        "    read_csv('abfss://xxxxxxxxxxxxx@onelake.dfs.fabric.microsoft.com/zzzzzzzzzzzzzzzzzzzzz/Files/store/variable.ini')\n",
        "        \"\"\")\n",
        "    kv_values=duckdb.sql( \" from kv where var in ('region_name' ,'endpoint_url','aws_access_key_id','aws_secret_access_key') \").fetchall()\n",
        "    for key, value in kv_values:\n",
        "        globals()[key] = value\n",
        "\n",
        "    s3_resource = boto3.resource('s3',\n",
        "            region_name            =  region_name,\n",
        "            endpoint_url           =  endpoint_url ,\n",
        "            aws_access_key_id      =  aws_access_key_id ,\n",
        "            aws_secret_access_key  =  aws_secret_access_key\n",
        "\n",
        "                )\n",
        "    return s3_resource"
      ],
      "outputs": [],
      "execution_count": 6,
      "metadata": {
        "jupyter": {
          "source_hidden": false
        },
        "microsoft": {
          "language": "python",
          "language_group": "jupyter_python"
        },
        "collapsed": true,
        "id": "01a59629-dc77-4d50-9345-29a699dc2cc8"
      },
      "id": "01a59629-dc77-4d50-9345-29a699dc2cc8"
    },
    {
      "cell_type": "markdown",
      "source": [
        "# Ingest Data"
      ],
      "metadata": {
        "id": "8LbA_eCFM-Zl"
      },
      "id": "8LbA_eCFM-Zl"
    },
    {
      "cell_type": "markdown",
      "source": [
        "**<mark>Download Some Data from the web</mark>**"
      ],
      "metadata": {
        "id": "ee4d52d4-761a-4e7b-993b-0889fda74a94"
      },
      "id": "ee4d52d4-761a-4e7b-993b-0889fda74a94"
    },
    {
      "cell_type": "code",
      "source": [
        "def download(url,Path,total_files):\n",
        "    if not os.path.exists(Path):\n",
        "      os.makedirs(Path, exist_ok=True)\n",
        "    result = urlopen(url).read().decode('utf-8')\n",
        "    pattern = re.compile(r'[\\w.]*.zip')\n",
        "    filelist1 = pattern.findall(result)\n",
        "    filelist_unique = dict.fromkeys(filelist1)\n",
        "    filelist =sorted(filelist_unique, reverse=True)\n",
        "    current =  [os.path.basename(x) for x in glob.glob(Path+'*.zip')]\n",
        "    files_to_upload = list(set(filelist) - set(current))\n",
        "    files_to_upload = list(dict.fromkeys(files_to_upload))[:total_files]\n",
        "    print(str(len(files_to_upload)) + ' New File Downloaded')\n",
        "    if len(files_to_upload) != 0 :\n",
        "      for x in files_to_upload:\n",
        "           with requests.get(url+x, stream=True) as resp:\n",
        "            if resp.ok:\n",
        "              with open(f\"{Path}{x}\", \"wb\") as f:\n",
        "               for chunk in resp.iter_content(chunk_size=4096):\n",
        "                f.write(chunk)\n",
        "    return \"done\""
      ],
      "outputs": [],
      "execution_count": 7,
      "metadata": {
        "id": "28416977-0f39-41ca-aa84-9a5d42a6e519",
        "cellView": "form",
        "microsoft": {
          "language": "python",
          "language_group": "jupyter_python"
        },
        "jupyter": {
          "source_hidden": false
        }
      },
      "id": "28416977-0f39-41ca-aa84-9a5d42a6e519"
    },
    {
      "cell_type": "code",
      "source": [
        "def uncompress(x):\n",
        "        unpack_archive(str(Zip_Path+x), str(uncompressed_Path), 'zip')\n",
        "def unzip(Source, Destination):\n",
        "    if not os.path.exists(Destination):\n",
        "      os.makedirs(Destination, exist_ok=True)\n",
        "    filelist=[os.path.basename(x) for x in glob.glob(Source+'*.zip')]\n",
        "    ### checl the unzipped files already\n",
        "    current_csv = [os.path.basename(x) for x in glob.glob(Destination+'*.CSV')]\n",
        "    current_json = [os.path.basename(x) for x in glob.glob(Destination+'*.json')]\n",
        "    current = current_csv + current_json\n",
        "    current = [w.replace('.CSV','.zip') for w in current]\n",
        "    current = [w.replace('.json','.zip') for w in current]\n",
        "    current = [w.replace('SCADA','FacilityScada') for w in current]\n",
        "    current = [w.replace('-', '') for w in current]\n",
        "    #unzip only the delta\n",
        "    files_to_upload = list(set(filelist) - set(current))\n",
        "    files_to_upload = list(dict.fromkeys(files_to_upload))\n",
        "    print(str(len(files_to_upload)) + ' New File uncompressed')\n",
        "    if len(files_to_upload) != 0 :\n",
        "      with multiprocessing.Pool() as pool:\n",
        "       for _ in pool.imap_unordered(uncompress, files_to_upload, chunksize=1):\n",
        "         pass\n",
        "      return \"done\"\n",
        "    else:\n",
        "     return \"nothing to see here\""
      ],
      "outputs": [],
      "execution_count": 8,
      "metadata": {
        "id": "3b5f3047-8010-41ba-8e30-396e26de0e81",
        "cellView": "form",
        "microsoft": {
          "language": "python",
          "language_group": "jupyter_python"
        },
        "jupyter": {
          "source_hidden": false
        }
      },
      "id": "3b5f3047-8010-41ba-8e30-396e26de0e81"
    },
    {
      "cell_type": "code",
      "source": [
        "def syncremotestorage(bucketName, remoteDirectoryName,Nbr_Files_to_Download):\n",
        "    location = \"/lakehouse/default/Files/0_Source/\"\n",
        "    bucket = s3_resource.Bucket(bucketName)\n",
        "    ############# zip on disk\n",
        "    files_disk=[os.path.basename(x) for x in glob.glob(location+remoteDirectoryName+'/*.zip')]\n",
        "    files_disk = [remoteDirectoryName+'/' + i for i in files_disk]\n",
        "    ################# zip on remote storage\n",
        "    files_R2 = bucket.objects.filter(Prefix = remoteDirectoryName)\n",
        "    files_R2 = [obj.key for obj in sorted(files_R2, key=lambda x: x.last_modified, reverse=True)]\n",
        "    ##################################\n",
        "    files_to_download = list( set(files_R2)- set(files_disk))\n",
        "    files_to_download = list(dict.fromkeys(files_to_download))\n",
        "    files_to_download=sorted(files_to_download, reverse=True)\n",
        "    for obj in files_to_download[:Nbr_Files_to_Download]:\n",
        "        print('download '+obj)\n",
        "        if not os.path.exists(os.path.dirname(obj)):\n",
        "           os.makedirs(os.path.dirname(obj))\n",
        "        bucket.download_file(obj, location+obj)\n",
        "    ########################################\n",
        "    files_to_upload = list(  set(files_disk) - set(files_R2))\n",
        "    files_to_upload = list(dict.fromkeys(files_to_upload))\n",
        "    for file in files_to_upload:\n",
        "        print('upload '+file)\n",
        "        bucket.upload_file(location+file, file)\n"
      ],
      "outputs": [],
      "execution_count": 9,
      "metadata": {
        "id": "m0K81tJvvdjy",
        "cellView": "form",
        "microsoft": {
          "language": "python",
          "language_group": "jupyter_python"
        },
        "jupyter": {
          "source_hidden": false
        }
      },
      "id": "m0K81tJvvdjy"
    },
    {
      "cell_type": "markdown",
      "source": [
        "**<mark>Check files already Ingested</mark>**"
      ],
      "metadata": {
        "id": "scnMCRIq0j6F"
      },
      "id": "scnMCRIq0j6F"
    },
    {
      "cell_type": "code",
      "source": [
        "def get_Path(Source,Destination):\n",
        " dt =try_get_deltatable(Destination,storage_options=storage_options)\n",
        " if dt is not None:\n",
        "    existing_files = duckdb.sql(f\"\"\" select distinct file as file from delta_scan('{Destination}') \"\"\").df()['file'].tolist()\n",
        " else:\n",
        "  existing_files=[]\n",
        " print(len(existing_files))\n",
        " list_files_csv=[os.path.basename(x) for x in glob.glob(Source+'*.CSV')]\n",
        " list_files_json=[os.path.basename(x) for x in glob.glob(Source+'*.json')]\n",
        " filelist = list_files_csv + list_files_json\n",
        "\n",
        " files_to_upload = list(set(filelist) - set(existing_files))\n",
        " files_to_upload = list(dict.fromkeys(files_to_upload))\n",
        " files_to_upload_full_Path = [Source + i for i in files_to_upload]\n",
        " return files_to_upload_full_Path[:Nbr_Files_to_Download]"
      ],
      "outputs": [],
      "execution_count": 10,
      "metadata": {
        "id": "TZ29HGpXx6BN",
        "microsoft": {
          "language": "python",
          "language_group": "jupyter_python"
        },
        "jupyter": {
          "source_hidden": false
        }
      },
      "id": "TZ29HGpXx6BN"
    },
    {
      "cell_type": "markdown",
      "source": [
        "**<mark>scada </mark>**"
      ],
      "metadata": {
        "id": "ztDHTn2a3ZY9"
      },
      "id": "ztDHTn2a3ZY9"
    },
    {
      "cell_type": "code",
      "source": [
        "def get_scada(files_to_upload_full_Path):\n",
        "    raw =duckdb.sql(f\"\"\"from read_csv({files_to_upload_full_Path},\n",
        "    Skip=1,header =0,all_varchar=1,\n",
        "    columns={{\n",
        "    'I': 'VARCHAR','UNIT': 'VARCHAR','XX': 'VARCHAR','VERSION': 'VARCHAR','SETTLEMENTDATE': 'VARCHAR','RUNNO': 'VARCHAR',\n",
        "    'DUID': 'VARCHAR','INTERVENTION': 'VARCHAR','DISPATCHMODE': 'VARCHAR','AGCSTATUS': 'VARCHAR','INITIALMW': 'VARCHAR',\n",
        "    'TOTALCLEARED': 'VARCHAR','RAMPDOWNRATE': 'VARCHAR','RAMPUPRATE': 'VARCHAR','LOWER5MIN': 'VARCHAR',\n",
        "    'LOWER60SEC': 'VARCHAR','LOWER6SEC': 'VARCHAR','RAISE5MIN': 'VARCHAR','RAISE60SEC': 'VARCHAR',\n",
        "    'RAISE6SEC': 'VARCHAR','MARGINAL5MINVALUE': 'VARCHAR','MARGINAL60SECVALUE': 'VARCHAR',\n",
        "    'MARGINAL6SECVALUE': 'VARCHAR','MARGINALVALUE': 'VARCHAR','VIOLATION5MINDEGREE': 'VARCHAR',\n",
        "    'VIOLATION60SECDEGREE': 'VARCHAR','VIOLATION6SECDEGREE': 'VARCHAR','VIOLATIONDEGREE': 'VARCHAR',\n",
        "    'LOWERREG': 'VARCHAR','RAISEREG': 'VARCHAR','AVAILABILITY': 'VARCHAR','RAISE6SECFLAGS': 'VARCHAR',\n",
        "    'RAISE60SECFLAGS': 'VARCHAR','RAISE5MINFLAGS': 'VARCHAR','RAISEREGFLAGS': 'VARCHAR',\n",
        "    'LOWER6SECFLAGS': 'VARCHAR','LOWER60SECFLAGS': 'VARCHAR','LOWER5MINFLAGS': 'VARCHAR',\n",
        "    'LOWERREGFLAGS': 'VARCHAR','RAISEREGAVAILABILITY': 'VARCHAR','RAISEREGENABLEMENTMAX': 'VARCHAR',\n",
        "    'RAISEREGENABLEMENTMIN': 'VARCHAR','LOWERREGAVAILABILITY': 'VARCHAR','LOWERREGENABLEMENTMAX': 'VARCHAR',\n",
        "    'LOWERREGENABLEMENTMIN': 'VARCHAR','RAISE6SECACTUALAVAILABILITY': 'VARCHAR',\n",
        "    'RAISE60SECACTUALAVAILABILITY': 'VARCHAR','RAISE5MINACTUALAVAILABILITY': 'VARCHAR',\n",
        "    'RAISEREGACTUALAVAILABILITY': 'VARCHAR','LOWER6SECACTUALAVAILABILITY': 'VARCHAR',\n",
        "    'LOWER60SECACTUALAVAILABILITY': 'VARCHAR','LOWER5MINACTUALAVAILABILITY': 'VARCHAR','LOWERREGACTUALAVAILABILITY': 'VARCHAR'\n",
        "    }},\n",
        "    filename =1,null_padding = true,ignore_errors=1,auto_detect=false)\n",
        "    where I='D' and UNIT ='DUNIT' AND VERSION = 3                  \"\"\")\n",
        "\n",
        "    final_scada=duckdb.sql(\"\"\"\n",
        "    select\n",
        "    UNIT,\n",
        "    DUID,\n",
        "    cast(columns(*exclude(DUID,UNIT,SETTLEMENTDATE,I,XX,filename)) as double),\n",
        "    parse_filename(filename) as file,\n",
        "    0 as PRIORITY ,\n",
        "    cast (SETTLEMENTDATE as TIMESTAMPTZ) as SETTLEMENTDATE,\n",
        "    cast(SETTLEMENTDATE as date) as date,\n",
        "\t  isoyear (cast (SETTLEMENTDATE as timestamp)) as YEAR\n",
        "    from raw  \"\"\")\n",
        "    return final_scada.record_batch()\n"
      ],
      "outputs": [],
      "execution_count": 11,
      "metadata": {
        "id": "OjmPm7hXuAZh",
        "microsoft": {
          "language": "python",
          "language_group": "jupyter_python"
        },
        "jupyter": {
          "source_hidden": false
        }
      },
      "id": "OjmPm7hXuAZh"
    },
    {
      "cell_type": "markdown",
      "source": [
        "**<mark>Price </mark>**"
      ],
      "metadata": {
        "id": "VHevvlcgAyXT"
      },
      "id": "VHevvlcgAyXT"
    },
    {
      "cell_type": "code",
      "source": [
        "def get_price(files_to_upload_full_Path):\n",
        "  raw =duckdb.sql(f\"\"\"from read_csv({files_to_upload_full_Path},\n",
        "  Skip=1,header =0,all_varchar=1,\n",
        "  columns={{\n",
        "  'I': 'VARCHAR','UNIT': 'VARCHAR','XX': 'VARCHAR','VERSION': 'VARCHAR','SETTLEMENTDATE': 'VARCHAR','RUNNO': 'VARCHAR',\n",
        "  'REGIONID': 'VARCHAR','INTERVENTION': 'VARCHAR','RRP': 'VARCHAR','EEP': 'VARCHAR','ROP': 'VARCHAR','APCFLAG': 'VARCHAR',\n",
        "  'MARKETSUSPENDEDFLAG': 'VARCHAR','TOTALDEMAND': 'VARCHAR','DEMANDFORECAST': 'VARCHAR','DISPATCHABLEGENERATION': 'VARCHAR',\n",
        "  'DISPATCHABLELOAD': 'VARCHAR','NETINTERCHANGE': 'VARCHAR','EXCESSGENERATION': 'VARCHAR','LOWER5MINDISPATCH': 'VARCHAR',\n",
        "  'LOWER5MINIMPORT': 'VARCHAR','LOWER5MINLOCALDISPATCH': 'VARCHAR','LOWER5MINLOCALPRICE': 'VARCHAR','LOWER5MINLOCALREQ': 'VARCHAR',\n",
        "  'LOWER5MINPRICE': 'VARCHAR','LOWER5MINREQ': 'VARCHAR','LOWER5MINSUPPLYPRICE': 'VARCHAR','LOWER60SECDISPATCH': 'VARCHAR','LOWER60SECIMPORT': 'VARCHAR',\n",
        "  'LOWER60SECLOCALDISPATCH': 'VARCHAR','LOWER60SECLOCALPRICE': 'VARCHAR','LOWER60SECLOCALREQ': 'VARCHAR','LOWER60SECPRICE': 'VARCHAR',\n",
        "  'LOWER60SECREQ': 'VARCHAR','LOWER60SECSUPPLYPRICE': 'VARCHAR','LOWER6SECDISPATCH': 'VARCHAR','LOWER6SECIMPORT': 'VARCHAR',\n",
        "  'LOWER6SECLOCALDISPATCH': 'VARCHAR','LOWER6SECLOCALPRICE': 'VARCHAR','LOWER6SECLOCALREQ': 'VARCHAR','LOWER6SECPRICE': 'VARCHAR',\n",
        "  'LOWER6SECREQ': 'VARCHAR','LOWER6SECSUPPLYPRICE': 'VARCHAR','RAISE5MINDISPATCH': 'VARCHAR','RAISE5MINIMPORT': 'VARCHAR',\n",
        "  'RAISE5MINLOCALDISPATCH': 'VARCHAR','RAISE5MINLOCALPRICE': 'VARCHAR','RAISE5MINLOCALREQ': 'VARCHAR','RAISE5MINPRICE': 'VARCHAR',\n",
        "  'RAISE5MINREQ': 'VARCHAR','RAISE5MINSUPPLYPRICE': 'VARCHAR','RAISE60SECDISPATCH': 'VARCHAR','RAISE60SECIMPORT': 'VARCHAR',\n",
        "  'RAISE60SECLOCALDISPATCH': 'VARCHAR','RAISE60SECLOCALPRICE': 'VARCHAR','RAISE60SECLOCALREQ': 'VARCHAR','RAISE60SECPRICE': 'VARCHAR',\n",
        "  'RAISE60SECREQ': 'VARCHAR','RAISE60SECSUPPLYPRICE': 'VARCHAR','RAISE6SECDISPATCH': 'VARCHAR','RAISE6SECIMPORT': 'VARCHAR',\n",
        "  'RAISE6SECLOCALDISPATCH': 'VARCHAR','RAISE6SECLOCALPRICE': 'VARCHAR','RAISE6SECLOCALREQ': 'VARCHAR','RAISE6SECPRICE': 'VARCHAR',\n",
        "  'RAISE6SECREQ': 'VARCHAR','RAISE6SECSUPPLYPRICE': 'VARCHAR','AGGREGATEDISPATCHERROR': 'VARCHAR','AVAILABLEGENERATION': 'VARCHAR',\n",
        "  'AVAILABLELOAD': 'VARCHAR','INITIALSUPPLY': 'VARCHAR','CLEAREDSUPPLY': 'VARCHAR','LOWERREGIMPORT': 'VARCHAR','LOWERREGLOCALDISPATCH': 'VARCHAR',\n",
        "  'LOWERREGLOCALREQ': 'VARCHAR','LOWERREGREQ': 'VARCHAR','RAISEREGIMPORT': 'VARCHAR','RAISEREGLOCALDISPATCH': 'VARCHAR','RAISEREGLOCALREQ': 'VARCHAR',\n",
        "  'RAISEREGREQ': 'VARCHAR','RAISE5MINLOCALVIOLATION': 'VARCHAR','RAISEREGLOCALVIOLATION': 'VARCHAR','RAISE60SECLOCALVIOLATION': 'VARCHAR',\n",
        "  'RAISE6SECLOCALVIOLATION': 'VARCHAR','LOWER5MINLOCALVIOLATION': 'VARCHAR','LOWERREGLOCALVIOLATION': 'VARCHAR','LOWER60SECLOCALVIOLATION': 'VARCHAR',\n",
        "  'LOWER6SECLOCALVIOLATION': 'VARCHAR','RAISE5MINVIOLATION': 'VARCHAR','RAISEREGVIOLATION': 'VARCHAR','RAISE60SECVIOLATION': 'VARCHAR',\n",
        "  'RAISE6SECVIOLATION': 'VARCHAR','LOWER5MINVIOLATION': 'VARCHAR','LOWERREGVIOLATION': 'VARCHAR','LOWER60SECVIOLATION': 'VARCHAR',\n",
        "  'LOWER6SECVIOLATION': 'VARCHAR','RAISE6SECRRP': 'VARCHAR','RAISE6SECROP': 'VARCHAR','RAISE6SECAPCFLAG': 'VARCHAR','RAISE60SECRRP': 'VARCHAR',\n",
        "  'RAISE60SECROP': 'VARCHAR','RAISE60SECAPCFLAG': 'VARCHAR','RAISE5MINRRP': 'VARCHAR','RAISE5MINROP': 'VARCHAR','RAISE5MINAPCFLAG': 'VARCHAR',\n",
        "  'RAISEREGRRP': 'VARCHAR','RAISEREGROP': 'VARCHAR','RAISEREGAPCFLAG': 'VARCHAR','LOWER6SECRRP': 'VARCHAR','LOWER6SECROP': 'VARCHAR',\n",
        "  'LOWER6SECAPCFLAG': 'VARCHAR','LOWER60SECRRP': 'VARCHAR','LOWER60SECROP': 'VARCHAR','LOWER60SECAPCFLAG': 'VARCHAR','LOWER5MINRRP': 'VARCHAR',\n",
        "  'LOWER5MINROP': 'VARCHAR','LOWER5MINAPCFLAG': 'VARCHAR','LOWERREGRRP': 'VARCHAR','LOWERREGROP': 'VARCHAR','LOWERREGAPCFLAG': 'VARCHAR',\n",
        "  'RAISE6SECACTUALAVAILABILITY': 'VARCHAR','RAISE60SECACTUALAVAILABILITY': 'VARCHAR','RAISE5MINACTUALAVAILABILITY': 'VARCHAR',\n",
        "  'RAISEREGACTUALAVAILABILITY': 'VARCHAR','LOWER6SECACTUALAVAILABILITY': 'VARCHAR','LOWER60SECACTUALAVAILABILITY': 'VARCHAR',\n",
        "  'LOWER5MINACTUALAVAILABILITY': 'VARCHAR','LOWERREGACTUALAVAILABILITY': 'VARCHAR','LORSURPLUS': 'VARCHAR','LRCSURPLUS': 'VARCHAR',\n",
        "  }},\n",
        "  filename =1,null_padding = true,ignore_errors=1,auto_detect=false)\n",
        "  where I='D' and UNIT ='DREGION' AND VERSION = 3\n",
        "                  \"\"\")\n",
        "  final_price=duckdb.sql(\"\"\"\n",
        "    select\n",
        "    UNIT,\n",
        "    REGIONID,\n",
        "    cast(columns(*exclude(REGIONID,UNIT,SETTLEMENTDATE,I,XX,filename)) as double),\n",
        "    parse_filename(filename) as file,\n",
        "    0 as PRIORITY ,\n",
        "    cast (SETTLEMENTDATE as TIMESTAMPTZ) as SETTLEMENTDATE,\n",
        "    cast(SETTLEMENTDATE as date) as date,\n",
        "\t  isoyear (cast (SETTLEMENTDATE as timestamp)) as YEAR\n",
        "    from raw  \"\"\")\n",
        "  return final_price.record_batch()"
      ],
      "outputs": [],
      "execution_count": 12,
      "metadata": {
        "id": "BhdYGAod4Vid",
        "microsoft": {
          "language": "python",
          "language_group": "jupyter_python"
        },
        "jupyter": {
          "source_hidden": false
        }
      },
      "id": "BhdYGAod4Vid"
    },
    {
      "cell_type": "markdown",
      "source": [
        "**<mark>WA </mark>**"
      ],
      "metadata": {
        "id": "w_BkXvRb6Wrc"
      },
      "id": "w_BkXvRb6Wrc"
    },
    {
      "cell_type": "code",
      "source": [
        "def get_wa(files_to_upload_full_Path):\n",
        "    final_wa=duckdb.sql(f\"\"\"\n",
        "        select data.code as DUID,\n",
        "        cast(null as varchar) as UNIT,\n",
        "        cast(null as double) as LOWERREGENABLEMENTMAX ,\n",
        "        cast(null as double) as MARGINALVALUE,\n",
        "        data.quantity as INITIALMW,\n",
        "        cast(null as double) as RAISEREGACTUALAVAILABILITY,\n",
        "        cast(null as double) as RAISEREGAVAILABILITY ,\n",
        "        cast(null as double) as LOWER6SECACTUALAVAILABILITY ,\n",
        "        cast(null as double) as RUNNO ,\n",
        "        cast(null as double) as LOWER5MIN ,\n",
        "        cast(null as double) as AGCSTATUS ,\n",
        "        cast(0 as double) as INTERVENTION ,\n",
        "        cast(null as double) as LOWER6SECFLAGS ,\n",
        "        cast(null as double) as MARGINAL6SECVALUE ,\n",
        "        cast(null as double) as RAISE60SECACTUALAVAILABILITY ,\n",
        "        cast(null as double) as RAISE5MIN ,\n",
        "        cast(null as double) as  AVAILABILITY,\n",
        "        cast(null as double) as RAISEREGFLAGS ,\n",
        "        cast(null as double) as VIOLATION6SECDEGREE ,\n",
        "        cast(null as double) as LOWERREGAVAILABILITY ,\n",
        "        cast(null as double) as TOTALCLEARED ,\n",
        "        cast(null as double) as LOWER60SECFLAGS ,\n",
        "        cast(null as double) as LOWERREGENABLEMENTMIN ,\n",
        "        cast(null as double) as LOWERREGACTUALAVAILABILITY ,\n",
        "        cast(null as double) as RAISEREGENABLEMENTMIN ,\n",
        "        cast(null as double) as RAMPUPRATE ,\n",
        "        cast(null as double) as VIOLATIONDEGREE ,\n",
        "        cast(null as double) as LOWER5MINFLAGS ,\n",
        "        cast(null as double) as RAISE6SEC ,\n",
        "        cast(null as double) as LOWER60SECACTUALAVAILABILITY ,\n",
        "        cast(null as double) as MARGINAL5MINVALUE ,\n",
        "        cast(null as double) as RAMPDOWNRATE ,\n",
        "        cast(null as double) as DISPATCHMODE ,\n",
        "        cast(null as double) as RAISE5MINACTUALAVAILABILITY ,\n",
        "        cast(null as double) as VIOLATION60SECDEGREE ,\n",
        "        cast(null as double) as RAISE60SECFLAGS ,\n",
        "        cast(null as double) as RAISEREGENABLEMENTMAX ,\n",
        "        cast(null as double) as RAISE6SECFLAGS ,\n",
        "        cast(null as double) as RAISE60SEC ,\n",
        "        cast(null as double) as MARGINAL60SECVALUE ,\n",
        "        cast(null as double) as LOWER60SEC ,\n",
        "        cast(null as double) as RAISE5MINFLAGS ,\n",
        "        cast(null as double) as LOWERREGFLAGS ,\n",
        "        cast(null as double) as LOWER5MINACTUALAVAILABILITY ,\n",
        "        cast(null as double) as VIOLATION5MINDEGREE ,\n",
        "        cast(null as double) as VERSION ,\n",
        "        cast(null as double) as RAISE6SECACTUALAVAILABILITY ,\n",
        "        cast(null as double) as RAISEREG ,\n",
        "        cast(null as double) as LOWERREG ,\n",
        "        cast(null as double) as LOWER6SEC ,\n",
        "        cast(data.dispatchInterval AS TIMESTAMPTZ) SETTLEMENTDATE  ,\n",
        "        cast(SETTLEMENTDATE as date) as date,\n",
        "        0 as PRIORITY ,\n",
        "        parse_filename(filename) as file,\n",
        "        isoyear (cast (data.dispatchInterval as timestamp)) as YEAR\n",
        "        from (select unnest(data.facilityScadaDispatchIntervals) as data,filename\n",
        "        from read_json_auto({files_to_upload_full_Path},filename=1)) \"\"\")\n",
        "########\n",
        "    df_wa=final_wa.record_batch()\n",
        "    return df_wa"
      ],
      "outputs": [],
      "execution_count": 13,
      "metadata": {
        "cellView": "form",
        "id": "ryf8PBgiU7WZ",
        "microsoft": {
          "language": "python",
          "language_group": "jupyter_python"
        },
        "jupyter": {
          "source_hidden": false
        }
      },
      "id": "ryf8PBgiU7WZ"
    },
    {
      "cell_type": "markdown",
      "source": [
        "# Process Data"
      ],
      "metadata": {
        "nteract": {
          "transient": {
            "deleting": false
          }
        },
        "microsoft": {
          "language": "python",
          "language_group": "jupyter_python"
        },
        "id": "2017d997-7cf4-4432-b996-9a774b33278d"
      },
      "id": "2017d997-7cf4-4432-b996-9a774b33278d"
    },
    {
      "cell_type": "code",
      "source": [
        "%%time\n",
        "Web_Path                = \"https://nemweb.com.au/Reports/Current/Daily_Reports/\"\n",
        "Zip_Path                = \"/lakehouse/default/Files/0_Source/aemo/\"\n",
        "uncompressed_Path       = \"/lakehouse/default/Files/1_Transform/CSV/Daily_Reports/\"\n",
        "Onelake_table           = table_path+'scada'\n",
        "\n",
        "#############################################\n",
        "download(Web_Path,Zip_Path,Nbr_Files_to_Download)\n",
        "#### Optionally store raw data in remote storage\n",
        "try:\n",
        "  s3_resource=get_s3_bucket_session()\n",
        "  syncremotestorage(\"archive\",\"aemo\",Nbr_Files_to_Download)\n",
        "except:\n",
        "  print('wrong credential')\n",
        "unzip(Zip_Path,uncompressed_Path)\n",
        "files_to_upload_full_Path = get_Path(uncompressed_Path,Onelake_table)\n",
        "\n",
        "\n",
        "if len(files_to_upload_full_Path) >0 :\n",
        "    df = get_scada(files_to_upload_full_Path)\n",
        "    write_deltalake(Onelake_table, df,mode=\"append\",partition_by=['YEAR'],storage_options = storage_options,engine='rust')\n",
        "    del df\n",
        "else:\n",
        "  print('all loaded already')"
      ],
      "outputs": [
        {
          "output_type": "stream",
          "name": "stdout",
          "text": [
            "10 New File Downloaded\n",
            "wrong credential\n",
            "10 New File uncompressed\n",
            "0\n"
          ]
        },
        {
          "output_type": "display_data",
          "data": {
            "text/plain": [
              "FloatProgress(value=0.0, layout=Layout(width='auto'), style=ProgressStyle(bar_color='black'))"
            ],
            "application/vnd.jupyter.widget-view+json": {
              "version_major": 2,
              "version_minor": 0,
              "model_id": "6c346c2ef31046ae9e0a775110ea0d24"
            }
          },
          "metadata": {}
        },
        {
          "output_type": "stream",
          "name": "stdout",
          "text": [
            "CPU times: user 34 s, sys: 2.3 s, total: 36.3 s\n",
            "Wall time: 58.9 s\n"
          ]
        }
      ],
      "execution_count": 14,
      "metadata": {
        "jupyter": {
          "source_hidden": false,
          "outputs_hidden": false
        },
        "nteract": {
          "transient": {
            "deleting": false
          }
        },
        "microsoft": {
          "language": "python",
          "language_group": "jupyter_python"
        },
        "colab": {
          "base_uri": "https://localhost:8080/",
          "height": 158,
          "referenced_widgets": [
            "6c346c2ef31046ae9e0a775110ea0d24",
            "52b934301c0c48158de9e19b54bf23fb",
            "1401642bcdf64b1b8f3368133199f448"
          ]
        },
        "id": "530b679f-d8a3-4e3c-93ba-e686e84fd286",
        "outputId": "01056e5a-1af2-471d-8dd1-90d02d85a7b0"
      },
      "id": "530b679f-d8a3-4e3c-93ba-e686e84fd286"
    },
    {
      "cell_type": "code",
      "source": [
        "%%time\n",
        "Web_Path           = \"https://data.wa.aemo.com.au/public/market-data/wemde/facilityScada/previous/\"\n",
        "Zip_Path           = \"/lakehouse/default/Files/0_Source/wa/\"\n",
        "uncompressed_Path  = \"/lakehouse/default/Files/1_Transform/JSON/WA/facilityScada/\"\n",
        "Onelake_table      = table_path+'scada'\n",
        "\n",
        "download(Web_Path,Zip_Path,Nbr_Files_to_Download)\n",
        "#### Optionally store raw data in remote storage\n",
        "try:\n",
        "  s3_resource=get_s3_bucket_session()\n",
        "  syncremotestorage(\"archive\",\"wa\",Nbr_Files_to_Download)\n",
        "except:\n",
        "  print('wrong credential')\n",
        "unzip(Zip_Path,uncompressed_Path)\n",
        "files_to_upload_full_Path=get_Path(uncompressed_Path,Onelake_table)\n",
        "\n",
        "\n",
        "if len(files_to_upload_full_Path) >0 :\n",
        "  df = get_wa(files_to_upload_full_Path)\n",
        "  write_deltalake(Onelake_table, df,mode=\"append\",partition_by=['YEAR'],storage_options = storage_options,engine='rust')\n",
        "  del df\n",
        "else:\n",
        "  print('all loaded already')"
      ],
      "outputs": [
        {
          "output_type": "stream",
          "name": "stdout",
          "text": [
            "10 New File Downloaded\n",
            "wrong credential\n",
            "10 New File uncompressed\n",
            "10\n",
            "CPU times: user 2.88 s, sys: 657 ms, total: 3.54 s\n",
            "Wall time: 17.9 s\n"
          ]
        }
      ],
      "execution_count": 15,
      "metadata": {
        "jupyter": {
          "source_hidden": false,
          "outputs_hidden": false
        },
        "nteract": {
          "transient": {
            "deleting": false
          }
        },
        "microsoft": {
          "language": "python",
          "language_group": "jupyter_python"
        },
        "colab": {
          "base_uri": "https://localhost:8080/"
        },
        "id": "80529342-60c8-43d9-a2b6-61ddb1eee755",
        "outputId": "f51a3f78-50a1-4f9a-a0b2-ac2b601d2a8e"
      },
      "id": "80529342-60c8-43d9-a2b6-61ddb1eee755"
    },
    {
      "cell_type": "code",
      "source": [
        "uncompressed_Path       = '/lakehouse/default/Files/1_Transform/CSV/Daily_Reports/'\n",
        "Onelake_table           = table_path+'price'\n",
        "files_to_upload_full_Path = get_Path(uncompressed_Path,Onelake_table)\n",
        "if len(files_to_upload_full_Path) >0 :\n",
        "  df = get_price(files_to_upload_full_Path)\n",
        "  write_deltalake(Onelake_table, df,mode=\"append\",storage_options = storage_options,engine='rust')\n",
        "else:\n",
        "  print('all loaded already')\n"
      ],
      "outputs": [
        {
          "output_type": "stream",
          "name": "stdout",
          "text": [
            "0\n"
          ]
        },
        {
          "output_type": "display_data",
          "data": {
            "text/plain": [
              "FloatProgress(value=0.0, layout=Layout(width='auto'), style=ProgressStyle(bar_color='black'))"
            ],
            "application/vnd.jupyter.widget-view+json": {
              "version_major": 2,
              "version_minor": 0,
              "model_id": "0860639d459c43ef8b15d69fcf4f23e2"
            }
          },
          "metadata": {}
        }
      ],
      "execution_count": 16,
      "metadata": {
        "jupyter": {
          "source_hidden": false,
          "outputs_hidden": false
        },
        "nteract": {
          "transient": {
            "deleting": false
          }
        },
        "microsoft": {
          "language": "python",
          "language_group": "jupyter_python"
        },
        "colab": {
          "base_uri": "https://localhost:8080/",
          "height": 67,
          "referenced_widgets": [
            "0860639d459c43ef8b15d69fcf4f23e2",
            "5e4a0c1063ba428bb48e239f7f292118",
            "b729182e6e074a4a8b3a4b2085d1aa4d"
          ]
        },
        "id": "b5ef06a9-e862-4629-9c31-a50db80b204a",
        "outputId": "795ae6f1-cd97-4bb3-9890-bca39b4fbddf"
      },
      "id": "b5ef06a9-e862-4629-9c31-a50db80b204a"
    }
  ],
  "metadata": {
    "colab": {
      "provenance": []
    },
    "microsoft": {
      "language": "python",
      "ms_spell_check": {
        "ms_spell_check_language": "en"
      },
      "language_group": "jupyter_python"
    },
    "notebook_environment": {},
    "widgets": {
      "application/vnd.jupyter.widget-state+json": {
        "6c346c2ef31046ae9e0a775110ea0d24": {
          "model_module": "@jupyter-widgets/controls",
          "model_name": "FloatProgressModel",
          "model_module_version": "1.5.0",
          "state": {
            "_dom_classes": [],
            "_model_module": "@jupyter-widgets/controls",
            "_model_module_version": "1.5.0",
            "_model_name": "FloatProgressModel",
            "_view_count": null,
            "_view_module": "@jupyter-widgets/controls",
            "_view_module_version": "1.5.0",
            "_view_name": "ProgressView",
            "bar_style": "",
            "description": "",
            "description_tooltip": null,
            "layout": "IPY_MODEL_52b934301c0c48158de9e19b54bf23fb",
            "max": 100,
            "min": 0,
            "orientation": "horizontal",
            "style": "IPY_MODEL_1401642bcdf64b1b8f3368133199f448",
            "value": 19
          }
        },
        "52b934301c0c48158de9e19b54bf23fb": {
          "model_module": "@jupyter-widgets/base",
          "model_name": "LayoutModel",
          "model_module_version": "1.2.0",
          "state": {
            "_model_module": "@jupyter-widgets/base",
            "_model_module_version": "1.2.0",
            "_model_name": "LayoutModel",
            "_view_count": null,
            "_view_module": "@jupyter-widgets/base",
            "_view_module_version": "1.2.0",
            "_view_name": "LayoutView",
            "align_content": null,
            "align_items": null,
            "align_self": null,
            "border": null,
            "bottom": null,
            "display": null,
            "flex": null,
            "flex_flow": null,
            "grid_area": null,
            "grid_auto_columns": null,
            "grid_auto_flow": null,
            "grid_auto_rows": null,
            "grid_column": null,
            "grid_gap": null,
            "grid_row": null,
            "grid_template_areas": null,
            "grid_template_columns": null,
            "grid_template_rows": null,
            "height": null,
            "justify_content": null,
            "justify_items": null,
            "left": null,
            "margin": null,
            "max_height": null,
            "max_width": null,
            "min_height": null,
            "min_width": null,
            "object_fit": null,
            "object_position": null,
            "order": null,
            "overflow": null,
            "overflow_x": null,
            "overflow_y": null,
            "padding": null,
            "right": null,
            "top": null,
            "visibility": null,
            "width": "auto"
          }
        },
        "1401642bcdf64b1b8f3368133199f448": {
          "model_module": "@jupyter-widgets/controls",
          "model_name": "ProgressStyleModel",
          "model_module_version": "1.5.0",
          "state": {
            "_model_module": "@jupyter-widgets/controls",
            "_model_module_version": "1.5.0",
            "_model_name": "ProgressStyleModel",
            "_view_count": null,
            "_view_module": "@jupyter-widgets/base",
            "_view_module_version": "1.2.0",
            "_view_name": "StyleView",
            "bar_color": "black",
            "description_width": ""
          }
        },
        "0860639d459c43ef8b15d69fcf4f23e2": {
          "model_module": "@jupyter-widgets/controls",
          "model_name": "FloatProgressModel",
          "model_module_version": "1.5.0",
          "state": {
            "_dom_classes": [],
            "_model_module": "@jupyter-widgets/controls",
            "_model_module_version": "1.5.0",
            "_model_name": "FloatProgressModel",
            "_view_count": null,
            "_view_module": "@jupyter-widgets/controls",
            "_view_module_version": "1.5.0",
            "_view_name": "ProgressView",
            "bar_style": "",
            "description": "",
            "description_tooltip": null,
            "layout": "IPY_MODEL_5e4a0c1063ba428bb48e239f7f292118",
            "max": 100,
            "min": 0,
            "orientation": "horizontal",
            "style": "IPY_MODEL_b729182e6e074a4a8b3a4b2085d1aa4d",
            "value": 100
          }
        },
        "5e4a0c1063ba428bb48e239f7f292118": {
          "model_module": "@jupyter-widgets/base",
          "model_name": "LayoutModel",
          "model_module_version": "1.2.0",
          "state": {
            "_model_module": "@jupyter-widgets/base",
            "_model_module_version": "1.2.0",
            "_model_name": "LayoutModel",
            "_view_count": null,
            "_view_module": "@jupyter-widgets/base",
            "_view_module_version": "1.2.0",
            "_view_name": "LayoutView",
            "align_content": null,
            "align_items": null,
            "align_self": null,
            "border": null,
            "bottom": null,
            "display": null,
            "flex": null,
            "flex_flow": null,
            "grid_area": null,
            "grid_auto_columns": null,
            "grid_auto_flow": null,
            "grid_auto_rows": null,
            "grid_column": null,
            "grid_gap": null,
            "grid_row": null,
            "grid_template_areas": null,
            "grid_template_columns": null,
            "grid_template_rows": null,
            "height": null,
            "justify_content": null,
            "justify_items": null,
            "left": null,
            "margin": null,
            "max_height": null,
            "max_width": null,
            "min_height": null,
            "min_width": null,
            "object_fit": null,
            "object_position": null,
            "order": null,
            "overflow": null,
            "overflow_x": null,
            "overflow_y": null,
            "padding": null,
            "right": null,
            "top": null,
            "visibility": null,
            "width": "auto"
          }
        },
        "b729182e6e074a4a8b3a4b2085d1aa4d": {
          "model_module": "@jupyter-widgets/controls",
          "model_name": "ProgressStyleModel",
          "model_module_version": "1.5.0",
          "state": {
            "_model_module": "@jupyter-widgets/controls",
            "_model_module_version": "1.5.0",
            "_model_name": "ProgressStyleModel",
            "_view_count": null,
            "_view_module": "@jupyter-widgets/base",
            "_view_module_version": "1.2.0",
            "_view_name": "StyleView",
            "bar_color": "black",
            "description_width": ""
          }
        }
      }
    },
    "sessionKeepAliveTimeout": 0,
    "kernel_info": {
      "name": "jupyter",
      "jupyter_kernel_name": "python3.11"
    },
    "language_info": {
      "name": "python"
    },
    "kernelspec": {
      "name": "jupyter",
      "language": "Jupyter",
      "display_name": "Jupyter"
    },
    "a365ComputeOptions": null,
    "nteract": {
      "version": "nteract-front-end@1.0.0"
    },
    "synapse_widget": {
      "state": {},
      "version": "0.1"
    },
    "save_output": true,
    "spark_compute": {
      "compute_id": "/trident/default",
      "session_options": {
        "conf": {
          "spark.synapse.nbs.session.timeout": "1200000"
        },
        "enableDebugMode": false
      }
    },
    "dependencies": {
      "lakehouse": {
        "default_lakehouse": "95cd7448-f098-4a3f-86e2-6fe8d08817dd",
        "default_lakehouse_name": "aemoraw",
        "default_lakehouse_workspace_id": "04f56971-b2bd-4a8f-89cf-7fc8e2513b36"
      },
      "environment": {},
      "warehouse": {
        "known_warehouses": [
          {
            "id": "d9907fb4-2edd-4ad9-8bc3-6617b1ce1959",
            "type": "Datawarehouse"
          }
        ],
        "default_warehouse": "d9907fb4-2edd-4ad9-8bc3-6617b1ce1959"
      }
    }
  },
  "nbformat": 4,
  "nbformat_minor": 5
}