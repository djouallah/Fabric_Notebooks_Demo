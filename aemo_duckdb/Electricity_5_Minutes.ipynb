{
 "cells": [
  {
   "cell_type": "code",
   "execution_count": null,
   "id": "cd3f832b",
   "metadata": {},
   "outputs": [],
   "source": [
    "!pip install deltalake==0.18.2\n",
    "!pip install duckdb\n",
    "!pip install azure-identity"
   ]
  },
  {
   "cell_type": "code",
   "execution_count": null,
   "id": "b4fdcaf1-09c8-45b0-a7f9-34ba0422f130",
   "metadata": {
    "executionInfo": {
     "elapsed": 1055,
     "status": "ok",
     "timestamp": 1723507119247,
     "user": {
      "displayName": "",
      "userId": ""
     },
     "user_tz": -600
    },
    "id": "b4fdcaf1-09c8-45b0-a7f9-34ba0422f130",
    "jupyter": {
     "outputs_hidden": false,
     "source_hidden": false
    },
    "microsoft": {
     "language": "python",
     "language_group": "jupyter_python"
    },
    "nteract": {
     "transient": {
      "deleting": false
     }
    }
   },
   "outputs": [],
   "source": [
    "Nbr_Files_to_Download  =  600\n",
    "schema                 = 'aemo' \n",
    "ws                     = 'sqlengines'  \n",
    "lh                     = 'power'\n",
    "engine                 = 'pyarrow'\n",
    "table_base_url         =  f'abfss://{ws}@onelake.dfs.fabric.microsoft.com/{lh}.Lakehouse/Tables/{schema}/'\n",
    "onelake_file_root_path =  f\"{lh}.Lakehouse/Files/{schema}\"\n",
    "runtime                = \"fabric\""
   ]
  },
  {
   "cell_type": "markdown",
   "id": "9d027b80-7952-45ca-9920-c35c7fceadb5",
   "metadata": {
    "microsoft": {
     "language": "python",
     "language_group": "jupyter_python"
    },
    "nteract": {
     "transient": {
      "deleting": false
     }
    }
   },
   "source": [
    "**_<u><mark>Import Python Libraries</mark></u>_**"
   ]
  },
  {
   "cell_type": "code",
   "execution_count": null,
   "id": "e8eb4b30-4605-4e87-b259-cf535b6e22f6",
   "metadata": {
    "colab": {
     "base_uri": "https://localhost:8080/"
    },
    "executionInfo": {
     "elapsed": 16571,
     "status": "ok",
     "timestamp": 1723507148597,
     "user": {
      "displayName": "",
      "userId": ""
     },
     "user_tz": -600
    },
    "id": "e8eb4b30-4605-4e87-b259-cf535b6e22f6",
    "jupyter": {
     "outputs_hidden": false,
     "source_hidden": false
    },
    "microsoft": {
     "language": "python",
     "language_group": "jupyter_python"
    },
    "nteract": {
     "transient": {
      "deleting": false
     }
    },
    "outputId": "058dc7f3-ce7e-4815-8cd3-50efc740f6ee"
   },
   "outputs": [],
   "source": [
    "from   deltalake.writer           import try_get_deltatable , write_deltalake\n",
    "from   deltalake                  import DeltaTable\n",
    "import pyarrow                    as pa\n",
    "import os\n",
    "import glob\n",
    "from   azure.core.credentials     import AccessToken\n",
    "from   azure.storage.filedatalake import DataLakeServiceClient\n",
    "from   azure.identity             import DefaultAzureCredential\n",
    "import duckdb\n",
    "from   datetime                   import date, timedelta\n",
    "import time\n",
    "from   psutil                     import *\n",
    "import re\n",
    "import requests\n",
    "from   shutil                     import unpack_archive\n",
    "from   urllib.request             import urlopen\n",
    "from   concurrent.futures         import ThreadPoolExecutor, as_completed"
   ]
  },
  {
   "cell_type": "markdown",
   "id": "5ad59d20",
   "metadata": {},
   "source": [
    "**_<u><mark>Authentication</mark></u>_**"
   ]
  },
  {
   "cell_type": "code",
   "execution_count": null,
   "id": "2be61fe9",
   "metadata": {
    "jupyter": {
     "source_hidden": false
    },
    "microsoft": {
     "language": "python",
     "language_group": "jupyter_python"
    }
   },
   "outputs": [],
   "source": [
    "if runtime == 'local':\n",
    "    from   azure.identity import InteractiveBrowserCredential\n",
    "    os.environ['azure_storage_token'.upper()] = InteractiveBrowserCredential().get_token(\"https://storage.azure.com/.default\").token\n",
    "    duckdb.sql(f\"\"\" CREATE or replace SECRET onelake ( TYPE AZURE, PROVIDER ACCESS_TOKEN, ACCESS_TOKEN '{os.getenv('azure_storage_token')}')   \"\"\")\n",
    "else:\n",
    "    os.environ['azure_storage_token'] = notebookutils.credentials.getToken('storage')\n",
    "    print(' all good you are in fabric notebook')"
   ]
  },
  {
   "cell_type": "markdown",
   "id": "57dad2b9-e69b-4d6f-9dae-f13287669dd8",
   "metadata": {
    "microsoft": {
     "language": "python",
     "language_group": "jupyter_python"
    },
    "nteract": {
     "transient": {
      "deleting": false
     }
    }
   },
   "source": [
    "<mark>**Optimize delta**</mark>"
   ]
  },
  {
   "cell_type": "code",
   "execution_count": null,
   "id": "7b057e30-6a70-47af-bb8a-24fff65cf609",
   "metadata": {
    "jupyter": {
     "outputs_hidden": false,
     "source_hidden": false
    },
    "microsoft": {
     "language": "python",
     "language_group": "jupyter_python"
    },
    "nteract": {
     "transient": {
      "deleting": false
     }
    }
   },
   "outputs": [],
   "source": [
    "def optimize(tables):\n",
    "    results = {}\n",
    "    for tbl in tables:\n",
    "        try:\n",
    "            dt = DeltaTable(table_base_url + tbl)\n",
    "            dt.optimize.compact()\n",
    "            dt.vacuum(retention_hours=0, dry_run=False, enforce_retention_duration=False)\n",
    "            dt.cleanup_metadata()\n",
    "            results[tbl] = \"done\"\n",
    "        except Exception as e:\n",
    "            results[tbl] = f\"error: {str(e)}\"\n",
    "    return results\n",
    "def vacuum(tables):\n",
    "    results = {}\n",
    "    for tbl in tables:\n",
    "        try:\n",
    "            dt = DeltaTable(table_base_url + tbl)\n",
    "            dt.vacuum(retention_hours=0, dry_run=False, enforce_retention_duration=False)\n",
    "            dt.cleanup_metadata()\n",
    "            results[tbl] = \"done\"\n",
    "        except Exception as e:\n",
    "            results[tbl] = f\"error: {str(e)}\"\n",
    "    return results"
   ]
  },
  {
   "cell_type": "markdown",
   "id": "ee4d52d4-761a-4e7b-993b-0889fda74a94",
   "metadata": {
    "id": "ee4d52d4-761a-4e7b-993b-0889fda74a94",
    "nteract": {
     "transient": {
      "deleting": false
     }
    }
   },
   "source": [
    "**<mark>Download Some Data from the web</mark>**"
   ]
  },
  {
   "cell_type": "code",
   "execution_count": null,
   "id": "d2701d58",
   "metadata": {
    "jupyter": {
     "source_hidden": true
    },
    "microsoft": {
     "language": "python",
     "language_group": "jupyter_python"
    }
   },
   "outputs": [],
   "source": [
    "def create_directory_if_not_exist(fs,abfss_directory) :\n",
    "    directory_client = fs.get_directory_client(abfss_directory)\n",
    "    try:\n",
    "        directory_client.get_directory_properties()\n",
    "        print(f\"Directory '{abfss_directory}' exist already.\")\n",
    "    except :\n",
    "        directory_client.create_directory()\n",
    "        print(f\"Directory '{abfss_directory}' created successfully.\")"
   ]
  },
  {
   "cell_type": "code",
   "execution_count": null,
   "id": "28416977-0f39-41ca-aa84-9a5d42a6e519",
   "metadata": {
    "cellView": "form",
    "executionInfo": {
     "elapsed": 532,
     "status": "ok",
     "timestamp": 1723507149117,
     "user": {
      "displayName": "",
      "userId": ""
     },
     "user_tz": -600
    },
    "id": "28416977-0f39-41ca-aa84-9a5d42a6e519",
    "jupyter": {
     "outputs_hidden": false,
     "source_hidden": true
    },
    "microsoft": {
     "language": "python",
     "language_group": "jupyter_python"
    },
    "nteract": {
     "transient": {
      "deleting": false
     }
    }
   },
   "outputs": [],
   "source": [
    "def download(url,Path,total_files):\n",
    "    if not os.path.exists('/tmp'+Path):\n",
    "      os.makedirs('/tmp'+Path, exist_ok=True)\n",
    "    \n",
    "\n",
    "    result = urlopen(url).read().decode('utf-8')\n",
    "    pattern = re.compile(r'[\\w.]*.zip')\n",
    "    filelist1 = pattern.findall(result)\n",
    "    filelist_unique = dict.fromkeys(filelist1)\n",
    "    filelist =sorted(filelist_unique, reverse=True)\n",
    "\n",
    "    onelake_folder = onelake_file_root_path + Path\n",
    "    create_directory_if_not_exist(fs,onelake_folder)\n",
    "    paths = fs.get_paths(path=onelake_folder)\n",
    "    current = [os.path.basename(path.name) for path in paths ]\n",
    "\n",
    "    #current =  [os.path.basename(x) for x in glob.glob(Path+'*.zip')]\n",
    "\n",
    "\n",
    "    files_to_upload = list(set(filelist) - set(current))\n",
    "    files_to_upload = list(dict.fromkeys(files_to_upload))[:total_files]\n",
    "    print(str(len(files_to_upload)) + ' New File Downloaded')\n",
    "    if len(files_to_upload) != 0 :\n",
    "      for x in files_to_upload:\n",
    "           with requests.get(url+x, stream=True) as resp:\n",
    "            if resp.ok:\n",
    "              with open(f\"/tmp{Path}{x}\", \"wb\") as f:\n",
    "               for chunk in resp.iter_content(chunk_size=4096):\n",
    "                f.write(chunk)\n",
    "    return \"done\""
   ]
  },
  {
   "cell_type": "markdown",
   "id": "4d20ed8d-8b3f-462b-a866-8736eab45789",
   "metadata": {
    "id": "4d20ed8d-8b3f-462b-a866-8736eab45789",
    "nteract": {
     "transient": {
      "deleting": false
     }
    }
   },
   "source": [
    "**<mark>Unzip</mark>**"
   ]
  },
  {
   "cell_type": "code",
   "execution_count": null,
   "id": "3b5f3047-8010-41ba-8e30-396e26de0e81",
   "metadata": {
    "cellView": "form",
    "executionInfo": {
     "elapsed": 7,
     "status": "ok",
     "timestamp": 1723507158049,
     "user": {
      "displayName": "",
      "userId": ""
     },
     "user_tz": -600
    },
    "id": "3b5f3047-8010-41ba-8e30-396e26de0e81",
    "jupyter": {
     "outputs_hidden": false,
     "source_hidden": true
    },
    "microsoft": {
     "language": "python",
     "language_group": "jupyter_python"
    },
    "nteract": {
     "transient": {
      "deleting": false
     }
    }
   },
   "outputs": [],
   "source": [
    "def uncompress(zip_file, source_path, destination_path):\n",
    "    \"\"\"Uncompress a zip file to the destination path.\"\"\"\n",
    "    try:\n",
    "        unpack_archive(os.path.join(source_path, zip_file), destination_path, 'zip')\n",
    "        print(f\"Uncompressed: {zip_file}\")\n",
    "    except Exception as e:\n",
    "        print(f\"Failed to uncompress {zip_file}: {e}\")\n",
    "\n",
    "def unzip(source, destination):\n",
    "    \"\"\"Unzip all zip files from the source directory to the destination directory.\"\"\"\n",
    "    if not os.path.exists(destination):\n",
    "        os.makedirs(destination, exist_ok=True)\n",
    "\n",
    "    # Get list of zip files in the source directory\n",
    "    zip_files = [os.path.basename(x) for x in glob.glob(os.path.join(source, '*.zip'))]\n",
    "\n",
    "    # Get list of already uncompressed files in the destination directory\n",
    "    uncompressed_files = [\n",
    "        os.path.basename(x).replace('.CSV', '.zip')\n",
    "        for x in glob.glob(os.path.join(destination, '*.[Cc][Ss][Vv]')) + \n",
    "                  glob.glob(os.path.join(destination, '*.json'))\n",
    "    ]\n",
    "\n",
    "    # Determine files to uncompress (delta)\n",
    "    files_to_uncompress = list(set(zip_files) - set(uncompressed_files))\n",
    "    files_to_uncompress = list(dict.fromkeys(files_to_uncompress))  # Remove duplicates\n",
    "\n",
    "    print(f\"{len(files_to_uncompress)} new file(s) to uncompress.\")\n",
    "\n",
    "    if files_to_uncompress:\n",
    "        with ThreadPoolExecutor() as executor:\n",
    "            # Use lambda to pass additional arguments to uncompress\n",
    "            executor.map(lambda f: uncompress(f, source, destination), files_to_uncompress)\n",
    "        return \"Done\"\n",
    "    else:\n",
    "        return \"Nothing to uncompress\""
   ]
  },
  {
   "cell_type": "code",
   "execution_count": null,
   "id": "ab413635",
   "metadata": {
    "jupyter": {
     "source_hidden": true
    },
    "microsoft": {
     "language": "python",
     "language_group": "jupyter_python"
    }
   },
   "outputs": [],
   "source": [
    "def get_Path(Source,Table):\n",
    " three_days_ago = (date.today() - timedelta(days=3)).isoformat()\n",
    " dt =try_get_deltatable(Table,storage_options=None)\n",
    " if dt is not None:\n",
    "    existing_files = duckdb.sql(f\"\"\" select distinct file as file from delta_scan('{Table}') WHERE date > '{three_days_ago}' \"\"\").df()['file'].tolist()\n",
    " else:\n",
    "  existing_files=[]\n",
    " print(len(existing_files))\n",
    " list_files_csv=[os.path.basename(x) for x in glob.glob(Source+'*.CSV')]\n",
    " list_files_json=[os.path.basename(x) for x in glob.glob(Source+'*.json')]\n",
    " filelist = list_files_csv + list_files_json\n",
    "\n",
    " files_to_upload = list(set(filelist) - set(existing_files))\n",
    " files_to_upload = list(dict.fromkeys(files_to_upload))\n",
    " files_to_upload_full_Path = [Source + i for i in files_to_upload]\n",
    " return files_to_upload_full_Path[:Nbr_Files_to_Download]"
   ]
  },
  {
   "cell_type": "code",
   "execution_count": null,
   "id": "615e8d64",
   "metadata": {
    "jupyter": {
     "source_hidden": true
    },
    "microsoft": {
     "language": "python",
     "language_group": "jupyter_python"
    }
   },
   "outputs": [],
   "source": [
    "def get_onelake_fs(file_system_name):\n",
    "    class CustomTokenCredential:\n",
    "        def __init__(self, token):\n",
    "            self.token = token\n",
    "\n",
    "        def get_token(self, *scopes, **kwargs):\n",
    "            return AccessToken(self.token, expires_on=9999999999)  # Set a far future expiration\n",
    "\n",
    "    credential = CustomTokenCredential(os.getenv('azure_storage_token'))\n",
    "    service_client = DataLakeServiceClient(account_url=f\"https://onelake.dfs.fabric.microsoft.com\", credential= credential)\n",
    "    return service_client.get_file_system_client(file_system_name)"
   ]
  },
  {
   "cell_type": "code",
   "execution_count": null,
   "id": "1ab3c1c0",
   "metadata": {
    "jupyter": {
     "source_hidden": true
    },
    "microsoft": {
     "language": "python",
     "language_group": "jupyter_python"
    }
   },
   "outputs": [],
   "source": [
    "def List_files_to_upload(fs,local_folder,onelake_folder):\n",
    "    create_directory_if_not_exist(fs,onelake_folder)\n",
    "    paths = fs.get_paths(path=onelake_folder)\n",
    "    onelake_files = [os.path.basename(path.name) for path in paths ]\n",
    "    local_files=[os.path.basename(x) for x in glob.glob(local_folder+'*.*')]\n",
    "    filtes_to_upload  = list(  set(local_files) - set(onelake_files))\n",
    "    filtes_to_upload  = list(dict.fromkeys(filtes_to_upload))\n",
    "    filtes_to_upload  = sorted(filtes_to_upload, reverse=True)\n",
    "    filtes_to_upload = [local_folder+'/' + i for i in filtes_to_upload]\n",
    "    return filtes_to_upload"
   ]
  },
  {
   "cell_type": "code",
   "execution_count": null,
   "id": "50c08235",
   "metadata": {
    "jupyter": {
     "source_hidden": true
    },
    "microsoft": {
     "language": "python",
     "language_group": "jupyter_python"
    }
   },
   "outputs": [],
   "source": [
    "def upload_file(file_system_client, local_file, remote_directory):\n",
    "    \"\"\"\n",
    "    Helper function to upload a single file to a remote directory in ADLS/OneLake.\n",
    "    \n",
    "    Args:\n",
    "        file_system_client: The file system client.\n",
    "        local_file: Local file path to upload.\n",
    "        remote_directory: The remote directory where the file will be uploaded.\n",
    "    \"\"\"\n",
    "    try:\n",
    "        # Extract the file name from the local file path\n",
    "        file_name = os.path.basename(local_file)\n",
    "        \n",
    "        # Define the remote file path\n",
    "        remote_file_path = f\"{remote_directory}{file_name}\"\n",
    "        \n",
    "        # Upload the file\n",
    "        print(f\"Uploading {local_file} to {remote_file_path}\")\n",
    "        file_client = file_system_client.get_file_client(remote_file_path)\n",
    "        with open(local_file, \"rb\") as local_file_data:\n",
    "            file_client.upload_data(local_file_data, overwrite=True)\n",
    "        print(f\"Uploaded {local_file} successfully!\")\n",
    "        return local_file, None  # Return the file and no error\n",
    "    except Exception as e:\n",
    "        print(f\"Failed to upload {local_file}: {e}\")\n",
    "        return local_file, str(e)  # Return the file and the error message\n",
    "\n",
    "def upload_files(file_system_client, local_folder, remote_directory, max_workers=5):\n",
    "    \"\"\"\n",
    "    Upload a list of files to a remote directory in ADLS/OneLake using multi-threading.\n",
    "    \n",
    "    Args:\n",
    "        file_system_client: The file system client.\n",
    "        local_files: List of local file paths to upload.\n",
    "        remote_directory: The remote directory where files will be uploaded.\n",
    "        max_workers: Maximum number of threads to use for parallel uploads.\n",
    "    \"\"\"\n",
    "    local_files =     List_files_to_upload(file_system_client,local_folder,remote_directory)\n",
    "    with ThreadPoolExecutor(max_workers=max_workers) as executor:\n",
    "        # Submit upload tasks to the thread pool\n",
    "        futures = [\n",
    "            executor.submit(upload_file, file_system_client, local_file, remote_directory)\n",
    "            for local_file in local_files\n",
    "        ]\n",
    "        \n",
    "        # Wait for all tasks to complete and handle results\n",
    "        for future in as_completed(futures):\n",
    "            local_file, error = future.result()\n",
    "            if error:\n",
    "                print(f\"Error uploading {local_file}: {error}\")\n",
    "            else:\n",
    "                print(f\"Successfully uploaded {local_file}\")"
   ]
  },
  {
   "cell_type": "markdown",
   "id": "HPeQ0W-DtsEI",
   "metadata": {
    "id": "HPeQ0W-DtsEI"
   },
   "source": [
    "**<mark>Price Today </mark>**"
   ]
  },
  {
   "cell_type": "code",
   "execution_count": null,
   "id": "BhdYGAod4Vid",
   "metadata": {
    "executionInfo": {
     "elapsed": 2,
     "status": "ok",
     "timestamp": 1723507161094,
     "user": {
      "displayName": "",
      "userId": ""
     },
     "user_tz": -600
    },
    "id": "BhdYGAod4Vid",
    "jupyter": {
     "source_hidden": true
    },
    "microsoft": {
     "language": "python",
     "language_group": "jupyter_python"
    }
   },
   "outputs": [],
   "source": [
    "def get_price(files_to_upload_full_Path):\n",
    "  raw =duckdb.sql(f\"\"\"from read_csv({files_to_upload_full_Path},\n",
    "  Skip=1,header =0,all_varchar=1,\n",
    "  columns={{\n",
    "  'I' : 'VARCHAR', 'DISPATCH' : 'VARCHAR', 'PRICE' : 'VARCHAR', 'xx' : 'VARCHAR', 'SETTLEMENTDATE' : 'VARCHAR', 'RUNNO' : 'VARCHAR', 'REGIONID' : 'VARCHAR',\n",
    "   'DISPATCHINTERVAL' : 'VARCHAR', 'INTERVENTION' : 'VARCHAR', 'RRP' : 'VARCHAR', 'EEP' : 'VARCHAR', 'ROP' : 'VARCHAR', 'APCFLAG' : 'VARCHAR',\n",
    "    'MARKETSUSPENDEDFLAG' : 'VARCHAR', 'LASTCHANGED' : 'VARCHAR', 'RAISE6SECRRP' : 'VARCHAR', 'RAISE6SECROP' : 'VARCHAR', 'RAISE6SECAPCFLAG' : 'VARCHAR',\n",
    "    'RAISE60SECRRP' : 'VARCHAR', 'RAISE60SECROP' : 'VARCHAR', 'RAISE60SECAPCFLAG' : 'VARCHAR', 'RAISE5MINRRP' : 'VARCHAR', 'RAISE5MINROP' : 'VARCHAR',\n",
    "    'RAISE5MINAPCFLAG' : 'VARCHAR', 'RAISEREGRRP' : 'VARCHAR', 'RAISEREGROP' : 'VARCHAR', 'RAISEREGAPCFLAG' : 'VARCHAR', 'LOWER6SECRRP' : 'VARCHAR',\n",
    "     'LOWER6SECROP' : 'VARCHAR', 'LOWER6SECAPCFLAG' : 'VARCHAR', 'LOWER60SECRRP' : 'VARCHAR', 'LOWER60SECROP' : 'VARCHAR', 'LOWER60SECAPCFLAG' : 'VARCHAR',\n",
    "     'LOWER5MINRRP' : 'VARCHAR', 'LOWER5MINROP' : 'VARCHAR', 'LOWER5MINAPCFLAG' : 'VARCHAR', 'LOWERREGRRP' : 'VARCHAR', 'LOWERREGROP' : 'VARCHAR',\n",
    "      'LOWERREGAPCFLAG' : 'VARCHAR', 'PRICE_STATUS' : 'VARCHAR', 'PRE_AP_ENERGY_PRICE' : 'VARCHAR', 'PRE_AP_RAISE6_PRICE' : 'VARCHAR', 'PRE_AP_RAISE60_PRICE' : 'VARCHAR',\n",
    "       'PRE_AP_RAISE5MIN_PRICE' : 'VARCHAR', 'PRE_AP_RAISEREG_PRICE' : 'VARCHAR', 'PRE_AP_LOWER6_PRICE' : 'VARCHAR', 'PRE_AP_LOWER60_PRICE' : 'VARCHAR',\n",
    "        'PRE_AP_LOWER5MIN_PRICE' : 'VARCHAR', 'PRE_AP_LOWERREG_PRICE' : 'VARCHAR', 'RAISE1SECRRP' : 'VARCHAR', 'RAISE1SECROP' : 'VARCHAR', 'RAISE1SECAPCFLAG' : 'VARCHAR',\n",
    "         'LOWER1SECRRP' : 'VARCHAR', 'LOWER1SECROP' : 'VARCHAR', 'LOWER1SECAPCFLAG' : 'VARCHAR', 'PRE_AP_RAISE1_PRICE' : 'VARCHAR',\n",
    "          'PRE_AP_LOWER1_PRICE' : 'VARCHAR', 'CUMUL_PRE_AP_ENERGY_PRICE' : 'VARCHAR', 'CUMUL_PRE_AP_RAISE6_PRICE' : 'VARCHAR', 'CUMUL_PRE_AP_RAISE60_PRICE' : 'VARCHAR',\n",
    "          'CUMUL_PRE_AP_RAISE5MIN_PRICE' : 'VARCHAR', 'CUMUL_PRE_AP_RAISEREG_PRICE' : 'VARCHAR', 'CUMUL_PRE_AP_LOWER6_PRICE' : 'VARCHAR',\n",
    "          'CUMUL_PRE_AP_LOWER60_PRICE' : 'VARCHAR', 'CUMUL_PRE_AP_LOWER5MIN_PRICE' : 'VARCHAR', 'CUMUL_PRE_AP_LOWERREG_PRICE' : 'VARCHAR',\n",
    "          'CUMUL_PRE_AP_RAISE1_PRICE' : 'VARCHAR', 'CUMUL_PRE_AP_LOWER1_PRICE' : 'VARCHAR', 'OCD_STATUS' : 'VARCHAR', 'MII_STATUS' : 'VARCHAR',\n",
    "  }},\n",
    "  filename =1,null_padding = true,ignore_errors=1,auto_detect=false)\n",
    "  where I='D' and PRICE ='PRICE'\n",
    "\n",
    "                  \"\"\")\n",
    "  columns = list(set(raw.columns) - {'SETTLEMENTDATE','REGIONID','I','PRICE','filename','OCD_STATUS','MII_STATUS','DISPATCH','PRICE_STATUS','LASTCHANGED'})\n",
    "\n",
    "  exprs = [\n",
    "    duckdb.ColumnExpression(x).cast(duckdb.typing.DOUBLE).alias(x)\n",
    "    for x in columns\n",
    "  ]\n",
    "  rel2 = raw.select('SETTLEMENTDATE','REGIONID','I','PRICE','filename','OCD_STATUS','MII_STATUS','DISPATCH','PRICE_STATUS','LASTCHANGED',*exprs)\n",
    "  final=duckdb.sql(\"\"\" select *exclude(SETTLEMENTDATE,I,xx,'PRICE','filename'),\n",
    "  cast (SETTLEMENTDATE as TIMESTAMPTZ) as SETTLEMENTDATE,\n",
    "  cast(SETTLEMENTDATE as date) as date,\n",
    "  parse_filename(filename) as file,\n",
    "  0 as PRIORITY,\n",
    "  isoyear (cast (SETTLEMENTDATE as TIMESTAMPTZ)) as YEAR\n",
    "  from rel2  \"\"\")\n",
    "  return final.arrow()"
   ]
  },
  {
   "cell_type": "markdown",
   "id": "Gg9hRwlEVjGM",
   "metadata": {
    "id": "Gg9hRwlEVjGM"
   },
   "source": [
    "**<mark>SCADA Today </mark>**"
   ]
  },
  {
   "cell_type": "code",
   "execution_count": null,
   "id": "U_XTWvrrWByo",
   "metadata": {
    "executionInfo": {
     "elapsed": 2,
     "status": "ok",
     "timestamp": 1723507163085,
     "user": {
      "displayName": "",
      "userId": ""
     },
     "user_tz": -600
    },
    "id": "U_XTWvrrWByo",
    "jupyter": {
     "source_hidden": true
    },
    "microsoft": {
     "language": "python",
     "language_group": "jupyter_python"
    }
   },
   "outputs": [],
   "source": [
    "def get_scada(files_to_upload_full_Path):\n",
    "  raw =duckdb.sql(f\"\"\"from read_csv({files_to_upload_full_Path},\n",
    "  Skip=1,header =0,all_varchar=1,\n",
    "  columns={{\n",
    "  'I' : 'VARCHAR', 'DISPATCH' : 'VARCHAR', 'UNIT_SCADA' : 'VARCHAR', 'xx' : 'VARCHAR', 'SETTLEMENTDATE' : 'timestamp', 'DUID' : 'VARCHAR', 'SCADAVALUE' : 'double','LASTCHANGED' : 'timestamp'\n",
    "  }},\n",
    "  filename =1,null_padding = true,ignore_errors=1,auto_detect=false)\n",
    "  where I='D' and SCADAVALUE !=0\n",
    "                  \"\"\")\n",
    "  scada=duckdb.sql(\"\"\" select  DUID,SCADAVALUE as INITIALMW, cast(0 as double ) as INTERVENTION,\n",
    "   cast (SETTLEMENTDATE as TIMESTAMPTZ) as SETTLEMENTDATE,\n",
    "   cast(SETTLEMENTDATE as date) as date,\n",
    "   parse_filename(filename) as file,\n",
    "   0 as PRIORITY ,\n",
    "   isoyear (cast (SETTLEMENTDATE as timestamp)) as YEAR\n",
    "   from raw\n",
    "    \"\"\")\n",
    "  return scada.arrow()"
   ]
  },
  {
   "cell_type": "markdown",
   "id": "c91da29f-926f-47db-aba4-bfcb3788dbc6",
   "metadata": {
    "microsoft": {
     "language": "python",
     "language_group": "jupyter_python"
    },
    "nteract": {
     "transient": {
      "deleting": false
     }
    }
   },
   "source": [
    "**<mark>DUID </mark>**"
   ]
  },
  {
   "cell_type": "code",
   "execution_count": null,
   "id": "aae61997-f447-4096-8d8d-cfcfd2c81746",
   "metadata": {
    "jupyter": {
     "outputs_hidden": false,
     "source_hidden": true
    },
    "microsoft": {
     "language": "python",
     "language_group": "jupyter_python"
    },
    "nteract": {
     "transient": {
      "deleting": false
     }
    }
   },
   "outputs": [],
   "source": [
    "def get_duid(Onelake_table):\n",
    "    DUID_Path = \"/tmp/default/Files/0_Source/Dimensions/DUID/\"\n",
    "    import pathlib\n",
    "    import requests\n",
    "    pathlib.Path(DUID_Path).mkdir(parents=True, exist_ok=True)\n",
    "    url = \"https://www.aemo.com.au/-/media/Files/Electricity/NEM/Participant_Information/NEM-Registration-and-Exemption-List.xls\"\n",
    "    s = requests.Session()\n",
    "    headers = {'User-Agent': 'Mozilla/5.0 (Macintosh; Intel Mac OS X 10_15_4) AppleWebKit/537.36 (KHTML, like Gecko) Chrome/81.0.4044.138 Safari/537.36'}\n",
    "    r = s.get(url,headers=headers)\n",
    "    r.content\n",
    "    output = open(DUID_Path+\"NEM-Registration-and-Exemption-List.xls\", 'wb')\n",
    "    output.write(r.content)\n",
    "    output.close()\n",
    "    duckdb.sql(f\"\"\"\n",
    "    INSTALL spatial;\n",
    "    LOAD spatial;\n",
    "    create or replace table DUID as\n",
    "    SELECT Region,DUID,first(\"Fuel Source - Descriptor\") as FuelSourceDescriptor,first(Participant) as Participant\n",
    "    FROM st_read('{DUID_Path}NEM-Registration-and-Exemption-List.xls', layer = 'PU and Scheduled Loads',open_options = ['HEADERS=FORCE'])\n",
    "    group by all\n",
    "    \"\"\")\n",
    "\n",
    "    import requests\n",
    "    dls = \"https://data.wa.aemo.com.au/datafiles/post-facilities/facilities.csv\"\n",
    "    resp = requests.get(dls)\n",
    "    output = open(DUID_Path+\"facilities_WA.csv\", 'wb')\n",
    "    output.write(resp.content)\n",
    "    output.close()\n",
    "\n",
    "    duckdb.sql(f\"\"\" select 'WA1' as Region  , \"Facility Code\" as DUID ,\"Participant Name\" as Participant from read_csv_auto('{DUID_Path}facilities_WA.csv')\"\"\").to_view('x')\n",
    "\n",
    "    duckdb.sql(\"\"\"select x.Region,x.DUID, TECHNOLOGY as FuelSourceDescriptor,Participant from x\n",
    "    left join (select * FROM read_csv_auto('https://github.com/djouallah/aemo_fabric/raw/main/WA_ENERGY.csv',header=1)) as z\n",
    "    on x.duid=z.duid \"\"\").to_view('DUID_WA')\n",
    "\n",
    "    duckdb.sql(\"\"\"\n",
    "    create or replace table states(RegionID varchar, States varchar) ;\n",
    "    insert into states values\n",
    "    ('WA1' , 'Western Australia') ,\n",
    "    ('QLD1' , 'Queensland')  ,\n",
    "    ('NSW1' , 'New South Walles')  ,\n",
    "    ('TAS1' , 'Tasmania')  ,\n",
    "    ('SA1' , 'South Australia')  ,\n",
    "    ('VIC1' , 'Victoria')\n",
    "    \"\"\")\n",
    "\n",
    "    df =duckdb.sql(f\"\"\" with xx as (select * from DUID union BY NAME select * from DUID_WA)\n",
    "                select States,trim(DUID) as DUID,min(Region) as Region, min(FuelSourceDescriptor) as FuelSourceDescriptor,\n",
    "                min(Participant) as Participant\n",
    "                from xx\n",
    "                JOIN states on xx.Region = states.RegionID\n",
    "                where length(trim(DUID)) > 2\n",
    "                group by all\n",
    "                \"\"\").arrow()\n",
    "    write_deltalake(Onelake_table, df,mode=\"overwrite\",engine=engine)"
   ]
  },
  {
   "cell_type": "markdown",
   "id": "be6d663c-4389-411c-8414-359c1ea7aceb",
   "metadata": {
    "id": "be6d663c-4389-411c-8414-359c1ea7aceb",
    "microsoft": {
     "language": "python",
     "language_group": "jupyter_python"
    },
    "nteract": {
     "transient": {
      "deleting": false
     }
    }
   },
   "source": [
    "_**<mark>Summary</mark>**_"
   ]
  },
  {
   "cell_type": "code",
   "execution_count": null,
   "id": "8fabb4ef-2c81-4013-bc3e-5dd305dbdd8d",
   "metadata": {
    "jupyter": {
     "outputs_hidden": false,
     "source_hidden": false
    },
    "microsoft": {
     "language": "python",
     "language_group": "jupyter_python"
    },
    "nteract": {
     "transient": {
      "deleting": false
     }
    }
   },
   "outputs": [],
   "source": [
    "sch = pa.schema([\n",
    "                    (\"date\",        pa.date32()),\n",
    "                    (\"time\",        pa.int16()),\n",
    "                    (\"cutoff\",      pa.timestamp(\"us\",\"UTC\")),\n",
    "                    (\"DUID\",        pa.string()),\n",
    "                    (\"mw\",          pa.decimal128(18, 4)),\n",
    "                    (\"price\",       pa.decimal128(18, 4)),\n",
    "               ])\n",
    "try:\n",
    "  DeltaTable(table_base_url+\"summary\",without_files =True)\n",
    "  print('summary exist already')\n",
    "except:\n",
    "  DeltaTable.create( table_base_url+\"summary\", schema=sch,mode=\"overwrite\",configuration = {\"delta.logRetentionDuration\": \"1 hours\" })"
   ]
  },
  {
   "cell_type": "code",
   "execution_count": null,
   "id": "27a393a5-1009-48a4-9697-70320fd12fdb",
   "metadata": {
    "jupyter": {
     "outputs_hidden": false,
     "source_hidden": true
    },
    "microsoft": {
     "language": "python",
     "language_group": "jupyter_python"
    },
    "nteract": {
     "transient": {
      "deleting": false
     }
    }
   },
   "outputs": [],
   "source": [
    "def get_max(tbl):\n",
    "    result = duckdb.sql(f\"\"\" SELECT  STRFTIME( max(cutoff), '%Y-%m-%d %H:%M:%S') FROM delta_scan('{tbl}') \"\"\").fetchone()[0]\n",
    "    return result if result is not None else '1900-01-01'"
   ]
  },
  {
   "cell_type": "code",
   "execution_count": null,
   "id": "af21959b-a306-4585-85ba-b6b5b32f2167",
   "metadata": {
    "jupyter": {
     "outputs_hidden": false,
     "source_hidden": false
    },
    "microsoft": {
     "language": "python",
     "language_group": "jupyter_python"
    },
    "nteract": {
     "transient": {
      "deleting": false
     }
    }
   },
   "outputs": [],
   "source": [
    "full_refresh_sql = f\"\"\"\n",
    "      CREATE OR REPLACE VIEW {schema}.scada AS SELECT * FROM delta_scan('{table_base_url}scada') where INTERVENTION = 0 and INITIALMW <> 0 ;\n",
    "      CREATE OR REPLACE VIEW {schema}.price AS SELECT * FROM delta_scan('{table_base_url}price') where INTERVENTION = 0;\n",
    "      select\n",
    "        s.date,\n",
    "        cast(strftime(s.SETTLEMENTDATE, '%H%M') AS INT16)                       as time ,\n",
    "        (select max(cast(settlementdate as TIMESTAMPTZ) ) from {schema}.scada)  as cutoff ,\n",
    "        s.DUID,\n",
    "        cast(max(s.INITIALMW) AS DECIMAL(18, 4))                                as mw,\n",
    "        cast(max(p.RRP) AS DECIMAL(18, 4))                                      as price\n",
    "      from  {schema}.scada   s\n",
    "            LEFT JOIN {schema}.duid d    ON s.DUID = d.DUID\n",
    "            LEFT JOIN {schema}.price   p ON s.SETTLEMENTDATE = p.SETTLEMENTDATE AND d.Region = p.REGIONID\n",
    "      where  s.settlementdate >= '2000-01-01'\n",
    "      group by all\n",
    "      order by  s.date, s.DUID, time,price\n",
    "    \"\"\""
   ]
  },
  {
   "cell_type": "code",
   "execution_count": null,
   "id": "536d901f-7d72-477a-87d3-aa3b98a1f2af",
   "metadata": {
    "jupyter": {
     "outputs_hidden": false,
     "source_hidden": false
    },
    "microsoft": {
     "language": "python",
     "language_group": "jupyter_python"
    },
    "nteract": {
     "transient": {
      "deleting": false
     }
    }
   },
   "outputs": [],
   "source": [
    "def Incremental_refresh(schema,max_timestamp):\n",
    "    return f\"\"\"\n",
    "      select\n",
    "        s.date,\n",
    "        cast(strftime(s.SETTLEMENTDATE, '%H%M') AS INT16)                                                                               as time ,\n",
    "        (select max(cast(settlementdate as TIMESTAMPTZ) ) from {schema}.scada_today where date  >= cast('{max_timestamp}' as date)   )  as cutoff ,\n",
    "        s.DUID,\n",
    "        CAST(max(s.INITIALMW) AS DECIMAL(18, 4))                                                                                         as mw,\n",
    "        CAST(max(p.RRP) AS DECIMAL(18, 4))                                                                                               as price\n",
    "      from\n",
    "        {schema}.scada_today  s\n",
    "        JOIN {schema}.duid        d ON s.DUID = d.DUID\n",
    "        JOIN (select * from {schema}.price_today where INTERVENTION  = 0 and date  >= cast('{max_timestamp}' as date)) p\n",
    "        ON s.SETTLEMENTDATE = p.SETTLEMENTDATE AND d.Region = p.REGIONID\n",
    "      where\n",
    "        s.INTERVENTION      = 0\n",
    "        and INITIALMW      <> 0\n",
    "        and s.settlementdate > '{max_timestamp}' and p.settlementdate > '{max_timestamp}'\n",
    "        and s.date           >= cast('{max_timestamp}' as date)\n",
    "      group by\n",
    "        all\n",
    "      order by s.date\n",
    "    \"\"\""
   ]
  },
  {
   "cell_type": "markdown",
   "id": "XRr_LskEkj9k",
   "metadata": {
    "id": "XRr_LskEkj9k"
   },
   "source": [
    "# Process Data"
   ]
  },
  {
   "cell_type": "code",
   "execution_count": null,
   "id": "4530b7d6-4118-4ca7-9e40-3facd2f444e8",
   "metadata": {
    "jupyter": {
     "outputs_hidden": false,
     "source_hidden": true
    },
    "microsoft": {
     "language": "python",
     "language_group": "jupyter_python"
    },
    "nteract": {
     "transient": {
      "deleting": false
     }
    }
   },
   "outputs": [],
   "source": [
    "Onelake_table = table_base_url+'duid'\n",
    "try:\n",
    "    dt =DeltaTable(Onelake_table)\n",
    "    print('duid loaded already')\n",
    "except:\n",
    "    get_duid(Onelake_table)"
   ]
  },
  {
   "cell_type": "code",
   "execution_count": null,
   "id": "5fafd822-a9bf-4e05-af90-c8738488dcc3",
   "metadata": {
    "jupyter": {
     "outputs_hidden": false,
     "source_hidden": true
    },
    "microsoft": {
     "language": "python",
     "language_group": "jupyter_python"
    },
    "nteract": {
     "transient": {
      "deleting": false
     }
    }
   },
   "outputs": [],
   "source": [
    "Onelake_table = table_base_url +'mstdatetime'\n",
    "try:\n",
    "    dt =DeltaTable(Onelake_table)\n",
    "    print('mstdatetime loaded already')\n",
    "except:\n",
    "    df=duckdb.sql(\"\"\" SELECT cast(unnest(generate_series(cast ('2018-04-01' as date), cast('2026-12-31' as date), interval 5 minute)) as TIMESTAMPTZ) as SETTLEMENTDATE,\n",
    "            strftime(SETTLEMENTDATE, '%I:%M:%S %p') as time,\n",
    "            cast(SETTLEMENTDATE as date ) as date,\n",
    "            EXTRACT(year from date) as year,\n",
    "            EXTRACT(month from date) as month\n",
    "            \"\"\").arrow()\n",
    "    write_deltalake(Onelake_table, df,mode=\"overwrite\",engine=engine)"
   ]
  },
  {
   "cell_type": "code",
   "execution_count": null,
   "id": "e31a5a9f-3b79-45e0-9354-d9d495ea95b2",
   "metadata": {
    "jupyter": {
     "outputs_hidden": false,
     "source_hidden": true
    },
    "microsoft": {
     "language": "python",
     "language_group": "jupyter_python"
    },
    "nteract": {
     "transient": {
      "deleting": false
     }
    }
   },
   "outputs": [],
   "source": [
    "Onelake_table = table_base_url+'calendar'\n",
    "try:\n",
    "    dt =DeltaTable(Onelake_table)\n",
    "    print('calendar loaded already')\n",
    "except:\n",
    "    df=duckdb.sql(\"\"\" SELECT cast(unnest(generate_series(cast ('2018-04-01' as date), cast('2026-12-31' as date), interval 1 day)) as date) as date,\n",
    "            EXTRACT(year from date) as year,\n",
    "            EXTRACT(month from date) as month\n",
    "            \"\"\").arrow()\n",
    "    write_deltalake(Onelake_table, df,mode=\"overwrite\",engine=engine )"
   ]
  },
  {
   "cell_type": "code",
   "execution_count": null,
   "id": "3355b189-4ece-4865-ad97-177755a88c70",
   "metadata": {
    "jupyter": {
     "outputs_hidden": false,
     "source_hidden": true
    },
    "microsoft": {
     "language": "python",
     "language_group": "jupyter_python"
    },
    "nteract": {
     "transient": {
      "deleting": false
     }
    }
   },
   "outputs": [],
   "source": [
    "Onelake_table = table_base_url +'mstime'\n",
    "try:\n",
    "    dt =DeltaTable(Onelake_table)\n",
    "    print('mstime loaded already')\n",
    "except:\n",
    "    xx=duckdb.sql(\"\"\" SELECT cast(unnest(generate_series(cast ('2018-04-01' as date), cast('2018-04-02' as date), interval 5 minute)) as TIMESTAMPTZ) as SETTLEMENTDATE,\n",
    "        strftime(SETTLEMENTDATE, '%I:%M:%S %p') as time,CAST(strftime(SETTLEMENTDATE, '%H%M') AS INT16) AS id  \"\"\")\n",
    "    df = duckdb.sql(\"\"\" select time, min(id) as id from xx group by time \"\"\").arrow()\n",
    "    write_deltalake(Onelake_table, df,mode=\"overwrite\",engine=engine )"
   ]
  },
  {
   "cell_type": "code",
   "execution_count": null,
   "id": "72d97ed4",
   "metadata": {
    "jupyter": {
     "source_hidden": false
    },
    "microsoft": {
     "language": "python",
     "language_group": "jupyter_python"
    }
   },
   "outputs": [],
   "source": [
    "fs = get_onelake_fs(f\"{ws}\")"
   ]
  },
  {
   "cell_type": "code",
   "execution_count": 25,
   "id": "37cc5783",
   "metadata": {
    "jupyter": {
     "source_hidden": false
    },
    "microsoft": {
     "language": "python",
     "language_group": "jupyter_python"
    }
   },
   "outputs": [
    {
     "ename": "KeyboardInterrupt",
     "evalue": "",
     "output_type": "error",
     "traceback": [
      "\u001b[1;31m---------------------------------------------------------------------------\u001b[0m",
      "\u001b[1;31mKeyboardInterrupt\u001b[0m                         Traceback (most recent call last)",
      "File \u001b[1;32m<timed exec>:8\u001b[0m\n",
      "Cell \u001b[1;32mIn[12], line 38\u001b[0m, in \u001b[0;36mupload_files\u001b[1;34m(file_system_client, local_folder, remote_directory, max_workers)\u001b[0m\n\u001b[0;32m     28\u001b[0m \u001b[38;5;28;01mdef\u001b[39;00m \u001b[38;5;21mupload_files\u001b[39m(file_system_client, local_folder, remote_directory, max_workers\u001b[38;5;241m=\u001b[39m\u001b[38;5;241m5\u001b[39m):\n\u001b[0;32m     29\u001b[0m \u001b[38;5;250m    \u001b[39m\u001b[38;5;124;03m\"\"\"\u001b[39;00m\n\u001b[0;32m     30\u001b[0m \u001b[38;5;124;03m    Upload a list of files to a remote directory in ADLS/OneLake using multi-threading.\u001b[39;00m\n\u001b[0;32m     31\u001b[0m \u001b[38;5;124;03m    \u001b[39;00m\n\u001b[1;32m   (...)\u001b[0m\n\u001b[0;32m     36\u001b[0m \u001b[38;5;124;03m        max_workers: Maximum number of threads to use for parallel uploads.\u001b[39;00m\n\u001b[0;32m     37\u001b[0m \u001b[38;5;124;03m    \"\"\"\u001b[39;00m\n\u001b[1;32m---> 38\u001b[0m     local_files \u001b[38;5;241m=\u001b[39m     \u001b[43mList_files_to_upload\u001b[49m\u001b[43m(\u001b[49m\u001b[43mfile_system_client\u001b[49m\u001b[43m,\u001b[49m\u001b[43mlocal_folder\u001b[49m\u001b[43m,\u001b[49m\u001b[43mremote_directory\u001b[49m\u001b[43m)\u001b[49m\n\u001b[0;32m     39\u001b[0m     \u001b[38;5;28;01mwith\u001b[39;00m ThreadPoolExecutor(max_workers\u001b[38;5;241m=\u001b[39mmax_workers) \u001b[38;5;28;01mas\u001b[39;00m executor:\n\u001b[0;32m     40\u001b[0m         \u001b[38;5;66;03m# Submit upload tasks to the thread pool\u001b[39;00m\n\u001b[0;32m     41\u001b[0m         futures \u001b[38;5;241m=\u001b[39m [\n\u001b[0;32m     42\u001b[0m             executor\u001b[38;5;241m.\u001b[39msubmit(upload_file, file_system_client, local_file, remote_directory)\n\u001b[0;32m     43\u001b[0m             \u001b[38;5;28;01mfor\u001b[39;00m local_file \u001b[38;5;129;01min\u001b[39;00m local_files\n\u001b[0;32m     44\u001b[0m         ]\n",
      "Cell \u001b[1;32mIn[11], line 4\u001b[0m, in \u001b[0;36mList_files_to_upload\u001b[1;34m(fs, local_folder, onelake_folder)\u001b[0m\n\u001b[0;32m      2\u001b[0m create_directory_if_not_exist(fs,onelake_folder)\n\u001b[0;32m      3\u001b[0m paths \u001b[38;5;241m=\u001b[39m fs\u001b[38;5;241m.\u001b[39mget_paths(path\u001b[38;5;241m=\u001b[39monelake_folder)\n\u001b[1;32m----> 4\u001b[0m onelake_files \u001b[38;5;241m=\u001b[39m \u001b[43m[\u001b[49m\u001b[43mos\u001b[49m\u001b[38;5;241;43m.\u001b[39;49m\u001b[43mpath\u001b[49m\u001b[38;5;241;43m.\u001b[39;49m\u001b[43mbasename\u001b[49m\u001b[43m(\u001b[49m\u001b[43mpath\u001b[49m\u001b[38;5;241;43m.\u001b[39;49m\u001b[43mname\u001b[49m\u001b[43m)\u001b[49m\u001b[43m \u001b[49m\u001b[38;5;28;43;01mfor\u001b[39;49;00m\u001b[43m \u001b[49m\u001b[43mpath\u001b[49m\u001b[43m \u001b[49m\u001b[38;5;129;43;01min\u001b[39;49;00m\u001b[43m \u001b[49m\u001b[43mpaths\u001b[49m\u001b[43m \u001b[49m\u001b[43m]\u001b[49m\n\u001b[0;32m      5\u001b[0m local_files\u001b[38;5;241m=\u001b[39m[os\u001b[38;5;241m.\u001b[39mpath\u001b[38;5;241m.\u001b[39mbasename(x) \u001b[38;5;28;01mfor\u001b[39;00m x \u001b[38;5;129;01min\u001b[39;00m glob\u001b[38;5;241m.\u001b[39mglob(local_folder\u001b[38;5;241m+\u001b[39m\u001b[38;5;124m'\u001b[39m\u001b[38;5;124m*.*\u001b[39m\u001b[38;5;124m'\u001b[39m)]\n\u001b[0;32m      6\u001b[0m filtes_to_upload  \u001b[38;5;241m=\u001b[39m \u001b[38;5;28mlist\u001b[39m(  \u001b[38;5;28mset\u001b[39m(local_files) \u001b[38;5;241m-\u001b[39m \u001b[38;5;28mset\u001b[39m(onelake_files))\n",
      "Cell \u001b[1;32mIn[11], line 4\u001b[0m, in \u001b[0;36m<listcomp>\u001b[1;34m(.0)\u001b[0m\n\u001b[0;32m      2\u001b[0m create_directory_if_not_exist(fs,onelake_folder)\n\u001b[0;32m      3\u001b[0m paths \u001b[38;5;241m=\u001b[39m fs\u001b[38;5;241m.\u001b[39mget_paths(path\u001b[38;5;241m=\u001b[39monelake_folder)\n\u001b[1;32m----> 4\u001b[0m onelake_files \u001b[38;5;241m=\u001b[39m \u001b[43m[\u001b[49m\u001b[43mos\u001b[49m\u001b[38;5;241;43m.\u001b[39;49m\u001b[43mpath\u001b[49m\u001b[38;5;241;43m.\u001b[39;49m\u001b[43mbasename\u001b[49m\u001b[43m(\u001b[49m\u001b[43mpath\u001b[49m\u001b[38;5;241;43m.\u001b[39;49m\u001b[43mname\u001b[49m\u001b[43m)\u001b[49m\u001b[43m \u001b[49m\u001b[38;5;28;43;01mfor\u001b[39;49;00m\u001b[43m \u001b[49m\u001b[43mpath\u001b[49m\u001b[43m \u001b[49m\u001b[38;5;129;43;01min\u001b[39;49;00m\u001b[43m \u001b[49m\u001b[43mpaths\u001b[49m\u001b[43m \u001b[49m\u001b[43m]\u001b[49m\n\u001b[0;32m      5\u001b[0m local_files\u001b[38;5;241m=\u001b[39m[os\u001b[38;5;241m.\u001b[39mpath\u001b[38;5;241m.\u001b[39mbasename(x) \u001b[38;5;28;01mfor\u001b[39;00m x \u001b[38;5;129;01min\u001b[39;00m glob\u001b[38;5;241m.\u001b[39mglob(local_folder\u001b[38;5;241m+\u001b[39m\u001b[38;5;124m'\u001b[39m\u001b[38;5;124m*.*\u001b[39m\u001b[38;5;124m'\u001b[39m)]\n\u001b[0;32m      6\u001b[0m filtes_to_upload  \u001b[38;5;241m=\u001b[39m \u001b[38;5;28mlist\u001b[39m(  \u001b[38;5;28mset\u001b[39m(local_files) \u001b[38;5;241m-\u001b[39m \u001b[38;5;28mset\u001b[39m(onelake_files))\n",
      "File \u001b[1;32m~\\AppData\\Local\\Packages\\PythonSoftwareFoundation.Python.3.11_qbz5n2kfra8p0\\LocalCache\\local-packages\\Python311\\site-packages\\azure\\core\\paging.py:123\u001b[0m, in \u001b[0;36mItemPaged.__next__\u001b[1;34m(self)\u001b[0m\n\u001b[0;32m    121\u001b[0m \u001b[38;5;28;01mif\u001b[39;00m \u001b[38;5;28mself\u001b[39m\u001b[38;5;241m.\u001b[39m_page_iterator \u001b[38;5;129;01mis\u001b[39;00m \u001b[38;5;28;01mNone\u001b[39;00m:\n\u001b[0;32m    122\u001b[0m     \u001b[38;5;28mself\u001b[39m\u001b[38;5;241m.\u001b[39m_page_iterator \u001b[38;5;241m=\u001b[39m itertools\u001b[38;5;241m.\u001b[39mchain\u001b[38;5;241m.\u001b[39mfrom_iterable(\u001b[38;5;28mself\u001b[39m\u001b[38;5;241m.\u001b[39mby_page())\n\u001b[1;32m--> 123\u001b[0m \u001b[38;5;28;01mreturn\u001b[39;00m \u001b[38;5;28mnext\u001b[39m(\u001b[38;5;28mself\u001b[39m\u001b[38;5;241m.\u001b[39m_page_iterator)\n",
      "File \u001b[1;32m~\\AppData\\Local\\Packages\\PythonSoftwareFoundation.Python.3.11_qbz5n2kfra8p0\\LocalCache\\local-packages\\Python311\\site-packages\\azure\\core\\paging.py:75\u001b[0m, in \u001b[0;36mPageIterator.__next__\u001b[1;34m(self)\u001b[0m\n\u001b[0;32m     73\u001b[0m     \u001b[38;5;28;01mraise\u001b[39;00m \u001b[38;5;167;01mStopIteration\u001b[39;00m(\u001b[38;5;124m\"\u001b[39m\u001b[38;5;124mEnd of paging\u001b[39m\u001b[38;5;124m\"\u001b[39m)\n\u001b[0;32m     74\u001b[0m \u001b[38;5;28;01mtry\u001b[39;00m:\n\u001b[1;32m---> 75\u001b[0m     \u001b[38;5;28mself\u001b[39m\u001b[38;5;241m.\u001b[39m_response \u001b[38;5;241m=\u001b[39m \u001b[38;5;28;43mself\u001b[39;49m\u001b[38;5;241;43m.\u001b[39;49m\u001b[43m_get_next\u001b[49m\u001b[43m(\u001b[49m\u001b[38;5;28;43mself\u001b[39;49m\u001b[38;5;241;43m.\u001b[39;49m\u001b[43mcontinuation_token\u001b[49m\u001b[43m)\u001b[49m\n\u001b[0;32m     76\u001b[0m \u001b[38;5;28;01mexcept\u001b[39;00m AzureError \u001b[38;5;28;01mas\u001b[39;00m error:\n\u001b[0;32m     77\u001b[0m     \u001b[38;5;28;01mif\u001b[39;00m \u001b[38;5;129;01mnot\u001b[39;00m error\u001b[38;5;241m.\u001b[39mcontinuation_token:\n",
      "File \u001b[1;32m~\\AppData\\Local\\Packages\\PythonSoftwareFoundation.Python.3.11_qbz5n2kfra8p0\\LocalCache\\local-packages\\Python311\\site-packages\\azure\\storage\\filedatalake\\_list_paths_helper.py:150\u001b[0m, in \u001b[0;36mPathPropertiesPaged._get_next_cb\u001b[1;34m(self, continuation_token)\u001b[0m\n\u001b[0;32m    148\u001b[0m \u001b[38;5;28;01mdef\u001b[39;00m \u001b[38;5;21m_get_next_cb\u001b[39m(\u001b[38;5;28mself\u001b[39m, continuation_token):\n\u001b[0;32m    149\u001b[0m     \u001b[38;5;28;01mtry\u001b[39;00m:\n\u001b[1;32m--> 150\u001b[0m         \u001b[38;5;28;01mreturn\u001b[39;00m \u001b[38;5;28;43mself\u001b[39;49m\u001b[38;5;241;43m.\u001b[39;49m\u001b[43m_command\u001b[49m\u001b[43m(\u001b[49m\n\u001b[0;32m    151\u001b[0m \u001b[43m            \u001b[49m\u001b[38;5;28;43mself\u001b[39;49m\u001b[38;5;241;43m.\u001b[39;49m\u001b[43mrecursive\u001b[49m\u001b[43m,\u001b[49m\n\u001b[0;32m    152\u001b[0m \u001b[43m            \u001b[49m\u001b[43mcontinuation\u001b[49m\u001b[38;5;241;43m=\u001b[39;49m\u001b[43mcontinuation_token\u001b[49m\u001b[43m \u001b[49m\u001b[38;5;129;43;01mor\u001b[39;49;00m\u001b[43m \u001b[49m\u001b[38;5;28;43;01mNone\u001b[39;49;00m\u001b[43m,\u001b[49m\n\u001b[0;32m    153\u001b[0m \u001b[43m            \u001b[49m\u001b[43mpath\u001b[49m\u001b[38;5;241;43m=\u001b[39;49m\u001b[38;5;28;43mself\u001b[39;49m\u001b[38;5;241;43m.\u001b[39;49m\u001b[43mpath\u001b[49m\u001b[43m,\u001b[49m\n\u001b[0;32m    154\u001b[0m \u001b[43m            \u001b[49m\u001b[43mmax_results\u001b[49m\u001b[38;5;241;43m=\u001b[39;49m\u001b[38;5;28;43mself\u001b[39;49m\u001b[38;5;241;43m.\u001b[39;49m\u001b[43mresults_per_page\u001b[49m\u001b[43m,\u001b[49m\n\u001b[0;32m    155\u001b[0m \u001b[43m            \u001b[49m\u001b[43mupn\u001b[49m\u001b[38;5;241;43m=\u001b[39;49m\u001b[38;5;28;43mself\u001b[39;49m\u001b[38;5;241;43m.\u001b[39;49m\u001b[43mupn\u001b[49m\u001b[43m,\u001b[49m\n\u001b[0;32m    156\u001b[0m \u001b[43m            \u001b[49m\u001b[38;5;28;43mcls\u001b[39;49m\u001b[38;5;241;43m=\u001b[39;49m\u001b[43mreturn_headers_and_deserialized_path_list\u001b[49m\u001b[43m)\u001b[49m\n\u001b[0;32m    157\u001b[0m     \u001b[38;5;28;01mexcept\u001b[39;00m HttpResponseError \u001b[38;5;28;01mas\u001b[39;00m error:\n\u001b[0;32m    158\u001b[0m         process_storage_error(error)\n",
      "File \u001b[1;32m~\\AppData\\Local\\Packages\\PythonSoftwareFoundation.Python.3.11_qbz5n2kfra8p0\\LocalCache\\local-packages\\Python311\\site-packages\\azure\\core\\tracing\\decorator.py:105\u001b[0m, in \u001b[0;36mdistributed_trace.<locals>.decorator.<locals>.wrapper_use_tracer\u001b[1;34m(*args, **kwargs)\u001b[0m\n\u001b[0;32m    103\u001b[0m span_impl_type \u001b[38;5;241m=\u001b[39m settings\u001b[38;5;241m.\u001b[39mtracing_implementation()\n\u001b[0;32m    104\u001b[0m \u001b[38;5;28;01mif\u001b[39;00m span_impl_type \u001b[38;5;129;01mis\u001b[39;00m \u001b[38;5;28;01mNone\u001b[39;00m:\n\u001b[1;32m--> 105\u001b[0m     \u001b[38;5;28;01mreturn\u001b[39;00m \u001b[43mfunc\u001b[49m\u001b[43m(\u001b[49m\u001b[38;5;241;43m*\u001b[39;49m\u001b[43margs\u001b[49m\u001b[43m,\u001b[49m\u001b[43m \u001b[49m\u001b[38;5;241;43m*\u001b[39;49m\u001b[38;5;241;43m*\u001b[39;49m\u001b[43mkwargs\u001b[49m\u001b[43m)\u001b[49m\n\u001b[0;32m    107\u001b[0m \u001b[38;5;66;03m# Merge span is parameter is set, but only if no explicit parent are passed\u001b[39;00m\n\u001b[0;32m    108\u001b[0m \u001b[38;5;28;01mif\u001b[39;00m merge_span \u001b[38;5;129;01mand\u001b[39;00m \u001b[38;5;129;01mnot\u001b[39;00m passed_in_parent:\n",
      "File \u001b[1;32m~\\AppData\\Local\\Packages\\PythonSoftwareFoundation.Python.3.11_qbz5n2kfra8p0\\LocalCache\\local-packages\\Python311\\site-packages\\azure\\storage\\filedatalake\\_generated\\operations\\_file_system_operations.py:746\u001b[0m, in \u001b[0;36mFileSystemOperations.list_paths\u001b[1;34m(self, recursive, request_id_parameter, timeout, continuation, path, max_results, upn, **kwargs)\u001b[0m\n\u001b[0;32m    743\u001b[0m _request\u001b[38;5;241m.\u001b[39murl \u001b[38;5;241m=\u001b[39m \u001b[38;5;28mself\u001b[39m\u001b[38;5;241m.\u001b[39m_client\u001b[38;5;241m.\u001b[39mformat_url(_request\u001b[38;5;241m.\u001b[39murl)\n\u001b[0;32m    745\u001b[0m _stream \u001b[38;5;241m=\u001b[39m \u001b[38;5;28;01mFalse\u001b[39;00m\n\u001b[1;32m--> 746\u001b[0m pipeline_response: PipelineResponse \u001b[38;5;241m=\u001b[39m \u001b[38;5;28;43mself\u001b[39;49m\u001b[38;5;241;43m.\u001b[39;49m\u001b[43m_client\u001b[49m\u001b[38;5;241;43m.\u001b[39;49m\u001b[43m_pipeline\u001b[49m\u001b[38;5;241;43m.\u001b[39;49m\u001b[43mrun\u001b[49m\u001b[43m(\u001b[49m\u001b[43m  \u001b[49m\u001b[38;5;66;43;03m# pylint: disable=protected-access\u001b[39;49;00m\n\u001b[0;32m    747\u001b[0m \u001b[43m    \u001b[49m\u001b[43m_request\u001b[49m\u001b[43m,\u001b[49m\u001b[43m \u001b[49m\u001b[43mstream\u001b[49m\u001b[38;5;241;43m=\u001b[39;49m\u001b[43m_stream\u001b[49m\u001b[43m,\u001b[49m\u001b[43m \u001b[49m\u001b[38;5;241;43m*\u001b[39;49m\u001b[38;5;241;43m*\u001b[39;49m\u001b[43mkwargs\u001b[49m\n\u001b[0;32m    748\u001b[0m \u001b[43m\u001b[49m\u001b[43m)\u001b[49m\n\u001b[0;32m    750\u001b[0m response \u001b[38;5;241m=\u001b[39m pipeline_response\u001b[38;5;241m.\u001b[39mhttp_response\n\u001b[0;32m    752\u001b[0m \u001b[38;5;28;01mif\u001b[39;00m response\u001b[38;5;241m.\u001b[39mstatus_code \u001b[38;5;129;01mnot\u001b[39;00m \u001b[38;5;129;01min\u001b[39;00m [\u001b[38;5;241m200\u001b[39m]:\n",
      "File \u001b[1;32m~\\AppData\\Local\\Packages\\PythonSoftwareFoundation.Python.3.11_qbz5n2kfra8p0\\LocalCache\\local-packages\\Python311\\site-packages\\azure\\core\\pipeline\\_base.py:240\u001b[0m, in \u001b[0;36mPipeline.run\u001b[1;34m(self, request, **kwargs)\u001b[0m\n\u001b[0;32m    238\u001b[0m pipeline_request: PipelineRequest[HTTPRequestType] \u001b[38;5;241m=\u001b[39m PipelineRequest(request, context)\n\u001b[0;32m    239\u001b[0m first_node \u001b[38;5;241m=\u001b[39m \u001b[38;5;28mself\u001b[39m\u001b[38;5;241m.\u001b[39m_impl_policies[\u001b[38;5;241m0\u001b[39m] \u001b[38;5;28;01mif\u001b[39;00m \u001b[38;5;28mself\u001b[39m\u001b[38;5;241m.\u001b[39m_impl_policies \u001b[38;5;28;01melse\u001b[39;00m _TransportRunner(\u001b[38;5;28mself\u001b[39m\u001b[38;5;241m.\u001b[39m_transport)\n\u001b[1;32m--> 240\u001b[0m \u001b[38;5;28;01mreturn\u001b[39;00m \u001b[43mfirst_node\u001b[49m\u001b[38;5;241;43m.\u001b[39;49m\u001b[43msend\u001b[49m\u001b[43m(\u001b[49m\u001b[43mpipeline_request\u001b[49m\u001b[43m)\u001b[49m\n",
      "File \u001b[1;32m~\\AppData\\Local\\Packages\\PythonSoftwareFoundation.Python.3.11_qbz5n2kfra8p0\\LocalCache\\local-packages\\Python311\\site-packages\\azure\\core\\pipeline\\_base.py:96\u001b[0m, in \u001b[0;36m_SansIOHTTPPolicyRunner.send\u001b[1;34m(self, request)\u001b[0m\n\u001b[0;32m     94\u001b[0m _await_result(\u001b[38;5;28mself\u001b[39m\u001b[38;5;241m.\u001b[39m_policy\u001b[38;5;241m.\u001b[39mon_request, request)\n\u001b[0;32m     95\u001b[0m \u001b[38;5;28;01mtry\u001b[39;00m:\n\u001b[1;32m---> 96\u001b[0m     response \u001b[38;5;241m=\u001b[39m \u001b[38;5;28;43mself\u001b[39;49m\u001b[38;5;241;43m.\u001b[39;49m\u001b[43mnext\u001b[49m\u001b[38;5;241;43m.\u001b[39;49m\u001b[43msend\u001b[49m\u001b[43m(\u001b[49m\u001b[43mrequest\u001b[49m\u001b[43m)\u001b[49m\n\u001b[0;32m     97\u001b[0m \u001b[38;5;28;01mexcept\u001b[39;00m \u001b[38;5;167;01mException\u001b[39;00m:\n\u001b[0;32m     98\u001b[0m     _await_result(\u001b[38;5;28mself\u001b[39m\u001b[38;5;241m.\u001b[39m_policy\u001b[38;5;241m.\u001b[39mon_exception, request)\n",
      "File \u001b[1;32m~\\AppData\\Local\\Packages\\PythonSoftwareFoundation.Python.3.11_qbz5n2kfra8p0\\LocalCache\\local-packages\\Python311\\site-packages\\azure\\core\\pipeline\\_base.py:96\u001b[0m, in \u001b[0;36m_SansIOHTTPPolicyRunner.send\u001b[1;34m(self, request)\u001b[0m\n\u001b[0;32m     94\u001b[0m _await_result(\u001b[38;5;28mself\u001b[39m\u001b[38;5;241m.\u001b[39m_policy\u001b[38;5;241m.\u001b[39mon_request, request)\n\u001b[0;32m     95\u001b[0m \u001b[38;5;28;01mtry\u001b[39;00m:\n\u001b[1;32m---> 96\u001b[0m     response \u001b[38;5;241m=\u001b[39m \u001b[38;5;28;43mself\u001b[39;49m\u001b[38;5;241;43m.\u001b[39;49m\u001b[43mnext\u001b[49m\u001b[38;5;241;43m.\u001b[39;49m\u001b[43msend\u001b[49m\u001b[43m(\u001b[49m\u001b[43mrequest\u001b[49m\u001b[43m)\u001b[49m\n\u001b[0;32m     97\u001b[0m \u001b[38;5;28;01mexcept\u001b[39;00m \u001b[38;5;167;01mException\u001b[39;00m:\n\u001b[0;32m     98\u001b[0m     _await_result(\u001b[38;5;28mself\u001b[39m\u001b[38;5;241m.\u001b[39m_policy\u001b[38;5;241m.\u001b[39mon_exception, request)\n",
      "    \u001b[1;31m[... skipping similar frames: _SansIOHTTPPolicyRunner.send at line 96 (2 times)]\u001b[0m\n",
      "File \u001b[1;32m~\\AppData\\Local\\Packages\\PythonSoftwareFoundation.Python.3.11_qbz5n2kfra8p0\\LocalCache\\local-packages\\Python311\\site-packages\\azure\\core\\pipeline\\_base.py:96\u001b[0m, in \u001b[0;36m_SansIOHTTPPolicyRunner.send\u001b[1;34m(self, request)\u001b[0m\n\u001b[0;32m     94\u001b[0m _await_result(\u001b[38;5;28mself\u001b[39m\u001b[38;5;241m.\u001b[39m_policy\u001b[38;5;241m.\u001b[39mon_request, request)\n\u001b[0;32m     95\u001b[0m \u001b[38;5;28;01mtry\u001b[39;00m:\n\u001b[1;32m---> 96\u001b[0m     response \u001b[38;5;241m=\u001b[39m \u001b[38;5;28;43mself\u001b[39;49m\u001b[38;5;241;43m.\u001b[39;49m\u001b[43mnext\u001b[49m\u001b[38;5;241;43m.\u001b[39;49m\u001b[43msend\u001b[49m\u001b[43m(\u001b[49m\u001b[43mrequest\u001b[49m\u001b[43m)\u001b[49m\n\u001b[0;32m     97\u001b[0m \u001b[38;5;28;01mexcept\u001b[39;00m \u001b[38;5;167;01mException\u001b[39;00m:\n\u001b[0;32m     98\u001b[0m     _await_result(\u001b[38;5;28mself\u001b[39m\u001b[38;5;241m.\u001b[39m_policy\u001b[38;5;241m.\u001b[39mon_exception, request)\n",
      "File \u001b[1;32m~\\AppData\\Local\\Packages\\PythonSoftwareFoundation.Python.3.11_qbz5n2kfra8p0\\LocalCache\\local-packages\\Python311\\site-packages\\azure\\core\\pipeline\\policies\\_redirect.py:204\u001b[0m, in \u001b[0;36mRedirectPolicy.send\u001b[1;34m(self, request)\u001b[0m\n\u001b[0;32m    202\u001b[0m original_domain \u001b[38;5;241m=\u001b[39m get_domain(request\u001b[38;5;241m.\u001b[39mhttp_request\u001b[38;5;241m.\u001b[39murl) \u001b[38;5;28;01mif\u001b[39;00m redirect_settings[\u001b[38;5;124m\"\u001b[39m\u001b[38;5;124mallow\u001b[39m\u001b[38;5;124m\"\u001b[39m] \u001b[38;5;28;01melse\u001b[39;00m \u001b[38;5;28;01mNone\u001b[39;00m\n\u001b[0;32m    203\u001b[0m \u001b[38;5;28;01mwhile\u001b[39;00m retryable:\n\u001b[1;32m--> 204\u001b[0m     response \u001b[38;5;241m=\u001b[39m \u001b[38;5;28;43mself\u001b[39;49m\u001b[38;5;241;43m.\u001b[39;49m\u001b[43mnext\u001b[49m\u001b[38;5;241;43m.\u001b[39;49m\u001b[43msend\u001b[49m\u001b[43m(\u001b[49m\u001b[43mrequest\u001b[49m\u001b[43m)\u001b[49m\n\u001b[0;32m    205\u001b[0m     redirect_location \u001b[38;5;241m=\u001b[39m \u001b[38;5;28mself\u001b[39m\u001b[38;5;241m.\u001b[39mget_redirect_location(response)\n\u001b[0;32m    206\u001b[0m     \u001b[38;5;28;01mif\u001b[39;00m redirect_location \u001b[38;5;129;01mand\u001b[39;00m redirect_settings[\u001b[38;5;124m\"\u001b[39m\u001b[38;5;124mallow\u001b[39m\u001b[38;5;124m\"\u001b[39m]:\n",
      "File \u001b[1;32m~\\AppData\\Local\\Packages\\PythonSoftwareFoundation.Python.3.11_qbz5n2kfra8p0\\LocalCache\\local-packages\\Python311\\site-packages\\azure\\core\\pipeline\\_base.py:96\u001b[0m, in \u001b[0;36m_SansIOHTTPPolicyRunner.send\u001b[1;34m(self, request)\u001b[0m\n\u001b[0;32m     94\u001b[0m _await_result(\u001b[38;5;28mself\u001b[39m\u001b[38;5;241m.\u001b[39m_policy\u001b[38;5;241m.\u001b[39mon_request, request)\n\u001b[0;32m     95\u001b[0m \u001b[38;5;28;01mtry\u001b[39;00m:\n\u001b[1;32m---> 96\u001b[0m     response \u001b[38;5;241m=\u001b[39m \u001b[38;5;28;43mself\u001b[39;49m\u001b[38;5;241;43m.\u001b[39;49m\u001b[43mnext\u001b[49m\u001b[38;5;241;43m.\u001b[39;49m\u001b[43msend\u001b[49m\u001b[43m(\u001b[49m\u001b[43mrequest\u001b[49m\u001b[43m)\u001b[49m\n\u001b[0;32m     97\u001b[0m \u001b[38;5;28;01mexcept\u001b[39;00m \u001b[38;5;167;01mException\u001b[39;00m:\n\u001b[0;32m     98\u001b[0m     _await_result(\u001b[38;5;28mself\u001b[39m\u001b[38;5;241m.\u001b[39m_policy\u001b[38;5;241m.\u001b[39mon_exception, request)\n",
      "File \u001b[1;32m~\\AppData\\Local\\Packages\\PythonSoftwareFoundation.Python.3.11_qbz5n2kfra8p0\\LocalCache\\local-packages\\Python311\\site-packages\\azure\\storage\\filedatalake\\_shared\\policies.py:527\u001b[0m, in \u001b[0;36mStorageRetryPolicy.send\u001b[1;34m(self, request)\u001b[0m\n\u001b[0;32m    525\u001b[0m \u001b[38;5;28;01mwhile\u001b[39;00m retries_remaining:\n\u001b[0;32m    526\u001b[0m     \u001b[38;5;28;01mtry\u001b[39;00m:\n\u001b[1;32m--> 527\u001b[0m         response \u001b[38;5;241m=\u001b[39m \u001b[38;5;28;43mself\u001b[39;49m\u001b[38;5;241;43m.\u001b[39;49m\u001b[43mnext\u001b[49m\u001b[38;5;241;43m.\u001b[39;49m\u001b[43msend\u001b[49m\u001b[43m(\u001b[49m\u001b[43mrequest\u001b[49m\u001b[43m)\u001b[49m\n\u001b[0;32m    528\u001b[0m         \u001b[38;5;28;01mif\u001b[39;00m is_retry(response, retry_settings[\u001b[38;5;124m'\u001b[39m\u001b[38;5;124mmode\u001b[39m\u001b[38;5;124m'\u001b[39m]) \u001b[38;5;129;01mor\u001b[39;00m is_checksum_retry(response):\n\u001b[0;32m    529\u001b[0m             retries_remaining \u001b[38;5;241m=\u001b[39m \u001b[38;5;28mself\u001b[39m\u001b[38;5;241m.\u001b[39mincrement(\n\u001b[0;32m    530\u001b[0m                 retry_settings,\n\u001b[0;32m    531\u001b[0m                 request\u001b[38;5;241m=\u001b[39mrequest\u001b[38;5;241m.\u001b[39mhttp_request,\n\u001b[0;32m    532\u001b[0m                 response\u001b[38;5;241m=\u001b[39mresponse\u001b[38;5;241m.\u001b[39mhttp_response)\n",
      "File \u001b[1;32m~\\AppData\\Local\\Packages\\PythonSoftwareFoundation.Python.3.11_qbz5n2kfra8p0\\LocalCache\\local-packages\\Python311\\site-packages\\azure\\core\\pipeline\\_base.py:96\u001b[0m, in \u001b[0;36m_SansIOHTTPPolicyRunner.send\u001b[1;34m(self, request)\u001b[0m\n\u001b[0;32m     94\u001b[0m _await_result(\u001b[38;5;28mself\u001b[39m\u001b[38;5;241m.\u001b[39m_policy\u001b[38;5;241m.\u001b[39mon_request, request)\n\u001b[0;32m     95\u001b[0m \u001b[38;5;28;01mtry\u001b[39;00m:\n\u001b[1;32m---> 96\u001b[0m     response \u001b[38;5;241m=\u001b[39m \u001b[38;5;28;43mself\u001b[39;49m\u001b[38;5;241;43m.\u001b[39;49m\u001b[43mnext\u001b[49m\u001b[38;5;241;43m.\u001b[39;49m\u001b[43msend\u001b[49m\u001b[43m(\u001b[49m\u001b[43mrequest\u001b[49m\u001b[43m)\u001b[49m\n\u001b[0;32m     97\u001b[0m \u001b[38;5;28;01mexcept\u001b[39;00m \u001b[38;5;167;01mException\u001b[39;00m:\n\u001b[0;32m     98\u001b[0m     _await_result(\u001b[38;5;28mself\u001b[39m\u001b[38;5;241m.\u001b[39m_policy\u001b[38;5;241m.\u001b[39mon_exception, request)\n",
      "File \u001b[1;32m~\\AppData\\Local\\Packages\\PythonSoftwareFoundation.Python.3.11_qbz5n2kfra8p0\\LocalCache\\local-packages\\Python311\\site-packages\\azure\\core\\pipeline\\_base.py:96\u001b[0m, in \u001b[0;36m_SansIOHTTPPolicyRunner.send\u001b[1;34m(self, request)\u001b[0m\n\u001b[0;32m     94\u001b[0m _await_result(\u001b[38;5;28mself\u001b[39m\u001b[38;5;241m.\u001b[39m_policy\u001b[38;5;241m.\u001b[39mon_request, request)\n\u001b[0;32m     95\u001b[0m \u001b[38;5;28;01mtry\u001b[39;00m:\n\u001b[1;32m---> 96\u001b[0m     response \u001b[38;5;241m=\u001b[39m \u001b[38;5;28;43mself\u001b[39;49m\u001b[38;5;241;43m.\u001b[39;49m\u001b[43mnext\u001b[49m\u001b[38;5;241;43m.\u001b[39;49m\u001b[43msend\u001b[49m\u001b[43m(\u001b[49m\u001b[43mrequest\u001b[49m\u001b[43m)\u001b[49m\n\u001b[0;32m     97\u001b[0m \u001b[38;5;28;01mexcept\u001b[39;00m \u001b[38;5;167;01mException\u001b[39;00m:\n\u001b[0;32m     98\u001b[0m     _await_result(\u001b[38;5;28mself\u001b[39m\u001b[38;5;241m.\u001b[39m_policy\u001b[38;5;241m.\u001b[39mon_exception, request)\n",
      "File \u001b[1;32m~\\AppData\\Local\\Packages\\PythonSoftwareFoundation.Python.3.11_qbz5n2kfra8p0\\LocalCache\\local-packages\\Python311\\site-packages\\azure\\core\\pipeline\\policies\\_authentication.py:159\u001b[0m, in \u001b[0;36mBearerTokenCredentialPolicy.send\u001b[1;34m(self, request)\u001b[0m\n\u001b[0;32m    157\u001b[0m \u001b[38;5;28mself\u001b[39m\u001b[38;5;241m.\u001b[39mon_request(request)\n\u001b[0;32m    158\u001b[0m \u001b[38;5;28;01mtry\u001b[39;00m:\n\u001b[1;32m--> 159\u001b[0m     response \u001b[38;5;241m=\u001b[39m \u001b[38;5;28;43mself\u001b[39;49m\u001b[38;5;241;43m.\u001b[39;49m\u001b[43mnext\u001b[49m\u001b[38;5;241;43m.\u001b[39;49m\u001b[43msend\u001b[49m\u001b[43m(\u001b[49m\u001b[43mrequest\u001b[49m\u001b[43m)\u001b[49m\n\u001b[0;32m    160\u001b[0m \u001b[38;5;28;01mexcept\u001b[39;00m \u001b[38;5;167;01mException\u001b[39;00m:\n\u001b[0;32m    161\u001b[0m     \u001b[38;5;28mself\u001b[39m\u001b[38;5;241m.\u001b[39mon_exception(request)\n",
      "File \u001b[1;32m~\\AppData\\Local\\Packages\\PythonSoftwareFoundation.Python.3.11_qbz5n2kfra8p0\\LocalCache\\local-packages\\Python311\\site-packages\\azure\\core\\pipeline\\_base.py:96\u001b[0m, in \u001b[0;36m_SansIOHTTPPolicyRunner.send\u001b[1;34m(self, request)\u001b[0m\n\u001b[0;32m     94\u001b[0m _await_result(\u001b[38;5;28mself\u001b[39m\u001b[38;5;241m.\u001b[39m_policy\u001b[38;5;241m.\u001b[39mon_request, request)\n\u001b[0;32m     95\u001b[0m \u001b[38;5;28;01mtry\u001b[39;00m:\n\u001b[1;32m---> 96\u001b[0m     response \u001b[38;5;241m=\u001b[39m \u001b[38;5;28;43mself\u001b[39;49m\u001b[38;5;241;43m.\u001b[39;49m\u001b[43mnext\u001b[49m\u001b[38;5;241;43m.\u001b[39;49m\u001b[43msend\u001b[49m\u001b[43m(\u001b[49m\u001b[43mrequest\u001b[49m\u001b[43m)\u001b[49m\n\u001b[0;32m     97\u001b[0m \u001b[38;5;28;01mexcept\u001b[39;00m \u001b[38;5;167;01mException\u001b[39;00m:\n\u001b[0;32m     98\u001b[0m     _await_result(\u001b[38;5;28mself\u001b[39m\u001b[38;5;241m.\u001b[39m_policy\u001b[38;5;241m.\u001b[39mon_exception, request)\n",
      "File \u001b[1;32m~\\AppData\\Local\\Packages\\PythonSoftwareFoundation.Python.3.11_qbz5n2kfra8p0\\LocalCache\\local-packages\\Python311\\site-packages\\azure\\storage\\filedatalake\\_shared\\policies.py:301\u001b[0m, in \u001b[0;36mStorageResponseHook.send\u001b[1;34m(self, request)\u001b[0m\n\u001b[0;32m    296\u001b[0m     upload_stream_current \u001b[38;5;241m=\u001b[39m request\u001b[38;5;241m.\u001b[39mcontext\u001b[38;5;241m.\u001b[39moptions\u001b[38;5;241m.\u001b[39mpop(\u001b[38;5;124m'\u001b[39m\u001b[38;5;124mupload_stream_current\u001b[39m\u001b[38;5;124m'\u001b[39m, \u001b[38;5;28;01mNone\u001b[39;00m)\n\u001b[0;32m    298\u001b[0m response_callback \u001b[38;5;241m=\u001b[39m request\u001b[38;5;241m.\u001b[39mcontext\u001b[38;5;241m.\u001b[39mget(\u001b[38;5;124m'\u001b[39m\u001b[38;5;124mresponse_callback\u001b[39m\u001b[38;5;124m'\u001b[39m) \u001b[38;5;129;01mor\u001b[39;00m \\\n\u001b[0;32m    299\u001b[0m     request\u001b[38;5;241m.\u001b[39mcontext\u001b[38;5;241m.\u001b[39moptions\u001b[38;5;241m.\u001b[39mpop(\u001b[38;5;124m'\u001b[39m\u001b[38;5;124mraw_response_hook\u001b[39m\u001b[38;5;124m'\u001b[39m, \u001b[38;5;28mself\u001b[39m\u001b[38;5;241m.\u001b[39m_response_callback)\n\u001b[1;32m--> 301\u001b[0m response \u001b[38;5;241m=\u001b[39m \u001b[38;5;28;43mself\u001b[39;49m\u001b[38;5;241;43m.\u001b[39;49m\u001b[43mnext\u001b[49m\u001b[38;5;241;43m.\u001b[39;49m\u001b[43msend\u001b[49m\u001b[43m(\u001b[49m\u001b[43mrequest\u001b[49m\u001b[43m)\u001b[49m\n\u001b[0;32m    303\u001b[0m will_retry \u001b[38;5;241m=\u001b[39m is_retry(response, request\u001b[38;5;241m.\u001b[39mcontext\u001b[38;5;241m.\u001b[39moptions\u001b[38;5;241m.\u001b[39mget(\u001b[38;5;124m'\u001b[39m\u001b[38;5;124mmode\u001b[39m\u001b[38;5;124m'\u001b[39m)) \u001b[38;5;129;01mor\u001b[39;00m is_checksum_retry(response)\n\u001b[0;32m    304\u001b[0m \u001b[38;5;66;03m# Auth error could come from Bearer challenge, in which case this request will be made again\u001b[39;00m\n",
      "File \u001b[1;32m~\\AppData\\Local\\Packages\\PythonSoftwareFoundation.Python.3.11_qbz5n2kfra8p0\\LocalCache\\local-packages\\Python311\\site-packages\\azure\\core\\pipeline\\_base.py:96\u001b[0m, in \u001b[0;36m_SansIOHTTPPolicyRunner.send\u001b[1;34m(self, request)\u001b[0m\n\u001b[0;32m     94\u001b[0m _await_result(\u001b[38;5;28mself\u001b[39m\u001b[38;5;241m.\u001b[39m_policy\u001b[38;5;241m.\u001b[39mon_request, request)\n\u001b[0;32m     95\u001b[0m \u001b[38;5;28;01mtry\u001b[39;00m:\n\u001b[1;32m---> 96\u001b[0m     response \u001b[38;5;241m=\u001b[39m \u001b[38;5;28;43mself\u001b[39;49m\u001b[38;5;241;43m.\u001b[39;49m\u001b[43mnext\u001b[49m\u001b[38;5;241;43m.\u001b[39;49m\u001b[43msend\u001b[49m\u001b[43m(\u001b[49m\u001b[43mrequest\u001b[49m\u001b[43m)\u001b[49m\n\u001b[0;32m     97\u001b[0m \u001b[38;5;28;01mexcept\u001b[39;00m \u001b[38;5;167;01mException\u001b[39;00m:\n\u001b[0;32m     98\u001b[0m     _await_result(\u001b[38;5;28mself\u001b[39m\u001b[38;5;241m.\u001b[39m_policy\u001b[38;5;241m.\u001b[39mon_exception, request)\n",
      "File \u001b[1;32m~\\AppData\\Local\\Packages\\PythonSoftwareFoundation.Python.3.11_qbz5n2kfra8p0\\LocalCache\\local-packages\\Python311\\site-packages\\azure\\core\\pipeline\\_base.py:96\u001b[0m, in \u001b[0;36m_SansIOHTTPPolicyRunner.send\u001b[1;34m(self, request)\u001b[0m\n\u001b[0;32m     94\u001b[0m _await_result(\u001b[38;5;28mself\u001b[39m\u001b[38;5;241m.\u001b[39m_policy\u001b[38;5;241m.\u001b[39mon_request, request)\n\u001b[0;32m     95\u001b[0m \u001b[38;5;28;01mtry\u001b[39;00m:\n\u001b[1;32m---> 96\u001b[0m     response \u001b[38;5;241m=\u001b[39m \u001b[38;5;28;43mself\u001b[39;49m\u001b[38;5;241;43m.\u001b[39;49m\u001b[43mnext\u001b[49m\u001b[38;5;241;43m.\u001b[39;49m\u001b[43msend\u001b[49m\u001b[43m(\u001b[49m\u001b[43mrequest\u001b[49m\u001b[43m)\u001b[49m\n\u001b[0;32m     97\u001b[0m \u001b[38;5;28;01mexcept\u001b[39;00m \u001b[38;5;167;01mException\u001b[39;00m:\n\u001b[0;32m     98\u001b[0m     _await_result(\u001b[38;5;28mself\u001b[39m\u001b[38;5;241m.\u001b[39m_policy\u001b[38;5;241m.\u001b[39mon_exception, request)\n",
      "File \u001b[1;32m~\\AppData\\Local\\Packages\\PythonSoftwareFoundation.Python.3.11_qbz5n2kfra8p0\\LocalCache\\local-packages\\Python311\\site-packages\\azure\\core\\pipeline\\_base.py:128\u001b[0m, in \u001b[0;36m_TransportRunner.send\u001b[1;34m(self, request)\u001b[0m\n\u001b[0;32m    118\u001b[0m \u001b[38;5;250m\u001b[39m\u001b[38;5;124;03m\"\"\"HTTP transport send method.\u001b[39;00m\n\u001b[0;32m    119\u001b[0m \n\u001b[0;32m    120\u001b[0m \u001b[38;5;124;03m:param request: The PipelineRequest object.\u001b[39;00m\n\u001b[1;32m   (...)\u001b[0m\n\u001b[0;32m    123\u001b[0m \u001b[38;5;124;03m:rtype: ~azure.core.pipeline.PipelineResponse\u001b[39;00m\n\u001b[0;32m    124\u001b[0m \u001b[38;5;124;03m\"\"\"\u001b[39;00m\n\u001b[0;32m    125\u001b[0m cleanup_kwargs_for_transport(request\u001b[38;5;241m.\u001b[39mcontext\u001b[38;5;241m.\u001b[39moptions)\n\u001b[0;32m    126\u001b[0m \u001b[38;5;28;01mreturn\u001b[39;00m PipelineResponse(\n\u001b[0;32m    127\u001b[0m     request\u001b[38;5;241m.\u001b[39mhttp_request,\n\u001b[1;32m--> 128\u001b[0m     \u001b[38;5;28;43mself\u001b[39;49m\u001b[38;5;241;43m.\u001b[39;49m\u001b[43m_sender\u001b[49m\u001b[38;5;241;43m.\u001b[39;49m\u001b[43msend\u001b[49m\u001b[43m(\u001b[49m\u001b[43mrequest\u001b[49m\u001b[38;5;241;43m.\u001b[39;49m\u001b[43mhttp_request\u001b[49m\u001b[43m,\u001b[49m\u001b[43m \u001b[49m\u001b[38;5;241;43m*\u001b[39;49m\u001b[38;5;241;43m*\u001b[39;49m\u001b[43mrequest\u001b[49m\u001b[38;5;241;43m.\u001b[39;49m\u001b[43mcontext\u001b[49m\u001b[38;5;241;43m.\u001b[39;49m\u001b[43moptions\u001b[49m\u001b[43m)\u001b[49m,\n\u001b[0;32m    129\u001b[0m     context\u001b[38;5;241m=\u001b[39mrequest\u001b[38;5;241m.\u001b[39mcontext,\n\u001b[0;32m    130\u001b[0m )\n",
      "File \u001b[1;32m~\\AppData\\Local\\Packages\\PythonSoftwareFoundation.Python.3.11_qbz5n2kfra8p0\\LocalCache\\local-packages\\Python311\\site-packages\\azure\\storage\\filedatalake\\_shared\\base_client.py:350\u001b[0m, in \u001b[0;36mTransportWrapper.send\u001b[1;34m(self, request, **kwargs)\u001b[0m\n\u001b[0;32m    349\u001b[0m \u001b[38;5;28;01mdef\u001b[39;00m \u001b[38;5;21msend\u001b[39m(\u001b[38;5;28mself\u001b[39m, request, \u001b[38;5;241m*\u001b[39m\u001b[38;5;241m*\u001b[39mkwargs):\n\u001b[1;32m--> 350\u001b[0m     \u001b[38;5;28;01mreturn\u001b[39;00m \u001b[38;5;28;43mself\u001b[39;49m\u001b[38;5;241;43m.\u001b[39;49m\u001b[43m_transport\u001b[49m\u001b[38;5;241;43m.\u001b[39;49m\u001b[43msend\u001b[49m\u001b[43m(\u001b[49m\u001b[43mrequest\u001b[49m\u001b[43m,\u001b[49m\u001b[43m \u001b[49m\u001b[38;5;241;43m*\u001b[39;49m\u001b[38;5;241;43m*\u001b[39;49m\u001b[43mkwargs\u001b[49m\u001b[43m)\u001b[49m\n",
      "File \u001b[1;32m~\\AppData\\Local\\Packages\\PythonSoftwareFoundation.Python.3.11_qbz5n2kfra8p0\\LocalCache\\local-packages\\Python311\\site-packages\\azure\\storage\\filedatalake\\_shared\\base_client.py:350\u001b[0m, in \u001b[0;36mTransportWrapper.send\u001b[1;34m(self, request, **kwargs)\u001b[0m\n\u001b[0;32m    349\u001b[0m \u001b[38;5;28;01mdef\u001b[39;00m \u001b[38;5;21msend\u001b[39m(\u001b[38;5;28mself\u001b[39m, request, \u001b[38;5;241m*\u001b[39m\u001b[38;5;241m*\u001b[39mkwargs):\n\u001b[1;32m--> 350\u001b[0m     \u001b[38;5;28;01mreturn\u001b[39;00m \u001b[38;5;28;43mself\u001b[39;49m\u001b[38;5;241;43m.\u001b[39;49m\u001b[43m_transport\u001b[49m\u001b[38;5;241;43m.\u001b[39;49m\u001b[43msend\u001b[49m\u001b[43m(\u001b[49m\u001b[43mrequest\u001b[49m\u001b[43m,\u001b[49m\u001b[43m \u001b[49m\u001b[38;5;241;43m*\u001b[39;49m\u001b[38;5;241;43m*\u001b[39;49m\u001b[43mkwargs\u001b[49m\u001b[43m)\u001b[49m\n",
      "File \u001b[1;32m~\\AppData\\Local\\Packages\\PythonSoftwareFoundation.Python.3.11_qbz5n2kfra8p0\\LocalCache\\local-packages\\Python311\\site-packages\\azure\\core\\pipeline\\transport\\_requests_basic.py:363\u001b[0m, in \u001b[0;36mRequestsTransport.send\u001b[1;34m(self, request, proxies, **kwargs)\u001b[0m\n\u001b[0;32m    361\u001b[0m         read_timeout \u001b[38;5;241m=\u001b[39m kwargs\u001b[38;5;241m.\u001b[39mpop(\u001b[38;5;124m\"\u001b[39m\u001b[38;5;124mread_timeout\u001b[39m\u001b[38;5;124m\"\u001b[39m, \u001b[38;5;28mself\u001b[39m\u001b[38;5;241m.\u001b[39mconnection_config\u001b[38;5;241m.\u001b[39mread_timeout)\n\u001b[0;32m    362\u001b[0m         timeout \u001b[38;5;241m=\u001b[39m (connection_timeout, read_timeout)\n\u001b[1;32m--> 363\u001b[0m     response \u001b[38;5;241m=\u001b[39m \u001b[38;5;28;43mself\u001b[39;49m\u001b[38;5;241;43m.\u001b[39;49m\u001b[43msession\u001b[49m\u001b[38;5;241;43m.\u001b[39;49m\u001b[43mrequest\u001b[49m\u001b[43m(\u001b[49m\u001b[43m  \u001b[49m\u001b[38;5;66;43;03m# type: ignore\u001b[39;49;00m\n\u001b[0;32m    364\u001b[0m \u001b[43m        \u001b[49m\u001b[43mrequest\u001b[49m\u001b[38;5;241;43m.\u001b[39;49m\u001b[43mmethod\u001b[49m\u001b[43m,\u001b[49m\n\u001b[0;32m    365\u001b[0m \u001b[43m        \u001b[49m\u001b[43mrequest\u001b[49m\u001b[38;5;241;43m.\u001b[39;49m\u001b[43murl\u001b[49m\u001b[43m,\u001b[49m\n\u001b[0;32m    366\u001b[0m \u001b[43m        \u001b[49m\u001b[43mheaders\u001b[49m\u001b[38;5;241;43m=\u001b[39;49m\u001b[43mrequest\u001b[49m\u001b[38;5;241;43m.\u001b[39;49m\u001b[43mheaders\u001b[49m\u001b[43m,\u001b[49m\n\u001b[0;32m    367\u001b[0m \u001b[43m        \u001b[49m\u001b[43mdata\u001b[49m\u001b[38;5;241;43m=\u001b[39;49m\u001b[43mrequest\u001b[49m\u001b[38;5;241;43m.\u001b[39;49m\u001b[43mdata\u001b[49m\u001b[43m,\u001b[49m\n\u001b[0;32m    368\u001b[0m \u001b[43m        \u001b[49m\u001b[43mfiles\u001b[49m\u001b[38;5;241;43m=\u001b[39;49m\u001b[43mrequest\u001b[49m\u001b[38;5;241;43m.\u001b[39;49m\u001b[43mfiles\u001b[49m\u001b[43m,\u001b[49m\n\u001b[0;32m    369\u001b[0m \u001b[43m        \u001b[49m\u001b[43mverify\u001b[49m\u001b[38;5;241;43m=\u001b[39;49m\u001b[43mkwargs\u001b[49m\u001b[38;5;241;43m.\u001b[39;49m\u001b[43mpop\u001b[49m\u001b[43m(\u001b[49m\u001b[38;5;124;43m\"\u001b[39;49m\u001b[38;5;124;43mconnection_verify\u001b[39;49m\u001b[38;5;124;43m\"\u001b[39;49m\u001b[43m,\u001b[49m\u001b[43m \u001b[49m\u001b[38;5;28;43mself\u001b[39;49m\u001b[38;5;241;43m.\u001b[39;49m\u001b[43mconnection_config\u001b[49m\u001b[38;5;241;43m.\u001b[39;49m\u001b[43mverify\u001b[49m\u001b[43m)\u001b[49m\u001b[43m,\u001b[49m\n\u001b[0;32m    370\u001b[0m \u001b[43m        \u001b[49m\u001b[43mtimeout\u001b[49m\u001b[38;5;241;43m=\u001b[39;49m\u001b[43mtimeout\u001b[49m\u001b[43m,\u001b[49m\n\u001b[0;32m    371\u001b[0m \u001b[43m        \u001b[49m\u001b[43mcert\u001b[49m\u001b[38;5;241;43m=\u001b[39;49m\u001b[43mkwargs\u001b[49m\u001b[38;5;241;43m.\u001b[39;49m\u001b[43mpop\u001b[49m\u001b[43m(\u001b[49m\u001b[38;5;124;43m\"\u001b[39;49m\u001b[38;5;124;43mconnection_cert\u001b[39;49m\u001b[38;5;124;43m\"\u001b[39;49m\u001b[43m,\u001b[49m\u001b[43m \u001b[49m\u001b[38;5;28;43mself\u001b[39;49m\u001b[38;5;241;43m.\u001b[39;49m\u001b[43mconnection_config\u001b[49m\u001b[38;5;241;43m.\u001b[39;49m\u001b[43mcert\u001b[49m\u001b[43m)\u001b[49m\u001b[43m,\u001b[49m\n\u001b[0;32m    372\u001b[0m \u001b[43m        \u001b[49m\u001b[43mallow_redirects\u001b[49m\u001b[38;5;241;43m=\u001b[39;49m\u001b[38;5;28;43;01mFalse\u001b[39;49;00m\u001b[43m,\u001b[49m\n\u001b[0;32m    373\u001b[0m \u001b[43m        \u001b[49m\u001b[43mproxies\u001b[49m\u001b[38;5;241;43m=\u001b[39;49m\u001b[43mproxies\u001b[49m\u001b[43m,\u001b[49m\n\u001b[0;32m    374\u001b[0m \u001b[43m        \u001b[49m\u001b[38;5;241;43m*\u001b[39;49m\u001b[38;5;241;43m*\u001b[39;49m\u001b[43mkwargs\u001b[49m\n\u001b[0;32m    375\u001b[0m \u001b[43m    \u001b[49m\u001b[43m)\u001b[49m\n\u001b[0;32m    376\u001b[0m     response\u001b[38;5;241m.\u001b[39mraw\u001b[38;5;241m.\u001b[39menforce_content_length \u001b[38;5;241m=\u001b[39m \u001b[38;5;28;01mTrue\u001b[39;00m\n\u001b[0;32m    378\u001b[0m \u001b[38;5;28;01mexcept\u001b[39;00m \u001b[38;5;167;01mAttributeError\u001b[39;00m \u001b[38;5;28;01mas\u001b[39;00m err:\n",
      "File \u001b[1;32m~\\AppData\\Local\\Packages\\PythonSoftwareFoundation.Python.3.11_qbz5n2kfra8p0\\LocalCache\\local-packages\\Python311\\site-packages\\requests\\sessions.py:589\u001b[0m, in \u001b[0;36mSession.request\u001b[1;34m(self, method, url, params, data, headers, cookies, files, auth, timeout, allow_redirects, proxies, hooks, stream, verify, cert, json)\u001b[0m\n\u001b[0;32m    584\u001b[0m send_kwargs \u001b[38;5;241m=\u001b[39m {\n\u001b[0;32m    585\u001b[0m     \u001b[38;5;124m\"\u001b[39m\u001b[38;5;124mtimeout\u001b[39m\u001b[38;5;124m\"\u001b[39m: timeout,\n\u001b[0;32m    586\u001b[0m     \u001b[38;5;124m\"\u001b[39m\u001b[38;5;124mallow_redirects\u001b[39m\u001b[38;5;124m\"\u001b[39m: allow_redirects,\n\u001b[0;32m    587\u001b[0m }\n\u001b[0;32m    588\u001b[0m send_kwargs\u001b[38;5;241m.\u001b[39mupdate(settings)\n\u001b[1;32m--> 589\u001b[0m resp \u001b[38;5;241m=\u001b[39m \u001b[38;5;28;43mself\u001b[39;49m\u001b[38;5;241;43m.\u001b[39;49m\u001b[43msend\u001b[49m\u001b[43m(\u001b[49m\u001b[43mprep\u001b[49m\u001b[43m,\u001b[49m\u001b[43m \u001b[49m\u001b[38;5;241;43m*\u001b[39;49m\u001b[38;5;241;43m*\u001b[39;49m\u001b[43msend_kwargs\u001b[49m\u001b[43m)\u001b[49m\n\u001b[0;32m    591\u001b[0m \u001b[38;5;28;01mreturn\u001b[39;00m resp\n",
      "File \u001b[1;32m~\\AppData\\Local\\Packages\\PythonSoftwareFoundation.Python.3.11_qbz5n2kfra8p0\\LocalCache\\local-packages\\Python311\\site-packages\\requests\\sessions.py:746\u001b[0m, in \u001b[0;36mSession.send\u001b[1;34m(self, request, **kwargs)\u001b[0m\n\u001b[0;32m    743\u001b[0m         \u001b[38;5;28;01mpass\u001b[39;00m\n\u001b[0;32m    745\u001b[0m \u001b[38;5;28;01mif\u001b[39;00m \u001b[38;5;129;01mnot\u001b[39;00m stream:\n\u001b[1;32m--> 746\u001b[0m     \u001b[43mr\u001b[49m\u001b[38;5;241;43m.\u001b[39;49m\u001b[43mcontent\u001b[49m\n\u001b[0;32m    748\u001b[0m \u001b[38;5;28;01mreturn\u001b[39;00m r\n",
      "File \u001b[1;32m~\\AppData\\Local\\Packages\\PythonSoftwareFoundation.Python.3.11_qbz5n2kfra8p0\\LocalCache\\local-packages\\Python311\\site-packages\\requests\\models.py:902\u001b[0m, in \u001b[0;36mResponse.content\u001b[1;34m(self)\u001b[0m\n\u001b[0;32m    900\u001b[0m         \u001b[38;5;28mself\u001b[39m\u001b[38;5;241m.\u001b[39m_content \u001b[38;5;241m=\u001b[39m \u001b[38;5;28;01mNone\u001b[39;00m\n\u001b[0;32m    901\u001b[0m     \u001b[38;5;28;01melse\u001b[39;00m:\n\u001b[1;32m--> 902\u001b[0m         \u001b[38;5;28mself\u001b[39m\u001b[38;5;241m.\u001b[39m_content \u001b[38;5;241m=\u001b[39m \u001b[38;5;124mb\u001b[39m\u001b[38;5;124m\"\u001b[39m\u001b[38;5;124m\"\u001b[39m\u001b[38;5;241m.\u001b[39mjoin(\u001b[38;5;28mself\u001b[39m\u001b[38;5;241m.\u001b[39miter_content(CONTENT_CHUNK_SIZE)) \u001b[38;5;129;01mor\u001b[39;00m \u001b[38;5;124mb\u001b[39m\u001b[38;5;124m\"\u001b[39m\u001b[38;5;124m\"\u001b[39m\n\u001b[0;32m    904\u001b[0m \u001b[38;5;28mself\u001b[39m\u001b[38;5;241m.\u001b[39m_content_consumed \u001b[38;5;241m=\u001b[39m \u001b[38;5;28;01mTrue\u001b[39;00m\n\u001b[0;32m    905\u001b[0m \u001b[38;5;66;03m# don't need to release the connection; that's been handled by urllib3\u001b[39;00m\n\u001b[0;32m    906\u001b[0m \u001b[38;5;66;03m# since we exhausted the data.\u001b[39;00m\n",
      "File \u001b[1;32m~\\AppData\\Local\\Packages\\PythonSoftwareFoundation.Python.3.11_qbz5n2kfra8p0\\LocalCache\\local-packages\\Python311\\site-packages\\requests\\models.py:820\u001b[0m, in \u001b[0;36mResponse.iter_content.<locals>.generate\u001b[1;34m()\u001b[0m\n\u001b[0;32m    818\u001b[0m \u001b[38;5;28;01mif\u001b[39;00m \u001b[38;5;28mhasattr\u001b[39m(\u001b[38;5;28mself\u001b[39m\u001b[38;5;241m.\u001b[39mraw, \u001b[38;5;124m\"\u001b[39m\u001b[38;5;124mstream\u001b[39m\u001b[38;5;124m\"\u001b[39m):\n\u001b[0;32m    819\u001b[0m     \u001b[38;5;28;01mtry\u001b[39;00m:\n\u001b[1;32m--> 820\u001b[0m         \u001b[38;5;28;01myield from\u001b[39;00m \u001b[38;5;28mself\u001b[39m\u001b[38;5;241m.\u001b[39mraw\u001b[38;5;241m.\u001b[39mstream(chunk_size, decode_content\u001b[38;5;241m=\u001b[39m\u001b[38;5;28;01mTrue\u001b[39;00m)\n\u001b[0;32m    821\u001b[0m     \u001b[38;5;28;01mexcept\u001b[39;00m ProtocolError \u001b[38;5;28;01mas\u001b[39;00m e:\n\u001b[0;32m    822\u001b[0m         \u001b[38;5;28;01mraise\u001b[39;00m ChunkedEncodingError(e)\n",
      "File \u001b[1;32m~\\AppData\\Local\\Packages\\PythonSoftwareFoundation.Python.3.11_qbz5n2kfra8p0\\LocalCache\\local-packages\\Python311\\site-packages\\urllib3\\response.py:1057\u001b[0m, in \u001b[0;36mHTTPResponse.stream\u001b[1;34m(self, amt, decode_content)\u001b[0m\n\u001b[0;32m   1041\u001b[0m \u001b[38;5;250m\u001b[39m\u001b[38;5;124;03m\"\"\"\u001b[39;00m\n\u001b[0;32m   1042\u001b[0m \u001b[38;5;124;03mA generator wrapper for the read() method. A call will block until\u001b[39;00m\n\u001b[0;32m   1043\u001b[0m \u001b[38;5;124;03m``amt`` bytes have been read from the connection or until the\u001b[39;00m\n\u001b[1;32m   (...)\u001b[0m\n\u001b[0;32m   1054\u001b[0m \u001b[38;5;124;03m    'content-encoding' header.\u001b[39;00m\n\u001b[0;32m   1055\u001b[0m \u001b[38;5;124;03m\"\"\"\u001b[39;00m\n\u001b[0;32m   1056\u001b[0m \u001b[38;5;28;01mif\u001b[39;00m \u001b[38;5;28mself\u001b[39m\u001b[38;5;241m.\u001b[39mchunked \u001b[38;5;129;01mand\u001b[39;00m \u001b[38;5;28mself\u001b[39m\u001b[38;5;241m.\u001b[39msupports_chunked_reads():\n\u001b[1;32m-> 1057\u001b[0m     \u001b[38;5;28;01myield from\u001b[39;00m \u001b[38;5;28mself\u001b[39m\u001b[38;5;241m.\u001b[39mread_chunked(amt, decode_content\u001b[38;5;241m=\u001b[39mdecode_content)\n\u001b[0;32m   1058\u001b[0m \u001b[38;5;28;01melse\u001b[39;00m:\n\u001b[0;32m   1059\u001b[0m     \u001b[38;5;28;01mwhile\u001b[39;00m \u001b[38;5;129;01mnot\u001b[39;00m is_fp_closed(\u001b[38;5;28mself\u001b[39m\u001b[38;5;241m.\u001b[39m_fp) \u001b[38;5;129;01mor\u001b[39;00m \u001b[38;5;28mlen\u001b[39m(\u001b[38;5;28mself\u001b[39m\u001b[38;5;241m.\u001b[39m_decoded_buffer) \u001b[38;5;241m>\u001b[39m \u001b[38;5;241m0\u001b[39m:\n",
      "File \u001b[1;32m~\\AppData\\Local\\Packages\\PythonSoftwareFoundation.Python.3.11_qbz5n2kfra8p0\\LocalCache\\local-packages\\Python311\\site-packages\\urllib3\\response.py:1206\u001b[0m, in \u001b[0;36mHTTPResponse.read_chunked\u001b[1;34m(self, amt, decode_content)\u001b[0m\n\u001b[0;32m   1203\u001b[0m     amt \u001b[38;5;241m=\u001b[39m \u001b[38;5;28;01mNone\u001b[39;00m\n\u001b[0;32m   1205\u001b[0m \u001b[38;5;28;01mwhile\u001b[39;00m \u001b[38;5;28;01mTrue\u001b[39;00m:\n\u001b[1;32m-> 1206\u001b[0m     \u001b[38;5;28;43mself\u001b[39;49m\u001b[38;5;241;43m.\u001b[39;49m\u001b[43m_update_chunk_length\u001b[49m\u001b[43m(\u001b[49m\u001b[43m)\u001b[49m\n\u001b[0;32m   1207\u001b[0m     \u001b[38;5;28;01mif\u001b[39;00m \u001b[38;5;28mself\u001b[39m\u001b[38;5;241m.\u001b[39mchunk_left \u001b[38;5;241m==\u001b[39m \u001b[38;5;241m0\u001b[39m:\n\u001b[0;32m   1208\u001b[0m         \u001b[38;5;28;01mbreak\u001b[39;00m\n",
      "File \u001b[1;32m~\\AppData\\Local\\Packages\\PythonSoftwareFoundation.Python.3.11_qbz5n2kfra8p0\\LocalCache\\local-packages\\Python311\\site-packages\\urllib3\\response.py:1125\u001b[0m, in \u001b[0;36mHTTPResponse._update_chunk_length\u001b[1;34m(self)\u001b[0m\n\u001b[0;32m   1123\u001b[0m \u001b[38;5;28;01mif\u001b[39;00m \u001b[38;5;28mself\u001b[39m\u001b[38;5;241m.\u001b[39mchunk_left \u001b[38;5;129;01mis\u001b[39;00m \u001b[38;5;129;01mnot\u001b[39;00m \u001b[38;5;28;01mNone\u001b[39;00m:\n\u001b[0;32m   1124\u001b[0m     \u001b[38;5;28;01mreturn\u001b[39;00m \u001b[38;5;28;01mNone\u001b[39;00m\n\u001b[1;32m-> 1125\u001b[0m line \u001b[38;5;241m=\u001b[39m \u001b[38;5;28mself\u001b[39m\u001b[38;5;241m.\u001b[39m_fp\u001b[38;5;241m.\u001b[39mfp\u001b[38;5;241m.\u001b[39mreadline()  \u001b[38;5;66;03m# type: ignore[union-attr]\u001b[39;00m\n\u001b[0;32m   1126\u001b[0m line \u001b[38;5;241m=\u001b[39m line\u001b[38;5;241m.\u001b[39msplit(\u001b[38;5;124mb\u001b[39m\u001b[38;5;124m\"\u001b[39m\u001b[38;5;124m;\u001b[39m\u001b[38;5;124m\"\u001b[39m, \u001b[38;5;241m1\u001b[39m)[\u001b[38;5;241m0\u001b[39m]\n\u001b[0;32m   1127\u001b[0m \u001b[38;5;28;01mtry\u001b[39;00m:\n",
      "File \u001b[1;32mC:\\Program Files\\WindowsApps\\PythonSoftwareFoundation.Python.3.11_3.11.2544.0_x64__qbz5n2kfra8p0\\Lib\\socket.py:706\u001b[0m, in \u001b[0;36mSocketIO.readinto\u001b[1;34m(self, b)\u001b[0m\n\u001b[0;32m    704\u001b[0m \u001b[38;5;28;01mwhile\u001b[39;00m \u001b[38;5;28;01mTrue\u001b[39;00m:\n\u001b[0;32m    705\u001b[0m     \u001b[38;5;28;01mtry\u001b[39;00m:\n\u001b[1;32m--> 706\u001b[0m         \u001b[38;5;28;01mreturn\u001b[39;00m \u001b[38;5;28;43mself\u001b[39;49m\u001b[38;5;241;43m.\u001b[39;49m\u001b[43m_sock\u001b[49m\u001b[38;5;241;43m.\u001b[39;49m\u001b[43mrecv_into\u001b[49m\u001b[43m(\u001b[49m\u001b[43mb\u001b[49m\u001b[43m)\u001b[49m\n\u001b[0;32m    707\u001b[0m     \u001b[38;5;28;01mexcept\u001b[39;00m timeout:\n\u001b[0;32m    708\u001b[0m         \u001b[38;5;28mself\u001b[39m\u001b[38;5;241m.\u001b[39m_timeout_occurred \u001b[38;5;241m=\u001b[39m \u001b[38;5;28;01mTrue\u001b[39;00m\n",
      "File \u001b[1;32mC:\\Program Files\\WindowsApps\\PythonSoftwareFoundation.Python.3.11_3.11.2544.0_x64__qbz5n2kfra8p0\\Lib\\ssl.py:1314\u001b[0m, in \u001b[0;36mSSLSocket.recv_into\u001b[1;34m(self, buffer, nbytes, flags)\u001b[0m\n\u001b[0;32m   1310\u001b[0m     \u001b[38;5;28;01mif\u001b[39;00m flags \u001b[38;5;241m!=\u001b[39m \u001b[38;5;241m0\u001b[39m:\n\u001b[0;32m   1311\u001b[0m         \u001b[38;5;28;01mraise\u001b[39;00m \u001b[38;5;167;01mValueError\u001b[39;00m(\n\u001b[0;32m   1312\u001b[0m           \u001b[38;5;124m\"\u001b[39m\u001b[38;5;124mnon-zero flags not allowed in calls to recv_into() on \u001b[39m\u001b[38;5;132;01m%s\u001b[39;00m\u001b[38;5;124m\"\u001b[39m \u001b[38;5;241m%\u001b[39m\n\u001b[0;32m   1313\u001b[0m           \u001b[38;5;28mself\u001b[39m\u001b[38;5;241m.\u001b[39m\u001b[38;5;18m__class__\u001b[39m)\n\u001b[1;32m-> 1314\u001b[0m     \u001b[38;5;28;01mreturn\u001b[39;00m \u001b[38;5;28;43mself\u001b[39;49m\u001b[38;5;241;43m.\u001b[39;49m\u001b[43mread\u001b[49m\u001b[43m(\u001b[49m\u001b[43mnbytes\u001b[49m\u001b[43m,\u001b[49m\u001b[43m \u001b[49m\u001b[43mbuffer\u001b[49m\u001b[43m)\u001b[49m\n\u001b[0;32m   1315\u001b[0m \u001b[38;5;28;01melse\u001b[39;00m:\n\u001b[0;32m   1316\u001b[0m     \u001b[38;5;28;01mreturn\u001b[39;00m \u001b[38;5;28msuper\u001b[39m()\u001b[38;5;241m.\u001b[39mrecv_into(buffer, nbytes, flags)\n",
      "File \u001b[1;32mC:\\Program Files\\WindowsApps\\PythonSoftwareFoundation.Python.3.11_3.11.2544.0_x64__qbz5n2kfra8p0\\Lib\\ssl.py:1166\u001b[0m, in \u001b[0;36mSSLSocket.read\u001b[1;34m(self, len, buffer)\u001b[0m\n\u001b[0;32m   1164\u001b[0m \u001b[38;5;28;01mtry\u001b[39;00m:\n\u001b[0;32m   1165\u001b[0m     \u001b[38;5;28;01mif\u001b[39;00m buffer \u001b[38;5;129;01mis\u001b[39;00m \u001b[38;5;129;01mnot\u001b[39;00m \u001b[38;5;28;01mNone\u001b[39;00m:\n\u001b[1;32m-> 1166\u001b[0m         \u001b[38;5;28;01mreturn\u001b[39;00m \u001b[38;5;28;43mself\u001b[39;49m\u001b[38;5;241;43m.\u001b[39;49m\u001b[43m_sslobj\u001b[49m\u001b[38;5;241;43m.\u001b[39;49m\u001b[43mread\u001b[49m\u001b[43m(\u001b[49m\u001b[38;5;28;43mlen\u001b[39;49m\u001b[43m,\u001b[49m\u001b[43m \u001b[49m\u001b[43mbuffer\u001b[49m\u001b[43m)\u001b[49m\n\u001b[0;32m   1167\u001b[0m     \u001b[38;5;28;01melse\u001b[39;00m:\n\u001b[0;32m   1168\u001b[0m         \u001b[38;5;28;01mreturn\u001b[39;00m \u001b[38;5;28mself\u001b[39m\u001b[38;5;241m.\u001b[39m_sslobj\u001b[38;5;241m.\u001b[39mread(\u001b[38;5;28mlen\u001b[39m)\n",
      "\u001b[1;31mKeyboardInterrupt\u001b[0m: "
     ]
    }
   ],
   "source": [
    "%%time\n",
    "Web_Path                = \"http://nemweb.com.au/Reports/Current/DispatchIS_Reports/\"\n",
    "Zip_Path                = \"/0_Source/Current/DispatchIS_Reports/\"\n",
    "uncompressed_Path       = \"/1_Transform/CSV/DispatchIS_Reports/\"\n",
    "Onelake_table           = table_base_url+'price_today'\n",
    "#############################################\n",
    "download(Web_Path,Zip_Path,Nbr_Files_to_Download)\n",
    "unzip('/tmp'+Zip_Path,'/tmp'+uncompressed_Path)\n",
    "upload_files(fs, '/tmp'+Zip_Path, onelake_file_root_path + Zip_Path , max_workers= cpu_count())\n"
   ]
  },
  {
   "cell_type": "code",
   "execution_count": null,
   "id": "04eeda79-6a39-4e7a-ac88-7a2d8fc7dc7a",
   "metadata": {
    "microsoft": {
     "language": "python",
     "language_group": "jupyter_python"
    }
   },
   "outputs": [],
   "source": [
    "%%time\n",
    "files_to_upload_full_Path = get_Path('/tmp'+uncompressed_Path,Onelake_table)"
   ]
  },
  {
   "cell_type": "code",
   "execution_count": null,
   "id": "0f06ee21-d8bf-4056-b107-03e21ea4592a",
   "metadata": {
    "microsoft": {
     "language": "python",
     "language_group": "jupyter_python"
    }
   },
   "outputs": [],
   "source": [
    "%%time\n",
    "if len(files_to_upload_full_Path) >0 :\n",
    "  df = get_price(files_to_upload_full_Path)\n",
    "  write_deltalake(Onelake_table, df,mode=\"append\",partition_by=['date'],engine=engine)\n",
    "else:\n",
    "  print('all loaded already')"
   ]
  },
  {
   "cell_type": "code",
   "execution_count": null,
   "id": "332a4996",
   "metadata": {
    "jupyter": {
     "source_hidden": false
    },
    "microsoft": {
     "language": "python",
     "language_group": "jupyter_python"
    }
   },
   "outputs": [],
   "source": [
    "%%time\n",
    "Web_Path                = \"http://nemweb.com.au/Reports/Current/Dispatch_SCADA/\"\n",
    "Zip_Path                = \"/0_Source/Current/Dispatch_SCADA/\"\n",
    "uncompressed_Path       = \"/1_Transform/CSV/Dispatch_SCADA/\"\n",
    "Onelake_table           = table_base_url+'scada_today'\n",
    "#############################################\n",
    "download(Web_Path,Zip_Path,Nbr_Files_to_Download)\n",
    "unzip('/tmp'+Zip_Path,'/tmp'+uncompressed_Path)\n",
    "upload_files(fs, '/tmp'+Zip_Path, onelake_file_root_path + Zip_Path , max_workers= cpu_count())"
   ]
  },
  {
   "cell_type": "code",
   "execution_count": null,
   "id": "d38116c3-5a19-41d8-99b8-6a8777f19c12",
   "metadata": {
    "microsoft": {
     "language": "python",
     "language_group": "jupyter_python"
    }
   },
   "outputs": [],
   "source": [
    "%%time\n",
    "files_to_upload_full_Path = get_Path('/tmp'+uncompressed_Path,Onelake_table)"
   ]
  },
  {
   "cell_type": "code",
   "execution_count": null,
   "id": "72dd0c52-5fee-4737-995b-73335959d4e3",
   "metadata": {
    "microsoft": {
     "language": "python",
     "language_group": "jupyter_python"
    }
   },
   "outputs": [],
   "source": [
    "%%time\n",
    "if len(files_to_upload_full_Path) >0 :\n",
    "  df = get_scada(files_to_upload_full_Path)\n",
    "  write_deltalake(Onelake_table, df,mode=\"append\",partition_by=['date'],engine=engine)\n",
    "else:\n",
    "  print('all loaded already')"
   ]
  },
  {
   "cell_type": "code",
   "execution_count": null,
   "id": "678dc3b0-1d0b-45a3-afce-91d08dadbb69",
   "metadata": {
    "jupyter": {
     "outputs_hidden": false,
     "source_hidden": false
    },
    "microsoft": {
     "language": "python",
     "language_group": "jupyter_python"
    },
    "nteract": {
     "transient": {
      "deleting": false
     }
    }
   },
   "outputs": [],
   "source": [
    "%%time\n",
    "Summary_table_path = table_base_url+'summary'  \n",
    "con = duckdb.connect()  \n",
    "con.sql(f\"\"\" CREATE or replace SECRET onelake ( TYPE AZURE, PROVIDER ACCESS_TOKEN, ACCESS_TOKEN '{os.getenv('azure_storage_token')}')   \"\"\")          \n",
    "con.sql(f\"create SCHEMA IF NOT EXISTS {schema} \")\n",
    "for tbl in ['scada_today','duid','price_today','summary']:\n",
    "    con.sql(f\"CREATE OR REPLACE VIEW {schema}.{tbl} AS SELECT * FROM delta_scan('{table_base_url}{tbl}');\")\n",
    "try:\n",
    " dt = DeltaTable(table_base_url+'scada')\n",
    " current_version = dt.version()\n",
    "except:\n",
    " current_version = -1\n",
    "dt = DeltaTable(Summary_table_path)\n",
    "Previous_version = dt.history()[0].get('scada')\n",
    "Previous_version = int(Previous_version or '0')\n",
    "print(f'scada current  version {current_version}')\n",
    "print(f'scada version used by Summary {Previous_version}')\n",
    "### if scada table has changed (downstream) or the summary table has a lot of small files then rebuild everything\n",
    "if (current_version != Previous_version and current_version !=-1) or len(DeltaTable(table_base_url+'summary').files()) > 90 :\n",
    "    print('scada table was updated, trigger full refresh')\n",
    "    get_duid(table_base_url+'duid')\n",
    "    print('table maintenance')\n",
    "    #### Table maintenance  ##############\n",
    "    optimize(['price_today','scada_today'])\n",
    "    vacuum(['summary','duid'])\n",
    "    ########### Write Summary Table ######\n",
    "    print('generate summary')\n",
    "    df = con.sql(full_refresh_sql).record_batch()\n",
    "    RG=8_000_000\n",
    "    write_deltalake(Summary_table_path , df, mode=\"overwrite\",max_rows_per_file = RG , max_rows_per_group = RG, min_rows_per_group = RG,\n",
    "    custom_metadata = {'scada':str(current_version)},engine=engine)\n",
    "    print('rows fully refreshed')\n",
    "else:\n",
    "    print('scada table was not updated, trigger incremental refresh')\n",
    "    max_timestamp = get_max(Summary_table_path)\n",
    "    print(max_timestamp)\n",
    "    df = con.sql(Incremental_refresh(schema,max_timestamp)).arrow()\n",
    "    r = df.num_rows\n",
    "    if r >0 :\n",
    "        write_deltalake(Summary_table_path,df, mode=\"append\",custom_metadata = {'scada':str(current_version)},engine= engine)\n",
    "        print(f'new {r} rows inserted')\n",
    "    else :\n",
    "        print(\"no new data\")  "
   ]
  }
 ],
 "metadata": {
  "a365ComputeOptions": null,
  "colab": {
   "name": "aemo_5_Minutes.ipynb",
   "provenance": []
  },
  "dependencies": {
   "environment": {},
   "lakehouse": {}
  },
  "kernel_info": {
   "jupyter_kernel_name": "python3.11",
   "name": "jupyter"
  },
  "kernelspec": {
   "display_name": "Python 3",
   "language": "python",
   "name": "python3"
  },
  "language_info": {
   "codemirror_mode": {
    "name": "ipython",
    "version": 3
   },
   "file_extension": ".py",
   "mimetype": "text/x-python",
   "name": "python",
   "nbconvert_exporter": "python",
   "pygments_lexer": "ipython3",
   "version": "3.11.9"
  },
  "microsoft": {
   "language": "python",
   "language_group": "jupyter_python",
   "ms_spell_check": {
    "ms_spell_check_language": "en"
   }
  },
  "notebook_environment": {},
  "nteract": {
   "version": "nteract-front-end@1.0.0"
  },
  "save_output": true,
  "sessionKeepAliveTimeout": 0,
  "spark_compute": {
   "compute_id": "/trident/default",
   "session_options": {
    "conf": {
     "spark.synapse.nbs.session.timeout": "1200000"
    },
    "enableDebugMode": false
   }
  },
  "synapse_widget": {
   "state": {},
   "version": "0.1"
  },
  "widgets": {
   "application/vnd.jupyter.widget-state+json": {
    "state": {
     "07bb6a365a0f4ba5891a9fef8977cfa9": {
      "model_module": "@jupyter-widgets/controls",
      "model_module_version": "2.0.0",
      "model_name": "ProgressStyleModel",
      "state": {
       "bar_color": "black",
       "description_width": ""
      }
     },
     "15e2d8b813d44165b77921932bfdccbd": {
      "model_module": "@jupyter-widgets/base",
      "model_module_version": "2.0.0",
      "model_name": "LayoutModel",
      "state": {
       "width": "auto"
      }
     },
     "168e70abfba2483db1bb7698a9cba841": {
      "model_module": "@jupyter-widgets/controls",
      "model_module_version": "2.0.0",
      "model_name": "ProgressStyleModel",
      "state": {
       "bar_color": "black",
       "description_width": ""
      }
     },
     "18af93be323f491d9fe90f4eb9b2e0d1": {
      "model_module": "@jupyter-widgets/controls",
      "model_module_version": "2.0.0",
      "model_name": "ProgressStyleModel",
      "state": {
       "bar_color": "black",
       "description_width": ""
      }
     },
     "295b6a1b9da640beb7ce0e9106876864": {
      "model_module": "@jupyter-widgets/controls",
      "model_module_version": "2.0.0",
      "model_name": "FloatProgressModel",
      "state": {
       "layout": "IPY_MODEL_3ea66ae9d9c8485b8bc716caad7fb235",
       "style": "IPY_MODEL_07bb6a365a0f4ba5891a9fef8977cfa9"
      }
     },
     "3ea66ae9d9c8485b8bc716caad7fb235": {
      "model_module": "@jupyter-widgets/base",
      "model_module_version": "2.0.0",
      "model_name": "LayoutModel",
      "state": {
       "width": "auto"
      }
     },
     "82d24879d50a4ebfafcb4e38c669eb02": {
      "model_module": "@jupyter-widgets/base",
      "model_module_version": "2.0.0",
      "model_name": "LayoutModel",
      "state": {
       "width": "auto"
      }
     },
     "840579f7d9fb430ab77d79199178d491": {
      "model_module": "@jupyter-widgets/controls",
      "model_module_version": "2.0.0",
      "model_name": "ProgressStyleModel",
      "state": {
       "bar_color": "black",
       "description_width": ""
      }
     },
     "a85603e367614620b955ec9b0ccd1a28": {
      "model_module": "@jupyter-widgets/controls",
      "model_module_version": "2.0.0",
      "model_name": "FloatProgressModel",
      "state": {
       "layout": "IPY_MODEL_15e2d8b813d44165b77921932bfdccbd",
       "style": "IPY_MODEL_18af93be323f491d9fe90f4eb9b2e0d1"
      }
     },
     "d970f4eef5df4cbf852100a4fff16aa2": {
      "model_module": "@jupyter-widgets/controls",
      "model_module_version": "2.0.0",
      "model_name": "FloatProgressModel",
      "state": {
       "layout": "IPY_MODEL_ffd05861124e41bd97f536971cb6d3ad",
       "style": "IPY_MODEL_168e70abfba2483db1bb7698a9cba841"
      }
     },
     "f2019a9a8ade43ee973ab322a536f135": {
      "model_module": "@jupyter-widgets/controls",
      "model_module_version": "2.0.0",
      "model_name": "FloatProgressModel",
      "state": {
       "layout": "IPY_MODEL_82d24879d50a4ebfafcb4e38c669eb02",
       "style": "IPY_MODEL_840579f7d9fb430ab77d79199178d491",
       "value": 100
      }
     },
     "ffd05861124e41bd97f536971cb6d3ad": {
      "model_module": "@jupyter-widgets/base",
      "model_module_version": "2.0.0",
      "model_name": "LayoutModel",
      "state": {
       "width": "auto"
      }
     }
    },
    "version_major": 2,
    "version_minor": 0
   }
  }
 },
 "nbformat": 4,
 "nbformat_minor": 5
}
