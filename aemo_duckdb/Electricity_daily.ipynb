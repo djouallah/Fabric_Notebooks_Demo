{
 "cells": [
  {
   "cell_type": "code",
   "execution_count": null,
   "id": "63db70c9",
   "metadata": {
    "microsoft": {
     "language": "python",
     "language_group": "jupyter_python"
    }
   },
   "outputs": [],
   "source": [
    "Nbr_Files_to_Download  = 400\n",
    "schema                 = 'aemo' \n",
    "ws                     = 'sqlengines'  \n",
    "lh                     = 'power'\n",
    "storage_options = None\n",
    "table_base_url         =  f'abfss://{ws}@onelake.dfs.fabric.microsoft.com/{lh}.Lakehouse/Tables/{schema}/'\n",
    "onelake_file_root_path =  f\"{lh}.Lakehouse/Files/{schema}\"\n",
    "engine = 'pyarrow'"
   ]
  },
  {
   "cell_type": "code",
   "execution_count": null,
   "id": "62100352-6115-433b-ad38-6d7478e31768",
   "metadata": {
    "jupyter": {
     "outputs_hidden": false,
     "source_hidden": false
    },
    "microsoft": {
     "language": "python",
     "language_group": "jupyter_python"
    },
    "nteract": {
     "transient": {
      "deleting": false
     }
    }
   },
   "outputs": [],
   "source": [
    "!pip install duckdb --upgrade\n",
    "#!pip install     azure-identity\n",
    "#!pip install azure-storage-file-datalake"
   ]
  },
  {
   "cell_type": "code",
   "execution_count": null,
   "id": "c35ff42e-5172-46ce-9206-4eb305ab1230",
   "metadata": {
    "id": "c35ff42e-5172-46ce-9206-4eb305ab1230",
    "jupyter": {
     "outputs_hidden": false,
     "source_hidden": false
    },
    "microsoft": {
     "language": "python",
     "language_group": "jupyter_python"
    },
    "nteract": {
     "transient": {
      "deleting": false
     }
    }
   },
   "outputs": [],
   "source": [
    "#################### Import Python Libraries ######################\n",
    "from   deltalake.writer import try_get_deltatable , write_deltalake\n",
    "from   deltalake        import DeltaTable\n",
    "import os\n",
    "import glob\n",
    "from   azure.core.credentials     import AccessToken\n",
    "from   azure.storage.filedatalake import DataLakeServiceClient\n",
    "from   azure.identity             import DefaultAzureCredential\n",
    "import duckdb\n",
    "from   datetime import datetime\n",
    "import time\n",
    "from   psutil import *\n",
    "import re\n",
    "import requests\n",
    "from   shutil import unpack_archive\n",
    "from   urllib.request import urlopen\n",
    "from   concurrent.futures import ThreadPoolExecutor, as_completed"
   ]
  },
  {
   "cell_type": "code",
   "execution_count": null,
   "id": "b15c53b9",
   "metadata": {
    "microsoft": {
     "language": "python",
     "language_group": "jupyter_python"
    }
   },
   "outputs": [],
   "source": [
    "########## Authentification ####################################\n",
    "try:\n",
    "       os.environ['azure_storage_token'] = notebookutils.credentials.getToken('storage')\n",
    "       print(' all good you are in fabric notebook')\n",
    "except:\n",
    "      from   azure.identity import InteractiveBrowserCredential\n",
    "      os.environ['azure_storage_token'.upper()] = InteractiveBrowserCredential().get_token(\"https://storage.azure.com/.default\").token\n",
    "duckdb.sql(f\"\"\" CREATE or replace SECRET onelake ( TYPE AZURE, PROVIDER ACCESS_TOKEN, ACCESS_TOKEN '{os.getenv('azure_storage_token')}')   \"\"\")"
   ]
  },
  {
   "cell_type": "code",
   "execution_count": null,
   "id": "oajpjd0o7oe6",
   "metadata": {
    "colab": {
     "base_uri": "https://localhost:8080/",
     "height": 36
    },
    "id": "oajpjd0o7oe6",
    "jupyter": {
     "source_hidden": false
    },
    "microsoft": {
     "language": "python",
     "language_group": "jupyter_python"
    },
    "outputId": "0597e8c5-bbd6-4a19-ebab-a5a3a14d769d"
   },
   "outputs": [],
   "source": [
    "vCPU = str(cpu_count()) + \" vCPU\"\n",
    "mem=round(virtual_memory().total/(1024 * 1024 * 1024),0)\n",
    "runtime = vCPU+' '+str(mem)+'GB'\n",
    "runtime"
   ]
  },
  {
   "cell_type": "markdown",
   "id": "8LbA_eCFM-Zl",
   "metadata": {
    "id": "8LbA_eCFM-Zl"
   },
   "source": [
    "# Ingest Data"
   ]
  },
  {
   "cell_type": "code",
   "execution_count": null,
   "id": "28416977-0f39-41ca-aa84-9a5d42a6e519",
   "metadata": {
    "cellView": "form",
    "id": "28416977-0f39-41ca-aa84-9a5d42a6e519",
    "jupyter": {
     "source_hidden": true
    },
    "microsoft": {
     "language": "python",
     "language_group": "jupyter_python"
    }
   },
   "outputs": [],
   "source": [
    "def download(url,Path,total_files):\n",
    "    if not os.path.exists('/tmp'+Path):\n",
    "      os.makedirs('/tmp'+Path, exist_ok=True)\n",
    "    \n",
    "\n",
    "    result = urlopen(url).read().decode('utf-8')\n",
    "    pattern = re.compile(r'[\\w.]*.zip')\n",
    "    filelist1 = pattern.findall(result)\n",
    "    filelist_unique = dict.fromkeys(filelist1)\n",
    "    filelist =sorted(filelist_unique, reverse=True)\n",
    "\n",
    "    onelake_folder = onelake_file_root_path + Path\n",
    "    create_directory_if_not_exist(fs,onelake_folder)\n",
    "    paths = fs.get_paths(path=onelake_folder)\n",
    "    current = [os.path.basename(path.name) for path in paths ]\n",
    "\n",
    "    #current =  [os.path.basename(x) for x in glob.glob(Path+'*.zip')]\n",
    "\n",
    "\n",
    "    files_to_upload = list(set(filelist) - set(current))\n",
    "    files_to_upload = list(dict.fromkeys(files_to_upload))[:total_files]\n",
    "    print(str(len(files_to_upload)) + ' New File Downloaded')\n",
    "    if len(files_to_upload) != 0 :\n",
    "      for x in files_to_upload:\n",
    "           with requests.get(url+x, stream=True) as resp:\n",
    "            if resp.ok:\n",
    "              with open(f\"/tmp{Path}{x}\", \"wb\") as f:\n",
    "               for chunk in resp.iter_content(chunk_size=4096):\n",
    "                f.write(chunk)\n",
    "    return \"done\""
   ]
  },
  {
   "cell_type": "code",
   "execution_count": null,
   "id": "3b5f3047-8010-41ba-8e30-396e26de0e81",
   "metadata": {
    "cellView": "form",
    "id": "3b5f3047-8010-41ba-8e30-396e26de0e81",
    "jupyter": {
     "source_hidden": true
    },
    "microsoft": {
     "language": "python",
     "language_group": "jupyter_python"
    }
   },
   "outputs": [],
   "source": [
    "def uncompress(zip_file, source_path, destination_path):\n",
    "    \"\"\"Uncompress a zip file to the destination path.\"\"\"\n",
    "    try:\n",
    "        unpack_archive(os.path.join(source_path, zip_file), destination_path, 'zip')\n",
    "        print(f\"Uncompressed: {zip_file}\")\n",
    "    except Exception as e:\n",
    "        print(f\"Failed to uncompress {zip_file}: {e}\")\n",
    "\n",
    "def unzip(source, destination):\n",
    "    \"\"\"Unzip all zip files from the source directory to the destination directory.\"\"\"\n",
    "    if not os.path.exists(destination):\n",
    "        os.makedirs(destination, exist_ok=True)\n",
    "\n",
    "    # Get list of zip files in the source directory\n",
    "    zip_files = [os.path.basename(x) for x in glob.glob(os.path.join(source, '*.zip'))]\n",
    "\n",
    "    # Get list of already uncompressed files in the destination directory\n",
    "    uncompressed_files = [\n",
    "        os.path.basename(x).replace('.CSV', '.zip').replace('.json', '.zip')\n",
    "                          .replace('SCADA', 'FacilityScada').replace('-', '')\n",
    "        for x in glob.glob(os.path.join(destination, '*.[Cc][Ss][Vv]')) + \n",
    "                  glob.glob(os.path.join(destination, '*.json'))\n",
    "    ]\n",
    "\n",
    "    # Determine files to uncompress (delta)\n",
    "    files_to_uncompress = list(set(zip_files) - set(uncompressed_files))\n",
    "    files_to_uncompress = list(dict.fromkeys(files_to_uncompress))  # Remove duplicates\n",
    "\n",
    "    print(f\"{len(files_to_uncompress)} new file(s) to uncompress.\")\n",
    "\n",
    "    if files_to_uncompress:\n",
    "        with ThreadPoolExecutor() as executor:\n",
    "            # Use lambda to pass additional arguments to uncompress\n",
    "            executor.map(lambda f: uncompress(f, source, destination), files_to_uncompress)\n",
    "        return \"Done\"\n",
    "    else:\n",
    "        return \"Nothing to uncompress\""
   ]
  },
  {
   "cell_type": "code",
   "execution_count": null,
   "id": "35d410ed",
   "metadata": {
    "jupyter": {
     "source_hidden": true
    },
    "microsoft": {
     "language": "python",
     "language_group": "jupyter_python"
    }
   },
   "outputs": [],
   "source": [
    "def get_onelake_fs(file_system_name):\n",
    "    class CustomTokenCredential:\n",
    "        def __init__(self, token):\n",
    "            self.token = token\n",
    "\n",
    "        def get_token(self, *scopes, **kwargs):\n",
    "            return AccessToken(self.token, expires_on=9999999999)  # Set a far future expiration\n",
    "\n",
    "    credential = CustomTokenCredential(os.getenv('azure_storage_token'))\n",
    "    service_client = DataLakeServiceClient(account_url=f\"https://onelake.dfs.fabric.microsoft.com\", credential= credential)\n",
    "    return service_client.get_file_system_client(file_system_name)"
   ]
  },
  {
   "cell_type": "code",
   "execution_count": null,
   "id": "e3d08d34",
   "metadata": {
    "jupyter": {
     "source_hidden": true
    },
    "microsoft": {
     "language": "python",
     "language_group": "jupyter_python"
    }
   },
   "outputs": [],
   "source": [
    "def create_directory_if_not_exist(fs,abfss_directory) :\n",
    "    directory_client = fs.get_directory_client(abfss_directory)\n",
    "    try:\n",
    "        directory_client.get_directory_properties()\n",
    "        print(f\"Directory '{abfss_directory}' exist already.\")\n",
    "    except :\n",
    "        directory_client.create_directory()\n",
    "        print(f\"Directory '{abfss_directory}' created successfully.\")"
   ]
  },
  {
   "cell_type": "code",
   "execution_count": null,
   "id": "f4b3bb0a",
   "metadata": {
    "jupyter": {
     "source_hidden": true
    },
    "microsoft": {
     "language": "python",
     "language_group": "jupyter_python"
    }
   },
   "outputs": [],
   "source": [
    "def List_files_to_upload(fs,local_folder,onelake_folder):\n",
    "    create_directory_if_not_exist(fs,onelake_folder)\n",
    "    paths = fs.get_paths(path=onelake_folder)\n",
    "    onelake_files = [os.path.basename(path.name) for path in paths ]\n",
    "    local_files=[os.path.basename(x) for x in glob.glob(local_folder+'*.*')]\n",
    "    filtes_to_upload  = list(  set(local_files) - set(onelake_files))\n",
    "    filtes_to_upload  = list(dict.fromkeys(filtes_to_upload))\n",
    "    filtes_to_upload  = sorted(filtes_to_upload, reverse=True)\n",
    "    filtes_to_upload = [local_folder+'/' + i for i in filtes_to_upload]\n",
    "    return filtes_to_upload"
   ]
  },
  {
   "cell_type": "code",
   "execution_count": null,
   "id": "41aa323f",
   "metadata": {
    "jupyter": {
     "source_hidden": true
    },
    "microsoft": {
     "language": "python",
     "language_group": "jupyter_python"
    }
   },
   "outputs": [],
   "source": [
    "def upload_file(file_system_client, local_file, remote_directory):\n",
    "    \"\"\"\n",
    "    Helper function to upload a single file to a remote directory in ADLS/OneLake.\n",
    "    \n",
    "    Args:\n",
    "        file_system_client: The file system client.\n",
    "        local_file: Local file path to upload.\n",
    "        remote_directory: The remote directory where the file will be uploaded.\n",
    "    \"\"\"\n",
    "    try:\n",
    "        # Extract the file name from the local file path\n",
    "        file_name = os.path.basename(local_file)\n",
    "        \n",
    "        # Define the remote file path\n",
    "        remote_file_path = f\"{remote_directory}{file_name}\"\n",
    "        \n",
    "        # Upload the file\n",
    "        print(f\"Uploading {local_file} to {remote_file_path}\")\n",
    "        file_client = file_system_client.get_file_client(remote_file_path)\n",
    "        with open(local_file, \"rb\") as local_file_data:\n",
    "            file_client.upload_data(local_file_data, overwrite=True)\n",
    "        print(f\"Uploaded {local_file} successfully!\")\n",
    "        return local_file, None  # Return the file and no error\n",
    "    except Exception as e:\n",
    "        print(f\"Failed to upload {local_file}: {e}\")\n",
    "        return local_file, str(e)  # Return the file and the error message\n",
    "\n",
    "def upload_files(file_system_client, local_folder, remote_directory, max_workers=5):\n",
    "    \"\"\"\n",
    "    Upload a list of files to a remote directory in ADLS/OneLake using multi-threading.\n",
    "    \n",
    "    Args:\n",
    "        file_system_client: The file system client.\n",
    "        local_files: List of local file paths to upload.\n",
    "        remote_directory: The remote directory where files will be uploaded.\n",
    "        max_workers: Maximum number of threads to use for parallel uploads.\n",
    "    \"\"\"\n",
    "    local_files =     List_files_to_upload(file_system_client,local_folder,remote_directory)\n",
    "    with ThreadPoolExecutor(max_workers=max_workers) as executor:\n",
    "        # Submit upload tasks to the thread pool\n",
    "        futures = [\n",
    "            executor.submit(upload_file, file_system_client, local_file, remote_directory)\n",
    "            for local_file in local_files\n",
    "        ]\n",
    "        \n",
    "        # Wait for all tasks to complete and handle results\n",
    "        for future in as_completed(futures):\n",
    "            local_file, error = future.result()\n",
    "            if error:\n",
    "                print(f\"Error uploading {local_file}: {error}\")\n",
    "            else:\n",
    "                print(f\"Successfully uploaded {local_file}\")"
   ]
  },
  {
   "cell_type": "code",
   "execution_count": null,
   "id": "TZ29HGpXx6BN",
   "metadata": {
    "id": "TZ29HGpXx6BN",
    "jupyter": {
     "source_hidden": true
    },
    "microsoft": {
     "language": "python",
     "language_group": "jupyter_python"
    }
   },
   "outputs": [],
   "source": [
    "def get_Path(Source,Table):\n",
    " dt =try_get_deltatable(Table,storage_options={\"allow_unsafe_rename\":\"true\"})\n",
    " if dt is not None:\n",
    "    existing_files = duckdb.sql(f\"\"\" select distinct file as file from delta_scan('{Table}') \"\"\").df()['file'].tolist()\n",
    " else:\n",
    "  existing_files=[]\n",
    " print(len(existing_files))\n",
    " list_files_csv=[os.path.basename(x) for x in glob.glob(Source+'*.CSV')]\n",
    " list_files_json=[os.path.basename(x) for x in glob.glob(Source+'*.json')]\n",
    " filelist = list_files_csv + list_files_json\n",
    "\n",
    " files_to_upload = list(set(filelist) - set(existing_files))\n",
    " files_to_upload = list(dict.fromkeys(files_to_upload))\n",
    " files_to_upload_full_Path = [Source + i for i in files_to_upload]\n",
    " return files_to_upload_full_Path[:Nbr_Files_to_Download]"
   ]
  },
  {
   "cell_type": "markdown",
   "id": "cdd3bbe3-d28d-4f98-af75-9bf8508d7a41",
   "metadata": {
    "microsoft": {
     "language": "python",
     "language_group": "jupyter_python"
    },
    "nteract": {
     "transient": {
      "deleting": false
     }
    }
   },
   "source": [
    "**<mark>Transformation Logic</mark>**"
   ]
  },
  {
   "cell_type": "markdown",
   "id": "ztDHTn2a3ZY9",
   "metadata": {
    "id": "ztDHTn2a3ZY9"
   },
   "source": [
    "**<mark>scada </mark>**"
   ]
  },
  {
   "cell_type": "code",
   "execution_count": null,
   "id": "OjmPm7hXuAZh",
   "metadata": {
    "id": "OjmPm7hXuAZh",
    "jupyter": {
     "source_hidden": true
    },
    "microsoft": {
     "language": "python",
     "language_group": "jupyter_python"
    }
   },
   "outputs": [],
   "source": [
    "def get_scada(files_to_upload_full_Path):\n",
    "    raw =duckdb.sql(f\"\"\"from read_csv({files_to_upload_full_Path},\n",
    "    Skip=1,header =0,all_varchar=1,\n",
    "    columns={{\n",
    "    'I': 'VARCHAR','UNIT': 'VARCHAR','XX': 'VARCHAR','VERSION': 'VARCHAR','SETTLEMENTDATE': 'VARCHAR','RUNNO': 'VARCHAR',\n",
    "    'DUID': 'VARCHAR','INTERVENTION': 'VARCHAR','DISPATCHMODE': 'VARCHAR','AGCSTATUS': 'VARCHAR','INITIALMW': 'VARCHAR',\n",
    "    'TOTALCLEARED': 'VARCHAR','RAMPDOWNRATE': 'VARCHAR','RAMPUPRATE': 'VARCHAR','LOWER5MIN': 'VARCHAR',\n",
    "    'LOWER60SEC': 'VARCHAR','LOWER6SEC': 'VARCHAR','RAISE5MIN': 'VARCHAR','RAISE60SEC': 'VARCHAR',\n",
    "    'RAISE6SEC': 'VARCHAR','MARGINAL5MINVALUE': 'VARCHAR','MARGINAL60SECVALUE': 'VARCHAR',\n",
    "    'MARGINAL6SECVALUE': 'VARCHAR','MARGINALVALUE': 'VARCHAR','VIOLATION5MINDEGREE': 'VARCHAR',\n",
    "    'VIOLATION60SECDEGREE': 'VARCHAR','VIOLATION6SECDEGREE': 'VARCHAR','VIOLATIONDEGREE': 'VARCHAR',\n",
    "    'LOWERREG': 'VARCHAR','RAISEREG': 'VARCHAR','AVAILABILITY': 'VARCHAR','RAISE6SECFLAGS': 'VARCHAR',\n",
    "    'RAISE60SECFLAGS': 'VARCHAR','RAISE5MINFLAGS': 'VARCHAR','RAISEREGFLAGS': 'VARCHAR',\n",
    "    'LOWER6SECFLAGS': 'VARCHAR','LOWER60SECFLAGS': 'VARCHAR','LOWER5MINFLAGS': 'VARCHAR',\n",
    "    'LOWERREGFLAGS': 'VARCHAR','RAISEREGAVAILABILITY': 'VARCHAR','RAISEREGENABLEMENTMAX': 'VARCHAR',\n",
    "    'RAISEREGENABLEMENTMIN': 'VARCHAR','LOWERREGAVAILABILITY': 'VARCHAR','LOWERREGENABLEMENTMAX': 'VARCHAR',\n",
    "    'LOWERREGENABLEMENTMIN': 'VARCHAR','RAISE6SECACTUALAVAILABILITY': 'VARCHAR',\n",
    "    'RAISE60SECACTUALAVAILABILITY': 'VARCHAR','RAISE5MINACTUALAVAILABILITY': 'VARCHAR',\n",
    "    'RAISEREGACTUALAVAILABILITY': 'VARCHAR','LOWER6SECACTUALAVAILABILITY': 'VARCHAR',\n",
    "    'LOWER60SECACTUALAVAILABILITY': 'VARCHAR','LOWER5MINACTUALAVAILABILITY': 'VARCHAR','LOWERREGACTUALAVAILABILITY': 'VARCHAR'\n",
    "    }},\n",
    "    filename =1,null_padding = true,ignore_errors=1,auto_detect=false)\n",
    "    where I='D' and UNIT ='DUNIT' AND VERSION = 3                  \"\"\")\n",
    "\n",
    "    final_scada=duckdb.sql(\"\"\"\n",
    "    select\n",
    "    UNIT,\n",
    "    DUID,\n",
    "    cast(columns(*exclude(DUID,UNIT,SETTLEMENTDATE,I,XX,filename)) as double),\n",
    "    parse_filename(filename) as file,\n",
    "    0 as PRIORITY ,\n",
    "    cast (SETTLEMENTDATE as TIMESTAMPTZ) as SETTLEMENTDATE,\n",
    "    cast(SETTLEMENTDATE as date) as date,\n",
    "\t  isoyear (cast (SETTLEMENTDATE as timestamp)) as YEAR\n",
    "    from raw  \"\"\")\n",
    "    return final_scada.record_batch()\n"
   ]
  },
  {
   "cell_type": "markdown",
   "id": "VHevvlcgAyXT",
   "metadata": {
    "id": "VHevvlcgAyXT"
   },
   "source": [
    "**<mark>Price </mark>**"
   ]
  },
  {
   "cell_type": "code",
   "execution_count": null,
   "id": "BhdYGAod4Vid",
   "metadata": {
    "id": "BhdYGAod4Vid",
    "jupyter": {
     "source_hidden": true
    },
    "microsoft": {
     "language": "python",
     "language_group": "jupyter_python"
    }
   },
   "outputs": [],
   "source": [
    "def get_price(files_to_upload_full_Path):\n",
    "  raw =duckdb.sql(f\"\"\"from read_csv({files_to_upload_full_Path},\n",
    "  Skip=1,header =0,all_varchar=1,\n",
    "  columns={{\n",
    "  'I': 'VARCHAR','UNIT': 'VARCHAR','XX': 'VARCHAR','VERSION': 'VARCHAR','SETTLEMENTDATE': 'VARCHAR','RUNNO': 'VARCHAR',\n",
    "  'REGIONID': 'VARCHAR','INTERVENTION': 'VARCHAR','RRP': 'VARCHAR','EEP': 'VARCHAR','ROP': 'VARCHAR','APCFLAG': 'VARCHAR',\n",
    "  'MARKETSUSPENDEDFLAG': 'VARCHAR','TOTALDEMAND': 'VARCHAR','DEMANDFORECAST': 'VARCHAR','DISPATCHABLEGENERATION': 'VARCHAR',\n",
    "  'DISPATCHABLELOAD': 'VARCHAR','NETINTERCHANGE': 'VARCHAR','EXCESSGENERATION': 'VARCHAR','LOWER5MINDISPATCH': 'VARCHAR',\n",
    "  'LOWER5MINIMPORT': 'VARCHAR','LOWER5MINLOCALDISPATCH': 'VARCHAR','LOWER5MINLOCALPRICE': 'VARCHAR','LOWER5MINLOCALREQ': 'VARCHAR',\n",
    "  'LOWER5MINPRICE': 'VARCHAR','LOWER5MINREQ': 'VARCHAR','LOWER5MINSUPPLYPRICE': 'VARCHAR','LOWER60SECDISPATCH': 'VARCHAR','LOWER60SECIMPORT': 'VARCHAR',\n",
    "  'LOWER60SECLOCALDISPATCH': 'VARCHAR','LOWER60SECLOCALPRICE': 'VARCHAR','LOWER60SECLOCALREQ': 'VARCHAR','LOWER60SECPRICE': 'VARCHAR',\n",
    "  'LOWER60SECREQ': 'VARCHAR','LOWER60SECSUPPLYPRICE': 'VARCHAR','LOWER6SECDISPATCH': 'VARCHAR','LOWER6SECIMPORT': 'VARCHAR',\n",
    "  'LOWER6SECLOCALDISPATCH': 'VARCHAR','LOWER6SECLOCALPRICE': 'VARCHAR','LOWER6SECLOCALREQ': 'VARCHAR','LOWER6SECPRICE': 'VARCHAR',\n",
    "  'LOWER6SECREQ': 'VARCHAR','LOWER6SECSUPPLYPRICE': 'VARCHAR','RAISE5MINDISPATCH': 'VARCHAR','RAISE5MINIMPORT': 'VARCHAR',\n",
    "  'RAISE5MINLOCALDISPATCH': 'VARCHAR','RAISE5MINLOCALPRICE': 'VARCHAR','RAISE5MINLOCALREQ': 'VARCHAR','RAISE5MINPRICE': 'VARCHAR',\n",
    "  'RAISE5MINREQ': 'VARCHAR','RAISE5MINSUPPLYPRICE': 'VARCHAR','RAISE60SECDISPATCH': 'VARCHAR','RAISE60SECIMPORT': 'VARCHAR',\n",
    "  'RAISE60SECLOCALDISPATCH': 'VARCHAR','RAISE60SECLOCALPRICE': 'VARCHAR','RAISE60SECLOCALREQ': 'VARCHAR','RAISE60SECPRICE': 'VARCHAR',\n",
    "  'RAISE60SECREQ': 'VARCHAR','RAISE60SECSUPPLYPRICE': 'VARCHAR','RAISE6SECDISPATCH': 'VARCHAR','RAISE6SECIMPORT': 'VARCHAR',\n",
    "  'RAISE6SECLOCALDISPATCH': 'VARCHAR','RAISE6SECLOCALPRICE': 'VARCHAR','RAISE6SECLOCALREQ': 'VARCHAR','RAISE6SECPRICE': 'VARCHAR',\n",
    "  'RAISE6SECREQ': 'VARCHAR','RAISE6SECSUPPLYPRICE': 'VARCHAR','AGGREGATEDISPATCHERROR': 'VARCHAR','AVAILABLEGENERATION': 'VARCHAR',\n",
    "  'AVAILABLELOAD': 'VARCHAR','INITIALSUPPLY': 'VARCHAR','CLEAREDSUPPLY': 'VARCHAR','LOWERREGIMPORT': 'VARCHAR','LOWERREGLOCALDISPATCH': 'VARCHAR',\n",
    "  'LOWERREGLOCALREQ': 'VARCHAR','LOWERREGREQ': 'VARCHAR','RAISEREGIMPORT': 'VARCHAR','RAISEREGLOCALDISPATCH': 'VARCHAR','RAISEREGLOCALREQ': 'VARCHAR',\n",
    "  'RAISEREGREQ': 'VARCHAR','RAISE5MINLOCALVIOLATION': 'VARCHAR','RAISEREGLOCALVIOLATION': 'VARCHAR','RAISE60SECLOCALVIOLATION': 'VARCHAR',\n",
    "  'RAISE6SECLOCALVIOLATION': 'VARCHAR','LOWER5MINLOCALVIOLATION': 'VARCHAR','LOWERREGLOCALVIOLATION': 'VARCHAR','LOWER60SECLOCALVIOLATION': 'VARCHAR',\n",
    "  'LOWER6SECLOCALVIOLATION': 'VARCHAR','RAISE5MINVIOLATION': 'VARCHAR','RAISEREGVIOLATION': 'VARCHAR','RAISE60SECVIOLATION': 'VARCHAR',\n",
    "  'RAISE6SECVIOLATION': 'VARCHAR','LOWER5MINVIOLATION': 'VARCHAR','LOWERREGVIOLATION': 'VARCHAR','LOWER60SECVIOLATION': 'VARCHAR',\n",
    "  'LOWER6SECVIOLATION': 'VARCHAR','RAISE6SECRRP': 'VARCHAR','RAISE6SECROP': 'VARCHAR','RAISE6SECAPCFLAG': 'VARCHAR','RAISE60SECRRP': 'VARCHAR',\n",
    "  'RAISE60SECROP': 'VARCHAR','RAISE60SECAPCFLAG': 'VARCHAR','RAISE5MINRRP': 'VARCHAR','RAISE5MINROP': 'VARCHAR','RAISE5MINAPCFLAG': 'VARCHAR',\n",
    "  'RAISEREGRRP': 'VARCHAR','RAISEREGROP': 'VARCHAR','RAISEREGAPCFLAG': 'VARCHAR','LOWER6SECRRP': 'VARCHAR','LOWER6SECROP': 'VARCHAR',\n",
    "  'LOWER6SECAPCFLAG': 'VARCHAR','LOWER60SECRRP': 'VARCHAR','LOWER60SECROP': 'VARCHAR','LOWER60SECAPCFLAG': 'VARCHAR','LOWER5MINRRP': 'VARCHAR',\n",
    "  'LOWER5MINROP': 'VARCHAR','LOWER5MINAPCFLAG': 'VARCHAR','LOWERREGRRP': 'VARCHAR','LOWERREGROP': 'VARCHAR','LOWERREGAPCFLAG': 'VARCHAR',\n",
    "  'RAISE6SECACTUALAVAILABILITY': 'VARCHAR','RAISE60SECACTUALAVAILABILITY': 'VARCHAR','RAISE5MINACTUALAVAILABILITY': 'VARCHAR',\n",
    "  'RAISEREGACTUALAVAILABILITY': 'VARCHAR','LOWER6SECACTUALAVAILABILITY': 'VARCHAR','LOWER60SECACTUALAVAILABILITY': 'VARCHAR',\n",
    "  'LOWER5MINACTUALAVAILABILITY': 'VARCHAR','LOWERREGACTUALAVAILABILITY': 'VARCHAR','LORSURPLUS': 'VARCHAR','LRCSURPLUS': 'VARCHAR',\n",
    "  }},\n",
    "  filename =1,null_padding = true,ignore_errors=1,auto_detect=false)\n",
    "  where I='D' and UNIT ='DREGION' AND VERSION = 3\n",
    "                  \"\"\")\n",
    "  final_price=duckdb.sql(\"\"\"\n",
    "    select\n",
    "    UNIT,\n",
    "    REGIONID,\n",
    "    cast(columns(*exclude(REGIONID,UNIT,SETTLEMENTDATE,I,XX,filename)) as double),\n",
    "    parse_filename(filename) as file,\n",
    "    0 as PRIORITY ,\n",
    "    cast (SETTLEMENTDATE as TIMESTAMPTZ) as SETTLEMENTDATE,\n",
    "    cast(SETTLEMENTDATE as date) as date,\n",
    "\t  isoyear (cast (SETTLEMENTDATE as timestamp)) as YEAR\n",
    "    from raw  \"\"\")\n",
    "  return final_price.record_batch()"
   ]
  },
  {
   "cell_type": "markdown",
   "id": "w_BkXvRb6Wrc",
   "metadata": {
    "id": "w_BkXvRb6Wrc"
   },
   "source": [
    "**<mark>WA </mark>**"
   ]
  },
  {
   "cell_type": "code",
   "execution_count": null,
   "id": "ryf8PBgiU7WZ",
   "metadata": {
    "cellView": "form",
    "id": "ryf8PBgiU7WZ",
    "jupyter": {
     "source_hidden": true
    },
    "microsoft": {
     "language": "python",
     "language_group": "jupyter_python"
    }
   },
   "outputs": [],
   "source": [
    "def get_wa(files_to_upload_full_Path):\n",
    "    final_wa=duckdb.sql(f\"\"\"\n",
    "        select data.code as DUID,\n",
    "        cast(null as varchar) as UNIT,\n",
    "        cast(null as double) as LOWERREGENABLEMENTMAX ,\n",
    "        cast(null as double) as MARGINALVALUE,\n",
    "        data.quantity as INITIALMW,\n",
    "        cast(null as double) as RAISEREGACTUALAVAILABILITY,\n",
    "        cast(null as double) as RAISEREGAVAILABILITY ,\n",
    "        cast(null as double) as LOWER6SECACTUALAVAILABILITY ,\n",
    "        cast(null as double) as RUNNO ,\n",
    "        cast(null as double) as LOWER5MIN ,\n",
    "        cast(null as double) as AGCSTATUS ,\n",
    "        cast(0 as double) as INTERVENTION ,\n",
    "        cast(null as double) as LOWER6SECFLAGS ,\n",
    "        cast(null as double) as MARGINAL6SECVALUE ,\n",
    "        cast(null as double) as RAISE60SECACTUALAVAILABILITY ,\n",
    "        cast(null as double) as RAISE5MIN ,\n",
    "        cast(null as double) as  AVAILABILITY,\n",
    "        cast(null as double) as RAISEREGFLAGS ,\n",
    "        cast(null as double) as VIOLATION6SECDEGREE ,\n",
    "        cast(null as double) as LOWERREGAVAILABILITY ,\n",
    "        cast(null as double) as TOTALCLEARED ,\n",
    "        cast(null as double) as LOWER60SECFLAGS ,\n",
    "        cast(null as double) as LOWERREGENABLEMENTMIN ,\n",
    "        cast(null as double) as LOWERREGACTUALAVAILABILITY ,\n",
    "        cast(null as double) as RAISEREGENABLEMENTMIN ,\n",
    "        cast(null as double) as RAMPUPRATE ,\n",
    "        cast(null as double) as VIOLATIONDEGREE ,\n",
    "        cast(null as double) as LOWER5MINFLAGS ,\n",
    "        cast(null as double) as RAISE6SEC ,\n",
    "        cast(null as double) as LOWER60SECACTUALAVAILABILITY ,\n",
    "        cast(null as double) as MARGINAL5MINVALUE ,\n",
    "        cast(null as double) as RAMPDOWNRATE ,\n",
    "        cast(null as double) as DISPATCHMODE ,\n",
    "        cast(null as double) as RAISE5MINACTUALAVAILABILITY ,\n",
    "        cast(null as double) as VIOLATION60SECDEGREE ,\n",
    "        cast(null as double) as RAISE60SECFLAGS ,\n",
    "        cast(null as double) as RAISEREGENABLEMENTMAX ,\n",
    "        cast(null as double) as RAISE6SECFLAGS ,\n",
    "        cast(null as double) as RAISE60SEC ,\n",
    "        cast(null as double) as MARGINAL60SECVALUE ,\n",
    "        cast(null as double) as LOWER60SEC ,\n",
    "        cast(null as double) as RAISE5MINFLAGS ,\n",
    "        cast(null as double) as LOWERREGFLAGS ,\n",
    "        cast(null as double) as LOWER5MINACTUALAVAILABILITY ,\n",
    "        cast(null as double) as VIOLATION5MINDEGREE ,\n",
    "        cast(null as double) as VERSION ,\n",
    "        cast(null as double) as RAISE6SECACTUALAVAILABILITY ,\n",
    "        cast(null as double) as RAISEREG ,\n",
    "        cast(null as double) as LOWERREG ,\n",
    "        cast(null as double) as LOWER6SEC ,\n",
    "        cast(data.dispatchInterval AS TIMESTAMPTZ) SETTLEMENTDATE  ,\n",
    "        cast(SETTLEMENTDATE as date) as date,\n",
    "        0 as PRIORITY ,\n",
    "        parse_filename(filename) as file,\n",
    "        isoyear (cast (data.dispatchInterval as timestamp)) as YEAR\n",
    "        from (select unnest(data.facilityScadaDispatchIntervals) as data,filename\n",
    "        from read_json_auto({files_to_upload_full_Path},filename=1)) \"\"\")\n",
    "########\n",
    "    df_wa=final_wa.record_batch()\n",
    "    return df_wa"
   ]
  },
  {
   "cell_type": "markdown",
   "id": "2017d997-7cf4-4432-b996-9a774b33278d",
   "metadata": {
    "id": "2017d997-7cf4-4432-b996-9a774b33278d",
    "microsoft": {
     "language": "python",
     "language_group": "jupyter_python"
    },
    "nteract": {
     "transient": {
      "deleting": false
     }
    }
   },
   "source": [
    "# Process Data"
   ]
  },
  {
   "cell_type": "code",
   "execution_count": null,
   "id": "afbb8189",
   "metadata": {
    "microsoft": {
     "language": "python",
     "language_group": "jupyter_python"
    }
   },
   "outputs": [],
   "source": [
    "fs = get_onelake_fs(f\"{ws}\")"
   ]
  },
  {
   "cell_type": "code",
   "execution_count": null,
   "id": "a3734c54-eb5b-4504-8588-95a58a40f922",
   "metadata": {
    "jupyter": {
     "outputs_hidden": false,
     "source_hidden": false
    },
    "microsoft": {
     "language": "python",
     "language_group": "jupyter_python"
    },
    "nteract": {
     "transient": {
      "deleting": false
     }
    }
   },
   "outputs": [],
   "source": [
    "%%time\n",
    "Web_Path                = \"https://nemweb.com.au/Reports/Current/Daily_Reports/\"\n",
    "Zip_Path                = \"/0_Source/Daily_Reports/\"\n",
    "uncompressed_Path       = \"/1_Transform/CSV/Daily_Reports/\"\n",
    "Onelake_table             = table_base_url+'price'\n",
    "#############################################\n",
    "download(Web_Path,Zip_Path,Nbr_Files_to_Download)\n",
    "unzip('/tmp'+Zip_Path,'/tmp'+uncompressed_Path)\n",
    "upload_files(fs, '/tmp'+Zip_Path, onelake_file_root_path + Zip_Path , max_workers= cpu_count())\n",
    "files_to_upload_full_Path = get_Path('/tmp'+uncompressed_Path,Onelake_table)\n",
    "if len(files_to_upload_full_Path) >0 :\n",
    "  df = get_price(files_to_upload_full_Path)\n",
    "  write_deltalake(Onelake_table, df,mode=\"append\",engine=engine, storage_options = storage_options)\n",
    "else:\n",
    "  print('all loaded already')"
   ]
  },
  {
   "cell_type": "code",
   "execution_count": null,
   "id": "530b679f-d8a3-4e3c-93ba-e686e84fd286",
   "metadata": {
    "colab": {
     "base_uri": "https://localhost:8080/",
     "height": 158,
     "referenced_widgets": [
      "6c346c2ef31046ae9e0a775110ea0d24",
      "52b934301c0c48158de9e19b54bf23fb",
      "1401642bcdf64b1b8f3368133199f448"
     ]
    },
    "id": "530b679f-d8a3-4e3c-93ba-e686e84fd286",
    "jupyter": {
     "outputs_hidden": false,
     "source_hidden": false
    },
    "microsoft": {
     "language": "python",
     "language_group": "jupyter_python"
    },
    "nteract": {
     "transient": {
      "deleting": false
     }
    },
    "outputId": "01056e5a-1af2-471d-8dd1-90d02d85a7b0"
   },
   "outputs": [],
   "source": [
    "%%time\n",
    "Onelake_table             = table_base_url+'scada'\n",
    "files_to_upload_full_Path = get_Path('/tmp'+uncompressed_Path,Onelake_table)\n",
    "if len(files_to_upload_full_Path) >0 :\n",
    "    df = get_scada(files_to_upload_full_Path)\n",
    "    write_deltalake(Onelake_table, df,mode=\"append\",partition_by=['YEAR'],engine= engine,storage_options = storage_options)\n",
    "    del df\n",
    "else:\n",
    "  print('all loaded already')"
   ]
  },
  {
   "cell_type": "code",
   "execution_count": null,
   "id": "98e59983-d8c2-4726-b696-a67e1154e279",
   "metadata": {
    "jupyter": {
     "outputs_hidden": false,
     "source_hidden": false
    },
    "microsoft": {
     "language": "python",
     "language_group": "jupyter_python"
    },
    "nteract": {
     "transient": {
      "deleting": false
     }
    }
   },
   "outputs": [],
   "source": [
    "%%time\n",
    "Web_Path                = \"https://data.wa.aemo.com.au/public/market-data/wemde/facilityScada/previous/\"\n",
    "Zip_Path                = \"/0_Source/wa/\"\n",
    "uncompressed_Path       = \"/1_Transform/JSON/WA/facilityScada/\"\n",
    "#############################################\n",
    "download(Web_Path,Zip_Path,Nbr_Files_to_Download)\n",
    "unzip('/tmp'+Zip_Path,'/tmp'+uncompressed_Path)\n",
    "upload_files(fs, '/tmp'+Zip_Path, onelake_file_root_path + Zip_Path , max_workers= cpu_count())\n",
    "Onelake_table             = table_base_url+'wa'\n",
    "files_to_upload_full_Path = get_Path('/tmp'+uncompressed_Path,Onelake_table)\n",
    "if len(files_to_upload_full_Path) >0 :\n",
    "  df = get_wa(files_to_upload_full_Path)\n",
    "  write_deltalake(Onelake_table, df,mode=\"append\",partition_by=['YEAR'],engine= engine,storage_options = storage_options)\n",
    "  del df\n",
    "else:\n",
    "  print('all loaded already')"
   ]
  }
 ],
 "metadata": {
  "a365ComputeOptions": null,
  "colab": {
   "provenance": []
  },
  "dependencies": {
   "environment": {},
   "lakehouse": {},
   "warehouse": {
    "default_warehouse": "d9907fb4-2edd-4ad9-8bc3-6617b1ce1959",
    "known_warehouses": [
     {
      "id": "d9907fb4-2edd-4ad9-8bc3-6617b1ce1959",
      "type": "Datawarehouse"
     }
    ]
   }
  },
  "kernel_info": {
   "jupyter_kernel_name": "python3.11",
   "name": "jupyter"
  },
  "kernelspec": {
   "display_name": "Python 3",
   "language": "python",
   "name": "python3"
  },
  "language_info": {
   "name": "python",
   "version": "3.11.9"
  },
  "microsoft": {
   "language": "python",
   "language_group": "jupyter_python",
   "ms_spell_check": {
    "ms_spell_check_language": "en"
   }
  },
  "notebook_environment": {},
  "nteract": {
   "version": "nteract-front-end@1.0.0"
  },
  "save_output": true,
  "sessionKeepAliveTimeout": 0,
  "spark_compute": {
   "compute_id": "/trident/default",
   "session_options": {
    "conf": {
     "spark.synapse.nbs.session.timeout": "1200000"
    },
    "enableDebugMode": false
   }
  },
  "synapse_widget": {
   "state": {},
   "version": "0.1"
  },
  "widgets": {
   "application/vnd.jupyter.widget-state+json": {
    "state": {
     "015fb35bc27e4296af493c9f5a66978a": {
      "model_module": "@jupyter-widgets/controls",
      "model_module_version": "2.0.0",
      "model_name": "FloatProgressModel",
      "state": {
       "layout": "IPY_MODEL_94f28ab2baf04236959da339ea010abb",
       "style": "IPY_MODEL_f8693bec1ea9498db3cadfd37a0c24a5",
       "value": 100
      }
     },
     "043aa9ac773941b1955754894badd734": {
      "model_module": "@jupyter-widgets/controls",
      "model_module_version": "2.0.0",
      "model_name": "ProgressStyleModel",
      "state": {
       "bar_color": "black",
       "description_width": ""
      }
     },
     "074776b967594e769012565a5b4ef793": {
      "model_module": "@jupyter-widgets/controls",
      "model_module_version": "2.0.0",
      "model_name": "FloatProgressModel",
      "state": {
       "layout": "IPY_MODEL_b6e9661015df42d9ac83c6181be0a6a0",
       "style": "IPY_MODEL_7313c2f790c84099892d1cf6937413a6"
      }
     },
     "09b405dd559b4fb9ac768a351fc74aaa": {
      "model_module": "@jupyter-widgets/base",
      "model_module_version": "2.0.0",
      "model_name": "LayoutModel",
      "state": {
       "width": "auto"
      }
     },
     "148968b0d0dc46839d6f82ccc1a36637": {
      "model_module": "@jupyter-widgets/controls",
      "model_module_version": "2.0.0",
      "model_name": "FloatProgressModel",
      "state": {
       "layout": "IPY_MODEL_8cd209d4222240c29007d264499b3f0e",
       "style": "IPY_MODEL_73ef367edf04473ab8185cbddd758ecf",
       "value": 100
      }
     },
     "38f1373dc5ac4db68a20b0d6819f36a2": {
      "model_module": "@jupyter-widgets/base",
      "model_module_version": "2.0.0",
      "model_name": "LayoutModel",
      "state": {
       "width": "auto"
      }
     },
     "3a733f3407ef4e098ceab23b3ce7fde5": {
      "model_module": "@jupyter-widgets/controls",
      "model_module_version": "2.0.0",
      "model_name": "ProgressStyleModel",
      "state": {
       "bar_color": "black",
       "description_width": ""
      }
     },
     "53f4e9972a7f4bc39f6db783bb5e52c0": {
      "model_module": "@jupyter-widgets/controls",
      "model_module_version": "2.0.0",
      "model_name": "FloatProgressModel",
      "state": {
       "layout": "IPY_MODEL_c9a385cd9c724fc8a35dbadb6306826b",
       "style": "IPY_MODEL_95be9dc8e6f84a929643937d58143685"
      }
     },
     "5ec59a65cc3d4205b7666149ae6a004c": {
      "model_module": "@jupyter-widgets/base",
      "model_module_version": "2.0.0",
      "model_name": "LayoutModel",
      "state": {
       "width": "auto"
      }
     },
     "6fb871782c6f4754bec71c650e065a06": {
      "model_module": "@jupyter-widgets/controls",
      "model_module_version": "2.0.0",
      "model_name": "FloatProgressModel",
      "state": {
       "layout": "IPY_MODEL_5ec59a65cc3d4205b7666149ae6a004c",
       "style": "IPY_MODEL_f5598be2adab45d9b9eda464fb09c147",
       "value": 77
      }
     },
     "7313c2f790c84099892d1cf6937413a6": {
      "model_module": "@jupyter-widgets/controls",
      "model_module_version": "2.0.0",
      "model_name": "ProgressStyleModel",
      "state": {
       "bar_color": "black",
       "description_width": ""
      }
     },
     "73ef367edf04473ab8185cbddd758ecf": {
      "model_module": "@jupyter-widgets/controls",
      "model_module_version": "2.0.0",
      "model_name": "ProgressStyleModel",
      "state": {
       "bar_color": "black",
       "description_width": ""
      }
     },
     "74eadaf9a891412d8b7b5b6f379015a2": {
      "model_module": "@jupyter-widgets/controls",
      "model_module_version": "2.0.0",
      "model_name": "FloatProgressModel",
      "state": {
       "layout": "IPY_MODEL_7f2ea36ba49f45dba107aa10ad679a35",
       "style": "IPY_MODEL_9764a1a8e00649a68ca36858c84e9c27"
      }
     },
     "7654f1adcbcd4e88ad31565d3e58f15a": {
      "model_module": "@jupyter-widgets/controls",
      "model_module_version": "2.0.0",
      "model_name": "FloatProgressModel",
      "state": {
       "layout": "IPY_MODEL_09b405dd559b4fb9ac768a351fc74aaa",
       "style": "IPY_MODEL_3a733f3407ef4e098ceab23b3ce7fde5",
       "value": 3
      }
     },
     "7a5b0de9170d4bf392871dbdc9ad470f": {
      "model_module": "@jupyter-widgets/base",
      "model_module_version": "2.0.0",
      "model_name": "LayoutModel",
      "state": {
       "width": "auto"
      }
     },
     "7f2ea36ba49f45dba107aa10ad679a35": {
      "model_module": "@jupyter-widgets/base",
      "model_module_version": "2.0.0",
      "model_name": "LayoutModel",
      "state": {
       "width": "auto"
      }
     },
     "80b1cd1b0a8d4d268c9bbe3fd319c5fa": {
      "model_module": "@jupyter-widgets/base",
      "model_module_version": "2.0.0",
      "model_name": "LayoutModel",
      "state": {
       "width": "auto"
      }
     },
     "887ae7661ddd4f46a49fc5b74cdcef3d": {
      "model_module": "@jupyter-widgets/controls",
      "model_module_version": "2.0.0",
      "model_name": "ProgressStyleModel",
      "state": {
       "bar_color": "black",
       "description_width": ""
      }
     },
     "8cd209d4222240c29007d264499b3f0e": {
      "model_module": "@jupyter-widgets/base",
      "model_module_version": "2.0.0",
      "model_name": "LayoutModel",
      "state": {
       "width": "auto"
      }
     },
     "94f28ab2baf04236959da339ea010abb": {
      "model_module": "@jupyter-widgets/base",
      "model_module_version": "2.0.0",
      "model_name": "LayoutModel",
      "state": {
       "width": "auto"
      }
     },
     "95be9dc8e6f84a929643937d58143685": {
      "model_module": "@jupyter-widgets/controls",
      "model_module_version": "2.0.0",
      "model_name": "ProgressStyleModel",
      "state": {
       "bar_color": "black",
       "description_width": ""
      }
     },
     "9764a1a8e00649a68ca36858c84e9c27": {
      "model_module": "@jupyter-widgets/controls",
      "model_module_version": "2.0.0",
      "model_name": "ProgressStyleModel",
      "state": {
       "bar_color": "black",
       "description_width": ""
      }
     },
     "9eb98082c7fa4a7c92d38f012ce06b99": {
      "model_module": "@jupyter-widgets/controls",
      "model_module_version": "2.0.0",
      "model_name": "FloatProgressModel",
      "state": {
       "layout": "IPY_MODEL_7a5b0de9170d4bf392871dbdc9ad470f",
       "style": "IPY_MODEL_043aa9ac773941b1955754894badd734",
       "value": 100
      }
     },
     "a12e15e9c924418f9fb208106b1fd382": {
      "model_module": "@jupyter-widgets/controls",
      "model_module_version": "2.0.0",
      "model_name": "ProgressStyleModel",
      "state": {
       "bar_color": "black",
       "description_width": ""
      }
     },
     "adfdf9480c244fdea6e180a8fafc1ba4": {
      "model_module": "@jupyter-widgets/controls",
      "model_module_version": "2.0.0",
      "model_name": "FloatProgressModel",
      "state": {
       "layout": "IPY_MODEL_e86f0d83171545c682552719159e1c59",
       "style": "IPY_MODEL_f8466a20a8ad4cf1815cb5b002a3335f",
       "value": 22
      }
     },
     "b6e9661015df42d9ac83c6181be0a6a0": {
      "model_module": "@jupyter-widgets/base",
      "model_module_version": "2.0.0",
      "model_name": "LayoutModel",
      "state": {
       "width": "auto"
      }
     },
     "c9a385cd9c724fc8a35dbadb6306826b": {
      "model_module": "@jupyter-widgets/base",
      "model_module_version": "2.0.0",
      "model_name": "LayoutModel",
      "state": {
       "width": "auto"
      }
     },
     "de2419b7c79d4242bcdd3d5582d94dc6": {
      "model_module": "@jupyter-widgets/controls",
      "model_module_version": "2.0.0",
      "model_name": "FloatProgressModel",
      "state": {
       "layout": "IPY_MODEL_38f1373dc5ac4db68a20b0d6819f36a2",
       "style": "IPY_MODEL_887ae7661ddd4f46a49fc5b74cdcef3d",
       "value": 100
      }
     },
     "e86f0d83171545c682552719159e1c59": {
      "model_module": "@jupyter-widgets/base",
      "model_module_version": "2.0.0",
      "model_name": "LayoutModel",
      "state": {
       "width": "auto"
      }
     },
     "f5598be2adab45d9b9eda464fb09c147": {
      "model_module": "@jupyter-widgets/controls",
      "model_module_version": "2.0.0",
      "model_name": "ProgressStyleModel",
      "state": {
       "bar_color": "black",
       "description_width": ""
      }
     },
     "f7d501a5f6cc4a138e0c6cece10ec1d1": {
      "model_module": "@jupyter-widgets/controls",
      "model_module_version": "2.0.0",
      "model_name": "FloatProgressModel",
      "state": {
       "layout": "IPY_MODEL_80b1cd1b0a8d4d268c9bbe3fd319c5fa",
       "style": "IPY_MODEL_a12e15e9c924418f9fb208106b1fd382",
       "value": 100
      }
     },
     "f8466a20a8ad4cf1815cb5b002a3335f": {
      "model_module": "@jupyter-widgets/controls",
      "model_module_version": "2.0.0",
      "model_name": "ProgressStyleModel",
      "state": {
       "bar_color": "black",
       "description_width": ""
      }
     },
     "f8693bec1ea9498db3cadfd37a0c24a5": {
      "model_module": "@jupyter-widgets/controls",
      "model_module_version": "2.0.0",
      "model_name": "ProgressStyleModel",
      "state": {
       "bar_color": "black",
       "description_width": ""
      }
     }
    },
    "version_major": 2,
    "version_minor": 0
   }
  }
 },
 "nbformat": 4,
 "nbformat_minor": 5
}
