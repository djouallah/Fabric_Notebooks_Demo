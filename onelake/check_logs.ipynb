{
 "cells": [
  {
   "cell_type": "code",
   "execution_count": 13,
   "id": "7000e712-8824-46f1-86fd-8eb4a1ed3359",
   "metadata": {
    "microsoft": {
     "language": "python",
     "language_group": "jupyter_python"
    }
   },
   "outputs": [],
   "source": [
    "!pip install -q duckrun --upgrade"
   ]
  },
  {
   "cell_type": "code",
   "execution_count": 14,
   "id": "9cb0a06c-1709-43ba-983d-e25e9d8d9fe2",
   "metadata": {
    "microsoft": {
     "language": "python",
     "language_group": "jupyter_python"
    }
   },
   "outputs": [
    {
     "name": "stdout",
     "output_type": "stream",
     "text": [
      "✅ Using existing Azure Storage token\n",
      "✅ Using existing Azure Storage token\n"
     ]
    }
   ],
   "source": [
    "import duckrun\n",
    "con = duckrun.connect('bigdata/tpch.lakehouse/dbo')\n",
    "onelake_logs_path = 'abfss://bigdata@onelake.dfs.fabric.microsoft.com/tpch.Lakehouse/Files/DiagnosticLogs/OneLake/Workspaces/*/y=*/m=*/d=*/h=*/m=*/*.json'"
   ]
  },
  {
   "cell_type": "code",
   "execution_count": 15,
   "id": "1599c8fc-9e76-4947-b3ef-9ea2a0115620",
   "metadata": {
    "microsoft": {
     "language": "python",
     "language_group": "jupyter_python"
    }
   },
   "outputs": [
    {
     "name": "stdout",
     "output_type": "stream",
     "text": [
      "✅ Using existing Azure Storage token\n",
      "Writing to Delta table: dbo.logs (mode=append) (engine=rust, schema_mode=merge)\n"
     ]
    },
    {
     "data": {
      "application/vnd.jupyter.widget-view+json": {
       "model_id": "7c78a1a4ca0e4ee3830e950d98816de7",
       "version_major": 2,
       "version_minor": 0
      },
      "text/plain": [
       "FloatProgress(value=0.0, layout=Layout(width='auto'), style=ProgressStyle(bar_color='black'))"
      ]
     },
     "metadata": {},
     "output_type": "display_data"
    },
    {
     "name": "stdout",
     "output_type": "stream",
     "text": [
      "✅ Data appended to dbo.logs\n"
     ]
    }
   ],
   "source": [
    "try:\n",
    "    con.sql(f\"\"\"  \n",
    "        CREATE VIEW if not exists logs(file) AS SELECT 'dummy';\n",
    "    SET VARIABLE list_of_files =\n",
    "    (\n",
    "    WITH xxxx AS (\n",
    "        SELECT\n",
    "        file\n",
    "        FROM glob('{onelake_logs_path}')\n",
    "        WHERE file NOT IN (SELECT DISTINCT file FROM logs) ORDER BY file\n",
    "        \n",
    "    )\n",
    "    SELECT list(file) FROM xxxx\n",
    "    );\n",
    "        select *exclude(data),data.*, filename as file  from read_json_auto(GETVARIABLE('list_of_files'),hive_partitioning = true,union_by_name = 1,FILENAME = 1)\n",
    "                \"\"\").write.mode(\"append\").option(\"mergeSchema\", \"true\").saveAsTable('logs')\n",
    "except Exception as e:\n",
    "    print(f\"An error occurred: {e}\")"
   ]
  },
  {
   "cell_type": "code",
   "execution_count": 21,
   "id": "4691cc12-9a51-4990-ae59-8465b3887ac3",
   "metadata": {
    "microsoft": {
     "language": "python",
     "language_group": "jupyter_python"
    }
   },
   "outputs": [
    {
     "name": "stdout",
     "output_type": "stream",
     "text": [
      "┌───────────────────────────────────────────────────────────────┬──────────────┐\n",
      "│                        originatingApp                         │ count_star() │\n",
      "│                            varchar                            │    int64     │\n",
      "├───────────────────────────────────────────────────────────────┼──────────────┤\n",
      "│ Model                                                         │        11306 │\n",
      "│ Spark                                                         │         5609 │\n",
      "│ SqlAnalyticsEndpoint                                          │         5425 │\n",
      "│ Fabric                                                        │         1570 │\n",
      "│ object_store/0.12.4                                           │          930 │\n",
      "│ FabricPortal                                                  │          242 │\n",
      "│ azsdk-cpp-storage-files-datalake/12.12.0 (Windows 10 Enterp…  │          194 │\n",
      "│ RuntimeLineage                                                │          132 │\n",
      "│ azsdk-cpp-storage-blobs/12.13.0 (Windows 10 Enterprise 6.3 …  │           80 │\n",
      "│ object_store/0.10.1                                           │           11 │\n",
      "│ object_store/0.12.3                                           │            8 │\n",
      "├───────────────────────────────────────────────────────────────┴──────────────┤\n",
      "│ 11 rows                                                            2 columns │\n",
      "└──────────────────────────────────────────────────────────────────────────────┘\n",
      "\n"
     ]
    }
   ],
   "source": [
    "con.sql(\"\"\" select originatingApp, count(*)\n",
    " from logs\n",
    "  group by all\n",
    "  order by 2 desc\n",
    "   \"\"\").show(max_width=5)"
   ]
  },
  {
   "cell_type": "code",
   "execution_count": 17,
   "id": "85d9d5c4-c944-4a38-8c7d-224b7004b3ff",
   "metadata": {
    "microsoft": {
     "language": "python",
     "language_group": "jupyter_python"
    }
   },
   "outputs": [
    {
     "name": "stdout",
     "output_type": "stream",
     "text": [
      "✅ Using cached Fabric API token\n",
      "✅ Using cached Fabric API token\n",
      "✅ Using cached Fabric API token\n",
      "✅ Using cached Fabric API token\n",
      "✅ Using cached Fabric API token\n",
      "✅ Using cached Fabric API token\n"
     ]
    },
    {
     "data": {
      "application/vnd.jupyter.widget-view+json": {
       "model_id": "f83d55f20e0b410d8e12166c32c917d2",
       "version_major": 2,
       "version_minor": 0
      },
      "text/plain": [
       "FloatProgress(value=0.0, layout=Layout(width='auto'), style=ProgressStyle(bar_color='black'))"
      ]
     },
     "metadata": {},
     "output_type": "display_data"
    },
    {
     "name": "stdout",
     "output_type": "stream",
     "text": [
      "┌────────────────┬────────────────┬──────────────────────┬───┬────────────────┬─────────────┬──────────────┐\n",
      "│ workspace_name │ lakehouse_name │    originatingApp    │ … │ httpStatusCode │ schema_name │ count_star() │\n",
      "│    varchar     │    varchar     │       varchar        │   │     int64      │   varchar   │    int64     │\n",
      "├────────────────┼────────────────┼──────────────────────┼───┼────────────────┼─────────────┼──────────────┤\n",
      "│ bigdata        │ tpch           │ Fabric               │ … │            206 │ dbo         │          258 │\n",
      "│ bigdata        │ tpch           │ Fabric               │ … │            200 │             │           19 │\n",
      "│ bigdata        │ tpch           │ Fabric               │ … │            200 │ dbo         │          158 │\n",
      "│ bigdata        │ tpch           │ Fabric               │ … │            404 │             │            1 │\n",
      "│ bigdata        │ tpch           │ Fabric               │ … │            404 │ dbo         │           29 │\n",
      "│ bigdata        │ tpch           │ FabricPortal         │ … │            200 │             │          117 │\n",
      "│ bigdata        │ tpch           │ FabricPortal         │ … │            200 │ CH03000     │            8 │\n",
      "│ bigdata        │ tpch           │ FabricPortal         │ … │            200 │ dbo         │            3 │\n",
      "│ bigdata        │ tpch           │ FabricPortal         │ … │            200 │ CH00015     │            8 │\n",
      "│ bigdata        │ tpch           │ FabricPortal         │ … │            200 │ dbo         │           10 │\n",
      "│  ·             │  ·             │      ·               │ · │             ·  │  ·          │            · │\n",
      "│  ·             │  ·             │      ·               │ · │             ·  │  ·          │            · │\n",
      "│  ·             │  ·             │      ·               │ · │             ·  │  ·          │            · │\n",
      "│ tmp            │ data           │ SqlAnalyticsEndpoint │ … │            404 │ aemo        │           70 │\n",
      "│ tmp            │ data           │ SqlAnalyticsEndpoint │ … │            206 │ aemo        │           16 │\n",
      "│ tmp            │ data           │ SqlAnalyticsEndpoint │ … │            404 │ dbo         │           15 │\n",
      "│ tmp            │ data           │ object_store/0.12.3  │ … │            200 │             │            4 │\n",
      "│ tmp            │ data           │ object_store/0.12.4  │ … │            206 │ dbo         │           40 │\n",
      "│ tmp            │ data           │ object_store/0.12.4  │ … │            200 │ dbo         │            8 │\n",
      "│ tmp            │ data           │ object_store/0.12.4  │ … │            404 │ dbo         │            4 │\n",
      "│ tmp            │ data           │ object_store/0.12.4  │ … │            200 │ dbo         │          720 │\n",
      "│ tmp            │ data           │ object_store/0.12.4  │ … │            499 │ dbo         │           15 │\n",
      "│ tmp            │ data           │ object_store/0.12.4  │ … │            200 │             │            8 │\n",
      "├────────────────┴────────────────┴──────────────────────┴───┴────────────────┴─────────────┴──────────────┤\n",
      "│ 124 rows (20 shown)                                                                  7 columns (6 shown) │\n",
      "└──────────────────────────────────────────────────────────────────────────────────────────────────────────┘\n",
      "\n"
     ]
    }
   ],
   "source": [
    "con.sql(\"\"\" select \n",
    "get_workspace_name(workspaceid) as workspace_name,\n",
    "get_lakehouse_name(workspaceid, itemId) as lakehouse_name,\n",
    "originatingApp,operationName,httpStatusCode , \n",
    "regexp_extract(resource, '([^&/]+)/([^&/]+)/(Tables|Files)(?:/([^&/]+))?(?:/([^&/]+))?', 4) AS schema_name, count(*)\n",
    " from logs\n",
    "  group by all\n",
    "  order by 1,2,3 \"\"\").show(max_width=120)"
   ]
  },
  {
   "cell_type": "code",
   "execution_count": 18,
   "id": "e590c597-52ac-4f68-abf6-901c999670d4",
   "metadata": {
    "microsoft": {
     "language": "python",
     "language_group": "jupyter_python"
    }
   },
   "outputs": [
    {
     "name": "stdout",
     "output_type": "stream",
     "text": [
      "┌────────────────┬────────────────┬────────────────┬──────────────────────┬───────────┐\n",
      "│  schema_name   │ workspace_name │ lakehouse_name │    originatingApp    │ API_calls │\n",
      "│    varchar     │    varchar     │    varchar     │       varchar        │   int64   │\n",
      "├────────────────┼────────────────┼────────────────┼──────────────────────┼───────────┤\n",
      "│ aemo           │ tmp            │ data           │ Model                │     11300 │\n",
      "│ DiagnosticLogs │ bigdata        │ tpch           │ Spark                │      2605 │\n",
      "│ CH10000        │ bigdata        │ tpch           │ SqlAnalyticsEndpoint │      2419 │\n",
      "│ Reports        │ tmp            │ data           │ Spark                │      1131 │\n",
      "│ aemo           │ tmp            │ data           │ Spark                │       980 │\n",
      "└────────────────┴────────────────┴────────────────┴──────────────────────┴───────────┘\n",
      "\n"
     ]
    }
   ],
   "source": [
    "con.sql(\"\"\" select \n",
    "regexp_extract(resource, '([^&/]+)/([^&/]+)/(Tables|Files)(?:/([^&/]+))?(?:/([^&/]+))?', 4) AS schema_name,\n",
    "get_workspace_name(workspaceid) as workspace_name,\n",
    "get_lakehouse_name(workspaceid, itemId) as lakehouse_name,\n",
    "originatingApp ,\n",
    " count(*) as API_calls\n",
    " from logs\n",
    "  group by all\n",
    "  order by API_calls desc\n",
    "  limit 5\n",
    "   \"\"\").show(max_width=140)"
   ]
  }
 ],
 "metadata": {
  "dependencies": {
   "lakehouse": {}
  },
  "kernel_info": {
   "jupyter_kernel_name": "python3.11",
   "name": "jupyter"
  },
  "kernelspec": {
   "display_name": "Python 3",
   "language": "python",
   "name": "python3"
  },
  "language_info": {
   "codemirror_mode": {
    "name": "ipython",
    "version": 3
   },
   "file_extension": ".py",
   "mimetype": "text/x-python",
   "name": "python",
   "nbconvert_exporter": "python",
   "pygments_lexer": "ipython3",
   "version": "3.11.9"
  },
  "microsoft": {
   "language": "python",
   "language_group": "jupyter_python",
   "ms_spell_check": {
    "ms_spell_check_language": "en"
   }
  },
  "nteract": {
   "version": "nteract-front-end@1.0.0"
  },
  "spark_compute": {
   "compute_id": "/trident/default",
   "session_options": {
    "conf": {
     "spark.synapse.nbs.session.timeout": "1200000"
    }
   }
  },
  "widgets": {
   "application/vnd.jupyter.widget-state+json": {
    "state": {
     "064daa8d783646199fa0fd49bfc5ede6": {
      "model_module": "@jupyter-widgets/base",
      "model_module_version": "2.0.0",
      "model_name": "LayoutModel",
      "state": {
       "width": "auto"
      }
     },
     "0dca13b405a84944963a05f686c56481": {
      "model_module": "@jupyter-widgets/base",
      "model_module_version": "2.0.0",
      "model_name": "LayoutModel",
      "state": {
       "width": "auto"
      }
     },
     "1035c0fc1a014d4abd74a2e564be9b5e": {
      "model_module": "@jupyter-widgets/controls",
      "model_module_version": "2.0.0",
      "model_name": "ProgressStyleModel",
      "state": {
       "bar_color": "black",
       "description_width": ""
      }
     },
     "1085528cb5ce4cd5aaf9ab198d217561": {
      "model_module": "@jupyter-widgets/base",
      "model_module_version": "2.0.0",
      "model_name": "LayoutModel",
      "state": {
       "width": "auto"
      }
     },
     "159538c6d0854e42b58307e2c7fd7d63": {
      "model_module": "@jupyter-widgets/base",
      "model_module_version": "2.0.0",
      "model_name": "LayoutModel",
      "state": {
       "width": "auto"
      }
     },
     "40aa7214d4324b10a96641a8de8867c1": {
      "model_module": "@jupyter-widgets/controls",
      "model_module_version": "2.0.0",
      "model_name": "FloatProgressModel",
      "state": {
       "layout": "IPY_MODEL_0dca13b405a84944963a05f686c56481",
       "style": "IPY_MODEL_db36bb9a00a74c0bbd74c13c69be48fa",
       "value": 100
      }
     },
     "4edf9b9cdc8e4f87ac698acf536d6ff5": {
      "model_module": "@jupyter-widgets/controls",
      "model_module_version": "2.0.0",
      "model_name": "ProgressStyleModel",
      "state": {
       "bar_color": "black",
       "description_width": ""
      }
     },
     "506fd37479874463878f2498f0cd40fd": {
      "model_module": "@jupyter-widgets/base",
      "model_module_version": "2.0.0",
      "model_name": "LayoutModel",
      "state": {
       "width": "auto"
      }
     },
     "5f276d9bca684703a7357b85ee51513f": {
      "model_module": "@jupyter-widgets/controls",
      "model_module_version": "2.0.0",
      "model_name": "ProgressStyleModel",
      "state": {
       "bar_color": "black",
       "description_width": ""
      }
     },
     "75440605797646789356db323425249d": {
      "model_module": "@jupyter-widgets/controls",
      "model_module_version": "2.0.0",
      "model_name": "ProgressStyleModel",
      "state": {
       "bar_color": "black",
       "description_width": ""
      }
     },
     "836dd643935b47349be8390660f3d62b": {
      "model_module": "@jupyter-widgets/controls",
      "model_module_version": "2.0.0",
      "model_name": "ProgressStyleModel",
      "state": {
       "bar_color": "black",
       "description_width": ""
      }
     },
     "83bd0a5627ef485bb0bde40793501cb4": {
      "model_module": "@jupyter-widgets/controls",
      "model_module_version": "2.0.0",
      "model_name": "FloatProgressModel",
      "state": {
       "layout": "IPY_MODEL_f023a3eff6584984afdf779e49cf7e0c",
       "style": "IPY_MODEL_ecb2e0cb3a7b45f0968791bced2a2f47",
       "value": 100
      }
     },
     "8d971801411449e28d19e5054c74e017": {
      "model_module": "@jupyter-widgets/controls",
      "model_module_version": "2.0.0",
      "model_name": "ProgressStyleModel",
      "state": {
       "bar_color": "black",
       "description_width": ""
      }
     },
     "8fb0e8974e0e4107a950083772210fe7": {
      "model_module": "@jupyter-widgets/controls",
      "model_module_version": "2.0.0",
      "model_name": "FloatProgressModel",
      "state": {
       "layout": "IPY_MODEL_506fd37479874463878f2498f0cd40fd",
       "style": "IPY_MODEL_5f276d9bca684703a7357b85ee51513f",
       "value": 100
      }
     },
     "9772c6cf3b5b41e19a15574a15612603": {
      "model_module": "@jupyter-widgets/controls",
      "model_module_version": "2.0.0",
      "model_name": "FloatProgressModel",
      "state": {
       "layout": "IPY_MODEL_b0fc19af99c24fe0893359cf3745612c",
       "style": "IPY_MODEL_c88c418fbe194378aa148d9f4b7f9fac",
       "value": 100
      }
     },
     "9b4e5c8abadb40c69380f0de7e4b49c0": {
      "model_module": "@jupyter-widgets/base",
      "model_module_version": "2.0.0",
      "model_name": "LayoutModel",
      "state": {
       "width": "auto"
      }
     },
     "9c6a538c253f41f2ae7145fda4620e54": {
      "model_module": "@jupyter-widgets/controls",
      "model_module_version": "2.0.0",
      "model_name": "FloatProgressModel",
      "state": {
       "layout": "IPY_MODEL_1085528cb5ce4cd5aaf9ab198d217561",
       "style": "IPY_MODEL_4edf9b9cdc8e4f87ac698acf536d6ff5",
       "value": 100
      }
     },
     "b0fc19af99c24fe0893359cf3745612c": {
      "model_module": "@jupyter-widgets/base",
      "model_module_version": "2.0.0",
      "model_name": "LayoutModel",
      "state": {
       "width": "auto"
      }
     },
     "b894ae1e3c484b30bfceccb91239df0b": {
      "model_module": "@jupyter-widgets/controls",
      "model_module_version": "2.0.0",
      "model_name": "FloatProgressModel",
      "state": {
       "layout": "IPY_MODEL_9b4e5c8abadb40c69380f0de7e4b49c0",
       "style": "IPY_MODEL_8d971801411449e28d19e5054c74e017",
       "value": 100
      }
     },
     "bf708500c29f4e36b1c37cff2320d9e8": {
      "model_module": "@jupyter-widgets/controls",
      "model_module_version": "2.0.0",
      "model_name": "FloatProgressModel",
      "state": {
       "layout": "IPY_MODEL_064daa8d783646199fa0fd49bfc5ede6",
       "style": "IPY_MODEL_75440605797646789356db323425249d",
       "value": 100
      }
     },
     "c88c418fbe194378aa148d9f4b7f9fac": {
      "model_module": "@jupyter-widgets/controls",
      "model_module_version": "2.0.0",
      "model_name": "ProgressStyleModel",
      "state": {
       "bar_color": "black",
       "description_width": ""
      }
     },
     "d420fa5e544d428aa263c7f36f2e7c15": {
      "model_module": "@jupyter-widgets/controls",
      "model_module_version": "2.0.0",
      "model_name": "FloatProgressModel",
      "state": {
       "layout": "IPY_MODEL_d5de8af2d2274105a07a9633af4cc68f",
       "style": "IPY_MODEL_836dd643935b47349be8390660f3d62b",
       "value": 100
      }
     },
     "d5a9a14427c748fbb183897e040d0f40": {
      "model_module": "@jupyter-widgets/controls",
      "model_module_version": "2.0.0",
      "model_name": "FloatProgressModel",
      "state": {
       "layout": "IPY_MODEL_159538c6d0854e42b58307e2c7fd7d63",
       "style": "IPY_MODEL_1035c0fc1a014d4abd74a2e564be9b5e",
       "value": 100
      }
     },
     "d5de8af2d2274105a07a9633af4cc68f": {
      "model_module": "@jupyter-widgets/base",
      "model_module_version": "2.0.0",
      "model_name": "LayoutModel",
      "state": {
       "width": "auto"
      }
     },
     "db36bb9a00a74c0bbd74c13c69be48fa": {
      "model_module": "@jupyter-widgets/controls",
      "model_module_version": "2.0.0",
      "model_name": "ProgressStyleModel",
      "state": {
       "bar_color": "black",
       "description_width": ""
      }
     },
     "ecb2e0cb3a7b45f0968791bced2a2f47": {
      "model_module": "@jupyter-widgets/controls",
      "model_module_version": "2.0.0",
      "model_name": "ProgressStyleModel",
      "state": {
       "bar_color": "black",
       "description_width": ""
      }
     },
     "f023a3eff6584984afdf779e49cf7e0c": {
      "model_module": "@jupyter-widgets/base",
      "model_module_version": "2.0.0",
      "model_name": "LayoutModel",
      "state": {
       "width": "auto"
      }
     }
    },
    "version_major": 2,
    "version_minor": 0
   }
  }
 },
 "nbformat": 4,
 "nbformat_minor": 5
}
