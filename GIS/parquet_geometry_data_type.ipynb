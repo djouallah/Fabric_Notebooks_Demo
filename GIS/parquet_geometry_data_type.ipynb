{
 "cells": [
  {
   "cell_type": "code",
   "execution_count": null,
   "id": "a9aa09b5-a860-4672-a1fd-b81ab896f827",
   "metadata": {
    "id": "wyOKdfOzgZ78",
    "microsoft": {
     "language": "python",
     "language_group": "jupyter_python"
    }
   },
   "outputs": [],
   "source": [
    "!pip install -q duckdb  --pre --upgrade\n",
    "!pip install -q pyarrow --upgrade\n",
    "!pip install geopandas  --upgrade\n",
    "import sys\n",
    "sys.exit(0)"
   ]
  },
  {
   "cell_type": "code",
   "execution_count": null,
   "id": "359e1b4a-d291-498d-a802-c7486dfad9e5",
   "metadata": {
    "id": "dhGa-nb7rYg0",
    "microsoft": {
     "language": "python",
     "language_group": "jupyter_python"
    }
   },
   "outputs": [],
   "source": [
    "import duckdb\n",
    "import urllib.request\n",
    "import zipfile\n",
    "import os\n",
    "duckdb.sql(\"INSTALL spatial; LOAD spatial;\")"
   ]
  },
  {
   "cell_type": "code",
   "execution_count": null,
   "id": "d9bd3957-d564-41ad-9aa5-cfd32bbbbbe6",
   "metadata": {
    "id": "Or4K3RuCHfQV",
    "microsoft": {
     "language": "python",
     "language_group": "jupyter_python"
    }
   },
   "outputs": [],
   "source": [
    "population_url = \"https://api.worldbank.org/v2/en/indicator/SP.POP.TOTL?downloadformat=csv\"\n",
    "local_population_file = \"world_population.csv.zip\"  # Renamed to reflect it's a zip file\n",
    "urllib.request.urlretrieve(population_url, local_population_file)\n",
    "extract_dir = \"/lakehouse/default/Files/zip\"\n",
    "os.makedirs(extract_dir, exist_ok=True)\n",
    "with zipfile.ZipFile(local_population_file, 'r') as zip_ref:\n",
    "    zip_ref.extractall(extract_dir)\n",
    "\n",
    "url = \"https://raw.githubusercontent.com/datasets/geo-countries/master/data/countries.geojson\"\n",
    "local_file = \"/lakehouse/default/Files/countries.geojson\"\n",
    "urllib.request.urlretrieve(url, local_file)"
   ]
  },
  {
   "cell_type": "code",
   "execution_count": null,
   "id": "6e98b228-3d3f-4c97-8259-1b6f6160a957",
   "metadata": {
    "id": "VxuuJn6ZICov",
    "microsoft": {
     "language": "python",
     "language_group": "jupyter_python"
    }
   },
   "outputs": [],
   "source": [
    "duckdb.sql(f\"\"\"\n",
    "                CREATE OR REPLACE view population AS\n",
    "                SELECT * from read_csv('{extract_dir}/API*.csv',header=1,normalize_names=1);\n",
    "                from population limit 4\n",
    "          \"\"\").show(max_width=100)"
   ]
  },
  {
   "cell_type": "code",
   "execution_count": null,
   "id": "d29522ad-aaf0-4ee8-ab2e-56fc91e91b04",
   "metadata": {
    "colab": {
     "base_uri": "https://localhost:8080/",
     "height": 223,
     "referenced_widgets": [
      "4a355f13a3b146f2a251bb02873abd85",
      "ebf4d8860ef44b0aa0b81eeb8b16e3c0",
      "a1b05395f6e841f49553acd937d6784a"
     ]
    },
    "id": "epf79CuKjy_g",
    "microsoft": {
     "language": "python",
     "language_group": "jupyter_python"
    },
    "outputId": "cbdf8f71-4c8f-4223-92cd-87aa08f26b8b"
   },
   "outputs": [],
   "source": [
    "duckdb.sql(f\"\"\"\n",
    "                  CREATE OR REPLACE view countries AS\n",
    "                  SELECT * FROM ST_Read('{local_file}');\n",
    "                  from countries limit 4\n",
    "            \"\"\").show(max_width=100)"
   ]
  },
  {
   "cell_type": "code",
   "execution_count": null,
   "id": "5c977c28-03a0-49bd-bb34-53b7a16a210a",
   "metadata": {
    "id": "b2XgPFPqkgq4",
    "microsoft": {
     "language": "python",
     "language_group": "jupyter_python"
    }
   },
   "outputs": [],
   "source": [
    "# Save to Parquet with geometry preserved\n",
    "duckdb.sql(\"\"\"\n",
    "    COPY (select name,geom,_2024 as pop from countries join population on \"ISO3166-1-Alpha-3\" = country_code)   TO '/lakehouse/default/Files/countries.parquet' (FORMAT PARQUET);\n",
    "\"\"\")"
   ]
  },
  {
   "cell_type": "code",
   "execution_count": null,
   "id": "543336b0-b86b-4c64-9457-1eb368b0311b",
   "metadata": {
    "colab": {
     "base_uri": "https://localhost:8080/"
    },
    "id": "vefWXCCRnUaL",
    "microsoft": {
     "language": "python",
     "language_group": "jupyter_python"
    },
    "outputId": "35a562a3-76c1-40cb-c538-1f91214bf35d"
   },
   "outputs": [],
   "source": [
    "duckdb.sql(\"select path_in_schema ,type,geo_bbox, geo_types   from parquet_metadata( '/lakehouse/default/Files/countries.parquet')\").show(max_width=150)"
   ]
  },
  {
   "cell_type": "code",
   "execution_count": null,
   "id": "8fe0e6fb-a266-47d4-941d-2d081fbe2d8a",
   "metadata": {
    "microsoft": {
     "language": "python",
     "language_group": "jupyter_python"
    }
   },
   "outputs": [],
   "source": [
    "duckdb.sql(\"select geom, ST_AsText(geom) as wkt  from '/lakehouse/default/Files/countries.parquet' \").show(max_width=150)"
   ]
  },
  {
   "cell_type": "code",
   "execution_count": null,
   "id": "f25f9d40-64b7-4fdd-9f40-438c2c4b23f4",
   "metadata": {
    "colab": {
     "base_uri": "https://localhost:8080/",
     "height": 822
    },
    "id": "rACk1c8DFJXt",
    "microsoft": {
     "language": "python",
     "language_group": "jupyter_python"
    },
    "outputId": "3774e042-87a7-4d56-ea39-b23049fff7e4"
   },
   "outputs": [],
   "source": [
    "import geopandas as gpd\n",
    "import matplotlib.pyplot as plt\n",
    "gdf = gpd.read_parquet('/lakehouse/default/Files/countries.parquet')\n",
    "fig, ax = plt.subplots(1, 1, figsize=(15, 10))  # Increase figure size\n",
    "gdf.plot(column='pop', ax=ax, legend=True)  # Add legend\n",
    "ax.set_title('World Population by Country (2024)')\n",
    "ax.set_xlabel('Longitude')\n",
    "ax.set_ylabel('Latitude')\n",
    "plt.show()"
   ]
  }
 ],
 "metadata": {
  "colab": {
   "provenance": []
  },
  "dependencies": {
   "lakehouse": {
    "default_lakehouse": "e199f9fe-8565-435d-9780-d8e1cf2a410c",
    "default_lakehouse_name": "gis",
    "default_lakehouse_workspace_id": "7fda7465-a2bb-4f49-9518-87182e59bcf7",
    "known_lakehouses": [
     {
      "id": "e199f9fe-8565-435d-9780-d8e1cf2a410c"
     }
    ]
   }
  },
  "kernel_info": {
   "jupyter_kernel_name": "python3.11",
   "name": "jupyter"
  },
  "kernelspec": {
   "display_name": "Jupyter",
   "name": "jupyter"
  },
  "language_info": {
   "name": "python"
  },
  "microsoft": {
   "language": "python",
   "language_group": "jupyter_python",
   "ms_spell_check": {
    "ms_spell_check_language": "en"
   }
  },
  "nteract": {
   "version": "nteract-front-end@1.0.0"
  },
  "spark_compute": {
   "compute_id": "/trident/default",
   "session_options": {
    "conf": {
     "spark.synapse.nbs.session.timeout": "720000"
    }
   }
  },
  "widgets": {}
 },
 "nbformat": 4,
 "nbformat_minor": 5
}
