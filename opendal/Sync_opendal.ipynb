{
 "cells": [
  {
   "cell_type": "code",
   "execution_count": 12,
   "id": "31315b0e",
   "metadata": {},
   "outputs": [],
   "source": [
    "import os\n",
    "from   concurrent.futures import ThreadPoolExecutor\n",
    "import opendal"
   ]
  },
  {
   "cell_type": "code",
   "execution_count": 13,
   "id": "7eb7ed1f",
   "metadata": {},
   "outputs": [],
   "source": [
    "def upload_file(remote, root_path, file_path):\n",
    "    \"\"\"Upload a single file to remote storage.\"\"\"\n",
    "    try:\n",
    "        print(f\"Uploading: {root_path}/{file_path}\")\n",
    "        with open(os.path.join(root_path, file_path), 'rb') as local_file:\n",
    "            content = local_file.read()\n",
    "        remote.write(file_path, content)\n",
    "        print(f\"Uploaded: {file_path}\")\n",
    "    except Exception as e:\n",
    "        print(f\"Error uploading {file_path}: {e}\")\n",
    "\n",
    "def download_file(remote, root_path, file_path):\n",
    "    \"\"\"Download a single file from remote storage.\"\"\"\n",
    "    try:\n",
    "        print(f\"Downloading: {file_path}\")\n",
    "        content = remote.read(file_path)\n",
    "        local_file_path = os.path.join(root_path, file_path)\n",
    "        os.makedirs(os.path.dirname(local_file_path), exist_ok=True)\n",
    "        with open(local_file_path, \"wb\") as local_file:\n",
    "            local_file.write(content)\n",
    "        print(f\"Downloaded: {file_path}\")\n",
    "    except Exception as e:\n",
    "        print(f\"Error downloading {file_path}: {e}\")\n",
    "\n",
    "def sync_storage_with_threading(root_path, local, remote, max_workers=4):\n",
    "    \"\"\"Sync files between local and remote storage using threading.\"\"\"\n",
    "    local_files = set([entry.path for entry in local.scan(\"/\") if '.' in entry.path.split('/')[-1]])\n",
    "    remote_files = set([entry.path for entry in remote.scan(\"/\") if '.' in entry.path.split('/')[-1]])\n",
    "\n",
    "    files_to_download = remote_files - local_files\n",
    "    files_to_upload = local_files - remote_files\n",
    "\n",
    "    with ThreadPoolExecutor(max_workers=max_workers) as executor:\n",
    "        # Download files\n",
    "        if files_to_download:\n",
    "            print(\"Downloading files...\")\n",
    "            futures = [\n",
    "                executor.submit(download_file, remote, root_path, file)\n",
    "                for file in files_to_download\n",
    "            ]\n",
    "            for future in futures:\n",
    "                future.result()  # Wait for each task to complete\n",
    "        else:\n",
    "            print(\"No files to download.\")\n",
    "\n",
    "        # Upload files\n",
    "        if files_to_upload:\n",
    "            print(\"Uploading files...\")\n",
    "            futures = [\n",
    "                executor.submit(upload_file, remote, root_path, file)\n",
    "                for file in files_to_upload\n",
    "            ]\n",
    "            for future in futures:\n",
    "                future.result()  # Wait for each task to complete\n",
    "        else:\n",
    "            print(\"No files to upload.\")\n"
   ]
  },
  {
   "cell_type": "code",
   "execution_count": 14,
   "id": "13249807",
   "metadata": {},
   "outputs": [],
   "source": [
    "root_path = \"/lakehouse/default/Files/tpcds/1\"\n",
    "local  = opendal.Operator(\"fs\", root=root_path)\n",
    "azure  = opendal.Operator(\"azdls\", root=root_path, filesystem=\"aemo\", endpoint=endpoint_azure, account_key= account_key )\n",
    "r2     = opendal.Operator(\"s3\", root=root_path, bucket =\"aemo\", region=\"APAC\", endpoint=endpoint_r2, access_key_id=key_id, secret_access_key=secret )"
   ]
  },
  {
   "cell_type": "code",
   "execution_count": 18,
   "id": "881c41e9",
   "metadata": {},
   "outputs": [
    {
     "name": "stdout",
     "output_type": "stream",
     "text": [
      "Downloading files...\n",
      "Downloading: date_dim/data_0.parquet\n",
      "Downloading: catalog_sales/data_1.parquet\n",
      "Downloading: household_demographics/data_0.parquet\n",
      "Downloading: inventory/data_5.parquet\n",
      "Downloading: time_dim/data_0.parquet\n",
      "Downloading: inventory/data_0.parquet\n",
      "Downloaded: catalog_sales/data_1.parquetDownloading: store_sales/data_1.parquet\n",
      "Downloaded: household_demographics/data_0.parquet\n",
      "\n",
      "Downloading: web_sales/data_4.parquet\n",
      "Downloaded: date_dim/data_0.parquet\n",
      "Downloading: call_center/data_0.parquet\n",
      "Downloaded: inventory/data_5.parquet\n",
      "Downloading: catalog_sales/data_3.parquet\n",
      "Downloaded: time_dim/data_0.parquet\n",
      "Downloading: customer/data_0.parquet\n",
      "Downloading: customer_demographics/data_2.parquet\n",
      "Downloaded: inventory/data_0.parquet\n",
      "Downloading: inventory/data_1.parquet\n",
      "Downloading: customer_demographics/data_0.parquet\n",
      "Downloaded: call_center/data_0.parquet\n",
      "Downloading: income_band/data_0.parquet\n",
      "Downloaded: web_sales/data_4.parquet\n",
      "Downloaded: store_sales/data_1.parquet\n",
      "Downloading: inventory/data_6.parquet\n",
      "Downloading: item/data_0.parquet\n",
      "Downloaded: customer_demographics/data_2.parquet\n",
      "Downloading: web_page/data_0.parquet\n",
      "Downloaded: catalog_sales/data_3.parquet\n",
      "Downloading: customer_demographics/data_6.parquet\n",
      "Downloaded: customer/data_0.parquet\n",
      "Downloading: customer_demographics/data_4.parquet\n",
      "Downloaded: income_band/data_0.parquet\n",
      "Downloading: store_returns/data_0.parquet\n",
      "Downloaded: customer_demographics/data_0.parquet\n",
      "Downloading: customer_address/data_0.parquet\n",
      "Downloaded: inventory/data_1.parquet\n",
      "Downloading: store_sales/data_4.parquet\n",
      "Downloaded: item/data_0.parquet\n",
      "Downloading: warehouse/data_0.parquet\n",
      "Downloaded: inventory/data_6.parquet\n",
      "Downloading: customer_demographics/data_1.parquet\n",
      "Downloaded: web_page/data_0.parquet\n",
      "Downloading: catalog_sales/data_5.parquet\n",
      "Downloaded: customer_address/data_0.parquet\n",
      "Downloading: catalog_sales/data_6.parquet\n",
      "Downloaded: store_sales/data_4.parquet\n",
      "Downloading: catalog_sales/data_0.parquet\n",
      "Downloaded: customer_demographics/data_6.parquet\n",
      "Downloading: store_sales/data_6.parquet\n",
      "Downloaded: warehouse/data_0.parquet\n",
      "Downloading: store_returns/data_2.parquet\n",
      "Downloaded: customer_demographics/data_4.parquet\n",
      "Downloading: web_site/data_0.parquet\n",
      "Downloaded: store_returns/data_0.parquet\n",
      "Downloading: store_sales/data_2.parquet\n",
      "Downloaded: customer_demographics/data_1.parquet\n",
      "Downloading: customer_demographics/data_7.parquet\n",
      "Downloaded: catalog_sales/data_5.parquet\n",
      "Downloading: store_sales/data_7.parquet\n",
      "Downloaded: web_site/data_0.parquet\n",
      "Downloading: store_returns/data_1.parquet\n",
      "Downloaded: store_sales/data_6.parquet\n",
      "Downloading: customer_demographics/data_3.parquet\n",
      "Downloaded: store_returns/data_2.parquet\n",
      "Downloading: store/data_0.parquet\n",
      "Downloaded: catalog_sales/data_0.parquet\n",
      "Downloading: store_sales/data_5.parquet\n",
      "Downloaded: catalog_sales/data_6.parquet\n",
      "Downloading: catalog_sales/data_7.parquet\n",
      "Downloaded: customer_demographics/data_7.parquet\n",
      "Downloading: inventory/data_3.parquet\n",
      "Downloaded: store_sales/data_2.parquet\n",
      "Downloading: web_returns/data_0.parquet\n",
      "Downloaded: store_sales/data_7.parquet\n",
      "Downloading: inventory/data_4.parquet\n",
      "Downloaded: customer_demographics/data_3.parquet\n",
      "Downloading: catalog_sales/data_2.parquet\n",
      "Downloaded: store/data_0.parquet\n",
      "Downloading: web_sales/data_2.parquet\n",
      "Downloaded: catalog_sales/data_7.parquetDownloaded: store_returns/data_1.parquet\n",
      "Downloading: store_sales/data_3.parquet\n",
      "Downloaded: web_returns/data_0.parquet\n",
      "Downloading: inventory/data_7.parquet\n",
      "Downloaded: inventory/data_4.parquet\n",
      "Downloading: reason/data_0.parquet\n",
      "Downloaded: store_sales/data_5.parquet\n",
      "\n",
      "Downloading: store_sales/data_0.parquet\n",
      "Downloading: web_sales/data_3.parquet\n",
      "Downloaded: inventory/data_3.parquet\n",
      "Downloading: catalog_page/data_0.parquet\n",
      "Downloaded: catalog_sales/data_2.parquet\n",
      "Downloading: web_sales/data_5.parquet\n",
      "Downloaded: reason/data_0.parquet\n",
      "Downloading: web_sales/data_0.parquet\n",
      "Downloaded: store_sales/data_3.parquetDownloaded: web_sales/data_2.parquet\n",
      "Downloading: web_sales/data_1.parquet\n",
      "\n",
      "Downloading: inventory/data_2.parquet\n",
      "Downloaded: store_sales/data_0.parquet\n",
      "Downloading: catalog_returns/data_0.parquet\n",
      "Downloaded: web_sales/data_5.parquet\n",
      "Downloading: promotion/data_0.parquet\n",
      "Downloaded: inventory/data_7.parquet\n",
      "Downloading: customer_demographics/data_5.parquet\n",
      "Downloaded: catalog_page/data_0.parquet\n",
      "Downloading: catalog_returns/data_1.parquet\n",
      "Downloaded: web_sales/data_3.parquet\n",
      "Downloading: catalog_sales/data_4.parquet\n",
      "Downloaded: web_sales/data_0.parquet\n",
      "Downloading: ship_mode/data_0.parquet\n",
      "Downloaded: web_sales/data_1.parquet\n",
      "Downloaded: customer_demographics/data_5.parquet\n",
      "Downloaded: inventory/data_2.parquet\n",
      "Downloaded: catalog_returns/data_0.parquet\n",
      "Downloaded: promotion/data_0.parquet\n",
      "Downloaded: catalog_returns/data_1.parquet\n",
      "Downloaded: ship_mode/data_0.parquet\n",
      "Downloaded: catalog_sales/data_4.parquet\n",
      "No files to upload.\n"
     ]
    }
   ],
   "source": [
    "sync_storage_with_threading(root_path, local, azure, max_workers=4)"
   ]
  },
  {
   "cell_type": "code",
   "execution_count": 15,
   "id": "c6cfd8c9",
   "metadata": {},
   "outputs": [
    {
     "name": "stdout",
     "output_type": "stream",
     "text": [
      "No files to download.\n",
      "Uploading files...\n",
      "Uploading: /lakehouse/default/Files/tpcds/1/date_dim/data_0.parquet\n",
      "Uploading: /lakehouse/default/Files/tpcds/1/catalog_sales/data_1.parquet\n",
      "Uploading: /lakehouse/default/Files/tpcds/1/household_demographics/data_0.parquet\n",
      "Uploading: /lakehouse/default/Files/tpcds/1/inventory/data_5.parquet\n",
      "Uploaded: household_demographics/data_0.parquet\n",
      "Uploading: /lakehouse/default/Files/tpcds/1/time_dim/data_0.parquet\n",
      "Uploaded: date_dim/data_0.parquet\n",
      "Uploading: /lakehouse/default/Files/tpcds/1/inventory/data_0.parquet\n",
      "Uploaded: catalog_sales/data_1.parquet\n",
      "Uploading: /lakehouse/default/Files/tpcds/1/store_sales/data_1.parquet\n",
      "Uploaded: inventory/data_5.parquetUploaded: inventory/data_0.parquet\n",
      "Uploading: /lakehouse/default/Files/tpcds/1/web_sales/data_4.parquet\n",
      "Uploaded: store_sales/data_1.parquet\n",
      "Uploaded: time_dim/data_0.parquet\n",
      "Uploading: /lakehouse/default/Files/tpcds/1/call_center/data_0.parquet\n",
      "Uploading: /lakehouse/default/Files/tpcds/1/catalog_sales/data_3.parquet\n",
      "\n",
      "Uploading: /lakehouse/default/Files/tpcds/1/customer/data_0.parquet\n",
      "Uploaded: call_center/data_0.parquet\n",
      "Uploading: /lakehouse/default/Files/tpcds/1/customer_demographics/data_2.parquet\n",
      "Uploaded: customer/data_0.parquetUploaded: catalog_sales/data_3.parquet\n",
      "Uploading: /lakehouse/default/Files/tpcds/1/inventory/data_1.parquet\n",
      "Uploaded: web_sales/data_4.parquet\n",
      "Uploading: /lakehouse/default/Files/tpcds/1/customer_demographics/data_0.parquet\n",
      "\n",
      "Uploading: /lakehouse/default/Files/tpcds/1/income_band/data_0.parquet\n",
      "Uploaded: income_band/data_0.parquet\n",
      "Uploading: /lakehouse/default/Files/tpcds/1/inventory/data_6.parquet\n",
      "Uploaded: inventory/data_1.parquet\n",
      "Uploading: /lakehouse/default/Files/tpcds/1/item/data_0.parquet\n",
      "Uploaded: customer_demographics/data_2.parquet\n",
      "Uploading: /lakehouse/default/Files/tpcds/1/web_page/data_0.parquet\n",
      "Uploaded: customer_demographics/data_0.parquet\n",
      "Uploading: /lakehouse/default/Files/tpcds/1/customer_demographics/data_6.parquet\n",
      "Uploaded: web_page/data_0.parquet\n",
      "Uploading: /lakehouse/default/Files/tpcds/1/customer_demographics/data_4.parquet\n",
      "Uploaded: customer_demographics/data_6.parquet\n",
      "Uploading: /lakehouse/default/Files/tpcds/1/store_returns/data_0.parquet\n",
      "Uploaded: item/data_0.parquet\n",
      "Uploading: /lakehouse/default/Files/tpcds/1/customer_address/data_0.parquet\n",
      "Uploaded: inventory/data_6.parquet\n",
      "Uploading: /lakehouse/default/Files/tpcds/1/store_sales/data_4.parquet\n",
      "Uploaded: customer_demographics/data_4.parquet\n",
      "Uploading: /lakehouse/default/Files/tpcds/1/warehouse/data_0.parquet\n",
      "Uploaded: customer_address/data_0.parquet\n",
      "Uploading: /lakehouse/default/Files/tpcds/1/customer_demographics/data_1.parquet\n",
      "Uploaded: store_returns/data_0.parquet\n",
      "Uploading: /lakehouse/default/Files/tpcds/1/catalog_sales/data_5.parquet\n",
      "Uploaded: warehouse/data_0.parquet\n",
      "Uploading: /lakehouse/default/Files/tpcds/1/catalog_sales/data_6.parquet\n",
      "Uploaded: customer_demographics/data_1.parquet\n",
      "Uploading: /lakehouse/default/Files/tpcds/1/catalog_sales/data_0.parquet\n",
      "Uploaded: store_sales/data_4.parquet\n",
      "Uploading: /lakehouse/default/Files/tpcds/1/store_sales/data_6.parquet\n",
      "Uploaded: catalog_sales/data_5.parquet\n",
      "Uploading: /lakehouse/default/Files/tpcds/1/store_returns/data_2.parquet\n",
      "Uploaded: store_sales/data_6.parquet\n",
      "Uploading: /lakehouse/default/Files/tpcds/1/web_site/data_0.parquet\n",
      "Uploaded: catalog_sales/data_6.parquet\n",
      "Uploading: /lakehouse/default/Files/tpcds/1/store_sales/data_2.parquet\n",
      "Uploaded: store_returns/data_2.parquet\n",
      "Uploading: /lakehouse/default/Files/tpcds/1/customer_demographics/data_7.parquet\n",
      "Uploaded: web_site/data_0.parquet\n",
      "Uploading: /lakehouse/default/Files/tpcds/1/store_sales/data_7.parquet\n",
      "Uploaded: catalog_sales/data_0.parquetUploaded: store_sales/data_2.parquet\n",
      "Uploading: /lakehouse/default/Files/tpcds/1/store_returns/data_1.parquet\n",
      "\n",
      "Uploading: /lakehouse/default/Files/tpcds/1/customer_demographics/data_3.parquet\n",
      "Uploaded: customer_demographics/data_7.parquet\n",
      "Uploading: /lakehouse/default/Files/tpcds/1/store/data_0.parquet\n",
      "Uploaded: store_sales/data_7.parquetUploaded: store_returns/data_1.parquet\n",
      "Uploading: /lakehouse/default/Files/tpcds/1/store_sales/data_5.parquet\n",
      "Uploaded: customer_demographics/data_3.parquet\n",
      "Uploading: /lakehouse/default/Files/tpcds/1/catalog_sales/data_7.parquet\n",
      "\n",
      "Uploading: /lakehouse/default/Files/tpcds/1/inventory/data_3.parquet\n",
      "Uploaded: store/data_0.parquet\n",
      "Uploading: /lakehouse/default/Files/tpcds/1/web_returns/data_0.parquet\n",
      "Uploaded: web_returns/data_0.parquetUploaded: catalog_sales/data_7.parquet\n",
      "Uploading: /lakehouse/default/Files/tpcds/1/inventory/data_4.parquet\n",
      "Uploaded: inventory/data_3.parquet\n",
      "Uploading: /lakehouse/default/Files/tpcds/1/catalog_sales/data_2.parquet\n",
      "\n",
      "Uploading: /lakehouse/default/Files/tpcds/1/web_sales/data_2.parquet\n",
      "Uploaded: store_sales/data_5.parquet\n",
      "Uploading: /lakehouse/default/Files/tpcds/1/store_sales/data_3.parquet\n",
      "Uploaded: inventory/data_4.parquet\n",
      "Uploading: /lakehouse/default/Files/tpcds/1/inventory/data_7.parquet\n",
      "Uploaded: web_sales/data_2.parquet\n",
      "Uploading: /lakehouse/default/Files/tpcds/1/reason/data_0.parquet\n",
      "Uploaded: catalog_sales/data_2.parquet\n",
      "Uploading: /lakehouse/default/Files/tpcds/1/store_sales/data_0.parquet\n",
      "Uploaded: store_sales/data_3.parquet\n",
      "Uploading: /lakehouse/default/Files/tpcds/1/web_sales/data_3.parquet\n",
      "Uploaded: reason/data_0.parquet\n",
      "Uploading: /lakehouse/default/Files/tpcds/1/catalog_page/data_0.parquet\n",
      "Uploaded: store_sales/data_0.parquetUploaded: web_sales/data_3.parquet\n",
      "Uploading: /lakehouse/default/Files/tpcds/1/web_sales/data_5.parquet\n",
      "Uploaded: inventory/data_7.parquet\n",
      "Uploading: /lakehouse/default/Files/tpcds/1/web_sales/data_0.parquet\n",
      "\n",
      "Uploading: /lakehouse/default/Files/tpcds/1/web_sales/data_1.parquet\n",
      "Uploaded: catalog_page/data_0.parquet\n",
      "Uploading: /lakehouse/default/Files/tpcds/1/inventory/data_2.parquet\n",
      "Uploaded: web_sales/data_5.parquet\n",
      "Uploading: /lakehouse/default/Files/tpcds/1/catalog_returns/data_0.parquet\n",
      "Uploaded: web_sales/data_1.parquetUploaded: inventory/data_2.parquet\n",
      "Uploading: /lakehouse/default/Files/tpcds/1/promotion/data_0.parquet\n",
      "Uploaded: web_sales/data_0.parquet\n",
      "Uploading: /lakehouse/default/Files/tpcds/1/customer_demographics/data_5.parquet\n",
      "\n",
      "Uploading: /lakehouse/default/Files/tpcds/1/catalog_returns/data_1.parquet\n",
      "Uploaded: catalog_returns/data_0.parquet\n",
      "Uploading: /lakehouse/default/Files/tpcds/1/catalog_sales/data_4.parquet\n",
      "Uploaded: promotion/data_0.parquet\n",
      "Uploading: /lakehouse/default/Files/tpcds/1/ship_mode/data_0.parquet\n",
      "Uploaded: catalog_returns/data_1.parquet\n",
      "Uploaded: customer_demographics/data_5.parquetUploaded: catalog_sales/data_4.parquet\n",
      "\n",
      "Uploaded: ship_mode/data_0.parquet\n"
     ]
    }
   ],
   "source": [
    "sync_storage_with_threading(root_path, local, r2, max_workers=4)"
   ]
  }
 ],
 "metadata": {
  "a365ComputeOptions": null,
  "colab": {
   "provenance": []
  },
  "dependencies": {
   "environment": {},
   "lakehouse": {},
   "warehouse": {
    "default_warehouse": "d9907fb4-2edd-4ad9-8bc3-6617b1ce1959",
    "known_warehouses": [
     {
      "id": "d9907fb4-2edd-4ad9-8bc3-6617b1ce1959",
      "type": "Datawarehouse"
     }
    ]
   }
  },
  "kernel_info": {
   "jupyter_kernel_name": "python3.11",
   "name": "jupyter"
  },
  "kernelspec": {
   "display_name": "Python 3",
   "language": "python",
   "name": "python3"
  },
  "language_info": {
   "codemirror_mode": {
    "name": "ipython",
    "version": 3
   },
   "file_extension": ".py",
   "mimetype": "text/x-python",
   "name": "python",
   "nbconvert_exporter": "python",
   "pygments_lexer": "ipython3",
   "version": "3.11.9"
  },
  "microsoft": {
   "language": "python",
   "language_group": "jupyter_python",
   "ms_spell_check": {
    "ms_spell_check_language": "en"
   }
  },
  "notebook_environment": {},
  "nteract": {
   "version": "nteract-front-end@1.0.0"
  },
  "save_output": true,
  "sessionKeepAliveTimeout": 0,
  "spark_compute": {
   "compute_id": "/trident/default",
   "session_options": {
    "conf": {
     "spark.synapse.nbs.session.timeout": "1200000"
    },
    "enableDebugMode": false
   }
  },
  "synapse_widget": {
   "state": {},
   "version": "0.1"
  },
  "widgets": {
   "application/vnd.jupyter.widget-state+json": {
    "state": {
     "015fb35bc27e4296af493c9f5a66978a": {
      "model_module": "@jupyter-widgets/controls",
      "model_module_version": "2.0.0",
      "model_name": "FloatProgressModel",
      "state": {
       "layout": "IPY_MODEL_94f28ab2baf04236959da339ea010abb",
       "style": "IPY_MODEL_f8693bec1ea9498db3cadfd37a0c24a5",
       "value": 100
      }
     },
     "043aa9ac773941b1955754894badd734": {
      "model_module": "@jupyter-widgets/controls",
      "model_module_version": "2.0.0",
      "model_name": "ProgressStyleModel",
      "state": {
       "bar_color": "black",
       "description_width": ""
      }
     },
     "074776b967594e769012565a5b4ef793": {
      "model_module": "@jupyter-widgets/controls",
      "model_module_version": "2.0.0",
      "model_name": "FloatProgressModel",
      "state": {
       "layout": "IPY_MODEL_b6e9661015df42d9ac83c6181be0a6a0",
       "style": "IPY_MODEL_7313c2f790c84099892d1cf6937413a6"
      }
     },
     "09b405dd559b4fb9ac768a351fc74aaa": {
      "model_module": "@jupyter-widgets/base",
      "model_module_version": "2.0.0",
      "model_name": "LayoutModel",
      "state": {
       "width": "auto"
      }
     },
     "148968b0d0dc46839d6f82ccc1a36637": {
      "model_module": "@jupyter-widgets/controls",
      "model_module_version": "2.0.0",
      "model_name": "FloatProgressModel",
      "state": {
       "layout": "IPY_MODEL_8cd209d4222240c29007d264499b3f0e",
       "style": "IPY_MODEL_73ef367edf04473ab8185cbddd758ecf",
       "value": 100
      }
     },
     "38f1373dc5ac4db68a20b0d6819f36a2": {
      "model_module": "@jupyter-widgets/base",
      "model_module_version": "2.0.0",
      "model_name": "LayoutModel",
      "state": {
       "width": "auto"
      }
     },
     "3a733f3407ef4e098ceab23b3ce7fde5": {
      "model_module": "@jupyter-widgets/controls",
      "model_module_version": "2.0.0",
      "model_name": "ProgressStyleModel",
      "state": {
       "bar_color": "black",
       "description_width": ""
      }
     },
     "53f4e9972a7f4bc39f6db783bb5e52c0": {
      "model_module": "@jupyter-widgets/controls",
      "model_module_version": "2.0.0",
      "model_name": "FloatProgressModel",
      "state": {
       "layout": "IPY_MODEL_c9a385cd9c724fc8a35dbadb6306826b",
       "style": "IPY_MODEL_95be9dc8e6f84a929643937d58143685"
      }
     },
     "5ec59a65cc3d4205b7666149ae6a004c": {
      "model_module": "@jupyter-widgets/base",
      "model_module_version": "2.0.0",
      "model_name": "LayoutModel",
      "state": {
       "width": "auto"
      }
     },
     "6fb871782c6f4754bec71c650e065a06": {
      "model_module": "@jupyter-widgets/controls",
      "model_module_version": "2.0.0",
      "model_name": "FloatProgressModel",
      "state": {
       "layout": "IPY_MODEL_5ec59a65cc3d4205b7666149ae6a004c",
       "style": "IPY_MODEL_f5598be2adab45d9b9eda464fb09c147",
       "value": 77
      }
     },
     "7313c2f790c84099892d1cf6937413a6": {
      "model_module": "@jupyter-widgets/controls",
      "model_module_version": "2.0.0",
      "model_name": "ProgressStyleModel",
      "state": {
       "bar_color": "black",
       "description_width": ""
      }
     },
     "73ef367edf04473ab8185cbddd758ecf": {
      "model_module": "@jupyter-widgets/controls",
      "model_module_version": "2.0.0",
      "model_name": "ProgressStyleModel",
      "state": {
       "bar_color": "black",
       "description_width": ""
      }
     },
     "74eadaf9a891412d8b7b5b6f379015a2": {
      "model_module": "@jupyter-widgets/controls",
      "model_module_version": "2.0.0",
      "model_name": "FloatProgressModel",
      "state": {
       "layout": "IPY_MODEL_7f2ea36ba49f45dba107aa10ad679a35",
       "style": "IPY_MODEL_9764a1a8e00649a68ca36858c84e9c27"
      }
     },
     "7654f1adcbcd4e88ad31565d3e58f15a": {
      "model_module": "@jupyter-widgets/controls",
      "model_module_version": "2.0.0",
      "model_name": "FloatProgressModel",
      "state": {
       "layout": "IPY_MODEL_09b405dd559b4fb9ac768a351fc74aaa",
       "style": "IPY_MODEL_3a733f3407ef4e098ceab23b3ce7fde5",
       "value": 3
      }
     },
     "7a5b0de9170d4bf392871dbdc9ad470f": {
      "model_module": "@jupyter-widgets/base",
      "model_module_version": "2.0.0",
      "model_name": "LayoutModel",
      "state": {
       "width": "auto"
      }
     },
     "7f2ea36ba49f45dba107aa10ad679a35": {
      "model_module": "@jupyter-widgets/base",
      "model_module_version": "2.0.0",
      "model_name": "LayoutModel",
      "state": {
       "width": "auto"
      }
     },
     "80b1cd1b0a8d4d268c9bbe3fd319c5fa": {
      "model_module": "@jupyter-widgets/base",
      "model_module_version": "2.0.0",
      "model_name": "LayoutModel",
      "state": {
       "width": "auto"
      }
     },
     "887ae7661ddd4f46a49fc5b74cdcef3d": {
      "model_module": "@jupyter-widgets/controls",
      "model_module_version": "2.0.0",
      "model_name": "ProgressStyleModel",
      "state": {
       "bar_color": "black",
       "description_width": ""
      }
     },
     "8cd209d4222240c29007d264499b3f0e": {
      "model_module": "@jupyter-widgets/base",
      "model_module_version": "2.0.0",
      "model_name": "LayoutModel",
      "state": {
       "width": "auto"
      }
     },
     "94f28ab2baf04236959da339ea010abb": {
      "model_module": "@jupyter-widgets/base",
      "model_module_version": "2.0.0",
      "model_name": "LayoutModel",
      "state": {
       "width": "auto"
      }
     },
     "95be9dc8e6f84a929643937d58143685": {
      "model_module": "@jupyter-widgets/controls",
      "model_module_version": "2.0.0",
      "model_name": "ProgressStyleModel",
      "state": {
       "bar_color": "black",
       "description_width": ""
      }
     },
     "9764a1a8e00649a68ca36858c84e9c27": {
      "model_module": "@jupyter-widgets/controls",
      "model_module_version": "2.0.0",
      "model_name": "ProgressStyleModel",
      "state": {
       "bar_color": "black",
       "description_width": ""
      }
     },
     "9eb98082c7fa4a7c92d38f012ce06b99": {
      "model_module": "@jupyter-widgets/controls",
      "model_module_version": "2.0.0",
      "model_name": "FloatProgressModel",
      "state": {
       "layout": "IPY_MODEL_7a5b0de9170d4bf392871dbdc9ad470f",
       "style": "IPY_MODEL_043aa9ac773941b1955754894badd734",
       "value": 100
      }
     },
     "a12e15e9c924418f9fb208106b1fd382": {
      "model_module": "@jupyter-widgets/controls",
      "model_module_version": "2.0.0",
      "model_name": "ProgressStyleModel",
      "state": {
       "bar_color": "black",
       "description_width": ""
      }
     },
     "adfdf9480c244fdea6e180a8fafc1ba4": {
      "model_module": "@jupyter-widgets/controls",
      "model_module_version": "2.0.0",
      "model_name": "FloatProgressModel",
      "state": {
       "layout": "IPY_MODEL_e86f0d83171545c682552719159e1c59",
       "style": "IPY_MODEL_f8466a20a8ad4cf1815cb5b002a3335f",
       "value": 22
      }
     },
     "b6e9661015df42d9ac83c6181be0a6a0": {
      "model_module": "@jupyter-widgets/base",
      "model_module_version": "2.0.0",
      "model_name": "LayoutModel",
      "state": {
       "width": "auto"
      }
     },
     "c9a385cd9c724fc8a35dbadb6306826b": {
      "model_module": "@jupyter-widgets/base",
      "model_module_version": "2.0.0",
      "model_name": "LayoutModel",
      "state": {
       "width": "auto"
      }
     },
     "de2419b7c79d4242bcdd3d5582d94dc6": {
      "model_module": "@jupyter-widgets/controls",
      "model_module_version": "2.0.0",
      "model_name": "FloatProgressModel",
      "state": {
       "layout": "IPY_MODEL_38f1373dc5ac4db68a20b0d6819f36a2",
       "style": "IPY_MODEL_887ae7661ddd4f46a49fc5b74cdcef3d",
       "value": 100
      }
     },
     "e86f0d83171545c682552719159e1c59": {
      "model_module": "@jupyter-widgets/base",
      "model_module_version": "2.0.0",
      "model_name": "LayoutModel",
      "state": {
       "width": "auto"
      }
     },
     "f5598be2adab45d9b9eda464fb09c147": {
      "model_module": "@jupyter-widgets/controls",
      "model_module_version": "2.0.0",
      "model_name": "ProgressStyleModel",
      "state": {
       "bar_color": "black",
       "description_width": ""
      }
     },
     "f7d501a5f6cc4a138e0c6cece10ec1d1": {
      "model_module": "@jupyter-widgets/controls",
      "model_module_version": "2.0.0",
      "model_name": "FloatProgressModel",
      "state": {
       "layout": "IPY_MODEL_80b1cd1b0a8d4d268c9bbe3fd319c5fa",
       "style": "IPY_MODEL_a12e15e9c924418f9fb208106b1fd382",
       "value": 100
      }
     },
     "f8466a20a8ad4cf1815cb5b002a3335f": {
      "model_module": "@jupyter-widgets/controls",
      "model_module_version": "2.0.0",
      "model_name": "ProgressStyleModel",
      "state": {
       "bar_color": "black",
       "description_width": ""
      }
     },
     "f8693bec1ea9498db3cadfd37a0c24a5": {
      "model_module": "@jupyter-widgets/controls",
      "model_module_version": "2.0.0",
      "model_name": "ProgressStyleModel",
      "state": {
       "bar_color": "black",
       "description_width": ""
      }
     }
    },
    "version_major": 2,
    "version_minor": 0
   }
  }
 },
 "nbformat": 4,
 "nbformat_minor": 5
}
