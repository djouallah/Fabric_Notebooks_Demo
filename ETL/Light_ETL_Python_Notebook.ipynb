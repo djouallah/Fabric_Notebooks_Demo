{
  "cells": [
    {
      "cell_type": "code",
      "source": [
        "total_files  = 30\n",
        "Source       = \"/lakehouse/default/Files/0_Source/ARCHIVE/Daily_Reports/\"\n",
        "Destination  = \"/lakehouse/default/Files/1_Transform/0/ARCHIVE/Daily_Reports/\""
      ],
      "outputs": [],
      "execution_count": 39,
      "metadata": {
        "jupyter": {
          "source_hidden": false,
          "outputs_hidden": false
        },
        "nteract": {
          "transient": {
            "deleting": false
          }
        },
        "microsoft": {
          "language": "python",
          "language_group": "synapse_pyspark"
        },
        "id": "f415f367-9df9-49d2-8e08-03be41b7ae30"
      },
      "id": "f415f367-9df9-49d2-8e08-03be41b7ae30"
    },
    {
      "cell_type": "code",
      "source": [
        "!pip install    -q duckdb\n",
        "!pip install    -q getdaft\n",
        "!pip install    -q polars --upgrade\n",
        "!pip install    -q chdb\n",
        "!pip install    -q \"ibis-framework[duckdb]\"\n",
        "!pip install    -q sqlframe\n",
        "!pip install    -q pandas\n",
        "!pip install    -q deltalake==0.18.2"
      ],
      "outputs": [
        {
          "output_type": "stream",
          "name": "stdout",
          "text": [
            "\u001b[31mERROR: pip's dependency resolver does not currently take into account all the packages that are installed. This behaviour is the source of the following dependency conflicts.\n",
            "sqlframe 3.2.0 requires sqlglot<25.19,>=24.0.0, but you have sqlglot 20.11.0 which is incompatible.\u001b[0m\u001b[31m\n",
            "\u001b[0m\u001b[31mERROR: pip's dependency resolver does not currently take into account all the packages that are installed. This behaviour is the source of the following dependency conflicts.\n",
            "bigframes 1.15.0 requires sqlglot<=20.11,>=20.8.0, but you have sqlglot 25.18.0 which is incompatible.\n",
            "ibis-framework 8.0.0 requires sqlglot<=20.11,>=18.12.0, but you have sqlglot 25.18.0 which is incompatible.\u001b[0m\u001b[31m\n",
            "\u001b[0m"
          ]
        }
      ],
      "execution_count": 40,
      "metadata": {
        "jupyter": {
          "source_hidden": false,
          "outputs_hidden": false
        },
        "nteract": {
          "transient": {
            "deleting": false
          }
        },
        "microsoft": {
          "language": "python",
          "language_group": "jupyter_python"
        },
        "colab": {
          "base_uri": "https://localhost:8080/"
        },
        "id": "333a177b-f075-412e-8ca1-32d44f8c07eb",
        "outputId": "c70ac3e0-3137-420d-a1b6-a25237f74f60"
      },
      "id": "333a177b-f075-412e-8ca1-32d44f8c07eb"
    },
    {
      "cell_type": "markdown",
      "source": [
        "***Import***"
      ],
      "metadata": {
        "id": "G3Hg6ij-5PUP"
      },
      "id": "G3Hg6ij-5PUP"
    },
    {
      "cell_type": "code",
      "source": [
        "import pandas as pd\n",
        "import re\n",
        "import shutil\n",
        "from   urllib.request import urlopen\n",
        "import os\n",
        "import requests\n",
        "import pyarrow.dataset as ds\n",
        "import pyarrow.parquet as pq\n",
        "import pyarrow         as pa\n",
        "from   pyarrow         import csv\n",
        "import pyarrow.compute as pc\n",
        "import multiprocessing\n",
        "from   shutil import unpack_archive\n",
        "import time\n",
        "from   datetime import datetime\n",
        "from   deltalake.writer import write_deltalake\n",
        "import glob\n",
        "import duckdb\n",
        "from psutil import *\n",
        "import ibis\n",
        "import ibis.expr.datatypes as dt\n",
        "import daft\n",
        "from   daft import DataType, col\n",
        "from   sqlframe.duckdb.session import DuckDBSession\n",
        "from   sqlframe.duckdb import functions as F\n",
        "import polars as pl\n",
        "from chdb import session as chs"
      ],
      "metadata": {
        "id": "R-CybaLr5SBx"
      },
      "id": "R-CybaLr5SBx",
      "execution_count": 41,
      "outputs": []
    },
    {
      "cell_type": "markdown",
      "source": [
        "<mark><u>_**For writing to Blobfuse (Mounted onelake, Databricks Volume etc, you need to pass those options**_</u></mark>"
      ],
      "metadata": {
        "nteract": {
          "transient": {
            "deleting": false
          }
        },
        "microsoft": {
          "language": "python",
          "language_group": "synapse_pyspark"
        },
        "id": "009b0aab-8d76-4088-824b-a2a33384f6ba"
      },
      "id": "009b0aab-8d76-4088-824b-a2a33384f6ba"
    },
    {
      "cell_type": "code",
      "source": [
        "storage_options={\"allow_unsafe_rename\":\"true\"}\n",
        "os.environ['MOUNT_ALLOW_UNSAFE_RENAME'] = \"true\""
      ],
      "outputs": [],
      "execution_count": 42,
      "metadata": {
        "jupyter": {
          "source_hidden": false,
          "outputs_hidden": false
        },
        "nteract": {
          "transient": {
            "deleting": false
          }
        },
        "microsoft": {
          "language": "python",
          "language_group": "synapse_pyspark"
        },
        "id": "cfddd77a-81ea-4113-b009-5a7c3b3cc0cd"
      },
      "id": "cfddd77a-81ea-4113-b009-5a7c3b3cc0cd"
    },
    {
      "cell_type": "code",
      "source": [
        "core = cpu_count()\n",
        "vCPU = str(core) + \" vCPU\"\n",
        "mem=round(virtual_memory().total/(1024 * 1024 * 1024),0)\n",
        "print(vCPU +' Memory:'+ str(mem))"
      ],
      "outputs": [
        {
          "output_type": "stream",
          "name": "stdout",
          "text": [
            "2 vCPU Memory:13.0\n"
          ]
        }
      ],
      "execution_count": 43,
      "metadata": {
        "colab": {
          "base_uri": "https://localhost:8080/"
        },
        "id": "815f881e-4109-431e-90cd-dab1a806132f",
        "outputId": "7607a8b1-c0ef-4a1d-d5ca-5635eb9e27ef",
        "microsoft": {
          "language": "python",
          "language_group": "synapse_pyspark"
        },
        "jupyter": {
          "source_hidden": false
        }
      },
      "id": "815f881e-4109-431e-90cd-dab1a806132f"
    },
    {
      "cell_type": "markdown",
      "source": [
        "# Download Data"
      ],
      "metadata": {
        "id": "ee4d52d4-761a-4e7b-993b-0889fda74a94"
      },
      "id": "ee4d52d4-761a-4e7b-993b-0889fda74a94"
    },
    {
      "cell_type": "code",
      "source": [
        "# @title\n",
        "def download(url,Path,x):\n",
        "    #run only once to create an empty log file\n",
        "    if not os.path.exists(Path):\n",
        "      os.makedirs(Path, exist_ok=True)\n",
        "      os.makedirs(Path+\"_log\", exist_ok=True)\n",
        "      log_tb = pa.Table.from_pylist( ['x'], schema=pa.schema({ \"file\" : pa.string()}))\n",
        "      pq.write_table(log_tb,Path+\"_log/log.parquet\")\n",
        "    # Regex don't ask I just copy it\n",
        "    result = urlopen(url).read().decode('utf-8')\n",
        "    pattern = re.compile(r'[\\w.]*.zip')\n",
        "    filelist1 = pattern.findall(result)\n",
        "    filelist_unique = dict.fromkeys(filelist1)\n",
        "    filelist_sorted=sorted(filelist_unique, reverse=True)\n",
        "    filelist = filelist_sorted[:x]\n",
        "    ### Read from existing log\n",
        "    try:\n",
        "      df = ds.dataset(Path + \"_log/log.parquet\").to_table().to_pandas()\n",
        "      file_loaded= df['file'].unique().tolist()\n",
        "    except:\n",
        "      os.makedirs(Path+\"_log\", exist_ok=True)\n",
        "      file_loaded=[os.path.basename(x) for x in glob.glob(Path+'*.zip')]\n",
        "    current = file_loaded\n",
        "    files_to_upload = list(set(filelist) - set(current))\n",
        "    files_to_upload = list(dict.fromkeys(files_to_upload))\n",
        "    print(str(len(files_to_upload)) + ' New File Loaded')\n",
        "    if len(files_to_upload) != 0 :\n",
        "      for x in files_to_upload:\n",
        "           with requests.get(url+x, stream=True) as resp:\n",
        "            if resp.ok:\n",
        "              with open(f\"{Path}/{x}\", \"wb\") as f:\n",
        "               for chunk in resp.iter_content(chunk_size=4096):\n",
        "                f.write(chunk)\n",
        "\n",
        "    #print(log)\n",
        "    L=[os.path.basename(x) for x in glob.glob(Path+'*.zip')]\n",
        "    log = pd.DataFrame({'file':L})\n",
        "    log_tb=pa.Table.from_pandas(log,preserve_index=False)\n",
        "    #print(log_tb)\n",
        "    log_schema = pa.schema([pa.field('file', pa.string())])\n",
        "    log_tb=log_tb.cast(target_schema=log_schema)\n",
        "    pq.write_table(log_tb,Path+\"_log/log.parquet\")\n",
        "    return \"done\""
      ],
      "outputs": [],
      "execution_count": 44,
      "metadata": {
        "id": "28416977-0f39-41ca-aa84-9a5d42a6e519",
        "microsoft": {
          "language": "python",
          "language_group": "synapse_pyspark"
        },
        "jupyter": {
          "source_hidden": true
        },
        "cellView": "form"
      },
      "id": "28416977-0f39-41ca-aa84-9a5d42a6e519"
    },
    {
      "cell_type": "code",
      "source": [
        "# @title\n",
        "def uncompress(x):\n",
        "        unpack_archive(str(Source+x), str(Destination), 'zip')\n",
        "def unzip(Source, Destination,Nbr_Files_to_Download):\n",
        "\n",
        "    #run only once to create an empty log file\n",
        "    if not os.path.exists(Destination):\n",
        "      os.makedirs(Destination, exist_ok=True)\n",
        "      os.makedirs(Destination+\"_log\", exist_ok=True)\n",
        "      log_tb = pa.Table.from_pylist( ['x'], schema=pa.schema({ \"file\" : pa.string()}))\n",
        "      pq.write_table(log_tb,Destination+\"_log/log.parquet\")\n",
        "    # check zip files\n",
        "    try:\n",
        "     df = ds.dataset(Source + \"_log/log.parquet\").to_table().to_pandas()\n",
        "     filelist_unique= df['file'].unique()\n",
        "     filelist=filelist_unique.tolist()\n",
        "    except:\n",
        "     filelist=[os.path.basename(x) for x in glob.glob(Source+'*.zip')]\n",
        "    filelist =sorted(filelist, reverse=True)\n",
        "    ### checl the unzipped files already\n",
        "    df = ds.dataset(Destination + \"_log/log.parquet\").to_table().to_pandas()\n",
        "    file_loaded= df['file'].unique()\n",
        "    current = file_loaded.tolist()\n",
        "    files_to_upload = list(set(filelist) - set(current))\n",
        "    files_to_upload = list(dict.fromkeys(files_to_upload))[:Nbr_Files_to_Download]\n",
        "    #unzip only the delta\n",
        "    print(str(len(files_to_upload)) + ' New File uncompressed')\n",
        "    if len(files_to_upload) != 0 :\n",
        "      with multiprocessing.Pool() as pool:\n",
        "       for _ in pool.imap_unordered(uncompress, files_to_upload, chunksize=1):\n",
        "         pass\n",
        "      existing_file = pd.DataFrame( file_loaded)\n",
        "      new_file = pd.DataFrame(  files_to_upload)\n",
        "      log = pd.concat ([new_file,existing_file], ignore_index=True)\n",
        "      #print(log)\n",
        "      log.rename(columns={0: 'file'}, inplace=True)\n",
        "      log_tb=pa.Table.from_pandas(log,preserve_index=False)\n",
        "      #print(log_tb)\n",
        "      log_schema = pa.schema([pa.field('file', pa.string())])\n",
        "      log_tb=log_tb.cast(target_schema=log_schema)\n",
        "      pq.write_table(log_tb,Destination+\"_log/log.parquet\")\n",
        "      return \"done\"\n",
        "    else:\n",
        "     return \"nothing to see here\""
      ],
      "outputs": [],
      "execution_count": 45,
      "metadata": {
        "id": "3b5f3047-8010-41ba-8e30-396e26de0e81",
        "microsoft": {
          "language": "python",
          "language_group": "synapse_pyspark"
        },
        "jupyter": {
          "source_hidden": true
        },
        "cellView": "form"
      },
      "id": "3b5f3047-8010-41ba-8e30-396e26de0e81"
    },
    {
      "cell_type": "code",
      "source": [
        "download(\"https://nemweb.com.au/Reports/Current/Daily_Reports/\",Source,total_files)\n",
        "unzip(Source,Destination,total_files)"
      ],
      "outputs": [
        {
          "output_type": "stream",
          "name": "stdout",
          "text": [
            "20 New File Loaded\n",
            "20 New File uncompressed\n"
          ]
        },
        {
          "output_type": "execute_result",
          "data": {
            "text/plain": [
              "'done'"
            ],
            "application/vnd.google.colaboratory.intrinsic+json": {
              "type": "string"
            }
          },
          "metadata": {},
          "execution_count": 46
        }
      ],
      "execution_count": 46,
      "metadata": {
        "colab": {
          "base_uri": "https://localhost:8080/",
          "height": 72
        },
        "id": "f6536736-55ec-4af9-a603-17a4e779af7a",
        "outputId": "d7eff464-758f-4f7e-fd4a-8afc4f523e09",
        "microsoft": {
          "language": "python",
          "language_group": "synapse_pyspark"
        }
      },
      "id": "f6536736-55ec-4af9-a603-17a4e779af7a"
    },
    {
      "cell_type": "markdown",
      "source": [
        "# DuckDB"
      ],
      "metadata": {
        "id": "8LbA_eCFM-Zl"
      },
      "id": "8LbA_eCFM-Zl"
    },
    {
      "cell_type": "code",
      "source": [
        "# @title\n",
        "def duckdb_clean_csv(x):\n",
        "\traw =duckdb.sql(F\"\"\"from read_csv({x},\n",
        "\tSkip=1,header =0,all_varchar=1,\n",
        "\tcolumns={{\n",
        "\t'I': 'VARCHAR','UNIT': 'VARCHAR','XX': 'VARCHAR','VERSION': 'VARCHAR','SETTLEMENTDATE': 'VARCHAR','RUNNO': 'VARCHAR',\n",
        "\t'DUID': 'VARCHAR','INTERVENTION': 'VARCHAR','DISPATCHMODE': 'VARCHAR','AGCSTATUS': 'VARCHAR','INITIALMW': 'VARCHAR',\n",
        "\t'TOTALCLEARED': 'VARCHAR','RAMPDOWNRATE': 'VARCHAR','RAMPUPRATE': 'VARCHAR','LOWER5MIN': 'VARCHAR',\n",
        "\t'LOWER60SEC': 'VARCHAR','LOWER6SEC': 'VARCHAR','RAISE5MIN': 'VARCHAR','RAISE60SEC': 'VARCHAR',\n",
        "\t'RAISE6SEC': 'VARCHAR','MARGINAL5MINVALUE': 'VARCHAR','MARGINAL60SECVALUE': 'VARCHAR',\n",
        "\t'MARGINAL6SECVALUE': 'VARCHAR','MARGINALVALUE': 'VARCHAR','VIOLATION5MINDEGREE': 'VARCHAR',\n",
        "\t'VIOLATION60SECDEGREE': 'VARCHAR','VIOLATION6SECDEGREE': 'VARCHAR','VIOLATIONDEGREE': 'VARCHAR',\n",
        "\t'LOWERREG': 'VARCHAR','RAISEREG': 'VARCHAR','AVAILABILITY': 'VARCHAR','RAISE6SECFLAGS': 'VARCHAR',\n",
        "\t'RAISE60SECFLAGS': 'VARCHAR','RAISE5MINFLAGS': 'VARCHAR','RAISEREGFLAGS': 'VARCHAR',\n",
        "\t'LOWER6SECFLAGS': 'VARCHAR','LOWER60SECFLAGS': 'VARCHAR','LOWER5MINFLAGS': 'VARCHAR',\n",
        "\t'LOWERREGFLAGS': 'VARCHAR','RAISEREGAVAILABILITY': 'VARCHAR','RAISEREGENABLEMENTMAX': 'VARCHAR',\n",
        "\t'RAISEREGENABLEMENTMIN': 'VARCHAR','LOWERREGAVAILABILITY': 'VARCHAR','LOWERREGENABLEMENTMAX': 'VARCHAR',\n",
        "\t'LOWERREGENABLEMENTMIN': 'VARCHAR','RAISE6SECACTUALAVAILABILITY': 'VARCHAR',\n",
        "\t'RAISE60SECACTUALAVAILABILITY': 'VARCHAR','RAISE5MINACTUALAVAILABILITY': 'VARCHAR',\n",
        "\t'RAISEREGACTUALAVAILABILITY': 'VARCHAR','LOWER6SECACTUALAVAILABILITY': 'VARCHAR',\n",
        "\t'LOWER60SECACTUALAVAILABILITY': 'VARCHAR','LOWER5MINACTUALAVAILABILITY': 'VARCHAR','LOWERREGACTUALAVAILABILITY': 'VARCHAR'\n",
        "\t}},\n",
        "\tfilename =1,null_padding = true,ignore_errors=1,auto_detect=false)\n",
        "\twhere I='D' and UNIT ='DUNIT' AND VERSION = 3                  \"\"\")\n",
        "\n",
        "\tdf=duckdb.sql(\"\"\" select UNIT, DUID,filename,cast(columns(*exclude(DUID,UNIT,SETTLEMENTDATE,I,XX,filename)) as double),cast (SETTLEMENTDATE as TIMESTAMPTZ) as SETTLEMENTDATE,\n",
        "\tisoyear (cast (SETTLEMENTDATE as timestamp)) as year  from raw  \"\"\").record_batch()\n",
        "\n",
        "\twrite_deltalake(f\"/lakehouse/default/Tables/T{total_files}/duckdb\",df, mode=\"append\", partition_by=['year'], storage_options= storage_options)\n",
        "\treturn \"done\"\n"
      ],
      "outputs": [],
      "execution_count": 47,
      "metadata": {
        "id": "21256ca2-634e-4d44-ae45-4e1850258ad1",
        "microsoft": {
          "language": "python",
          "language_group": "synapse_pyspark"
        },
        "cellView": "form",
        "jupyter": {
          "source_hidden": true
        }
      },
      "id": "21256ca2-634e-4d44-ae45-4e1850258ad1"
    },
    {
      "cell_type": "markdown",
      "source": [
        "# Daft"
      ],
      "metadata": {
        "id": "GHXhmrC28Zt_"
      },
      "id": "GHXhmrC28Zt_"
    },
    {
      "cell_type": "code",
      "source": [
        "# @title\n",
        "def daft_clean_csv(files_to_upload_full_Path):\n",
        "\tschema={\n",
        "\t\t\t\t'I': DataType.string(),'UNIT': DataType.string(),'XX': DataType.string(),'VERSION': DataType.string(),'SETTLEMENTDATE': DataType.string(),'RUNNO': DataType.string(),\n",
        "\t\t\t\t'DUID': DataType.string(),'INTERVENTION': DataType.string(),'DISPATCHMODE': DataType.string(),'AGCSTATUS': DataType.string(),'INITIALMW': DataType.string(),\n",
        "\t\t\t\t'TOTALCLEARED': DataType.string(),'RAMPDOWNRATE': DataType.string(),'RAMPUPRATE': DataType.string(),'LOWER5MIN': DataType.string(),\n",
        "\t\t\t\t'LOWER60SEC': DataType.string(),'LOWER6SEC': DataType.string(),'RAISE5MIN': DataType.string(),'RAISE60SEC': DataType.string(),\n",
        "\t\t\t\t'RAISE6SEC': DataType.string(),'MARGINAL5MINVALUE': DataType.string(),'MARGINAL60SECVALUE': DataType.string(),\n",
        "\t\t\t\t'MARGINAL6SECVALUE': DataType.string(),'MARGINALVALUE': DataType.string(),'VIOLATION5MINDEGREE': DataType.string(),\n",
        "\t\t\t\t'VIOLATION60SECDEGREE': DataType.string(),'VIOLATION6SECDEGREE': DataType.string(),'VIOLATIONDEGREE': DataType.string(),\n",
        "\t\t\t\t'LOWERREG': DataType.string(),'RAISEREG': DataType.string(),'AVAILABILITY': DataType.string(),'RAISE6SECFLAGS': DataType.string(),\n",
        "\t\t\t\t'RAISE60SECFLAGS': DataType.string(),'RAISE5MINFLAGS': DataType.string(),'RAISEREGFLAGS': DataType.string(),\n",
        "\t\t\t\t'LOWER6SECFLAGS': DataType.string(),'LOWER60SECFLAGS': DataType.string(),'LOWER5MINFLAGS': DataType.string(),\n",
        "\t\t\t\t'LOWERREGFLAGS': DataType.string(),'RAISEREGAVAILABILITY': DataType.string(),'RAISEREGENABLEMENTMAX': DataType.string(),\n",
        "\t\t\t\t'RAISEREGENABLEMENTMIN': DataType.string(),'LOWERREGAVAILABILITY': DataType.string(),'LOWERREGENABLEMENTMAX': DataType.string(),\n",
        "\t\t\t\t'LOWERREGENABLEMENTMIN': DataType.string(),'RAISE6SECACTUALAVAILABILITY': DataType.string(),\n",
        "\t\t\t\t'RAISE60SECACTUALAVAILABILITY': DataType.string(),'RAISE5MINACTUALAVAILABILITY': DataType.string(),\n",
        "\t\t\t\t'RAISEREGACTUALAVAILABILITY': DataType.string(),'LOWER6SECACTUALAVAILABILITY': DataType.string(),\n",
        "\t\t\t\t'LOWER60SECACTUALAVAILABILITY': DataType.string(),'LOWER5MINACTUALAVAILABILITY': DataType.string(),'LOWERREGACTUALAVAILABILITY': DataType.string()}\n",
        "\tdf = daft.read_csv(files_to_upload_full_Path,schema=schema, infer_schema=False, has_headers=False, allow_variable_columns=True)\n",
        "\tdf = df.where((df[\"UNIT\"] == 'DUNIT' ) & (df[\"VERSION\"] == '3') & (df[\"I\"] == 'D'))\n",
        "\tdf = df.exclude('I','XX')\n",
        "\tdf_cols = list(set(df.column_names) - {'SETTLEMENTDATE','DUID','file','UNIT','transactionId','PRIORITY'})\n",
        "\tfor col_name in df_cols:\n",
        "\t\t\tdf = df.with_column(col_name, col(col_name).cast(DataType.float64()))\n",
        "\tdf = df.with_column(\"SETTLEMENTDATE\", df[\"SETTLEMENTDATE\"].str.to_datetime(\"%Y/%m/%d %H:%M:%S\"))\n",
        "\tdf = df.with_column('DATE', col('SETTLEMENTDATE').cast(DataType.date()))\n",
        "\tdf = df.with_column('year', col('SETTLEMENTDATE').dt.year())\n",
        "\tdf.write_deltalake(f\"/lakehouse/default/Tables/T{total_files}/daft\", mode=\"append\")\n",
        "\treturn \"done\""
      ],
      "outputs": [],
      "execution_count": 48,
      "metadata": {
        "jupyter": {
          "source_hidden": true,
          "outputs_hidden": false
        },
        "nteract": {
          "transient": {
            "deleting": false
          }
        },
        "microsoft": {
          "language": "python",
          "language_group": "synapse_pyspark"
        },
        "cellView": "form",
        "id": "08b217c6-51a8-4e13-96cd-3f275754cad6"
      },
      "id": "08b217c6-51a8-4e13-96cd-3f275754cad6"
    },
    {
      "cell_type": "markdown",
      "source": [
        "# Polars"
      ],
      "metadata": {
        "id": "sBkDAT9PhxIx"
      },
      "id": "sBkDAT9PhxIx"
    },
    {
      "cell_type": "code",
      "source": [
        "# @title\n",
        "def polars_clean_csv(x):\n",
        "  schema ={'I': pl.String,'UNIT': pl.String,'XX': pl.String,'VERSION': pl.String,'SETTLEMENTDATE': pl.String,'RUNNO': pl.String,\n",
        "    'DUID': pl.String,'INTERVENTION': pl.String,'DISPATCHMODE': pl.String,'AGCSTATUS': pl.String,'INITIALMW': pl.String,\n",
        "    'TOTALCLEARED': pl.String,'RAMPDOWNRATE': pl.String,'RAMPUPRATE': pl.String,'LOWER5MIN': pl.String,\n",
        "    'LOWER60SEC': pl.String,'LOWER6SEC': pl.String,'RAISE5MIN': pl.String,'RAISE60SEC': pl.String,\n",
        "    'RAISE6SEC': pl.String,'MARGINAL5MINVALUE': pl.String,'MARGINAL60SECVALUE': pl.String,\n",
        "    'MARGINAL6SECVALUE': pl.String,'MARGINALVALUE': pl.String,'VIOLATION5MINDEGREE': pl.String,\n",
        "    'VIOLATION60SECDEGREE': pl.String,'VIOLATION6SECDEGREE': pl.String,'VIOLATIONDEGREE': pl.String,\n",
        "    'LOWERREG': pl.String,'RAISEREG': pl.String,'AVAILABILITY': pl.String,'RAISE6SECFLAGS': pl.String,\n",
        "    'RAISE60SECFLAGS': pl.String,'RAISE5MINFLAGS': pl.String,'RAISEREGFLAGS': pl.String,\n",
        "    'LOWER6SECFLAGS': pl.String,'LOWER60SECFLAGS': pl.String,'LOWER5MINFLAGS': pl.String,\n",
        "    'LOWERREGFLAGS': pl.String,'RAISEREGAVAILABILITY': pl.String,'RAISEREGENABLEMENTMAX': pl.String,\n",
        "    'RAISEREGENABLEMENTMIN': pl.String,'LOWERREGAVAILABILITY': pl.String,'LOWERREGENABLEMENTMAX': pl.String,\n",
        "    'LOWERREGENABLEMENTMIN': pl.String,'RAISE6SECACTUALAVAILABILITY': pl.String,\n",
        "    'RAISE60SECACTUALAVAILABILITY': pl.String,'RAISE5MINACTUALAVAILABILITY': pl.String,\n",
        "    'RAISEREGACTUALAVAILABILITY': pl.String,'LOWER6SECACTUALAVAILABILITY': pl.String,\n",
        "    'LOWER60SECACTUALAVAILABILITY': pl.String,'LOWER5MINACTUALAVAILABILITY': pl.String,'LOWERREGACTUALAVAILABILITY': pl.String}\n",
        "  raw = pl.scan_csv(x, skip_rows=1, schema=schema, has_header=False,truncate_ragged_lines=True)\n",
        "  transform =(\n",
        "      raw\n",
        "      .filter( (pl.col(\"I\")=='D') &  (pl.col(\"UNIT\")=='DUNIT') & (pl.col(\"VERSION\")=='3') )\n",
        "      .drop(\"XX\",\"I\")\n",
        "  )\n",
        "\n",
        "  z = transform.with_columns(pl.col(\"SETTLEMENTDATE\").str.to_datetime())\n",
        "  columns = list(set(transform.collect_schema().names()) - {'SETTLEMENTDATE','DUID','UNIT','xxx'})\n",
        "  final=z.with_columns(pl.col(columns).cast(pl.Float64),year=pl.col(\"SETTLEMENTDATE\").dt.iso_year()).collect(streaming=True)\n",
        "  final.write_delta(f\"/lakehouse/default/Tables/T{total_files}/polars\",mode=\"append\",  storage_options= storage_options)\n",
        "  return \"done\""
      ],
      "outputs": [],
      "execution_count": 49,
      "metadata": {
        "id": "ca89eb3a-a145-468f-8490-1a6ba970a25a",
        "microsoft": {
          "language": "python",
          "language_group": "synapse_pyspark"
        },
        "cellView": "form",
        "jupyter": {
          "source_hidden": true
        }
      },
      "id": "ca89eb3a-a145-468f-8490-1a6ba970a25a"
    },
    {
      "cell_type": "markdown",
      "source": [
        "# Pyarrow"
      ],
      "metadata": {
        "id": "hEjpkeuATHiD"
      },
      "id": "hEjpkeuATHiD"
    },
    {
      "cell_type": "code",
      "source": [
        "# @title\n",
        "def pyarrow_clean_csv(files_to_upload_full_Path):\n",
        "  new_schema = pa.schema([\n",
        "  ('I', pa.string()),  ('UNIT', pa.string()),  ('XX', pa.string()),  ('VERSION', pa.float64()),  ('SETTLEMENTDATE', pa.string()),  ('RUNNO', pa.float64()),  ('DUID', pa.string()),  ('INTERVENTION', pa.float64()),\n",
        "  ('DISPATCHMODE', pa.float64()),  ('AGCSTATUS', pa.float64()),  ('INITIALMW', pa.float64()),  ('TOTALCLEARED', pa.float64()),  ('RAMPDOWNRATE', pa.float64()),  ('RAMPUPRATE', pa.float64()),  ('LOWER5MIN', pa.float64()),\n",
        "  ('LOWER60SEC', pa.float64()),  ('LOWER6SEC', pa.float64()),  ('RAISE5MIN', pa.float64()),  ('RAISE60SEC', pa.float64()),  ('RAISE6SEC', pa.float64()),  ('MARGINAL5MINVALUE', pa.float64()),  ('MARGINAL60SECVALUE', pa.float64()),\n",
        "  ('MARGINAL6SECVALUE', pa.float64()),  ('MARGINALVALUE', pa.float64()),  ('VIOLATION5MINDEGREE', pa.float64()),  ('VIOLATION60SECDEGREE', pa.float64()),  ('VIOLATION6SECDEGREE', pa.float64()),  ('VIOLATIONDEGREE', pa.float64()),\n",
        "  ('LOWERREG', pa.float64()),  ('RAISEREG', pa.float64()),  ('AVAILABILITY', pa.float64()),  ('RAISE6SECFLAGS', pa.float64()),  ('RAISE60SECFLAGS', pa.float64()),  ('RAISE5MINFLAGS', pa.float64()),\n",
        "  ('RAISEREGFLAGS', pa.float64()),  ('LOWER6SECFLAGS', pa.float64()),  ('LOWER60SECFLAGS', pa.float64()),  ('LOWER5MINFLAGS', pa.float64()),  ('LOWERREGFLAGS', pa.float64()),  ('RAISEREGAVAILABILITY', pa.float64()),\n",
        "  ('RAISEREGENABLEMENTMAX', pa.float64()),  ('RAISEREGENABLEMENTMIN', pa.float64()),  ('LOWERREGAVAILABILITY', pa.float64()),  ('LOWERREGENABLEMENTMAX', pa.float64()),  ('LOWERREGENABLEMENTMIN', pa.float64()),\n",
        "  ('RAISE6SECACTUALAVAILABILITY', pa.float64()),  ('RAISE60SECACTUALAVAILABILITY', pa.float64()),  ('RAISE5MINACTUALAVAILABILITY', pa.float64()),  ('RAISEREGACTUALAVAILABILITY', pa.float64()),  ('LOWER6SECACTUALAVAILABILITY', pa.float64()),\n",
        "  ('LOWER60SECACTUALAVAILABILITY', pa.float64()),  ('LOWER5MINACTUALAVAILABILITY', pa.float64()),  ('LOWERREGACTUALAVAILABILITY', pa.float64()),\n",
        "    ])\n",
        "  ReadOptions = csv.ReadOptions(column_names=new_schema.names,skip_rows=1)\n",
        "  ParseOptions  = csv.ParseOptions(invalid_row_handler=lambda i: \"skip\")\n",
        "  ConvertOptions = csv.ConvertOptions(strings_can_be_null=True)\n",
        "  format = ds.CsvFileFormat(parse_options = ParseOptions ,convert_options = ConvertOptions ,read_options = ReadOptions  )\n",
        "  raw = ds.dataset(files_to_upload_full_Path, format =format).filter((pc.field('I') == 'D') & (pc.field('UNIT') == 'DUNIT') & (pc.field('VERSION') == 3)).to_table().cast(new_schema)\n",
        "  df= raw.drop_columns(['I','XX'])\n",
        "  df = df.set_column(df.schema.get_field_index(\"SETTLEMENTDATE\"), \"SETTLEMENTDATE\",pc.strptime(df['SETTLEMENTDATE'], format=\"%Y/%m/%d %H:%M:%S\", unit='s').cast(pa.timestamp(\"s\")))\n",
        "  df = df.add_column(0,\"year\", pc.year(df['SETTLEMENTDATE']))\n",
        "  write_deltalake(f\"/lakehouse/default/Tables/T{total_files}/pyarrow\",df, mode=\"append\", partition_by=['year'], storage_options= storage_options)\n",
        "  return \"done\""
      ],
      "outputs": [],
      "execution_count": 50,
      "metadata": {
        "id": "3epZDhdzTKv6",
        "microsoft": {
          "language": "python",
          "language_group": "synapse_pyspark"
        },
        "cellView": "form",
        "jupyter": {
          "source_hidden": true
        }
      },
      "id": "3epZDhdzTKv6"
    },
    {
      "cell_type": "markdown",
      "source": [
        "# Pandas"
      ],
      "metadata": {
        "id": "qpFll5xw3Mvq"
      },
      "id": "qpFll5xw3Mvq"
    },
    {
      "cell_type": "code",
      "source": [
        "# @title\n",
        "def pandas_clean_csv(chunk):\n",
        "    appended_data = []\n",
        "    for filename in chunk:\n",
        "        # Read only necessary columns\n",
        "        df = pd.read_csv(filename, skiprows=1,dtype=str, names=range(131), keep_default_na=False,  index_col=False)\n",
        "        df = df.iloc[:, :53]\n",
        "        df = df.rename(columns={1: 'DISPATCH', 3: 'VERSION'}).query('DISPATCH==\"DUNIT\" and VERSION==\"3\"')\n",
        "        df.columns = df.iloc[0]\n",
        "        df = df[1:]\n",
        "        df = df.rename(columns={'3': 'version', 'DUNIT': 'UNIT'})\n",
        "        df = df.drop(columns=['I'])\n",
        "        df.drop([\"\"], axis=1, inplace=True)\n",
        "        df['SETTLEMENTDATE'] = pd.to_datetime(df['SETTLEMENTDATE'])\n",
        "        columns = list(set(df.columns) - {'SETTLEMENTDATE', 'DUID', 'UNIT'})\n",
        "        df[columns] = df[columns].apply(pd.to_numeric, errors='coerce', dtype_backend='pyarrow')\n",
        "        df['year'] = df['SETTLEMENTDATE'].dt.year\n",
        "        appended_data.append(df)\n",
        "    appended_data = pd.concat(appended_data, ignore_index=True)\n",
        "    xx= pa.Table.from_pandas(appended_data,preserve_index=False)\n",
        "    write_deltalake(f\"/lakehouse/default/Tables/T{total_files}/pandas\",xx, mode=\"append\", partition_by=['year'],storage_options= storage_options)\n",
        "    return \"done\""
      ],
      "outputs": [],
      "execution_count": 51,
      "metadata": {
        "id": "7USg9dd-1ivc",
        "microsoft": {
          "language": "python",
          "language_group": "synapse_pyspark"
        },
        "cellView": "form",
        "jupyter": {
          "source_hidden": true
        }
      },
      "id": "7USg9dd-1ivc"
    },
    {
      "cell_type": "markdown",
      "source": [
        "# chDB"
      ],
      "metadata": {
        "nteract": {
          "transient": {
            "deleting": false
          }
        },
        "microsoft": {
          "language": "python",
          "language_group": "synapse_pyspark"
        },
        "id": "72ae953a-3ab4-43e2-9a96-37cf9e6f71b8"
      },
      "id": "72ae953a-3ab4-43e2-9a96-37cf9e6f71b8"
    },
    {
      "cell_type": "code",
      "source": [
        "# @title\n",
        "def chdb_clean_csv(files_to_upload_full_Path):\n",
        "    L = tuple(files_to_upload_full_Path)\n",
        "    sql =f\"\"\"\n",
        "      with raw as ( SELECT   *, _file,_path  FROM file('/lakehouse/default/Files/1_Transform/0/ARCHIVE/Daily_Reports/*.CSV','CSV')\n",
        "           WHERE c1 = 'D' AND c2 = 'DUNIT' AND c4 = '3' )\n",
        "      select\n",
        "      c2 as UNIT,\n",
        "      toFloat64OrNull(c4) AS VERSION,\n",
        "      parseDateTimeBestEffort( c5) AS SETTLEMENTDATE ,\n",
        "      toFloat64OrNull(c6) AS RUNNO,\n",
        "      c7  AS DUID,\n",
        "      toFloat64OrNull(c8) AS INTERVENTION,\n",
        "      toFloat64OrNull(c9) AS DISPATCHMODE,\n",
        "      toFloat64OrNull(c10) AS AGCSTATUS,\n",
        "      toFloat64OrNull(c11) AS INITIALMW,\n",
        "      toFloat64OrNull(c12) AS TOTALCLEARED,\n",
        "      toFloat64OrNull(c13) AS RAMPDOWNRATE,\n",
        "      toFloat64OrNull(c14) AS RAMPUPRATE,\n",
        "      toFloat64OrNull(c15) AS LOWER5MIN,\n",
        "      toFloat64OrNull(c16) AS LOWER60SEC,\n",
        "      toFloat64OrNull(c17) AS LOWER6SEC,\n",
        "      toFloat64OrNull(c18) AS RAISE5MIN,\n",
        "      toFloat64OrNull(c19) AS RAISE60SEC,\n",
        "      toFloat64OrNull(c20) AS RAISE6SEC,\n",
        "      toFloat64OrNull(c21) AS MARGINAL5MINVALUE,\n",
        "      toFloat64OrNull(c22) AS MARGINAL60SECVALUE,\n",
        "      toFloat64OrNull(c23) AS MARGINAL6SECVALUE,\n",
        "      toFloat64OrNull(c24) AS MARGINALVALUE,\n",
        "      toFloat64OrNull(c25) AS VIOLATION5MINDEGREE,\n",
        "      toFloat64OrNull(c26) AS VIOLATION60SECDEGREE,\n",
        "      toFloat64OrNull(c27) AS VIOLATION6SECDEGREE,\n",
        "      toFloat64OrNull(c28) AS VIOLATIONDEGREE,\n",
        "      toFloat64OrNull(c29) AS LOWERREG,\n",
        "      toFloat64OrNull(c30) AS RAISEREG,\n",
        "      toFloat64OrNull(c31) AS AVAILABILITY,\n",
        "      toFloat64OrNull(c32) AS RAISE6SECFLAGS,\n",
        "      toFloat64OrNull(c33) AS RAISE60SECFLAGS,\n",
        "      toFloat64OrNull(c34) AS RAISE5MINFLAGS,\n",
        "      toFloat64OrNull(c35) AS RAISEREGFLAGS,\n",
        "      toFloat64OrNull(c36) AS LOWER6SECFLAGS,\n",
        "      toFloat64OrNull(c37) AS LOWER60SECFLAGS,\n",
        "      toFloat64OrNull(c38) AS LOWER5MINFLAGS,\n",
        "      toFloat64OrNull(c39) AS LOWERREGFLAGS,\n",
        "      toFloat64OrNull(c40) AS RAISEREGAVAILABILITY,\n",
        "      toFloat64OrNull(c41) AS RAISEREGENABLEMENTMAX,\n",
        "      toFloat64OrNull(c42) AS RAISEREGENABLEMENTMIN,\n",
        "      toFloat64OrNull(c43) AS LOWERREGAVAILABILITY,\n",
        "      toFloat64OrNull(c44) AS LOWERREGENABLEMENTMAX,\n",
        "      toFloat64OrNull(c45) AS LOWERREGENABLEMENTMIN,\n",
        "      toFloat64OrNull(c46) AS RAISE6SECACTUALAVAILABILITY,\n",
        "      toFloat64OrNull(c47) AS RAISE60SECACTUALAVAILABILITY,\n",
        "      toFloat64OrNull(c48) AS RAISE5MINACTUALAVAILABILITY,\n",
        "      toFloat64OrNull(c49) AS RAISEREGACTUALAVAILABILITY,\n",
        "      toFloat64OrNull(c50) AS LOWER6SECACTUALAVAILABILITY,\n",
        "      toFloat64OrNull(c51) AS LOWER60SECACTUALAVAILABILITY,\n",
        "      toFloat64OrNull(c52) AS LOWER5MINACTUALAVAILABILITY,\n",
        "      toFloat64OrNull(c53) AS LOWERREGACTUALAVAILABILITY,\n",
        "      _file as filename,\n",
        "      toYear(CAST(SETTLEMENTDATE AS DateTime)) AS year\n",
        "      from raw   where _path IN {L}\n",
        "   \"\"\"\n",
        "    sess = chs.Session()\n",
        "    sess.query('''\n",
        "    SET input_format_csv_use_best_effort_in_schema_inference = 0;\n",
        "    SET input_format_csv_skip_first_lines = 1;\n",
        "    SET input_format_csv_allow_variable_number_of_columns = 1 ;''')\n",
        "    sess.query(sql)\n",
        "    df = sess.sql(sql,\"dataframe\")\n",
        "    write_deltalake(f\"/lakehouse/default/Tables/T{total_files}/chdb\",df, mode=\"append\", partition_by=['year'], storage_options= storage_options)\n",
        "    return \"done\"\n"
      ],
      "outputs": [],
      "execution_count": 52,
      "metadata": {
        "jupyter": {
          "source_hidden": true,
          "outputs_hidden": false
        },
        "nteract": {
          "transient": {
            "deleting": false
          }
        },
        "microsoft": {
          "language": "python",
          "language_group": "synapse_pyspark"
        },
        "cellView": "form",
        "id": "be7c80d4-41fb-4702-9ce4-bb9a072607ce"
      },
      "id": "be7c80d4-41fb-4702-9ce4-bb9a072607ce"
    },
    {
      "cell_type": "markdown",
      "source": [
        "# Ibis"
      ],
      "metadata": {
        "id": "SF7CWQywYcnY"
      },
      "id": "SF7CWQywYcnY"
    },
    {
      "cell_type": "code",
      "source": [
        "# @title\n",
        "def ibis_clean_csv(files_to_upload_full_Path):\n",
        " schema={\n",
        "\t\t\t'I': 'VARCHAR','UNIT': 'VARCHAR','XX': 'VARCHAR','VERSION': 'VARCHAR','SETTLEMENTDATE': 'VARCHAR','RUNNO': 'VARCHAR',\n",
        "\t\t\t'DUID': 'VARCHAR','INTERVENTION': 'VARCHAR','DISPATCHMODE': 'VARCHAR','AGCSTATUS': 'VARCHAR','INITIALMW': 'VARCHAR',\n",
        "\t\t\t'TOTALCLEARED': 'VARCHAR','RAMPDOWNRATE': 'VARCHAR','RAMPUPRATE': 'VARCHAR','LOWER5MIN': 'VARCHAR',\n",
        "\t\t\t'LOWER60SEC': 'VARCHAR','LOWER6SEC': 'VARCHAR','RAISE5MIN': 'VARCHAR','RAISE60SEC': 'VARCHAR',\n",
        "\t\t\t'RAISE6SEC': 'VARCHAR','MARGINAL5MINVALUE': 'VARCHAR','MARGINAL60SECVALUE': 'VARCHAR',\n",
        "\t\t\t'MARGINAL6SECVALUE': 'VARCHAR','MARGINALVALUE': 'VARCHAR','VIOLATION5MINDEGREE': 'VARCHAR',\n",
        "\t\t\t'VIOLATION60SECDEGREE': 'VARCHAR','VIOLATION6SECDEGREE': 'VARCHAR','VIOLATIONDEGREE': 'VARCHAR',\n",
        "\t\t\t'LOWERREG': 'VARCHAR','RAISEREG': 'VARCHAR','AVAILABILITY': 'VARCHAR','RAISE6SECFLAGS': 'VARCHAR',\n",
        "\t\t\t'RAISE60SECFLAGS': 'VARCHAR','RAISE5MINFLAGS': 'VARCHAR','RAISEREGFLAGS': 'VARCHAR',\n",
        "\t\t\t'LOWER6SECFLAGS': 'VARCHAR','LOWER60SECFLAGS': 'VARCHAR','LOWER5MINFLAGS': 'VARCHAR',\n",
        "\t\t\t'LOWERREGFLAGS': 'VARCHAR','RAISEREGAVAILABILITY': 'VARCHAR','RAISEREGENABLEMENTMAX': 'VARCHAR',\n",
        "\t\t\t'RAISEREGENABLEMENTMIN': 'VARCHAR','LOWERREGAVAILABILITY': 'VARCHAR','LOWERREGENABLEMENTMAX': 'VARCHAR',\n",
        "\t\t\t'LOWERREGENABLEMENTMIN': 'VARCHAR','RAISE6SECACTUALAVAILABILITY': 'VARCHAR',\n",
        "\t\t\t'RAISE60SECACTUALAVAILABILITY': 'VARCHAR','RAISE5MINACTUALAVAILABILITY': 'VARCHAR',\n",
        "\t\t\t'RAISEREGACTUALAVAILABILITY': 'VARCHAR','LOWER6SECACTUALAVAILABILITY': 'VARCHAR',\n",
        "\t\t\t'LOWER60SECACTUALAVAILABILITY': 'VARCHAR','LOWER5MINACTUALAVAILABILITY': 'VARCHAR','LOWERREGACTUALAVAILABILITY': 'VARCHAR'\n",
        "\t\t}\n",
        " raw = ibis.read_csv(files_to_upload_full_Path,Skip=1,header =0,all_varchar=1,columns =schema,filename =1,null_padding = 1,ignore_errors=1,auto_detect=0)\n",
        " DUNIT = raw.filter((raw.UNIT == \"DUNIT\") & (raw.VERSION  == '3') & (raw.I  == 'D')).drop(\"XX\",\"I\")\n",
        " DUNIT = DUNIT.cast({\"SETTLEMENTDATE\": dt.Timestamp(timezone=\"UTC\")})\n",
        " DUNIT = DUNIT.mutate(date=DUNIT.SETTLEMENTDATE.cast(\"date\"), year=DUNIT.SETTLEMENTDATE.year(),)\n",
        " df_cols = list(set(DUNIT.columns) - {'SETTLEMENTDATE','DUID','filename','UNIT','date','year'})\n",
        " DUNIT = DUNIT.cast({col_name: \"double\" for col_name in df_cols})\n",
        " DUNIT.to_delta(f\"/lakehouse/default/Tables/T{total_files}/ibis\",mode=\"append\", partition_by=['year'], storage_options= storage_options)\n",
        " return \"done\""
      ],
      "outputs": [],
      "execution_count": 53,
      "metadata": {
        "id": "bzrsEGnWYVLC",
        "microsoft": {
          "language": "python",
          "language_group": "synapse_pyspark"
        },
        "cellView": "form",
        "jupyter": {
          "source_hidden": true
        }
      },
      "id": "bzrsEGnWYVLC"
    },
    {
      "cell_type": "markdown",
      "source": [
        "# Sqlframe"
      ],
      "metadata": {
        "id": "iVgh-WEZyCry"
      },
      "id": "iVgh-WEZyCry"
    },
    {
      "cell_type": "code",
      "source": [
        "# @title\n",
        "def sqlframe_clean_csv(files_to_upload_full_Path):\n",
        "  session = DuckDBSession()\n",
        "  df = session.read.load(\n",
        "      files_to_upload_full_Path,\n",
        "      schema=\"\"\"I VARCHAR, UNIT VARCHAR, XX VARCHAR, VERSION VARCHAR, SETTLEMENTDATE VARCHAR, RUNNO VARCHAR, DUID VARCHAR,\n",
        "      INTERVENTION VARCHAR, DISPATCHMODE VARCHAR, AGCSTATUS VARCHAR, INITIALMW VARCHAR, TOTALCLEARED VARCHAR, RAMPDOWNRATE VARCHAR,\n",
        "      RAMPUPRATE VARCHAR, LOWER5MIN VARCHAR, LOWER60SEC VARCHAR, LOWER6SEC VARCHAR, RAISE5MIN VARCHAR, RAISE60SEC VARCHAR, RAISE6SEC VARCHAR,\n",
        "      MARGINAL5MINVALUE VARCHAR, MARGINAL60SECVALUE VARCHAR, MARGINAL6SECVALUE VARCHAR, MARGINALVALUE VARCHAR, VIOLATION5MINDEGREE VARCHAR,\n",
        "      VIOLATION60SECDEGREE VARCHAR, VIOLATION6SECDEGREE VARCHAR, VIOLATIONDEGREE VARCHAR, LOWERREG VARCHAR, RAISEREG VARCHAR, AVAILABILITY VARCHAR,\n",
        "      RAISE6SECFLAGS VARCHAR, RAISE60SECFLAGS VARCHAR, RAISE5MINFLAGS VARCHAR, RAISEREGFLAGS VARCHAR, LOWER6SECFLAGS VARCHAR, LOWER60SECFLAGS VARCHAR,\n",
        "      LOWER5MINFLAGS VARCHAR, LOWERREGFLAGS VARCHAR, RAISEREGAVAILABILITY VARCHAR, RAISEREGENABLEMENTMAX VARCHAR, RAISEREGENABLEMENTMIN VARCHAR,\n",
        "      LOWERREGAVAILABILITY VARCHAR, LOWERREGENABLEMENTMAX VARCHAR, LOWERREGENABLEMENTMIN VARCHAR, RAISE6SECACTUALAVAILABILITY VARCHAR,\n",
        "      RAISE60SECACTUALAVAILABILITY VARCHAR, RAISE5MINACTUALAVAILABILITY VARCHAR, RAISEREGACTUALAVAILABILITY VARCHAR,\n",
        "      LOWER6SECACTUALAVAILABILITY VARCHAR, LOWER60SECACTUALAVAILABILITY VARCHAR, LOWER5MINACTUALAVAILABILITY VARCHAR,\n",
        "      LOWERREGACTUALAVAILABILITY VARCHAR\"\"\",\n",
        "      format=\"csv\", skip=1, header=1, all_varchar=1, filename=1, null_padding=True, ignore_errors=1, auto_detect=False)\\\n",
        "      .filter(\"unit='DUNIT' and version =3 and i='D'\")\\\n",
        "      .drop('xx','I')\\\n",
        "      .withColumn('SETTLEMENTDATE',F.to_timestamp('SETTLEMENTDATE',\"yyyy/MM/dd HH:mm:ss\"))\\\n",
        "      .withColumn(\"PRIORITY\", F.lit(1))\n",
        "  exclude_list = ['settlementdate','duid','filename','unit','priority']\n",
        "  df = df.withColumns({i:F.col(i).cast(\"double\") for i in df.columns if i not in exclude_list})\n",
        "  df = df.withColumn('DATE', F.to_date(F.col('SETTLEMENTDATE')))\\\n",
        "        .withColumn('YEAR', F.year(F.col('SETTLEMENTDATE')))\n",
        "  write_deltalake(f\"/lakehouse/default/Tables/T{total_files}/sqlframe\",df.toArrow(batch_size=1000*2048),\n",
        "                     mode=\"append\", partition_by=['year'], storage_options= storage_options)\n",
        "  return \"done\""
      ],
      "outputs": [],
      "execution_count": 54,
      "metadata": {
        "id": "gX0HuZKyyFeh",
        "microsoft": {
          "language": "python",
          "language_group": "synapse_pyspark"
        },
        "jupyter": {
          "source_hidden": true
        },
        "cellView": "form"
      },
      "id": "gX0HuZKyyFeh"
    },
    {
      "cell_type": "code",
      "source": [
        "# @title\n",
        "# work in Progress\n",
        "def xxx():\n",
        "    !pip install 'ibis-framework[datafusion]'\n",
        "    con = ibis.datafusion.connect()\n",
        "    new_schema = pa.schema([\n",
        "    ('I', pa.string()),  ('UNIT', pa.string()),  ('XX', pa.string()),  ('VERSION', pa.float64()),  ('SETTLEMENTDATE', pa.string()),  ('RUNNO', pa.float64()),  ('DUID', pa.string()),  ('INTERVENTION', pa.float64()),\n",
        "    ('DISPATCHMODE', pa.float64()),  ('AGCSTATUS', pa.float64()),  ('INITIALMW', pa.float64()),  ('TOTALCLEARED', pa.float64()),  ('RAMPDOWNRATE', pa.float64()),  ('RAMPUPRATE', pa.float64()),  ('LOWER5MIN', pa.float64()),\n",
        "    ('LOWER60SEC', pa.float64()),  ('LOWER6SEC', pa.float64()),  ('RAISE5MIN', pa.float64()),  ('RAISE60SEC', pa.float64()),  ('RAISE6SEC', pa.float64()),  ('MARGINAL5MINVALUE', pa.float64()),  ('MARGINAL60SECVALUE', pa.float64()),\n",
        "    ('MARGINAL6SECVALUE', pa.float64()),  ('MARGINALVALUE', pa.float64()),  ('VIOLATION5MINDEGREE', pa.float64()),  ('VIOLATION60SECDEGREE', pa.float64()),  ('VIOLATION6SECDEGREE', pa.float64()),  ('VIOLATIONDEGREE', pa.float64()),\n",
        "    ('LOWERREG', pa.float64()),  ('RAISEREG', pa.float64()),  ('AVAILABILITY', pa.float64()),  ('RAISE6SECFLAGS', pa.float64()),  ('RAISE60SECFLAGS', pa.float64()),  ('RAISE5MINFLAGS', pa.float64()),\n",
        "    ('RAISEREGFLAGS', pa.float64()),  ('LOWER6SECFLAGS', pa.float64()),  ('LOWER60SECFLAGS', pa.float64()),  ('LOWER5MINFLAGS', pa.float64()),  ('LOWERREGFLAGS', pa.float64()),  ('RAISEREGAVAILABILITY', pa.float64()),\n",
        "    ('RAISEREGENABLEMENTMAX', pa.float64()),  ('RAISEREGENABLEMENTMIN', pa.float64()),  ('LOWERREGAVAILABILITY', pa.float64()),  ('LOWERREGENABLEMENTMAX', pa.float64()),  ('LOWERREGENABLEMENTMIN', pa.float64()),\n",
        "    ('RAISE6SECACTUALAVAILABILITY', pa.float64()),  ('RAISE60SECACTUALAVAILABILITY', pa.float64()),  ('RAISE5MINACTUALAVAILABILITY', pa.float64()),  ('RAISEREGACTUALAVAILABILITY', pa.float64()),  ('LOWER6SECACTUALAVAILABILITY', pa.float64()),\n",
        "    ('LOWER60SECACTUALAVAILABILITY', pa.float64()),  ('LOWER5MINACTUALAVAILABILITY', pa.float64()),  ('LOWERREGACTUALAVAILABILITY', pa.float64()),\n",
        "        ])\n",
        "    source_file =  '/lakehouse/default/Files/1_Transform/0/ARCHIVE/Daily_Reports/PUBLIC_DAILY_201804010000_20180402040501.CSV'\n",
        "    df = con.read_csv(source_file, schema=new_schema, has_header=False, schema_infer_max_records =0 , file_extension='CSV')\n",
        "    x = df.limit(10).to_pandas()\n",
        "    x\n",
        "    return \"done\"\n"
      ],
      "outputs": [],
      "execution_count": 55,
      "metadata": {
        "jupyter": {
          "source_hidden": true,
          "outputs_hidden": false
        },
        "nteract": {
          "transient": {
            "deleting": false
          }
        },
        "microsoft": {
          "language": "python",
          "language_group": "synapse_pyspark"
        },
        "cellView": "form",
        "id": "ced7c0f9-5d12-46af-b8e1-6aa06a005ff3"
      },
      "id": "ced7c0f9-5d12-46af-b8e1-6aa06a005ff3"
    },
    {
      "cell_type": "markdown",
      "source": [
        "#  "
      ],
      "metadata": {
        "nteract": {
          "transient": {
            "deleting": false
          }
        },
        "microsoft": {
          "language": "python",
          "language_group": "synapse_pyspark"
        },
        "id": "8ccb8790-3d51-44a7-bb4d-4a79c50b8c1d"
      },
      "id": "8ccb8790-3d51-44a7-bb4d-4a79c50b8c1d"
    },
    {
      "cell_type": "markdown",
      "source": [
        "# Run Test"
      ],
      "metadata": {
        "id": "QjvU3_McjZaj"
      },
      "id": "QjvU3_McjZaj"
    },
    {
      "cell_type": "code",
      "source": [
        "list_files=[os.path.basename(x) for x in glob.glob(Destination+'*.CSV')]\n",
        "files_to_upload_full_Path = [Destination + i for i in list_files][:total_files]\n",
        "def run_test(engine,chunk_len,files_to_upload_full_Path):\n",
        "    results = pd.DataFrame(columns=['time','Engine','step','total_files','duration'])\n",
        "    start_time = datetime.now().strftime('%Y-%m-%d %H:%M:%S')\n",
        "    appended_data = []\n",
        "    for i in range(0, len(files_to_upload_full_Path), chunk_len):\n",
        "      chunk = files_to_upload_full_Path[i:i + chunk_len]\n",
        "      start = time.time()\n",
        "      eval(f\"{engine}_clean_csv(chunk)\")\n",
        "      print(f'{engine} :' + str(time.time()-start))\n",
        "      appended_data.append(pd.DataFrame([[start_time,engine,i,total_files,time.time()-start]], columns=results.columns))\n",
        "    appended_data = pd.concat(appended_data, ignore_index=True)\n",
        "    write_deltalake(\"/lakehouse/default/Tables/dbo/results\",appended_data, mode=\"append\",  storage_options= storage_options)\n",
        "for engine,max_chunk in [('pandas',60),('ibis',60),(\"polars\",60),(\"pyarrow\",60),('duckdb',60),('daft',60),('sqlframe',60),('chdb',60)]:\n",
        " try:\n",
        "  run_test(engine,max_chunk,files_to_upload_full_Path)\n",
        " except Exception as e:\n",
        "  print(f\"Error: {e}\")"
      ],
      "outputs": [
        {
          "output_type": "stream",
          "name": "stdout",
          "text": [
            "pandas :325.1540174484253\n"
          ]
        },
        {
          "output_type": "display_data",
          "data": {
            "text/plain": [
              "FloatProgress(value=0.0, layout=Layout(width='auto'), style=ProgressStyle(bar_color='black'))"
            ],
            "application/vnd.jupyter.widget-view+json": {
              "version_major": 2,
              "version_minor": 0,
              "model_id": "ade3d0328250413a860544c684f00645"
            }
          },
          "metadata": {}
        },
        {
          "output_type": "stream",
          "name": "stdout",
          "text": [
            "ibis :76.21876835823059\n",
            "polars :55.62170910835266\n",
            "pyarrow :55.5759859085083\n"
          ]
        },
        {
          "output_type": "display_data",
          "data": {
            "text/plain": [
              "FloatProgress(value=0.0, layout=Layout(width='auto'), style=ProgressStyle(bar_color='black'))"
            ],
            "application/vnd.jupyter.widget-view+json": {
              "version_major": 2,
              "version_minor": 0,
              "model_id": "b1bfce3db0954795a85aadd263739c8c"
            }
          },
          "metadata": {}
        },
        {
          "output_type": "stream",
          "name": "stdout",
          "text": [
            "duckdb :75.56443428993225\n"
          ]
        },
        {
          "output_type": "display_data",
          "data": {
            "text/plain": [
              "ScanWithTask-Project-Project-WriteDeltaLake [Stage:3]:   0%|          | 0/1 [00:00<?, ?it/s]"
            ],
            "application/vnd.jupyter.widget-view+json": {
              "version_major": 2,
              "version_minor": 0,
              "model_id": "f8ae9055b41643bea81d582455b7cc98"
            }
          },
          "metadata": {}
        },
        {
          "output_type": "stream",
          "name": "stdout",
          "text": [
            "daft :118.05109548568726\n",
            "sqlframe :69.99299430847168\n",
            "chdb :242.17357683181763\n"
          ]
        }
      ],
      "execution_count": 56,
      "metadata": {
        "id": "fvIrc1Qs3idS",
        "microsoft": {
          "language": "python",
          "language_group": "synapse_pyspark"
        },
        "jupyter": {
          "source_hidden": false
        },
        "colab": {
          "base_uri": "https://localhost:8080/",
          "height": 226,
          "referenced_widgets": [
            "ade3d0328250413a860544c684f00645",
            "cb512ce3fc1348dbafdcbda9e87b8bd4",
            "cc122aaf856a49aab92b2b6dc8ce58e1",
            "b1bfce3db0954795a85aadd263739c8c",
            "03f2433465094d0d82cb6eb7835c27ba",
            "b94ed12359a246c48078dc6509fda47b",
            "f8ae9055b41643bea81d582455b7cc98",
            "e897dbacaefe4fcea4dbe00a683bce27",
            "47a51b93b2cd44e6b32e3089bfa978fb",
            "7d2ff22b863d416db85080cad2244170",
            "e99942e29cca42678ed699e1412d6e12",
            "2b4b038dc6b24d48b5d2154b62f0aa10",
            "6a3d0a8f62f1470cb22becf0693a364f",
            "55955c85beb74fdc986def909d3e0805",
            "154fef8eb16345a28f15ec1ce3f289b2",
            "bebef8cef6024553997e8d4881b57ad6",
            "1738e5b4743243b5bfbc9e4466d46fbd"
          ]
        },
        "outputId": "68bb6345-f505-4801-8aca-e4a7b3fe3c96"
      },
      "id": "fvIrc1Qs3idS"
    },
    {
      "cell_type": "code",
      "source": [
        "vCPU = str(cpu_count()) + \" vCPU\"\n",
        "mem=round(virtual_memory().total/(1024 * 1024 * 1024),0)\n",
        "runtime = vCPU+' '+str(mem)+'GB'+ f', Transform {total_files} CSV files and save as Delta Table,Run date: '+ str(time.strftime(\"%Y-%m-%d\"))\n",
        "result = duckdb.sql(f\"\"\"\n",
        "            with raw as (select Engine, date_trunc('day',cast(time as TIMESTAMP )) as day,step, avg(duration) as duration\n",
        "                        from delta_scan('/lakehouse/default/Tables/dbo/results') where total_files = {total_files}\n",
        "                        group by all),\n",
        "\n",
        "             result as (select Engine,day, sum(duration)/60 as duration from raw group by all order by duration)\n",
        "\n",
        "             pivot result on Engine using avg(duration) order by day\n",
        "                    \"\"\").df()\n",
        "ax = result.plot.bar(rot=0,x='day',title=runtime,ylabel='Duration in Minutes, Lower is Better',figsize=(18,8))"
      ],
      "outputs": [
        {
          "output_type": "display_data",
          "data": {
            "text/plain": [
              "<Figure size 1800x800 with 1 Axes>"
            ],
            "image/png": "[encoded data removed]"
          },
          "metadata": {}
        }
      ],
      "execution_count": 57,
      "metadata": {
        "jupyter": {
          "source_hidden": false,
          "outputs_hidden": false
        },
        "nteract": {
          "transient": {
            "deleting": false
          }
        },
        "microsoft": {
          "language": "python",
          "language_group": "synapse_pyspark"
        },
        "colab": {
          "base_uri": "https://localhost:8080/",
          "height": 718
        },
        "id": "f0289b68-517a-4eb7-977c-298eea26d6de",
        "outputId": "9b57a572-ba89-48a1-a273-ea8384ab95bc"
      },
      "id": "f0289b68-517a-4eb7-977c-298eea26d6de"
    }
  ],
  "metadata": {
    "colab": {
      "collapsed_sections": [
        "SF7CWQywYcnY"
      ],
      "provenance": []
    },
    "microsoft": {
      "language": "python",
      "ms_spell_check": {
        "ms_spell_check_language": "en"
      },
      "language_group": "synapse_pyspark"
    },
    "notebook_environment": {},
    "widgets": {
      "application/vnd.jupyter.widget-state+json": {
        "ade3d0328250413a860544c684f00645": {
          "model_module": "@jupyter-widgets/controls",
          "model_name": "FloatProgressModel",
          "model_module_version": "1.5.0",
          "state": {
            "_dom_classes": [],
            "_model_module": "@jupyter-widgets/controls",
            "_model_module_version": "1.5.0",
            "_model_name": "FloatProgressModel",
            "_view_count": null,
            "_view_module": "@jupyter-widgets/controls",
            "_view_module_version": "1.5.0",
            "_view_name": "ProgressView",
            "bar_style": "",
            "description": "",
            "description_tooltip": null,
            "layout": "IPY_MODEL_cb512ce3fc1348dbafdcbda9e87b8bd4",
            "max": 100,
            "min": 0,
            "orientation": "horizontal",
            "style": "IPY_MODEL_cc122aaf856a49aab92b2b6dc8ce58e1",
            "value": 100
          }
        },
        "cb512ce3fc1348dbafdcbda9e87b8bd4": {
          "model_module": "@jupyter-widgets/base",
          "model_name": "LayoutModel",
          "model_module_version": "1.2.0",
          "state": {
            "_model_module": "@jupyter-widgets/base",
            "_model_module_version": "1.2.0",
            "_model_name": "LayoutModel",
            "_view_count": null,
            "_view_module": "@jupyter-widgets/base",
            "_view_module_version": "1.2.0",
            "_view_name": "LayoutView",
            "align_content": null,
            "align_items": null,
            "align_self": null,
            "border": null,
            "bottom": null,
            "display": null,
            "flex": null,
            "flex_flow": null,
            "grid_area": null,
            "grid_auto_columns": null,
            "grid_auto_flow": null,
            "grid_auto_rows": null,
            "grid_column": null,
            "grid_gap": null,
            "grid_row": null,
            "grid_template_areas": null,
            "grid_template_columns": null,
            "grid_template_rows": null,
            "height": null,
            "justify_content": null,
            "justify_items": null,
            "left": null,
            "margin": null,
            "max_height": null,
            "max_width": null,
            "min_height": null,
            "min_width": null,
            "object_fit": null,
            "object_position": null,
            "order": null,
            "overflow": null,
            "overflow_x": null,
            "overflow_y": null,
            "padding": null,
            "right": null,
            "top": null,
            "visibility": null,
            "width": "auto"
          }
        },
        "cc122aaf856a49aab92b2b6dc8ce58e1": {
          "model_module": "@jupyter-widgets/controls",
          "model_name": "ProgressStyleModel",
          "model_module_version": "1.5.0",
          "state": {
            "_model_module": "@jupyter-widgets/controls",
            "_model_module_version": "1.5.0",
            "_model_name": "ProgressStyleModel",
            "_view_count": null,
            "_view_module": "@jupyter-widgets/base",
            "_view_module_version": "1.2.0",
            "_view_name": "StyleView",
            "bar_color": "black",
            "description_width": ""
          }
        },
        "b1bfce3db0954795a85aadd263739c8c": {
          "model_module": "@jupyter-widgets/controls",
          "model_name": "FloatProgressModel",
          "model_module_version": "1.5.0",
          "state": {
            "_dom_classes": [],
            "_model_module": "@jupyter-widgets/controls",
            "_model_module_version": "1.5.0",
            "_model_name": "FloatProgressModel",
            "_view_count": null,
            "_view_module": "@jupyter-widgets/controls",
            "_view_module_version": "1.5.0",
            "_view_name": "ProgressView",
            "bar_style": "",
            "description": "",
            "description_tooltip": null,
            "layout": "IPY_MODEL_03f2433465094d0d82cb6eb7835c27ba",
            "max": 100,
            "min": 0,
            "orientation": "horizontal",
            "style": "IPY_MODEL_b94ed12359a246c48078dc6509fda47b",
            "value": 100
          }
        },
        "03f2433465094d0d82cb6eb7835c27ba": {
          "model_module": "@jupyter-widgets/base",
          "model_name": "LayoutModel",
          "model_module_version": "1.2.0",
          "state": {
            "_model_module": "@jupyter-widgets/base",
            "_model_module_version": "1.2.0",
            "_model_name": "LayoutModel",
            "_view_count": null,
            "_view_module": "@jupyter-widgets/base",
            "_view_module_version": "1.2.0",
            "_view_name": "LayoutView",
            "align_content": null,
            "align_items": null,
            "align_self": null,
            "border": null,
            "bottom": null,
            "display": null,
            "flex": null,
            "flex_flow": null,
            "grid_area": null,
            "grid_auto_columns": null,
            "grid_auto_flow": null,
            "grid_auto_rows": null,
            "grid_column": null,
            "grid_gap": null,
            "grid_row": null,
            "grid_template_areas": null,
            "grid_template_columns": null,
            "grid_template_rows": null,
            "height": null,
            "justify_content": null,
            "justify_items": null,
            "left": null,
            "margin": null,
            "max_height": null,
            "max_width": null,
            "min_height": null,
            "min_width": null,
            "object_fit": null,
            "object_position": null,
            "order": null,
            "overflow": null,
            "overflow_x": null,
            "overflow_y": null,
            "padding": null,
            "right": null,
            "top": null,
            "visibility": null,
            "width": "auto"
          }
        },
        "b94ed12359a246c48078dc6509fda47b": {
          "model_module": "@jupyter-widgets/controls",
          "model_name": "ProgressStyleModel",
          "model_module_version": "1.5.0",
          "state": {
            "_model_module": "@jupyter-widgets/controls",
            "_model_module_version": "1.5.0",
            "_model_name": "ProgressStyleModel",
            "_view_count": null,
            "_view_module": "@jupyter-widgets/base",
            "_view_module_version": "1.2.0",
            "_view_name": "StyleView",
            "bar_color": "black",
            "description_width": ""
          }
        },
        "f8ae9055b41643bea81d582455b7cc98": {
          "model_module": "@jupyter-widgets/controls",
          "model_name": "HBoxModel",
          "model_module_version": "1.5.0",
          "state": {
            "_dom_classes": [],
            "_model_module": "@jupyter-widgets/controls",
            "_model_module_version": "1.5.0",
            "_model_name": "HBoxModel",
            "_view_count": null,
            "_view_module": "@jupyter-widgets/controls",
            "_view_module_version": "1.5.0",
            "_view_name": "HBoxView",
            "box_style": "",
            "children": [
              "IPY_MODEL_e897dbacaefe4fcea4dbe00a683bce27",
              "IPY_MODEL_47a51b93b2cd44e6b32e3089bfa978fb",
              "IPY_MODEL_7d2ff22b863d416db85080cad2244170"
            ],
            "layout": "IPY_MODEL_e99942e29cca42678ed699e1412d6e12"
          }
        },
        "e897dbacaefe4fcea4dbe00a683bce27": {
          "model_module": "@jupyter-widgets/controls",
          "model_name": "HTMLModel",
          "model_module_version": "1.5.0",
          "state": {
            "_dom_classes": [],
            "_model_module": "@jupyter-widgets/controls",
            "_model_module_version": "1.5.0",
            "_model_name": "HTMLModel",
            "_view_count": null,
            "_view_module": "@jupyter-widgets/controls",
            "_view_module_version": "1.5.0",
            "_view_name": "HTMLView",
            "description": "",
            "description_tooltip": null,
            "layout": "IPY_MODEL_2b4b038dc6b24d48b5d2154b62f0aa10",
            "placeholder": "​",
            "style": "IPY_MODEL_6a3d0a8f62f1470cb22becf0693a364f",
            "value": "ScanWithTask-Project-Project-WriteDeltaLake [Stage:3]: 100%"
          }
        },
        "47a51b93b2cd44e6b32e3089bfa978fb": {
          "model_module": "@jupyter-widgets/controls",
          "model_name": "FloatProgressModel",
          "model_module_version": "1.5.0",
          "state": {
            "_dom_classes": [],
            "_model_module": "@jupyter-widgets/controls",
            "_model_module_version": "1.5.0",
            "_model_name": "FloatProgressModel",
            "_view_count": null,
            "_view_module": "@jupyter-widgets/controls",
            "_view_module_version": "1.5.0",
            "_view_name": "ProgressView",
            "bar_style": "",
            "description": "",
            "description_tooltip": null,
            "layout": "IPY_MODEL_55955c85beb74fdc986def909d3e0805",
            "max": 1,
            "min": 0,
            "orientation": "horizontal",
            "style": "IPY_MODEL_154fef8eb16345a28f15ec1ce3f289b2",
            "value": 1
          }
        },
        "7d2ff22b863d416db85080cad2244170": {
          "model_module": "@jupyter-widgets/controls",
          "model_name": "HTMLModel",
          "model_module_version": "1.5.0",
          "state": {
            "_dom_classes": [],
            "_model_module": "@jupyter-widgets/controls",
            "_model_module_version": "1.5.0",
            "_model_name": "HTMLModel",
            "_view_count": null,
            "_view_module": "@jupyter-widgets/controls",
            "_view_module_version": "1.5.0",
            "_view_name": "HTMLView",
            "description": "",
            "description_tooltip": null,
            "layout": "IPY_MODEL_bebef8cef6024553997e8d4881b57ad6",
            "placeholder": "​",
            "style": "IPY_MODEL_1738e5b4743243b5bfbc9e4466d46fbd",
            "value": " 2/2 [01:56&lt;00:00, 56.72s/it]"
          }
        },
        "e99942e29cca42678ed699e1412d6e12": {
          "model_module": "@jupyter-widgets/base",
          "model_name": "LayoutModel",
          "model_module_version": "1.2.0",
          "state": {
            "_model_module": "@jupyter-widgets/base",
            "_model_module_version": "1.2.0",
            "_model_name": "LayoutModel",
            "_view_count": null,
            "_view_module": "@jupyter-widgets/base",
            "_view_module_version": "1.2.0",
            "_view_name": "LayoutView",
            "align_content": null,
            "align_items": null,
            "align_self": null,
            "border": null,
            "bottom": null,
            "display": null,
            "flex": null,
            "flex_flow": null,
            "grid_area": null,
            "grid_auto_columns": null,
            "grid_auto_flow": null,
            "grid_auto_rows": null,
            "grid_column": null,
            "grid_gap": null,
            "grid_row": null,
            "grid_template_areas": null,
            "grid_template_columns": null,
            "grid_template_rows": null,
            "height": null,
            "justify_content": null,
            "justify_items": null,
            "left": null,
            "margin": null,
            "max_height": null,
            "max_width": null,
            "min_height": null,
            "min_width": null,
            "object_fit": null,
            "object_position": null,
            "order": null,
            "overflow": null,
            "overflow_x": null,
            "overflow_y": null,
            "padding": null,
            "right": null,
            "top": null,
            "visibility": "hidden",
            "width": null
          }
        },
        "2b4b038dc6b24d48b5d2154b62f0aa10": {
          "model_module": "@jupyter-widgets/base",
          "model_name": "LayoutModel",
          "model_module_version": "1.2.0",
          "state": {
            "_model_module": "@jupyter-widgets/base",
            "_model_module_version": "1.2.0",
            "_model_name": "LayoutModel",
            "_view_count": null,
            "_view_module": "@jupyter-widgets/base",
            "_view_module_version": "1.2.0",
            "_view_name": "LayoutView",
            "align_content": null,
            "align_items": null,
            "align_self": null,
            "border": null,
            "bottom": null,
            "display": null,
            "flex": null,
            "flex_flow": null,
            "grid_area": null,
            "grid_auto_columns": null,
            "grid_auto_flow": null,
            "grid_auto_rows": null,
            "grid_column": null,
            "grid_gap": null,
            "grid_row": null,
            "grid_template_areas": null,
            "grid_template_columns": null,
            "grid_template_rows": null,
            "height": null,
            "justify_content": null,
            "justify_items": null,
            "left": null,
            "margin": null,
            "max_height": null,
            "max_width": null,
            "min_height": null,
            "min_width": null,
            "object_fit": null,
            "object_position": null,
            "order": null,
            "overflow": null,
            "overflow_x": null,
            "overflow_y": null,
            "padding": null,
            "right": null,
            "top": null,
            "visibility": null,
            "width": null
          }
        },
        "6a3d0a8f62f1470cb22becf0693a364f": {
          "model_module": "@jupyter-widgets/controls",
          "model_name": "DescriptionStyleModel",
          "model_module_version": "1.5.0",
          "state": {
            "_model_module": "@jupyter-widgets/controls",
            "_model_module_version": "1.5.0",
            "_model_name": "DescriptionStyleModel",
            "_view_count": null,
            "_view_module": "@jupyter-widgets/base",
            "_view_module_version": "1.2.0",
            "_view_name": "StyleView",
            "description_width": ""
          }
        },
        "55955c85beb74fdc986def909d3e0805": {
          "model_module": "@jupyter-widgets/base",
          "model_name": "LayoutModel",
          "model_module_version": "1.2.0",
          "state": {
            "_model_module": "@jupyter-widgets/base",
            "_model_module_version": "1.2.0",
            "_model_name": "LayoutModel",
            "_view_count": null,
            "_view_module": "@jupyter-widgets/base",
            "_view_module_version": "1.2.0",
            "_view_name": "LayoutView",
            "align_content": null,
            "align_items": null,
            "align_self": null,
            "border": null,
            "bottom": null,
            "display": null,
            "flex": null,
            "flex_flow": null,
            "grid_area": null,
            "grid_auto_columns": null,
            "grid_auto_flow": null,
            "grid_auto_rows": null,
            "grid_column": null,
            "grid_gap": null,
            "grid_row": null,
            "grid_template_areas": null,
            "grid_template_columns": null,
            "grid_template_rows": null,
            "height": null,
            "justify_content": null,
            "justify_items": null,
            "left": null,
            "margin": null,
            "max_height": null,
            "max_width": null,
            "min_height": null,
            "min_width": null,
            "object_fit": null,
            "object_position": null,
            "order": null,
            "overflow": null,
            "overflow_x": null,
            "overflow_y": null,
            "padding": null,
            "right": null,
            "top": null,
            "visibility": null,
            "width": null
          }
        },
        "154fef8eb16345a28f15ec1ce3f289b2": {
          "model_module": "@jupyter-widgets/controls",
          "model_name": "ProgressStyleModel",
          "model_module_version": "1.5.0",
          "state": {
            "_model_module": "@jupyter-widgets/controls",
            "_model_module_version": "1.5.0",
            "_model_name": "ProgressStyleModel",
            "_view_count": null,
            "_view_module": "@jupyter-widgets/base",
            "_view_module_version": "1.2.0",
            "_view_name": "StyleView",
            "bar_color": null,
            "description_width": ""
          }
        },
        "bebef8cef6024553997e8d4881b57ad6": {
          "model_module": "@jupyter-widgets/base",
          "model_name": "LayoutModel",
          "model_module_version": "1.2.0",
          "state": {
            "_model_module": "@jupyter-widgets/base",
            "_model_module_version": "1.2.0",
            "_model_name": "LayoutModel",
            "_view_count": null,
            "_view_module": "@jupyter-widgets/base",
            "_view_module_version": "1.2.0",
            "_view_name": "LayoutView",
            "align_content": null,
            "align_items": null,
            "align_self": null,
            "border": null,
            "bottom": null,
            "display": null,
            "flex": null,
            "flex_flow": null,
            "grid_area": null,
            "grid_auto_columns": null,
            "grid_auto_flow": null,
            "grid_auto_rows": null,
            "grid_column": null,
            "grid_gap": null,
            "grid_row": null,
            "grid_template_areas": null,
            "grid_template_columns": null,
            "grid_template_rows": null,
            "height": null,
            "justify_content": null,
            "justify_items": null,
            "left": null,
            "margin": null,
            "max_height": null,
            "max_width": null,
            "min_height": null,
            "min_width": null,
            "object_fit": null,
            "object_position": null,
            "order": null,
            "overflow": null,
            "overflow_x": null,
            "overflow_y": null,
            "padding": null,
            "right": null,
            "top": null,
            "visibility": null,
            "width": null
          }
        },
        "1738e5b4743243b5bfbc9e4466d46fbd": {
          "model_module": "@jupyter-widgets/controls",
          "model_name": "DescriptionStyleModel",
          "model_module_version": "1.5.0",
          "state": {
            "_model_module": "@jupyter-widgets/controls",
            "_model_module_version": "1.5.0",
            "_model_name": "DescriptionStyleModel",
            "_view_count": null,
            "_view_module": "@jupyter-widgets/base",
            "_view_module_version": "1.2.0",
            "_view_name": "StyleView",
            "description_width": ""
          }
        }
      }
    },
    "kernel_info": {
      "name": "synapse_pyspark"
    },
    "language_info": {
      "name": "python"
    },
    "kernelspec": {
      "name": "python3",
      "display_name": "Python 3"
    },
    "nteract": {
      "version": "nteract-front-end@1.0.0"
    },
    "synapse_widget": {
      "state": {},
      "version": "0.1"
    },
    "save_output": true,
    "spark_compute": {
      "compute_id": "/trident/default",
      "session_options": {
        "conf": {},
        "enableDebugMode": false
      }
    },
    "dependencies": {
      "environment": {},
      "lakehouse": {
        "default_lakehouse": "b5a8c0d6-c86f-4230-939f-5437f7ed1d87",
        "default_lakehouse_name": "ETL",
        "default_lakehouse_workspace_id": "450bf196-431f-463f-9316-2d1ce1da98db"
      }
    }
  },
  "nbformat": 4,
  "nbformat_minor": 5
}