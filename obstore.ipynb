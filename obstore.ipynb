{
 "cells": [
  {
   "cell_type": "code",
   "execution_count": null,
   "metadata": {},
   "outputs": [],
   "source": [
    "pip install obstore --upgrade"
   ]
  },
  {
   "cell_type": "code",
   "execution_count": 7,
   "metadata": {},
   "outputs": [],
   "source": [
    "import  obstore\n",
    "from    obstore.store    import from_url\n",
    "store = from_url('abfss://sqlengines@onelake.dfs.fabric.microsoft.com/power.Lakehouse/Files', azure_use_azure_cli=True)"
   ]
  },
  {
   "cell_type": "code",
   "execution_count": 8,
   "metadata": {},
   "outputs": [
    {
     "data": {
      "text/plain": [
       "[{'path': 'tmp/cc/xx.zip',\n",
       "  'last_modified': datetime.datetime(2025, 3, 16, 6, 19, 26, tzinfo=datetime.timezone.utc),\n",
       "  'size': 92063,\n",
       "  'e_tag': '0x8DD645280E17574',\n",
       "  'version': None},\n",
       " {'path': 'tmp/xx.zip',\n",
       "  'last_modified': datetime.datetime(2025, 3, 16, 6, 17, 10, tzinfo=datetime.timezone.utc),\n",
       "  'size': 92063,\n",
       "  'e_tag': '0x8DD64522F5EE1DC',\n",
       "  'version': None}]"
      ]
     },
     "execution_count": 8,
     "metadata": {},
     "output_type": "execute_result"
    }
   ],
   "source": [
    "obstore.list(store,'tmp').collect()"
   ]
  },
  {
   "cell_type": "code",
   "execution_count": 9,
   "metadata": {},
   "outputs": [
    {
     "name": "stdout",
     "output_type": "stream",
     "text": [
      "/test/Files/PUBLIC_DAILY_202412310000_20250101040502.zip\n",
      "/test/Files/PUBLIC_DAILY_202501010000_20250102040502.zip\n",
      "/test/Files/PUBLIC_DAILY_202501020000_20250103040502.zip\n"
     ]
    }
   ],
   "source": [
    "import os\n",
    "\n",
    "folder_path = '/test'\n",
    "for root, dirs, files in os.walk(folder_path):\n",
    "    for file in files:\n",
    "        x=os.path.join(root, file).replace(\"\\\\\", \"/\")\n",
    "        print(x)\n",
    "        obstore.put(store,x,x)\n",
    "\n"
   ]
  }
 ],
 "metadata": {
  "kernelspec": {
   "display_name": "Python 3",
   "language": "python",
   "name": "python3"
  },
  "language_info": {
   "codemirror_mode": {
    "name": "ipython",
    "version": 3
   },
   "file_extension": ".py",
   "mimetype": "text/x-python",
   "name": "python",
   "nbconvert_exporter": "python",
   "pygments_lexer": "ipython3",
   "version": "3.11.9"
  }
 },
 "nbformat": 4,
 "nbformat_minor": 2
}
