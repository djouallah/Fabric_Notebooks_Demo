{
  "cells": [
    {
      "cell_type": "markdown",
      "source": [
        "***Check if Fabric running***"
      ],
      "metadata": {
        "id": "CMdwi1fws8wb"
      },
      "id": "CMdwi1fws8wb"
    },
    {
      "cell_type": "code",
      "source": [
        "# @title\n",
        "## if running inside Fabric, it will skip Spark installation\n",
        "try:\n",
        "    mssparkutils\n",
        "except NameError:\n",
        "    mssparkutils = None"
      ],
      "metadata": {
        "cellView": "form",
        "id": "N7xPyFwTs3lN"
      },
      "id": "N7xPyFwTs3lN",
      "execution_count": 1,
      "outputs": []
    },
    {
      "cell_type": "markdown",
      "source": [
        "***Install Package***"
      ],
      "metadata": {
        "id": "20orabBAtGFU"
      },
      "id": "20orabBAtGFU"
    },
    {
      "cell_type": "code",
      "execution_count": 2,
      "id": "4fa98002-f7c6-4d4d-9664-3f492997b93f",
      "metadata": {
        "jupyter": {
          "outputs_hidden": false,
          "source_hidden": false
        },
        "nteract": {
          "transient": {
            "deleting": false
          }
        },
        "id": "4fa98002-f7c6-4d4d-9664-3f492997b93f",
        "colab": {
          "base_uri": "https://localhost:8080/"
        },
        "outputId": "84a2fe4d-832e-4970-89a5-7fd1ee13e181"
      },
      "outputs": [
        {
          "output_type": "stream",
          "name": "stdout",
          "text": [
            "\u001b[2K     \u001b[90m━━━━━━━━━━━━━━━━━━━━━━━━━━━━━━━━━━━━━━━━\u001b[0m \u001b[32m18.5/18.5 MB\u001b[0m \u001b[31m28.0 MB/s\u001b[0m eta \u001b[36m0:00:00\u001b[0m\n",
            "\u001b[2K     \u001b[90m━━━━━━━━━━━━━━━━━━━━━━━━━━━━━━━━━━━━━━━━\u001b[0m \u001b[32m28.1/28.1 MB\u001b[0m \u001b[31m18.6 MB/s\u001b[0m eta \u001b[36m0:00:00\u001b[0m\n",
            "\u001b[2K     \u001b[90m━━━━━━━━━━━━━━━━━━━━━━━━━━━━━━━━━━━━━━━━\u001b[0m \u001b[32m1.8/1.8 MB\u001b[0m \u001b[31m10.0 MB/s\u001b[0m eta \u001b[36m0:00:00\u001b[0m\n",
            "\u001b[2K     \u001b[90m━━━━━━━━━━━━━━━━━━━━━━━━━━━━━━━━━━━━━━━━\u001b[0m \u001b[32m392.1/392.1 kB\u001b[0m \u001b[31m13.9 MB/s\u001b[0m eta \u001b[36m0:00:00\u001b[0m\n",
            "\u001b[?25h\u001b[31mERROR: pip's dependency resolver does not currently take into account all the packages that are installed. This behaviour is the source of the following dependency conflicts.\n",
            "bigframes 1.6.0 requires ibis-framework[bigquery]<9.0.0dev,>=8.0.0, but you have ibis-framework 10.0.0.dev71 which is incompatible.\n",
            "bigframes 1.6.0 requires sqlglot<=20.11,>=20.8.0, but you have sqlglot 23.14.0 which is incompatible.\u001b[0m\u001b[31m\n",
            "\u001b[2K     \u001b[90m━━━━━━━━━━━━━━━━━━━━━━━━━━━━━━━━━━━━━━━━\u001b[0m \u001b[32m26.5/26.5 MB\u001b[0m \u001b[31m48.3 MB/s\u001b[0m eta \u001b[36m0:00:00\u001b[0m\n",
            "\u001b[?25h"
          ]
        }
      ],
      "source": [
        "!pip install   -q duckdb --upgrade --pre\n",
        "!pip install   -q polars --upgrade --pre\n",
        "!pip install   -q 'ibis-framework' --pre --upgrade\n",
        "!pip install   -q deltalake"
      ]
    },
    {
      "cell_type": "code",
      "source": [
        "if mssparkutils is None:\n",
        " !pip install -q delta-spark\n",
        " import pyspark\n",
        " from delta import *\n",
        " builder = pyspark.sql.SparkSession.builder.appName(\"MyApp\") \\\n",
        "    .config(\"spark.sql.extensions\", \"io.delta.sql.DeltaSparkSessionExtension\") \\\n",
        "    .config(\"spark.sql.catalog.spark_catalog\", \"org.apache.spark.sql.delta.catalog.DeltaCatalog\")\n",
        " spark = configure_spark_with_delta_pip(builder).getOrCreate()\n",
        " spark.conf.set(\"spark.sql.execution.arrow.enabled\", \"true\")\n",
        "else:\n",
        " print('You are in Fabric, all good, no need to install Spark')\n"
      ],
      "metadata": {
        "id": "cydgB61Wlxyx",
        "colab": {
          "base_uri": "https://localhost:8080/"
        },
        "outputId": "800902dc-2976-4648-eb9b-e0dadf0ce37c"
      },
      "id": "cydgB61Wlxyx",
      "execution_count": 3,
      "outputs": [
        {
          "output_type": "stream",
          "name": "stdout",
          "text": [
            "\u001b[2K     \u001b[90m━━━━━━━━━━━━━━━━━━━━━━━━━━━━━━━━━━━━━━━━\u001b[0m \u001b[32m317.0/317.0 MB\u001b[0m \u001b[31m3.2 MB/s\u001b[0m eta \u001b[36m0:00:00\u001b[0m\n",
            "\u001b[?25h  Preparing metadata (setup.py) ... \u001b[?25l\u001b[?25hdone\n",
            "  Building wheel for pyspark (setup.py) ... \u001b[?25l\u001b[?25hdone\n"
          ]
        }
      ]
    },
    {
      "cell_type": "code",
      "execution_count": 4,
      "id": "815f881e-4109-431e-90cd-dab1a806132f",
      "metadata": {
        "jupyter": {
          "outputs_hidden": false,
          "source_hidden": false
        },
        "nteract": {
          "transient": {
            "deleting": false
          }
        },
        "colab": {
          "base_uri": "https://localhost:8080/"
        },
        "id": "815f881e-4109-431e-90cd-dab1a806132f",
        "outputId": "058cfb10-0cc1-43bb-a1ce-2a820cb68eb9"
      },
      "outputs": [
        {
          "output_type": "stream",
          "name": "stdout",
          "text": [
            "2 vCPU Memory:13.0\n"
          ]
        }
      ],
      "source": [
        "# @title\n",
        "from psutil import *\n",
        "core = cpu_count()\n",
        "vCPU = str(core) + \" vCPU\"\n",
        "mem=round(virtual_memory().total/(1024 * 1024 * 1024),0)\n",
        "print(vCPU +' Memory:'+ str(mem))"
      ]
    },
    {
      "cell_type": "code",
      "execution_count": 5,
      "id": "C0_8e4OVo9vR",
      "metadata": {
        "id": "C0_8e4OVo9vR"
      },
      "outputs": [],
      "source": [
        "total_files = 5\n",
        "raw_landing='/lakehouse/default/Files/raw'"
      ]
    },
    {
      "cell_type": "markdown",
      "id": "ee4d52d4-761a-4e7b-993b-0889fda74a94",
      "metadata": {
        "id": "ee4d52d4-761a-4e7b-993b-0889fda74a94"
      },
      "source": [
        "# Download Data"
      ]
    },
    {
      "cell_type": "code",
      "execution_count": 6,
      "id": "28416977-0f39-41ca-aa84-9a5d42a6e519",
      "metadata": {
        "cellView": "form",
        "id": "28416977-0f39-41ca-aa84-9a5d42a6e519"
      },
      "outputs": [],
      "source": [
        "# @title\n",
        "import re ,os\n",
        "import requests\n",
        "from urllib.request import urlopen\n",
        "def download(url,Path):\n",
        "    if not os.path.exists(Path):\n",
        "      os.makedirs(Path, exist_ok=True)\n",
        "    result = urlopen(url).read().decode('utf-8')\n",
        "    pattern = re.compile(r'[\\w.]*.zip')\n",
        "    filelist1 = pattern.findall(result)\n",
        "    filelist_unique = list(set(filelist1))[:total_files]\n",
        "    print(str(len(filelist_unique)) + ' New File Loaded')\n",
        "    if len(filelist_unique) != 0 :\n",
        "      for x in filelist_unique:\n",
        "           with requests.get(url+x, stream=True) as resp:\n",
        "            if resp.ok:\n",
        "              with open(f\"{Path}/{x}\", \"wb\") as f:\n",
        "               for chunk in resp.iter_content(chunk_size=4096):\n",
        "                f.write(chunk)\n",
        "    return \"done\""
      ]
    },
    {
      "cell_type": "code",
      "execution_count": 7,
      "id": "3b5f3047-8010-41ba-8e30-396e26de0e81",
      "metadata": {
        "cellView": "form",
        "id": "3b5f3047-8010-41ba-8e30-396e26de0e81"
      },
      "outputs": [],
      "source": [
        "# @title\n",
        "from shutil import unpack_archive\n",
        "import os , glob\n",
        "def unzip(Source, Destination):\n",
        "    filelist=[os.path.basename(x) for x in glob.glob(Source+'*.zip')]\n",
        "    for x in filelist:\n",
        "          try:\n",
        "            unpack_archive(str(Source+x), str(Destination), 'zip')\n",
        "          except:\n",
        "            pass\n",
        "    return \"done\""
      ]
    },
    {
      "cell_type": "code",
      "execution_count": 8,
      "id": "f6536736-55ec-4af9-a603-17a4e779af7a",
      "metadata": {
        "colab": {
          "base_uri": "https://localhost:8080/",
          "height": 54
        },
        "id": "f6536736-55ec-4af9-a603-17a4e779af7a",
        "outputId": "568062c1-db4a-413f-a50a-d14e662cc579"
      },
      "outputs": [
        {
          "output_type": "stream",
          "name": "stdout",
          "text": [
            "5 New File Loaded\n"
          ]
        },
        {
          "output_type": "execute_result",
          "data": {
            "text/plain": [
              "'done'"
            ],
            "application/vnd.google.colaboratory.intrinsic+json": {
              "type": "string"
            }
          },
          "metadata": {},
          "execution_count": 8
        }
      ],
      "source": [
        "download(\"https://nemweb.com.au/Reports/Current/Daily_Reports/\",raw_landing+\"/zip/\")\n",
        "unzip(raw_landing+\"/zip/\",raw_landing+\"/csv/\")"
      ]
    },
    {
      "cell_type": "markdown",
      "id": "8LbA_eCFM-Zl",
      "metadata": {
        "id": "8LbA_eCFM-Zl"
      },
      "source": [
        "# DuckDB"
      ]
    },
    {
      "cell_type": "code",
      "execution_count": 9,
      "id": "21256ca2-634e-4d44-ae45-4e1850258ad1",
      "metadata": {
        "jupyter": {
          "outputs_hidden": false,
          "source_hidden": false
        },
        "nteract": {
          "transient": {
            "deleting": false
          }
        },
        "id": "21256ca2-634e-4d44-ae45-4e1850258ad1"
      },
      "outputs": [],
      "source": [
        "# @title\n",
        "import duckdb\n",
        "def duckdb_clean_csv(x):\n",
        "\traw =duckdb.sql(F\"\"\"from read_csv({x},\n",
        "\tSkip=1,header =0,all_varchar=1,\n",
        "\tcolumns={{\n",
        "\t'I': 'VARCHAR','UNIT': 'VARCHAR','XX': 'VARCHAR','VERSION': 'VARCHAR','SETTLEMENTDATE': 'VARCHAR','RUNNO': 'VARCHAR',\n",
        "\t'DUID': 'VARCHAR','INTERVENTION': 'VARCHAR','DISPATCHMODE': 'VARCHAR','AGCSTATUS': 'VARCHAR','INITIALMW': 'VARCHAR',\n",
        "\t'TOTALCLEARED': 'VARCHAR','RAMPDOWNRATE': 'VARCHAR','RAMPUPRATE': 'VARCHAR','LOWER5MIN': 'VARCHAR',\n",
        "\t'LOWER60SEC': 'VARCHAR','LOWER6SEC': 'VARCHAR','RAISE5MIN': 'VARCHAR','RAISE60SEC': 'VARCHAR',\n",
        "\t'RAISE6SEC': 'VARCHAR','MARGINAL5MINVALUE': 'VARCHAR','MARGINAL60SECVALUE': 'VARCHAR',\n",
        "\t'MARGINAL6SECVALUE': 'VARCHAR','MARGINALVALUE': 'VARCHAR','VIOLATION5MINDEGREE': 'VARCHAR',\n",
        "\t'VIOLATION60SECDEGREE': 'VARCHAR','VIOLATION6SECDEGREE': 'VARCHAR','VIOLATIONDEGREE': 'VARCHAR',\n",
        "\t'LOWERREG': 'VARCHAR','RAISEREG': 'VARCHAR','AVAILABILITY': 'VARCHAR','RAISE6SECFLAGS': 'VARCHAR',\n",
        "\t'RAISE60SECFLAGS': 'VARCHAR','RAISE5MINFLAGS': 'VARCHAR','RAISEREGFLAGS': 'VARCHAR',\n",
        "\t'LOWER6SECFLAGS': 'VARCHAR','LOWER60SECFLAGS': 'VARCHAR','LOWER5MINFLAGS': 'VARCHAR',\n",
        "\t'LOWERREGFLAGS': 'VARCHAR','RAISEREGAVAILABILITY': 'VARCHAR','RAISEREGENABLEMENTMAX': 'VARCHAR',\n",
        "\t'RAISEREGENABLEMENTMIN': 'VARCHAR','LOWERREGAVAILABILITY': 'VARCHAR','LOWERREGENABLEMENTMAX': 'VARCHAR',\n",
        "\t'LOWERREGENABLEMENTMIN': 'VARCHAR','RAISE6SECACTUALAVAILABILITY': 'VARCHAR',\n",
        "\t'RAISE60SECACTUALAVAILABILITY': 'VARCHAR','RAISE5MINACTUALAVAILABILITY': 'VARCHAR',\n",
        "\t'RAISEREGACTUALAVAILABILITY': 'VARCHAR','LOWER6SECACTUALAVAILABILITY': 'VARCHAR',\n",
        "\t'LOWER60SECACTUALAVAILABILITY': 'VARCHAR','LOWER5MINACTUALAVAILABILITY': 'VARCHAR','LOWERREGACTUALAVAILABILITY': 'VARCHAR'\n",
        "\t}},\n",
        "\tfilename =1,null_padding = true,ignore_errors=1,auto_detect=false)\n",
        "\twhere I='D' and UNIT ='DUNIT' AND VERSION = 3                  \"\"\")\n",
        "\tcolumns = list(set(raw.columns) - {'SETTLEMENTDATE','DUID','I','filename','UNIT'})\n",
        "\texprs = [\n",
        "\t\tduckdb.ColumnExpression(x).cast(duckdb.typing.DOUBLE).alias(x)\n",
        "\t\tfor x in columns\n",
        "\t         ]\n",
        "\trel2 = raw.select('SETTLEMENTDATE','DUID','I','filename','UNIT',*exprs)\n",
        "\n",
        "\tscada=duckdb.sql(\"\"\" select *exclude(SETTLEMENTDATE,I,XX,filename),cast (SETTLEMENTDATE as TIMESTAMPTZ) as SETTLEMENTDATE,\n",
        "\tisoyear (cast (SETTLEMENTDATE as timestamp)) as YEAR  from rel2  \"\"\")\n",
        "\treturn scada.arrow()\n"
      ]
    },
    {
      "cell_type": "markdown",
      "source": [
        "# Polars"
      ],
      "metadata": {
        "id": "sBkDAT9PhxIx"
      },
      "id": "sBkDAT9PhxIx"
    },
    {
      "cell_type": "code",
      "execution_count": 10,
      "id": "ca89eb3a-a145-468f-8490-1a6ba970a25a",
      "metadata": {
        "jupyter": {
          "outputs_hidden": false,
          "source_hidden": false
        },
        "nteract": {
          "transient": {
            "deleting": false
          }
        },
        "id": "ca89eb3a-a145-468f-8490-1a6ba970a25a"
      },
      "outputs": [],
      "source": [
        "# @title\n",
        "import polars as pl\n",
        "def polars_clean_csv(x):\n",
        "  schema ={'I': pl.String,'UNIT': pl.String,'XX': pl.String,'VERSION': pl.String,'SETTLEMENTDATE': pl.String,'RUNNO': pl.String,\n",
        "    'DUID': pl.String,'INTERVENTION': pl.String,'DISPATCHMODE': pl.String,'AGCSTATUS': pl.String,'INITIALMW': pl.String,\n",
        "    'TOTALCLEARED': pl.String,'RAMPDOWNRATE': pl.String,'RAMPUPRATE': pl.String,'LOWER5MIN': pl.String,\n",
        "    'LOWER60SEC': pl.String,'LOWER6SEC': pl.String,'RAISE5MIN': pl.String,'RAISE60SEC': pl.String,\n",
        "    'RAISE6SEC': pl.String,'MARGINAL5MINVALUE': pl.String,'MARGINAL60SECVALUE': pl.String,\n",
        "    'MARGINAL6SECVALUE': pl.String,'MARGINALVALUE': pl.String,'VIOLATION5MINDEGREE': pl.String,\n",
        "    'VIOLATION60SECDEGREE': pl.String,'VIOLATION6SECDEGREE': pl.String,'VIOLATIONDEGREE': pl.String,\n",
        "    'LOWERREG': pl.String,'RAISEREG': pl.String,'AVAILABILITY': pl.String,'RAISE6SECFLAGS': pl.String,\n",
        "    'RAISE60SECFLAGS': pl.String,'RAISE5MINFLAGS': pl.String,'RAISEREGFLAGS': pl.String,\n",
        "    'LOWER6SECFLAGS': pl.String,'LOWER60SECFLAGS': pl.String,'LOWER5MINFLAGS': pl.String,\n",
        "    'LOWERREGFLAGS': pl.String,'RAISEREGAVAILABILITY': pl.String,'RAISEREGENABLEMENTMAX': pl.String,\n",
        "    'RAISEREGENABLEMENTMIN': pl.String,'LOWERREGAVAILABILITY': pl.String,'LOWERREGENABLEMENTMAX': pl.String,\n",
        "    'LOWERREGENABLEMENTMIN': pl.String,'RAISE6SECACTUALAVAILABILITY': pl.String,\n",
        "    'RAISE60SECACTUALAVAILABILITY': pl.String,'RAISE5MINACTUALAVAILABILITY': pl.String,\n",
        "    'RAISEREGACTUALAVAILABILITY': pl.String,'LOWER6SECACTUALAVAILABILITY': pl.String,\n",
        "    'LOWER60SECACTUALAVAILABILITY': pl.String,'LOWER5MINACTUALAVAILABILITY': pl.String,'LOWERREGACTUALAVAILABILITY': pl.String}\n",
        "  raw = pl.scan_csv(x,\n",
        "                    skip_rows=1,\n",
        "                    schema=schema,\n",
        "                    has_header=False,\n",
        "                    truncate_ragged_lines=True)\n",
        "  transform =(\n",
        "      raw\n",
        "      .filter(pl.col(\"I\")=='D')\n",
        "      .filter(pl.col(\"UNIT\")=='DUNIT')\n",
        "      .filter(pl.col(\"VERSION\")=='3')\n",
        "      .drop(\"XX\")\n",
        "      .drop(\"I\")\n",
        "  )\n",
        "  z = transform.with_columns(pl.col(\"SETTLEMENTDATE\").str.to_datetime())\n",
        "  columns = list(set(transform.columns) - {'SETTLEMENTDATE','DUID','UNIT'})\n",
        "  final=z.with_columns(pl.col(columns).cast(pl.Float64),YEAR=pl.col(\"SETTLEMENTDATE\").dt.iso_year()).collect()\n",
        "  return final.to_arrow()"
      ]
    },
    {
      "cell_type": "markdown",
      "source": [
        "# Pandas"
      ],
      "metadata": {
        "id": "qpFll5xw3Mvq"
      },
      "id": "qpFll5xw3Mvq"
    },
    {
      "cell_type": "code",
      "source": [
        "import pandas as pd\n",
        "\n",
        "def Pandas_clean_csv(chunk):\n",
        "    appended_data = []\n",
        "    for filename in chunk:\n",
        "        # Read only necessary columns\n",
        "        df = pd.read_csv(filename, skiprows=1,dtype=str, names=range(131), keep_default_na=False,  index_col=False)\n",
        "        df = df.iloc[:, :53]\n",
        "        df = df.rename(columns={1: 'DISPATCH', 3: 'VERSION'}).query('DISPATCH==\"DUNIT\" and VERSION==\"3\"')\n",
        "        df.columns = df.iloc[0]\n",
        "        df = df[1:]\n",
        "        df = df.rename(columns={'3': 'version', 'DUNIT': 'UNIT'})\n",
        "        df = df.drop(columns=['I'])\n",
        "        df.drop([\"\"], axis=1, inplace=True)\n",
        "        df['SETTLEMENTDATE'] = pd.to_datetime(df['SETTLEMENTDATE'])\n",
        "        columns = list(set(df.columns) - {'SETTLEMENTDATE', 'DUID', 'UNIT'})\n",
        "        df[columns] = df[columns].apply(pd.to_numeric, errors='coerce', dtype_backend='pyarrow')\n",
        "        df['YEAR'] = df['SETTLEMENTDATE'].dt.year\n",
        "        appended_data.append(df)\n",
        "    appended_data = pd.concat(appended_data, ignore_index=True)\n",
        "    return appended_data"
      ],
      "metadata": {
        "id": "7USg9dd-1ivc"
      },
      "id": "7USg9dd-1ivc",
      "execution_count": 11,
      "outputs": []
    },
    {
      "cell_type": "markdown",
      "source": [
        "# Spark"
      ],
      "metadata": {
        "id": "Q2XJvQaels3N"
      },
      "id": "Q2XJvQaels3N"
    },
    {
      "cell_type": "code",
      "source": [
        "# @title\n",
        "from pyspark.sql import functions as f\n",
        "def spark_clean_csv(files_to_upload_full_Path):\n",
        " user_schema=\"\"\"\n",
        " I  STRING,UNIT  STRING,XX  STRING,VERSION  STRING,SETTLEMENTDATE  STRING,RUNNO  STRING,DUID  STRING,\n",
        " INTERVENTION  STRING,DISPATCHMODE  STRING,AGCSTATUS  STRING,INITIALMW  STRING,TOTALCLEARED  STRING,RAMPDOWNRATE  STRING,\n",
        " RAMPUPRATE  STRING,LOWER5MIN  STRING,LOWER60SEC  STRING,LOWER6SEC  STRING,RAISE5MIN  STRING,RAISE60SEC  STRING,RAISE6SEC  STRING,\n",
        " MARGINAL5MINVALUE  STRING,MARGINAL60SECVALUE  STRING,MARGINAL6SECVALUE  STRING,MARGINALVALUE  STRING,VIOLATION5MINDEGREE  STRING,\n",
        " VIOLATION60SECDEGREE  STRING,VIOLATION6SECDEGREE  STRING,VIOLATIONDEGREE  STRING,LOWERREG  STRING,RAISEREG  STRING,AVAILABILITY  STRING,\n",
        " RAISE6SECFLAGS  STRING,RAISE60SECFLAGS  STRING,RAISE5MINFLAGS  STRING,RAISEREGFLAGS  STRING,LOWER6SECFLAGS  STRING,LOWER60SECFLAGS STRING,\n",
        " LOWER5MINFLAGS  STRING,LOWERREGFLAGS  STRING,RAISEREGAVAILABILITY  STRING,RAISEREGENABLEMENTMAX  STRING,RAISEREGENABLEMENTMIN  STRING,\n",
        " LOWERREGAVAILABILITY  STRING,LOWERREGENABLEMENTMAX  STRING,LOWERREGENABLEMENTMIN  STRING,RAISE6SECACTUALAVAILABILITY  STRING,\n",
        " RAISE60SECACTUALAVAILABILITY  STRING,RAISE5MINACTUALAVAILABILITY  STRING,RAISEREGACTUALAVAILABILITY  STRING,\n",
        " LOWER6SECACTUALAVAILABILITY  STRING,LOWER60SECACTUALAVAILABILITY  STRING,LOWER5MINACTUALAVAILABILITY  STRING,\n",
        " LOWERREGACTUALAVAILABILITY  STRING\n",
        " \"\"\"\n",
        " df = spark.read.format(\"csv\")\\\n",
        "     .option(\"header\",\"true\") \\\n",
        "     .schema(user_schema)\\\n",
        "     .load(files_to_upload_full_Path)\\\n",
        "     .filter(\"unit='DUNIT' and version =3 and I='D'\")\\\n",
        "     .drop('xx')\\\n",
        "     .drop('I')\\\n",
        "     .withColumn('SETTLEMENTDATE',f.to_timestamp('SETTLEMENTDATE','yyyy/MM/dd HH:mm:ss'))\\\n",
        "     .withColumn(\"file\", f.regexp_extract(f.input_file_name(), r\"Daily_Reports\\/([^\\W'\\.']+\\.CSV)\", 1))\\\n",
        "     .withColumn(\"PRIORITY\", f.lit(1))\n",
        " df_cols = list(set(df.columns) - {'SETTLEMENTDATE','DUID','file','UNIT','transactionId','PRIORITY'})\n",
        " for col_name in df_cols:\n",
        "    df = df.withColumn(col_name, f.col(col_name).cast('double'))\n",
        " df = df.withColumn('DATE', f.to_date(f.col('SETTLEMENTDATE')))\\\n",
        "      .withColumn('YEAR', f.year(f.col('SETTLEMENTDATE')))\n",
        " return df"
      ],
      "metadata": {
        "id": "c7YyBrtEmDZd"
      },
      "id": "c7YyBrtEmDZd",
      "execution_count": 12,
      "outputs": []
    },
    {
      "cell_type": "markdown",
      "source": [
        "# Ibis"
      ],
      "metadata": {
        "id": "SF7CWQywYcnY"
      },
      "id": "SF7CWQywYcnY"
    },
    {
      "cell_type": "code",
      "source": [
        "# @title\n",
        "import ibis\n",
        "def ibis_clean_csv(files_to_upload_full_Path):\n",
        " schema={\n",
        "\t\t\t'I': 'VARCHAR','UNIT': 'VARCHAR','XX': 'VARCHAR','VERSION': 'VARCHAR','SETTLEMENTDATE': 'VARCHAR','RUNNO': 'VARCHAR',\n",
        "\t\t\t'DUID': 'VARCHAR','INTERVENTION': 'VARCHAR','DISPATCHMODE': 'VARCHAR','AGCSTATUS': 'VARCHAR','INITIALMW': 'VARCHAR',\n",
        "\t\t\t'TOTALCLEARED': 'VARCHAR','RAMPDOWNRATE': 'VARCHAR','RAMPUPRATE': 'VARCHAR','LOWER5MIN': 'VARCHAR',\n",
        "\t\t\t'LOWER60SEC': 'VARCHAR','LOWER6SEC': 'VARCHAR','RAISE5MIN': 'VARCHAR','RAISE60SEC': 'VARCHAR',\n",
        "\t\t\t'RAISE6SEC': 'VARCHAR','MARGINAL5MINVALUE': 'VARCHAR','MARGINAL60SECVALUE': 'VARCHAR',\n",
        "\t\t\t'MARGINAL6SECVALUE': 'VARCHAR','MARGINALVALUE': 'VARCHAR','VIOLATION5MINDEGREE': 'VARCHAR',\n",
        "\t\t\t'VIOLATION60SECDEGREE': 'VARCHAR','VIOLATION6SECDEGREE': 'VARCHAR','VIOLATIONDEGREE': 'VARCHAR',\n",
        "\t\t\t'LOWERREG': 'VARCHAR','RAISEREG': 'VARCHAR','AVAILABILITY': 'VARCHAR','RAISE6SECFLAGS': 'VARCHAR',\n",
        "\t\t\t'RAISE60SECFLAGS': 'VARCHAR','RAISE5MINFLAGS': 'VARCHAR','RAISEREGFLAGS': 'VARCHAR',\n",
        "\t\t\t'LOWER6SECFLAGS': 'VARCHAR','LOWER60SECFLAGS': 'VARCHAR','LOWER5MINFLAGS': 'VARCHAR',\n",
        "\t\t\t'LOWERREGFLAGS': 'VARCHAR','RAISEREGAVAILABILITY': 'VARCHAR','RAISEREGENABLEMENTMAX': 'VARCHAR',\n",
        "\t\t\t'RAISEREGENABLEMENTMIN': 'VARCHAR','LOWERREGAVAILABILITY': 'VARCHAR','LOWERREGENABLEMENTMAX': 'VARCHAR',\n",
        "\t\t\t'LOWERREGENABLEMENTMIN': 'VARCHAR','RAISE6SECACTUALAVAILABILITY': 'VARCHAR',\n",
        "\t\t\t'RAISE60SECACTUALAVAILABILITY': 'VARCHAR','RAISE5MINACTUALAVAILABILITY': 'VARCHAR',\n",
        "\t\t\t'RAISEREGACTUALAVAILABILITY': 'VARCHAR','LOWER6SECACTUALAVAILABILITY': 'VARCHAR',\n",
        "\t\t\t'LOWER60SECACTUALAVAILABILITY': 'VARCHAR','LOWER5MINACTUALAVAILABILITY': 'VARCHAR','LOWERREGACTUALAVAILABILITY': 'VARCHAR'}\n",
        " raw = ibis.read_csv(files_to_upload_full_Path,Skip=1,header =0,all_varchar=1,columns =schema,filename =1,null_padding = 1,ignore_errors=1,auto_detect=0)\n",
        " DUNIT = raw.filter((raw.UNIT == \"DUNIT\") & (raw.VERSION  == '3') & (raw.I  == 'D')).drop(\"XX\",\"I\")\n",
        " DUNIT = DUNIT.cast({\"SETTLEMENTDATE\": \"timestamp\"})\n",
        " DUNIT = DUNIT.mutate(\n",
        "      date=DUNIT.SETTLEMENTDATE.cast(\"date\"),\n",
        "      year=DUNIT.SETTLEMENTDATE.year(),\n",
        "  )\n",
        " df_cols = list(set(DUNIT.columns) - {'SETTLEMENTDATE','DUID','filename','UNIT','date','year'})\n",
        " for col_name in df_cols:\n",
        "      DUNIT = DUNIT.cast({col_name: \"double\"})\n",
        " return DUNIT"
      ],
      "metadata": {
        "id": "bzrsEGnWYVLC",
        "cellView": "form"
      },
      "id": "bzrsEGnWYVLC",
      "execution_count": 13,
      "outputs": []
    },
    {
      "cell_type": "markdown",
      "source": [
        "# Transformation"
      ],
      "metadata": {
        "id": "QjvU3_McjZaj"
      },
      "id": "QjvU3_McjZaj"
    },
    {
      "cell_type": "code",
      "source": [
        "# @title\n",
        "import glob,os\n",
        "Source = raw_landing+\"/csv/\"\n",
        "list_files=[os.path.basename(x) for x in glob.glob(Source+'*.CSV')]\n",
        "files_to_upload_full_Path = [Source + i for i in list_files][:total_files]"
      ],
      "metadata": {
        "id": "XbFAUqD5viGT"
      },
      "id": "XbFAUqD5viGT",
      "execution_count": 14,
      "outputs": []
    },
    {
      "cell_type": "code",
      "source": [
        "# maximum nbr pf files is 60, you can customize how many files to process at one time, RAM is the bottlneck\n",
        "import time\n",
        "results = pd.DataFrame(columns=['Engine','step','duration'])"
      ],
      "metadata": {
        "id": "fvIrc1Qs3idS"
      },
      "id": "fvIrc1Qs3idS",
      "execution_count": 15,
      "outputs": []
    },
    {
      "cell_type": "code",
      "source": [
        "%%time\n",
        "### adjust Path for Fabric\n",
        "if mssparkutils is None:\n",
        "  files_to_upload_full_Path_spark = files_to_upload_full_Path\n",
        "  table_Path= \"/lakehouse/default/Tables/scada_spark\"\n",
        "else:\n",
        "  files_to_upload_full_Path_spark = [w.replace('/lakehouse/default/', '') for w in files_to_upload_full_Path]\n",
        "  table_Path= \"Tables/scada_spark\"\n",
        "chunk_len = total_files\n",
        "if len(files_to_upload_full_Path_spark) >0 :\n",
        "  for i in range(0, len(files_to_upload_full_Path_spark), chunk_len):\n",
        "    chunk = files_to_upload_full_Path_spark[i:i + chunk_len]\n",
        "    ##########################\n",
        "    start = time.time()\n",
        "    df = spark_clean_csv(chunk)\n",
        "    df.write.mode(\"append\").format(\"delta\").partitionBy(\"year\").save(table_Path)\n",
        "    del df\n",
        "    print('Spark total:' + str(time.time()-start))\n",
        "    results = pd.concat([pd.DataFrame([['Spark',i,time.time()-start]], columns=results.columns), results])"
      ],
      "metadata": {
        "colab": {
          "base_uri": "https://localhost:8080/"
        },
        "id": "zrldmuUX1eJd",
        "outputId": "baece91d-897c-4aa7-b77e-f72d3216646a"
      },
      "id": "zrldmuUX1eJd",
      "execution_count": 16,
      "outputs": [
        {
          "output_type": "stream",
          "name": "stdout",
          "text": [
            "Spark total:102.01143407821655\n",
            "CPU times: user 657 ms, sys: 78.6 ms, total: 736 ms\n",
            "Wall time: 1min 42s\n"
          ]
        }
      ]
    },
    {
      "cell_type": "code",
      "source": [
        "%%time\n",
        "chunk_len = total_files\n",
        "if len(files_to_upload_full_Path) >0 :\n",
        "  for i in range(0, len(files_to_upload_full_Path), chunk_len):\n",
        "    chunk = files_to_upload_full_Path[i:i + chunk_len]\n",
        "    ##########################\n",
        "    start = time.time()\n",
        "    df = ibis_clean_csv(chunk)\n",
        "    df.to_delta(\"/lakehouse/default/Tables/scada_ibis\",mode=\"append\",partition_by=['year'],storage_options={\"allow_unsafe_rename\":\"true\"})\n",
        "    del df\n",
        "    print('Ibis total:' + str(time.time()-start))\n",
        "    results = pd.concat([pd.DataFrame([['Ibis',i,time.time()-start]], columns=results.columns), results])"
      ],
      "metadata": {
        "colab": {
          "base_uri": "https://localhost:8080/",
          "height": 103,
          "referenced_widgets": [
            "191d23c4d4744333a955cc1534d70fcd",
            "2ee07d0e6ec8434cb9adfcb1cb8919ac",
            "aeb9516c58734ebd87f57d76cb3049f8"
          ]
        },
        "id": "GyqrdnPIZDdh",
        "outputId": "40f9cff2-81d0-425c-9abe-5278e188d8d2"
      },
      "id": "GyqrdnPIZDdh",
      "execution_count": 17,
      "outputs": [
        {
          "output_type": "display_data",
          "data": {
            "text/plain": [
              "FloatProgress(value=0.0, layout=Layout(width='auto'), style=ProgressStyle(bar_color='black'))"
            ],
            "application/vnd.jupyter.widget-view+json": {
              "version_major": 2,
              "version_minor": 0,
              "model_id": "191d23c4d4744333a955cc1534d70fcd"
            }
          },
          "metadata": {}
        },
        {
          "output_type": "stream",
          "name": "stdout",
          "text": [
            "Ibis total:13.703481912612915\n",
            "CPU times: user 18.9 s, sys: 1.21 s, total: 20.1 s\n",
            "Wall time: 13.7 s\n"
          ]
        }
      ]
    },
    {
      "cell_type": "code",
      "source": [
        "%%time\n",
        "from deltalake.writer import write_deltalake\n",
        "chunk_len = total_files\n",
        "if len(files_to_upload_full_Path) >0 :\n",
        "  for i in range(0, len(files_to_upload_full_Path), chunk_len):\n",
        "    chunk = files_to_upload_full_Path[i:i + chunk_len]\n",
        "    ##########################\n",
        "    start = time.time()\n",
        "    df= duckdb_clean_csv(chunk)\n",
        "    print('duckdb read CSV:' + str(time.time()-start))\n",
        "    write_deltalake(\"/lakehouse/default/Tables/scada_DuckDB\",df, mode=\"append\", partition_by=['YEAR'],storage_options={\"allow_unsafe_rename\":\"true\"})\n",
        "    del df\n",
        "    print('DuckDB total:' + str(time.time()-start))\n",
        "    results = pd.concat([pd.DataFrame([['DuckDB',i,time.time()-start]], columns=results.columns), results])"
      ],
      "metadata": {
        "colab": {
          "base_uri": "https://localhost:8080/",
          "height": 121,
          "referenced_widgets": [
            "9374017ddcc74ed2a45d35d13e498981",
            "a861326266c24c27831dfe910a82c87a",
            "48912ec7137845b4986501b36cba4581"
          ]
        },
        "id": "oaaUEQw32X9C",
        "outputId": "45654534-7417-4ac7-92b9-06c035e2940c"
      },
      "id": "oaaUEQw32X9C",
      "execution_count": 18,
      "outputs": [
        {
          "output_type": "display_data",
          "data": {
            "text/plain": [
              "FloatProgress(value=0.0, layout=Layout(width='auto'), style=ProgressStyle(bar_color='black'))"
            ],
            "application/vnd.jupyter.widget-view+json": {
              "version_major": 2,
              "version_minor": 0,
              "model_id": "9374017ddcc74ed2a45d35d13e498981"
            }
          },
          "metadata": {}
        },
        {
          "output_type": "stream",
          "name": "stdout",
          "text": [
            "duckdb read CSV:7.525749444961548\n",
            "DuckDB total:8.686953783035278\n",
            "CPU times: user 11.4 s, sys: 1 s, total: 12.4 s\n",
            "Wall time: 8.69 s\n"
          ]
        }
      ]
    },
    {
      "cell_type": "code",
      "source": [
        "%%time\n",
        "if mem > 13:\n",
        " chunk_len = total_files\n",
        "else:\n",
        "  chunk_len = 20\n",
        "if len(files_to_upload_full_Path) >0 :\n",
        "  for i in range(0, len(files_to_upload_full_Path), chunk_len):\n",
        "    chunk = files_to_upload_full_Path[i:i + chunk_len]\n",
        "    ##########################\n",
        "    start = time.time()\n",
        "    df= polars_clean_csv(chunk)\n",
        "    print('polars read CSV:' + str(time.time()-start))\n",
        "    write_deltalake(\"/lakehouse/default/Tables/scada_Polars\",df, mode=\"append\", partition_by=['YEAR'],storage_options={\"allow_unsafe_rename\":\"true\"})\n",
        "    del df\n",
        "    print('Polars total:' + str(time.time()-start))\n",
        "    results = pd.concat([pd.DataFrame([['Polars',i,time.time()-start]], columns=results.columns), results])"
      ],
      "metadata": {
        "colab": {
          "base_uri": "https://localhost:8080/"
        },
        "id": "VLZgXqLk2vhw",
        "outputId": "d8886c60-17f9-4126-bc1e-6031040c8547"
      },
      "id": "VLZgXqLk2vhw",
      "execution_count": 19,
      "outputs": [
        {
          "output_type": "stream",
          "name": "stdout",
          "text": [
            "polars read CSV:12.597178936004639\n",
            "Polars total:16.130234003067017\n",
            "CPU times: user 22 s, sys: 2.48 s, total: 24.5 s\n",
            "Wall time: 16.1 s\n"
          ]
        }
      ]
    },
    {
      "cell_type": "code",
      "source": [
        "chunk_len = total_files\n",
        "import pyarrow as pa\n",
        "if len(files_to_upload_full_Path) >0 :\n",
        "  for i in range(0, len(files_to_upload_full_Path), chunk_len):\n",
        "    chunk = files_to_upload_full_Path[i:i + chunk_len]\n",
        "    ########################## make sure to ignore index\n",
        "    start = time.time()\n",
        "    df= Pandas_clean_csv(chunk)\n",
        "    xx= pa.Table.from_pandas(df,preserve_index=False)\n",
        "    print('Pandas read CSV:' + str(time.time()-start))\n",
        "    write_deltalake(\"/lakehouse/default/Tables/scada_Pandas\",xx, mode=\"append\", partition_by=['YEAR'],storage_options={\"allow_unsafe_rename\":\"true\"})\n",
        "    del xx\n",
        "    print('Pandas total:' + str(time.time()-start))\n",
        "    results = pd.concat([pd.DataFrame([['Pandas',i,time.time()-start]], columns=results.columns), results])"
      ],
      "metadata": {
        "colab": {
          "base_uri": "https://localhost:8080/"
        },
        "id": "XLJQKgDW3P9J",
        "outputId": "25ef8580-681d-41d3-abec-00ad748179b5"
      },
      "id": "XLJQKgDW3P9J",
      "execution_count": 20,
      "outputs": [
        {
          "output_type": "stream",
          "name": "stdout",
          "text": [
            "Pandas read CSV:56.484726428985596\n",
            "Pandas total:57.75137233734131\n"
          ]
        }
      ]
    },
    {
      "cell_type": "markdown",
      "source": [
        "# Results"
      ],
      "metadata": {
        "id": "V0s5s7RRpXJn"
      },
      "id": "V0s5s7RRpXJn"
    },
    {
      "cell_type": "code",
      "source": [
        "# @title\n",
        "result = results.groupby(['Engine'])['duration'].sum().reset_index()\n",
        "result = result.sort_values(by = ['duration'], ascending=[True])\n",
        "from psutil import *\n",
        "vCPU = str(cpu_count()) + \" vCPU\"\n",
        "mem=round(virtual_memory().total/(1024 * 1024 * 1024),0)\n",
        "runtime = vCPU+' '+str(mem)+'GB'+ ', Transform '+ str(total_files)+' CSV files and save as Delta Table,Run date: '+ str(time.strftime(\"%Y-%m-%d\"))\n",
        "ax = result.plot.bar(rot=0,x='Engine',title=runtime,ylabel='Duration in Second, Lower is Better',figsize=(12,6))\n",
        "for c in ax.containers:\n",
        "    ax.bar_label(c, label_type='edge')"
      ],
      "metadata": {
        "colab": {
          "base_uri": "https://localhost:8080/",
          "height": 564
        },
        "id": "vgZE7ckvlDf8",
        "outputId": "0adf59e6-d0ef-4bb4-a0c4-4d1e6297a4ae"
      },
      "id": "vgZE7ckvlDf8",
      "execution_count": 21,
      "outputs": [
        {
          "output_type": "display_data",
          "data": {
            "text/plain": [
              "<Figure size 1200x600 with 1 Axes>"
            ],
            "image/png": "[encoded data removed]"
          },
          "metadata": {}
        }
      ]
    },
    {
      "cell_type": "markdown",
      "source": [
        "# Check Size"
      ],
      "metadata": {
        "id": "9f17QEFrqMxb"
      },
      "id": "9f17QEFrqMxb"
    },
    {
      "cell_type": "code",
      "source": [
        "# @title\n",
        "#the function read all the tables in the default Lakehouse and save it in a Table Delta_stats, change the url to reflect your destination\n",
        "import duckdb\n",
        "import pandas as pd\n",
        "from deltalake import DeltaTable\n",
        "import os\n",
        "from datetime import datetime\n",
        "from deltalake.writer import write_deltalake\n",
        "def get_stats(Source,Destination):\n",
        "    appended_data = []\n",
        "    List_tables = [ f.name for f in os.scandir(Source) if f.is_dir() ]\n",
        "    stat_table = os.path.basename(os.path.normpath(Destination))\n",
        "    if stat_table in List_tables: List_tables.remove(stat_table)\n",
        "    for tbl in List_tables :\n",
        "        dt = DeltaTable(Source+ tbl)\n",
        "        xx= dt.get_add_actions(flatten=True).to_pandas()\n",
        "        if 'tags.VORDER' in xx.columns:\n",
        "             vorder =True\n",
        "        else :\n",
        "             vorder =False\n",
        "        deltalog=pd.DataFrame([[tbl,xx['size_bytes'].sum(),vorder]],columns=['tbl','size_bytes','vorder'])\n",
        "        delta = [Source+tbl + \"/\" + i for i in dt.files()]\n",
        "        duckdb.sql(f'from parquet_scan({delta})').to_view(tbl)\n",
        "        print(tbl)\n",
        "        df= duckdb.sql(f'''\n",
        "        with x as (\n",
        "        select file_name,num_rows,num_row_groups, '{tbl}' as tbl from parquet_file_metadata({delta})\n",
        "        )\n",
        "        select x.tbl, file_name,num_rows,num_row_groups, ceil(size_bytes/(1024*1024)) as size,vorder from x\n",
        "        left join deltalog as y\n",
        "        on x.tbl=y.tbl\n",
        "         ''').df()\n",
        "        appended_data.append(df)\n",
        "    appended_data = pd.concat(appended_data,ignore_index=True)\n",
        "    appended_data['timestamp'] = datetime.now().strftime('%Y-%m-%d %H:%M:%S')\n",
        "    write_deltalake(Destination,appended_data,mode=\"overwrite\",storage_options={\"allow_unsafe_rename\":\"true\"})\n",
        "\n",
        "    dt = DeltaTable(Destination)\n",
        "    delta = [Destination + \"/\" + i for i in dt.files()]\n",
        "    duckdb.sql(f'from parquet_scan({delta})').to_view(\"xxx\")\n",
        "\n",
        "    duckdb.sql('''\n",
        "    select tbl,\n",
        "    sum(num_rows) as total_rows,\n",
        "    count(*) as num_files,\n",
        "    sum(num_row_groups) as num_row_group,\n",
        "    cast(ceil(total_rows/num_row_group) as integer) as Average_row_group,\n",
        "    min(size) as file_size_MB,\n",
        "    vorder\n",
        "    from xxx\n",
        "    group by all\n",
        "    order by file_size_MB ASC\n",
        "    ''').show()\n",
        "get_stats('/lakehouse/default/Tables/','/lakehouse/default/Files/xx_deltastats')"
      ],
      "metadata": {
        "colab": {
          "base_uri": "https://localhost:8080/"
        },
        "cellView": "form",
        "id": "i8xBZO3NqK8Z",
        "outputId": "8ca2f469-9b2a-4813-ef50-135445f85dae"
      },
      "id": "i8xBZO3NqK8Z",
      "execution_count": 22,
      "outputs": [
        {
          "output_type": "stream",
          "name": "stdout",
          "text": [
            "scada_DuckDB\n",
            "scada_Polars\n",
            "scada_Pandas\n",
            "scada_ibis\n",
            "scada_spark\n",
            "┌──────────────┬────────────┬───────────┬───────────────┬───────────────────┬──────────────┬─────────┐\n",
            "│     tbl      │ total_rows │ num_files │ num_row_group │ Average_row_group │ file_size_MB │ vorder  │\n",
            "│   varchar    │   int128   │   int64   │    int128     │       int32       │    double    │ boolean │\n",
            "├──────────────┼────────────┼───────────┼───────────────┼───────────────────┼──────────────┼─────────┤\n",
            "│ scada_DuckDB │     698688 │         1 │            11 │             63518 │          7.0 │ false   │\n",
            "│ scada_spark  │     698688 │         3 │             3 │            232896 │          7.0 │ false   │\n",
            "│ scada_Pandas │     698688 │         1 │            11 │             63518 │          7.0 │ false   │\n",
            "│ scada_ibis   │     698688 │         1 │            11 │             63518 │          7.0 │ false   │\n",
            "│ scada_Polars │     698688 │         1 │            11 │             63518 │          8.0 │ false   │\n",
            "└──────────────┴────────────┴───────────┴───────────────┴───────────────────┴──────────────┴─────────┘\n",
            "\n"
          ]
        }
      ]
    }
  ],
  "metadata": {
    "colab": {
      "provenance": [],
      "collapsed_sections": [
        "8LbA_eCFM-Zl",
        "sBkDAT9PhxIx",
        "qpFll5xw3Mvq",
        "Q2XJvQaels3N",
        "SF7CWQywYcnY"
      ]
    },
    "kernel_info": {
      "name": "synapse_pyspark"
    },
    "kernelspec": {
      "display_name": "Python 3",
      "language": "python",
      "name": "python3"
    },
    "language_info": {
      "codemirror_mode": {
        "name": "ipython",
        "version": 3
      },
      "file_extension": ".py",
      "mimetype": "text/x-python",
      "name": "python",
      "nbconvert_exporter": "python",
      "pygments_lexer": "ipython3",
      "version": "3.11.8"
    },
    "microsoft": {
      "language": "python",
      "ms_spell_check": {
        "ms_spell_check_language": "en"
      }
    },
    "notebook_environment": {},
    "nteract": {
      "version": "nteract-front-end@1.0.0"
    },
    "save_output": true,
    "spark_compute": {
      "compute_id": "/trident/default",
      "session_options": {
        "conf": {},
        "enableDebugMode": false
      }
    },
    "synapse_widget": {
      "state": {},
      "version": "0.1"
    },
    "trident": {
      "environment": {},
      "lakehouse": {
        "default_lakehouse": "24cb43a5-14e6-4971-80fd-1a42c0dcff1e",
        "default_lakehouse_name": "xxxx",
        "default_lakehouse_workspace_id": "16a10841-ac8e-49da-912e-bb1a4f38e274"
      }
    },
    "widgets": {
      "application/vnd.jupyter.widget-state+json": {
        "191d23c4d4744333a955cc1534d70fcd": {
          "model_module": "@jupyter-widgets/controls",
          "model_name": "FloatProgressModel",
          "model_module_version": "1.5.0",
          "state": {
            "_dom_classes": [],
            "_model_module": "@jupyter-widgets/controls",
            "_model_module_version": "1.5.0",
            "_model_name": "FloatProgressModel",
            "_view_count": null,
            "_view_module": "@jupyter-widgets/controls",
            "_view_module_version": "1.5.0",
            "_view_name": "ProgressView",
            "bar_style": "",
            "description": "",
            "description_tooltip": null,
            "layout": "IPY_MODEL_2ee07d0e6ec8434cb9adfcb1cb8919ac",
            "max": 100,
            "min": 0,
            "orientation": "horizontal",
            "style": "IPY_MODEL_aeb9516c58734ebd87f57d76cb3049f8",
            "value": 100
          }
        },
        "2ee07d0e6ec8434cb9adfcb1cb8919ac": {
          "model_module": "@jupyter-widgets/base",
          "model_name": "LayoutModel",
          "model_module_version": "1.2.0",
          "state": {
            "_model_module": "@jupyter-widgets/base",
            "_model_module_version": "1.2.0",
            "_model_name": "LayoutModel",
            "_view_count": null,
            "_view_module": "@jupyter-widgets/base",
            "_view_module_version": "1.2.0",
            "_view_name": "LayoutView",
            "align_content": null,
            "align_items": null,
            "align_self": null,
            "border": null,
            "bottom": null,
            "display": null,
            "flex": null,
            "flex_flow": null,
            "grid_area": null,
            "grid_auto_columns": null,
            "grid_auto_flow": null,
            "grid_auto_rows": null,
            "grid_column": null,
            "grid_gap": null,
            "grid_row": null,
            "grid_template_areas": null,
            "grid_template_columns": null,
            "grid_template_rows": null,
            "height": null,
            "justify_content": null,
            "justify_items": null,
            "left": null,
            "margin": null,
            "max_height": null,
            "max_width": null,
            "min_height": null,
            "min_width": null,
            "object_fit": null,
            "object_position": null,
            "order": null,
            "overflow": null,
            "overflow_x": null,
            "overflow_y": null,
            "padding": null,
            "right": null,
            "top": null,
            "visibility": null,
            "width": "auto"
          }
        },
        "aeb9516c58734ebd87f57d76cb3049f8": {
          "model_module": "@jupyter-widgets/controls",
          "model_name": "ProgressStyleModel",
          "model_module_version": "1.5.0",
          "state": {
            "_model_module": "@jupyter-widgets/controls",
            "_model_module_version": "1.5.0",
            "_model_name": "ProgressStyleModel",
            "_view_count": null,
            "_view_module": "@jupyter-widgets/base",
            "_view_module_version": "1.2.0",
            "_view_name": "StyleView",
            "bar_color": "black",
            "description_width": ""
          }
        },
        "9374017ddcc74ed2a45d35d13e498981": {
          "model_module": "@jupyter-widgets/controls",
          "model_name": "FloatProgressModel",
          "model_module_version": "1.5.0",
          "state": {
            "_dom_classes": [],
            "_model_module": "@jupyter-widgets/controls",
            "_model_module_version": "1.5.0",
            "_model_name": "FloatProgressModel",
            "_view_count": null,
            "_view_module": "@jupyter-widgets/controls",
            "_view_module_version": "1.5.0",
            "_view_name": "ProgressView",
            "bar_style": "",
            "description": "",
            "description_tooltip": null,
            "layout": "IPY_MODEL_a861326266c24c27831dfe910a82c87a",
            "max": 100,
            "min": 0,
            "orientation": "horizontal",
            "style": "IPY_MODEL_48912ec7137845b4986501b36cba4581",
            "value": 100
          }
        },
        "a861326266c24c27831dfe910a82c87a": {
          "model_module": "@jupyter-widgets/base",
          "model_name": "LayoutModel",
          "model_module_version": "1.2.0",
          "state": {
            "_model_module": "@jupyter-widgets/base",
            "_model_module_version": "1.2.0",
            "_model_name": "LayoutModel",
            "_view_count": null,
            "_view_module": "@jupyter-widgets/base",
            "_view_module_version": "1.2.0",
            "_view_name": "LayoutView",
            "align_content": null,
            "align_items": null,
            "align_self": null,
            "border": null,
            "bottom": null,
            "display": null,
            "flex": null,
            "flex_flow": null,
            "grid_area": null,
            "grid_auto_columns": null,
            "grid_auto_flow": null,
            "grid_auto_rows": null,
            "grid_column": null,
            "grid_gap": null,
            "grid_row": null,
            "grid_template_areas": null,
            "grid_template_columns": null,
            "grid_template_rows": null,
            "height": null,
            "justify_content": null,
            "justify_items": null,
            "left": null,
            "margin": null,
            "max_height": null,
            "max_width": null,
            "min_height": null,
            "min_width": null,
            "object_fit": null,
            "object_position": null,
            "order": null,
            "overflow": null,
            "overflow_x": null,
            "overflow_y": null,
            "padding": null,
            "right": null,
            "top": null,
            "visibility": null,
            "width": "auto"
          }
        },
        "48912ec7137845b4986501b36cba4581": {
          "model_module": "@jupyter-widgets/controls",
          "model_name": "ProgressStyleModel",
          "model_module_version": "1.5.0",
          "state": {
            "_model_module": "@jupyter-widgets/controls",
            "_model_module_version": "1.5.0",
            "_model_name": "ProgressStyleModel",
            "_view_count": null,
            "_view_module": "@jupyter-widgets/base",
            "_view_module_version": "1.2.0",
            "_view_name": "StyleView",
            "bar_color": "black",
            "description_width": ""
          }
        }
      }
    }
  },
  "nbformat": 4,
  "nbformat_minor": 5
}