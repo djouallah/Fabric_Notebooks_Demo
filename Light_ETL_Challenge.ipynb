{
  "cells": [
    {
      "cell_type": "code",
      "execution_count": null,
      "id": "4fa98002-f7c6-4d4d-9664-3f492997b93f",
      "metadata": {
        "jupyter": {
          "outputs_hidden": false,
          "source_hidden": false
        },
        "nteract": {
          "transient": {
            "deleting": false
          }
        },
        "id": "4fa98002-f7c6-4d4d-9664-3f492997b93f",
        "colab": {
          "base_uri": "https://localhost:8080/"
        },
        "outputId": "802c24a9-68e4-42b8-b98d-158cccd172dd"
      },
      "outputs": [
        {
          "output_type": "stream",
          "name": "stdout",
          "text": [
            "\u001b[2K     \u001b[90m━━━━━━━━━━━━━━━━━━━━━━━━━━━━━━━━━━━━━━━━\u001b[0m \u001b[32m18.4/18.4 MB\u001b[0m \u001b[31m35.7 MB/s\u001b[0m eta \u001b[36m0:00:00\u001b[0m\n",
            "\u001b[2K     \u001b[90m━━━━━━━━━━━━━━━━━━━━━━━━━━━━━━━━━━━━━━━━\u001b[0m \u001b[32m27.2/27.2 MB\u001b[0m \u001b[31m24.9 MB/s\u001b[0m eta \u001b[36m0:00:00\u001b[0m\n",
            "\u001b[2K     \u001b[90m━━━━━━━━━━━━━━━━━━━━━━━━━━━━━━━━━━━━━━━━\u001b[0m \u001b[32m26.5/26.5 MB\u001b[0m \u001b[31m10.7 MB/s\u001b[0m eta \u001b[36m0:00:00\u001b[0m\n",
            "\u001b[?25h"
          ]
        }
      ],
      "source": [
        "!pip install  -q duckdb --upgrade --pre\n",
        "!pip install  -q polars --upgrade --pre\n",
        "!pip install  -q deltalake"
      ]
    },
    {
      "cell_type": "markdown",
      "source": [
        "# ***if running inside Fabric or Databricks etc, delete this cell as Spark is installed by default***"
      ],
      "metadata": {
        "id": "58O3-pZYE6OI"
      },
      "id": "58O3-pZYE6OI"
    },
    {
      "cell_type": "code",
      "source": [
        "## if running inside Fabric or Databricks etc, delete this cell as Spark is installed by default\n",
        "!pip install -q delta-spark\n",
        "import pyspark\n",
        "from delta import *\n",
        "builder = pyspark.sql.SparkSession.builder.appName(\"MyApp\") \\\n",
        "    .config(\"spark.sql.extensions\", \"io.delta.sql.DeltaSparkSessionExtension\") \\\n",
        "    .config(\"spark.sql.catalog.spark_catalog\", \"org.apache.spark.sql.delta.catalog.DeltaCatalog\")\n",
        "spark = configure_spark_with_delta_pip(builder).getOrCreate()\n",
        "spark.conf.set(\"spark.sql.execution.arrow.enabled\", \"true\")"
      ],
      "metadata": {
        "colab": {
          "base_uri": "https://localhost:8080/"
        },
        "id": "cydgB61Wlxyx",
        "outputId": "5919de67-3e80-4da6-d98e-01137275ad26"
      },
      "id": "cydgB61Wlxyx",
      "execution_count": null,
      "outputs": [
        {
          "output_type": "stream",
          "name": "stdout",
          "text": [
            "\u001b[2K     \u001b[90m━━━━━━━━━━━━━━━━━━━━━━━━━━━━━━━━━━━━━━━━\u001b[0m \u001b[32m317.0/317.0 MB\u001b[0m \u001b[31m2.6 MB/s\u001b[0m eta \u001b[36m0:00:00\u001b[0m\n",
            "\u001b[?25h  Preparing metadata (setup.py) ... \u001b[?25l\u001b[?25hdone\n",
            "  Building wheel for pyspark (setup.py) ... \u001b[?25l\u001b[?25hdone\n"
          ]
        }
      ]
    },
    {
      "cell_type": "code",
      "execution_count": null,
      "id": "815f881e-4109-431e-90cd-dab1a806132f",
      "metadata": {
        "jupyter": {
          "outputs_hidden": false,
          "source_hidden": false
        },
        "nteract": {
          "transient": {
            "deleting": false
          }
        },
        "colab": {
          "base_uri": "https://localhost:8080/"
        },
        "id": "815f881e-4109-431e-90cd-dab1a806132f",
        "outputId": "5e3344d8-2812-4bf7-8159-f0e6d6456e9e",
        "cellView": "form"
      },
      "outputs": [
        {
          "output_type": "stream",
          "name": "stdout",
          "text": [
            "2 vCPU Memory:13.0\n"
          ]
        }
      ],
      "source": [
        "# @title\n",
        "from psutil import *\n",
        "core = cpu_count()\n",
        "vCPU = str(core) + \" vCPU\"\n",
        "mem=round(virtual_memory().total/(1024 * 1024 * 1024),0)\n",
        "print(vCPU +' Memory:'+ str(mem))"
      ]
    },
    {
      "cell_type": "code",
      "execution_count": null,
      "id": "C0_8e4OVo9vR",
      "metadata": {
        "id": "C0_8e4OVo9vR"
      },
      "outputs": [],
      "source": [
        "total_files = 10\n",
        "raw_landing='/lakehouse/default/Files/raw'"
      ]
    },
    {
      "cell_type": "markdown",
      "id": "ee4d52d4-761a-4e7b-993b-0889fda74a94",
      "metadata": {
        "id": "ee4d52d4-761a-4e7b-993b-0889fda74a94"
      },
      "source": [
        "# Download Data"
      ]
    },
    {
      "cell_type": "code",
      "execution_count": null,
      "id": "28416977-0f39-41ca-aa84-9a5d42a6e519",
      "metadata": {
        "cellView": "form",
        "id": "28416977-0f39-41ca-aa84-9a5d42a6e519"
      },
      "outputs": [],
      "source": [
        "# @title\n",
        "import re ,os\n",
        "import requests\n",
        "from urllib.request import urlopen\n",
        "def download(url,Path):\n",
        "    if not os.path.exists(Path):\n",
        "      os.makedirs(Path, exist_ok=True)\n",
        "    result = urlopen(url).read().decode('utf-8')\n",
        "    pattern = re.compile(r'[\\w.]*.zip')\n",
        "    filelist1 = pattern.findall(result)\n",
        "    filelist_unique = list(set(filelist1))[:total_files]\n",
        "    print(str(len(filelist_unique)) + ' New File Loaded')\n",
        "    if len(filelist_unique) != 0 :\n",
        "      for x in filelist_unique:\n",
        "           with requests.get(url+x, stream=True) as resp:\n",
        "            if resp.ok:\n",
        "              with open(f\"{Path}/{x}\", \"wb\") as f:\n",
        "               for chunk in resp.iter_content(chunk_size=4096):\n",
        "                f.write(chunk)\n",
        "    return \"done\""
      ]
    },
    {
      "cell_type": "code",
      "execution_count": null,
      "id": "3b5f3047-8010-41ba-8e30-396e26de0e81",
      "metadata": {
        "cellView": "form",
        "id": "3b5f3047-8010-41ba-8e30-396e26de0e81"
      },
      "outputs": [],
      "source": [
        "# @title\n",
        "from shutil import unpack_archive\n",
        "import os , glob\n",
        "def unzip(Source, Destination):\n",
        "    filelist=[os.path.basename(x) for x in glob.glob(Source+'*.zip')]\n",
        "    for x in filelist:\n",
        "          try:\n",
        "            unpack_archive(str(Source+x), str(Destination), 'zip')\n",
        "          except:\n",
        "            pass\n",
        "    return \"done\""
      ]
    },
    {
      "cell_type": "code",
      "execution_count": null,
      "id": "f6536736-55ec-4af9-a603-17a4e779af7a",
      "metadata": {
        "colab": {
          "base_uri": "https://localhost:8080/",
          "height": 54
        },
        "id": "f6536736-55ec-4af9-a603-17a4e779af7a",
        "outputId": "5953e658-ee1b-47bc-bfc9-c1782947db0b"
      },
      "outputs": [
        {
          "output_type": "stream",
          "name": "stdout",
          "text": [
            "10 New File Loaded\n"
          ]
        },
        {
          "output_type": "execute_result",
          "data": {
            "text/plain": [
              "'done'"
            ],
            "application/vnd.google.colaboratory.intrinsic+json": {
              "type": "string"
            }
          },
          "metadata": {},
          "execution_count": 7
        }
      ],
      "source": [
        "download(\"https://nemweb.com.au/Reports/Current/Daily_Reports/\",raw_landing+\"/zip/\")\n",
        "unzip(raw_landing+\"/zip/\",raw_landing+\"/csv/\")"
      ]
    },
    {
      "cell_type": "markdown",
      "id": "8LbA_eCFM-Zl",
      "metadata": {
        "id": "8LbA_eCFM-Zl"
      },
      "source": [
        "# DuckDB"
      ]
    },
    {
      "cell_type": "code",
      "execution_count": null,
      "id": "21256ca2-634e-4d44-ae45-4e1850258ad1",
      "metadata": {
        "jupyter": {
          "outputs_hidden": false,
          "source_hidden": false
        },
        "nteract": {
          "transient": {
            "deleting": false
          }
        },
        "id": "21256ca2-634e-4d44-ae45-4e1850258ad1",
        "colab": {
          "base_uri": "https://localhost:8080/"
        },
        "outputId": "67065879-4599-4ba1-bcf2-459319db7eb5",
        "cellView": "form"
      },
      "outputs": [
        {
          "output_type": "stream",
          "name": "stdout",
          "text": [
            "CPU times: user 88.7 ms, sys: 7.67 ms, total: 96.4 ms\n",
            "Wall time: 109 ms\n"
          ]
        }
      ],
      "source": [
        "# @title\n",
        "%%time\n",
        "import duckdb\n",
        "def duckdb_clean_csv(x):\n",
        "\traw =duckdb.sql(F\"\"\"from read_csv({x},\n",
        "\tSkip=1,header =0,all_varchar=1,\n",
        "\tcolumns={{\n",
        "\t'I': 'VARCHAR','UNIT': 'VARCHAR','XX': 'VARCHAR','VERSION': 'VARCHAR','SETTLEMENTDATE': 'VARCHAR','RUNNO': 'VARCHAR',\n",
        "\t'DUID': 'VARCHAR','INTERVENTION': 'VARCHAR','DISPATCHMODE': 'VARCHAR','AGCSTATUS': 'VARCHAR','INITIALMW': 'VARCHAR',\n",
        "\t'TOTALCLEARED': 'VARCHAR','RAMPDOWNRATE': 'VARCHAR','RAMPUPRATE': 'VARCHAR','LOWER5MIN': 'VARCHAR',\n",
        "\t'LOWER60SEC': 'VARCHAR','LOWER6SEC': 'VARCHAR','RAISE5MIN': 'VARCHAR','RAISE60SEC': 'VARCHAR',\n",
        "\t'RAISE6SEC': 'VARCHAR','MARGINAL5MINVALUE': 'VARCHAR','MARGINAL60SECVALUE': 'VARCHAR',\n",
        "\t'MARGINAL6SECVALUE': 'VARCHAR','MARGINALVALUE': 'VARCHAR','VIOLATION5MINDEGREE': 'VARCHAR',\n",
        "\t'VIOLATION60SECDEGREE': 'VARCHAR','VIOLATION6SECDEGREE': 'VARCHAR','VIOLATIONDEGREE': 'VARCHAR',\n",
        "\t'LOWERREG': 'VARCHAR','RAISEREG': 'VARCHAR','AVAILABILITY': 'VARCHAR','RAISE6SECFLAGS': 'VARCHAR',\n",
        "\t'RAISE60SECFLAGS': 'VARCHAR','RAISE5MINFLAGS': 'VARCHAR','RAISEREGFLAGS': 'VARCHAR',\n",
        "\t'LOWER6SECFLAGS': 'VARCHAR','LOWER60SECFLAGS': 'VARCHAR','LOWER5MINFLAGS': 'VARCHAR',\n",
        "\t'LOWERREGFLAGS': 'VARCHAR','RAISEREGAVAILABILITY': 'VARCHAR','RAISEREGENABLEMENTMAX': 'VARCHAR',\n",
        "\t'RAISEREGENABLEMENTMIN': 'VARCHAR','LOWERREGAVAILABILITY': 'VARCHAR','LOWERREGENABLEMENTMAX': 'VARCHAR',\n",
        "\t'LOWERREGENABLEMENTMIN': 'VARCHAR','RAISE6SECACTUALAVAILABILITY': 'VARCHAR',\n",
        "\t'RAISE60SECACTUALAVAILABILITY': 'VARCHAR','RAISE5MINACTUALAVAILABILITY': 'VARCHAR',\n",
        "\t'RAISEREGACTUALAVAILABILITY': 'VARCHAR','LOWER6SECACTUALAVAILABILITY': 'VARCHAR',\n",
        "\t'LOWER60SECACTUALAVAILABILITY': 'VARCHAR','LOWER5MINACTUALAVAILABILITY': 'VARCHAR','LOWERREGACTUALAVAILABILITY': 'VARCHAR'\n",
        "\t}},\n",
        "\tfilename =1,null_padding = true,ignore_errors=1,auto_detect=false)\n",
        "\twhere I='D' and UNIT ='DUNIT' AND VERSION = 3                  \"\"\")\n",
        "\tcolumns = list(set(raw.columns) - {'SETTLEMENTDATE','DUID','I','filename','UNIT'})\n",
        "\texprs = [\n",
        "\t\tduckdb.ColumnExpression(x).cast(duckdb.typing.DOUBLE).alias(x)\n",
        "\t\tfor x in columns\n",
        "\t         ]\n",
        "\trel2 = raw.select('SETTLEMENTDATE','DUID','I','filename','UNIT',*exprs)\n",
        "\n",
        "\tscada=duckdb.sql(\"\"\" select *exclude(SETTLEMENTDATE,I,XX,filename),cast (SETTLEMENTDATE as TIMESTAMPTZ) as SETTLEMENTDATE,\n",
        "\tisoyear (cast (SETTLEMENTDATE as timestamp)) as YEAR  from rel2  \"\"\")\n",
        "\treturn scada.arrow()\n"
      ]
    },
    {
      "cell_type": "markdown",
      "source": [
        "# Polars"
      ],
      "metadata": {
        "id": "sBkDAT9PhxIx"
      },
      "id": "sBkDAT9PhxIx"
    },
    {
      "cell_type": "code",
      "execution_count": null,
      "id": "ca89eb3a-a145-468f-8490-1a6ba970a25a",
      "metadata": {
        "jupyter": {
          "outputs_hidden": false,
          "source_hidden": false
        },
        "nteract": {
          "transient": {
            "deleting": false
          }
        },
        "id": "ca89eb3a-a145-468f-8490-1a6ba970a25a",
        "colab": {
          "base_uri": "https://localhost:8080/"
        },
        "outputId": "2afbc04e-26a4-4155-c41d-6845e6aa00b8",
        "cellView": "form"
      },
      "outputs": [
        {
          "output_type": "stream",
          "name": "stdout",
          "text": [
            "CPU times: user 149 ms, sys: 22.6 ms, total: 172 ms\n",
            "Wall time: 199 ms\n"
          ]
        }
      ],
      "source": [
        "# @title\n",
        "%%time\n",
        "import polars as pl\n",
        "def polars_clean_csv(x):\n",
        "  schema ={'I': pl.String,'UNIT': pl.String,'XX': pl.String,'VERSION': pl.String,'SETTLEMENTDATE': pl.String,'RUNNO': pl.String,\n",
        "    'DUID': pl.String,'INTERVENTION': pl.String,'DISPATCHMODE': pl.String,'AGCSTATUS': pl.String,'INITIALMW': pl.String,\n",
        "    'TOTALCLEARED': pl.String,'RAMPDOWNRATE': pl.String,'RAMPUPRATE': pl.String,'LOWER5MIN': pl.String,\n",
        "    'LOWER60SEC': pl.String,'LOWER6SEC': pl.String,'RAISE5MIN': pl.String,'RAISE60SEC': pl.String,\n",
        "    'RAISE6SEC': pl.String,'MARGINAL5MINVALUE': pl.String,'MARGINAL60SECVALUE': pl.String,\n",
        "    'MARGINAL6SECVALUE': pl.String,'MARGINALVALUE': pl.String,'VIOLATION5MINDEGREE': pl.String,\n",
        "    'VIOLATION60SECDEGREE': pl.String,'VIOLATION6SECDEGREE': pl.String,'VIOLATIONDEGREE': pl.String,\n",
        "    'LOWERREG': pl.String,'RAISEREG': pl.String,'AVAILABILITY': pl.String,'RAISE6SECFLAGS': pl.String,\n",
        "    'RAISE60SECFLAGS': pl.String,'RAISE5MINFLAGS': pl.String,'RAISEREGFLAGS': pl.String,\n",
        "    'LOWER6SECFLAGS': pl.String,'LOWER60SECFLAGS': pl.String,'LOWER5MINFLAGS': pl.String,\n",
        "    'LOWERREGFLAGS': pl.String,'RAISEREGAVAILABILITY': pl.String,'RAISEREGENABLEMENTMAX': pl.String,\n",
        "    'RAISEREGENABLEMENTMIN': pl.String,'LOWERREGAVAILABILITY': pl.String,'LOWERREGENABLEMENTMAX': pl.String,\n",
        "    'LOWERREGENABLEMENTMIN': pl.String,'RAISE6SECACTUALAVAILABILITY': pl.String,\n",
        "    'RAISE60SECACTUALAVAILABILITY': pl.String,'RAISE5MINACTUALAVAILABILITY': pl.String,\n",
        "    'RAISEREGACTUALAVAILABILITY': pl.String,'LOWER6SECACTUALAVAILABILITY': pl.String,\n",
        "    'LOWER60SECACTUALAVAILABILITY': pl.String,'LOWER5MINACTUALAVAILABILITY': pl.String,'LOWERREGACTUALAVAILABILITY': pl.String}\n",
        "  raw = pl.scan_csv(x,\n",
        "                    skip_rows=1,\n",
        "                    schema=schema,\n",
        "                    has_header=False,\n",
        "                    truncate_ragged_lines=True)\n",
        "  transform =(\n",
        "      raw\n",
        "      .filter(pl.col(\"I\")=='D')\n",
        "      .filter(pl.col(\"UNIT\")=='DUNIT')\n",
        "      .filter(pl.col(\"VERSION\")=='3')\n",
        "      .drop(\"XX\")\n",
        "      .drop(\"I\")\n",
        "  )\n",
        "  z = transform.with_columns(pl.col(\"SETTLEMENTDATE\").str.to_datetime())\n",
        "  columns = list(set(transform.columns) - {'SETTLEMENTDATE','DUID','UNIT'})\n",
        "  final=z.with_columns(pl.col(columns).cast(pl.Float64),YEAR=pl.col(\"SETTLEMENTDATE\").dt.iso_year()).collect()\n",
        "  return final.to_arrow()"
      ]
    },
    {
      "cell_type": "markdown",
      "source": [
        "# Pandas"
      ],
      "metadata": {
        "id": "qpFll5xw3Mvq"
      },
      "id": "qpFll5xw3Mvq"
    },
    {
      "cell_type": "code",
      "source": [
        "# @title\n",
        "import pandas as pd\n",
        "import numpy as np\n",
        "def Pandas_clean_csv(chunk):\n",
        "     appended_data = []\n",
        "     for filename in chunk:\n",
        "      df = pd.read_csv(filename,skiprows=1,dtype=str, names=range(131),keep_default_na=False,index_col=False)\n",
        "      df = df.rename(columns={1: 'DISPATCH',3: 'VERSION'})\n",
        "      df = df.query('DISPATCH==\"DUNIT\" and VERSION==\"3\"')\n",
        "      df = df[df.columns[:53]]\n",
        "      df.columns = df.iloc[0]\n",
        "      df = df[1:]\n",
        "      df = df.rename(columns={'3': 'version','DUNIT': 'UNIT'})\n",
        "      df = df.drop(columns=['I'])\n",
        "      df.drop([\"\"], axis=1, inplace=True)\n",
        "      df['SETTLEMENTDATE']=pd.to_datetime(df['SETTLEMENTDATE'])\n",
        "      df['UNIT'] = df['UNIT'].astype('string')\n",
        "      df['DUID'] = df['DUID'].astype('string')\n",
        "      columns = list(set(df.columns) - {'SETTLEMENTDATE','DUID','UNIT'})\n",
        "      for x in columns:\n",
        "          df[x] = pd.to_numeric(df[x],errors='coerce',dtype_backend='pyarrow')\n",
        "      df['YEAR']=df['SETTLEMENTDATE'].dt.year\n",
        "      appended_data.append(df)\n",
        "     appended_data = pd.concat(appended_data,ignore_index=True)\n",
        "     return appended_data"
      ],
      "metadata": {
        "id": "7USg9dd-1ivc",
        "cellView": "form"
      },
      "id": "7USg9dd-1ivc",
      "execution_count": null,
      "outputs": []
    },
    {
      "cell_type": "markdown",
      "source": [
        "# Spark"
      ],
      "metadata": {
        "id": "Q2XJvQaels3N"
      },
      "id": "Q2XJvQaels3N"
    },
    {
      "cell_type": "code",
      "source": [
        "# @title\n",
        "from pyspark.sql import functions as f\n",
        "def spark_clean_csv(files_to_upload_full_Path):\n",
        " user_schema=\"\"\"\n",
        " I  STRING,UNIT  STRING,XX  STRING,VERSION  STRING,SETTLEMENTDATE  STRING,RUNNO  STRING,DUID  STRING,\n",
        " INTERVENTION  STRING,DISPATCHMODE  STRING,AGCSTATUS  STRING,INITIALMW  STRING,TOTALCLEARED  STRING,RAMPDOWNRATE  STRING,\n",
        " RAMPUPRATE  STRING,LOWER5MIN  STRING,LOWER60SEC  STRING,LOWER6SEC  STRING,RAISE5MIN  STRING,RAISE60SEC  STRING,RAISE6SEC  STRING,\n",
        " MARGINAL5MINVALUE  STRING,MARGINAL60SECVALUE  STRING,MARGINAL6SECVALUE  STRING,MARGINALVALUE  STRING,VIOLATION5MINDEGREE  STRING,\n",
        " VIOLATION60SECDEGREE  STRING,VIOLATION6SECDEGREE  STRING,VIOLATIONDEGREE  STRING,LOWERREG  STRING,RAISEREG  STRING,AVAILABILITY  STRING,\n",
        " RAISE6SECFLAGS  STRING,RAISE60SECFLAGS  STRING,RAISE5MINFLAGS  STRING,RAISEREGFLAGS  STRING,LOWER6SECFLAGS  STRING,LOWER60SECFLAGS STRING,\n",
        " LOWER5MINFLAGS  STRING,LOWERREGFLAGS  STRING,RAISEREGAVAILABILITY  STRING,RAISEREGENABLEMENTMAX  STRING,RAISEREGENABLEMENTMIN  STRING,\n",
        " LOWERREGAVAILABILITY  STRING,LOWERREGENABLEMENTMAX  STRING,LOWERREGENABLEMENTMIN  STRING,RAISE6SECACTUALAVAILABILITY  STRING,\n",
        " RAISE60SECACTUALAVAILABILITY  STRING,RAISE5MINACTUALAVAILABILITY  STRING,RAISEREGACTUALAVAILABILITY  STRING,\n",
        " LOWER6SECACTUALAVAILABILITY  STRING,LOWER60SECACTUALAVAILABILITY  STRING,LOWER5MINACTUALAVAILABILITY  STRING,\n",
        " LOWERREGACTUALAVAILABILITY  STRING\n",
        " \"\"\"\n",
        " df = spark.read.format(\"csv\")\\\n",
        "     .option(\"header\",\"true\") \\\n",
        "     .schema(user_schema)\\\n",
        "     .load(files_to_upload_full_Path)\\\n",
        "     .filter(\"unit='DUNIT' and version =3 and I='D'\")\\\n",
        "     .drop('xx')\\\n",
        "     .drop('I')\\\n",
        "     .withColumn('SETTLEMENTDATE',f.to_timestamp('SETTLEMENTDATE','yyyy/MM/dd HH:mm:ss'))\\\n",
        "     .withColumn(\"file\", f.regexp_extract(f.input_file_name(), r\"Daily_Reports\\/([^\\W'\\.']+\\.CSV)\", 1))\\\n",
        "     .withColumn(\"PRIORITY\", f.lit(1))\n",
        " df_cols = list(set(df.columns) - {'SETTLEMENTDATE','DUID','file','UNIT','transactionId','PRIORITY'})\n",
        " for col_name in df_cols:\n",
        "    df = df.withColumn(col_name, f.col(col_name).cast('double'))\n",
        " df.createOrReplaceTempView(\"xx\")\n",
        " df =spark.sql('select *,cast(SETTLEMENTDATE as date) as DATE, extract(year from SETTLEMENTDATE) as year  from xx')\n",
        " return df"
      ],
      "metadata": {
        "cellView": "form",
        "id": "c7YyBrtEmDZd"
      },
      "id": "c7YyBrtEmDZd",
      "execution_count": null,
      "outputs": []
    },
    {
      "cell_type": "markdown",
      "source": [
        "# Transformation"
      ],
      "metadata": {
        "id": "QjvU3_McjZaj"
      },
      "id": "QjvU3_McjZaj"
    },
    {
      "cell_type": "code",
      "source": [
        "# @title\n",
        "import glob,os\n",
        "Source = raw_landing+\"/csv/\"\n",
        "list_files=[os.path.basename(x) for x in glob.glob(Source+'*.CSV')]\n",
        "files_to_upload_full_Path = [Source + i for i in list_files][:total_files]"
      ],
      "metadata": {
        "id": "XbFAUqD5viGT"
      },
      "id": "XbFAUqD5viGT",
      "execution_count": null,
      "outputs": []
    },
    {
      "cell_type": "code",
      "source": [
        "# maximum nbr pf files is 60, you can customize how many files to process at one time, RAM is the bottlneck\n",
        "import time\n",
        "results = pd.DataFrame(columns=['Engine','step','duration'])"
      ],
      "metadata": {
        "id": "fvIrc1Qs3idS"
      },
      "id": "fvIrc1Qs3idS",
      "execution_count": null,
      "outputs": []
    },
    {
      "cell_type": "code",
      "source": [
        "%%time\n",
        "# in Fabric use this Path\n",
        "#files_to_upload_full_Path_spark = [w.replace('/lakehouse/default/', '') for w in files_to_upload_full_Path]\n",
        "chunk_len = total_files\n",
        "if len(files_to_upload_full_Path) >0 :\n",
        "  for i in range(0, len(files_to_upload_full_Path), chunk_len):\n",
        "    chunk = files_to_upload_full_Path[i:i + chunk_len]\n",
        "    ##########################\n",
        "    start = time.time()\n",
        "    df = spark_clean_csv(chunk)\n",
        "    df.write.mode(\"append\").format(\"delta\").partitionBy(\"year\").save(\"Tables/scada_spark\")\n",
        "    del df\n",
        "    print('Spark total:' + str(time.time()-start))\n",
        "    results = pd.concat([pd.DataFrame([['Spark',i,time.time()-start]], columns=results.columns), results])"
      ],
      "metadata": {
        "colab": {
          "base_uri": "https://localhost:8080/"
        },
        "id": "zrldmuUX1eJd",
        "outputId": "d197a8d2-7f9e-4eb6-f051-1e13ab825ba8"
      },
      "id": "zrldmuUX1eJd",
      "execution_count": null,
      "outputs": [
        {
          "output_type": "stream",
          "name": "stdout",
          "text": [
            "Spark total:133.74862670898438\n",
            "CPU times: user 748 ms, sys: 121 ms, total: 870 ms\n",
            "Wall time: 2min 13s\n"
          ]
        }
      ]
    },
    {
      "cell_type": "code",
      "source": [
        "%%time\n",
        "from deltalake.writer import write_deltalake\n",
        "chunk_len = 10\n",
        "if len(files_to_upload_full_Path) >0 :\n",
        "  for i in range(0, len(files_to_upload_full_Path), chunk_len):\n",
        "    chunk = files_to_upload_full_Path[i:i + chunk_len]\n",
        "    ##########################\n",
        "    start = time.time()\n",
        "    df= duckdb_clean_csv(chunk)\n",
        "    print('duckdb read CSV:' + str(time.time()-start))\n",
        "    write_deltalake(\"/lakehouse/default/Tables/scada_DuckDB\",df, mode=\"append\", partition_by=['YEAR'],storage_options={\"allow_unsafe_rename\":\"true\"})\n",
        "    del df\n",
        "    print('DuckDB total:' + str(time.time()-start))\n",
        "    results = pd.concat([pd.DataFrame([['DuckDB',i,time.time()-start]], columns=results.columns), results])"
      ],
      "metadata": {
        "colab": {
          "base_uri": "https://localhost:8080/",
          "height": 121,
          "referenced_widgets": [
            "f3ad3135acf94766a4ff0b18f7027cb8",
            "9671bd4d08124c85970764436041a0c5",
            "acb7f5811dc64f4981a263c2ff20a754"
          ]
        },
        "id": "oaaUEQw32X9C",
        "outputId": "d2d62f8b-337e-4e1d-f952-8a946cfa189e"
      },
      "id": "oaaUEQw32X9C",
      "execution_count": null,
      "outputs": [
        {
          "output_type": "display_data",
          "data": {
            "text/plain": [
              "FloatProgress(value=0.0, layout=Layout(width='auto'), style=ProgressStyle(bar_color='black'))"
            ],
            "application/vnd.jupyter.widget-view+json": {
              "version_major": 2,
              "version_minor": 0,
              "model_id": "f3ad3135acf94766a4ff0b18f7027cb8"
            }
          },
          "metadata": {}
        },
        {
          "output_type": "stream",
          "name": "stdout",
          "text": [
            "duckdb read CSV:11.200477123260498\n",
            "DuckDB total:14.483555793762207\n",
            "CPU times: user 18.6 s, sys: 2.2 s, total: 20.8 s\n",
            "Wall time: 14.6 s\n"
          ]
        }
      ]
    },
    {
      "cell_type": "code",
      "source": [
        "%%time\n",
        "chunk_len = 10\n",
        "if len(files_to_upload_full_Path) >0 :\n",
        "  for i in range(0, len(files_to_upload_full_Path), chunk_len):\n",
        "    chunk = files_to_upload_full_Path[i:i + chunk_len]\n",
        "    ##########################\n",
        "    start = time.time()\n",
        "    df= polars_clean_csv(chunk)\n",
        "    print('polars read CSV:' + str(time.time()-start))\n",
        "    write_deltalake(\"/lakehouse/default/Tables/scada_Polars\",df, mode=\"append\", partition_by=['YEAR'],storage_options={\"allow_unsafe_rename\":\"true\"})\n",
        "    del df\n",
        "    print('Polars total:' + str(time.time()-start))\n",
        "    results = pd.concat([pd.DataFrame([['Polars',i,time.time()-start]], columns=results.columns), results])"
      ],
      "metadata": {
        "colab": {
          "base_uri": "https://localhost:8080/"
        },
        "id": "VLZgXqLk2vhw",
        "outputId": "75c7f585-3c57-474d-b26d-f33215ec81c0"
      },
      "id": "VLZgXqLk2vhw",
      "execution_count": null,
      "outputs": [
        {
          "output_type": "stream",
          "name": "stdout",
          "text": [
            "polars read CSV:28.78189969062805\n",
            "Polars total:37.37154746055603\n",
            "CPU times: user 40.2 s, sys: 5.51 s, total: 45.8 s\n",
            "Wall time: 37.4 s\n"
          ]
        }
      ]
    },
    {
      "cell_type": "code",
      "source": [
        "chunk_len = 1\n",
        "if len(files_to_upload_full_Path) >0 :\n",
        "  for i in range(0, len(files_to_upload_full_Path), chunk_len):\n",
        "    chunk = files_to_upload_full_Path[i:i + chunk_len]\n",
        "    ##########################\n",
        "    # https://github.com/apache/arrow/issues/34755\n",
        "    start = time.time()\n",
        "    xx= Pandas_clean_csv(chunk)\n",
        "    print('Pandas read CSV:' + str(time.time()-start))\n",
        "    df=spark.createDataFrame(xx)\n",
        "    df.write.mode(\"append\").format(\"delta\").partitionBy(\"year\").save(\"Tables/scada_pandas\")\n",
        "    del df\n",
        "    print('Pandas total:' + str(time.time()-start))\n",
        "    results = pd.concat([pd.DataFrame([['Pandas',i,time.time()-start]], columns=results.columns), results])"
      ],
      "metadata": {
        "colab": {
          "base_uri": "https://localhost:8080/"
        },
        "id": "XLJQKgDW3P9J",
        "outputId": "4756b590-55b0-455a-fbb7-3daad604873d"
      },
      "id": "XLJQKgDW3P9J",
      "execution_count": null,
      "outputs": [
        {
          "output_type": "stream",
          "name": "stdout",
          "text": [
            "Pandas read CSV:12.414101362228394\n",
            "Pandas total:23.980034589767456\n",
            "Pandas read CSV:9.026618957519531\n",
            "Pandas total:18.390572786331177\n",
            "Pandas read CSV:10.558960914611816\n",
            "Pandas total:16.701247453689575\n",
            "Pandas read CSV:10.133585691452026\n",
            "Pandas total:17.01877498626709\n",
            "Pandas read CSV:9.77648639678955\n",
            "Pandas total:16.825220823287964\n",
            "Pandas read CSV:16.040062189102173\n",
            "Pandas total:21.971638917922974\n",
            "Pandas read CSV:10.853065252304077\n",
            "Pandas total:17.49401044845581\n",
            "Pandas read CSV:9.221619367599487\n",
            "Pandas total:16.172568321228027\n",
            "Pandas read CSV:11.391243934631348\n",
            "Pandas total:16.788703441619873\n",
            "Pandas read CSV:9.926778078079224\n",
            "Pandas total:14.923338174819946\n"
          ]
        }
      ]
    },
    {
      "cell_type": "markdown",
      "source": [
        "# Results"
      ],
      "metadata": {
        "id": "V0s5s7RRpXJn"
      },
      "id": "V0s5s7RRpXJn"
    },
    {
      "cell_type": "code",
      "source": [
        "# @title\n",
        "result = results.groupby(['Engine'])['duration'].sum().reset_index()\n",
        "result = result.sort_values(by = ['duration'], ascending=[True])\n",
        "from psutil import *\n",
        "vCPU = str(cpu_count()) + \" vCPU\"\n",
        "mem=round(virtual_memory().total/(1024 * 1024 * 1024),0)\n",
        "runtime = vCPU+' '+str(mem)+'GB'+ ', Transform '+ str(total_files)+' CSV files and save as Delta Table,Run date: '+ str(time.strftime(\"%Y-%m-%d\"))\n",
        "ax = result.plot.bar(rot=0,x='Engine',title=runtime,ylabel='Duration in Second, Lower is Better',figsize=(9,5))\n",
        "for c in ax.containers:\n",
        "    ax.bar_label(c, label_type='edge')"
      ],
      "metadata": {
        "colab": {
          "base_uri": "https://localhost:8080/",
          "height": 487
        },
        "id": "vgZE7ckvlDf8",
        "outputId": "47551641-bec3-4bfc-a039-ac1a8abe95be"
      },
      "id": "vgZE7ckvlDf8",
      "execution_count": 19,
      "outputs": [
        {
          "output_type": "display_data",
          "data": {
            "text/plain": [
              "<Figure size 900x500 with 1 Axes>"
            ],
            "image/png": "[encoded data removed]"
          },
          "metadata": {}
        }
      ]
    }
  ],
  "metadata": {
    "colab": {
      "provenance": []
    },
    "kernel_info": {
      "name": "synapse_pyspark"
    },
    "kernelspec": {
      "display_name": "Python 3",
      "language": "python",
      "name": "python3"
    },
    "language_info": {
      "codemirror_mode": {
        "name": "ipython",
        "version": 3
      },
      "file_extension": ".py",
      "mimetype": "text/x-python",
      "name": "python",
      "nbconvert_exporter": "python",
      "pygments_lexer": "ipython3",
      "version": "3.11.8"
    },
    "microsoft": {
      "language": "python",
      "ms_spell_check": {
        "ms_spell_check_language": "en"
      }
    },
    "notebook_environment": {},
    "nteract": {
      "version": "nteract-front-end@1.0.0"
    },
    "save_output": true,
    "spark_compute": {
      "compute_id": "/trident/default",
      "session_options": {
        "conf": {},
        "enableDebugMode": false
      }
    },
    "synapse_widget": {
      "state": {},
      "version": "0.1"
    },
    "trident": {
      "environment": {},
      "lakehouse": {
        "default_lakehouse": "24cb43a5-14e6-4971-80fd-1a42c0dcff1e",
        "default_lakehouse_name": "xxxx",
        "default_lakehouse_workspace_id": "16a10841-ac8e-49da-912e-bb1a4f38e274"
      }
    },
    "widgets": {
      "application/vnd.jupyter.widget-state+json": {
        "f3ad3135acf94766a4ff0b18f7027cb8": {
          "model_module": "@jupyter-widgets/controls",
          "model_name": "FloatProgressModel",
          "model_module_version": "1.5.0",
          "state": {
            "_dom_classes": [],
            "_model_module": "@jupyter-widgets/controls",
            "_model_module_version": "1.5.0",
            "_model_name": "FloatProgressModel",
            "_view_count": null,
            "_view_module": "@jupyter-widgets/controls",
            "_view_module_version": "1.5.0",
            "_view_name": "ProgressView",
            "bar_style": "",
            "description": "",
            "description_tooltip": null,
            "layout": "IPY_MODEL_9671bd4d08124c85970764436041a0c5",
            "max": 100,
            "min": 0,
            "orientation": "horizontal",
            "style": "IPY_MODEL_acb7f5811dc64f4981a263c2ff20a754",
            "value": 100
          }
        },
        "9671bd4d08124c85970764436041a0c5": {
          "model_module": "@jupyter-widgets/base",
          "model_name": "LayoutModel",
          "model_module_version": "1.2.0",
          "state": {
            "_model_module": "@jupyter-widgets/base",
            "_model_module_version": "1.2.0",
            "_model_name": "LayoutModel",
            "_view_count": null,
            "_view_module": "@jupyter-widgets/base",
            "_view_module_version": "1.2.0",
            "_view_name": "LayoutView",
            "align_content": null,
            "align_items": null,
            "align_self": null,
            "border": null,
            "bottom": null,
            "display": null,
            "flex": null,
            "flex_flow": null,
            "grid_area": null,
            "grid_auto_columns": null,
            "grid_auto_flow": null,
            "grid_auto_rows": null,
            "grid_column": null,
            "grid_gap": null,
            "grid_row": null,
            "grid_template_areas": null,
            "grid_template_columns": null,
            "grid_template_rows": null,
            "height": null,
            "justify_content": null,
            "justify_items": null,
            "left": null,
            "margin": null,
            "max_height": null,
            "max_width": null,
            "min_height": null,
            "min_width": null,
            "object_fit": null,
            "object_position": null,
            "order": null,
            "overflow": null,
            "overflow_x": null,
            "overflow_y": null,
            "padding": null,
            "right": null,
            "top": null,
            "visibility": null,
            "width": "auto"
          }
        },
        "acb7f5811dc64f4981a263c2ff20a754": {
          "model_module": "@jupyter-widgets/controls",
          "model_name": "ProgressStyleModel",
          "model_module_version": "1.5.0",
          "state": {
            "_model_module": "@jupyter-widgets/controls",
            "_model_module_version": "1.5.0",
            "_model_name": "ProgressStyleModel",
            "_view_count": null,
            "_view_module": "@jupyter-widgets/base",
            "_view_module_version": "1.2.0",
            "_view_name": "StyleView",
            "bar_color": "black",
            "description_width": ""
          }
        }
      }
    }
  },
  "nbformat": 4,
  "nbformat_minor": 5
}