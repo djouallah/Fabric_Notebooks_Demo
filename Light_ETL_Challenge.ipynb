{
  "cells": [
    {
      "cell_type": "code",
      "execution_count": null,
      "id": "4fa98002-f7c6-4d4d-9664-3f492997b93f",
      "metadata": {
        "jupyter": {
          "outputs_hidden": false,
          "source_hidden": false
        },
        "nteract": {
          "transient": {
            "deleting": false
          }
        },
        "id": "4fa98002-f7c6-4d4d-9664-3f492997b93f"
      },
      "outputs": [],
      "source": [
        "!pip install  duckdb --upgrade --pre\n",
        "!pip install  deltalake --upgrade\n",
        "!pip install  polars --upgrade --pre"
      ]
    },
    {
      "cell_type": "code",
      "execution_count": null,
      "id": "815f881e-4109-431e-90cd-dab1a806132f",
      "metadata": {
        "jupyter": {
          "outputs_hidden": false,
          "source_hidden": false
        },
        "nteract": {
          "transient": {
            "deleting": false
          }
        },
        "colab": {
          "base_uri": "https://localhost:8080/"
        },
        "id": "815f881e-4109-431e-90cd-dab1a806132f",
        "outputId": "f4a0bbba-c54d-490b-dfa7-f656fc8d0226"
      },
      "outputs": [
        {
          "output_type": "stream",
          "name": "stdout",
          "text": [
            "2 vCPU Memory:13.0\n"
          ]
        }
      ],
      "source": [
        "from psutil import *\n",
        "core = cpu_count()\n",
        "vCPU = str(core) + \" vCPU\"\n",
        "mem=round(virtual_memory().total/(1024 * 1024 * 1024),0)\n",
        "print(vCPU +' Memory:'+ str(mem))"
      ]
    },
    {
      "cell_type": "code",
      "execution_count": null,
      "id": "C0_8e4OVo9vR",
      "metadata": {
        "id": "C0_8e4OVo9vR"
      },
      "outputs": [],
      "source": [
        "raw_landing='/lakehouse/default/Files/raw'"
      ]
    },
    {
      "cell_type": "markdown",
      "id": "ee4d52d4-761a-4e7b-993b-0889fda74a94",
      "metadata": {
        "id": "ee4d52d4-761a-4e7b-993b-0889fda74a94"
      },
      "source": [
        "# Download Data"
      ]
    },
    {
      "cell_type": "code",
      "execution_count": null,
      "id": "28416977-0f39-41ca-aa84-9a5d42a6e519",
      "metadata": {
        "cellView": "form",
        "id": "28416977-0f39-41ca-aa84-9a5d42a6e519"
      },
      "outputs": [],
      "source": [
        "import re ,os\n",
        "import requests\n",
        "from urllib.request import urlopen\n",
        "def download(url,Path):\n",
        "    if not os.path.exists(Path):\n",
        "      os.makedirs(Path, exist_ok=True)\n",
        "    result = urlopen(url).read().decode('utf-8')\n",
        "    pattern = re.compile(r'[\\w.]*.zip')\n",
        "    filelist1 = pattern.findall(result)\n",
        "    filelist_unique = dict.fromkeys(filelist1)\n",
        "    print(str(len(filelist_unique)) + ' New File Loaded')\n",
        "    if len(filelist_unique) != 0 :\n",
        "      for x in filelist_unique:\n",
        "           with requests.get(url+x, stream=True) as resp:\n",
        "            if resp.ok:\n",
        "              with open(f\"{Path}/{x}\", \"wb\") as f:\n",
        "               for chunk in resp.iter_content(chunk_size=4096):\n",
        "                f.write(chunk)\n",
        "    return \"done\""
      ]
    },
    {
      "cell_type": "code",
      "execution_count": null,
      "id": "763976ff-0476-412d-95f8-2604fd9dcf73",
      "metadata": {
        "colab": {
          "base_uri": "https://localhost:8080/",
          "height": 54
        },
        "id": "763976ff-0476-412d-95f8-2604fd9dcf73",
        "outputId": "5cab32e6-cc18-4182-e1ad-b1cd3c5814bd"
      },
      "outputs": [
        {
          "output_type": "stream",
          "name": "stdout",
          "text": [
            "60 New File Loaded\n"
          ]
        },
        {
          "output_type": "execute_result",
          "data": {
            "text/plain": [
              "'done'"
            ],
            "application/vnd.google.colaboratory.intrinsic+json": {
              "type": "string"
            }
          },
          "metadata": {},
          "execution_count": 5
        }
      ],
      "source": [
        "download(\"https://nemweb.com.au/Reports/Current/Daily_Reports/\",raw_landing+\"/zip/\")"
      ]
    },
    {
      "cell_type": "markdown",
      "id": "4d20ed8d-8b3f-462b-a866-8736eab45789",
      "metadata": {
        "id": "4d20ed8d-8b3f-462b-a866-8736eab45789"
      },
      "source": [
        "_**UNZIP**_"
      ]
    },
    {
      "cell_type": "code",
      "execution_count": null,
      "id": "3b5f3047-8010-41ba-8e30-396e26de0e81",
      "metadata": {
        "cellView": "form",
        "id": "3b5f3047-8010-41ba-8e30-396e26de0e81"
      },
      "outputs": [],
      "source": [
        "from shutil import unpack_archive\n",
        "import os , glob\n",
        "def unzip(Source, Destination):\n",
        "    filelist=[os.path.basename(x) for x in glob.glob(Source+'*.zip')]\n",
        "    for x in filelist:\n",
        "          try:\n",
        "            unpack_archive(str(Source+x), str(Destination), 'zip')\n",
        "          except:\n",
        "            pass\n",
        "    return \"done\""
      ]
    },
    {
      "cell_type": "code",
      "execution_count": null,
      "id": "f6536736-55ec-4af9-a603-17a4e779af7a",
      "metadata": {
        "colab": {
          "base_uri": "https://localhost:8080/",
          "height": 36
        },
        "id": "f6536736-55ec-4af9-a603-17a4e779af7a",
        "outputId": "45b85265-d8ce-463e-a9c7-c5dc9543a8b0"
      },
      "outputs": [
        {
          "output_type": "execute_result",
          "data": {
            "text/plain": [
              "'done'"
            ],
            "application/vnd.google.colaboratory.intrinsic+json": {
              "type": "string"
            }
          },
          "metadata": {},
          "execution_count": 7
        }
      ],
      "source": [
        "unzip(raw_landing+\"/zip/\",raw_landing+\"/csv/\")"
      ]
    },
    {
      "cell_type": "code",
      "source": [
        "Source = raw_landing+\"/csv/\""
      ],
      "metadata": {
        "id": "XbFAUqD5viGT"
      },
      "id": "XbFAUqD5viGT",
      "execution_count": null,
      "outputs": []
    },
    {
      "cell_type": "markdown",
      "id": "8LbA_eCFM-Zl",
      "metadata": {
        "id": "8LbA_eCFM-Zl"
      },
      "source": [
        "# Data Transformation"
      ]
    },
    {
      "cell_type": "markdown",
      "id": "3553a797-a6c5-4d06-ba5f-2e044d0b5bf2",
      "metadata": {
        "nteract": {
          "transient": {
            "deleting": false
          }
        },
        "id": "3553a797-a6c5-4d06-ba5f-2e044d0b5bf2"
      },
      "source": [
        "_**DuckDB**_"
      ]
    },
    {
      "cell_type": "code",
      "execution_count": null,
      "id": "21256ca2-634e-4d44-ae45-4e1850258ad1",
      "metadata": {
        "jupyter": {
          "outputs_hidden": false,
          "source_hidden": false
        },
        "nteract": {
          "transient": {
            "deleting": false
          }
        },
        "colab": {
          "base_uri": "https://localhost:8080/",
          "height": 85,
          "referenced_widgets": [
            "0b211fbda4514160874659598043bcaf",
            "07e37b27056a46be871b6a12fccfd69a",
            "a8e0878d17714e409396b51f68f43145"
          ]
        },
        "id": "21256ca2-634e-4d44-ae45-4e1850258ad1",
        "outputId": "a790cb60-6e65-4085-f544-b8ad67abf56f"
      },
      "outputs": [
        {
          "output_type": "display_data",
          "data": {
            "text/plain": [
              "FloatProgress(value=0.0, layout=Layout(width='auto'), style=ProgressStyle(bar_color='black'))"
            ],
            "application/vnd.jupyter.widget-view+json": {
              "version_major": 2,
              "version_minor": 0,
              "model_id": "0b211fbda4514160874659598043bcaf"
            }
          },
          "metadata": {}
        },
        {
          "output_type": "stream",
          "name": "stdout",
          "text": [
            "CPU times: user 1min 54s, sys: 12.6 s, total: 2min 7s\n",
            "Wall time: 1min 28s\n"
          ]
        }
      ],
      "source": [
        "%%time\n",
        "import duckdb\n",
        "import glob,os\n",
        "from deltalake.writer import write_deltalake\n",
        "chunk_len = 100\n",
        "def get_scada(x):\n",
        "\traw =duckdb.sql(F\"\"\"from read_csv({x},\n",
        "\tSkip=1,header =0,all_varchar=1,\n",
        "\tcolumns={{\n",
        "\t'I': 'VARCHAR','UNIT': 'VARCHAR','XX': 'VARCHAR','VERSION': 'VARCHAR','SETTLEMENTDATE': 'VARCHAR','RUNNO': 'VARCHAR',\n",
        "\t'DUID': 'VARCHAR','INTERVENTION': 'VARCHAR','DISPATCHMODE': 'VARCHAR','AGCSTATUS': 'VARCHAR','INITIALMW': 'VARCHAR',\n",
        "\t'TOTALCLEARED': 'VARCHAR','RAMPDOWNRATE': 'VARCHAR','RAMPUPRATE': 'VARCHAR','LOWER5MIN': 'VARCHAR',\n",
        "\t'LOWER60SEC': 'VARCHAR','LOWER6SEC': 'VARCHAR','RAISE5MIN': 'VARCHAR','RAISE60SEC': 'VARCHAR',\n",
        "\t'RAISE6SEC': 'VARCHAR','MARGINAL5MINVALUE': 'VARCHAR','MARGINAL60SECVALUE': 'VARCHAR',\n",
        "\t'MARGINAL6SECVALUE': 'VARCHAR','MARGINALVALUE': 'VARCHAR','VIOLATION5MINDEGREE': 'VARCHAR',\n",
        "\t'VIOLATION60SECDEGREE': 'VARCHAR','VIOLATION6SECDEGREE': 'VARCHAR','VIOLATIONDEGREE': 'VARCHAR',\n",
        "\t'LOWERREG': 'VARCHAR','RAISEREG': 'VARCHAR','AVAILABILITY': 'VARCHAR','RAISE6SECFLAGS': 'VARCHAR',\n",
        "\t'RAISE60SECFLAGS': 'VARCHAR','RAISE5MINFLAGS': 'VARCHAR','RAISEREGFLAGS': 'VARCHAR',\n",
        "\t'LOWER6SECFLAGS': 'VARCHAR','LOWER60SECFLAGS': 'VARCHAR','LOWER5MINFLAGS': 'VARCHAR',\n",
        "\t'LOWERREGFLAGS': 'VARCHAR','RAISEREGAVAILABILITY': 'VARCHAR','RAISEREGENABLEMENTMAX': 'VARCHAR',\n",
        "\t'RAISEREGENABLEMENTMIN': 'VARCHAR','LOWERREGAVAILABILITY': 'VARCHAR','LOWERREGENABLEMENTMAX': 'VARCHAR',\n",
        "\t'LOWERREGENABLEMENTMIN': 'VARCHAR','RAISE6SECACTUALAVAILABILITY': 'VARCHAR',\n",
        "\t'RAISE60SECACTUALAVAILABILITY': 'VARCHAR','RAISE5MINACTUALAVAILABILITY': 'VARCHAR',\n",
        "\t'RAISEREGACTUALAVAILABILITY': 'VARCHAR','LOWER6SECACTUALAVAILABILITY': 'VARCHAR',\n",
        "\t'LOWER60SECACTUALAVAILABILITY': 'VARCHAR','LOWER5MINACTUALAVAILABILITY': 'VARCHAR','LOWERREGACTUALAVAILABILITY': 'VARCHAR'\n",
        "\t}},\n",
        "\tfilename =1,null_padding = true,ignore_errors=1,auto_detect=false)\n",
        "\twhere I='D' and UNIT ='DUNIT' AND VERSION = 3                  \"\"\")\n",
        "\tcolumns = list(set(raw.columns) - {'SETTLEMENTDATE','DUID','I','filename','UNIT'})\n",
        "\texprs = [\n",
        "\t\tduckdb.ColumnExpression(x).cast(duckdb.typing.DOUBLE).alias(x)\n",
        "\t\tfor x in columns\n",
        "\t         ]\n",
        "\trel2 = raw.select('SETTLEMENTDATE','DUID','I','filename','UNIT',*exprs)\n",
        "\n",
        "\tscada=duckdb.sql(\"\"\" select *exclude(SETTLEMENTDATE,I,XX,filename),cast (SETTLEMENTDATE as TIMESTAMPTZ) as SETTLEMENTDATE,\n",
        "\tisoyear (cast (SETTLEMENTDATE as timestamp)) as YEAR  from rel2  \"\"\")\n",
        "\treturn scada.arrow()\n",
        "#############################################\n",
        "list_files=[os.path.basename(x) for x in glob.glob(Source+'*.CSV')]\n",
        "files_to_upload_full_Path = [Source + i for i in list_files]\n",
        "if len(files_to_upload_full_Path) >0 :\n",
        "  for i in range(0, len(files_to_upload_full_Path), chunk_len):\n",
        "    chunk = files_to_upload_full_Path[i:i + chunk_len]\n",
        "    df=get_scada(chunk)\n",
        "    write_deltalake(\"/lakehouse/default/Tables/scada_duckdb\",df,mode=\"append\",engine='rust',partition_by=['YEAR'],storage_options={\"allow_unsafe_rename\":\"true\"})\n",
        "    del df"
      ]
    },
    {
      "cell_type": "markdown",
      "id": "f2293264-ec0e-42eb-b205-785a15904130",
      "metadata": {
        "nteract": {
          "transient": {
            "deleting": false
          }
        },
        "id": "f2293264-ec0e-42eb-b205-785a15904130"
      },
      "source": [
        "_**Polars**_"
      ]
    },
    {
      "cell_type": "code",
      "execution_count": null,
      "id": "ca89eb3a-a145-468f-8490-1a6ba970a25a",
      "metadata": {
        "jupyter": {
          "outputs_hidden": false,
          "source_hidden": false
        },
        "nteract": {
          "transient": {
            "deleting": false
          }
        },
        "colab": {
          "base_uri": "https://localhost:8080/"
        },
        "id": "ca89eb3a-a145-468f-8490-1a6ba970a25a",
        "outputId": "f2aeb968-3267-4843-8886-8fa3f29b0318"
      },
      "outputs": [
        {
          "output_type": "stream",
          "name": "stdout",
          "text": [
            "CPU times: user 48 s, sys: 17.9 s, total: 1min 5s\n",
            "Wall time: 1min 8s\n"
          ]
        }
      ],
      "source": [
        "%%time\n",
        "#work in progress, I don't know how to parse all the columns, polars seems to read only the first columns at row=2\n",
        "from deltalake.writer import write_deltalake\n",
        "import polars as pl\n",
        "colmn=[\n",
        "'I','UNIT','XX','VERSION','SETTLEMENTDATE','RUNNO',\n",
        "    'DUID','INTERVENTION','DISPATCHMODE','AGCSTATUS','INITIALMW',\n",
        "    'TOTALCLEARED','RAMPDOWNRATE','RAMPUPRATE','LOWER5MIN',\n",
        "    'LOWER60SEC','LOWER6SEC','RAISE5MIN','RAISE60SEC',\n",
        "    'RAISE6SEC','MARGINAL5MINVALUE','MARGINAL60SECVALUE',\n",
        "    'MARGINAL6SECVALUE','MARGINALVALUE','VIOLATION5MINDEGREE'\n",
        "]\n",
        "raw = pl.scan_csv(f'{raw_landing}/csv/*.CSV',skip_rows=1, new_columns=colmn,has_header=False, infer_schema_length=0,truncate_ragged_lines=True)\n",
        "transform =(\n",
        "    raw\n",
        "    .filter(pl.col(\"I\")=='D')\n",
        "    .filter(pl.col(\"UNIT\")=='DUNIT')\n",
        "    .filter(pl.col(\"VERSION\")=='3')\n",
        "    .drop(\"XX\")\n",
        "    .drop(\"I\")\n",
        ")\n",
        "transform.with_columns(pl.col(\"SETTLEMENTDATE\").str.to_datetime(\"yyyy/MM/dd HH:mm:ss\"))\n",
        "columns = list(set(transform.columns) - {'SETTLEMENTDATE','DUID','UNIT'})\n",
        "transform=transform.with_columns(pl.col(columns).cast(pl.Float64))\n",
        "\n",
        "write_deltalake(\"/lakehouse/default/Tables/scada_polars\",transform.collect(streaming=True).to_arrow(),\n",
        "mode=\"overwrite\",engine='rust',storage_options={\"allow_unsafe_rename\":\"true\"})"
      ]
    }
  ],
  "metadata": {
    "colab": {
      "provenance": []
    },
    "kernel_info": {
      "name": "synapse_pyspark"
    },
    "kernelspec": {
      "display_name": "Python 3",
      "language": "python",
      "name": "python3"
    },
    "language_info": {
      "codemirror_mode": {
        "name": "ipython",
        "version": 3
      },
      "file_extension": ".py",
      "mimetype": "text/x-python",
      "name": "python",
      "nbconvert_exporter": "python",
      "pygments_lexer": "ipython3",
      "version": "3.11.8"
    },
    "microsoft": {
      "language": "python",
      "ms_spell_check": {
        "ms_spell_check_language": "en"
      }
    },
    "notebook_environment": {},
    "nteract": {
      "version": "nteract-front-end@1.0.0"
    },
    "save_output": true,
    "spark_compute": {
      "compute_id": "/trident/default",
      "session_options": {
        "conf": {},
        "enableDebugMode": false
      }
    },
    "synapse_widget": {
      "state": {},
      "version": "0.1"
    },
    "trident": {
      "environment": {},
      "lakehouse": {
        "default_lakehouse": "24cb43a5-14e6-4971-80fd-1a42c0dcff1e",
        "default_lakehouse_name": "xxxx",
        "default_lakehouse_workspace_id": "16a10841-ac8e-49da-912e-bb1a4f38e274"
      }
    },
    "widgets": {
      "application/vnd.jupyter.widget-state+json": {
        "0b211fbda4514160874659598043bcaf": {
          "model_module": "@jupyter-widgets/controls",
          "model_name": "FloatProgressModel",
          "model_module_version": "1.5.0",
          "state": {
            "_dom_classes": [],
            "_model_module": "@jupyter-widgets/controls",
            "_model_module_version": "1.5.0",
            "_model_name": "FloatProgressModel",
            "_view_count": null,
            "_view_module": "@jupyter-widgets/controls",
            "_view_module_version": "1.5.0",
            "_view_name": "ProgressView",
            "bar_style": "",
            "description": "",
            "description_tooltip": null,
            "layout": "IPY_MODEL_07e37b27056a46be871b6a12fccfd69a",
            "max": 100,
            "min": 0,
            "orientation": "horizontal",
            "style": "IPY_MODEL_a8e0878d17714e409396b51f68f43145",
            "value": 100
          }
        },
        "07e37b27056a46be871b6a12fccfd69a": {
          "model_module": "@jupyter-widgets/base",
          "model_name": "LayoutModel",
          "model_module_version": "1.2.0",
          "state": {
            "_model_module": "@jupyter-widgets/base",
            "_model_module_version": "1.2.0",
            "_model_name": "LayoutModel",
            "_view_count": null,
            "_view_module": "@jupyter-widgets/base",
            "_view_module_version": "1.2.0",
            "_view_name": "LayoutView",
            "align_content": null,
            "align_items": null,
            "align_self": null,
            "border": null,
            "bottom": null,
            "display": null,
            "flex": null,
            "flex_flow": null,
            "grid_area": null,
            "grid_auto_columns": null,
            "grid_auto_flow": null,
            "grid_auto_rows": null,
            "grid_column": null,
            "grid_gap": null,
            "grid_row": null,
            "grid_template_areas": null,
            "grid_template_columns": null,
            "grid_template_rows": null,
            "height": null,
            "justify_content": null,
            "justify_items": null,
            "left": null,
            "margin": null,
            "max_height": null,
            "max_width": null,
            "min_height": null,
            "min_width": null,
            "object_fit": null,
            "object_position": null,
            "order": null,
            "overflow": null,
            "overflow_x": null,
            "overflow_y": null,
            "padding": null,
            "right": null,
            "top": null,
            "visibility": null,
            "width": "auto"
          }
        },
        "a8e0878d17714e409396b51f68f43145": {
          "model_module": "@jupyter-widgets/controls",
          "model_name": "ProgressStyleModel",
          "model_module_version": "1.5.0",
          "state": {
            "_model_module": "@jupyter-widgets/controls",
            "_model_module_version": "1.5.0",
            "_model_name": "ProgressStyleModel",
            "_view_count": null,
            "_view_module": "@jupyter-widgets/base",
            "_view_module_version": "1.2.0",
            "_view_name": "StyleView",
            "bar_color": "black",
            "description_width": ""
          }
        }
      }
    }
  },
  "nbformat": 4,
  "nbformat_minor": 5
}