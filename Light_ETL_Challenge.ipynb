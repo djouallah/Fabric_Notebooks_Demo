{
  "cells": [
    {
      "cell_type": "code",
      "source": [
        "total_files = 60\n",
        "#Fabric Spark expect the path in this format\n",
        "raw_landing='/lakehouse/default/Files/something'"
      ],
      "metadata": {
        "id": "4-1KeHjGNmtX"
      },
      "id": "4-1KeHjGNmtX",
      "execution_count": 1,
      "outputs": []
    },
    {
      "cell_type": "markdown",
      "source": [
        "***Check if Fabric running***"
      ],
      "metadata": {
        "id": "CMdwi1fws8wb"
      },
      "id": "CMdwi1fws8wb"
    },
    {
      "cell_type": "code",
      "source": [
        "# @title\n",
        "## if running inside Fabric, it will skip Spark installation\n",
        "try:\n",
        "    mssparkutils\n",
        "except NameError:\n",
        "    mssparkutils = None"
      ],
      "metadata": {
        "id": "N7xPyFwTs3lN"
      },
      "id": "N7xPyFwTs3lN",
      "execution_count": 2,
      "outputs": []
    },
    {
      "cell_type": "markdown",
      "source": [
        "***Install Package***"
      ],
      "metadata": {
        "id": "20orabBAtGFU"
      },
      "id": "20orabBAtGFU"
    },
    {
      "cell_type": "code",
      "execution_count": 3,
      "id": "4fa98002-f7c6-4d4d-9664-3f492997b93f",
      "metadata": {
        "jupyter": {
          "outputs_hidden": false,
          "source_hidden": false
        },
        "nteract": {
          "transient": {
            "deleting": false
          }
        },
        "id": "4fa98002-f7c6-4d4d-9664-3f492997b93f",
        "colab": {
          "base_uri": "https://localhost:8080/"
        },
        "outputId": "a8815b72-38f7-4a19-feba-e66427ab379b"
      },
      "outputs": [
        {
          "output_type": "stream",
          "name": "stdout",
          "text": [
            "Requirement already satisfied: duckdb in /usr/local/lib/python3.10/dist-packages (0.10.2)\n",
            "Collecting duckdb\n",
            "  Downloading duckdb-0.10.3-cp310-cp310-manylinux_2_17_x86_64.manylinux2014_x86_64.whl (18.5 MB)\n",
            "\u001b[2K     \u001b[90m━━━━━━━━━━━━━━━━━━━━━━━━━━━━━━━━━━━━━━━━\u001b[0m \u001b[32m18.5/18.5 MB\u001b[0m \u001b[31m34.8 MB/s\u001b[0m eta \u001b[36m0:00:00\u001b[0m\n",
            "\u001b[?25hInstalling collected packages: duckdb\n",
            "  Attempting uninstall: duckdb\n",
            "    Found existing installation: duckdb 0.10.2\n",
            "    Uninstalling duckdb-0.10.2:\n",
            "      Successfully uninstalled duckdb-0.10.2\n",
            "Successfully installed duckdb-0.10.3\n",
            "Requirement already satisfied: polars in /usr/local/lib/python3.10/dist-packages (0.20.2)\n",
            "Collecting polars\n",
            "  Downloading polars-0.20.30-cp38-abi3-manylinux_2_17_x86_64.manylinux2014_x86_64.whl (28.3 MB)\n",
            "\u001b[2K     \u001b[90m━━━━━━━━━━━━━━━━━━━━━━━━━━━━━━━━━━━━━━━━\u001b[0m \u001b[32m28.3/28.3 MB\u001b[0m \u001b[31m14.3 MB/s\u001b[0m eta \u001b[36m0:00:00\u001b[0m\n",
            "\u001b[?25hInstalling collected packages: polars\n",
            "  Attempting uninstall: polars\n",
            "    Found existing installation: polars 0.20.2\n",
            "    Uninstalling polars-0.20.2:\n",
            "      Successfully uninstalled polars-0.20.2\n",
            "Successfully installed polars-0.20.30\n",
            "Requirement already satisfied: ibis-framework in /usr/local/lib/python3.10/dist-packages (8.0.0)\n",
            "Collecting ibis-framework\n",
            "  Downloading ibis_framework-10.0.0.dev93-py3-none-any.whl (1.8 MB)\n",
            "\u001b[2K     \u001b[90m━━━━━━━━━━━━━━━━━━━━━━━━━━━━━━━━━━━━━━━━\u001b[0m \u001b[32m1.8/1.8 MB\u001b[0m \u001b[31m7.4 MB/s\u001b[0m eta \u001b[36m0:00:00\u001b[0m\n",
            "\u001b[?25hRequirement already satisfied: atpublic<5,>=2.3 in /usr/local/lib/python3.10/dist-packages (from ibis-framework) (4.1.0)\n",
            "Requirement already satisfied: bidict<1,>=0.22.1 in /usr/local/lib/python3.10/dist-packages (from ibis-framework) (0.23.1)\n",
            "Requirement already satisfied: numpy<2,>=1.23.2 in /usr/local/lib/python3.10/dist-packages (from ibis-framework) (1.25.2)\n",
            "Requirement already satisfied: pandas<3,>=1.5.3 in /usr/local/lib/python3.10/dist-packages (from ibis-framework) (2.0.3)\n",
            "Requirement already satisfied: parsy<3,>=2 in /usr/local/lib/python3.10/dist-packages (from ibis-framework) (2.1)\n",
            "Requirement already satisfied: pyarrow<17,>=10.0.1 in /usr/local/lib/python3.10/dist-packages (from ibis-framework) (14.0.2)\n",
            "Requirement already satisfied: pyarrow-hotfix<1,>=0.4 in /usr/local/lib/python3.10/dist-packages (from ibis-framework) (0.6)\n",
            "Requirement already satisfied: python-dateutil<3,>=2.8.2 in /usr/local/lib/python3.10/dist-packages (from ibis-framework) (2.8.2)\n",
            "Requirement already satisfied: pytz>=2022.7 in /usr/local/lib/python3.10/dist-packages (from ibis-framework) (2023.4)\n",
            "Requirement already satisfied: rich<14,>=12.4.4 in /usr/local/lib/python3.10/dist-packages (from ibis-framework) (13.7.1)\n",
            "Collecting sqlglot<23.18,>=23.4 (from ibis-framework)\n",
            "  Downloading sqlglot-23.17.0-py3-none-any.whl (399 kB)\n",
            "\u001b[2K     \u001b[90m━━━━━━━━━━━━━━━━━━━━━━━━━━━━━━━━━━━━━━━━\u001b[0m \u001b[32m399.1/399.1 kB\u001b[0m \u001b[31m31.1 MB/s\u001b[0m eta \u001b[36m0:00:00\u001b[0m\n",
            "\u001b[?25hRequirement already satisfied: toolz<1,>=0.11 in /usr/local/lib/python3.10/dist-packages (from ibis-framework) (0.12.1)\n",
            "Requirement already satisfied: typing-extensions<5,>=4.3.0 in /usr/local/lib/python3.10/dist-packages (from ibis-framework) (4.11.0)\n",
            "Requirement already satisfied: tzdata>=2022.1 in /usr/local/lib/python3.10/dist-packages (from pandas<3,>=1.5.3->ibis-framework) (2024.1)\n",
            "Requirement already satisfied: six>=1.5 in /usr/local/lib/python3.10/dist-packages (from python-dateutil<3,>=2.8.2->ibis-framework) (1.16.0)\n",
            "Requirement already satisfied: markdown-it-py>=2.2.0 in /usr/local/lib/python3.10/dist-packages (from rich<14,>=12.4.4->ibis-framework) (3.0.0)\n",
            "Requirement already satisfied: pygments<3.0.0,>=2.13.0 in /usr/local/lib/python3.10/dist-packages (from rich<14,>=12.4.4->ibis-framework) (2.16.1)\n",
            "Requirement already satisfied: mdurl~=0.1 in /usr/local/lib/python3.10/dist-packages (from markdown-it-py>=2.2.0->rich<14,>=12.4.4->ibis-framework) (0.1.2)\n",
            "Installing collected packages: sqlglot, ibis-framework\n",
            "  Attempting uninstall: sqlglot\n",
            "    Found existing installation: sqlglot 20.11.0\n",
            "    Uninstalling sqlglot-20.11.0:\n",
            "      Successfully uninstalled sqlglot-20.11.0\n",
            "  Attempting uninstall: ibis-framework\n",
            "    Found existing installation: ibis-framework 8.0.0\n",
            "    Uninstalling ibis-framework-8.0.0:\n",
            "      Successfully uninstalled ibis-framework-8.0.0\n",
            "\u001b[31mERROR: pip's dependency resolver does not currently take into account all the packages that are installed. This behaviour is the source of the following dependency conflicts.\n",
            "bigframes 1.6.0 requires ibis-framework[bigquery]<9.0.0dev,>=8.0.0, but you have ibis-framework 10.0.0.dev93 which is incompatible.\n",
            "bigframes 1.6.0 requires sqlglot<=20.11,>=20.8.0, but you have sqlglot 23.17.0 which is incompatible.\u001b[0m\u001b[31m\n",
            "\u001b[0mSuccessfully installed ibis-framework-10.0.0.dev93 sqlglot-23.17.0\n",
            "Collecting deltalake\n",
            "  Downloading deltalake-0.17.4-cp38-abi3-manylinux_2_17_x86_64.manylinux2014_x86_64.whl (26.5 MB)\n",
            "\u001b[2K     \u001b[90m━━━━━━━━━━━━━━━━━━━━━━━━━━━━━━━━━━━━━━━━\u001b[0m \u001b[32m26.5/26.5 MB\u001b[0m \u001b[31m37.9 MB/s\u001b[0m eta \u001b[36m0:00:00\u001b[0m\n",
            "\u001b[?25hRequirement already satisfied: pyarrow>=8 in /usr/local/lib/python3.10/dist-packages (from deltalake) (14.0.2)\n",
            "Requirement already satisfied: pyarrow-hotfix in /usr/local/lib/python3.10/dist-packages (from deltalake) (0.6)\n",
            "Requirement already satisfied: numpy>=1.16.6 in /usr/local/lib/python3.10/dist-packages (from pyarrow>=8->deltalake) (1.25.2)\n",
            "Installing collected packages: deltalake\n",
            "Successfully installed deltalake-0.17.4\n"
          ]
        }
      ],
      "source": [
        "!pip install   duckdb --upgrade\n",
        "!pip install   polars --upgrade\n",
        "!pip install   'ibis-framework' --pre --upgrade\n",
        "!pip install   deltalake"
      ]
    },
    {
      "cell_type": "code",
      "source": [
        "if mssparkutils is None:\n",
        " !pip install -q delta-spark\n",
        " import pyspark\n",
        " from delta import *\n",
        " builder = pyspark.sql.SparkSession.builder.appName(\"MyApp\") \\\n",
        "    .config(\"spark.sql.extensions\", \"io.delta.sql.DeltaSparkSessionExtension\") \\\n",
        "    .config(\"spark.sql.catalog.spark_catalog\", \"org.apache.spark.sql.delta.catalog.DeltaCatalog\")\n",
        " spark = configure_spark_with_delta_pip(builder).getOrCreate()\n",
        " spark.conf.set(\"spark.sql.execution.arrow.enabled\", \"true\")\n",
        "else:\n",
        " print('You are in Fabric, all good, no need to install Spark')\n"
      ],
      "metadata": {
        "id": "cydgB61Wlxyx",
        "colab": {
          "base_uri": "https://localhost:8080/"
        },
        "outputId": "487b36ce-c3ad-4b04-a60c-631138a7485e"
      },
      "id": "cydgB61Wlxyx",
      "execution_count": 4,
      "outputs": [
        {
          "output_type": "stream",
          "name": "stdout",
          "text": [
            "\u001b[2K     \u001b[90m━━━━━━━━━━━━━━━━━━━━━━━━━━━━━━━━━━━━━━━━\u001b[0m \u001b[32m317.0/317.0 MB\u001b[0m \u001b[31m3.6 MB/s\u001b[0m eta \u001b[36m0:00:00\u001b[0m\n",
            "\u001b[?25h  Preparing metadata (setup.py) ... \u001b[?25l\u001b[?25hdone\n",
            "  Building wheel for pyspark (setup.py) ... \u001b[?25l\u001b[?25hdone\n"
          ]
        }
      ]
    },
    {
      "cell_type": "code",
      "execution_count": 5,
      "id": "815f881e-4109-431e-90cd-dab1a806132f",
      "metadata": {
        "jupyter": {
          "outputs_hidden": false,
          "source_hidden": false
        },
        "nteract": {
          "transient": {
            "deleting": false
          }
        },
        "colab": {
          "base_uri": "https://localhost:8080/"
        },
        "id": "815f881e-4109-431e-90cd-dab1a806132f",
        "outputId": "9e066579-953d-479d-e627-5981a2c24011"
      },
      "outputs": [
        {
          "output_type": "stream",
          "name": "stdout",
          "text": [
            "2 vCPU Memory:13.0\n"
          ]
        }
      ],
      "source": [
        "# @title\n",
        "from psutil import *\n",
        "core = cpu_count()\n",
        "vCPU = str(core) + \" vCPU\"\n",
        "mem=round(virtual_memory().total/(1024 * 1024 * 1024),0)\n",
        "print(vCPU +' Memory:'+ str(mem))"
      ]
    },
    {
      "cell_type": "markdown",
      "id": "ee4d52d4-761a-4e7b-993b-0889fda74a94",
      "metadata": {
        "id": "ee4d52d4-761a-4e7b-993b-0889fda74a94"
      },
      "source": [
        "# Download Data"
      ]
    },
    {
      "cell_type": "code",
      "execution_count": 6,
      "id": "28416977-0f39-41ca-aa84-9a5d42a6e519",
      "metadata": {
        "id": "28416977-0f39-41ca-aa84-9a5d42a6e519"
      },
      "outputs": [],
      "source": [
        "# @title\n",
        "import re ,os\n",
        "import requests\n",
        "from urllib.request import urlopen\n",
        "def download(url,Path):\n",
        "    if not os.path.exists(Path):\n",
        "      os.makedirs(Path, exist_ok=True)\n",
        "    result = urlopen(url).read().decode('utf-8')\n",
        "    pattern = re.compile(r'[\\w.]*.zip')\n",
        "    filelist1 = pattern.findall(result)\n",
        "    filelist_unique = list(set(filelist1))[:total_files]\n",
        "    print(str(len(filelist_unique)) + ' New File Loaded')\n",
        "    if len(filelist_unique) != 0 :\n",
        "      for x in filelist_unique:\n",
        "           with requests.get(url+x, stream=True) as resp:\n",
        "            if resp.ok:\n",
        "              with open(f\"{Path}/{x}\", \"wb\") as f:\n",
        "               for chunk in resp.iter_content(chunk_size=4096):\n",
        "                f.write(chunk)\n",
        "    return \"done\""
      ]
    },
    {
      "cell_type": "code",
      "execution_count": 7,
      "id": "3b5f3047-8010-41ba-8e30-396e26de0e81",
      "metadata": {
        "id": "3b5f3047-8010-41ba-8e30-396e26de0e81"
      },
      "outputs": [],
      "source": [
        "# @title\n",
        "from shutil import unpack_archive\n",
        "import os , glob\n",
        "def unzip(Source, Destination):\n",
        "    filelist=[os.path.basename(x) for x in glob.glob(Source+'*.zip')]\n",
        "    for x in filelist:\n",
        "          try:\n",
        "            unpack_archive(str(Source+x), str(Destination), 'zip')\n",
        "          except:\n",
        "            pass\n",
        "    return \"done\""
      ]
    },
    {
      "cell_type": "code",
      "execution_count": 8,
      "id": "f6536736-55ec-4af9-a603-17a4e779af7a",
      "metadata": {
        "colab": {
          "base_uri": "https://localhost:8080/",
          "height": 54
        },
        "id": "f6536736-55ec-4af9-a603-17a4e779af7a",
        "outputId": "9aa64388-15ab-4ebf-c6f3-c5924bbc5e1e"
      },
      "outputs": [
        {
          "output_type": "stream",
          "name": "stdout",
          "text": [
            "60 New File Loaded\n"
          ]
        },
        {
          "output_type": "execute_result",
          "data": {
            "text/plain": [
              "'done'"
            ],
            "application/vnd.google.colaboratory.intrinsic+json": {
              "type": "string"
            }
          },
          "metadata": {},
          "execution_count": 8
        }
      ],
      "source": [
        "download(\"https://nemweb.com.au/Reports/Current/Daily_Reports/\",raw_landing+\"/zip/\")\n",
        "unzip(raw_landing+\"/zip/\",raw_landing+\"/csv/\")"
      ]
    },
    {
      "cell_type": "markdown",
      "id": "8LbA_eCFM-Zl",
      "metadata": {
        "id": "8LbA_eCFM-Zl"
      },
      "source": [
        "# DuckDB"
      ]
    },
    {
      "cell_type": "code",
      "execution_count": 9,
      "id": "21256ca2-634e-4d44-ae45-4e1850258ad1",
      "metadata": {
        "jupyter": {
          "outputs_hidden": false,
          "source_hidden": false
        },
        "nteract": {
          "transient": {
            "deleting": false
          }
        },
        "id": "21256ca2-634e-4d44-ae45-4e1850258ad1"
      },
      "outputs": [],
      "source": [
        "# @title\n",
        "import duckdb\n",
        "def duckdb_clean_csv(x):\n",
        "\traw =duckdb.sql(F\"\"\"from read_csv({x},\n",
        "\tSkip=1,header =0,all_varchar=1,\n",
        "\tcolumns={{\n",
        "\t'I': 'VARCHAR','UNIT': 'VARCHAR','XX': 'VARCHAR','VERSION': 'VARCHAR','SETTLEMENTDATE': 'VARCHAR','RUNNO': 'VARCHAR',\n",
        "\t'DUID': 'VARCHAR','INTERVENTION': 'VARCHAR','DISPATCHMODE': 'VARCHAR','AGCSTATUS': 'VARCHAR','INITIALMW': 'VARCHAR',\n",
        "\t'TOTALCLEARED': 'VARCHAR','RAMPDOWNRATE': 'VARCHAR','RAMPUPRATE': 'VARCHAR','LOWER5MIN': 'VARCHAR',\n",
        "\t'LOWER60SEC': 'VARCHAR','LOWER6SEC': 'VARCHAR','RAISE5MIN': 'VARCHAR','RAISE60SEC': 'VARCHAR',\n",
        "\t'RAISE6SEC': 'VARCHAR','MARGINAL5MINVALUE': 'VARCHAR','MARGINAL60SECVALUE': 'VARCHAR',\n",
        "\t'MARGINAL6SECVALUE': 'VARCHAR','MARGINALVALUE': 'VARCHAR','VIOLATION5MINDEGREE': 'VARCHAR',\n",
        "\t'VIOLATION60SECDEGREE': 'VARCHAR','VIOLATION6SECDEGREE': 'VARCHAR','VIOLATIONDEGREE': 'VARCHAR',\n",
        "\t'LOWERREG': 'VARCHAR','RAISEREG': 'VARCHAR','AVAILABILITY': 'VARCHAR','RAISE6SECFLAGS': 'VARCHAR',\n",
        "\t'RAISE60SECFLAGS': 'VARCHAR','RAISE5MINFLAGS': 'VARCHAR','RAISEREGFLAGS': 'VARCHAR',\n",
        "\t'LOWER6SECFLAGS': 'VARCHAR','LOWER60SECFLAGS': 'VARCHAR','LOWER5MINFLAGS': 'VARCHAR',\n",
        "\t'LOWERREGFLAGS': 'VARCHAR','RAISEREGAVAILABILITY': 'VARCHAR','RAISEREGENABLEMENTMAX': 'VARCHAR',\n",
        "\t'RAISEREGENABLEMENTMIN': 'VARCHAR','LOWERREGAVAILABILITY': 'VARCHAR','LOWERREGENABLEMENTMAX': 'VARCHAR',\n",
        "\t'LOWERREGENABLEMENTMIN': 'VARCHAR','RAISE6SECACTUALAVAILABILITY': 'VARCHAR',\n",
        "\t'RAISE60SECACTUALAVAILABILITY': 'VARCHAR','RAISE5MINACTUALAVAILABILITY': 'VARCHAR',\n",
        "\t'RAISEREGACTUALAVAILABILITY': 'VARCHAR','LOWER6SECACTUALAVAILABILITY': 'VARCHAR',\n",
        "\t'LOWER60SECACTUALAVAILABILITY': 'VARCHAR','LOWER5MINACTUALAVAILABILITY': 'VARCHAR','LOWERREGACTUALAVAILABILITY': 'VARCHAR'\n",
        "\t}},\n",
        "\tfilename =1,null_padding = true,ignore_errors=1,auto_detect=false)\n",
        "\twhere I='D' and UNIT ='DUNIT' AND VERSION = 3                  \"\"\")\n",
        "\tcolumns = list(set(raw.columns) - {'SETTLEMENTDATE','DUID','I','filename','UNIT'})\n",
        "\texprs = [\n",
        "\t\tduckdb.ColumnExpression(x).cast(duckdb.typing.DOUBLE).alias(x)\n",
        "\t\tfor x in columns\n",
        "\t         ]\n",
        "\trel2 = raw.select('SETTLEMENTDATE','DUID','I','filename','UNIT',*exprs)\n",
        "\n",
        "\tscada=duckdb.sql(\"\"\" select *exclude(SETTLEMENTDATE,I,XX,filename),cast (SETTLEMENTDATE as TIMESTAMPTZ) as SETTLEMENTDATE,\n",
        "\tisoyear (cast (SETTLEMENTDATE as timestamp)) as YEAR  from rel2  \"\"\")\n",
        "\treturn scada.arrow()\n"
      ]
    },
    {
      "cell_type": "markdown",
      "source": [
        "# Polars"
      ],
      "metadata": {
        "id": "sBkDAT9PhxIx"
      },
      "id": "sBkDAT9PhxIx"
    },
    {
      "cell_type": "code",
      "execution_count": 10,
      "id": "ca89eb3a-a145-468f-8490-1a6ba970a25a",
      "metadata": {
        "jupyter": {
          "outputs_hidden": false,
          "source_hidden": false
        },
        "nteract": {
          "transient": {
            "deleting": false
          }
        },
        "id": "ca89eb3a-a145-468f-8490-1a6ba970a25a"
      },
      "outputs": [],
      "source": [
        "# @title\n",
        "import polars as pl\n",
        "def polars_clean_csv(x):\n",
        "  schema ={'I': pl.String,'UNIT': pl.String,'XX': pl.String,'VERSION': pl.String,'SETTLEMENTDATE': pl.String,'RUNNO': pl.String,\n",
        "    'DUID': pl.String,'INTERVENTION': pl.String,'DISPATCHMODE': pl.String,'AGCSTATUS': pl.String,'INITIALMW': pl.String,\n",
        "    'TOTALCLEARED': pl.String,'RAMPDOWNRATE': pl.String,'RAMPUPRATE': pl.String,'LOWER5MIN': pl.String,\n",
        "    'LOWER60SEC': pl.String,'LOWER6SEC': pl.String,'RAISE5MIN': pl.String,'RAISE60SEC': pl.String,\n",
        "    'RAISE6SEC': pl.String,'MARGINAL5MINVALUE': pl.String,'MARGINAL60SECVALUE': pl.String,\n",
        "    'MARGINAL6SECVALUE': pl.String,'MARGINALVALUE': pl.String,'VIOLATION5MINDEGREE': pl.String,\n",
        "    'VIOLATION60SECDEGREE': pl.String,'VIOLATION6SECDEGREE': pl.String,'VIOLATIONDEGREE': pl.String,\n",
        "    'LOWERREG': pl.String,'RAISEREG': pl.String,'AVAILABILITY': pl.String,'RAISE6SECFLAGS': pl.String,\n",
        "    'RAISE60SECFLAGS': pl.String,'RAISE5MINFLAGS': pl.String,'RAISEREGFLAGS': pl.String,\n",
        "    'LOWER6SECFLAGS': pl.String,'LOWER60SECFLAGS': pl.String,'LOWER5MINFLAGS': pl.String,\n",
        "    'LOWERREGFLAGS': pl.String,'RAISEREGAVAILABILITY': pl.String,'RAISEREGENABLEMENTMAX': pl.String,\n",
        "    'RAISEREGENABLEMENTMIN': pl.String,'LOWERREGAVAILABILITY': pl.String,'LOWERREGENABLEMENTMAX': pl.String,\n",
        "    'LOWERREGENABLEMENTMIN': pl.String,'RAISE6SECACTUALAVAILABILITY': pl.String,\n",
        "    'RAISE60SECACTUALAVAILABILITY': pl.String,'RAISE5MINACTUALAVAILABILITY': pl.String,\n",
        "    'RAISEREGACTUALAVAILABILITY': pl.String,'LOWER6SECACTUALAVAILABILITY': pl.String,\n",
        "    'LOWER60SECACTUALAVAILABILITY': pl.String,'LOWER5MINACTUALAVAILABILITY': pl.String,'LOWERREGACTUALAVAILABILITY': pl.String}\n",
        "  raw = pl.scan_csv(x,\n",
        "                    skip_rows=1,\n",
        "                    schema=schema,\n",
        "                    has_header=False,\n",
        "                    truncate_ragged_lines=True)\n",
        "  transform =(\n",
        "      raw\n",
        "      .filter(pl.col(\"I\")=='D')\n",
        "      .filter(pl.col(\"UNIT\")=='DUNIT')\n",
        "      .filter(pl.col(\"VERSION\")=='3')\n",
        "      .drop(\"XX\")\n",
        "      .drop(\"I\")\n",
        "  )\n",
        "  z = transform.with_columns(pl.col(\"SETTLEMENTDATE\").str.to_datetime())\n",
        "  columns = list(set(transform.columns) - {'SETTLEMENTDATE','DUID','UNIT'})\n",
        "  final=z.with_columns(pl.col(columns).cast(pl.Float64),YEAR=pl.col(\"SETTLEMENTDATE\").dt.iso_year()).collect()\n",
        "  return final.to_arrow()"
      ]
    },
    {
      "cell_type": "markdown",
      "source": [
        "# Pandas"
      ],
      "metadata": {
        "id": "qpFll5xw3Mvq"
      },
      "id": "qpFll5xw3Mvq"
    },
    {
      "cell_type": "code",
      "source": [
        "import pandas as pd\n",
        "\n",
        "def Pandas_clean_csv(chunk):\n",
        "    appended_data = []\n",
        "    for filename in chunk:\n",
        "        # Read only necessary columns\n",
        "        df = pd.read_csv(filename, skiprows=1,dtype=str, names=range(131), keep_default_na=False,  index_col=False)\n",
        "        df = df.iloc[:, :53]\n",
        "        df = df.rename(columns={1: 'DISPATCH', 3: 'VERSION'}).query('DISPATCH==\"DUNIT\" and VERSION==\"3\"')\n",
        "        df.columns = df.iloc[0]\n",
        "        df = df[1:]\n",
        "        df = df.rename(columns={'3': 'version', 'DUNIT': 'UNIT'})\n",
        "        df = df.drop(columns=['I'])\n",
        "        df.drop([\"\"], axis=1, inplace=True)\n",
        "        df['SETTLEMENTDATE'] = pd.to_datetime(df['SETTLEMENTDATE'])\n",
        "        columns = list(set(df.columns) - {'SETTLEMENTDATE', 'DUID', 'UNIT'})\n",
        "        df[columns] = df[columns].apply(pd.to_numeric, errors='coerce', dtype_backend='pyarrow')\n",
        "        df['YEAR'] = df['SETTLEMENTDATE'].dt.year\n",
        "        appended_data.append(df)\n",
        "    appended_data = pd.concat(appended_data, ignore_index=True)\n",
        "    return appended_data"
      ],
      "metadata": {
        "id": "7USg9dd-1ivc"
      },
      "id": "7USg9dd-1ivc",
      "execution_count": 11,
      "outputs": []
    },
    {
      "cell_type": "markdown",
      "source": [
        "# Spark"
      ],
      "metadata": {
        "id": "Q2XJvQaels3N"
      },
      "id": "Q2XJvQaels3N"
    },
    {
      "cell_type": "code",
      "source": [
        "# @title\n",
        "from pyspark.sql import functions as f\n",
        "def spark_clean_csv(files_to_upload_full_Path):\n",
        " user_schema=\"\"\"\n",
        " I  STRING,UNIT  STRING,XX  STRING,VERSION  STRING,SETTLEMENTDATE  STRING,RUNNO  STRING,DUID  STRING,\n",
        " INTERVENTION  STRING,DISPATCHMODE  STRING,AGCSTATUS  STRING,INITIALMW  STRING,TOTALCLEARED  STRING,RAMPDOWNRATE  STRING,\n",
        " RAMPUPRATE  STRING,LOWER5MIN  STRING,LOWER60SEC  STRING,LOWER6SEC  STRING,RAISE5MIN  STRING,RAISE60SEC  STRING,RAISE6SEC  STRING,\n",
        " MARGINAL5MINVALUE  STRING,MARGINAL60SECVALUE  STRING,MARGINAL6SECVALUE  STRING,MARGINALVALUE  STRING,VIOLATION5MINDEGREE  STRING,\n",
        " VIOLATION60SECDEGREE  STRING,VIOLATION6SECDEGREE  STRING,VIOLATIONDEGREE  STRING,LOWERREG  STRING,RAISEREG  STRING,AVAILABILITY  STRING,\n",
        " RAISE6SECFLAGS  STRING,RAISE60SECFLAGS  STRING,RAISE5MINFLAGS  STRING,RAISEREGFLAGS  STRING,LOWER6SECFLAGS  STRING,LOWER60SECFLAGS STRING,\n",
        " LOWER5MINFLAGS  STRING,LOWERREGFLAGS  STRING,RAISEREGAVAILABILITY  STRING,RAISEREGENABLEMENTMAX  STRING,RAISEREGENABLEMENTMIN  STRING,\n",
        " LOWERREGAVAILABILITY  STRING,LOWERREGENABLEMENTMAX  STRING,LOWERREGENABLEMENTMIN  STRING,RAISE6SECACTUALAVAILABILITY  STRING,\n",
        " RAISE60SECACTUALAVAILABILITY  STRING,RAISE5MINACTUALAVAILABILITY  STRING,RAISEREGACTUALAVAILABILITY  STRING,\n",
        " LOWER6SECACTUALAVAILABILITY  STRING,LOWER60SECACTUALAVAILABILITY  STRING,LOWER5MINACTUALAVAILABILITY  STRING,\n",
        " LOWERREGACTUALAVAILABILITY  STRING\n",
        " \"\"\"\n",
        " df = spark.read.format(\"csv\")\\\n",
        "     .option(\"header\",\"true\") \\\n",
        "     .schema(user_schema)\\\n",
        "     .load(files_to_upload_full_Path)\\\n",
        "     .filter(\"unit='DUNIT' and version =3 and I='D'\")\\\n",
        "     .drop('xx')\\\n",
        "     .drop('I')\\\n",
        "     .withColumn('SETTLEMENTDATE',f.to_timestamp('SETTLEMENTDATE','yyyy/MM/dd HH:mm:ss'))\\\n",
        "     .withColumn(\"file\", f.regexp_extract(f.input_file_name(), r\"Daily_Reports\\/([^\\W'\\.']+\\.CSV)\", 1))\\\n",
        "     .withColumn(\"PRIORITY\", f.lit(1))\n",
        " df_cols = list(set(df.columns) - {'SETTLEMENTDATE','DUID','file','UNIT','transactionId','PRIORITY'})\n",
        " for col_name in df_cols:\n",
        "    df = df.withColumn(col_name, f.col(col_name).cast('double'))\n",
        " df = df.withColumn('DATE', f.to_date(f.col('SETTLEMENTDATE')))\\\n",
        "      .withColumn('YEAR', f.year(f.col('SETTLEMENTDATE')))\n",
        " return df"
      ],
      "metadata": {
        "id": "c7YyBrtEmDZd"
      },
      "id": "c7YyBrtEmDZd",
      "execution_count": 12,
      "outputs": []
    },
    {
      "cell_type": "markdown",
      "source": [
        "# Ibis"
      ],
      "metadata": {
        "id": "SF7CWQywYcnY"
      },
      "id": "SF7CWQywYcnY"
    },
    {
      "cell_type": "code",
      "source": [
        "# @title\n",
        "import ibis\n",
        "def ibis_clean_csv(files_to_upload_full_Path):\n",
        " schema={\n",
        "\t\t\t'I': 'VARCHAR','UNIT': 'VARCHAR','XX': 'VARCHAR','VERSION': 'VARCHAR','SETTLEMENTDATE': 'VARCHAR','RUNNO': 'VARCHAR',\n",
        "\t\t\t'DUID': 'VARCHAR','INTERVENTION': 'VARCHAR','DISPATCHMODE': 'VARCHAR','AGCSTATUS': 'VARCHAR','INITIALMW': 'VARCHAR',\n",
        "\t\t\t'TOTALCLEARED': 'VARCHAR','RAMPDOWNRATE': 'VARCHAR','RAMPUPRATE': 'VARCHAR','LOWER5MIN': 'VARCHAR',\n",
        "\t\t\t'LOWER60SEC': 'VARCHAR','LOWER6SEC': 'VARCHAR','RAISE5MIN': 'VARCHAR','RAISE60SEC': 'VARCHAR',\n",
        "\t\t\t'RAISE6SEC': 'VARCHAR','MARGINAL5MINVALUE': 'VARCHAR','MARGINAL60SECVALUE': 'VARCHAR',\n",
        "\t\t\t'MARGINAL6SECVALUE': 'VARCHAR','MARGINALVALUE': 'VARCHAR','VIOLATION5MINDEGREE': 'VARCHAR',\n",
        "\t\t\t'VIOLATION60SECDEGREE': 'VARCHAR','VIOLATION6SECDEGREE': 'VARCHAR','VIOLATIONDEGREE': 'VARCHAR',\n",
        "\t\t\t'LOWERREG': 'VARCHAR','RAISEREG': 'VARCHAR','AVAILABILITY': 'VARCHAR','RAISE6SECFLAGS': 'VARCHAR',\n",
        "\t\t\t'RAISE60SECFLAGS': 'VARCHAR','RAISE5MINFLAGS': 'VARCHAR','RAISEREGFLAGS': 'VARCHAR',\n",
        "\t\t\t'LOWER6SECFLAGS': 'VARCHAR','LOWER60SECFLAGS': 'VARCHAR','LOWER5MINFLAGS': 'VARCHAR',\n",
        "\t\t\t'LOWERREGFLAGS': 'VARCHAR','RAISEREGAVAILABILITY': 'VARCHAR','RAISEREGENABLEMENTMAX': 'VARCHAR',\n",
        "\t\t\t'RAISEREGENABLEMENTMIN': 'VARCHAR','LOWERREGAVAILABILITY': 'VARCHAR','LOWERREGENABLEMENTMAX': 'VARCHAR',\n",
        "\t\t\t'LOWERREGENABLEMENTMIN': 'VARCHAR','RAISE6SECACTUALAVAILABILITY': 'VARCHAR',\n",
        "\t\t\t'RAISE60SECACTUALAVAILABILITY': 'VARCHAR','RAISE5MINACTUALAVAILABILITY': 'VARCHAR',\n",
        "\t\t\t'RAISEREGACTUALAVAILABILITY': 'VARCHAR','LOWER6SECACTUALAVAILABILITY': 'VARCHAR',\n",
        "\t\t\t'LOWER60SECACTUALAVAILABILITY': 'VARCHAR','LOWER5MINACTUALAVAILABILITY': 'VARCHAR','LOWERREGACTUALAVAILABILITY': 'VARCHAR'}\n",
        " raw = ibis.read_csv(files_to_upload_full_Path,Skip=1,header =0,all_varchar=1,columns =schema,filename =1,null_padding = 1,ignore_errors=1,auto_detect=0)\n",
        " DUNIT = raw.filter((raw.UNIT == \"DUNIT\") & (raw.VERSION  == '3') & (raw.I  == 'D')).drop(\"XX\",\"I\")\n",
        " DUNIT = DUNIT.cast({\"SETTLEMENTDATE\": \"timestamp\"})\n",
        " DUNIT = DUNIT.mutate(\n",
        "      date=DUNIT.SETTLEMENTDATE.cast(\"date\"),\n",
        "      year=DUNIT.SETTLEMENTDATE.year(),\n",
        "  )\n",
        " df_cols = list(set(DUNIT.columns) - {'SETTLEMENTDATE','DUID','filename','UNIT','date','year'})\n",
        " for col_name in df_cols:\n",
        "      DUNIT = DUNIT.cast({col_name: \"double\"})\n",
        " return DUNIT"
      ],
      "metadata": {
        "id": "bzrsEGnWYVLC"
      },
      "id": "bzrsEGnWYVLC",
      "execution_count": 13,
      "outputs": []
    },
    {
      "cell_type": "markdown",
      "source": [
        "# Pyarrow"
      ],
      "metadata": {
        "id": "hEjpkeuATHiD"
      },
      "id": "hEjpkeuATHiD"
    },
    {
      "cell_type": "code",
      "source": [
        "# work in Progress\n",
        "from pyarrow import csv\n",
        "import pyarrow.compute as pc\n",
        "import pyarrow as pa\n",
        "import pyarrow.dataset as ds\n",
        "def pyarrow_clean_csv(files_to_upload_full_Path):\n",
        "  new_schema = pa.schema([\n",
        "  ('I', pa.string()),  ('UNIT', pa.string()),  ('XX', pa.string()),  ('VERSION', pa.float64()),  ('SETTLEMENTDATE', pa.string()),  ('RUNNO', pa.float64()),  ('DUID', pa.string()),  ('INTERVENTION', pa.float64()),\n",
        "  ('DISPATCHMODE', pa.float64()),  ('AGCSTATUS', pa.float64()),  ('INITIALMW', pa.float64()),  ('TOTALCLEARED', pa.float64()),  ('RAMPDOWNRATE', pa.float64()),  ('RAMPUPRATE', pa.float64()),  ('LOWER5MIN', pa.float64()),\n",
        "  ('LOWER60SEC', pa.float64()),  ('LOWER6SEC', pa.float64()),  ('RAISE5MIN', pa.float64()),  ('RAISE60SEC', pa.float64()),  ('RAISE6SEC', pa.float64()),  ('MARGINAL5MINVALUE', pa.float64()),  ('MARGINAL60SECVALUE', pa.float64()),\n",
        "  ('MARGINAL6SECVALUE', pa.float64()),  ('MARGINALVALUE', pa.float64()),  ('VIOLATION5MINDEGREE', pa.float64()),  ('VIOLATION60SECDEGREE', pa.float64()),  ('VIOLATION6SECDEGREE', pa.float64()),  ('VIOLATIONDEGREE', pa.float64()),\n",
        "  ('LOWERREG', pa.float64()),  ('RAISEREG', pa.float64()),  ('AVAILABILITY', pa.float64()),  ('RAISE6SECFLAGS', pa.float64()),  ('RAISE60SECFLAGS', pa.float64()),  ('RAISE5MINFLAGS', pa.float64()),\n",
        "  ('RAISEREGFLAGS', pa.float64()),  ('LOWER6SECFLAGS', pa.float64()),  ('LOWER60SECFLAGS', pa.float64()),  ('LOWER5MINFLAGS', pa.float64()),  ('LOWERREGFLAGS', pa.float64()),  ('RAISEREGAVAILABILITY', pa.float64()),\n",
        "  ('RAISEREGENABLEMENTMAX', pa.float64()),  ('RAISEREGENABLEMENTMIN', pa.float64()),  ('LOWERREGAVAILABILITY', pa.float64()),  ('LOWERREGENABLEMENTMAX', pa.float64()),  ('LOWERREGENABLEMENTMIN', pa.float64()),\n",
        "  ('RAISE6SECACTUALAVAILABILITY', pa.float64()),  ('RAISE60SECACTUALAVAILABILITY', pa.float64()),  ('RAISE5MINACTUALAVAILABILITY', pa.float64()),  ('RAISEREGACTUALAVAILABILITY', pa.float64()),  ('LOWER6SECACTUALAVAILABILITY', pa.float64()),\n",
        "  ('LOWER60SECACTUALAVAILABILITY', pa.float64()),  ('LOWER5MINACTUALAVAILABILITY', pa.float64()),  ('LOWERREGACTUALAVAILABILITY', pa.float64()),\n",
        "    ])\n",
        "  ReadOptions = csv.ReadOptions(column_names=new_schema.names,skip_rows=1)\n",
        "  ParseOptions  = csv.ParseOptions(invalid_row_handler=lambda i: \"skip\")\n",
        "  ConvertOptions = csv.ConvertOptions(strings_can_be_null=True)\n",
        "  format = ds.CsvFileFormat(parse_options = ParseOptions ,convert_options = ConvertOptions ,read_options = ReadOptions  )\n",
        "  raw = ds.dataset(files_to_upload_full_Path, format =format)\n",
        "  df= raw.filter((pc.field('I') == 'D') & (pc.field('UNIT') == 'DUNIT') & (pc.field('VERSION') == 3)).to_table().cast(new_schema)\n",
        "  df= df.drop_columns(['I','XX'])\n",
        "  df = df.set_column(df.schema.get_field_index(\"SETTLEMENTDATE\"), \"SETTLEMENTDATE\",pc.strptime(df['SETTLEMENTDATE'], format=\"%Y/%m/%d %H:%M:%S\", unit='s').cast(pa.timestamp(\"s\")))\n",
        "  df = df.add_column(0,\"YEAR\", pc.year(df['SETTLEMENTDATE']))\n",
        "  return df"
      ],
      "metadata": {
        "id": "3epZDhdzTKv6"
      },
      "id": "3epZDhdzTKv6",
      "execution_count": 14,
      "outputs": []
    },
    {
      "cell_type": "markdown",
      "source": [
        "# Transformation"
      ],
      "metadata": {
        "id": "QjvU3_McjZaj"
      },
      "id": "QjvU3_McjZaj"
    },
    {
      "cell_type": "code",
      "source": [
        "# @title\n",
        "import glob,os\n",
        "Source = raw_landing+\"/csv/\"\n",
        "list_files=[os.path.basename(x) for x in glob.glob(Source+'*.CSV')]\n",
        "files_to_upload_full_Path = [Source + i for i in list_files][:total_files]"
      ],
      "metadata": {
        "id": "XbFAUqD5viGT"
      },
      "id": "XbFAUqD5viGT",
      "execution_count": 15,
      "outputs": []
    },
    {
      "cell_type": "code",
      "source": [
        "# maximum nbr pf files is 60, you can customize how many files to process at one time, RAM is the bottlneck\n",
        "import time\n",
        "results = pd.DataFrame(columns=['Engine','step','duration'])"
      ],
      "metadata": {
        "id": "fvIrc1Qs3idS"
      },
      "id": "fvIrc1Qs3idS",
      "execution_count": 16,
      "outputs": []
    },
    {
      "cell_type": "code",
      "source": [
        "%%time\n",
        "### adjust Path for Fabric\n",
        "if mssparkutils is None:\n",
        "  files_to_upload_full_Path_spark = files_to_upload_full_Path\n",
        "  table_Path= \"/lakehouse/default/Tables/scada_spark\"\n",
        "else:\n",
        "  files_to_upload_full_Path_spark = [w.replace('/lakehouse/default/', '') for w in files_to_upload_full_Path]\n",
        "  table_Path= \"Tables/scada_spark\"\n",
        "chunk_len = total_files\n",
        "if len(files_to_upload_full_Path_spark) >0 :\n",
        "  for i in range(0, len(files_to_upload_full_Path_spark), chunk_len):\n",
        "    chunk = files_to_upload_full_Path_spark[i:i + chunk_len]\n",
        "    ##########################\n",
        "    start = time.time()\n",
        "    df = spark_clean_csv(chunk)\n",
        "    df.write.mode(\"append\").format(\"delta\").partitionBy(\"year\").save(table_Path)\n",
        "    del df\n",
        "    print('Spark total:' + str(time.time()-start))\n",
        "    results = pd.concat([pd.DataFrame([['Spark',i,time.time()-start]], columns=results.columns), results])"
      ],
      "metadata": {
        "colab": {
          "base_uri": "https://localhost:8080/"
        },
        "id": "zrldmuUX1eJd",
        "outputId": "2f05b580-cf1e-45d8-b15e-275a37db0e4f"
      },
      "id": "zrldmuUX1eJd",
      "execution_count": 17,
      "outputs": [
        {
          "output_type": "stream",
          "name": "stdout",
          "text": [
            "Spark total:468.4011142253876\n",
            "CPU times: user 3.1 s, sys: 425 ms, total: 3.52 s\n",
            "Wall time: 7min 48s\n"
          ]
        }
      ]
    },
    {
      "cell_type": "code",
      "source": [
        "%%time\n",
        "from deltalake.writer import write_deltalake\n",
        "chunk_len = total_files\n",
        "if len(files_to_upload_full_Path) >0 :\n",
        "  for i in range(0, len(files_to_upload_full_Path), chunk_len):\n",
        "    chunk = files_to_upload_full_Path[i:i + chunk_len]\n",
        "    ##########################\n",
        "    start = time.time()\n",
        "    df= pyarrow_clean_csv(chunk)\n",
        "    print('Pyarrow read CSV:' + str(time.time()-start))\n",
        "    write_deltalake(\"/lakehouse/default/Tables/scada_Pyarrow\",df, mode=\"append\",partition_by=['YEAR'], storage_options={\"allow_unsafe_rename\":\"true\"})\n",
        "    print('Pyarrow total:' + str(time.time()-start))\n",
        "    results = pd.concat([pd.DataFrame([['Pyarrow',i,time.time()-start]], columns=results.columns), results])"
      ],
      "metadata": {
        "colab": {
          "base_uri": "https://localhost:8080/"
        },
        "id": "X6Hza1er5CBg",
        "outputId": "81d4cc9a-dfde-4dd6-d5ed-ba82dc01f1b9"
      },
      "id": "X6Hza1er5CBg",
      "execution_count": 18,
      "outputs": [
        {
          "output_type": "stream",
          "name": "stdout",
          "text": [
            "Pyarrow read CSV:95.03547143936157\n",
            "Pyarrow total:114.21434330940247\n",
            "CPU times: user 1min 55s, sys: 42.7 s, total: 2min 37s\n",
            "Wall time: 1min 54s\n"
          ]
        }
      ]
    },
    {
      "cell_type": "code",
      "source": [
        "%%time\n",
        "chunk_len = total_files\n",
        "if len(files_to_upload_full_Path) >0 :\n",
        "  for i in range(0, len(files_to_upload_full_Path), chunk_len):\n",
        "    chunk = files_to_upload_full_Path[i:i + chunk_len]\n",
        "    ##########################\n",
        "    start = time.time()\n",
        "    df = ibis_clean_csv(chunk)\n",
        "    df.to_delta(\"/lakehouse/default/Tables/scada_ibis\",mode=\"append\",partition_by=['year'],storage_options={\"allow_unsafe_rename\":\"true\"})\n",
        "    del df\n",
        "    print('Ibis total:' + str(time.time()-start))\n",
        "    results = pd.concat([pd.DataFrame([['Ibis',i,time.time()-start]], columns=results.columns), results])"
      ],
      "metadata": {
        "colab": {
          "base_uri": "https://localhost:8080/",
          "height": 103,
          "referenced_widgets": [
            "420363267b664605af3eccc70e6ac4e1",
            "960c29e7279949238305278788b7e452",
            "1f463c49acbb4ccab6ef58bf757d5b41"
          ]
        },
        "id": "GyqrdnPIZDdh",
        "outputId": "55e20bfa-f8a4-4898-ae1c-a348ee54adab"
      },
      "id": "GyqrdnPIZDdh",
      "execution_count": 19,
      "outputs": [
        {
          "output_type": "display_data",
          "data": {
            "text/plain": [
              "FloatProgress(value=0.0, layout=Layout(width='auto'), style=ProgressStyle(bar_color='black'))"
            ],
            "application/vnd.jupyter.widget-view+json": {
              "version_major": 2,
              "version_minor": 0,
              "model_id": "420363267b664605af3eccc70e6ac4e1"
            }
          },
          "metadata": {}
        },
        {
          "output_type": "stream",
          "name": "stdout",
          "text": [
            "Ibis total:153.58814573287964\n",
            "CPU times: user 3min 46s, sys: 17.8 s, total: 4min 3s\n",
            "Wall time: 2min 33s\n"
          ]
        }
      ]
    },
    {
      "cell_type": "code",
      "source": [
        "%%time\n",
        "from deltalake.writer import write_deltalake\n",
        "chunk_len = total_files\n",
        "if len(files_to_upload_full_Path) >0 :\n",
        "  for i in range(0, len(files_to_upload_full_Path), chunk_len):\n",
        "    chunk = files_to_upload_full_Path[i:i + chunk_len]\n",
        "    ##########################\n",
        "    start = time.time()\n",
        "    df= duckdb_clean_csv(chunk)\n",
        "    print('duckdb read CSV:' + str(time.time()-start))\n",
        "    write_deltalake(\"/lakehouse/default/Tables/scada_DuckDB\",df, mode=\"append\", partition_by=['YEAR'],storage_options={\"allow_unsafe_rename\":\"true\"})\n",
        "    del df\n",
        "    print('DuckDB total:' + str(time.time()-start))\n",
        "    results = pd.concat([pd.DataFrame([['DuckDB',i,time.time()-start]], columns=results.columns), results])"
      ],
      "metadata": {
        "colab": {
          "base_uri": "https://localhost:8080/",
          "height": 121,
          "referenced_widgets": [
            "5dbe9e85414f4702b986de49c8c33da2",
            "94361f8eb9584c94998db669d58c5b44",
            "950a9d1a7d084e9896cc31a120ac1b63"
          ]
        },
        "id": "oaaUEQw32X9C",
        "outputId": "f5346de3-c124-41b3-802a-ed2b6b14cc63"
      },
      "id": "oaaUEQw32X9C",
      "execution_count": 20,
      "outputs": [
        {
          "output_type": "display_data",
          "data": {
            "text/plain": [
              "FloatProgress(value=0.0, layout=Layout(width='auto'), style=ProgressStyle(bar_color='black'))"
            ],
            "application/vnd.jupyter.widget-view+json": {
              "version_major": 2,
              "version_minor": 0,
              "model_id": "5dbe9e85414f4702b986de49c8c33da2"
            }
          },
          "metadata": {}
        },
        {
          "output_type": "stream",
          "name": "stdout",
          "text": [
            "duckdb read CSV:73.21629571914673\n",
            "DuckDB total:90.23613810539246\n",
            "CPU times: user 2min 1s, sys: 19.5 s, total: 2min 20s\n",
            "Wall time: 1min 30s\n"
          ]
        }
      ]
    },
    {
      "cell_type": "code",
      "source": [
        "%%time\n",
        "if mem > 13:\n",
        " chunk_len = total_files\n",
        "else:\n",
        "  chunk_len = 20\n",
        "if len(files_to_upload_full_Path) >0 :\n",
        "  for i in range(0, len(files_to_upload_full_Path), chunk_len):\n",
        "    chunk = files_to_upload_full_Path[i:i + chunk_len]\n",
        "    ##########################\n",
        "    start = time.time()\n",
        "    df= polars_clean_csv(chunk)\n",
        "    print('polars read CSV:' + str(time.time()-start))\n",
        "    write_deltalake(\"/lakehouse/default/Tables/scada_Polars\",df, mode=\"append\", partition_by=['YEAR'],storage_options={\"allow_unsafe_rename\":\"true\"})\n",
        "    del df\n",
        "    print('Polars total:' + str(time.time()-start))\n",
        "    results = pd.concat([pd.DataFrame([['Polars',i,time.time()-start]], columns=results.columns), results])"
      ],
      "metadata": {
        "colab": {
          "base_uri": "https://localhost:8080/"
        },
        "id": "VLZgXqLk2vhw",
        "outputId": "570ef138-b494-418a-e349-55b04a3edae8"
      },
      "id": "VLZgXqLk2vhw",
      "execution_count": 21,
      "outputs": [
        {
          "output_type": "stream",
          "name": "stdout",
          "text": [
            "polars read CSV:58.21408486366272\n",
            "Polars total:78.63413071632385\n",
            "polars read CSV:65.81471824645996\n",
            "Polars total:91.3344213962555\n",
            "polars read CSV:65.47630453109741\n",
            "Polars total:92.10404968261719\n",
            "CPU times: user 5min 49s, sys: 33.6 s, total: 6min 22s\n",
            "Wall time: 4min 22s\n"
          ]
        }
      ]
    },
    {
      "cell_type": "code",
      "source": [
        "%%time\n",
        "import pyarrow as pa\n",
        "if mem > 13:\n",
        " chunk_len = total_files\n",
        "else:\n",
        "  chunk_len = 20\n",
        "if len(files_to_upload_full_Path) >0 :\n",
        "  for i in range(0, len(files_to_upload_full_Path), chunk_len):\n",
        "    chunk = files_to_upload_full_Path[i:i + chunk_len]\n",
        "    ########################## make sure to ignore index\n",
        "    start = time.time()\n",
        "    df= Pandas_clean_csv(chunk)\n",
        "    xx= pa.Table.from_pandas(df,preserve_index=False)\n",
        "    print('Pandas read CSV:' + str(time.time()-start))\n",
        "    write_deltalake(\"/lakehouse/default/Tables/scada_Pandas\",xx, mode=\"append\", partition_by=['YEAR'],storage_options={\"allow_unsafe_rename\":\"true\"})\n",
        "    del xx\n",
        "    print('Pandas total:' + str(time.time()-start))\n",
        "    results = pd.concat([pd.DataFrame([['Pandas',i,time.time()-start]], columns=results.columns), results])"
      ],
      "metadata": {
        "colab": {
          "base_uri": "https://localhost:8080/"
        },
        "id": "XLJQKgDW3P9J",
        "outputId": "0bbc096e-115d-4fe7-b65c-2fcc7c19a4eb"
      },
      "id": "XLJQKgDW3P9J",
      "execution_count": 22,
      "outputs": [
        {
          "output_type": "stream",
          "name": "stdout",
          "text": [
            "Pandas read CSV:234.70519638061523\n",
            "Pandas total:240.13053679466248\n",
            "Pandas read CSV:228.73556089401245\n",
            "Pandas total:234.24643421173096\n",
            "Pandas read CSV:226.56128525733948\n",
            "Pandas total:232.29727935791016\n",
            "CPU times: user 10min 18s, sys: 1min 20s, total: 11min 38s\n",
            "Wall time: 11min 46s\n"
          ]
        }
      ]
    },
    {
      "cell_type": "markdown",
      "source": [
        "# Results"
      ],
      "metadata": {
        "id": "V0s5s7RRpXJn"
      },
      "id": "V0s5s7RRpXJn"
    },
    {
      "cell_type": "code",
      "source": [
        "# @title\n",
        "result = results.groupby(['Engine'])['duration'].sum().reset_index()\n",
        "result = result.sort_values(by = ['duration'], ascending=[True])\n",
        "from psutil import *\n",
        "vCPU = str(cpu_count()) + \" vCPU\"\n",
        "mem=round(virtual_memory().total/(1024 * 1024 * 1024),0)\n",
        "runtime = vCPU+' '+str(mem)+'GB'+ ', Transform '+ str(total_files)+' CSV files and save as Delta Table,Run date: '+ str(time.strftime(\"%Y-%m-%d\"))\n",
        "ax = result.plot.bar(rot=0,x='Engine',title=runtime,ylabel='Duration in Second, Lower is Better',figsize=(12,6))\n",
        "for c in ax.containers:\n",
        "    ax.bar_label(c, label_type='edge')"
      ],
      "metadata": {
        "colab": {
          "base_uri": "https://localhost:8080/",
          "height": 564
        },
        "id": "vgZE7ckvlDf8",
        "outputId": "84be83f9-00bf-4252-d3b3-1228e4ead20c"
      },
      "id": "vgZE7ckvlDf8",
      "execution_count": 23,
      "outputs": [
        {
          "output_type": "display_data",
          "data": {
            "text/plain": [
              "<Figure size 1200x600 with 1 Axes>"
            ],
            "image/png": "[encoded data removed]"
          },
          "metadata": {}
        }
      ]
    },
    {
      "cell_type": "markdown",
      "source": [
        "# Check Size"
      ],
      "metadata": {
        "id": "9f17QEFrqMxb"
      },
      "id": "9f17QEFrqMxb"
    },
    {
      "cell_type": "code",
      "source": [
        "# @title\n",
        "#the function read all the tables in the default Lakehouse and save it in a Table Delta_stats, change the url to reflect your destination\n",
        "import duckdb\n",
        "import pandas as pd\n",
        "from deltalake import DeltaTable\n",
        "import os\n",
        "from datetime import datetime\n",
        "from deltalake.writer import write_deltalake\n",
        "def get_stats(Source,Destination):\n",
        "    appended_data = []\n",
        "    List_tables = [ f.name for f in os.scandir(Source) if f.is_dir() ]\n",
        "    stat_table = os.path.basename(os.path.normpath(Destination))\n",
        "    if stat_table in List_tables: List_tables.remove(stat_table)\n",
        "    for tbl in List_tables :\n",
        "        dt = DeltaTable(Source+ tbl)\n",
        "        xx= dt.get_add_actions(flatten=True).to_pandas()\n",
        "        if 'tags.VORDER' in xx.columns:\n",
        "             vorder =True\n",
        "        else :\n",
        "             vorder =False\n",
        "        deltalog=pd.DataFrame([[tbl,xx['size_bytes'].sum(),vorder]],columns=['tbl','size_bytes','vorder'])\n",
        "        delta = [Source+tbl + \"/\" + i for i in dt.files()]\n",
        "        duckdb.sql(f'from parquet_scan({delta})').to_view(tbl)\n",
        "        print(tbl)\n",
        "        df= duckdb.sql(f'''\n",
        "        with x as (\n",
        "        select file_name,num_rows,num_row_groups, '{tbl}' as tbl from parquet_file_metadata({delta})\n",
        "        )\n",
        "        select x.tbl, file_name,num_rows,num_row_groups, ceil(size_bytes/(1024*1024)) as size,vorder from x\n",
        "        left join deltalog as y\n",
        "        on x.tbl=y.tbl\n",
        "         ''').df()\n",
        "        appended_data.append(df)\n",
        "    appended_data = pd.concat(appended_data,ignore_index=True)\n",
        "    appended_data['timestamp'] = datetime.now().strftime('%Y-%m-%d %H:%M:%S')\n",
        "    write_deltalake(Destination,appended_data,mode=\"overwrite\",storage_options={\"allow_unsafe_rename\":\"true\"})\n",
        "\n",
        "    dt = DeltaTable(Destination)\n",
        "    delta = [Destination + \"/\" + i for i in dt.files()]\n",
        "    duckdb.sql(f'from parquet_scan({delta})').to_view(\"xxx\")\n",
        "\n",
        "    duckdb.sql('''\n",
        "    select tbl,\n",
        "    sum(num_rows) as total_rows,\n",
        "    count(*) as num_files,\n",
        "    sum(num_row_groups) as num_row_group,\n",
        "    cast(ceil(total_rows/num_row_group) as integer) as Average_row_group,\n",
        "    min(size) as file_size_MB,\n",
        "    vorder\n",
        "    from xxx\n",
        "    group by all\n",
        "    order by file_size_MB ASC\n",
        "    ''').show()\n",
        "get_stats('/lakehouse/default/Tables/','/lakehouse/default/Files/xx_deltastats')"
      ],
      "metadata": {
        "colab": {
          "base_uri": "https://localhost:8080/"
        },
        "id": "i8xBZO3NqK8Z",
        "outputId": "83261468-75b2-4251-b140-e32ef2056208"
      },
      "id": "i8xBZO3NqK8Z",
      "execution_count": 24,
      "outputs": [
        {
          "output_type": "stream",
          "name": "stdout",
          "text": [
            "scada_DuckDB\n",
            "scada_ibis\n",
            "scada_Pandas\n",
            "scada_spark\n",
            "scada_Polars\n",
            "scada_Pyarrow\n",
            "┌───────────────┬────────────┬───────────┬───────────────┬───────────────────┬──────────────┬─────────┐\n",
            "│      tbl      │ total_rows │ num_files │ num_row_group │ Average_row_group │ file_size_MB │ vorder  │\n",
            "│    varchar    │   int128   │   int64   │    int128     │       int32       │    double    │ boolean │\n",
            "├───────────────┼────────────┼───────────┼───────────────┼───────────────────┼──────────────┼─────────┤\n",
            "│ scada_spark   │    8388240 │        30 │            30 │            279608 │         82.0 │ false   │\n",
            "│ scada_DuckDB  │    8388240 │         1 │           126 │             66574 │         85.0 │ false   │\n",
            "│ scada_ibis    │    8388240 │         1 │           126 │             66574 │         85.0 │ false   │\n",
            "│ scada_Pandas  │    8388240 │         3 │           123 │             68198 │         85.0 │ false   │\n",
            "│ scada_Pyarrow │    8388240 │         1 │           125 │             67106 │         85.0 │ false   │\n",
            "│ scada_Polars  │    8388240 │         3 │           129 │             65026 │         89.0 │ false   │\n",
            "└───────────────┴────────────┴───────────┴───────────────┴───────────────────┴──────────────┴─────────┘\n",
            "\n"
          ]
        }
      ]
    }
  ],
  "metadata": {
    "colab": {
      "provenance": [],
      "collapsed_sections": [
        "8LbA_eCFM-Zl",
        "sBkDAT9PhxIx",
        "Q2XJvQaels3N",
        "SF7CWQywYcnY"
      ]
    },
    "kernel_info": {
      "name": "synapse_pyspark"
    },
    "kernelspec": {
      "display_name": "Python 3",
      "language": "python",
      "name": "python3"
    },
    "language_info": {
      "codemirror_mode": {
        "name": "ipython",
        "version": 3
      },
      "file_extension": ".py",
      "mimetype": "text/x-python",
      "name": "python",
      "nbconvert_exporter": "python",
      "pygments_lexer": "ipython3",
      "version": "3.11.8"
    },
    "microsoft": {
      "language": "python",
      "ms_spell_check": {
        "ms_spell_check_language": "en"
      }
    },
    "notebook_environment": {},
    "nteract": {
      "version": "nteract-front-end@1.0.0"
    },
    "save_output": true,
    "spark_compute": {
      "compute_id": "/trident/default",
      "session_options": {
        "conf": {},
        "enableDebugMode": false
      }
    },
    "synapse_widget": {
      "state": {},
      "version": "0.1"
    },
    "trident": {
      "environment": {},
      "lakehouse": {
        "default_lakehouse": "24cb43a5-14e6-4971-80fd-1a42c0dcff1e",
        "default_lakehouse_name": "xxxx",
        "default_lakehouse_workspace_id": "16a10841-ac8e-49da-912e-bb1a4f38e274"
      }
    },
    "widgets": {
      "application/vnd.jupyter.widget-state+json": {
        "420363267b664605af3eccc70e6ac4e1": {
          "model_module": "@jupyter-widgets/controls",
          "model_name": "FloatProgressModel",
          "model_module_version": "1.5.0",
          "state": {
            "_dom_classes": [],
            "_model_module": "@jupyter-widgets/controls",
            "_model_module_version": "1.5.0",
            "_model_name": "FloatProgressModel",
            "_view_count": null,
            "_view_module": "@jupyter-widgets/controls",
            "_view_module_version": "1.5.0",
            "_view_name": "ProgressView",
            "bar_style": "",
            "description": "",
            "description_tooltip": null,
            "layout": "IPY_MODEL_960c29e7279949238305278788b7e452",
            "max": 100,
            "min": 0,
            "orientation": "horizontal",
            "style": "IPY_MODEL_1f463c49acbb4ccab6ef58bf757d5b41",
            "value": 99
          }
        },
        "960c29e7279949238305278788b7e452": {
          "model_module": "@jupyter-widgets/base",
          "model_name": "LayoutModel",
          "model_module_version": "1.2.0",
          "state": {
            "_model_module": "@jupyter-widgets/base",
            "_model_module_version": "1.2.0",
            "_model_name": "LayoutModel",
            "_view_count": null,
            "_view_module": "@jupyter-widgets/base",
            "_view_module_version": "1.2.0",
            "_view_name": "LayoutView",
            "align_content": null,
            "align_items": null,
            "align_self": null,
            "border": null,
            "bottom": null,
            "display": null,
            "flex": null,
            "flex_flow": null,
            "grid_area": null,
            "grid_auto_columns": null,
            "grid_auto_flow": null,
            "grid_auto_rows": null,
            "grid_column": null,
            "grid_gap": null,
            "grid_row": null,
            "grid_template_areas": null,
            "grid_template_columns": null,
            "grid_template_rows": null,
            "height": null,
            "justify_content": null,
            "justify_items": null,
            "left": null,
            "margin": null,
            "max_height": null,
            "max_width": null,
            "min_height": null,
            "min_width": null,
            "object_fit": null,
            "object_position": null,
            "order": null,
            "overflow": null,
            "overflow_x": null,
            "overflow_y": null,
            "padding": null,
            "right": null,
            "top": null,
            "visibility": null,
            "width": "auto"
          }
        },
        "1f463c49acbb4ccab6ef58bf757d5b41": {
          "model_module": "@jupyter-widgets/controls",
          "model_name": "ProgressStyleModel",
          "model_module_version": "1.5.0",
          "state": {
            "_model_module": "@jupyter-widgets/controls",
            "_model_module_version": "1.5.0",
            "_model_name": "ProgressStyleModel",
            "_view_count": null,
            "_view_module": "@jupyter-widgets/base",
            "_view_module_version": "1.2.0",
            "_view_name": "StyleView",
            "bar_color": "black",
            "description_width": ""
          }
        },
        "5dbe9e85414f4702b986de49c8c33da2": {
          "model_module": "@jupyter-widgets/controls",
          "model_name": "FloatProgressModel",
          "model_module_version": "1.5.0",
          "state": {
            "_dom_classes": [],
            "_model_module": "@jupyter-widgets/controls",
            "_model_module_version": "1.5.0",
            "_model_name": "FloatProgressModel",
            "_view_count": null,
            "_view_module": "@jupyter-widgets/controls",
            "_view_module_version": "1.5.0",
            "_view_name": "ProgressView",
            "bar_style": "",
            "description": "",
            "description_tooltip": null,
            "layout": "IPY_MODEL_94361f8eb9584c94998db669d58c5b44",
            "max": 100,
            "min": 0,
            "orientation": "horizontal",
            "style": "IPY_MODEL_950a9d1a7d084e9896cc31a120ac1b63",
            "value": 100
          }
        },
        "94361f8eb9584c94998db669d58c5b44": {
          "model_module": "@jupyter-widgets/base",
          "model_name": "LayoutModel",
          "model_module_version": "1.2.0",
          "state": {
            "_model_module": "@jupyter-widgets/base",
            "_model_module_version": "1.2.0",
            "_model_name": "LayoutModel",
            "_view_count": null,
            "_view_module": "@jupyter-widgets/base",
            "_view_module_version": "1.2.0",
            "_view_name": "LayoutView",
            "align_content": null,
            "align_items": null,
            "align_self": null,
            "border": null,
            "bottom": null,
            "display": null,
            "flex": null,
            "flex_flow": null,
            "grid_area": null,
            "grid_auto_columns": null,
            "grid_auto_flow": null,
            "grid_auto_rows": null,
            "grid_column": null,
            "grid_gap": null,
            "grid_row": null,
            "grid_template_areas": null,
            "grid_template_columns": null,
            "grid_template_rows": null,
            "height": null,
            "justify_content": null,
            "justify_items": null,
            "left": null,
            "margin": null,
            "max_height": null,
            "max_width": null,
            "min_height": null,
            "min_width": null,
            "object_fit": null,
            "object_position": null,
            "order": null,
            "overflow": null,
            "overflow_x": null,
            "overflow_y": null,
            "padding": null,
            "right": null,
            "top": null,
            "visibility": null,
            "width": "auto"
          }
        },
        "950a9d1a7d084e9896cc31a120ac1b63": {
          "model_module": "@jupyter-widgets/controls",
          "model_name": "ProgressStyleModel",
          "model_module_version": "1.5.0",
          "state": {
            "_model_module": "@jupyter-widgets/controls",
            "_model_module_version": "1.5.0",
            "_model_name": "ProgressStyleModel",
            "_view_count": null,
            "_view_module": "@jupyter-widgets/base",
            "_view_module_version": "1.2.0",
            "_view_name": "StyleView",
            "bar_color": "black",
            "description_width": ""
          }
        }
      }
    }
  },
  "nbformat": 4,
  "nbformat_minor": 5
}