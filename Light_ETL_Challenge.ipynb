{
  "cells": [
    {
      "cell_type": "code",
      "execution_count": 1,
      "id": "4fa98002-f7c6-4d4d-9664-3f492997b93f",
      "metadata": {
        "jupyter": {
          "outputs_hidden": false,
          "source_hidden": false
        },
        "nteract": {
          "transient": {
            "deleting": false
          }
        },
        "colab": {
          "base_uri": "https://localhost:8080/"
        },
        "id": "4fa98002-f7c6-4d4d-9664-3f492997b93f",
        "outputId": "4781c4d3-cb73-46c2-95b6-aa6bcad7ac69"
      },
      "outputs": [
        {
          "output_type": "stream",
          "name": "stdout",
          "text": [
            "Requirement already satisfied: duckdb in /usr/local/lib/python3.10/dist-packages (0.9.2)\n",
            "Collecting duckdb\n",
            "  Downloading duckdb-0.10.1-cp310-cp310-manylinux_2_17_x86_64.manylinux2014_x86_64.whl (18.1 MB)\n",
            "\u001b[2K     \u001b[90m━━━━━━━━━━━━━━━━━━━━━━━━━━━━━━━━━━━━━━━━\u001b[0m \u001b[32m18.1/18.1 MB\u001b[0m \u001b[31m37.0 MB/s\u001b[0m eta \u001b[36m0:00:00\u001b[0m\n",
            "\u001b[?25hInstalling collected packages: duckdb\n",
            "  Attempting uninstall: duckdb\n",
            "    Found existing installation: duckdb 0.9.2\n",
            "    Uninstalling duckdb-0.9.2:\n",
            "      Successfully uninstalled duckdb-0.9.2\n",
            "Successfully installed duckdb-0.10.1\n",
            "Collecting deltalake\n",
            "  Downloading deltalake-0.16.1-cp38-abi3-manylinux_2_17_x86_64.manylinux2014_x86_64.whl (25.2 MB)\n",
            "\u001b[2K     \u001b[90m━━━━━━━━━━━━━━━━━━━━━━━━━━━━━━━━━━━━━━━━\u001b[0m \u001b[32m25.2/25.2 MB\u001b[0m \u001b[31m24.2 MB/s\u001b[0m eta \u001b[36m0:00:00\u001b[0m\n",
            "\u001b[?25hRequirement already satisfied: pyarrow>=8 in /usr/local/lib/python3.10/dist-packages (from deltalake) (14.0.2)\n",
            "Requirement already satisfied: pyarrow-hotfix in /usr/local/lib/python3.10/dist-packages (from deltalake) (0.6)\n",
            "Requirement already satisfied: numpy>=1.16.6 in /usr/local/lib/python3.10/dist-packages (from pyarrow>=8->deltalake) (1.25.2)\n",
            "Installing collected packages: deltalake\n",
            "Successfully installed deltalake-0.16.1\n",
            "Requirement already satisfied: polars in /usr/local/lib/python3.10/dist-packages (0.20.2)\n",
            "Collecting polars\n",
            "  Downloading polars-0.20.16-cp38-abi3-manylinux_2_17_x86_64.manylinux2014_x86_64.whl (26.3 MB)\n",
            "\u001b[2K     \u001b[90m━━━━━━━━━━━━━━━━━━━━━━━━━━━━━━━━━━━━━━━━\u001b[0m \u001b[32m26.3/26.3 MB\u001b[0m \u001b[31m10.5 MB/s\u001b[0m eta \u001b[36m0:00:00\u001b[0m\n",
            "\u001b[?25hInstalling collected packages: polars\n",
            "  Attempting uninstall: polars\n",
            "    Found existing installation: polars 0.20.2\n",
            "    Uninstalling polars-0.20.2:\n",
            "      Successfully uninstalled polars-0.20.2\n",
            "Successfully installed polars-0.20.16\n"
          ]
        }
      ],
      "source": [
        "!pip install  duckdb --upgrade\n",
        "!pip install  deltalake --upgrade\n",
        "!pip install  polars --upgrade"
      ]
    },
    {
      "cell_type": "code",
      "execution_count": 2,
      "id": "815f881e-4109-431e-90cd-dab1a806132f",
      "metadata": {
        "jupyter": {
          "outputs_hidden": false,
          "source_hidden": false
        },
        "nteract": {
          "transient": {
            "deleting": false
          }
        },
        "colab": {
          "base_uri": "https://localhost:8080/"
        },
        "id": "815f881e-4109-431e-90cd-dab1a806132f",
        "outputId": "15dac087-06cf-42c7-ed72-89a2a80225ce"
      },
      "outputs": [
        {
          "output_type": "stream",
          "name": "stdout",
          "text": [
            "2 vCPU Memory:13.0\n"
          ]
        }
      ],
      "source": [
        "from psutil import *\n",
        "core = cpu_count()\n",
        "vCPU = str(core) + \" vCPU\"\n",
        "mem=round(virtual_memory().total/(1024 * 1024 * 1024),0)\n",
        "print(vCPU +' Memory:'+ str(mem))"
      ]
    },
    {
      "cell_type": "code",
      "execution_count": 3,
      "id": "C0_8e4OVo9vR",
      "metadata": {
        "id": "C0_8e4OVo9vR"
      },
      "outputs": [],
      "source": [
        "raw_landing='/lakehouse/default/Files/raw'"
      ]
    },
    {
      "cell_type": "markdown",
      "id": "ee4d52d4-761a-4e7b-993b-0889fda74a94",
      "metadata": {
        "id": "ee4d52d4-761a-4e7b-993b-0889fda74a94"
      },
      "source": [
        "# Download Data"
      ]
    },
    {
      "cell_type": "code",
      "execution_count": 4,
      "id": "28416977-0f39-41ca-aa84-9a5d42a6e519",
      "metadata": {
        "cellView": "form",
        "id": "28416977-0f39-41ca-aa84-9a5d42a6e519"
      },
      "outputs": [],
      "source": [
        "import re ,os\n",
        "import requests\n",
        "from urllib.request import urlopen\n",
        "def download(url,Path):\n",
        "    if not os.path.exists(Path):\n",
        "      os.makedirs(Path, exist_ok=True)\n",
        "    result = urlopen(url).read().decode('utf-8')\n",
        "    pattern = re.compile(r'[\\w.]*.zip')\n",
        "    filelist1 = pattern.findall(result)\n",
        "    filelist_unique = dict.fromkeys(filelist1)\n",
        "    print(str(len(filelist_unique)) + ' New File Loaded')\n",
        "    if len(filelist_unique) != 0 :\n",
        "      for x in filelist_unique:\n",
        "           with requests.get(url+x, stream=True) as resp:\n",
        "            if resp.ok:\n",
        "              with open(f\"{Path}/{x}\", \"wb\") as f:\n",
        "               for chunk in resp.iter_content(chunk_size=4096):\n",
        "                f.write(chunk)\n",
        "    return \"done\""
      ]
    },
    {
      "cell_type": "code",
      "execution_count": 5,
      "id": "763976ff-0476-412d-95f8-2604fd9dcf73",
      "metadata": {
        "colab": {
          "base_uri": "https://localhost:8080/",
          "height": 54
        },
        "id": "763976ff-0476-412d-95f8-2604fd9dcf73",
        "outputId": "22fab7fd-157b-4731-9384-f05feb5ac96e"
      },
      "outputs": [
        {
          "output_type": "stream",
          "name": "stdout",
          "text": [
            "60 New File Loaded\n"
          ]
        },
        {
          "output_type": "execute_result",
          "data": {
            "text/plain": [
              "'done'"
            ],
            "application/vnd.google.colaboratory.intrinsic+json": {
              "type": "string"
            }
          },
          "metadata": {},
          "execution_count": 5
        }
      ],
      "source": [
        "download(\"https://nemweb.com.au/Reports/Current/Daily_Reports/\",raw_landing+\"/zip/\")"
      ]
    },
    {
      "cell_type": "markdown",
      "id": "4d20ed8d-8b3f-462b-a866-8736eab45789",
      "metadata": {
        "id": "4d20ed8d-8b3f-462b-a866-8736eab45789"
      },
      "source": [
        "_**UNZIP**_"
      ]
    },
    {
      "cell_type": "code",
      "execution_count": 6,
      "id": "3b5f3047-8010-41ba-8e30-396e26de0e81",
      "metadata": {
        "cellView": "form",
        "id": "3b5f3047-8010-41ba-8e30-396e26de0e81"
      },
      "outputs": [],
      "source": [
        "from shutil import unpack_archive\n",
        "import os , glob\n",
        "def unzip(Source, Destination):\n",
        "    filelist=[os.path.basename(x) for x in glob.glob(Source+'*.zip')]\n",
        "    for x in filelist:\n",
        "          try:\n",
        "            unpack_archive(str(Source+x), str(Destination), 'zip')\n",
        "          except:\n",
        "            pass\n",
        "    return \"done\""
      ]
    },
    {
      "cell_type": "code",
      "execution_count": 7,
      "id": "f6536736-55ec-4af9-a603-17a4e779af7a",
      "metadata": {
        "colab": {
          "base_uri": "https://localhost:8080/",
          "height": 36
        },
        "id": "f6536736-55ec-4af9-a603-17a4e779af7a",
        "outputId": "fc5a8ecf-c9f8-4184-d90f-4e88e58315bf"
      },
      "outputs": [
        {
          "output_type": "execute_result",
          "data": {
            "text/plain": [
              "'done'"
            ],
            "application/vnd.google.colaboratory.intrinsic+json": {
              "type": "string"
            }
          },
          "metadata": {},
          "execution_count": 7
        }
      ],
      "source": [
        "unzip(raw_landing+\"/zip/\",raw_landing+\"/csv/\")"
      ]
    },
    {
      "cell_type": "markdown",
      "id": "8LbA_eCFM-Zl",
      "metadata": {
        "id": "8LbA_eCFM-Zl"
      },
      "source": [
        "# Data Transformation"
      ]
    },
    {
      "cell_type": "markdown",
      "id": "3553a797-a6c5-4d06-ba5f-2e044d0b5bf2",
      "metadata": {
        "nteract": {
          "transient": {
            "deleting": false
          }
        },
        "id": "3553a797-a6c5-4d06-ba5f-2e044d0b5bf2"
      },
      "source": [
        "_**DuckDB**_"
      ]
    },
    {
      "cell_type": "code",
      "execution_count": 8,
      "id": "21256ca2-634e-4d44-ae45-4e1850258ad1",
      "metadata": {
        "jupyter": {
          "outputs_hidden": false,
          "source_hidden": false
        },
        "nteract": {
          "transient": {
            "deleting": false
          }
        },
        "colab": {
          "base_uri": "https://localhost:8080/",
          "height": 85,
          "referenced_widgets": [
            "37fe61526b6b48d0972f0bd427b88ae9",
            "8f8e84469d7440af9bddfabf085bbb43",
            "46697e3c50394fbbb5bf102d688a0fa0"
          ]
        },
        "id": "21256ca2-634e-4d44-ae45-4e1850258ad1",
        "outputId": "ad5acebc-f43f-4bac-ccb0-c3016fd0dc40"
      },
      "outputs": [
        {
          "output_type": "display_data",
          "data": {
            "text/plain": [
              "FloatProgress(value=0.0, layout=Layout(width='auto'), style=ProgressStyle(bar_color='black'))"
            ],
            "application/vnd.jupyter.widget-view+json": {
              "version_major": 2,
              "version_minor": 0,
              "model_id": "37fe61526b6b48d0972f0bd427b88ae9"
            }
          },
          "metadata": {}
        },
        {
          "output_type": "stream",
          "name": "stdout",
          "text": [
            "CPU times: user 1min 48s, sys: 14.1 s, total: 2min 2s\n",
            "Wall time: 1min 27s\n"
          ]
        }
      ],
      "source": [
        "%%time\n",
        "from deltalake.writer import write_deltalake\n",
        "import duckdb\n",
        "raw =duckdb.sql(f\"\"\"from read_csv('{raw_landing}/csv/*.CSV',\n",
        "    Skip=1,header =0,\n",
        "    all_varchar=1,\n",
        "    columns={{\n",
        "    'I': 'VARCHAR','UNIT': 'VARCHAR','XX': 'VARCHAR','VERSION': 'VARCHAR','SETTLEMENTDATE': 'VARCHAR','RUNNO': 'VARCHAR',\n",
        "    'DUID': 'VARCHAR','INTERVENTION': 'VARCHAR','DISPATCHMODE': 'VARCHAR','AGCSTATUS': 'VARCHAR','INITIALMW': 'VARCHAR',\n",
        "    'TOTALCLEARED': 'VARCHAR','RAMPDOWNRATE': 'VARCHAR','RAMPUPRATE': 'VARCHAR','LOWER5MIN': 'VARCHAR',\n",
        "    'LOWER60SEC': 'VARCHAR','LOWER6SEC': 'VARCHAR','RAISE5MIN': 'VARCHAR','RAISE60SEC': 'VARCHAR',\n",
        "    'RAISE6SEC': 'VARCHAR','MARGINAL5MINVALUE': 'VARCHAR','MARGINAL60SECVALUE': 'VARCHAR',\n",
        "    'MARGINAL6SECVALUE': 'VARCHAR','MARGINALVALUE': 'VARCHAR','VIOLATION5MINDEGREE': 'VARCHAR',\n",
        "    'VIOLATION60SECDEGREE': 'VARCHAR','VIOLATION6SECDEGREE': 'VARCHAR','VIOLATIONDEGREE': 'VARCHAR',\n",
        "    'LOWERREG': 'VARCHAR','RAISEREG': 'VARCHAR','AVAILABILITY': 'VARCHAR','RAISE6SECFLAGS': 'VARCHAR',\n",
        "    'RAISE60SECFLAGS': 'VARCHAR','RAISE5MINFLAGS': 'VARCHAR','RAISEREGFLAGS': 'VARCHAR',\n",
        "    'LOWER6SECFLAGS': 'VARCHAR','LOWER60SECFLAGS': 'VARCHAR','LOWER5MINFLAGS': 'VARCHAR',\n",
        "    'LOWERREGFLAGS': 'VARCHAR','RAISEREGAVAILABILITY': 'VARCHAR','RAISEREGENABLEMENTMAX': 'VARCHAR',\n",
        "    'RAISEREGENABLEMENTMIN': 'VARCHAR','LOWERREGAVAILABILITY': 'VARCHAR','LOWERREGENABLEMENTMAX': 'VARCHAR',\n",
        "    'LOWERREGENABLEMENTMIN': 'VARCHAR','RAISE6SECACTUALAVAILABILITY': 'VARCHAR',\n",
        "    'RAISE60SECACTUALAVAILABILITY': 'VARCHAR','RAISE5MINACTUALAVAILABILITY': 'VARCHAR',\n",
        "    'RAISEREGACTUALAVAILABILITY': 'VARCHAR','LOWER6SECACTUALAVAILABILITY': 'VARCHAR',\n",
        "    'LOWER60SECACTUALAVAILABILITY': 'VARCHAR','LOWER5MINACTUALAVAILABILITY': 'VARCHAR','LOWERREGACTUALAVAILABILITY': 'VARCHAR'\n",
        "    }},\n",
        "    filename =1,null_padding = true,ignore_errors=1,auto_detect=false)\n",
        "    --- to extract the data you need to apply those filters\n",
        "    where I='D' and UNIT ='DUNIT' AND VERSION = 3                  \"\"\")\n",
        "columns = list(set(raw.columns) - {'SETTLEMENTDATE','DUID','I','filename','UNIT'})\n",
        "exprs = [\n",
        "      duckdb.ColumnExpression(x).cast(duckdb.typing.DOUBLE).alias(x)\n",
        "      for x in columns\n",
        "       ]\n",
        "rel2 = raw.select('SETTLEMENTDATE','DUID','I','filename','UNIT',*exprs)\n",
        "final_scada=duckdb.sql(\"\"\" select *exclude(SETTLEMENTDATE,I,XX,filename),\n",
        "    cast (SETTLEMENTDATE as timestamp) as SETTLEMENTDATE,\n",
        "    parse_filename(filename) as filename,\n",
        "    isoyear (cast (SETTLEMENTDATE as timestamp)) as YEAR  from rel2  \"\"\")\n",
        "\n",
        "write_deltalake(\"/lakehouse/default/Tables/scada_duckdb\",final_scada.arrow(),\n",
        "mode=\"overwrite\",engine='rust',partition_by=['YEAR'],storage_options={\"allow_unsafe_rename\":\"true\"})"
      ]
    },
    {
      "cell_type": "markdown",
      "id": "f2293264-ec0e-42eb-b205-785a15904130",
      "metadata": {
        "nteract": {
          "transient": {
            "deleting": false
          }
        },
        "id": "f2293264-ec0e-42eb-b205-785a15904130"
      },
      "source": [
        "_**Polars**_"
      ]
    },
    {
      "cell_type": "code",
      "execution_count": 9,
      "id": "ca89eb3a-a145-468f-8490-1a6ba970a25a",
      "metadata": {
        "jupyter": {
          "outputs_hidden": false,
          "source_hidden": false
        },
        "nteract": {
          "transient": {
            "deleting": false
          }
        },
        "colab": {
          "base_uri": "https://localhost:8080/"
        },
        "id": "ca89eb3a-a145-468f-8490-1a6ba970a25a",
        "outputId": "af7e947f-68e4-4bb9-92ea-4147335d15c9"
      },
      "outputs": [
        {
          "output_type": "stream",
          "name": "stdout",
          "text": [
            "CPU times: user 1min 35s, sys: 35.6 s, total: 2min 10s\n",
            "Wall time: 2min 20s\n"
          ]
        }
      ],
      "source": [
        "%%time\n",
        "#work in progress, I don't know how to parse datetime and read a csv with variable column numbers\n",
        "import polars as pl\n",
        "colmn=[\n",
        "'I','UNIT','XX','VERSION','SETTLEMENTDATE','RUNNO',\n",
        "    'DUID','INTERVENTION','DISPATCHMODE','AGCSTATUS','INITIALMW',\n",
        "    'TOTALCLEARED','RAMPDOWNRATE','RAMPUPRATE','LOWER5MIN',\n",
        "    'LOWER60SEC','LOWER6SEC','RAISE5MIN','RAISE60SEC',\n",
        "    'RAISE6SEC','MARGINAL5MINVALUE','MARGINAL60SECVALUE',\n",
        "    'MARGINAL6SECVALUE','MARGINALVALUE','VIOLATION5MINDEGREE'\n",
        "]\n",
        "raw = pl.scan_csv(f'{raw_landing}/csv/*.CSV',skip_rows=1, new_columns=colmn,has_header=False, infer_schema_length=0,truncate_ragged_lines=True)\n",
        "transform =(\n",
        "    raw\n",
        "    .filter(pl.col(\"I\")=='D')\n",
        "    .filter(pl.col(\"UNIT\")=='DUNIT')\n",
        "    .filter(pl.col(\"VERSION\")=='3')\n",
        "    .drop(\"XX\")\n",
        "    .drop(\"I\")\n",
        ")\n",
        "#transform=transform.with_columns(pl.col('SETTLEMENTDATE').str.strptime(pl.Date, 'yyyy/MM/dd HH:mm:ss').cast(pl.Datetime))\n",
        "columns = list(set(transform.columns) - {'SETTLEMENTDATE','DUID','UNIT'})\n",
        "for x in columns:\n",
        "   transform=transform.with_columns(pl.col(x).cast(pl.Float64))\n",
        "transform.collect(streaming=True)\n",
        "write_deltalake(\"/lakehouse/default/Tables/scada_polars\",transform.collect(streaming=True).to_arrow(),\n",
        "mode=\"overwrite\",engine='rust',storage_options={\"allow_unsafe_rename\":\"true\"})"
      ]
    }
  ],
  "metadata": {
    "colab": {
      "provenance": []
    },
    "kernel_info": {
      "name": "synapse_pyspark"
    },
    "kernelspec": {
      "display_name": "Python 3",
      "language": "python",
      "name": "python3"
    },
    "language_info": {
      "codemirror_mode": {
        "name": "ipython",
        "version": 3
      },
      "file_extension": ".py",
      "mimetype": "text/x-python",
      "name": "python",
      "nbconvert_exporter": "python",
      "pygments_lexer": "ipython3",
      "version": "3.11.8"
    },
    "microsoft": {
      "language": "python",
      "ms_spell_check": {
        "ms_spell_check_language": "en"
      }
    },
    "notebook_environment": {},
    "nteract": {
      "version": "nteract-front-end@1.0.0"
    },
    "save_output": true,
    "spark_compute": {
      "compute_id": "/trident/default",
      "session_options": {
        "conf": {},
        "enableDebugMode": false
      }
    },
    "synapse_widget": {
      "state": {},
      "version": "0.1"
    },
    "trident": {
      "environment": {},
      "lakehouse": {
        "default_lakehouse": "24cb43a5-14e6-4971-80fd-1a42c0dcff1e",
        "default_lakehouse_name": "xxxx",
        "default_lakehouse_workspace_id": "16a10841-ac8e-49da-912e-bb1a4f38e274"
      }
    },
    "widgets": {
      "application/vnd.jupyter.widget-state+json": {
        "37fe61526b6b48d0972f0bd427b88ae9": {
          "model_module": "@jupyter-widgets/controls",
          "model_name": "FloatProgressModel",
          "model_module_version": "1.5.0",
          "state": {
            "_dom_classes": [],
            "_model_module": "@jupyter-widgets/controls",
            "_model_module_version": "1.5.0",
            "_model_name": "FloatProgressModel",
            "_view_count": null,
            "_view_module": "@jupyter-widgets/controls",
            "_view_module_version": "1.5.0",
            "_view_name": "ProgressView",
            "bar_style": "",
            "description": "",
            "description_tooltip": null,
            "layout": "IPY_MODEL_8f8e84469d7440af9bddfabf085bbb43",
            "max": 100,
            "min": 0,
            "orientation": "horizontal",
            "style": "IPY_MODEL_46697e3c50394fbbb5bf102d688a0fa0",
            "value": 100
          }
        },
        "8f8e84469d7440af9bddfabf085bbb43": {
          "model_module": "@jupyter-widgets/base",
          "model_name": "LayoutModel",
          "model_module_version": "1.2.0",
          "state": {
            "_model_module": "@jupyter-widgets/base",
            "_model_module_version": "1.2.0",
            "_model_name": "LayoutModel",
            "_view_count": null,
            "_view_module": "@jupyter-widgets/base",
            "_view_module_version": "1.2.0",
            "_view_name": "LayoutView",
            "align_content": null,
            "align_items": null,
            "align_self": null,
            "border": null,
            "bottom": null,
            "display": null,
            "flex": null,
            "flex_flow": null,
            "grid_area": null,
            "grid_auto_columns": null,
            "grid_auto_flow": null,
            "grid_auto_rows": null,
            "grid_column": null,
            "grid_gap": null,
            "grid_row": null,
            "grid_template_areas": null,
            "grid_template_columns": null,
            "grid_template_rows": null,
            "height": null,
            "justify_content": null,
            "justify_items": null,
            "left": null,
            "margin": null,
            "max_height": null,
            "max_width": null,
            "min_height": null,
            "min_width": null,
            "object_fit": null,
            "object_position": null,
            "order": null,
            "overflow": null,
            "overflow_x": null,
            "overflow_y": null,
            "padding": null,
            "right": null,
            "top": null,
            "visibility": null,
            "width": "auto"
          }
        },
        "46697e3c50394fbbb5bf102d688a0fa0": {
          "model_module": "@jupyter-widgets/controls",
          "model_name": "ProgressStyleModel",
          "model_module_version": "1.5.0",
          "state": {
            "_model_module": "@jupyter-widgets/controls",
            "_model_module_version": "1.5.0",
            "_model_name": "ProgressStyleModel",
            "_view_count": null,
            "_view_module": "@jupyter-widgets/base",
            "_view_module_version": "1.2.0",
            "_view_name": "StyleView",
            "bar_color": "black",
            "description_width": ""
          }
        }
      }
    }
  },
  "nbformat": 4,
  "nbformat_minor": 5
}