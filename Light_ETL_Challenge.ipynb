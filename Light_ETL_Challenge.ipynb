{
  "cells": [
    {
      "cell_type": "code",
      "execution_count": null,
      "id": "4fa98002-f7c6-4d4d-9664-3f492997b93f",
      "metadata": {
        "jupyter": {
          "outputs_hidden": false,
          "source_hidden": false
        },
        "nteract": {
          "transient": {
            "deleting": false
          }
        },
        "id": "4fa98002-f7c6-4d4d-9664-3f492997b93f"
      },
      "outputs": [],
      "source": [
        "!pip install  duckdb --upgrade --pre\n",
        "!pip install  deltalake --upgrade\n",
        "!pip install  polars --upgrade --pre"
      ]
    },
    {
      "cell_type": "code",
      "execution_count": null,
      "id": "815f881e-4109-431e-90cd-dab1a806132f",
      "metadata": {
        "jupyter": {
          "outputs_hidden": false,
          "source_hidden": false
        },
        "nteract": {
          "transient": {
            "deleting": false
          }
        },
        "colab": {
          "base_uri": "https://localhost:8080/"
        },
        "id": "815f881e-4109-431e-90cd-dab1a806132f",
        "outputId": "2d5c42e5-c8ed-4f6a-8a7a-0bf0e3cc0b2c"
      },
      "outputs": [
        {
          "output_type": "stream",
          "name": "stdout",
          "text": [
            "2 vCPU Memory:13.0\n"
          ]
        }
      ],
      "source": [
        "from psutil import *\n",
        "core = cpu_count()\n",
        "vCPU = str(core) + \" vCPU\"\n",
        "mem=round(virtual_memory().total/(1024 * 1024 * 1024),0)\n",
        "print(vCPU +' Memory:'+ str(mem))"
      ]
    },
    {
      "cell_type": "code",
      "execution_count": null,
      "id": "C0_8e4OVo9vR",
      "metadata": {
        "id": "C0_8e4OVo9vR"
      },
      "outputs": [],
      "source": [
        "raw_landing='/lakehouse/default/Files/raw'"
      ]
    },
    {
      "cell_type": "markdown",
      "id": "ee4d52d4-761a-4e7b-993b-0889fda74a94",
      "metadata": {
        "id": "ee4d52d4-761a-4e7b-993b-0889fda74a94"
      },
      "source": [
        "# Download Data"
      ]
    },
    {
      "cell_type": "code",
      "execution_count": null,
      "id": "28416977-0f39-41ca-aa84-9a5d42a6e519",
      "metadata": {
        "cellView": "form",
        "id": "28416977-0f39-41ca-aa84-9a5d42a6e519"
      },
      "outputs": [],
      "source": [
        "import re ,os\n",
        "import requests\n",
        "from urllib.request import urlopen\n",
        "def download(url,Path):\n",
        "    if not os.path.exists(Path):\n",
        "      os.makedirs(Path, exist_ok=True)\n",
        "    result = urlopen(url).read().decode('utf-8')\n",
        "    pattern = re.compile(r'[\\w.]*.zip')\n",
        "    filelist1 = pattern.findall(result)\n",
        "    filelist_unique = dict.fromkeys(filelist1)\n",
        "    print(str(len(filelist_unique)) + ' New File Loaded')\n",
        "    if len(filelist_unique) != 0 :\n",
        "      for x in filelist_unique:\n",
        "           with requests.get(url+x, stream=True) as resp:\n",
        "            if resp.ok:\n",
        "              with open(f\"{Path}/{x}\", \"wb\") as f:\n",
        "               for chunk in resp.iter_content(chunk_size=4096):\n",
        "                f.write(chunk)\n",
        "    return \"done\""
      ]
    },
    {
      "cell_type": "code",
      "execution_count": null,
      "id": "763976ff-0476-412d-95f8-2604fd9dcf73",
      "metadata": {
        "colab": {
          "base_uri": "https://localhost:8080/"
        },
        "id": "763976ff-0476-412d-95f8-2604fd9dcf73",
        "outputId": "fbad4778-d4cb-4512-93ee-2e7e5da4ba1c"
      },
      "outputs": [
        {
          "output_type": "stream",
          "name": "stdout",
          "text": [
            "60 New File Loaded\n"
          ]
        },
        {
          "output_type": "execute_result",
          "data": {
            "text/plain": [
              "'done'"
            ],
            "application/vnd.google.colaboratory.intrinsic+json": {
              "type": "string"
            }
          },
          "metadata": {},
          "execution_count": 5
        }
      ],
      "source": [
        "download(\"https://nemweb.com.au/Reports/Current/Daily_Reports/\",raw_landing+\"/zip/\")"
      ]
    },
    {
      "cell_type": "markdown",
      "id": "4d20ed8d-8b3f-462b-a866-8736eab45789",
      "metadata": {
        "id": "4d20ed8d-8b3f-462b-a866-8736eab45789"
      },
      "source": [
        "_**UNZIP**_"
      ]
    },
    {
      "cell_type": "code",
      "execution_count": null,
      "id": "3b5f3047-8010-41ba-8e30-396e26de0e81",
      "metadata": {
        "cellView": "form",
        "id": "3b5f3047-8010-41ba-8e30-396e26de0e81"
      },
      "outputs": [],
      "source": [
        "from shutil import unpack_archive\n",
        "import os , glob\n",
        "def unzip(Source, Destination):\n",
        "    filelist=[os.path.basename(x) for x in glob.glob(Source+'*.zip')]\n",
        "    for x in filelist:\n",
        "          try:\n",
        "            unpack_archive(str(Source+x), str(Destination), 'zip')\n",
        "          except:\n",
        "            pass\n",
        "    return \"done\""
      ]
    },
    {
      "cell_type": "code",
      "execution_count": null,
      "id": "f6536736-55ec-4af9-a603-17a4e779af7a",
      "metadata": {
        "colab": {
          "base_uri": "https://localhost:8080/"
        },
        "id": "f6536736-55ec-4af9-a603-17a4e779af7a",
        "outputId": "317e9667-8c4e-4422-c29f-13286ee559de"
      },
      "outputs": [
        {
          "output_type": "execute_result",
          "data": {
            "text/plain": [
              "'done'"
            ],
            "application/vnd.google.colaboratory.intrinsic+json": {
              "type": "string"
            }
          },
          "metadata": {},
          "execution_count": 7
        }
      ],
      "source": [
        "unzip(raw_landing+\"/zip/\",raw_landing+\"/csv/\")"
      ]
    },
    {
      "cell_type": "markdown",
      "id": "8LbA_eCFM-Zl",
      "metadata": {
        "id": "8LbA_eCFM-Zl"
      },
      "source": [
        "# DuckDB"
      ]
    },
    {
      "cell_type": "code",
      "execution_count": 10,
      "id": "21256ca2-634e-4d44-ae45-4e1850258ad1",
      "metadata": {
        "jupyter": {
          "outputs_hidden": false,
          "source_hidden": false
        },
        "nteract": {
          "transient": {
            "deleting": false
          }
        },
        "id": "21256ca2-634e-4d44-ae45-4e1850258ad1",
        "colab": {
          "base_uri": "https://localhost:8080/"
        },
        "outputId": "be66bcf3-00e2-4323-a76c-38fded26f43c"
      },
      "outputs": [
        {
          "output_type": "stream",
          "name": "stdout",
          "text": [
            "CPU times: user 107 ms, sys: 10.8 ms, total: 117 ms\n",
            "Wall time: 119 ms\n"
          ]
        }
      ],
      "source": [
        "%%time\n",
        "import duckdb\n",
        "from deltalake.writer import write_deltalake\n",
        "def duckdb_clean_csv(x):\n",
        "\traw =duckdb.sql(F\"\"\"from read_csv({x},\n",
        "\tSkip=1,header =0,all_varchar=1,\n",
        "\tcolumns={{\n",
        "\t'I': 'VARCHAR','UNIT': 'VARCHAR','XX': 'VARCHAR','VERSION': 'VARCHAR','SETTLEMENTDATE': 'VARCHAR','RUNNO': 'VARCHAR',\n",
        "\t'DUID': 'VARCHAR','INTERVENTION': 'VARCHAR','DISPATCHMODE': 'VARCHAR','AGCSTATUS': 'VARCHAR','INITIALMW': 'VARCHAR',\n",
        "\t'TOTALCLEARED': 'VARCHAR','RAMPDOWNRATE': 'VARCHAR','RAMPUPRATE': 'VARCHAR','LOWER5MIN': 'VARCHAR',\n",
        "\t'LOWER60SEC': 'VARCHAR','LOWER6SEC': 'VARCHAR','RAISE5MIN': 'VARCHAR','RAISE60SEC': 'VARCHAR',\n",
        "\t'RAISE6SEC': 'VARCHAR','MARGINAL5MINVALUE': 'VARCHAR','MARGINAL60SECVALUE': 'VARCHAR',\n",
        "\t'MARGINAL6SECVALUE': 'VARCHAR','MARGINALVALUE': 'VARCHAR','VIOLATION5MINDEGREE': 'VARCHAR',\n",
        "\t'VIOLATION60SECDEGREE': 'VARCHAR','VIOLATION6SECDEGREE': 'VARCHAR','VIOLATIONDEGREE': 'VARCHAR',\n",
        "\t'LOWERREG': 'VARCHAR','RAISEREG': 'VARCHAR','AVAILABILITY': 'VARCHAR','RAISE6SECFLAGS': 'VARCHAR',\n",
        "\t'RAISE60SECFLAGS': 'VARCHAR','RAISE5MINFLAGS': 'VARCHAR','RAISEREGFLAGS': 'VARCHAR',\n",
        "\t'LOWER6SECFLAGS': 'VARCHAR','LOWER60SECFLAGS': 'VARCHAR','LOWER5MINFLAGS': 'VARCHAR',\n",
        "\t'LOWERREGFLAGS': 'VARCHAR','RAISEREGAVAILABILITY': 'VARCHAR','RAISEREGENABLEMENTMAX': 'VARCHAR',\n",
        "\t'RAISEREGENABLEMENTMIN': 'VARCHAR','LOWERREGAVAILABILITY': 'VARCHAR','LOWERREGENABLEMENTMAX': 'VARCHAR',\n",
        "\t'LOWERREGENABLEMENTMIN': 'VARCHAR','RAISE6SECACTUALAVAILABILITY': 'VARCHAR',\n",
        "\t'RAISE60SECACTUALAVAILABILITY': 'VARCHAR','RAISE5MINACTUALAVAILABILITY': 'VARCHAR',\n",
        "\t'RAISEREGACTUALAVAILABILITY': 'VARCHAR','LOWER6SECACTUALAVAILABILITY': 'VARCHAR',\n",
        "\t'LOWER60SECACTUALAVAILABILITY': 'VARCHAR','LOWER5MINACTUALAVAILABILITY': 'VARCHAR','LOWERREGACTUALAVAILABILITY': 'VARCHAR'\n",
        "\t}},\n",
        "\tfilename =1,null_padding = true,ignore_errors=1,auto_detect=false)\n",
        "\twhere I='D' and UNIT ='DUNIT' AND VERSION = 3                  \"\"\")\n",
        "\tcolumns = list(set(raw.columns) - {'SETTLEMENTDATE','DUID','I','filename','UNIT'})\n",
        "\texprs = [\n",
        "\t\tduckdb.ColumnExpression(x).cast(duckdb.typing.DOUBLE).alias(x)\n",
        "\t\tfor x in columns\n",
        "\t         ]\n",
        "\trel2 = raw.select('SETTLEMENTDATE','DUID','I','filename','UNIT',*exprs)\n",
        "\n",
        "\tscada=duckdb.sql(\"\"\" select *exclude(SETTLEMENTDATE,I,XX,filename),cast (SETTLEMENTDATE as TIMESTAMPTZ) as SETTLEMENTDATE,\n",
        "\tisoyear (cast (SETTLEMENTDATE as timestamp)) as YEAR  from rel2  \"\"\")\n",
        "\treturn scada.arrow()\n",
        ""
      ]
    },
    {
      "cell_type": "markdown",
      "source": [
        "# Polars"
      ],
      "metadata": {
        "id": "sBkDAT9PhxIx"
      },
      "id": "sBkDAT9PhxIx"
    },
    {
      "cell_type": "code",
      "execution_count": 11,
      "id": "ca89eb3a-a145-468f-8490-1a6ba970a25a",
      "metadata": {
        "jupyter": {
          "outputs_hidden": false,
          "source_hidden": false
        },
        "nteract": {
          "transient": {
            "deleting": false
          }
        },
        "id": "ca89eb3a-a145-468f-8490-1a6ba970a25a",
        "colab": {
          "base_uri": "https://localhost:8080/"
        },
        "outputId": "c9a33801-01f2-4796-851e-5ae981befd4b"
      },
      "outputs": [
        {
          "output_type": "stream",
          "name": "stdout",
          "text": [
            "CPU times: user 14 µs, sys: 0 ns, total: 14 µs\n",
            "Wall time: 18.4 µs\n"
          ]
        }
      ],
      "source": [
        "%%time\n",
        "import polars as pl\n",
        "def polars_clean_csv(x):\n",
        "  schema ={'I': pl.String,'UNIT': pl.String,'XX': pl.String,'VERSION': pl.String,'SETTLEMENTDATE': pl.String,'RUNNO': pl.String,\n",
        "    'DUID': pl.String,'INTERVENTION': pl.String,'DISPATCHMODE': pl.String,'AGCSTATUS': pl.String,'INITIALMW': pl.String,\n",
        "    'TOTALCLEARED': pl.String,'RAMPDOWNRATE': pl.String,'RAMPUPRATE': pl.String,'LOWER5MIN': pl.String,\n",
        "    'LOWER60SEC': pl.String,'LOWER6SEC': pl.String,'RAISE5MIN': pl.String,'RAISE60SEC': pl.String,\n",
        "    'RAISE6SEC': pl.String,'MARGINAL5MINVALUE': pl.String,'MARGINAL60SECVALUE': pl.String,\n",
        "    'MARGINAL6SECVALUE': pl.String,'MARGINALVALUE': pl.String,'VIOLATION5MINDEGREE': pl.String,\n",
        "    'VIOLATION60SECDEGREE': pl.String,'VIOLATION6SECDEGREE': pl.String,'VIOLATIONDEGREE': pl.String,\n",
        "    'LOWERREG': pl.String,'RAISEREG': pl.String,'AVAILABILITY': pl.String,'RAISE6SECFLAGS': pl.String,\n",
        "    'RAISE60SECFLAGS': pl.String,'RAISE5MINFLAGS': pl.String,'RAISEREGFLAGS': pl.String,\n",
        "    'LOWER6SECFLAGS': pl.String,'LOWER60SECFLAGS': pl.String,'LOWER5MINFLAGS': pl.String,\n",
        "    'LOWERREGFLAGS': pl.String,'RAISEREGAVAILABILITY': pl.String,'RAISEREGENABLEMENTMAX': pl.String,\n",
        "    'RAISEREGENABLEMENTMIN': pl.String,'LOWERREGAVAILABILITY': pl.String,'LOWERREGENABLEMENTMAX': pl.String,\n",
        "    'LOWERREGENABLEMENTMIN': pl.String,'RAISE6SECACTUALAVAILABILITY': pl.String,\n",
        "    'RAISE60SECACTUALAVAILABILITY': pl.String,'RAISE5MINACTUALAVAILABILITY': pl.String,\n",
        "    'RAISEREGACTUALAVAILABILITY': pl.String,'LOWER6SECACTUALAVAILABILITY': pl.String,\n",
        "    'LOWER60SECACTUALAVAILABILITY': pl.String,'LOWER5MINACTUALAVAILABILITY': pl.String,'LOWERREGACTUALAVAILABILITY': pl.String}\n",
        "  raw = pl.scan_csv(x,\n",
        "                    skip_rows=1,\n",
        "                    schema=schema,\n",
        "                    has_header=False,\n",
        "                    truncate_ragged_lines=True)\n",
        "  transform =(\n",
        "      raw\n",
        "      .filter(pl.col(\"I\")=='D')\n",
        "      .filter(pl.col(\"UNIT\")=='DUNIT')\n",
        "      .filter(pl.col(\"VERSION\")=='3')\n",
        "      .drop(\"XX\")\n",
        "      .drop(\"I\")\n",
        "  )\n",
        "  z = transform.with_columns(pl.col(\"SETTLEMENTDATE\").str.to_datetime())\n",
        "  columns = list(set(transform.columns) - {'SETTLEMENTDATE','DUID','UNIT'})\n",
        "  final=z.with_columns(pl.col(columns).cast(pl.Float64),YEAR=pl.col(\"SETTLEMENTDATE\").dt.iso_year()).collect()\n",
        "  final.write_delta(\"/lakehouse/default/Tables/scada_polars\", mode=\"append\",delta_write_options={\"partition_by\" : ['YEAR']},storage_options={\"allow_unsafe_rename\":\"true\"})"
      ]
    },
    {
      "cell_type": "markdown",
      "source": [
        "# Pandas"
      ],
      "metadata": {
        "id": "qpFll5xw3Mvq"
      },
      "id": "qpFll5xw3Mvq"
    },
    {
      "cell_type": "code",
      "source": [
        "import pandas as pd\n",
        "import numpy as np\n",
        "from deltalake.writer import write_deltalake\n",
        "def Pandas_clean_csv(chunk):\n",
        "     appended_data = []\n",
        "     for filename in chunk:\n",
        "      df = pd.read_csv(filename,skiprows=1,dtype=str, names=range(131))\n",
        "      ################ Extract scada Table\n",
        "      df = df.iloc[:, : 53]\n",
        "      df.columns = df.iloc[0]\n",
        "      df = df[1:]\n",
        "      df_unit=df.query('DISPATCH==\"DUNIT\"')\n",
        "      df_unit = df_unit.rename(columns={'1': 'version'})\n",
        "      df_unit = df_unit.query('version==\"3\"')\n",
        "      df_unit.columns = df_unit.iloc[0]\n",
        "      df_unit = df_unit[1:]\n",
        "      df_unit = df_unit.rename(columns={'3': 'version'})\n",
        "      df_unit = df_unit.loc[:, df_unit.columns.notnull()]\n",
        "      df_unit.drop(columns=['I'],inplace=True)\n",
        "      df_unit.rename(columns={'DUNIT': 'UNIT'}, inplace=True)\n",
        "      df_unit['SETTLEMENTDATE']=pd.to_datetime(df_unit['SETTLEMENTDATE'])\n",
        "      columns = list(set(df_unit.columns) - {'SETTLEMENTDATE','DUID','UNIT'})\n",
        "      df_unit[columns] = df_unit[columns].apply(pd.to_numeric, errors='coerce', axis=1)\n",
        "      df_unit['YEAR']=df_unit['SETTLEMENTDATE'].dt.year\n",
        "      appended_data.append(df_unit)\n",
        "     appended_data = pd.concat(appended_data,ignore_index=True)\n",
        "     return appended_data"
      ],
      "metadata": {
        "id": "7USg9dd-1ivc"
      },
      "id": "7USg9dd-1ivc",
      "execution_count": 15,
      "outputs": []
    },
    {
      "cell_type": "markdown",
      "source": [
        "# Clean CSV"
      ],
      "metadata": {
        "id": "QjvU3_McjZaj"
      },
      "id": "QjvU3_McjZaj"
    },
    {
      "cell_type": "code",
      "source": [
        "import glob,os\n",
        "Source = raw_landing+\"/csv/\"\n",
        "list_files=[os.path.basename(x) for x in glob.glob(Source+'*.CSV')]\n",
        "files_to_upload_full_Path = [Source + i for i in list_files]"
      ],
      "metadata": {
        "id": "XbFAUqD5viGT"
      },
      "id": "XbFAUqD5viGT",
      "execution_count": 9,
      "outputs": []
    },
    {
      "cell_type": "code",
      "source": [
        "chunk_len = 10"
      ],
      "metadata": {
        "id": "fvIrc1Qs3idS"
      },
      "id": "fvIrc1Qs3idS",
      "execution_count": 17,
      "outputs": []
    },
    {
      "cell_type": "code",
      "source": [
        "import time\n",
        "if len(files_to_upload_full_Path) >0 :\n",
        "  for i in range(0, len(files_to_upload_full_Path), chunk_len):\n",
        "    chunk = files_to_upload_full_Path[i:i + chunk_len]\n",
        "    ##########################\n",
        "    start = time.time()\n",
        "    write_deltalake(\"/lakehouse/default/Tables/scada_duckdb\",duckdb_clean_csv(chunk),mode=\"append\",partition_by=['YEAR'],storage_options={\"allow_unsafe_rename\":\"true\"})\n",
        "    print('DuckDB :' + str(time.time()-start))\n",
        "    ##########################\n",
        "    start = time.time()\n",
        "    polars_clean_csv(chunk)\n",
        "    print('Polars :' + str(time.time()-start))\n",
        "    #########################\n",
        "    start = time.time()\n",
        "    write_deltalake(\"/lakehouse/default/Tables/scada_Pandas\",Pandas_clean_csv(chunk), mode=\"append\", partition_by=['YEAR'],storage_options={\"allow_unsafe_rename\":\"true\"})\n",
        "    print('Pandas :' + str(time.time()-start))"
      ],
      "metadata": {
        "colab": {
          "base_uri": "https://localhost:8080/",
          "height": 535,
          "referenced_widgets": [
            "ad63da72180046b28186e1b32793e84b",
            "52ad07ae348e46fb9d83962c883e6625",
            "f8ebb9e9706d4b4c83e80e0769f385d1",
            "fd42c64546a143d6ba99fb19c962b9d4",
            "fb1e63a163684a0abdaf1867a05a8f66",
            "f8015f478e7f4c5e8f88d09afe808178",
            "e620b9e11b75498c8193ef104b18d480",
            "73c6421dc50a46f3bc536bc7fdc94c73",
            "1b595f6134604d3f83e2579c4526c873",
            "3c123f95f00a423388c272dc99910a7b",
            "e30ffd8f61154ed2919f1c6e9d3c8bc0",
            "b37ca72dcb68434bb076102e1f5eb293",
            "0e104ec96f3146a9b3e30a9237c2c203",
            "283cc9acbf694c178bb1940d4bdc1df4",
            "8f184628eaf749a6bc596388628697b4",
            "433130368a044360ad2dfe5de17f2ea6",
            "42fb632e12c944ecb1d8db52ad591d6b",
            "93e9ccfd1df14733b8aaa7fb906795b7"
          ]
        },
        "id": "0wGqoODBH2ZR",
        "outputId": "04a4bbdc-a9a4-469c-9be5-2ec7ac967851"
      },
      "id": "0wGqoODBH2ZR",
      "execution_count": 19,
      "outputs": [
        {
          "output_type": "display_data",
          "data": {
            "text/plain": [
              "FloatProgress(value=0.0, layout=Layout(width='auto'), style=ProgressStyle(bar_color='black'))"
            ],
            "application/vnd.jupyter.widget-view+json": {
              "version_major": 2,
              "version_minor": 0,
              "model_id": "ad63da72180046b28186e1b32793e84b"
            }
          },
          "metadata": {}
        },
        {
          "output_type": "stream",
          "name": "stdout",
          "text": [
            "DuckDB :13.298428773880005\n",
            "Polars :41.06250596046448\n",
            "Pandas :300.45420718193054\n"
          ]
        },
        {
          "output_type": "display_data",
          "data": {
            "text/plain": [
              "FloatProgress(value=0.0, layout=Layout(width='auto'), style=ProgressStyle(bar_color='black'))"
            ],
            "application/vnd.jupyter.widget-view+json": {
              "version_major": 2,
              "version_minor": 0,
              "model_id": "fd42c64546a143d6ba99fb19c962b9d4"
            }
          },
          "metadata": {}
        },
        {
          "output_type": "stream",
          "name": "stdout",
          "text": [
            "DuckDB :13.853954315185547\n",
            "Polars :42.27518129348755\n",
            "Pandas :296.56626749038696\n"
          ]
        },
        {
          "output_type": "display_data",
          "data": {
            "text/plain": [
              "FloatProgress(value=0.0, layout=Layout(width='auto'), style=ProgressStyle(bar_color='black'))"
            ],
            "application/vnd.jupyter.widget-view+json": {
              "version_major": 2,
              "version_minor": 0,
              "model_id": "e620b9e11b75498c8193ef104b18d480"
            }
          },
          "metadata": {}
        },
        {
          "output_type": "stream",
          "name": "stdout",
          "text": [
            "DuckDB :14.008632183074951\n",
            "Polars :42.28615593910217\n",
            "Pandas :281.26796317100525\n"
          ]
        },
        {
          "output_type": "display_data",
          "data": {
            "text/plain": [
              "FloatProgress(value=0.0, layout=Layout(width='auto'), style=ProgressStyle(bar_color='black'))"
            ],
            "application/vnd.jupyter.widget-view+json": {
              "version_major": 2,
              "version_minor": 0,
              "model_id": "3c123f95f00a423388c272dc99910a7b"
            }
          },
          "metadata": {}
        },
        {
          "output_type": "stream",
          "name": "stdout",
          "text": [
            "DuckDB :14.527827024459839\n",
            "Polars :44.70424270629883\n",
            "Pandas :281.2597029209137\n"
          ]
        },
        {
          "output_type": "display_data",
          "data": {
            "text/plain": [
              "FloatProgress(value=0.0, layout=Layout(width='auto'), style=ProgressStyle(bar_color='black'))"
            ],
            "application/vnd.jupyter.widget-view+json": {
              "version_major": 2,
              "version_minor": 0,
              "model_id": "0e104ec96f3146a9b3e30a9237c2c203"
            }
          },
          "metadata": {}
        },
        {
          "output_type": "stream",
          "name": "stdout",
          "text": [
            "DuckDB :14.518536567687988\n",
            "Polars :42.616496562957764\n",
            "Pandas :289.5038640499115\n"
          ]
        },
        {
          "output_type": "display_data",
          "data": {
            "text/plain": [
              "FloatProgress(value=0.0, layout=Layout(width='auto'), style=ProgressStyle(bar_color='black'))"
            ],
            "application/vnd.jupyter.widget-view+json": {
              "version_major": 2,
              "version_minor": 0,
              "model_id": "433130368a044360ad2dfe5de17f2ea6"
            }
          },
          "metadata": {}
        },
        {
          "output_type": "stream",
          "name": "stdout",
          "text": [
            "DuckDB :14.587664127349854\n",
            "Polars :41.090184688568115\n",
            "Pandas :281.794949054718\n"
          ]
        }
      ]
    }
  ],
  "metadata": {
    "colab": {
      "provenance": [],
      "collapsed_sections": [
        "ee4d52d4-761a-4e7b-993b-0889fda74a94",
        "8LbA_eCFM-Zl",
        "sBkDAT9PhxIx",
        "qpFll5xw3Mvq"
      ]
    },
    "kernel_info": {
      "name": "synapse_pyspark"
    },
    "kernelspec": {
      "display_name": "Python 3",
      "language": "python",
      "name": "python3"
    },
    "language_info": {
      "codemirror_mode": {
        "name": "ipython",
        "version": 3
      },
      "file_extension": ".py",
      "mimetype": "text/x-python",
      "name": "python",
      "nbconvert_exporter": "python",
      "pygments_lexer": "ipython3",
      "version": "3.11.8"
    },
    "microsoft": {
      "language": "python",
      "ms_spell_check": {
        "ms_spell_check_language": "en"
      }
    },
    "notebook_environment": {},
    "nteract": {
      "version": "nteract-front-end@1.0.0"
    },
    "save_output": true,
    "spark_compute": {
      "compute_id": "/trident/default",
      "session_options": {
        "conf": {},
        "enableDebugMode": false
      }
    },
    "synapse_widget": {
      "state": {},
      "version": "0.1"
    },
    "trident": {
      "environment": {},
      "lakehouse": {
        "default_lakehouse": "24cb43a5-14e6-4971-80fd-1a42c0dcff1e",
        "default_lakehouse_name": "xxxx",
        "default_lakehouse_workspace_id": "16a10841-ac8e-49da-912e-bb1a4f38e274"
      }
    },
    "widgets": {
      "application/vnd.jupyter.widget-state+json": {
        "ad63da72180046b28186e1b32793e84b": {
          "model_module": "@jupyter-widgets/controls",
          "model_name": "FloatProgressModel",
          "model_module_version": "1.5.0",
          "state": {
            "_dom_classes": [],
            "_model_module": "@jupyter-widgets/controls",
            "_model_module_version": "1.5.0",
            "_model_name": "FloatProgressModel",
            "_view_count": null,
            "_view_module": "@jupyter-widgets/controls",
            "_view_module_version": "1.5.0",
            "_view_name": "ProgressView",
            "bar_style": "",
            "description": "",
            "description_tooltip": null,
            "layout": "IPY_MODEL_52ad07ae348e46fb9d83962c883e6625",
            "max": 100,
            "min": 0,
            "orientation": "horizontal",
            "style": "IPY_MODEL_f8ebb9e9706d4b4c83e80e0769f385d1",
            "value": 100
          }
        },
        "52ad07ae348e46fb9d83962c883e6625": {
          "model_module": "@jupyter-widgets/base",
          "model_name": "LayoutModel",
          "model_module_version": "1.2.0",
          "state": {
            "_model_module": "@jupyter-widgets/base",
            "_model_module_version": "1.2.0",
            "_model_name": "LayoutModel",
            "_view_count": null,
            "_view_module": "@jupyter-widgets/base",
            "_view_module_version": "1.2.0",
            "_view_name": "LayoutView",
            "align_content": null,
            "align_items": null,
            "align_self": null,
            "border": null,
            "bottom": null,
            "display": null,
            "flex": null,
            "flex_flow": null,
            "grid_area": null,
            "grid_auto_columns": null,
            "grid_auto_flow": null,
            "grid_auto_rows": null,
            "grid_column": null,
            "grid_gap": null,
            "grid_row": null,
            "grid_template_areas": null,
            "grid_template_columns": null,
            "grid_template_rows": null,
            "height": null,
            "justify_content": null,
            "justify_items": null,
            "left": null,
            "margin": null,
            "max_height": null,
            "max_width": null,
            "min_height": null,
            "min_width": null,
            "object_fit": null,
            "object_position": null,
            "order": null,
            "overflow": null,
            "overflow_x": null,
            "overflow_y": null,
            "padding": null,
            "right": null,
            "top": null,
            "visibility": null,
            "width": "auto"
          }
        },
        "f8ebb9e9706d4b4c83e80e0769f385d1": {
          "model_module": "@jupyter-widgets/controls",
          "model_name": "ProgressStyleModel",
          "model_module_version": "1.5.0",
          "state": {
            "_model_module": "@jupyter-widgets/controls",
            "_model_module_version": "1.5.0",
            "_model_name": "ProgressStyleModel",
            "_view_count": null,
            "_view_module": "@jupyter-widgets/base",
            "_view_module_version": "1.2.0",
            "_view_name": "StyleView",
            "bar_color": "black",
            "description_width": ""
          }
        },
        "fd42c64546a143d6ba99fb19c962b9d4": {
          "model_module": "@jupyter-widgets/controls",
          "model_name": "FloatProgressModel",
          "model_module_version": "1.5.0",
          "state": {
            "_dom_classes": [],
            "_model_module": "@jupyter-widgets/controls",
            "_model_module_version": "1.5.0",
            "_model_name": "FloatProgressModel",
            "_view_count": null,
            "_view_module": "@jupyter-widgets/controls",
            "_view_module_version": "1.5.0",
            "_view_name": "ProgressView",
            "bar_style": "",
            "description": "",
            "description_tooltip": null,
            "layout": "IPY_MODEL_fb1e63a163684a0abdaf1867a05a8f66",
            "max": 100,
            "min": 0,
            "orientation": "horizontal",
            "style": "IPY_MODEL_f8015f478e7f4c5e8f88d09afe808178",
            "value": 100
          }
        },
        "fb1e63a163684a0abdaf1867a05a8f66": {
          "model_module": "@jupyter-widgets/base",
          "model_name": "LayoutModel",
          "model_module_version": "1.2.0",
          "state": {
            "_model_module": "@jupyter-widgets/base",
            "_model_module_version": "1.2.0",
            "_model_name": "LayoutModel",
            "_view_count": null,
            "_view_module": "@jupyter-widgets/base",
            "_view_module_version": "1.2.0",
            "_view_name": "LayoutView",
            "align_content": null,
            "align_items": null,
            "align_self": null,
            "border": null,
            "bottom": null,
            "display": null,
            "flex": null,
            "flex_flow": null,
            "grid_area": null,
            "grid_auto_columns": null,
            "grid_auto_flow": null,
            "grid_auto_rows": null,
            "grid_column": null,
            "grid_gap": null,
            "grid_row": null,
            "grid_template_areas": null,
            "grid_template_columns": null,
            "grid_template_rows": null,
            "height": null,
            "justify_content": null,
            "justify_items": null,
            "left": null,
            "margin": null,
            "max_height": null,
            "max_width": null,
            "min_height": null,
            "min_width": null,
            "object_fit": null,
            "object_position": null,
            "order": null,
            "overflow": null,
            "overflow_x": null,
            "overflow_y": null,
            "padding": null,
            "right": null,
            "top": null,
            "visibility": null,
            "width": "auto"
          }
        },
        "f8015f478e7f4c5e8f88d09afe808178": {
          "model_module": "@jupyter-widgets/controls",
          "model_name": "ProgressStyleModel",
          "model_module_version": "1.5.0",
          "state": {
            "_model_module": "@jupyter-widgets/controls",
            "_model_module_version": "1.5.0",
            "_model_name": "ProgressStyleModel",
            "_view_count": null,
            "_view_module": "@jupyter-widgets/base",
            "_view_module_version": "1.2.0",
            "_view_name": "StyleView",
            "bar_color": "black",
            "description_width": ""
          }
        },
        "e620b9e11b75498c8193ef104b18d480": {
          "model_module": "@jupyter-widgets/controls",
          "model_name": "FloatProgressModel",
          "model_module_version": "1.5.0",
          "state": {
            "_dom_classes": [],
            "_model_module": "@jupyter-widgets/controls",
            "_model_module_version": "1.5.0",
            "_model_name": "FloatProgressModel",
            "_view_count": null,
            "_view_module": "@jupyter-widgets/controls",
            "_view_module_version": "1.5.0",
            "_view_name": "ProgressView",
            "bar_style": "",
            "description": "",
            "description_tooltip": null,
            "layout": "IPY_MODEL_73c6421dc50a46f3bc536bc7fdc94c73",
            "max": 100,
            "min": 0,
            "orientation": "horizontal",
            "style": "IPY_MODEL_1b595f6134604d3f83e2579c4526c873",
            "value": 100
          }
        },
        "73c6421dc50a46f3bc536bc7fdc94c73": {
          "model_module": "@jupyter-widgets/base",
          "model_name": "LayoutModel",
          "model_module_version": "1.2.0",
          "state": {
            "_model_module": "@jupyter-widgets/base",
            "_model_module_version": "1.2.0",
            "_model_name": "LayoutModel",
            "_view_count": null,
            "_view_module": "@jupyter-widgets/base",
            "_view_module_version": "1.2.0",
            "_view_name": "LayoutView",
            "align_content": null,
            "align_items": null,
            "align_self": null,
            "border": null,
            "bottom": null,
            "display": null,
            "flex": null,
            "flex_flow": null,
            "grid_area": null,
            "grid_auto_columns": null,
            "grid_auto_flow": null,
            "grid_auto_rows": null,
            "grid_column": null,
            "grid_gap": null,
            "grid_row": null,
            "grid_template_areas": null,
            "grid_template_columns": null,
            "grid_template_rows": null,
            "height": null,
            "justify_content": null,
            "justify_items": null,
            "left": null,
            "margin": null,
            "max_height": null,
            "max_width": null,
            "min_height": null,
            "min_width": null,
            "object_fit": null,
            "object_position": null,
            "order": null,
            "overflow": null,
            "overflow_x": null,
            "overflow_y": null,
            "padding": null,
            "right": null,
            "top": null,
            "visibility": null,
            "width": "auto"
          }
        },
        "1b595f6134604d3f83e2579c4526c873": {
          "model_module": "@jupyter-widgets/controls",
          "model_name": "ProgressStyleModel",
          "model_module_version": "1.5.0",
          "state": {
            "_model_module": "@jupyter-widgets/controls",
            "_model_module_version": "1.5.0",
            "_model_name": "ProgressStyleModel",
            "_view_count": null,
            "_view_module": "@jupyter-widgets/base",
            "_view_module_version": "1.2.0",
            "_view_name": "StyleView",
            "bar_color": "black",
            "description_width": ""
          }
        },
        "3c123f95f00a423388c272dc99910a7b": {
          "model_module": "@jupyter-widgets/controls",
          "model_name": "FloatProgressModel",
          "model_module_version": "1.5.0",
          "state": {
            "_dom_classes": [],
            "_model_module": "@jupyter-widgets/controls",
            "_model_module_version": "1.5.0",
            "_model_name": "FloatProgressModel",
            "_view_count": null,
            "_view_module": "@jupyter-widgets/controls",
            "_view_module_version": "1.5.0",
            "_view_name": "ProgressView",
            "bar_style": "",
            "description": "",
            "description_tooltip": null,
            "layout": "IPY_MODEL_e30ffd8f61154ed2919f1c6e9d3c8bc0",
            "max": 100,
            "min": 0,
            "orientation": "horizontal",
            "style": "IPY_MODEL_b37ca72dcb68434bb076102e1f5eb293",
            "value": 100
          }
        },
        "e30ffd8f61154ed2919f1c6e9d3c8bc0": {
          "model_module": "@jupyter-widgets/base",
          "model_name": "LayoutModel",
          "model_module_version": "1.2.0",
          "state": {
            "_model_module": "@jupyter-widgets/base",
            "_model_module_version": "1.2.0",
            "_model_name": "LayoutModel",
            "_view_count": null,
            "_view_module": "@jupyter-widgets/base",
            "_view_module_version": "1.2.0",
            "_view_name": "LayoutView",
            "align_content": null,
            "align_items": null,
            "align_self": null,
            "border": null,
            "bottom": null,
            "display": null,
            "flex": null,
            "flex_flow": null,
            "grid_area": null,
            "grid_auto_columns": null,
            "grid_auto_flow": null,
            "grid_auto_rows": null,
            "grid_column": null,
            "grid_gap": null,
            "grid_row": null,
            "grid_template_areas": null,
            "grid_template_columns": null,
            "grid_template_rows": null,
            "height": null,
            "justify_content": null,
            "justify_items": null,
            "left": null,
            "margin": null,
            "max_height": null,
            "max_width": null,
            "min_height": null,
            "min_width": null,
            "object_fit": null,
            "object_position": null,
            "order": null,
            "overflow": null,
            "overflow_x": null,
            "overflow_y": null,
            "padding": null,
            "right": null,
            "top": null,
            "visibility": null,
            "width": "auto"
          }
        },
        "b37ca72dcb68434bb076102e1f5eb293": {
          "model_module": "@jupyter-widgets/controls",
          "model_name": "ProgressStyleModel",
          "model_module_version": "1.5.0",
          "state": {
            "_model_module": "@jupyter-widgets/controls",
            "_model_module_version": "1.5.0",
            "_model_name": "ProgressStyleModel",
            "_view_count": null,
            "_view_module": "@jupyter-widgets/base",
            "_view_module_version": "1.2.0",
            "_view_name": "StyleView",
            "bar_color": "black",
            "description_width": ""
          }
        },
        "0e104ec96f3146a9b3e30a9237c2c203": {
          "model_module": "@jupyter-widgets/controls",
          "model_name": "FloatProgressModel",
          "model_module_version": "1.5.0",
          "state": {
            "_dom_classes": [],
            "_model_module": "@jupyter-widgets/controls",
            "_model_module_version": "1.5.0",
            "_model_name": "FloatProgressModel",
            "_view_count": null,
            "_view_module": "@jupyter-widgets/controls",
            "_view_module_version": "1.5.0",
            "_view_name": "ProgressView",
            "bar_style": "",
            "description": "",
            "description_tooltip": null,
            "layout": "IPY_MODEL_283cc9acbf694c178bb1940d4bdc1df4",
            "max": 100,
            "min": 0,
            "orientation": "horizontal",
            "style": "IPY_MODEL_8f184628eaf749a6bc596388628697b4",
            "value": 100
          }
        },
        "283cc9acbf694c178bb1940d4bdc1df4": {
          "model_module": "@jupyter-widgets/base",
          "model_name": "LayoutModel",
          "model_module_version": "1.2.0",
          "state": {
            "_model_module": "@jupyter-widgets/base",
            "_model_module_version": "1.2.0",
            "_model_name": "LayoutModel",
            "_view_count": null,
            "_view_module": "@jupyter-widgets/base",
            "_view_module_version": "1.2.0",
            "_view_name": "LayoutView",
            "align_content": null,
            "align_items": null,
            "align_self": null,
            "border": null,
            "bottom": null,
            "display": null,
            "flex": null,
            "flex_flow": null,
            "grid_area": null,
            "grid_auto_columns": null,
            "grid_auto_flow": null,
            "grid_auto_rows": null,
            "grid_column": null,
            "grid_gap": null,
            "grid_row": null,
            "grid_template_areas": null,
            "grid_template_columns": null,
            "grid_template_rows": null,
            "height": null,
            "justify_content": null,
            "justify_items": null,
            "left": null,
            "margin": null,
            "max_height": null,
            "max_width": null,
            "min_height": null,
            "min_width": null,
            "object_fit": null,
            "object_position": null,
            "order": null,
            "overflow": null,
            "overflow_x": null,
            "overflow_y": null,
            "padding": null,
            "right": null,
            "top": null,
            "visibility": null,
            "width": "auto"
          }
        },
        "8f184628eaf749a6bc596388628697b4": {
          "model_module": "@jupyter-widgets/controls",
          "model_name": "ProgressStyleModel",
          "model_module_version": "1.5.0",
          "state": {
            "_model_module": "@jupyter-widgets/controls",
            "_model_module_version": "1.5.0",
            "_model_name": "ProgressStyleModel",
            "_view_count": null,
            "_view_module": "@jupyter-widgets/base",
            "_view_module_version": "1.2.0",
            "_view_name": "StyleView",
            "bar_color": "black",
            "description_width": ""
          }
        },
        "433130368a044360ad2dfe5de17f2ea6": {
          "model_module": "@jupyter-widgets/controls",
          "model_name": "FloatProgressModel",
          "model_module_version": "1.5.0",
          "state": {
            "_dom_classes": [],
            "_model_module": "@jupyter-widgets/controls",
            "_model_module_version": "1.5.0",
            "_model_name": "FloatProgressModel",
            "_view_count": null,
            "_view_module": "@jupyter-widgets/controls",
            "_view_module_version": "1.5.0",
            "_view_name": "ProgressView",
            "bar_style": "",
            "description": "",
            "description_tooltip": null,
            "layout": "IPY_MODEL_42fb632e12c944ecb1d8db52ad591d6b",
            "max": 100,
            "min": 0,
            "orientation": "horizontal",
            "style": "IPY_MODEL_93e9ccfd1df14733b8aaa7fb906795b7",
            "value": 100
          }
        },
        "42fb632e12c944ecb1d8db52ad591d6b": {
          "model_module": "@jupyter-widgets/base",
          "model_name": "LayoutModel",
          "model_module_version": "1.2.0",
          "state": {
            "_model_module": "@jupyter-widgets/base",
            "_model_module_version": "1.2.0",
            "_model_name": "LayoutModel",
            "_view_count": null,
            "_view_module": "@jupyter-widgets/base",
            "_view_module_version": "1.2.0",
            "_view_name": "LayoutView",
            "align_content": null,
            "align_items": null,
            "align_self": null,
            "border": null,
            "bottom": null,
            "display": null,
            "flex": null,
            "flex_flow": null,
            "grid_area": null,
            "grid_auto_columns": null,
            "grid_auto_flow": null,
            "grid_auto_rows": null,
            "grid_column": null,
            "grid_gap": null,
            "grid_row": null,
            "grid_template_areas": null,
            "grid_template_columns": null,
            "grid_template_rows": null,
            "height": null,
            "justify_content": null,
            "justify_items": null,
            "left": null,
            "margin": null,
            "max_height": null,
            "max_width": null,
            "min_height": null,
            "min_width": null,
            "object_fit": null,
            "object_position": null,
            "order": null,
            "overflow": null,
            "overflow_x": null,
            "overflow_y": null,
            "padding": null,
            "right": null,
            "top": null,
            "visibility": null,
            "width": "auto"
          }
        },
        "93e9ccfd1df14733b8aaa7fb906795b7": {
          "model_module": "@jupyter-widgets/controls",
          "model_name": "ProgressStyleModel",
          "model_module_version": "1.5.0",
          "state": {
            "_model_module": "@jupyter-widgets/controls",
            "_model_module_version": "1.5.0",
            "_model_name": "ProgressStyleModel",
            "_view_count": null,
            "_view_module": "@jupyter-widgets/base",
            "_view_module_version": "1.2.0",
            "_view_name": "StyleView",
            "bar_color": "black",
            "description_width": ""
          }
        }
      }
    }
  },
  "nbformat": 4,
  "nbformat_minor": 5
}